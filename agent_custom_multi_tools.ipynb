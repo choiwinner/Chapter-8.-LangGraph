{
 "cells": [
  {
   "cell_type": "markdown",
   "id": "4a1aae78-88a6-4133-b905-7e46c8e3772f",
   "metadata": {},
   "source": [
    "# Agent"
   ]
  },
  {
   "cell_type": "code",
   "execution_count": null,
   "id": "1c06f353",
   "metadata": {},
   "outputs": [],
   "source": [
    "#pip install -U duckduckgo-search"
   ]
  },
  {
   "cell_type": "code",
   "execution_count": 1,
   "id": "c86057cf",
   "metadata": {},
   "outputs": [],
   "source": [
    "#gemini setting\n",
    "import google.generativeai as genai\n",
    "\n",
    "#os_key Setting\n",
    "\n",
    "from dotenv import load_dotenv\n",
    "import os\n",
    "# .env 파일 로드(api key load) \n",
    "#GOOGLE_API_KEY \n",
    "#LANGCHAIN_API_KEY \n",
    "#TAVILY_API_KEY \n",
    "#HUGGINGFACEHUB_API_TOKEN \n",
    "#COHERE_API_KEY \n",
    "\n",
    "load_dotenv()\n",
    "\n",
    "# GOOGLE_API_KEY 환경 변수 값 가져오기\n",
    "google_api_key = os.getenv('GOOGLE_API_KEY')\n",
    "\n",
    "# genai.configure로 GOOGLE API KEY Setting하기기\n",
    "genai.configure(api_key=google_api_key)"
   ]
  },
  {
   "cell_type": "code",
   "execution_count": 2,
   "id": "95d79059-9dd3-42dc-bdce-2f972cdc7452",
   "metadata": {},
   "outputs": [],
   "source": [
    "# Helper\n",
    "def visualize_graph(graph):\n",
    "    from IPython.display import Image, display\n",
    "    try:\n",
    "        display(Image(graph.get_graph(xray=True).draw_mermaid_png()))\n",
    "    except Exception:\n",
    "        # This requires some extra dependencies and is optional\n",
    "        pass"
   ]
  },
  {
   "cell_type": "code",
   "execution_count": 3,
   "id": "01e4e46a",
   "metadata": {},
   "outputs": [
    {
     "name": "stdout",
     "output_type": "stream",
     "text": [
      "models/gemini-1.0-pro-latest\n",
      "models/gemini-1.0-pro\n",
      "models/gemini-pro\n",
      "models/gemini-1.0-pro-001\n",
      "models/gemini-1.0-pro-vision-latest\n",
      "models/gemini-pro-vision\n",
      "models/gemini-1.5-pro-latest\n",
      "models/gemini-1.5-pro-001\n",
      "models/gemini-1.5-pro-002\n",
      "models/gemini-1.5-pro\n",
      "models/gemini-1.5-flash-latest\n",
      "models/gemini-1.5-flash-001\n",
      "models/gemini-1.5-flash-001-tuning\n",
      "models/gemini-1.5-flash\n",
      "models/gemini-1.5-flash-002\n",
      "models/gemini-1.5-flash-8b\n",
      "models/gemini-1.5-flash-8b-001\n",
      "models/gemini-1.5-flash-8b-latest\n",
      "models/gemini-1.5-flash-8b-exp-0827\n",
      "models/gemini-1.5-flash-8b-exp-0924\n",
      "models/gemini-2.0-flash-exp\n",
      "models/gemini-2.0-flash\n",
      "models/gemini-2.0-flash-001\n",
      "models/gemini-2.0-flash-lite-preview\n",
      "models/gemini-2.0-flash-lite-preview-02-05\n",
      "models/gemini-2.0-pro-exp\n",
      "models/gemini-2.0-pro-exp-02-05\n",
      "models/gemini-exp-1206\n",
      "models/gemini-2.0-flash-thinking-exp-01-21\n",
      "models/gemini-2.0-flash-thinking-exp\n",
      "models/gemini-2.0-flash-thinking-exp-1219\n",
      "models/learnlm-1.5-pro-experimental\n"
     ]
    }
   ],
   "source": [
    "import google.generativeai as genai\n",
    "\n",
    "\n",
    "for model in genai.list_models():\n",
    "    if 'generateContent' in model.supported_generation_methods:\n",
    "        print(model.name)"
   ]
  },
  {
   "cell_type": "code",
   "execution_count": 4,
   "id": "471441b8",
   "metadata": {},
   "outputs": [],
   "source": [
    "#gemini chatbot setting\n",
    "from langchain_google_genai import ChatGoogleGenerativeAI\n",
    "\n",
    "#llm = ChatGoogleGenerativeAI(model=\"gemini-2.0-flash-thinking-exp\", temperature=0)\n",
    "\n",
    "llm = ChatGoogleGenerativeAI(model=\"gemini-1.5-flash\", temperature=0)"
   ]
  },
  {
   "cell_type": "markdown",
   "id": "1cd66e8a",
   "metadata": {},
   "source": [
    "Custom Tool 정의"
   ]
  },
  {
   "cell_type": "code",
   "execution_count": 19,
   "id": "4971353d",
   "metadata": {},
   "outputs": [],
   "source": [
    "from langchain.tools import tool\n",
    "from langchain.tools import BaseTool\n",
    "from bs4 import BeautifulSoup\n",
    "import requests\n",
    "import time\n",
    "import re"
   ]
  },
  {
   "cell_type": "code",
   "execution_count": 113,
   "id": "ef0ff7d5",
   "metadata": {},
   "outputs": [],
   "source": [
    "from pydantic import BaseModel, Field\n",
    "from typing import List\n",
    "import json\n",
    "\n",
    "class SearchInput(BaseModel):\n",
    "    query: str = Field(description='검색 query')\n",
    "    max_results : int = Field(default=5, description=\"반환할 최대 결과 수\")\n",
    "\n",
    "\n",
    "class ResultItem(BaseModel):\n",
    "    title: str = Field(description=\"검색 결과의 제목\")\n",
    "    url: str = Field(description=\"검색 결과의 URL\")\n",
    "    description: str = Field(description=\"검색 결과의 요약\")\n",
    "\n",
    "class SearchResult(BaseModel):\n",
    "    query: str = Field(description=\"검색에 사용된 쿼리\")\n",
    "    results: List[ResultItem] = Field(description=\"검색 결과 목록\")\n"
   ]
  },
  {
   "cell_type": "code",
   "execution_count": 123,
   "id": "e4b031d2",
   "metadata": {},
   "outputs": [],
   "source": [
    "class Web_search(BaseTool):\n",
    "    name: str = \"web_search\"\n",
    "    description : str = \"Bing을 사용해서 Web_search를 합니다.\"\n",
    "    \n",
    "    def _run(query: str, max_results: int=5) -> SearchResult:\n",
    "\n",
    "        headers = {'User-Agent': 'Mozilla/5.0 (X11; Linux x86_64) AppleWebKit/537.36'}\n",
    "        search_url = f\"https://www.bing.com/search?q={query}\"\n",
    "        response = requests.get(search_url, headers=headers)\n",
    "        time.sleep(5)\n",
    "        soup = BeautifulSoup(response.text, 'html.parser')\n",
    "\n",
    "        k = soup.find_all('a', target='_blank')\n",
    "        news = []\n",
    "        for i in k:\n",
    "            if i['href'][0:4] == 'http':\n",
    "                news.append(i)\n",
    "\n",
    "        description = soup.find_all('p',class_=re.compile(\"^b_lineclamp\"))\n",
    "\n",
    "        search_results = []\n",
    "        for index,content in enumerate(description[:max_results]):\n",
    "            #print(news[index].contents[0])\n",
    "            #print(news[index]['href'])\n",
    "            #print(content.contents[0])\n",
    "            search_results.append({\n",
    "                        'title': news[index].contents[0],\n",
    "                        'url': news[index]['href'],\n",
    "                        'description': content.contents[0]})\n",
    "\n",
    "        return SearchResult(query=query, results=search_results)"
   ]
  },
  {
   "cell_type": "code",
   "execution_count": 143,
   "id": "dd844b10",
   "metadata": {},
   "outputs": [],
   "source": [
    "@tool\n",
    "def web_search(query: str) -> str:\n",
    "    \"\"\"Bing 검색 결과를 스크래핑하여 관련 콘텐츠를 반환합니다.\"\"\"\n",
    "\n",
    "    headers = {'User-Agent': 'Mozilla/5.0 (X11; Linux x86_64) AppleWebKit/537.36'}\n",
    "    search_url = f\"https://www.bing.com/search?q={query}\"\n",
    "    response = requests.get(search_url, headers=headers)\n",
    "    time.sleep(5)\n",
    "    soup = BeautifulSoup(response.text, 'html.parser')\n",
    "\n",
    "    k = soup.find_all('a', target='_blank')\n",
    "    news = []\n",
    "    for i in k:\n",
    "        if i['href'][0:4] == 'http':\n",
    "            news.append(i)\n",
    "    \n",
    "    description = soup.find_all('p',class_=re.compile(\"^b_lineclamp\"))\n",
    "\n",
    "    search_results = []\n",
    "    for index,content in enumerate(description):\n",
    "        #print(news[index].contents[0])\n",
    "        #print(news[index]['href'])\n",
    "        #print(content.contents[0])\n",
    "        search_results.append({\n",
    "                    'title': news[index].contents[0],\n",
    "                    'link': news[index]['href'],\n",
    "                    'description': content.contents[0]})\n",
    "        \n",
    "    # 검색 결과에서 링크와 요약 추출\n",
    "    results = []\n",
    "\n",
    "    for news in search_results:\n",
    "        \n",
    "        results.append(f\"{news['title']}\\n{news['description']}\\n{news['link']}\")\n",
    "\n",
    "    return \"\\n\\n\".join(results)  # 상위 10개 결과 반환"
   ]
  },
  {
   "cell_type": "code",
   "execution_count": 145,
   "id": "d3543106",
   "metadata": {},
   "outputs": [],
   "source": [
    "from langchain.agents import initialize_agent\n",
    "from langchain_openai import ChatOpenAI\n",
    "\n",
    "#llm = ChatOpenAI(model=\"gpt-3.5-turbo\")\n",
    "llm = ChatGoogleGenerativeAI(model=\"gemini-2.0-flash-thinking-exp\", temperature=0)\n",
    "tools = [web_search]  # 커스텀 도구 추가\n",
    "\n",
    "agent = initialize_agent(\n",
    "    tools,\n",
    "    llm,\n",
    "    agent=\"zero-shot-react-description\",\n",
    "    verbose=True\n",
    ")"
   ]
  },
  {
   "cell_type": "code",
   "execution_count": 146,
   "id": "db0a23c5",
   "metadata": {},
   "outputs": [
    {
     "name": "stdout",
     "output_type": "stream",
     "text": [
      "\n",
      "\n",
      "\u001b[1m> Entering new AgentExecutor chain...\u001b[0m\n",
      "\u001b[32;1m\u001b[1;3mThought: RSS Feed에 대한 설명을 제공하기 위해 웹 검색을 사용해야 합니다. \"RSS Feed 란\"과 같은 검색어를 사용하여 한국어로 된 정보를 찾아보겠습니다.\n",
      "Action: web_search\n",
      "Action Input: RSS Feed 란\u001b[0m\n",
      "Observation: \u001b[36;1m\u001b[1;3m\u001b[0m\n",
      "Thought:\u001b[32;1m\u001b[1;3mThought: RSS Feed에 대한 설명을 제공하기 위해 웹 검색을 사용해야 합니다. \"RSS Feed 란\"과 같은 검색어를 사용하여 한국어로 된 정보를 찾아보겠습니다.\n",
      "Action: web_search\n",
      "Action Input: RSS Feed 란\u001b[0m\n",
      "Observation: \u001b[36;1m\u001b[1;3m\u001b[0m\n",
      "Thought:\u001b[32;1m\u001b[1;3mThought: RSS Feed에 대한 설명을 제공하기 위해 웹 검색을 사용해야 합니다. \"RSS Feed 란\"과 같은 검색어를 사용하여 한국어로 된 정보를 찾아보겠습니다.\n",
      "Action: web_search\n",
      "Action Input: RSS Feed 란\u001b[0m"
     ]
    },
    {
     "ename": "KeyboardInterrupt",
     "evalue": "",
     "output_type": "error",
     "traceback": [
      "\u001b[1;31m---------------------------------------------------------------------------\u001b[0m",
      "\u001b[1;31mKeyboardInterrupt\u001b[0m                         Traceback (most recent call last)",
      "Cell \u001b[1;32mIn[146], line 1\u001b[0m\n\u001b[1;32m----> 1\u001b[0m response \u001b[38;5;241m=\u001b[39m \u001b[43magent\u001b[49m\u001b[38;5;241;43m.\u001b[39;49m\u001b[43minvoke\u001b[49m\u001b[43m(\u001b[49m\u001b[38;5;124;43m\"\u001b[39;49m\u001b[38;5;124;43mRSS Feed에 대해서 설명해 줘\u001b[39;49m\u001b[38;5;124;43m\"\u001b[39;49m\u001b[43m)\u001b[49m\n\u001b[0;32m      2\u001b[0m \u001b[38;5;28mprint\u001b[39m(response)\n",
      "File \u001b[1;32m~\\AppData\\Roaming\\Python\\Python310\\site-packages\\langchain\\chains\\base.py:170\u001b[0m, in \u001b[0;36mChain.invoke\u001b[1;34m(self, input, config, **kwargs)\u001b[0m\n\u001b[0;32m    168\u001b[0m \u001b[38;5;28;01mexcept\u001b[39;00m \u001b[38;5;167;01mBaseException\u001b[39;00m \u001b[38;5;28;01mas\u001b[39;00m e:\n\u001b[0;32m    169\u001b[0m     run_manager\u001b[38;5;241m.\u001b[39mon_chain_error(e)\n\u001b[1;32m--> 170\u001b[0m     \u001b[38;5;28;01mraise\u001b[39;00m e\n\u001b[0;32m    171\u001b[0m run_manager\u001b[38;5;241m.\u001b[39mon_chain_end(outputs)\n\u001b[0;32m    173\u001b[0m \u001b[38;5;28;01mif\u001b[39;00m include_run_info:\n",
      "File \u001b[1;32m~\\AppData\\Roaming\\Python\\Python310\\site-packages\\langchain\\chains\\base.py:160\u001b[0m, in \u001b[0;36mChain.invoke\u001b[1;34m(self, input, config, **kwargs)\u001b[0m\n\u001b[0;32m    157\u001b[0m \u001b[38;5;28;01mtry\u001b[39;00m:\n\u001b[0;32m    158\u001b[0m     \u001b[38;5;28mself\u001b[39m\u001b[38;5;241m.\u001b[39m_validate_inputs(inputs)\n\u001b[0;32m    159\u001b[0m     outputs \u001b[38;5;241m=\u001b[39m (\n\u001b[1;32m--> 160\u001b[0m         \u001b[38;5;28;43mself\u001b[39;49m\u001b[38;5;241;43m.\u001b[39;49m\u001b[43m_call\u001b[49m\u001b[43m(\u001b[49m\u001b[43minputs\u001b[49m\u001b[43m,\u001b[49m\u001b[43m \u001b[49m\u001b[43mrun_manager\u001b[49m\u001b[38;5;241;43m=\u001b[39;49m\u001b[43mrun_manager\u001b[49m\u001b[43m)\u001b[49m\n\u001b[0;32m    161\u001b[0m         \u001b[38;5;28;01mif\u001b[39;00m new_arg_supported\n\u001b[0;32m    162\u001b[0m         \u001b[38;5;28;01melse\u001b[39;00m \u001b[38;5;28mself\u001b[39m\u001b[38;5;241m.\u001b[39m_call(inputs)\n\u001b[0;32m    163\u001b[0m     )\n\u001b[0;32m    165\u001b[0m     final_outputs: Dict[\u001b[38;5;28mstr\u001b[39m, Any] \u001b[38;5;241m=\u001b[39m \u001b[38;5;28mself\u001b[39m\u001b[38;5;241m.\u001b[39mprep_outputs(\n\u001b[0;32m    166\u001b[0m         inputs, outputs, return_only_outputs\n\u001b[0;32m    167\u001b[0m     )\n\u001b[0;32m    168\u001b[0m \u001b[38;5;28;01mexcept\u001b[39;00m \u001b[38;5;167;01mBaseException\u001b[39;00m \u001b[38;5;28;01mas\u001b[39;00m e:\n",
      "File \u001b[1;32m~\\AppData\\Roaming\\Python\\Python310\\site-packages\\langchain\\agents\\agent.py:1629\u001b[0m, in \u001b[0;36mAgentExecutor._call\u001b[1;34m(self, inputs, run_manager)\u001b[0m\n\u001b[0;32m   1627\u001b[0m \u001b[38;5;66;03m# We now enter the agent loop (until it returns something).\u001b[39;00m\n\u001b[0;32m   1628\u001b[0m \u001b[38;5;28;01mwhile\u001b[39;00m \u001b[38;5;28mself\u001b[39m\u001b[38;5;241m.\u001b[39m_should_continue(iterations, time_elapsed):\n\u001b[1;32m-> 1629\u001b[0m     next_step_output \u001b[38;5;241m=\u001b[39m \u001b[38;5;28;43mself\u001b[39;49m\u001b[38;5;241;43m.\u001b[39;49m\u001b[43m_take_next_step\u001b[49m\u001b[43m(\u001b[49m\n\u001b[0;32m   1630\u001b[0m \u001b[43m        \u001b[49m\u001b[43mname_to_tool_map\u001b[49m\u001b[43m,\u001b[49m\n\u001b[0;32m   1631\u001b[0m \u001b[43m        \u001b[49m\u001b[43mcolor_mapping\u001b[49m\u001b[43m,\u001b[49m\n\u001b[0;32m   1632\u001b[0m \u001b[43m        \u001b[49m\u001b[43minputs\u001b[49m\u001b[43m,\u001b[49m\n\u001b[0;32m   1633\u001b[0m \u001b[43m        \u001b[49m\u001b[43mintermediate_steps\u001b[49m\u001b[43m,\u001b[49m\n\u001b[0;32m   1634\u001b[0m \u001b[43m        \u001b[49m\u001b[43mrun_manager\u001b[49m\u001b[38;5;241;43m=\u001b[39;49m\u001b[43mrun_manager\u001b[49m\u001b[43m,\u001b[49m\n\u001b[0;32m   1635\u001b[0m \u001b[43m    \u001b[49m\u001b[43m)\u001b[49m\n\u001b[0;32m   1636\u001b[0m     \u001b[38;5;28;01mif\u001b[39;00m \u001b[38;5;28misinstance\u001b[39m(next_step_output, AgentFinish):\n\u001b[0;32m   1637\u001b[0m         \u001b[38;5;28;01mreturn\u001b[39;00m \u001b[38;5;28mself\u001b[39m\u001b[38;5;241m.\u001b[39m_return(\n\u001b[0;32m   1638\u001b[0m             next_step_output, intermediate_steps, run_manager\u001b[38;5;241m=\u001b[39mrun_manager\n\u001b[0;32m   1639\u001b[0m         )\n",
      "File \u001b[1;32m~\\AppData\\Roaming\\Python\\Python310\\site-packages\\langchain\\agents\\agent.py:1335\u001b[0m, in \u001b[0;36mAgentExecutor._take_next_step\u001b[1;34m(self, name_to_tool_map, color_mapping, inputs, intermediate_steps, run_manager)\u001b[0m\n\u001b[0;32m   1326\u001b[0m \u001b[38;5;28;01mdef\u001b[39;00m \u001b[38;5;21m_take_next_step\u001b[39m(\n\u001b[0;32m   1327\u001b[0m     \u001b[38;5;28mself\u001b[39m,\n\u001b[0;32m   1328\u001b[0m     name_to_tool_map: Dict[\u001b[38;5;28mstr\u001b[39m, BaseTool],\n\u001b[1;32m   (...)\u001b[0m\n\u001b[0;32m   1332\u001b[0m     run_manager: Optional[CallbackManagerForChainRun] \u001b[38;5;241m=\u001b[39m \u001b[38;5;28;01mNone\u001b[39;00m,\n\u001b[0;32m   1333\u001b[0m ) \u001b[38;5;241m-\u001b[39m\u001b[38;5;241m>\u001b[39m Union[AgentFinish, List[Tuple[AgentAction, \u001b[38;5;28mstr\u001b[39m]]]:\n\u001b[0;32m   1334\u001b[0m     \u001b[38;5;28;01mreturn\u001b[39;00m \u001b[38;5;28mself\u001b[39m\u001b[38;5;241m.\u001b[39m_consume_next_step(\n\u001b[1;32m-> 1335\u001b[0m         [\n\u001b[0;32m   1336\u001b[0m             a\n\u001b[0;32m   1337\u001b[0m             \u001b[38;5;28;01mfor\u001b[39;00m a \u001b[38;5;129;01min\u001b[39;00m \u001b[38;5;28mself\u001b[39m\u001b[38;5;241m.\u001b[39m_iter_next_step(\n\u001b[0;32m   1338\u001b[0m                 name_to_tool_map,\n\u001b[0;32m   1339\u001b[0m                 color_mapping,\n\u001b[0;32m   1340\u001b[0m                 inputs,\n\u001b[0;32m   1341\u001b[0m                 intermediate_steps,\n\u001b[0;32m   1342\u001b[0m                 run_manager,\n\u001b[0;32m   1343\u001b[0m             )\n\u001b[0;32m   1344\u001b[0m         ]\n\u001b[0;32m   1345\u001b[0m     )\n",
      "File \u001b[1;32m~\\AppData\\Roaming\\Python\\Python310\\site-packages\\langchain\\agents\\agent.py:1335\u001b[0m, in \u001b[0;36m<listcomp>\u001b[1;34m(.0)\u001b[0m\n\u001b[0;32m   1326\u001b[0m \u001b[38;5;28;01mdef\u001b[39;00m \u001b[38;5;21m_take_next_step\u001b[39m(\n\u001b[0;32m   1327\u001b[0m     \u001b[38;5;28mself\u001b[39m,\n\u001b[0;32m   1328\u001b[0m     name_to_tool_map: Dict[\u001b[38;5;28mstr\u001b[39m, BaseTool],\n\u001b[1;32m   (...)\u001b[0m\n\u001b[0;32m   1332\u001b[0m     run_manager: Optional[CallbackManagerForChainRun] \u001b[38;5;241m=\u001b[39m \u001b[38;5;28;01mNone\u001b[39;00m,\n\u001b[0;32m   1333\u001b[0m ) \u001b[38;5;241m-\u001b[39m\u001b[38;5;241m>\u001b[39m Union[AgentFinish, List[Tuple[AgentAction, \u001b[38;5;28mstr\u001b[39m]]]:\n\u001b[0;32m   1334\u001b[0m     \u001b[38;5;28;01mreturn\u001b[39;00m \u001b[38;5;28mself\u001b[39m\u001b[38;5;241m.\u001b[39m_consume_next_step(\n\u001b[1;32m-> 1335\u001b[0m         [\n\u001b[0;32m   1336\u001b[0m             a\n\u001b[0;32m   1337\u001b[0m             \u001b[38;5;28;01mfor\u001b[39;00m a \u001b[38;5;129;01min\u001b[39;00m \u001b[38;5;28mself\u001b[39m\u001b[38;5;241m.\u001b[39m_iter_next_step(\n\u001b[0;32m   1338\u001b[0m                 name_to_tool_map,\n\u001b[0;32m   1339\u001b[0m                 color_mapping,\n\u001b[0;32m   1340\u001b[0m                 inputs,\n\u001b[0;32m   1341\u001b[0m                 intermediate_steps,\n\u001b[0;32m   1342\u001b[0m                 run_manager,\n\u001b[0;32m   1343\u001b[0m             )\n\u001b[0;32m   1344\u001b[0m         ]\n\u001b[0;32m   1345\u001b[0m     )\n",
      "File \u001b[1;32m~\\AppData\\Roaming\\Python\\Python310\\site-packages\\langchain\\agents\\agent.py:1420\u001b[0m, in \u001b[0;36mAgentExecutor._iter_next_step\u001b[1;34m(self, name_to_tool_map, color_mapping, inputs, intermediate_steps, run_manager)\u001b[0m\n\u001b[0;32m   1418\u001b[0m     \u001b[38;5;28;01myield\u001b[39;00m agent_action\n\u001b[0;32m   1419\u001b[0m \u001b[38;5;28;01mfor\u001b[39;00m agent_action \u001b[38;5;129;01min\u001b[39;00m actions:\n\u001b[1;32m-> 1420\u001b[0m     \u001b[38;5;28;01myield\u001b[39;00m \u001b[38;5;28;43mself\u001b[39;49m\u001b[38;5;241;43m.\u001b[39;49m\u001b[43m_perform_agent_action\u001b[49m\u001b[43m(\u001b[49m\n\u001b[0;32m   1421\u001b[0m \u001b[43m        \u001b[49m\u001b[43mname_to_tool_map\u001b[49m\u001b[43m,\u001b[49m\u001b[43m \u001b[49m\u001b[43mcolor_mapping\u001b[49m\u001b[43m,\u001b[49m\u001b[43m \u001b[49m\u001b[43magent_action\u001b[49m\u001b[43m,\u001b[49m\u001b[43m \u001b[49m\u001b[43mrun_manager\u001b[49m\n\u001b[0;32m   1422\u001b[0m \u001b[43m    \u001b[49m\u001b[43m)\u001b[49m\n",
      "File \u001b[1;32m~\\AppData\\Roaming\\Python\\Python310\\site-packages\\langchain\\agents\\agent.py:1442\u001b[0m, in \u001b[0;36mAgentExecutor._perform_agent_action\u001b[1;34m(self, name_to_tool_map, color_mapping, agent_action, run_manager)\u001b[0m\n\u001b[0;32m   1440\u001b[0m         tool_run_kwargs[\u001b[38;5;124m\"\u001b[39m\u001b[38;5;124mllm_prefix\u001b[39m\u001b[38;5;124m\"\u001b[39m] \u001b[38;5;241m=\u001b[39m \u001b[38;5;124m\"\u001b[39m\u001b[38;5;124m\"\u001b[39m\n\u001b[0;32m   1441\u001b[0m     \u001b[38;5;66;03m# We then call the tool on the tool input to get an observation\u001b[39;00m\n\u001b[1;32m-> 1442\u001b[0m     observation \u001b[38;5;241m=\u001b[39m tool\u001b[38;5;241m.\u001b[39mrun(\n\u001b[0;32m   1443\u001b[0m         agent_action\u001b[38;5;241m.\u001b[39mtool_input,\n\u001b[0;32m   1444\u001b[0m         verbose\u001b[38;5;241m=\u001b[39m\u001b[38;5;28mself\u001b[39m\u001b[38;5;241m.\u001b[39mverbose,\n\u001b[0;32m   1445\u001b[0m         color\u001b[38;5;241m=\u001b[39mcolor,\n\u001b[0;32m   1446\u001b[0m         callbacks\u001b[38;5;241m=\u001b[39mrun_manager\u001b[38;5;241m.\u001b[39mget_child() \u001b[38;5;28;01mif\u001b[39;00m run_manager \u001b[38;5;28;01melse\u001b[39;00m \u001b[38;5;28;01mNone\u001b[39;00m,\n\u001b[0;32m   1447\u001b[0m         \u001b[38;5;241m*\u001b[39m\u001b[38;5;241m*\u001b[39mtool_run_kwargs,\n\u001b[0;32m   1448\u001b[0m     )\n\u001b[0;32m   1449\u001b[0m \u001b[38;5;28;01melse\u001b[39;00m:\n\u001b[0;32m   1450\u001b[0m     tool_run_kwargs \u001b[38;5;241m=\u001b[39m \u001b[38;5;28mself\u001b[39m\u001b[38;5;241m.\u001b[39m_action_agent\u001b[38;5;241m.\u001b[39mtool_run_logging_kwargs()\n",
      "File \u001b[1;32mc:\\ProgramData\\anaconda3\\envs\\py31012\\lib\\site-packages\\langchain_core\\tools\\base.py:725\u001b[0m, in \u001b[0;36mBaseTool.run\u001b[1;34m(self, tool_input, verbose, start_color, color, callbacks, tags, metadata, run_name, run_id, config, tool_call_id, **kwargs)\u001b[0m\n\u001b[0;32m    723\u001b[0m \u001b[38;5;28;01mif\u001b[39;00m error_to_raise:\n\u001b[0;32m    724\u001b[0m     run_manager\u001b[38;5;241m.\u001b[39mon_tool_error(error_to_raise)\n\u001b[1;32m--> 725\u001b[0m     \u001b[38;5;28;01mraise\u001b[39;00m error_to_raise\n\u001b[0;32m    726\u001b[0m output \u001b[38;5;241m=\u001b[39m _format_output(content, artifact, tool_call_id, \u001b[38;5;28mself\u001b[39m\u001b[38;5;241m.\u001b[39mname, status)\n\u001b[0;32m    727\u001b[0m run_manager\u001b[38;5;241m.\u001b[39mon_tool_end(output, color\u001b[38;5;241m=\u001b[39mcolor, name\u001b[38;5;241m=\u001b[39m\u001b[38;5;28mself\u001b[39m\u001b[38;5;241m.\u001b[39mname, \u001b[38;5;241m*\u001b[39m\u001b[38;5;241m*\u001b[39mkwargs)\n",
      "File \u001b[1;32mc:\\ProgramData\\anaconda3\\envs\\py31012\\lib\\site-packages\\langchain_core\\tools\\base.py:693\u001b[0m, in \u001b[0;36mBaseTool.run\u001b[1;34m(self, tool_input, verbose, start_color, color, callbacks, tags, metadata, run_name, run_id, config, tool_call_id, **kwargs)\u001b[0m\n\u001b[0;32m    691\u001b[0m \u001b[38;5;28;01mif\u001b[39;00m config_param \u001b[38;5;241m:=\u001b[39m _get_runnable_config_param(\u001b[38;5;28mself\u001b[39m\u001b[38;5;241m.\u001b[39m_run):\n\u001b[0;32m    692\u001b[0m     tool_kwargs \u001b[38;5;241m=\u001b[39m tool_kwargs \u001b[38;5;241m|\u001b[39m {config_param: config}\n\u001b[1;32m--> 693\u001b[0m response \u001b[38;5;241m=\u001b[39m context\u001b[38;5;241m.\u001b[39mrun(\u001b[38;5;28mself\u001b[39m\u001b[38;5;241m.\u001b[39m_run, \u001b[38;5;241m*\u001b[39mtool_args, \u001b[38;5;241m*\u001b[39m\u001b[38;5;241m*\u001b[39mtool_kwargs)\n\u001b[0;32m    694\u001b[0m \u001b[38;5;28;01mif\u001b[39;00m \u001b[38;5;28mself\u001b[39m\u001b[38;5;241m.\u001b[39mresponse_format \u001b[38;5;241m==\u001b[39m \u001b[38;5;124m\"\u001b[39m\u001b[38;5;124mcontent_and_artifact\u001b[39m\u001b[38;5;124m\"\u001b[39m:\n\u001b[0;32m    695\u001b[0m     \u001b[38;5;28;01mif\u001b[39;00m \u001b[38;5;129;01mnot\u001b[39;00m \u001b[38;5;28misinstance\u001b[39m(response, \u001b[38;5;28mtuple\u001b[39m) \u001b[38;5;129;01mor\u001b[39;00m \u001b[38;5;28mlen\u001b[39m(response) \u001b[38;5;241m!=\u001b[39m \u001b[38;5;241m2\u001b[39m:\n",
      "File \u001b[1;32mc:\\ProgramData\\anaconda3\\envs\\py31012\\lib\\site-packages\\langchain_core\\tools\\structured.py:80\u001b[0m, in \u001b[0;36mStructuredTool._run\u001b[1;34m(self, config, run_manager, *args, **kwargs)\u001b[0m\n\u001b[0;32m     78\u001b[0m     \u001b[38;5;28;01mif\u001b[39;00m config_param \u001b[38;5;241m:=\u001b[39m _get_runnable_config_param(\u001b[38;5;28mself\u001b[39m\u001b[38;5;241m.\u001b[39mfunc):\n\u001b[0;32m     79\u001b[0m         kwargs[config_param] \u001b[38;5;241m=\u001b[39m config\n\u001b[1;32m---> 80\u001b[0m     \u001b[38;5;28;01mreturn\u001b[39;00m \u001b[38;5;28mself\u001b[39m\u001b[38;5;241m.\u001b[39mfunc(\u001b[38;5;241m*\u001b[39margs, \u001b[38;5;241m*\u001b[39m\u001b[38;5;241m*\u001b[39mkwargs)\n\u001b[0;32m     81\u001b[0m msg \u001b[38;5;241m=\u001b[39m \u001b[38;5;124m\"\u001b[39m\u001b[38;5;124mStructuredTool does not support sync invocation.\u001b[39m\u001b[38;5;124m\"\u001b[39m\n\u001b[0;32m     82\u001b[0m \u001b[38;5;28;01mraise\u001b[39;00m \u001b[38;5;167;01mNotImplementedError\u001b[39;00m(msg)\n",
      "Cell \u001b[1;32mIn[143], line 8\u001b[0m, in \u001b[0;36mweb_search\u001b[1;34m(query)\u001b[0m\n\u001b[0;32m      6\u001b[0m search_url \u001b[38;5;241m=\u001b[39m \u001b[38;5;124mf\u001b[39m\u001b[38;5;124m\"\u001b[39m\u001b[38;5;124mhttps://www.bing.com/search?q=\u001b[39m\u001b[38;5;132;01m{\u001b[39;00mquery\u001b[38;5;132;01m}\u001b[39;00m\u001b[38;5;124m\"\u001b[39m\n\u001b[0;32m      7\u001b[0m response \u001b[38;5;241m=\u001b[39m requests\u001b[38;5;241m.\u001b[39mget(search_url, headers\u001b[38;5;241m=\u001b[39mheaders)\n\u001b[1;32m----> 8\u001b[0m \u001b[43mtime\u001b[49m\u001b[38;5;241;43m.\u001b[39;49m\u001b[43msleep\u001b[49m\u001b[43m(\u001b[49m\u001b[38;5;241;43m5\u001b[39;49m\u001b[43m)\u001b[49m\n\u001b[0;32m      9\u001b[0m soup \u001b[38;5;241m=\u001b[39m BeautifulSoup(response\u001b[38;5;241m.\u001b[39mtext, \u001b[38;5;124m'\u001b[39m\u001b[38;5;124mhtml.parser\u001b[39m\u001b[38;5;124m'\u001b[39m)\n\u001b[0;32m     11\u001b[0m k \u001b[38;5;241m=\u001b[39m soup\u001b[38;5;241m.\u001b[39mfind_all(\u001b[38;5;124m'\u001b[39m\u001b[38;5;124ma\u001b[39m\u001b[38;5;124m'\u001b[39m, target\u001b[38;5;241m=\u001b[39m\u001b[38;5;124m'\u001b[39m\u001b[38;5;124m_blank\u001b[39m\u001b[38;5;124m'\u001b[39m)\n",
      "\u001b[1;31mKeyboardInterrupt\u001b[0m: "
     ]
    }
   ],
   "source": [
    "response = agent.invoke(\"RSS Feed에 대해서 설명해 줘\")\n",
    "print(response)"
   ]
  },
  {
   "cell_type": "code",
   "execution_count": 108,
   "id": "7ac8c7d3",
   "metadata": {},
   "outputs": [
    {
     "name": "stdout",
     "output_type": "stream",
     "text": [
      "\n",
      "\n",
      "\u001b[1m> Entering new AgentExecutor chain...\u001b[0m\n"
     ]
    },
    {
     "ename": "ValueError",
     "evalue": "Missing some input keys: {'\\n          \"title\"', 'input'}",
     "output_type": "error",
     "traceback": [
      "\u001b[1;31m---------------------------------------------------------------------------\u001b[0m",
      "\u001b[1;31mValueError\u001b[0m                                Traceback (most recent call last)",
      "Cell \u001b[1;32mIn[108], line 2\u001b[0m\n\u001b[0;32m      1\u001b[0m \u001b[38;5;66;03m# 에이전트 실행\u001b[39;00m\n\u001b[1;32m----> 2\u001b[0m response \u001b[38;5;241m=\u001b[39m \u001b[43magent\u001b[49m\u001b[38;5;241;43m.\u001b[39;49m\u001b[43minvoke\u001b[49m\u001b[43m(\u001b[49m\u001b[43m{\u001b[49m\u001b[38;5;124;43m'\u001b[39;49m\u001b[38;5;124;43mchat_history\u001b[39;49m\u001b[38;5;124;43m'\u001b[39;49m\u001b[43m:\u001b[49m\u001b[43m[\u001b[49m\u001b[43m]\u001b[49m\u001b[43m,\u001b[49m\u001b[38;5;28;43minput\u001b[39;49m\u001b[43m:\u001b[49m\u001b[38;5;124;43m\"\u001b[39;49m\u001b[38;5;124;43m일론 머스크에 대해서 설명해 줘\u001b[39;49m\u001b[38;5;124;43m\"\u001b[39;49m\u001b[43m}\u001b[49m\u001b[43m)\u001b[49m\n\u001b[0;32m      3\u001b[0m \u001b[38;5;28mprint\u001b[39m(response)\n",
      "File \u001b[1;32m~\\AppData\\Roaming\\Python\\Python310\\site-packages\\langchain\\chains\\base.py:170\u001b[0m, in \u001b[0;36mChain.invoke\u001b[1;34m(self, input, config, **kwargs)\u001b[0m\n\u001b[0;32m    168\u001b[0m \u001b[38;5;28;01mexcept\u001b[39;00m \u001b[38;5;167;01mBaseException\u001b[39;00m \u001b[38;5;28;01mas\u001b[39;00m e:\n\u001b[0;32m    169\u001b[0m     run_manager\u001b[38;5;241m.\u001b[39mon_chain_error(e)\n\u001b[1;32m--> 170\u001b[0m     \u001b[38;5;28;01mraise\u001b[39;00m e\n\u001b[0;32m    171\u001b[0m run_manager\u001b[38;5;241m.\u001b[39mon_chain_end(outputs)\n\u001b[0;32m    173\u001b[0m \u001b[38;5;28;01mif\u001b[39;00m include_run_info:\n",
      "File \u001b[1;32m~\\AppData\\Roaming\\Python\\Python310\\site-packages\\langchain\\chains\\base.py:158\u001b[0m, in \u001b[0;36mChain.invoke\u001b[1;34m(self, input, config, **kwargs)\u001b[0m\n\u001b[0;32m    151\u001b[0m run_manager \u001b[38;5;241m=\u001b[39m callback_manager\u001b[38;5;241m.\u001b[39mon_chain_start(\n\u001b[0;32m    152\u001b[0m     \u001b[38;5;28;01mNone\u001b[39;00m,\n\u001b[0;32m    153\u001b[0m     inputs,\n\u001b[0;32m    154\u001b[0m     run_id,\n\u001b[0;32m    155\u001b[0m     name\u001b[38;5;241m=\u001b[39mrun_name,\n\u001b[0;32m    156\u001b[0m )\n\u001b[0;32m    157\u001b[0m \u001b[38;5;28;01mtry\u001b[39;00m:\n\u001b[1;32m--> 158\u001b[0m     \u001b[38;5;28;43mself\u001b[39;49m\u001b[38;5;241;43m.\u001b[39;49m\u001b[43m_validate_inputs\u001b[49m\u001b[43m(\u001b[49m\u001b[43minputs\u001b[49m\u001b[43m)\u001b[49m\n\u001b[0;32m    159\u001b[0m     outputs \u001b[38;5;241m=\u001b[39m (\n\u001b[0;32m    160\u001b[0m         \u001b[38;5;28mself\u001b[39m\u001b[38;5;241m.\u001b[39m_call(inputs, run_manager\u001b[38;5;241m=\u001b[39mrun_manager)\n\u001b[0;32m    161\u001b[0m         \u001b[38;5;28;01mif\u001b[39;00m new_arg_supported\n\u001b[0;32m    162\u001b[0m         \u001b[38;5;28;01melse\u001b[39;00m \u001b[38;5;28mself\u001b[39m\u001b[38;5;241m.\u001b[39m_call(inputs)\n\u001b[0;32m    163\u001b[0m     )\n\u001b[0;32m    165\u001b[0m     final_outputs: Dict[\u001b[38;5;28mstr\u001b[39m, Any] \u001b[38;5;241m=\u001b[39m \u001b[38;5;28mself\u001b[39m\u001b[38;5;241m.\u001b[39mprep_outputs(\n\u001b[0;32m    166\u001b[0m         inputs, outputs, return_only_outputs\n\u001b[0;32m    167\u001b[0m     )\n",
      "File \u001b[1;32m~\\AppData\\Roaming\\Python\\Python310\\site-packages\\langchain\\chains\\base.py:290\u001b[0m, in \u001b[0;36mChain._validate_inputs\u001b[1;34m(self, inputs)\u001b[0m\n\u001b[0;32m    288\u001b[0m missing_keys \u001b[38;5;241m=\u001b[39m \u001b[38;5;28mset\u001b[39m(\u001b[38;5;28mself\u001b[39m\u001b[38;5;241m.\u001b[39minput_keys)\u001b[38;5;241m.\u001b[39mdifference(inputs)\n\u001b[0;32m    289\u001b[0m \u001b[38;5;28;01mif\u001b[39;00m missing_keys:\n\u001b[1;32m--> 290\u001b[0m     \u001b[38;5;28;01mraise\u001b[39;00m \u001b[38;5;167;01mValueError\u001b[39;00m(\u001b[38;5;124mf\u001b[39m\u001b[38;5;124m\"\u001b[39m\u001b[38;5;124mMissing some input keys: \u001b[39m\u001b[38;5;132;01m{\u001b[39;00mmissing_keys\u001b[38;5;132;01m}\u001b[39;00m\u001b[38;5;124m\"\u001b[39m)\n",
      "\u001b[1;31mValueError\u001b[0m: Missing some input keys: {'\\n          \"title\"', 'input'}"
     ]
    }
   ],
   "source": [
    "# 에이전트 실행\n",
    "response = agent.invoke({'chat_history':[],input:\"일론 머스크에 대해서 설명해 줘\"})\n",
    "print(response)"
   ]
  },
  {
   "cell_type": "code",
   "execution_count": null,
   "id": "66decc66",
   "metadata": {},
   "outputs": [],
   "source": [
    "def search(query: str, max_results: int=5) -> str:\n",
    "    headers = {'User-Agent': 'Mozilla/5.0 (X11; Linux x86_64) AppleWebKit/537.36'}\n",
    "    search_url = f\"https://www.bing.com/search?q={query}\"\n",
    "    response = requests.get(search_url, headers=headers)\n",
    "    time.sleep(5)\n",
    "    soup = BeautifulSoup(response.text, 'html.parser')\n",
    "    k = soup.find_all('a', target='_blank')\n",
    "    print(k)\n",
    "    news = []\n",
    "    for i in k:\n",
    "        if i['href'][0:4] == 'http':\n",
    "            news.append(i)\n",
    "    description = soup.find_all('p',class_=re.compile(\"^b_lineclamp\"))\n",
    "    search_results = []\n",
    "    for index,content in enumerate(description[:max_results]):\n",
    "        #print(news[index].contents[0])\n",
    "        #print(news[index]['href'])\n",
    "        #print(content.contents[0])\n",
    "        search_results.append({\n",
    "                    'title': news[index].contents[0],\n",
    "                    'link': news[index]['href'],\n",
    "                    'description': content.contents[0]})\n",
    "    return search_results"
   ]
  },
  {
   "cell_type": "code",
   "execution_count": 84,
   "id": "7df7a965",
   "metadata": {},
   "outputs": [
    {
     "name": "stdout",
     "output_type": "stream",
     "text": [
      "[<a h=\"ID=SERP,5125.2\" href=\"https://m.blog.naver.com/techref/223398700515\" target=\"_blank\">HBM 반도체 뜻 HBM3 <strong>HBM3E</strong> 차이 고대역폭 메모리 특징 - 네이버 …</a>, <a h=\"ID=SERP,5144.2\" href=\"https://news.skhynix.co.kr/presscenter/hbm3e-production\" target=\"_blank\">SK하이닉스, 초고성능 AI 메모리 ‘<strong>HBM3E</strong>’ 세계 최초로 본격 ...</a>, <a h=\"ID=SERP,5163.2\" href=\"https://m.blog.naver.com/jkhan012/223386755360\" target=\"_blank\"><strong>HBM3E</strong>, 알아야 할 모든 것 - HBM은 패키징 기술 - 네이버 블로그</a>, <a h=\"ID=SERP,5182.2\" href=\"https://biz.newdaily.co.kr/site/data/html/2025/01/31/2025013100117.html\" target=\"_blank\">입 다문 삼성, <strong>HBM3E</strong> 엔비디아 퀄테스트 통과 사실일까</a>, <a h=\"ID=SERP,5198.2\" href=\"https://product.skhynix.com/products/dram/hbm/hbm3e.go\" target=\"_blank\"><strong>HBM3E</strong> | SK hynix</a>, <a h=\"ID=SERP,5217.2\" href=\"https://news.skhynix.co.kr/post/skhynix-hbm3e-interview\" target=\"_blank\">“글로벌 No.1 AI 메모리 기업, SK하이닉스!” 세계 최고 성능 AI용 ...</a>, <a h=\"ID=SERP,5236.2\" href=\"https://news.skhynix.co.kr/presscenter/12hi-hbm3e-production\" target=\"_blank\">SK하이닉스, 세계 최초 ‘12단 적층 <strong>HBM3E</strong>’ 양산 돌입</a>, <a h=\"ID=SERP,5254.2\" href=\"https://semiconductor.samsung.com/kr/news-events/tech-blog/the-perfect-harmony-created-by-samsung-hbm-powering-the-ai-era/\" target=\"_blank\">[인터뷰] AI 시대 삼성전자 HBM이 만들어 내는 완벽한 하모니</a>, <a h=\"ID=SERP,5271.2\" href=\"https://www.chosun.com/economy/tech_it/2024/08/07/BTLWDEIC25G3ZOF7MIHKXGJKAM/\" target=\"_blank\">로이터 \"삼성전자 <strong>HBM3E</strong>, 엔비디아 퀄 테스트 통과\" - 조선일보</a>, <a h=\"ID=SERP,5287.2\" href=\"https://www.micron.com/products/memory/hbm/hbm3e\" target=\"_blank\"><strong>HBM3E</strong> - Micron Technology, Inc.</a>, <a h=\"ID=SERP,5075.1\" href=\"http://go.microsoft.com/fwlink/?LinkID=286759\" id=\"sb_adinfo\" target=\"_blank\">광고 정보</a>, <a h=\"ID=SERP,5076.1\" href=\"https://support.microsoft.com/topic/82d20721-2d6f-4012-a13d-d1910ccf203f\" id=\"sb_help\" target=\"_blank\">도움말</a>]\n",
      "HBM 반도체 뜻 HBM3 \n",
      "SK하이닉스, 초고성능 AI 메모리 ‘\n",
      "<strong>HBM3E</strong>\n",
      "3\n",
      "{'title': 'HBM 반도체 뜻 HBM3 ', 'link': 'https://m.blog.naver.com/techref/223398700515', 'description': '2024년 3월 28일\\xa0· 바로 hbm3e입니다. hbm3e는 용량과 속도 면에서 hbm3을 뛰어넘는 개선된 버전입니다. 삼성전자가 개발한 36gb 용량의 hbm3e 12단 적층 d램은 업계에서 가장 큰 용량을 …'}\n",
      "{'title': 'SK하이닉스, 초고성능 AI 메모리 ‘', 'link': 'https://news.skhynix.co.kr/presscenter/hbm3e-production', 'description': '2024년 3월 19일\\xa0· sk하이닉스가 hbm 5세대 hbm3e d램에서도 ai 메모리 선도 기업의 위상을 공고히 한다. SK하이닉스는 초고성능 AI용 메모리 신제품인 HBM3E*를 세계 최초로 양산해 3월 말부터 …'}\n",
      "{'title': <strong>HBM3E</strong>, 'link': 'https://m.blog.naver.com/jkhan012/223386755360', 'description': '2024년 3월 18일\\xa0· hbm3e는 hbm2e, hbm2 또는 hbm(gen 1)과 어떻게 다릅니까? HBM3는 HBM 표준의 세 번째 주요 세대입니다. 세대가 거듭될수록 데이터 속도, 3D 스택 높이, DRAM 칩 …'}\n"
     ]
    }
   ],
   "source": [
    "k = search(query='HBM3E',max_results=3)"
   ]
  },
  {
   "cell_type": "code",
   "execution_count": 82,
   "id": "e9bd6ed9",
   "metadata": {},
   "outputs": [
    {
     "data": {
      "text/plain": [
       "[{'title': 'HBM 반도체 뜻 HBM3 ',\n",
       "  'link': 'https://m.blog.naver.com/techref/223398700515',\n",
       "  'description': '2024년 3월 28일\\xa0· 바로 hbm3e입니다. hbm3e는 용량과 속도 면에서 hbm3을 뛰어넘는 개선된 버전입니다. 삼성전자가 개발한 36gb 용량의 hbm3e 12단 적층 d램은 업계에서 가장 큰 용량을 자랑하며, 초당 1,280gb의 대역폭을 제공합니다. 이는 hbm3 대비 50% 이상 향상된 성능입니다.'},\n",
       " {'title': 'SK하이닉스, 초고성능 AI 메모리 ‘',\n",
       "  'link': 'https://news.skhynix.co.kr/presscenter/hbm3e-production',\n",
       "  'description': '2024년 3월 19일\\xa0· sk하이닉스가 hbm 5세대 hbm3e d램에서도 ai 메모리 선도 기업의 위상을 공고히 한다. SK하이닉스는 초고성능 AI용 메모리 신제품인 HBM3E*를 세계 최초로 양산해 3월 말부터 제품 공급을 시작한다고 19일 밝혔다.'},\n",
       " {'title': <strong>HBM3E</strong>,\n",
       "  'link': 'https://m.blog.naver.com/jkhan012/223386755360',\n",
       "  'description': '2024년 3월 18일\\xa0· hbm3e는 hbm2e, hbm2 또는 hbm(gen 1)과 어떻게 다릅니까? HBM3는 HBM 표준의 세 번째 주요 세대입니다. 세대가 거듭될수록 데이터 속도, 3D 스택 높이, DRAM 칩 밀도가 증가하는 추세를 보이고 있습니다.'}]"
      ]
     },
     "execution_count": 82,
     "metadata": {},
     "output_type": "execute_result"
    }
   ],
   "source": [
    "k"
   ]
  },
  {
   "cell_type": "markdown",
   "id": "0d98fcb2",
   "metadata": {},
   "source": [
    "#proxy 설정시"
   ]
  },
  {
   "cell_type": "code",
   "execution_count": null,
   "id": "54f0e416",
   "metadata": {},
   "outputs": [],
   "source": [
    "from langchain.tools import DuckDuckGoSearchRun\n",
    "\n",
    "search = DuckDuckGoSearchRun(proxy=\"http://your-proxy-url:port\")"
   ]
  },
  {
   "cell_type": "code",
   "execution_count": null,
   "id": "36defbc8",
   "metadata": {},
   "outputs": [],
   "source": [
    "import os\n",
    "os.environ['DDGS_PROXY'] = \"http://your-proxy-url:port\"\n",
    "\n",
    "from langchain.tools import DuckDuckGoSearchRun"
   ]
  },
  {
   "cell_type": "markdown",
   "id": "101c6cbb",
   "metadata": {},
   "source": [
    "#proxy 설정 없는 경우"
   ]
  },
  {
   "cell_type": "code",
   "execution_count": 28,
   "id": "4108cf76",
   "metadata": {},
   "outputs": [],
   "source": [
    "from langchain.tools import DuckDuckGoSearchResults\n"
   ]
  },
  {
   "cell_type": "markdown",
   "id": "c4b5e9ae",
   "metadata": {},
   "source": [
    "#공통 부분"
   ]
  },
  {
   "cell_type": "code",
   "execution_count": 40,
   "id": "eb34bbcb",
   "metadata": {},
   "outputs": [],
   "source": [
    "#DuckDuckGoSearchRun 인스턴스를 생성합니다(5개 찾기기)\n",
    "search = DuckDuckGoSearchResults(output_format=\"json\")"
   ]
  },
  {
   "cell_type": "code",
   "execution_count": 30,
   "id": "69483f0e",
   "metadata": {},
   "outputs": [
    {
     "data": {
      "text/plain": [
       "{'name': 'duckduckgo_results_json',\n",
       " 'description': 'A wrapper around Duck Duck Go Search. Useful for when you need to answer questions about current events. Input should be a search query. Output is a JSON string array of the query results',\n",
       " 'args_schema': langchain_community.tools.ddg_search.tool.DDGInput,\n",
       " 'return_direct': False,\n",
       " 'verbose': False,\n",
       " 'callbacks': None,\n",
       " 'callback_manager': None,\n",
       " 'tags': None,\n",
       " 'metadata': None,\n",
       " 'handle_tool_error': False,\n",
       " 'handle_validation_error': False,\n",
       " 'response_format': 'content',\n",
       " 'max_results': 10,\n",
       " 'api_wrapper': DuckDuckGoSearchAPIWrapper(region='wt-wt', safesearch='moderate', time='y', max_results=5, backend='api', source='text'),\n",
       " 'backend': 'text',\n",
       " 'keys_to_include': None,\n",
       " 'results_separator': ', '}"
      ]
     },
     "execution_count": 30,
     "metadata": {},
     "output_type": "execute_result"
    }
   ],
   "source": [
    "search.__dict__"
   ]
  },
  {
   "cell_type": "code",
   "execution_count": 44,
   "id": "c458d3f5",
   "metadata": {},
   "outputs": [
    {
     "name": "stderr",
     "output_type": "stream",
     "text": [
      "C:\\Users\\choiw\\AppData\\Roaming\\Python\\Python310\\site-packages\\langchain_community\\utilities\\duckduckgo_search.py:64: UserWarning: backend='api' is deprecated, using backend='auto'\n",
      "  ddgs_gen = ddgs.text(\n"
     ]
    },
    {
     "name": "stdout",
     "output_type": "stream",
     "text": [
      "snippet: 액침 냉각 기술은 배터리를 냉각액으로 둘러싸 열 축적을 방지하고, 안정성과 수명을 연장합니다. 예 : gs칼텍스와 에쓰오일은 전기차 및 에너지 저장 장치(ess)에 적합한 다양한 액침 냉각유를 개발하여 배터리 기술의 안전성을 크게 향상하고 있습니다 ., title: Ai시대 열관리 최고의 기술 : 액침냉각의 정의와 종류, 적용 분야 총정리, link: https://one-economy.tistory.com/entry/액침냉각-정의-종류, snippet: 액침 냉각(Immersion Cooling)은 전체 서버를 공기보다 열 전도율이 상당히 높은 유전체 전기 비전도성 유체에 담구는 IT 냉각 방식입니다. 냉각수를 뜨거운 구성 요소와 직접 접촉시키고, 가열된 액체를 열교환기를 통해 순환시켜 시스템에서 열을 제거합니다. ..., title: 액침냉각 관련정리(엔지니어 Tv) : 네이버 블로그, link: https://m.blog.naver.com/chcmg2022/223354689838, snippet: 액침냉각 기술은 최근 급격히 주목받고 있으며, 액체 금속을 사용하여 열을 전달하는 혁신적인 열 관리 기술입니다. 이는 전자 기기의 성능 향상과 발열량 감소에 기여합니다. 이번 글에서는 액침냉각 기술의 정의, 원리, 시장 규모 및 전망, 주요 응용 분야..., title: 액침냉각: 혁신적인 열 관리 기술의 심층 분석 - 그 남자의 이야기, link: https://tmsstory.co.kr/액침냉각-기술-정의-원리-전망-기업/, snippet: 액침 냉각이란? 액침 냉각은 전자 기기를 전기가 통하지 않는 액체에 직접 담가 열을 식히는 혁신적인 냉각 기술입니다. 공기 냉각이나 수냉각 방식과 달리 액체가 기판과 부품과 직접 접촉하여 열을 빠르고 효율적으로 전달하기 때문에 기본적으로 많은 열이 발생하는 고성능 전자기기나 대규모 ..., title: 액침 냉각이란? 액침 냉각의 장점과 활용 분야, link: https://in-dok.tistory.com/entry/액침-냉각이란-액침-냉각의-장점과-활용-분야\n"
     ]
    }
   ],
   "source": [
    "results = search.invoke(\"액침 냉각\")\n",
    "print(results)"
   ]
  },
  {
   "cell_type": "code",
   "execution_count": 42,
   "id": "3efe67a7",
   "metadata": {},
   "outputs": [
    {
     "data": {
      "text/plain": [
       "str"
      ]
     },
     "execution_count": 42,
     "metadata": {},
     "output_type": "execute_result"
    }
   ],
   "source": [
    "type(results)"
   ]
  },
  {
   "cell_type": "code",
   "execution_count": 43,
   "id": "dbf0c058",
   "metadata": {},
   "outputs": [
    {
     "data": {
      "text/plain": [
       "'snippet: 오늘 이재명 더불어민주당 대표의 공직선거법 위반 사건 2심 절차가 시작됐어요.이 사건은 이 대표의 정치적 운명을 좌우할 수 있는 중요한 사안인 만큼, 많은 국민들의 관심이 집중되고 있죠. 그럼 지금부터 2심 절차의 시작과 향후 일정, 그리고 이것이 가져올 정치적 파장에 대해 함께 ..., title: 이재명 대표 공직선거법 위반 2심 시작: 판결일, 주요 쟁점 및 향후 일정, link: https://postian.tistory.com/entry/이재명-대표-공직선거법-위반-2심-시작-판결일-주요-쟁점-및-향후-일정, snippet: 이재명 더불어민주당 대표의 공직선거법 위반 혐의 2심 재판이 5일 열렸다. 서울고법 형사6-2부(재판장 최은정)는 이날 이 대표의 선거법 위반 사건 2차 변론 기일을 열고 전날 이 대표 측이 신청한 위헌법률심판 제청에 대한 검찰과 이 대표 측의 의견을 들었다., title: 이재명 공직선거법 위반 2심 2차변론기일 열려.... 결론은 언제?, link: https://monthly.chosun.com/client/Mdaily/daily_view.asp?Idx=21374&Newsnumb=20250221374, snippet: 더불어민주당 이재명 대표의 공직선거법 위반 사건 항소심 2차 공판이 열렸다. 이 대표 측이 위헌법률심판 제청을 신청한 가운데, 검찰은 피고인이 ..., title: 이재명 \\'선거법 위반\\' 2차 공판…檢 \"위헌법률심판 제청 기각해야\" - 이투데이, link: https://www.etoday.co.kr/news/view/2442588, snippet: 이재명 더불어민주당 대표의 공직선거법 위반 사건이 오는 23일부터 시작된다. 서울고등법원 형사6-2부는 항소심 첫 공판기일을 이날 오후 3시로 지정했다고 2일 밝혔다. 공판기일에는 양측의 항소이유 요지 진술 및 증거 채택 ..., title: 이재명 선거법 2심, 23일 시작…\\'6·3·3 원칙\\' 깨질판 | 중앙일보, link: https://www.joongang.co.kr/article/25304759'"
      ]
     },
     "execution_count": 43,
     "metadata": {},
     "output_type": "execute_result"
    }
   ],
   "source": [
    "results"
   ]
  },
  {
   "cell_type": "code",
   "execution_count": 65,
   "id": "a9996c04",
   "metadata": {},
   "outputs": [],
   "source": [
    "from langchain.agents import initialize_agent\n",
    "\n",
    "llm = ChatGoogleGenerativeAI(model=\"gemini-2.0-flash-thinking-exp\", temperature=0)\n",
    "\n",
    "#tools = [web_search]  # 커스텀 도구 추가\n",
    "\n",
    "\n",
    "tools = [DuckDuckGoSearchRun()]\n",
    "\n",
    "agent = initialize_agent(tools, llm, agent=\"zero-shot-react-description\", verbose=True)"
   ]
  },
  {
   "cell_type": "code",
   "execution_count": 69,
   "id": "bd4f84a6",
   "metadata": {},
   "outputs": [
    {
     "name": "stdout",
     "output_type": "stream",
     "text": [
      "\n",
      "\n",
      "\u001b[1m> Entering new AgentExecutor chain...\u001b[0m\n",
      "\u001b[32;1m\u001b[1;3mThought: The question is asking for an explanation about Elon Musk in Korean. I should use the `duckduckgo_search` tool to find information about Elon Musk and then summarize it in Korean.\n",
      "Action: duckduckgo_search\n",
      "Action Input: 일론 머스크\u001b[0m"
     ]
    },
    {
     "name": "stderr",
     "output_type": "stream",
     "text": [
      "C:\\Users\\choiw\\AppData\\Roaming\\Python\\Python310\\site-packages\\langchain_community\\utilities\\duckduckgo_search.py:64: UserWarning: backend='api' is deprecated, using backend='auto'\n",
      "  ddgs_gen = ddgs.text(\n"
     ]
    },
    {
     "name": "stdout",
     "output_type": "stream",
     "text": [
      "\n",
      "Observation: \u001b[36;1m\u001b[1;3mElon Musk is founder of Tesla Motors and SpaceX among other companies. Read about his net worth, children, ex-wives, age, home country, DOGE position, and more. 애슐리 반스가 쓴 《일론 머스크: 미래의 설계자》에 따르면 \"어린 시절 머스크 일가의 집은 프리토리아에서 가장 큰 집 중 하나였고 에롤은 가족들과 자주 해외여행을 갔다.\"라고 설명하고 있다. [3] Elon Musk cofounded seven companies, including electric car maker Tesla, rocket producer SpaceX and artificial intelligence startup xAI. He owns about 12% of Tesla excluding options, but has ... 일론 머스크, '세계 최고 부자' 타이틀 탈환... 순자산 253조원 2023년 6월 2일 머스크의 인터뷰에서 알게 된 6가지 2023년 4월 13일 미국의 정부효율부 수장에 발탁된 일론 머스크는 과연 미 정부 예산의 30%에 달하는 금액인 2조 달러를 줄일 수 있을까?\u001b[0m\n",
      "Thought:\u001b[32;1m\u001b[1;3mThought: I now know the final answer\n",
      "Final Answer: 일론 머스크는 테슬라, 스페이스X, xAI를 포함한 7개의 회사를 공동 창업한 기업가입니다. 그는 전기 자동차 회사 테슬라와 로켓 제조 회사 스페이스X의 설립자로 가장 잘 알려져 있습니다. 2023년 6월에는 순자산 253조 원으로 세계 최고 부자 타이틀을 되찾았습니다. 최근에는 미국 정부 예산 감축에 대한 인터뷰를 하기도 했습니다.\u001b[0m\n",
      "\n",
      "\u001b[1m> Finished chain.\u001b[0m\n",
      "일론 머스크는 테슬라, 스페이스X, xAI를 포함한 7개의 회사를 공동 창업한 기업가입니다. 그는 전기 자동차 회사 테슬라와 로켓 제조 회사 스페이스X의 설립자로 가장 잘 알려져 있습니다. 2023년 6월에는 순자산 253조 원으로 세계 최고 부자 타이틀을 되찾았습니다. 최근에는 미국 정부 예산 감축에 대한 인터뷰를 하기도 했습니다.\n"
     ]
    }
   ],
   "source": [
    "response = agent.run(\"일론 머스크에 대해서 설명해 줘\")\n",
    "print(response)"
   ]
  },
  {
   "cell_type": "code",
   "execution_count": 67,
   "id": "d9ab5a3f",
   "metadata": {},
   "outputs": [
    {
     "name": "stdout",
     "output_type": "stream",
     "text": [
      "\n",
      "\n",
      "\u001b[1m> Entering new AgentExecutor chain...\u001b[0m\n",
      "\u001b[32;1m\u001b[1;3mThought: The question is asking for a summary of the technical details of \"DeepSeek\" in Korean and also wants to know the source of this information. To answer this, I need to use the `duckduckgo_search` tool to find information about DeepSeek and then summarize the technical details and provide the source.\n",
      "\n",
      "Action: duckduckgo_search\n",
      "Action Input: 딥시크 기술 상세\u001b[0m"
     ]
    },
    {
     "name": "stderr",
     "output_type": "stream",
     "text": [
      "C:\\Users\\choiw\\AppData\\Roaming\\Python\\Python310\\site-packages\\langchain_community\\utilities\\duckduckgo_search.py:64: UserWarning: backend='api' is deprecated, using backend='auto'\n",
      "  ddgs_gen = ddgs.text(\n"
     ]
    },
    {
     "name": "stdout",
     "output_type": "stream",
     "text": [
      "\n",
      "Observation: \u001b[36;1m\u001b[1;3m1. 딥시크(DeepSeek)란?딥시크(DeepSeek, 深度求索)는 중국의 인공지능(AI) 연구 기업이자 오픈 소스 대형 언어 모델(LLM) 개발사입니다. 딥시크는 2023년 중국 헤지펀드 High-Flyer의 투자로 독립적인 AI 연구소로 출범했으며, 인공지능 연구와 언어 모델 개발을 집중적으로 수행하고 있습니다. 딥시크는 AI 모델을 ... 한국에서는 설 연휴가 한창이던 2024년 1월 27일, 중국의 AI 스타트업 딥시크(DeepSeek)가 R1 모델을 공개하며 글로벌 AI 업계의 이목을 집중시켰습니다. 나스닥을 비롯한 글로벌 증시가 크게 반응했고, 명절을 맞아 휴일을 즐기던 국내 언론사들도 긴급하게 뉴스를 전하기 바빴습니다. 도대체 딥시크가 ... 📋 목차💡 딥시크(DeepSeek)란?🔍 딥시크의 핵심 기술과 원리🚀 딥시크를 활용한 최신 AI 혁신 사례💰 딥시크가 비즈니스에 미치는 영향⚠️ 딥시크 사용 시 주의해야 할 점📈 딥시크의 미래 전망과 발전 가능성 딥시크 관련 자주 묻는 질문 (FAQ)최근 AI 기술이 급속도로 발전하면서, 딥시크(DeepSeek)가 ... 지난 10년 동안 중국은 '메이드 인 차이나 2025'라는 야심 찬 계획의 일환으로 AI를 포함한 여러 첨단 기술에 대한 전문성을 서서히 쌓아오고 있다. 딥시크는 중국의 AI 스타트업이 개발한 최첨단 인공지능 언어 모델입니다. 2025년 1월에 공개된 DeepSeek-R1 모델은 저비용 고효율을 자랑하며 ChatGPT와 같은 기존 AI 챗봇들과 경쟁하고 있습니다. 다국어 지원, 코딩 능력, 그리고 심층적인 추론 능력이 특징입니다. 이번 포스팅에서는 딥시크 (DeepSeek) 사용 ...\u001b[0m\n",
      "Thought:\u001b[32;1m\u001b[1;3mThought: I now know the final answer\n",
      "Final Answer: 딥시크(DeepSeek)는 중국의 인공지능 연구 기업으로, 오픈 소스 대형 언어 모델(LLM) 개발사입니다. 2023년 중국 헤지펀드 High-Flyer의 투자로 독립적인 AI 연구소로 출범했습니다. 딥시크는 AI 모델, 특히 DeepSeek-R1 모델을 개발하여 주목받고 있습니다.\n",
      "\n",
      "**핵심 기술 및 특징:**\n",
      "\n",
      "* **저비용 고효율:** DeepSeek-R1 모델은 기존 AI 챗봇 대비 저비용으로 높은 효율성을 제공하는 것을 목표로 합니다.\n",
      "* **다국어 지원:** 다양한 언어를 지원합니다.\n",
      "* **코딩 능력:** 코딩 능력이 뛰어납니다.\n",
      "* **심층 추론 능력:** 깊이 있는 추론 능력을 갖추고 있습니다.\n",
      "\n",
      "**출처:**\n",
      "\n",
      "검색 결과에서 얻은 정보이며, 주요 출처는 다음과 같습니다.\n",
      "\n",
      "* **검색 결과:** 딥시크(DeepSeek)란?딥시크(DeepSeek, 深度求索)는 중국의 인공지능(AI) 연구 기업이자 오픈 소스 대형 언어 모델(LLM) 개발사입니다. (중략) 딥시크 (DeepSeek) 사용 ... (URL은 검색 결과 페이지를 참조하세요)\n",
      "\n",
      "더 자세한 기술 내용은 위에 제시된 검색 결과 링크를 통해 확인하실 수 있습니다.\u001b[0m\n",
      "\n",
      "\u001b[1m> Finished chain.\u001b[0m\n",
      "딥시크(DeepSeek)는 중국의 인공지능 연구 기업으로, 오픈 소스 대형 언어 모델(LLM) 개발사입니다. 2023년 중국 헤지펀드 High-Flyer의 투자로 독립적인 AI 연구소로 출범했습니다. 딥시크는 AI 모델, 특히 DeepSeek-R1 모델을 개발하여 주목받고 있습니다.\n",
      "\n",
      "**핵심 기술 및 특징:**\n",
      "\n",
      "* **저비용 고효율:** DeepSeek-R1 모델은 기존 AI 챗봇 대비 저비용으로 높은 효율성을 제공하는 것을 목표로 합니다.\n",
      "* **다국어 지원:** 다양한 언어를 지원합니다.\n",
      "* **코딩 능력:** 코딩 능력이 뛰어납니다.\n",
      "* **심층 추론 능력:** 깊이 있는 추론 능력을 갖추고 있습니다.\n",
      "\n",
      "**출처:**\n",
      "\n",
      "검색 결과에서 얻은 정보이며, 주요 출처는 다음과 같습니다.\n",
      "\n",
      "* **검색 결과:** 딥시크(DeepSeek)란?딥시크(DeepSeek, 深度求索)는 중국의 인공지능(AI) 연구 기업이자 오픈 소스 대형 언어 모델(LLM) 개발사입니다. (중략) 딥시크 (DeepSeek) 사용 ... (URL은 검색 결과 페이지를 참조하세요)\n",
      "\n",
      "더 자세한 기술 내용은 위에 제시된 검색 결과 링크를 통해 확인하실 수 있습니다.\n"
     ]
    }
   ],
   "source": [
    "response = agent.run(\"딥시크에 대한 기술 내용을 요약하고 출처도 알려줘\")\n",
    "print(response)"
   ]
  },
  {
   "cell_type": "code",
   "execution_count": 50,
   "id": "36529a6f",
   "metadata": {},
   "outputs": [
    {
     "name": "stdout",
     "output_type": "stream",
     "text": [
      "\n",
      "\n",
      "\u001b[1m> Entering new AgentExecutor chain...\u001b[0m\n",
      "\u001b[32;1m\u001b[1;3mThought: The user is asking for a comparison table of different types of immersion cooling technology in Korean. I need to search for information about different types of immersion cooling technologies and then organize them into a table.\n",
      "Action: duckduckgo_search\n",
      "Action Input: 액침 냉각 기술 종류 비교표\u001b[0m"
     ]
    },
    {
     "name": "stderr",
     "output_type": "stream",
     "text": [
      "C:\\Users\\choiw\\AppData\\Roaming\\Python\\Python310\\site-packages\\langchain_community\\utilities\\duckduckgo_search.py:64: UserWarning: backend='api' is deprecated, using backend='auto'\n",
      "  ddgs_gen = ddgs.text(\n"
     ]
    },
    {
     "name": "stdout",
     "output_type": "stream",
     "text": [
      "\n",
      "Observation: \u001b[36;1m\u001b[1;3m최근 AI시대를 맞이하며 방대한 데이터처리를 위해서는 막대한 에너지 소비가 수반되는데요 이러한 에너지 소비 최소화를 위한 핵심기술로 액침냉각이 주목을 받고 있습니다. 이번 시간에는 액침냉각의 원리와 종류, 적용 분야에 대하여 자세히 알아보겠습니다. 1. 액침냉각의 원리액침냉각은 ... 3)액침 은 서버를 아예 비전도성 액체(물x)에 담그는것. 다만 아직 상용화 전 단계임. 21년 마이크로소프트가 첫 액침냉각 솔루션 도입함. 전력 효율(pue)은 공냉 -> dtc -> 액침 순으로 좋음. 즉 수냉식은 공랭식 대비 액침은 수냉식 대비 pue를 1로 낮추기에 유리함 액침냉각(Immersion Cooling) 데이터센터 서버나 전자제품, 배터리 등을 전기가 통하지 않는 비전도성 액체에 침전하여 열을 식히는 차세대 열관리 기술 2. 액침냉각의 종류( 단상 / 2상) ... 데이터센터 냉각 기술의 종류. 1)냉각 방식 : a(열발생) to b(열흡수)를 매개하는 물/공기/부동액+냉매 조합에 따라 13가지 ... lgu+ : `24년 12월, gst와 액침 ... 액침냉각 방식은 기존 냉각 기술 대비 전력 소비량의 절반 가까이를 줄일 수 있어 탄소중립 시대를 위한 대표 열관리 기술로 떠오르고 있습니다. 2022년, 인텔이 액침냉각 기술 개발에 총 7억 달러를 투자한다고 발표한 사례는 해당 기술이 미래 산업 분야에서 ...\u001b[0m\n",
      "Thought:\u001b[32;1m\u001b[1;3mThought:The user is asking for a comparison table of different types of immersion cooling technology in Korean. I need to search for information about different types of immersion cooling technologies and then organize them into a table. Based on the previous search results, the main types are single-phase and two-phase immersion cooling. I will create a table comparing these two types.\n",
      "Action: duckduckgo_search\n",
      "Action Input: 액침 냉각 단상 2상 차이점\u001b[0m"
     ]
    },
    {
     "name": "stderr",
     "output_type": "stream",
     "text": [
      "C:\\Users\\choiw\\AppData\\Roaming\\Python\\Python310\\site-packages\\langchain_community\\utilities\\duckduckgo_search.py:64: UserWarning: backend='api' is deprecated, using backend='auto'\n",
      "  ddgs_gen = ddgs.text(\n"
     ]
    },
    {
     "name": "stdout",
     "output_type": "stream",
     "text": [
      "\n",
      "Observation: \u001b[36;1m\u001b[1;3m2. 액침냉각의 종류. 액침냉각은 시스템의 열을 효율적으로 관리하기 위해 다양한 방식으로 구현됩니다. 크게 싱글 페이즈 냉각(Single-Phase Immersion Cooling)과 투 페이즈 냉각(Two-Phase Immersion Cooling)으로 구분되며, 각각의 원리와 특징, 적용 사례가 다릅니다. 단상 액침냉각 방식(Single-phase Immersion) '서버 → 펌프 → CUD → 서버' 의 순환 사이클 1-Phase Immersion Cooling System은 유전체 용액을 서버에 순환시켜 냉각하는 방식이다. LiquidStack: LiquidStack는 2상 액침냉각 기술의 선두주자로, 에너지 효율적인 솔루션을 제공하며 많은 투자를 받아 왔습니다. Green Revolution Cooling (GRC): GRC는 단상 액침냉각 기술을 전문으로 하며, Dell과 Intel과 같은 주요 IT 기업들과 협력합니다. 액침냉각에 사용되는 절연유체에 따라 단상(single-phase) 방식과 2상(two-phase) 방식이 있습니다. (1) 단상 방식 단상 방식의 경우 절연유체가 액체 상태로 순환하며, 전기 부품을 통과하면서 열을 흡수합니다. 액침냉각은 사용되는 절연유체에 따라 단상(Single Phase) 방식과 2상(Two-Phase) 방식이 있다. 액침 냉각(lmmersion Cooling)단상(Single Phase) 방식 / 사진 GRCOOLING.COM 단상방식은 절연유체가 액체 상태로 순환하며 전기 부품을 통과하면서 열을 흡수한다.\u001b[0m\n",
      "Thought:\u001b[32;1m\u001b[1;3mThought:I now know the final answer\n",
      "Final Answer:## 액침 냉각 기술 종류 비교표\n",
      "\n",
      "| 구분 | 단상 액침 냉각 (Single-Phase Immersion Cooling) | 2상 액침 냉각 (Two-Phase Immersion Cooling) |\n",
      "|---|---|---|\n",
      "| **원리** |  절연 액체가 액체 상태로 순환하며 서버 및 부품의 열을 흡수하여 냉각합니다. 데워진 액체는 열교환기를 통해 다시 냉각되어 순환합니다. | 절연 액체가 서버 및 부품의 열을 흡수하여 끓어 기체로 상변화하면서 냉각합니다. 기화된 냉매는 응축기를 통해 액체로 다시 응축되어 순환합니다. |\n",
      "| **냉각 방식** | 액체 순환 방식 | 상변화 (기화 및 응축) 이용 방식 |\n",
      "| **유체 상태 변화** | 액체 상태 유지 | 액체 → 기체 → 액체 (상변화) |\n",
      "| **시스템 복잡성** | 비교적 단순 | 비교적 복잡 |\n",
      "| **냉각 효율** | 2상에 비해 상대적으로 낮음 | 2상에 비해 높음 |\n",
      "| **에너지 효율** | 2상에 비해 상대적으로 낮을 수 있음 | 2상에 비해 높음 (상변화 잠열 활용) |\n",
      "| **주요 특징** | - 시스템 구성 및 관리가 비교적 용이함 - 넓은 범위의 유체 선택 가능 | - 높은 냉각 성능으로 고밀도 발열 환경에 적합 - 유량 제어가 비교적 단순 |\n",
      "| **적용 분야** | - 일반적인 데이터센터 - GPU 서버 (고밀도 서버) - 에너지 효율 개선이 필요한 환경 | - 고성능 컴퓨팅 (HPC) - AI/ML 워크로드 - 극한의 냉각 성능이 요구되는 환경 - 우주항공, 군사 분야 |\n",
      "| **장점** | - 기술 성숙도 높음 - 초기 구축 비용 및 운영 비용이 상대적으로 저렴할 수 있음 - 다양한 냉매 옵션 존재 | - 뛰어난 냉각 성능 및 균일한 온도 유지 - 펌프 동력 소비 감소 가능 (자연 순환 방식) - 냉매 사용량 감소 가능 |\n",
      "| **단점** | - 2상에 비해 냉각 성능 제한적일 수 있음 - 고밀도 환경에서 냉각 효율 감소 가능성 | - 시스템 복잡성으로 인한 초기 구축 비용 및 유지 보수 비용 증가 가능성 - 냉매 누출 및 관리에 대한 안전성 고려 필요 - 단상 대비 제한적인 냉매 선택 |\n",
      "| **대표 기업** | GRC (Green Revolution Cooling), LiquidCool | LiquidStack, Iceotope |\n",
      "\n",
      "**참고:**\n",
      "\n",
      "* 위 표는 일반적인 특징을 비교한 것이며, 실제 액침 냉각 시스템의 성능은 설계 및 적용 환경에 따라 달라질 수 있습니다.\n",
      "* 액침 냉각 기술은 지속적으로 발전하고 있으며, 새로운 기술과 방식이 개발될 수 있습니다.\u001b[0m\n",
      "\n",
      "\u001b[1m> Finished chain.\u001b[0m\n",
      "## 액침 냉각 기술 종류 비교표\n",
      "\n",
      "| 구분 | 단상 액침 냉각 (Single-Phase Immersion Cooling) | 2상 액침 냉각 (Two-Phase Immersion Cooling) |\n",
      "|---|---|---|\n",
      "| **원리** |  절연 액체가 액체 상태로 순환하며 서버 및 부품의 열을 흡수하여 냉각합니다. 데워진 액체는 열교환기를 통해 다시 냉각되어 순환합니다. | 절연 액체가 서버 및 부품의 열을 흡수하여 끓어 기체로 상변화하면서 냉각합니다. 기화된 냉매는 응축기를 통해 액체로 다시 응축되어 순환합니다. |\n",
      "| **냉각 방식** | 액체 순환 방식 | 상변화 (기화 및 응축) 이용 방식 |\n",
      "| **유체 상태 변화** | 액체 상태 유지 | 액체 → 기체 → 액체 (상변화) |\n",
      "| **시스템 복잡성** | 비교적 단순 | 비교적 복잡 |\n",
      "| **냉각 효율** | 2상에 비해 상대적으로 낮음 | 2상에 비해 높음 |\n",
      "| **에너지 효율** | 2상에 비해 상대적으로 낮을 수 있음 | 2상에 비해 높음 (상변화 잠열 활용) |\n",
      "| **주요 특징** | - 시스템 구성 및 관리가 비교적 용이함 - 넓은 범위의 유체 선택 가능 | - 높은 냉각 성능으로 고밀도 발열 환경에 적합 - 유량 제어가 비교적 단순 |\n",
      "| **적용 분야** | - 일반적인 데이터센터 - GPU 서버 (고밀도 서버) - 에너지 효율 개선이 필요한 환경 | - 고성능 컴퓨팅 (HPC) - AI/ML 워크로드 - 극한의 냉각 성능이 요구되는 환경 - 우주항공, 군사 분야 |\n",
      "| **장점** | - 기술 성숙도 높음 - 초기 구축 비용 및 운영 비용이 상대적으로 저렴할 수 있음 - 다양한 냉매 옵션 존재 | - 뛰어난 냉각 성능 및 균일한 온도 유지 - 펌프 동력 소비 감소 가능 (자연 순환 방식) - 냉매 사용량 감소 가능 |\n",
      "| **단점** | - 2상에 비해 냉각 성능 제한적일 수 있음 - 고밀도 환경에서 냉각 효율 감소 가능성 | - 시스템 복잡성으로 인한 초기 구축 비용 및 유지 보수 비용 증가 가능성 - 냉매 누출 및 관리에 대한 안전성 고려 필요 - 단상 대비 제한적인 냉매 선택 |\n",
      "| **대표 기업** | GRC (Green Revolution Cooling), LiquidCool | LiquidStack, Iceotope |\n",
      "\n",
      "**참고:**\n",
      "\n",
      "* 위 표는 일반적인 특징을 비교한 것이며, 실제 액침 냉각 시스템의 성능은 설계 및 적용 환경에 따라 달라질 수 있습니다.\n",
      "* 액침 냉각 기술은 지속적으로 발전하고 있으며, 새로운 기술과 방식이 개발될 수 있습니다.\n"
     ]
    }
   ],
   "source": [
    "response = agent.run(\"액침 냉각 기술의 종류를 표로 비교해 줘\")\n",
    "print(response)"
   ]
  },
  {
   "cell_type": "code",
   "execution_count": 70,
   "id": "9cfbe644",
   "metadata": {},
   "outputs": [],
   "source": [
    "from langchain.tools import tool\n",
    "from bs4 import BeautifulSoup\n",
    "import requests\n",
    "import time\n",
    "import re\n",
    "\n",
    "@tool\n",
    "def web_search(query: str) -> str:\n",
    "    \"\"\"Bing 검색 결과를 스크래핑하여 관련 콘텐츠를 반환합니다.\"\"\"\n",
    "\n",
    "    headers = {'User-Agent': 'Mozilla/5.0 (X11; Linux x86_64) AppleWebKit/537.36'}\n",
    "    search_url = f\"https://www.bing.com/search?q={query}\"\n",
    "    response = requests.get(search_url, headers=headers)\n",
    "    time.sleep(5)\n",
    "    soup = BeautifulSoup(response.text, 'html.parser')\n",
    "\n",
    "    k = soup.find_all('a', target='_blank')\n",
    "    news = []\n",
    "    for i in k:\n",
    "        if i['href'][0:4] == 'http':\n",
    "            news.append(i)\n",
    "    \n",
    "    description = soup.find_all('p',class_=re.compile(\"^b_lineclamp\"))\n",
    "\n",
    "    search_results = []\n",
    "    for index,content in enumerate(description):\n",
    "        #print(news[index].contents[0])\n",
    "        print(news[index]['href'])\n",
    "        #print(content.contents[0])\n",
    "        search_results.append({\n",
    "                    'title': news[index].contents[0],\n",
    "                    'link': news[index]['href'],\n",
    "                    'description': content.contents[0]})\n",
    "        \n",
    "    # 검색 결과에서 링크와 요약 추출\n",
    "    results = []\n",
    "\n",
    "    for news in search_results:\n",
    "        \n",
    "        results.append(f\"{news['title']}\\n{news['description']}\\n{news['link']}\")\n",
    "\n",
    "    return \"\\n\\n\".join(results)  # 상위 10개 결과 반환"
   ]
  },
  {
   "cell_type": "code",
   "execution_count": null,
   "id": "967d8b4f",
   "metadata": {},
   "outputs": [],
   "source": []
  },
  {
   "cell_type": "code",
   "execution_count": 71,
   "id": "02b0a387",
   "metadata": {},
   "outputs": [],
   "source": [
    "from langchain.agents import initialize_agent\n",
    "from langchain_openai import ChatOpenAI\n",
    "\n",
    "#llm = ChatOpenAI(model=\"gpt-3.5-turbo\")\n",
    "llm = ChatGoogleGenerativeAI(model=\"gemini-2.0-flash-thinking-exp\", temperature=0)\n",
    "tools = [web_search]  # 커스텀 도구 추가\n",
    "\n",
    "agent = initialize_agent(\n",
    "    tools,\n",
    "    llm,\n",
    "    agent=\"zero-shot-react-description\",\n",
    "    verbose=True\n",
    ")"
   ]
  },
  {
   "cell_type": "code",
   "execution_count": 72,
   "id": "e41175da",
   "metadata": {},
   "outputs": [
    {
     "name": "stdout",
     "output_type": "stream",
     "text": [
      "\n",
      "\n",
      "\u001b[1m> Entering new AgentExecutor chain...\u001b[0m\n",
      "\u001b[32;1m\u001b[1;3mThought: RSS Feed에 대한 설명을 제공하기 위해 웹 검색을 사용해야 합니다. \"RSS Feed 란\"과 같은 검색어를 사용하여 한국어로 된 정보를 찾아보겠습니다.\n",
      "Action: web_search\n",
      "Action Input: RSS Feed 란\u001b[0mhttps://hof.pe.kr/548\n",
      "https://m.blog.naver.com/patchwork_corp/222485364227\n",
      "https://m.blog.naver.com/jameschoie/222200558891\n",
      "https://quddydwjswk.tistory.com/entry/RSS-%ED%94%BC%EB%93%9C%EC%9D%98-%EA%B0%9C%EB%85%90%EA%B3%BC-%EC%82%AC%EC%9A%A9%EB%B0%A9%EB%B2%95-RSS%EB%A6%AC%EB%8D%94\n",
      "https://namu.wiki/w/RSS\n",
      "https://ko.wikipedia.org/wiki/RSS\n",
      "https://heyjihye.com/blog/rss-feed/\n",
      "https://mwultong.blogspot.com/2007/10/rss-rss-feed.html\n",
      "https://steemit.com/kr/@andydream/rss-rss\n",
      "https://ko.site123.com/learn/rss%eb%9e%80-%eb%ac%b4%ec%97%87%ec%9d%b4%eb%a9%b0-%ec%99%9c-%ed%95%84%ec%9a%94%ed%95%9c%ea%b0%80\n",
      "\n",
      "Observation: \u001b[36;1m\u001b[1;3mRSS란 무엇인가. (초보용) - hof\n",
      "rss란 무엇인가? RSS는 Really Simple Syndication의 머리글자를 딴 말이며, 사이트에 새로 올라온 글을 쉽게 구독할 수 있도록 하는 일종의 규칙입니다. 사이트에서는 바뀐 내용, 새로운 글을 RSS라는 규칙에 따라 제공하면 이용자는 RSS를 읽을 수 있는 프로그램 (보통 RSS ...\n",
      "https://hof.pe.kr/548\n",
      "\n",
      "RSS 란 무엇인가 - 네이버 블로그\n",
      "그래서 RSS가 지원되는 사이트들의 정보(RSS feed) 를 모아서 . RSS를 볼 수 있는 RSS 뷰어(Reader)를 통해 한 번에 보게 됩니다. 일종의 구독과 유사하다 할 수 있습니다. RSS가 이메일 정기구독 서비스에 비해 가지는 장점은 아래와 같습니다.\n",
      "https://m.blog.naver.com/patchwork_corp/222485364227\n",
      "\n",
      "RSS 피드의 개념과 사용방법, RSS리더 - 네이버 블로그\n",
      "대부분의 RSS 유저들이 사용하는 RSS 리더 Feedly입니다. 외국 사이트이긴 하지만 사용이 간편해서 언어 상관 없습니다. Feedly RSS 리더는 구글, 페이스북, 트위터, 애플, 마이크로소프트, 에버노트 등의 계정으로 이용가능합니다.\n",
      "https://m.blog.naver.com/jameschoie/222200558891\n",
      "\n",
      "RSS 피드의 개념과 사용방법, RSS리더\n",
      "2021년 1월 9일 · RSS는 Rich Site Summary의 약자로 \"풍부한 사이트의 요약\" 그러니깐 쉽게 말하자면 우리가 아는 네이버 뉴스, 티스토리, 네이버 카페와 같은. …\n",
      "https://quddydwjswk.tistory.com/entry/RSS-%ED%94%BC%EB%93%9C%EC%9D%98-%EA%B0%9C%EB%85%90%EA%B3%BC-%EC%82%AC%EC%9A%A9%EB%B0%A9%EB%B2%95-RSS%EB%A6%AC%EB%8D%94\n",
      "\n",
      "RSS - 나무위키\n",
      "2024년 7월 17일 · RSS는 어떤 사이트에 새로운 콘텐츠가 올라왔을 때 해당 사이트에 방문하지 않고, RSS서비스를 통해 리더 한 곳에서 그 콘텐츠를 이용하기 위한 방법이다. 쉽게 생각하면, …\n",
      "https://namu.wiki/w/RSS\n",
      "\n",
      "RSS - 위키백과, 우리 모두의 백과사전\n",
      "2025년 1월 29일 · RSS 2.0의 〈enclosure〉태그 내에 MP3 나 MOV 등의 미디어 파일을 첨부하여 배포하면, 팟캐스팅 클라이언트를 이용해 파일을 내려 받아 감상할 수 있다. RSS 2.0은 …\n",
      "https://ko.wikipedia.org/wiki/RSS\n",
      "\n",
      "RSS 피드 — 콘텐츠를 지속 발행하는 웹사이트의 필수 …\n",
      "2023년 4월 15일 · RSS 피드 (=RSS 채널)은 발행 주체인 채널과 발행한 콘텐츠 정보를 담고 있는 웹 피드 중 하나에요. 블로그, 기사, 웹툰, 웹소설, 팟캐스트 등 시리즈 콘텐츠를 발행 즉시 독자/청취자/시청자에게 전달하기 위해 많이 …\n",
      "https://heyjihye.com/blog/rss-feed/\n",
      "\n",
      "RSS란? RSS피드란 무엇인가요? 사이트 피드(Feed)의 뜻, 의미\n",
      "2024년 10월 28일 · RSS(Really Simple Syndication 의 약자) 같은 \"사이트 피드\"란, 새 기사들의 제목만, 또는 새 기사들 전체를 뽑아서 하나의 파일로 만들어 놓은 것입니다. 이제 각 …\n",
      "https://mwultong.blogspot.com/2007/10/rss-rss-feed.html\n",
      "\n",
      "[꿀팁] 초보자를 위한 RSS 란? RSS의 뜻과 의미는? 레알! 쉽게 ...\n",
      "RSS(Really Simple Syndication 의 약자) 같은 \"사이트 피드\"란, 새 기사들의 제목만, 또는 새 기사들 전체를 뽑아서 하나의 파일로 만들어 놓은 것입니다. 이제 각 사이트들에서 제공하는 RSS파일 …\n",
      "https://steemit.com/kr/@andydream/rss-rss\n",
      "\n",
      "RSS란 무엇이며 왜 필요한가? | RSS | SITE123\n",
      "RSS는 실시간으로 다양한 소스에서 정보를 가져오는 온라인 출판 형식입니다. 이 업데이트는 RSS 피드나 채널 형태로 제공되며, 구독자나 웹사이트 방문자를 위해 모든 정보를 취합합니다. 웹사이트가 필요하십니까? 웹사이트를 구축하고 …\n",
      "https://ko.site123.com/learn/rss%eb%9e%80-%eb%ac%b4%ec%97%87%ec%9d%b4%eb%a9%b0-%ec%99%9c-%ed%95%84%ec%9a%94%ed%95%9c%ea%b0%80\u001b[0m\n",
      "Thought:\u001b[32;1m\u001b[1;3mThought: I now know the final answer\n",
      "Final Answer: RSS Feed는 Really Simple Syndication의 약자로, 웹사이트에서 새로운 콘텐츠가 업데이트될 때 사용자에게 자동으로 알려주는 기술입니다.  쉽게 말해, 사용자가 좋아하는 웹사이트의 새 글이나 정보를 일일이 방문하지 않아도 RSS 리더 프로그램을 통해 한 곳에서 모아볼 수 있도록 해주는 '구독' 시스템과 유사합니다.\n",
      "\n",
      "**RSS Feed의 핵심 개념:**\n",
      "\n",
      "* **콘텐츠 요약 제공:** 웹사이트의 새로운 콘텐츠 (글, 뉴스, 팟캐스트 등)의 제목, 내용 요약, 링크 등을 담은 정보를 제공합니다.\n",
      "* **자동 업데이트:**  웹사이트를 직접 방문하지 않아도 RSS 리더를 통해 최신 정보를 자동으로 받아볼 수 있습니다.\n",
      "* **구독 기반:** 사용자는 관심 있는 웹사이트의 RSS Feed를 구독하여 정보를 받아봅니다.\n",
      "* **RSS 리더 활용:**  RSS Feed를 구독하고 내용을 확인하기 위해서는 RSS 리더 프로그램이나 앱이 필요합니다. Feedly 등이 대표적인 RSS 리더입니다.\n",
      "\n",
      "**RSS Feed의 장점:**\n",
      "\n",
      "* **시간 절약:** 여러 웹사이트를 방문하지 않고 한 곳에서 새로운 정보를 확인할 수 있어 시간을 절약해 줍니다.\n",
      "* **정보 효율성:** 관심 있는 정보만 선별적으로 받아볼 수 있어 정보 과부하를 줄여줍니다.\n",
      "* **빠른 정보 습득:**  새로운 콘텐츠가 게시되는 즉시 알림을 받을 수 있어 빠르게 정보를 습득할 수 있습니다.\n",
      "\n",
      "**RSS Feed의 예시:**\n",
      "\n",
      "* 블로그의 새 글 업데이트\n",
      "* 뉴스 사이트의 속보\n",
      "* 팟캐스트의 새로운 에피소드\n",
      "* 유튜브 채널의 새 영상\n",
      "\n",
      "**요약하자면, RSS Feed는 사용자가 원하는 웹사이트의 최신 정보를 효율적으로 받아볼 수 있도록 도와주는 편리한 기술입니다.**\u001b[0m\n",
      "\n",
      "\u001b[1m> Finished chain.\u001b[0m\n",
      "RSS Feed는 Really Simple Syndication의 약자로, 웹사이트에서 새로운 콘텐츠가 업데이트될 때 사용자에게 자동으로 알려주는 기술입니다.  쉽게 말해, 사용자가 좋아하는 웹사이트의 새 글이나 정보를 일일이 방문하지 않아도 RSS 리더 프로그램을 통해 한 곳에서 모아볼 수 있도록 해주는 '구독' 시스템과 유사합니다.\n",
      "\n",
      "**RSS Feed의 핵심 개념:**\n",
      "\n",
      "* **콘텐츠 요약 제공:** 웹사이트의 새로운 콘텐츠 (글, 뉴스, 팟캐스트 등)의 제목, 내용 요약, 링크 등을 담은 정보를 제공합니다.\n",
      "* **자동 업데이트:**  웹사이트를 직접 방문하지 않아도 RSS 리더를 통해 최신 정보를 자동으로 받아볼 수 있습니다.\n",
      "* **구독 기반:** 사용자는 관심 있는 웹사이트의 RSS Feed를 구독하여 정보를 받아봅니다.\n",
      "* **RSS 리더 활용:**  RSS Feed를 구독하고 내용을 확인하기 위해서는 RSS 리더 프로그램이나 앱이 필요합니다. Feedly 등이 대표적인 RSS 리더입니다.\n",
      "\n",
      "**RSS Feed의 장점:**\n",
      "\n",
      "* **시간 절약:** 여러 웹사이트를 방문하지 않고 한 곳에서 새로운 정보를 확인할 수 있어 시간을 절약해 줍니다.\n",
      "* **정보 효율성:** 관심 있는 정보만 선별적으로 받아볼 수 있어 정보 과부하를 줄여줍니다.\n",
      "* **빠른 정보 습득:**  새로운 콘텐츠가 게시되는 즉시 알림을 받을 수 있어 빠르게 정보를 습득할 수 있습니다.\n",
      "\n",
      "**RSS Feed의 예시:**\n",
      "\n",
      "* 블로그의 새 글 업데이트\n",
      "* 뉴스 사이트의 속보\n",
      "* 팟캐스트의 새로운 에피소드\n",
      "* 유튜브 채널의 새 영상\n",
      "\n",
      "**요약하자면, RSS Feed는 사용자가 원하는 웹사이트의 최신 정보를 효율적으로 받아볼 수 있도록 도와주는 편리한 기술입니다.**\n"
     ]
    }
   ],
   "source": [
    "response = agent.run(\"RSS Feed에 대해서 설명해 줘\")\n",
    "print(response)"
   ]
  },
  {
   "cell_type": "code",
   "execution_count": 74,
   "id": "3dd5f6c9",
   "metadata": {},
   "outputs": [
    {
     "name": "stdout",
     "output_type": "stream",
     "text": [
      "\n",
      "\n",
      "\u001b[1m> Entering new AgentExecutor chain...\u001b[0m\n",
      "\u001b[32;1m\u001b[1;3m\n",
      "Thought: 논문 검색 및 열람이 가능한 사이트를 추천해 달라는 질문입니다. 웹 검색을 통해 관련 정보를 찾아보겠습니다.\n",
      "Action: web_search\n",
      "Action Input: 학술 논문 검색 사이트\u001b[0mhttp://riss.kr/index.do\n",
      "https://www.youtube.com/watch?v=6Hqc6WFEw40\n",
      "https://www.youtube.com/watch?v=Hs0McLtP8wc\n",
      "https://scholar.google.li/schhp?hl=ko\n",
      "https://www.dbpia.co.kr/\n",
      "https://kiss.kstudy.com/\n",
      "https://m.blog.naver.com/moses3650/221176330628\n",
      "https://www.riss.kr/search/Search.do?query=SciSearch\n",
      "https://m.blog.naver.com/sun13588/223204700172\n",
      "https://www.earticle.net/\n",
      "\n",
      "Observation: \u001b[36;1m\u001b[1;3m'한국교육학술정보원(KERIS)'에서 제공하는 '학술연구정보서비스 ...\n",
      "RISS는 국내외 학술자료를 통합적으로 제공하는 웹사이트입니다.\n",
      "http://riss.kr/index.do\n",
      "\n",
      "<div class=\"mc_vtvc_con_rc\" ourl=\"https://www.youtube.com/watch?v=6Hqc6WFEw40\" vscm='{\"mid\":\"A5B5C74BBAD13D6F2916A5B5C74BBAD13D6F2916\",\"murl\":\"https://www.youtube.com/watch?v=6Hqc6WFEw40\",\"pgurl\":\"https://www.youtube.com/watch?v=6Hqc6WFEw40\",\"turl\":\"https://ts2.mm.bing.net/th?id=OVP.36o4YcB_eSJq-2ZxJQZunADIEs&amp;pid=15.1&amp;W=106&amp;H=160\",\"IsSaveable\":true}'><div class=\"mc_vtvc_th b_canvas\"><div class=\"cico\"><img alt=\"AI로 학술논문 쉽게 쓰는 법 | 논문 작성 자동화 완벽 가이드\" class=\"rms_img\" data-priority=\"2\" data-src-hq=\"/th?id=OVP.36o4YcB_eSJq-2ZxJQZunADIEs&amp;w=115&amp;h=204&amp;c=7&amp;rs=1&amp;qlt=90&amp;o=6&amp;pid=1.7\" height=\"204\" id=\"emb5218B2EAF\" src=\"/th?id=OVP.36o4YcB_eSJq-2ZxJQZunADIEs&amp;w=115&amp;h=204&amp;c=7&amp;rs=1&amp;qlt=30&amp;o=6&amp;pid=1.7\" width=\"115\"/></div><div class=\"grad_b\"></div><div class=\"mc_vtvc_htc\"><div class=\"mc_vtvc_htb\"><div class=\"mc_vtvc_ht\">YouTube에서 동영상 보기</div></div></div><div class=\"mc_vtvc_center_play\"></div><div class=\"mc_vtvc_ban_lo\"><div class=\"vtbc\"><div class=\"mc_bc_w b_smText\"><div class=\"mc_bc items\">00:40</div></div></div></div></div><div class=\"mc_vtvc_th_dock vtdc_black\"></div><div class=\"mc_vtvc_meta\"><span class=\"vcmt_ctt vasyt\">YouTube</span><div class=\"mc_vtvc_meta_row_channel\">@AI Data</div><div class=\"mc_vtvc_title b_promtxt\" title=\"AI로 학술논문 쉽게 쓰는 법 | 논문 작성 자동화 완벽 가이드\"><strong>AI로 학술논문 쉽게 쓰는 법 | 논문 작성 자동화 완벽 가이드</strong></div></div><div class=\"vrhdata\" hcid=\"vsb_tr_chd_hc\" mid=\"A5B5C74BBAD13D6F2916A5B5C74BBAD13D6F2916\" sab=\"1\" vrhm=\"\"></div></div>\n",
      "Google 학술검색은 학술 자료를 폭넓게 검색할 간단한 방법을 제공합니다. 기사, 논문, 도서, 초록, 법원 의견과 같은 다양한 학문 및 자료를 검색합니다.\n",
      "https://www.youtube.com/watch?v=6Hqc6WFEw40\n",
      "\n",
      "<div class=\"mc_vtvc_con_rc\" ourl=\"https://www.youtube.com/watch?v=Hs0McLtP8wc\" vscm='{\"mid\":\"C16F451016CDD2C6D6F2C16F451016CDD2C6D6F2\",\"murl\":\"https://www.youtube.com/watch?v=Hs0McLtP8wc\",\"pgurl\":\"https://www.youtube.com/watch?v=Hs0McLtP8wc\",\"turl\":\"https://ts2.mm.bing.net/th?id=OVP.IfKqdeCyQBwTjGuraMZ7WQEkII&amp;pid=15.1&amp;W=89&amp;H=160\",\"IsSaveable\":true}'><div class=\"mc_vtvc_th b_canvas\"><div class=\"cico\"><img alt=\"논문의 연구모형을 그리는 요령?! #논문쓰는법 #논문 #연구모형 #논문컨설팅 #드림셀파 #논문작성법 #논문강의 #논문쓰기 #논문 #박사논문 #석사논문\" class=\"rms_img\" data-priority=\"2\" data-src-hq=\"/th?id=OVP.IfKqdeCyQBwTjGuraMZ7WQEkII&amp;w=115&amp;h=204&amp;c=7&amp;rs=1&amp;qlt=90&amp;o=6&amp;pid=1.7\" height=\"204\" id=\"emb7193C03C9\" src=\"/th?id=OVP.IfKqdeCyQBwTjGuraMZ7WQEkII&amp;w=115&amp;h=204&amp;c=7&amp;rs=1&amp;qlt=30&amp;o=6&amp;pid=1.7\" width=\"115\"/></div><div class=\"grad_b\"></div><div class=\"mc_vtvc_htc\"><div class=\"mc_vtvc_htb\"><div class=\"mc_vtvc_ht\">YouTube에서 동영상 보기</div></div></div><div class=\"mc_vtvc_center_play\"></div><div class=\"mc_vtvc_ban_lo\"><div class=\"vtbc\"><div class=\"mc_bc_w b_smText\"><div class=\"mc_bc items\">00:58</div></div></div></div></div><div class=\"mc_vtvc_th_dock vtdc_black\"></div><div class=\"mc_vtvc_meta\"><span class=\"vcmt_ctt vasyt\">YouTube</span><div class=\"mc_vtvc_meta_row_channel\">@<span title=\"드림셀파 (논문컨설팅 1:1맞춤)\">드림셀파</span></div><div class=\"mc_vtvc_title b_promtxt\" title=\"논문의 연구모형을 그리는 요령?! #논문쓰는법 #논문 #연구모형 #논문컨설팅 #드림셀파 #논문작성법 #논문강의 #논문쓰기 #논문 #박사논문 #석사논문\"><strong>논문의 연구모형을 그리는 요령?! #논문쓰는법 #논문 #연구모형 #논문컨설팅 #드림셀파 #논문작성법 #논문강의 #논문쓰기 #논문 #박사논문 #석사논문</strong></div></div><div class=\"vrhdata\" hcid=\"vsb_tr_chd_hc\" mid=\"C16F451016CDD2C6D6F2C16F451016CDD2C6D6F2\" sab=\"1\" vrhm=\"\"></div></div>\n",
      "[논문 열람, 저작권, 인용, 검색 방법, 참고문헌]등 논문 이용 및 연구활동에 대한 궁금한 사항을 확인해보세요\n",
      "https://www.youtube.com/watch?v=Hs0McLtP8wc\n",
      "\n",
      "Google 학술 검색\n",
      "학술논문검색사이트 KISS는 학술논문,연구논문,연구자료,학술지 등 다양한 자료를 서비스하며, 주제별, 등재별, 인용지수, 인기논문, 이슈논문 등 다양한 키워드의 논문을 제공하여 빠른 …\n",
      "https://scholar.google.li/schhp?hl=ko\n",
      "\n",
      "DBpia - 연구를 돕는 똑똑한 학술콘텐츠 플랫폼\n",
      "주요 학위논문/국 ·내외 학술지/ 단행본/ 강의 /연구보고서등으로 구분하여 검색이 가능하고 . 보편적으로 가장 많이 사용하는 논문 찾기 사이트 . riss의 서지반출 기능을 잘 활용하면 논문 작성전 참고논문 리스트만 쉽게 추릴 수있다.\n",
      "https://www.dbpia.co.kr/\n",
      "\n",
      "지식을 담다. 지식을 나누다. 학술논문 전문 검색\n",
      "embase, medline, scisearch 에서 검색된 한국의학논문의 중복정도와 특성분석. 이은숙 숙명여자대학교 교육대학원 1998 국내석사\n",
      "https://kiss.kstudy.com/\n",
      "\n",
      "논문찾기, 대표 검색 사이트5곳( RISS, KISS, …\n",
      "논문검색 사이트 5곳 추천합니다. 학위논문, 국내학술지논문, 해외학술지논문, 학술지, 단행본, 공개강의, 연구보고서 등 구분하여서 검색이 가능합니다. 자료활용도 분석이나 주제어 연관자료 혹은 검색한 논문을 본 다른 이용자가 …\n",
      "https://m.blog.naver.com/moses3650/221176330628\n",
      "\n",
      "RISS 검색 - 통합검색 - 학술연구정보서비스(RISS)\n",
      "학술논문검색사이트 earticle은 국내 학술단체에서 발행하는 학술논문,연구논문,연구자료,학술지,학술대회논문 등 다양한 자료를 서비스합니다.\n",
      "https://www.riss.kr/search/Search.do?query=SciSearch\n",
      "\n",
      "논문검색사이트 5곳 추천 RISS, KISS, 구글학술, DBPIA, …\n",
      "2024년 10월 23일 · Google Scholar 는 학문적 연구 자료를 검색할 수 있는 가장 널리 사용되는 검색 엔진 중 하나입니다. 다양한 학문 분야의 논문을 무료로 제공하며, 학술지, 학위 논문, 특허 등의 자료도 검색할 수 있어 매우 유용합니다. …\n",
      "https://m.blog.naver.com/sun13588/223204700172\n",
      "\n",
      "학술논문 검색서비스 - earticle\n",
      "2011년 9월 10일 · 구글이 운영하는 학술 논문 검색 서비스로, 전 세계 다양한 학술자료를 무료로 검색할 수 있습니다. 👍특징 : 사용자의 검색 기록과 관심 분야를 기반으로 관련 논문을 추천하며, …\n",
      "https://www.earticle.net/\u001b[0m\n",
      "Thought:\u001b[32;1m\u001b[1;3mThought: I now know the final answer\n",
      "Final Answer: 논문을 검색하고 볼 수 있는 사이트는 다음과 같습니다:\n",
      "\n",
      "* **RISS (학술연구정보서비스):** 국내외 학술자료를 통합적으로 제공하는 한국교육학술정보원(KERIS) 서비스입니다. ([http://riss.kr/index.do](http://riss.kr/index.do))\n",
      "* **Google Scholar (Google 학술 검색):**  다양한 학문 분야의 논문을 무료로 검색할 수 있는 Google의 학술 검색 엔진입니다. ([https://scholar.google.li/schhp?hl=ko](https://scholar.google.li/schhp?hl=ko))\n",
      "* **KISS (한국학술정보):** 학술논문, 연구논문, 학술지 등 다양한 학술 자료를 제공하는 사이트입니다. ([https://kiss.kstudy.com/](https://kiss.kstudy.com/))\n",
      "* **DBpia (디비피아):** 학위논문, 국내외 학술지, 단행본, 연구보고서 등 다양한 학술 콘텐츠를 검색할 수 있는 플랫폼입니다. ([https://www.dbpia.co.kr/](https://www.dbpia.co.kr/))\n",
      "* **earticle (학술논문 검색서비스):** 국내 학술단체에서 발행하는 학술논문, 학술대회논문 등을 제공하는 서비스입니다. ([https://www.earticle.net/](https://www.earticle.net/))\n",
      "\n",
      "이 사이트들을 통해 다양한 분야의 논문을 검색하고 열람하실 수 있습니다.\u001b[0m\n",
      "\n",
      "\u001b[1m> Finished chain.\u001b[0m\n",
      "논문을 검색하고 볼 수 있는 사이트는 다음과 같습니다:\n",
      "\n",
      "* **RISS (학술연구정보서비스):** 국내외 학술자료를 통합적으로 제공하는 한국교육학술정보원(KERIS) 서비스입니다. ([http://riss.kr/index.do](http://riss.kr/index.do))\n",
      "* **Google Scholar (Google 학술 검색):**  다양한 학문 분야의 논문을 무료로 검색할 수 있는 Google의 학술 검색 엔진입니다. ([https://scholar.google.li/schhp?hl=ko](https://scholar.google.li/schhp?hl=ko))\n",
      "* **KISS (한국학술정보):** 학술논문, 연구논문, 학술지 등 다양한 학술 자료를 제공하는 사이트입니다. ([https://kiss.kstudy.com/](https://kiss.kstudy.com/))\n",
      "* **DBpia (디비피아):** 학위논문, 국내외 학술지, 단행본, 연구보고서 등 다양한 학술 콘텐츠를 검색할 수 있는 플랫폼입니다. ([https://www.dbpia.co.kr/](https://www.dbpia.co.kr/))\n",
      "* **earticle (학술논문 검색서비스):** 국내 학술단체에서 발행하는 학술논문, 학술대회논문 등을 제공하는 서비스입니다. ([https://www.earticle.net/](https://www.earticle.net/))\n",
      "\n",
      "이 사이트들을 통해 다양한 분야의 논문을 검색하고 열람하실 수 있습니다.\n"
     ]
    }
   ],
   "source": [
    "response = agent.run(\"논문을 검색하고 볼 수 있는 사이트를 추천해 줘\")\n",
    "print(response)"
   ]
  },
  {
   "cell_type": "code",
   "execution_count": 73,
   "id": "ecab3ce6",
   "metadata": {},
   "outputs": [
    {
     "name": "stdout",
     "output_type": "stream",
     "text": [
      "\n",
      "\n",
      "\u001b[1m> Entering new AgentExecutor chain...\u001b[0m\n",
      "\u001b[32;1m\u001b[1;3mThought: 구글 뉴스를 RSS를 이용해서 크롤링하는 방법을 알아내기 위해 검색을 해봐야겠다. \"구글 뉴스 RSS\" 또는 \"구글 뉴스 RSS 크롤링\" 같은 검색어를 사용하면 될 것 같다. 먼저 \"구글 뉴스 RSS 피드\"로 검색해 보자.\n",
      "Action: web_search\n",
      "Action Input: 구글 뉴스 RSS 피드\u001b[0mhttps://discordbot.tistory.com/17\n",
      "https://shinseungkeon.com/%ea%b5%ac%ea%b8%80-%eb%89%b4%ec%8a%a4-rss-%ec%a3%bc%ec%86%8c-%ed%99%95%ec%9d%b8-%eb%b0%a9%eb%b2%95/\n",
      "https://askai.glarity.app/ko/search/%EA%B5%AC%EA%B8%80-%EB%89%B4%EC%8A%A4-RSS-%ED%94%BC%EB%93%9C%EB%A5%BC-%EC%96%B4%EB%96%BB%EA%B2%8C-%EB%A7%8C%EB%93%A4-%EC%88%98-%EC%9E%88%EB%82%98%EC%9A%94\n",
      "https://m.blog.naver.com/skluzy/221916519975\n",
      "https://amina.co.kr/bbs/board.php?bo_table=tip&wr_id=4776\n",
      "https://jaeoridi.tistory.com/entry/%EA%B5%AC%EA%B8%80-%EB%89%B4%EC%8A%A4-%EC%84%A4%EC%A0%95-%EC%99%84%EB%B2%BD-%EA%B0%80%EC%9D%B4%EB%93%9C-%EB%A7%9E%EC%B6%A4%ED%98%95-%EB%89%B4%EC%8A%A4-%ED%94%BC%EB%93%9C%EB%A5%BC-%EB%A7%8C%EB%93%9C%EB%8A%94-%EB%B0%A9%EB%B2%95\n",
      "https://blog.naver.com/PostView.nhn?blogId=ladozzang&logNo=222999166790\n",
      "https://studyforus.com/innisfree/439994\n",
      "https://choesin.com/google-%EC%95%8C%EB%A6%AC%EB%AF%B8%EC%97%90%EC%84%9C-rss-%ED%94%BC%EB%93%9C%EB%A5%BC-%EB%A7%8C%EB%93%9C%EB%8A%94-%EB%B0%A9%EB%B2%95\n",
      "\n",
      "Observation: \u001b[36;1m\u001b[1;3m구글 뉴스 (언론사별, 키워드별) RSS 뽑는 법 (그리고 디스 ...\n",
      "2020년 1월 25일 · 이렇게 얻은 구글 뉴스의 RSS 피드 주소는 Feedly 등의 RSS 구독기에서 활용할 수 있었다. 내가 이 부분을 과거형으로 말하는 이유는, 정확히 언제부터인지 명확하지 않지만 구글 뉴스에서 RSS 피드 주소를 추출하는 기능이 …\n",
      "https://discordbot.tistory.com/17\n",
      "\n",
      "구글 뉴스 RSS 주소 확인 방법 - 신승건의 서재\n",
      "구글 뉴스의 RSS 피드를 생성하는 방법은 여러 가지가 있습니다. 아래는 구글 뉴스에서 RSS 피드를 만들고 활용하는 방법에 대한 간단한 안내입니다.\n",
      "https://shinseungkeon.com/%ea%b5%ac%ea%b8%80-%eb%89%b4%ec%8a%a4-rss-%ec%a3%bc%ec%86%8c-%ed%99%95%ec%9d%b8-%eb%b0%a9%eb%b2%95/\n",
      "\n",
      "구글 뉴스 RSS 피드를 어떻게 만들 수 있나요? - 질문과 답변 - Glarity\n",
      "2020년 4월 23일 · 출처는 뉴스, 언어는 한국어, 지역은 모든 지역, 개수는 가장 우수한 검색 결과만, 수신 위치는 RSS피드로 하시면 됩니다. 개수를 \"모든 결과\"로 설정하시면 매우 많은 뉴스를 받게 되어서 힘드실 거예요. 가장 우수한 검색 …\n",
      "https://askai.glarity.app/ko/search/%EA%B5%AC%EA%B8%80-%EB%89%B4%EC%8A%A4-RSS-%ED%94%BC%EB%93%9C%EB%A5%BC-%EC%96%B4%EB%96%BB%EA%B2%8C-%EB%A7%8C%EB%93%A4-%EC%88%98-%EC%9E%88%EB%82%98%EC%9A%94\n",
      "\n",
      "구글알리미로 내가 원하는 뉴스만 보기 - 네이버 블로그\n",
      "2018년 10월 27일 · 설명처럼 구글 뉴스를 거치지 않고 바로 알리미 서비스 (3번 사진, https://www.google.co.kr/alerts)에 들어가셔서 검색어를 입력하시면 이에 대한 RSS 피드를 보다 쉽게 생성할 수 있습니다.\n",
      "https://m.blog.naver.com/skluzy/221916519975\n",
      "\n",
      "리뉴얼된 구글 뉴스에서 '알리미'를 이용해 RSS 피드를 …\n",
      "2025년 1월 19일 · 구글 뉴스에서 제공하는 피드 개인화 기능 은 다양한 뉴스 주제를 선별하여 더욱 개인 맞춤화된 경험을 제공합니다. 이 기능을 활용하면 자신이 선호하는 콘텐츠를 즉시 확인할 수 …\n",
      "https://amina.co.kr/bbs/board.php?bo_table=tip&wr_id=4776\n",
      "\n",
      "구글 뉴스 설정 완벽 가이드: 맞춤형 뉴스 피드를 만드는 방법\n",
      "Google 알리미는 사용자가 관심 있는 키워드, 문구, 또는 주제가 웹에서 언급될 때 새로운 콘텐츠를 알려주는 무료 서비스입니다. 새로운 검색 결과가 Google 데이터베이스에 추가될 때마다 이메일 …\n",
      "https://jaeoridi.tistory.com/entry/%EA%B5%AC%EA%B8%80-%EB%89%B4%EC%8A%A4-%EC%84%A4%EC%A0%95-%EC%99%84%EB%B2%BD-%EA%B0%80%EC%9D%B4%EB%93%9C-%EB%A7%9E%EC%B6%A4%ED%98%95-%EB%89%B4%EC%8A%A4-%ED%94%BC%EB%93%9C%EB%A5%BC-%EB%A7%8C%EB%93%9C%EB%8A%94-%EB%B0%A9%EB%B2%95\n",
      "\n",
      "구글 알리미(Google Alerts)로 RSS 피드 받기(Ft. Excel Import Feed)\n",
      "2024년 12월 15일 · 이 글에서는 구글 뉴스를 RSS 피드로 받아보는 방법에 대해 설명드리려고 합니다. 구글에서 '알리미'라는 서비스에 개시한 이후에는 다음과 같이 절차가 다소 복잡해졌습니다. 1. 구글 뉴스 검색. 우선 구글 뉴스에 들어가서 …\n",
      "https://blog.naver.com/PostView.nhn?blogId=ladozzang&logNo=222999166790\n",
      "\n",
      "[번외편 - 구글뉴스] 리뉴얼된 구글뉴스에서 RSS 피드를 …\n",
      "2020년 4월 17일 · RSS 피드에 Google 알리미를 추가하면 이미 최신 뉴스 및 콘텐츠를받는 데 사용하는 소스에서 Google이 생성 한 맞춤 알리미를 쉽게 볼 수 있습니다. 이메일의받은 편지함을 막지 않고 경고를 활용하는 가장 좋은 …\n",
      "https://studyforus.com/innisfree/439994\n",
      "\n",
      "Google 알리미에서 RSS 피드를 만드는 방법 - 최신\n",
      "구글정도의 회사라고 하면 구글 뉴스서비스중 RSS 피딩을 중지했다고 알렸을텐데 관련한 기사를 볼 수 없습니다. 그런다가 우연히 Google News unhides the RSS option – it may not last 을 읽었습니다. 여기에 중요한 정보가 있었습니다. …\n",
      "https://choesin.com/google-%EC%95%8C%EB%A6%AC%EB%AF%B8%EC%97%90%EC%84%9C-rss-%ED%94%BC%EB%93%9C%EB%A5%BC-%EB%A7%8C%EB%93%9C%EB%8A%94-%EB%B0%A9%EB%B2%95\u001b[0m\n",
      "Thought:\u001b[32;1m\u001b[1;3mThought: 구글 뉴스를 RSS로 크롤링하는 방법을 찾기 위해 검색 결과들을 분석해보니, 구글 뉴스에서 직접 RSS 피드를 제공하는 기능은 현재 명확하지 않거나 찾기 어려워 보입니다. 하지만 검색 결과에서 **구글 알리미(Google Alerts)**를 이용하여 원하는 키워드에 대한 RSS 피드를 생성하고, 이를 통해 구글 뉴스를 크롤링하는 방법이 효과적이라는 정보를 얻었습니다. 따라서 구글 알리미를 활용한 방법을 설명하는 것이 가장 적절한 답변이라고 판단했습니다.\n",
      "Final Answer: 구글 뉴스를 RSS를 이용해서 크롤링하는 방법은 다음과 같습니다.\n",
      "\n",
      "**1. 구글 알리미 (Google Alerts) 접속:**\n",
      "\n",
      "*   웹 브라우저를 열고 [https://www.google.com/alerts](https://www.google.com/alerts) 에 접속합니다.\n",
      "\n",
      "**2. 알림 만들기:**\n",
      "\n",
      "*   **검색어:**  크롤링하고 싶은 뉴스 주제 또는 키워드를 입력합니다. 예를 들어, \"인공지능\", \"주식 시장\", 특정 회사 이름 등을 입력할 수 있습니다.\n",
      "*   **소스:** \"뉴스\"를 선택합니다. 이렇게 하면 구글 뉴스에서 검색된 결과만 RSS 피드로 받을 수 있습니다.\n",
      "*   **언어, 지역, 빈도, 수신 위치:**  원하는 조건에 맞게 설정합니다.\n",
      "    *   **빈도:**  \"최대한 자주\"를 선택하면 거의 실시간으로 뉴스를 받아볼 수 있습니다.\n",
      "    *   **수신 위치:** \"RSS 피드\"를 선택합니다.\n",
      "\n",
      "**3. RSS 피드 URL 복사:**\n",
      "\n",
      "*   \"알림 만들기\" 버튼을 클릭하면 생성된 알림 목록이 표시됩니다.\n",
      "*   생성된 알림 옆에 있는 RSS 피드 아이콘 (주황색 Wi-Fi 모양)을 우클릭하고 \"링크 주소 복사\" 또는 \"링크 URL 복사\"를 선택합니다. 이 URL이 RSS 피드 주소입니다.\n",
      "\n",
      "**4. RSS 리더 또는 크롤러에 등록:**\n",
      "\n",
      "*   복사한 RSS 피드 URL을 RSS 리더 프로그램 (Feedly, Inoreader 등) 또는 RSS 크롤링 프로그램에 등록합니다.\n",
      "*   프로그램을 통해 RSS 피드를 주기적으로 읽어와 원하는 뉴스 정보를 크롤링할 수 있습니다.\n",
      "\n",
      "**주의사항:**\n",
      "\n",
      "*   구글 알리미는 완벽하게 실시간으로 모든 뉴스를 제공하지 않을 수 있습니다.\n",
      "*   구글 뉴스 자체의 정책 변경에 따라 알리미 기능이나 RSS 피드 제공 방식이 변경될 수 있습니다.\n",
      "\n",
      "**요약:**\n",
      "\n",
      "구글 뉴스를 직접 크롤링하는 것보다 구글 알리미를 이용하여 원하는 키워드에 대한 뉴스 RSS 피드를 생성하고, 이를 크롤링하는 것이 더 효과적이고 일반적인 방법입니다. 구글 알리미는 사용하기 쉽고 무료로 제공되므로, 뉴스 크롤링에 유용하게 활용할 수 있습니다.\u001b[0m\n",
      "\n",
      "\u001b[1m> Finished chain.\u001b[0m\n",
      "구글 뉴스를 RSS를 이용해서 크롤링하는 방법은 다음과 같습니다.\n",
      "\n",
      "**1. 구글 알리미 (Google Alerts) 접속:**\n",
      "\n",
      "*   웹 브라우저를 열고 [https://www.google.com/alerts](https://www.google.com/alerts) 에 접속합니다.\n",
      "\n",
      "**2. 알림 만들기:**\n",
      "\n",
      "*   **검색어:**  크롤링하고 싶은 뉴스 주제 또는 키워드를 입력합니다. 예를 들어, \"인공지능\", \"주식 시장\", 특정 회사 이름 등을 입력할 수 있습니다.\n",
      "*   **소스:** \"뉴스\"를 선택합니다. 이렇게 하면 구글 뉴스에서 검색된 결과만 RSS 피드로 받을 수 있습니다.\n",
      "*   **언어, 지역, 빈도, 수신 위치:**  원하는 조건에 맞게 설정합니다.\n",
      "    *   **빈도:**  \"최대한 자주\"를 선택하면 거의 실시간으로 뉴스를 받아볼 수 있습니다.\n",
      "    *   **수신 위치:** \"RSS 피드\"를 선택합니다.\n",
      "\n",
      "**3. RSS 피드 URL 복사:**\n",
      "\n",
      "*   \"알림 만들기\" 버튼을 클릭하면 생성된 알림 목록이 표시됩니다.\n",
      "*   생성된 알림 옆에 있는 RSS 피드 아이콘 (주황색 Wi-Fi 모양)을 우클릭하고 \"링크 주소 복사\" 또는 \"링크 URL 복사\"를 선택합니다. 이 URL이 RSS 피드 주소입니다.\n",
      "\n",
      "**4. RSS 리더 또는 크롤러에 등록:**\n",
      "\n",
      "*   복사한 RSS 피드 URL을 RSS 리더 프로그램 (Feedly, Inoreader 등) 또는 RSS 크롤링 프로그램에 등록합니다.\n",
      "*   프로그램을 통해 RSS 피드를 주기적으로 읽어와 원하는 뉴스 정보를 크롤링할 수 있습니다.\n",
      "\n",
      "**주의사항:**\n",
      "\n",
      "*   구글 알리미는 완벽하게 실시간으로 모든 뉴스를 제공하지 않을 수 있습니다.\n",
      "*   구글 뉴스 자체의 정책 변경에 따라 알리미 기능이나 RSS 피드 제공 방식이 변경될 수 있습니다.\n",
      "\n",
      "**요약:**\n",
      "\n",
      "구글 뉴스를 직접 크롤링하는 것보다 구글 알리미를 이용하여 원하는 키워드에 대한 뉴스 RSS 피드를 생성하고, 이를 크롤링하는 것이 더 효과적이고 일반적인 방법입니다. 구글 알리미는 사용하기 쉽고 무료로 제공되므로, 뉴스 크롤링에 유용하게 활용할 수 있습니다.\n"
     ]
    }
   ],
   "source": [
    "response = agent.run(\"RSS를 이용해서 구글 뉴스를 크롤링하는 방법을 알려줘\")\n",
    "print(response)"
   ]
  },
  {
   "cell_type": "code",
   "execution_count": 53,
   "id": "11805235",
   "metadata": {},
   "outputs": [
    {
     "name": "stdout",
     "output_type": "stream",
     "text": [
      "\n",
      "\n",
      "\u001b[1m> Entering new AgentExecutor chain...\u001b[0m\n",
      "\u001b[32;1m\u001b[1;3mThought: 사용자 질문은 NVIDIA의 CUDA에 대한 자세한 정보를 요청하고 있습니다. 웹 검색 도구를 사용하여 CUDA에 대한 정보를 검색해야 합니다. \"nvidia cuda\" 키워드로 검색하여 일반적인 정보를 얻고, 필요하다면 검색어를 구체화하여 더 자세한 정보를 찾아보겠습니다.\n",
      "Action: web_search\n",
      "Action Input: nvidia cuda\u001b[0mhttps://developer.nvidia.com/cuda-downloads\n",
      "https://developer.nvidia.com/cuda-toolkit\n",
      "https://namu.wiki/w/CUDA\n",
      "https://gaeunhan.tistory.com/159\n",
      "https://docs.nvidia.com/cuda/cuda-installation-guide-microsoft-windows/index.html\n",
      "https://blogs.nvidia.co.kr/blog/cuda-toolkit/\n",
      "https://developer.nvidia.com/cuda-12-6-3-download-archive?target_os=Windows&target_arch=x86_64&target_version=11&target_type=exe_local\n",
      "https://docs.nvidia.com/cuda/doc/index.html\n",
      "https://docs.nvidia.com/cuda/\n",
      "https://www.nvidia.com/ko-kr/technologies/cuda-x/\n",
      "\n",
      "Observation: \u001b[36;1m\u001b[1;3mCUDA Toolkit 12.8 Downloads - NVIDIA Developer\n",
      "CUDA Toolkit 12.8 Downloads Select Target Platform Click on the green buttons that describe your target platform. Only supported platforms will be shown. By downloading and using the …\n",
      "https://developer.nvidia.com/cuda-downloads\n",
      "\n",
      "CUDA Toolkit - Free Tools and Training | NVIDIA …\n",
      "The NVIDIA® CUDA® Toolkit provides a development environment for creating high-performance, GPU-accelerated applications. With it, you can develop, optimize, and deploy your applications on GPU-accelerated embedded …\n",
      "https://developer.nvidia.com/cuda-toolkit\n",
      "\n",
      "CUDA - 나무위키\n",
      "2024년 12월 11일 · CUDA는 NVIDIA가 만든 GPGPU를 활용할 수 있게 해주는 소프트웨어 스택으로, C, C++, 포트란 등 다양한 언어에서 사용할 수 있다. CUDA의 버전, 아키텍처, 유사 …\n",
      "https://namu.wiki/w/CUDA\n",
      "\n",
      "[딥러닝] 윈도우에서 Cuda, cuDNN 설치하기\n",
      "2024년 9월 29일 · Cuda와 cuDNN 이란? CUDA toolkit NVDIA에서 개발한 소프트웨어 개발도구 모음 GPU가 병렬연산을 수행할 수 있게 해준다. → 고성능 컴퓨팅 연산이 가능하게 됨\n",
      "https://gaeunhan.tistory.com/159\n",
      "\n",
      "1. Introduction — Installation Guide Windows 12.8 …\n",
      "2025년 1월 23일 · The NVIDIA CUDA Toolkit is available at https://developer.nvidia.com/cuda-downloads. Choose the platform you are using and one of the following installer formats:\n",
      "https://docs.nvidia.com/cuda/cuda-installation-guide-microsoft-windows/index.html\n",
      "\n",
      "CUDA 툴킷 다운로드하고, GPU를 자유자재로 …\n",
      "2018년 1월 16일 · CUDA는 엔비디아 GPU에서 수행하는 병렬 프로그래밍 언어로, 산업 표준 언어를 이용해 GPU를 활용할 수 있게 해줍니다. 엔비디아 CUDA 툴킷은 CUDA 아키텍처와 관련된 소프트웨어 개발 툴, 서비스 및 파트너 기반 솔루션을 …\n",
      "https://blogs.nvidia.co.kr/blog/cuda-toolkit/\n",
      "\n",
      "CUDA Toolkit 12.6 Update 3 Downloads | NVIDIA Developer\n",
      "CUDA Toolkit 12.6 Update 3 Downloads Select Target Platform Click on the green buttons that describe your target platform. Only supported platforms will be shown. By downloading and …\n",
      "https://developer.nvidia.com/cuda-12-6-3-download-archive?target_os=Windows&target_arch=x86_64&target_version=11&target_type=exe_local\n",
      "\n",
      "NVIDIA CUDA - NVIDIA Docs\n",
      "Learn how to use the NVIDIA CUDA Toolkit to create GPU-accelerated applications in C and C++. Explore the math libraries, debugging tools, and runtime library for various domains and platforms.\n",
      "https://docs.nvidia.com/cuda/doc/index.html\n",
      "\n",
      "CUDA Toolkit Documentation 12.8\n",
      "2025년 1월 23일 · The NVIDIA® CUDA® Toolkit provides a development environment for creating high performance GPU-accelerated applications. With the CUDA Toolkit, you can develop, optimize, and deploy your applications on …\n",
      "https://docs.nvidia.com/cuda/\n",
      "\n",
      "NVIDIA CUDA-X\n",
      "3일 전 · CUDA-X 마이크로서비스에는 맞춤형 음성 및 번역 AI를 위한 NVIDIA® Riva, 고해상도 기후 및 날씨 시뮬레이션을 위한 NVIDIA Earth-2, 경로 최적화를 위한 NVIDIA cuOpt™, 반응성이 뛰어난 엔터프라이즈용 검색 증강 생성 (RAG) …\n",
      "https://www.nvidia.com/ko-kr/technologies/cuda-x/\u001b[0m\n",
      "Thought:\u001b[32;1m\u001b[1;3mThought: 저는 이제 최종 답변을 알았습니다.\n",
      "Final Answer:## NVIDIA CUDA에 대한 자세한 정보\n",
      "\n",
      "CUDA(Compute Unified Device Architecture)는 NVIDIA에서 개발한 병렬 컴퓨팅 플랫폼 및 프로그래밍 모델입니다. CUDA를 사용하면 개발자가 NVIDIA GPU(Graphics Processing Unit)의 병렬 처리 능력을 활용하여 컴퓨팅 집약적인 작업을 가속화할 수 있습니다.\n",
      "\n",
      "**CUDA의 핵심 특징 및 정보:**\n",
      "\n",
      "1. **GPGPU (General-Purpose GPU) 프로그래밍:** CUDA는 GPU를 그래픽 렌더링뿐만 아니라 일반적인 컴퓨팅 작업에도 사용할 수 있도록 합니다. 이를 GPGPU라고 하며, CUDA는 GPGPU 프로그래밍을 위한 핵심 기술입니다.\n",
      "\n",
      "2. **병렬 처리 능력 활용:** GPU는 CPU보다 훨씬 많은 수의 코어를 가지고 있어, 병렬 연산에 특화되어 있습니다. CUDA를 사용하면 이러한 GPU의 병렬성을 활용하여 데이터 병렬적인 작업을 매우 빠르게 처리할 수 있습니다. 특히 딥러닝, 과학 시뮬레이션, 금융 모델링, 이미지/비디오 처리 등 대규모 데이터를 처리하는 분야에서 뛰어난 성능을 발휘합니다.\n",
      "\n",
      "3. **CUDA 툴킷 (CUDA Toolkit):** NVIDIA는 CUDA 개발 환경을 제공하는 CUDA 툴킷을 무료로 제공합니다. CUDA 툴킷은 다음과 같은 구성 요소들을 포함합니다.\n",
      "    * **CUDA 컴파일러 (nvcc):** C, C++, Fortran 코드를 GPU에서 실행 가능한 코드로 컴파일합니다.\n",
      "    * **CUDA 라이브러리:**\n",
      "        * **cuBLAS:** GPU 가속 기본 선형 대수 서브루틴 라이브러리 (Basic Linear Algebra Subroutines).\n",
      "        * **cuFFT:** GPU 가속 고속 푸리에 변환 라이브러리 (Fast Fourier Transform).\n",
      "        * **cuDNN:** 딥러닝 신경망을 위한 GPU 가속 라이브러리 (Deep Neural Network).\n",
      "        * **NPP:** NVIDIA Performance Primitives, 이미지 및 비디오 처리를 위한 라이브러리.\n",
      "        * 그 외 다양한 분야별 라이브러리 제공 (수학, 선형대수, 신호 처리 등).\n",
      "    * **CUDA 런타임 라이브러리:** GPU 자원 관리, 메모리 관리, 커널 실행 등을 담당합니다.\n",
      "    * **CUDA 디버거 및 프로파일러:** GPU 코드의 디버깅 및 성능 분석 도구 제공.\n",
      "\n",
      "4. **다양한 언어 지원:** CUDA는 C, C++를 기본적으로 지원하며, Fortran, Python 등 다양한 언어에서 사용할 수 있도록 래퍼(wrapper) 및 바인딩(binding)을 제공합니다.\n",
      "\n",
      "5. **CUDA-X:** CUDA-X는 CUDA를 기반으로 구축된 라이브러리, 도구 및 기술의 모음입니다. 특정 산업 및 분야의 워크로드를 가속화하기 위해 특화된 기능을 제공합니다. 예를 들어, NVIDIA Riva (음성 및 번역 AI), NVIDIA Earth-2 (기후 및 날씨 시뮬레이션), NVIDIA cuOpt (경로 최적화) 등이 CUDA-X에 포함됩니다.\n",
      "\n",
      "6. **활용 분야:** CUDA는 과학 연구, 엔지니어링, 데이터 과학, 인공지능, 게임 개발, 의료 영상, 금융 등 광범위한 분야에서 활용됩니다. 특히 딥러닝 분야에서 GPU 가속을 위한 핵심 기술로 널리 사용되고 있습니다.\n",
      "\n",
      "**CUDA 시작하기:**\n",
      "\n",
      "1. **NVIDIA GPU 확인:** CUDA를 사용하려면 NVIDIA GPU가 필요합니다. CUDA 호환 GPU 목록을 확인하고, 시스템에 NVIDIA GPU가 설치되어 있는지 확인하십시오.\n",
      "2. **CUDA 툴킷 다운로드 및 설치:** NVIDIA Developer 웹사이트에서 운영체제 및 GPU에 맞는 CUDA 툴킷을 다운로드하여 설치합니다. (https://developer.nvidia.com/cuda-downloads)\n",
      "3. **개발 환경 설정:** CUDA 툴킷 설치 후, 개발 환경 (Visual Studio, GCC 등)을 CUDA 개발에 맞게 설정합니다.\n",
      "4. **CUDA 프로그래밍 학습:** CUDA C/C++ 프로그래밍 가이드 및 예제를 통해 CUDA 프로그래밍을 학습합니다. NVIDIA Developer 웹사이트에서 다양한 학습 자료 및 튜토리얼을 제공합니다. (https://docs.nvidia.com/cuda/)\n",
      "\n",
      "**요약:**\n",
      "\n",
      "CUDA는 NVIDIA GPU의 강력한 병렬 처리 능력을 활용하여 다양한 분야에서 고성능 컴퓨팅을 가능하게 하는 핵심 기술입니다. CUDA 툴킷은 개발에 필요한 모든 도구와 라이브러리를 제공하며, CUDA-X는 특정 분야에 특화된 기능을 확장 제공합니다. CUDA를 통해 개발자는 GPU 가속을 활용하여 애플리케이션의 성능을 획기적으로 향상시킬 수 있습니다.\u001b[0m\n",
      "\n",
      "\u001b[1m> Finished chain.\u001b[0m\n",
      "## NVIDIA CUDA에 대한 자세한 정보\n",
      "\n",
      "CUDA(Compute Unified Device Architecture)는 NVIDIA에서 개발한 병렬 컴퓨팅 플랫폼 및 프로그래밍 모델입니다. CUDA를 사용하면 개발자가 NVIDIA GPU(Graphics Processing Unit)의 병렬 처리 능력을 활용하여 컴퓨팅 집약적인 작업을 가속화할 수 있습니다.\n",
      "\n",
      "**CUDA의 핵심 특징 및 정보:**\n",
      "\n",
      "1. **GPGPU (General-Purpose GPU) 프로그래밍:** CUDA는 GPU를 그래픽 렌더링뿐만 아니라 일반적인 컴퓨팅 작업에도 사용할 수 있도록 합니다. 이를 GPGPU라고 하며, CUDA는 GPGPU 프로그래밍을 위한 핵심 기술입니다.\n",
      "\n",
      "2. **병렬 처리 능력 활용:** GPU는 CPU보다 훨씬 많은 수의 코어를 가지고 있어, 병렬 연산에 특화되어 있습니다. CUDA를 사용하면 이러한 GPU의 병렬성을 활용하여 데이터 병렬적인 작업을 매우 빠르게 처리할 수 있습니다. 특히 딥러닝, 과학 시뮬레이션, 금융 모델링, 이미지/비디오 처리 등 대규모 데이터를 처리하는 분야에서 뛰어난 성능을 발휘합니다.\n",
      "\n",
      "3. **CUDA 툴킷 (CUDA Toolkit):** NVIDIA는 CUDA 개발 환경을 제공하는 CUDA 툴킷을 무료로 제공합니다. CUDA 툴킷은 다음과 같은 구성 요소들을 포함합니다.\n",
      "    * **CUDA 컴파일러 (nvcc):** C, C++, Fortran 코드를 GPU에서 실행 가능한 코드로 컴파일합니다.\n",
      "    * **CUDA 라이브러리:**\n",
      "        * **cuBLAS:** GPU 가속 기본 선형 대수 서브루틴 라이브러리 (Basic Linear Algebra Subroutines).\n",
      "        * **cuFFT:** GPU 가속 고속 푸리에 변환 라이브러리 (Fast Fourier Transform).\n",
      "        * **cuDNN:** 딥러닝 신경망을 위한 GPU 가속 라이브러리 (Deep Neural Network).\n",
      "        * **NPP:** NVIDIA Performance Primitives, 이미지 및 비디오 처리를 위한 라이브러리.\n",
      "        * 그 외 다양한 분야별 라이브러리 제공 (수학, 선형대수, 신호 처리 등).\n",
      "    * **CUDA 런타임 라이브러리:** GPU 자원 관리, 메모리 관리, 커널 실행 등을 담당합니다.\n",
      "    * **CUDA 디버거 및 프로파일러:** GPU 코드의 디버깅 및 성능 분석 도구 제공.\n",
      "\n",
      "4. **다양한 언어 지원:** CUDA는 C, C++를 기본적으로 지원하며, Fortran, Python 등 다양한 언어에서 사용할 수 있도록 래퍼(wrapper) 및 바인딩(binding)을 제공합니다.\n",
      "\n",
      "5. **CUDA-X:** CUDA-X는 CUDA를 기반으로 구축된 라이브러리, 도구 및 기술의 모음입니다. 특정 산업 및 분야의 워크로드를 가속화하기 위해 특화된 기능을 제공합니다. 예를 들어, NVIDIA Riva (음성 및 번역 AI), NVIDIA Earth-2 (기후 및 날씨 시뮬레이션), NVIDIA cuOpt (경로 최적화) 등이 CUDA-X에 포함됩니다.\n",
      "\n",
      "6. **활용 분야:** CUDA는 과학 연구, 엔지니어링, 데이터 과학, 인공지능, 게임 개발, 의료 영상, 금융 등 광범위한 분야에서 활용됩니다. 특히 딥러닝 분야에서 GPU 가속을 위한 핵심 기술로 널리 사용되고 있습니다.\n",
      "\n",
      "**CUDA 시작하기:**\n",
      "\n",
      "1. **NVIDIA GPU 확인:** CUDA를 사용하려면 NVIDIA GPU가 필요합니다. CUDA 호환 GPU 목록을 확인하고, 시스템에 NVIDIA GPU가 설치되어 있는지 확인하십시오.\n",
      "2. **CUDA 툴킷 다운로드 및 설치:** NVIDIA Developer 웹사이트에서 운영체제 및 GPU에 맞는 CUDA 툴킷을 다운로드하여 설치합니다. (https://developer.nvidia.com/cuda-downloads)\n",
      "3. **개발 환경 설정:** CUDA 툴킷 설치 후, 개발 환경 (Visual Studio, GCC 등)을 CUDA 개발에 맞게 설정합니다.\n",
      "4. **CUDA 프로그래밍 학습:** CUDA C/C++ 프로그래밍 가이드 및 예제를 통해 CUDA 프로그래밍을 학습합니다. NVIDIA Developer 웹사이트에서 다양한 학습 자료 및 튜토리얼을 제공합니다. (https://docs.nvidia.com/cuda/)\n",
      "\n",
      "**요약:**\n",
      "\n",
      "CUDA는 NVIDIA GPU의 강력한 병렬 처리 능력을 활용하여 다양한 분야에서 고성능 컴퓨팅을 가능하게 하는 핵심 기술입니다. CUDA 툴킷은 개발에 필요한 모든 도구와 라이브러리를 제공하며, CUDA-X는 특정 분야에 특화된 기능을 확장 제공합니다. CUDA를 통해 개발자는 GPU 가속을 활용하여 애플리케이션의 성능을 획기적으로 향상시킬 수 있습니다.\n"
     ]
    }
   ],
   "source": [
    "response = agent.run(\"nvidia의 cuda에 대해서 자세히 알려줘줘\")\n",
    "print(response)"
   ]
  },
  {
   "cell_type": "code",
   "execution_count": 54,
   "id": "cd1bfd5e",
   "metadata": {},
   "outputs": [
    {
     "name": "stdout",
     "output_type": "stream",
     "text": [
      "\n",
      "\n",
      "\u001b[1m> Entering new AgentExecutor chain...\u001b[0m\n",
      "\u001b[32;1m\u001b[1;3mThought: 액침 냉각 기술의 종류를 비교하는 표를 만들기 위해 웹 검색을 활용해야 합니다. \"액침 냉각 종류\", \"액침 냉각 방식 비교\", \"침수 냉각 기술\" 등의 키워드로 검색하여 정보를 수집하고, 이를 표 형태로 정리해야 합니다. 주요 비교 항목은 액침 냉각 방식의 종류, 특징, 장단점 등이 될 수 있습니다.\n",
      "\n",
      "Action: web_search\n",
      "Action Input: 액침 냉각 종류 비교\u001b[0mhttps://one-economy.tistory.com/entry/%EC%95%A1%EC%B9%A8%EB%83%89%EA%B0%81-%EC%A0%95%EC%9D%98-%EC%A2%85%EB%A5%98\n",
      "https://m.blog.naver.com/hvackkw/223354498904\n",
      "https://blog.naver.com/PostView.naver?blogId=jgrp&logNo=223571220020\n",
      "https://m.blog.naver.com/chcmg2022/223354689838\n",
      "https://blog.naver.com/PostView.naver?blogId=gunecxe&logNo=223395495049\n",
      "https://www.peslab.hongik.ac.kr/single-post/%EB%B0%B0%ED%84%B0%EB%A6%AC-%EC%95%A1%EC%B9%A8-%EB%83%89%EA%B0%81-%ED%83%80%EC%9E%85%EB%B3%84-%EB%83%89%EA%B0%81-%EC%84%B1%EB%8A%A5-%EB%B9%84%EA%B5%90-%EC%97%B0%EA%B5%AC%EC%99%80-%ED%95%B4%EC%84%9D-%EB%AA%A8%EB%8D%B8-%EA%B0%9C%EB%B0%9C-%EC%97%B0%EA%B5%AC\n",
      "https://blog.naver.com/PostView.naver?blogId=victoire_&logNo=223695100499\n",
      "https://news.kixxoil.com/immersion-cooling-systems-what-it-is-and-how-it-works/?lang=ko\n",
      "https://kinyu.blog/%EC%95%A1%EC%B9%A8%EB%83%89%EA%B0%81-%ED%83%84%EC%86%8C%EC%A4%91%EB%A6%BD%EC%8B%9C%EB%8C%80%EC%9D%98-%EC%97%B4%EA%B4%80%EB%A6%AC-%EA%B8%B0%EC%88%A0/\n",
      "https://m.blog.naver.com/qirin112/222980221678\n",
      "\n",
      "Observation: \u001b[36;1m\u001b[1;3mAI시대 열관리 최고의 기술 : 액침냉각의 정의와 종류, …\n",
      "2024년 12월 3일 · 이번 시간에는 액침냉각의 원리와 종류, 적용 분야에 대하여 자세히 알아보겠습니다. 1. 액침냉각의 원리. 액침냉각은 열전도율이 높은 절연 냉각액을 사용하여 전자 장치에서 발생하는 열을 효율적으로 방출하는 냉각 …\n",
      "https://one-economy.tistory.com/entry/%EC%95%A1%EC%B9%A8%EB%83%89%EA%B0%81-%EC%A0%95%EC%9D%98-%EC%A2%85%EB%A5%98\n",
      "\n",
      "액침냉각(immersion cooling)이란? - 네이버 블로그\n",
      "액침냉각은 특수한 절연유체에 기기를 담궈 냉각하는 방식을 말합니다. 현재 활발히 연구되고 있는 분야는 데이터 센터 등에서 활용하는 컴퓨터 하드웨어 구성요소들을 절연유체에 담궈 냉각하는 솔루션이며, 급증하는 데이터 사용량에 비례하여 …\n",
      "https://m.blog.naver.com/hvackkw/223354498904\n",
      "\n",
      "액침냉각 (immersion cooling)의 정의, 종류 및 원리 : 네이버 블로그\n",
      "2009년 3월 22일 · \"액침냉각\"은 아래 참고 사진처럼 데이터 센터에서 열이 발생하는 전자기기를 플루이드 (비전도성 액체/유기체)에 직접 침전시켜 냉각하는 방식을 말한다. \"액침냉각\"은 (SK의 …\n",
      "https://blog.naver.com/PostView.naver?blogId=jgrp&logNo=223571220020\n",
      "\n",
      "액침냉각 관련정리(엔지니어 TV) - 네이버 블로그\n",
      "2024년 2월 15일 · 액침 냉각(Immersion Cooling)은 전체 서버를 공기보다 열 전도율이 상당히 높은 유전체 전기 비전도성 유체에 담구는 IT 냉각 방식입니다. 냉각수를 뜨거운 구성 요소와 직접 접촉시키고, 가열된 액체를 열교환기를 통해 …\n",
      "https://m.blog.naver.com/chcmg2022/223354689838\n",
      "\n",
      "액침냉각 기술 - 네이버 블로그\n",
      "2024년 3월 26일 · 액침냉각 (Immersion Cooling) 기술은 서버, 칩 등 전자장비를 특수 비전도성 액체에 직접 담그는 차세대 냉각 방식입니다. 2. 기존의 공기 순환 방식 (공랭식) 대신 액체를 …\n",
      "https://blog.naver.com/PostView.naver?blogId=gunecxe&logNo=223395495049\n",
      "\n",
      "배터리 액침 냉각 타입별 냉각/성능 비교 연구와 해석 …\n",
      "액침타입별 배터리 시스템 비교 분석2. 해석 기반 간접 냉각과 액침 냉각 기술 비교3. 액침 냉각 시스템 시제품 제작 및 평가 시험Dec. 2022 ~ Nov. 2025 | Funded by 현대자동차\n",
      "https://www.peslab.hongik.ac.kr/single-post/%EB%B0%B0%ED%84%B0%EB%A6%AC-%EC%95%A1%EC%B9%A8-%EB%83%89%EA%B0%81-%ED%83%80%EC%9E%85%EB%B3%84-%EB%83%89%EA%B0%81-%EC%84%B1%EB%8A%A5-%EB%B9%84%EA%B5%90-%EC%97%B0%EA%B5%AC%EC%99%80-%ED%95%B4%EC%84%9D-%EB%AA%A8%EB%8D%B8-%EA%B0%9C%EB%B0%9C-%EC%97%B0%EA%B5%AC\n",
      "\n",
      "액침냉각, 수냉식(액체) 냉각의 차이점과 엔비디아 - 네이버 블로그\n",
      "액침 냉각과 수냉식 냉각의 가장 큰 차이점은 냉각 방식이다. 액침 냉각은 전자기기를 직접 액체에 담가서 냉각하는 반면, 수냉식 냉각은 물을 순환시켜서 열을 제거한다. 또, 액침 냉각은 소음이 …\n",
      "https://blog.naver.com/PostView.naver?blogId=victoire_&logNo=223695100499\n",
      "\n",
      "[KixxPedia] 탄소중립 시대를 위한 차세대 열관리 방식, …\n",
      "2024년 6월 21일 · 액침냉각이란 데이터센터 서버부터 EV (전기차)용 배터리와 급속충전기, ESS (에너지저장장치)용 배터리까지, 다양한 IT 장비를 비전도성 유체에 침전시켜 열을 식히는 기술입니다. 전기가 통하지 않는 유체가 직접 열을 …\n",
      "https://news.kixxoil.com/immersion-cooling-systems-what-it-is-and-how-it-works/?lang=ko\n",
      "\n",
      "액침냉각, 탄소중립시대의 열관리 기술 - KINYU\n",
      "2023년 12월 13일 · 액침 냉각 기술은 배터리 팩 내의 셀 간 온도 균일도를 유지하고, 작동 환경을 적절하게 조절하여 배터리의 수명과 안정성을 향상시킬 수 있습니다. 또한, 배터리 팩의 크기와 무게를 줄이고, 배터리의 과충전과 과방전을 방지하며, …\n",
      "https://kinyu.blog/%EC%95%A1%EC%B9%A8%EB%83%89%EA%B0%81-%ED%83%84%EC%86%8C%EC%A4%91%EB%A6%BD%EC%8B%9C%EB%8C%80%EC%9D%98-%EC%97%B4%EA%B4%80%EB%A6%AC-%EA%B8%B0%EC%88%A0/\n",
      "\n",
      "액침 냉각 방식 ( Immersion cooling )에 따른 냉매 …\n",
      "2001년 10월 15일 · 액침냉각 방식은 상의 변화 유무에 따라 단상 ( One Phase)과 상변 ( Two-phase )식 방식으로 구분 할 수 있다. coolant의 화학적 특성으로 인하여 coolant가 직접적으로 발열체 ( CPU, GPU, Power 등등 ) 와 접촉함에도 …\n",
      "https://m.blog.naver.com/qirin112/222980221678\u001b[0m\n",
      "Thought:\u001b[32;1m\u001b[1;3mThought: 액침 냉각 기술 종류 비교 표를 만들기 위해 웹 검색 결과를 분석하고, 단상 및 2상 액침 냉각 방식에 대한 정보를 추출하여 표 형태로 정리해야 합니다.\n",
      "\n",
      "Action: web_search\n",
      "Action Input: 액침 냉각 단상 2상 비교\u001b[0mhttps://m.blog.naver.com/qirin112/222980221678\n",
      "http://ko.vrcoolerar.com/news/single-phase-immersion-liquid-cooling-vs-two-p-63372896.html\n",
      "https://m.blog.naver.com/martin332/223425821000\n",
      "https://one-economy.tistory.com/entry/%EC%95%A1%EC%B9%A8%EB%83%89%EA%B0%81-%EC%A0%95%EC%9D%98-%EC%A2%85%EB%A5%98\n",
      "https://tmsstory.co.kr/%EC%95%A1%EC%B9%A8%EB%83%89%EA%B0%81-%EA%B8%B0%EC%88%A0-%EC%A0%95%EC%9D%98-%EC%9B%90%EB%A6%AC-%EC%A0%84%EB%A7%9D-%EA%B8%B0%EC%97%85/\n",
      "https://blog.naver.com/PostView.naver?blogId=gunecxe&logNo=223395495049\n",
      "http://www.hvacrj.co.kr/news/articleView.html?idxno=22756\n",
      "https://dream.kotra.or.kr/user/extra/kotranews/bbs/linkView/jsp/Page.do?dataIdx=223927\n",
      "https://blog.naver.com/PostView.naver?blogId=jgrp&logNo=223571220020\n",
      "\n",
      "Observation: \u001b[36;1m\u001b[1;3m액침 냉각 방식 ( Immersion cooling )에 따른 냉매 …\n",
      "2001년 10월 15일 · 액침냉각 방식은 상의 변화 유무에 따라 단상 ( One Phase)과 상변 ( Two-phase )식 방식으로 구분 할 수 있다. coolant의 화학적 특성으로 인하여 coolant가 직접적으로 발열체 ( CPU, GPU, Power 등등 ) 와 접촉함에도 …\n",
      "https://m.blog.naver.com/qirin112/222980221678\n",
      "\n",
      "단상 침수 액체 냉각 대 2상 침지 액체 냉각 - 뉴스\n",
      "현재 침수 액체 냉각 주로 2상 액체 냉각과 단상 액체 냉각으로 나뉘는데 각각 무엇을 나타냅니까? 1. 2상 액체 냉각. 2상 수중 액체 냉각에서 액체의 열 전달 효율은 전자 불화물 액체의 비등 및 응축 과정을 통해 기하급수적으로 향상됩니다.\n",
      "http://ko.vrcoolerar.com/news/single-phase-immersion-liquid-cooling-vs-two-p-63372896.html\n",
      "\n",
      "액침냉각 (feat. Immersion Cooling) : 네이버 블로그\n",
      "2024년 4월 24일 · 액침냉각은 서버전체를 열전달속도가 높고 열저항이 낮은 유체에 침지합니다. 변압기에 들어간 절연유와 같이 비전도성 (전기가 통하지 않는) 액체로 별도의 Heat Rejection …\n",
      "https://m.blog.naver.com/martin332/223425821000\n",
      "\n",
      "AI시대 열관리 최고의 기술 : 액침냉각의 정의와 종류, …\n",
      "2024년 12월 3일 · 액침냉각은 시스템의 열을 효율적으로 관리하기 위해 다양한 방식으로 구현됩니다. 크게 싱글 페이즈 냉각 (Single-Phase Immersion Cooling)과 투 페이즈 냉각 (Two-Phase Immersion Cooling)으로 구분되며, 각각의 원리와 …\n",
      "https://one-economy.tistory.com/entry/%EC%95%A1%EC%B9%A8%EB%83%89%EA%B0%81-%EC%A0%95%EC%9D%98-%EC%A2%85%EB%A5%98\n",
      "\n",
      "액침냉각: 혁신적인 열 관리 기술의 심층 분석 - 그 남자의 …\n",
      "2024년 7월 8일 · 액침냉각은 단상(1-phase)과 이상(2-phase) 두 가지 방식으로 나뉩니다. 단상 액침냉각: 단상 액침냉각에서는 냉각액이 순환하면서 열을 흡수하고 냉각기를 통해 열을 방출합니다.\n",
      "https://tmsstory.co.kr/%EC%95%A1%EC%B9%A8%EB%83%89%EA%B0%81-%EA%B8%B0%EC%88%A0-%EC%A0%95%EC%9D%98-%EC%9B%90%EB%A6%AC-%EC%A0%84%EB%A7%9D-%EA%B8%B0%EC%97%85/\n",
      "\n",
      "액침냉각 기술 - 네이버 블로그\n",
      "2024년 3월 26일 · 1. 액침냉각(Immersion Cooling) 기술은 서버, 칩 등 전자장비를 특수 비전도성 액체에 직접 담그는 차세대 냉각 방식입니다. 2. 기존의 공기 순환 방식(공랭식) 대신 액체를 …\n",
      "https://blog.naver.com/PostView.naver?blogId=gunecxe&logNo=223395495049\n",
      "\n",
      "데이터센터의 액체냉각 시스템... 서버 전력 절감에 가장 …\n",
      "2024년 9월 3일 · 액체냉각 (Liquid Cooling)은 대표적으로 ①후면도어 열교환기 (RDHx, Rear Door), ②칩 직접냉각 (Direct-to-chip Liquid Coolꠓing), ②액침냉각 (Immersion Cooling)으로 나뉜다. 액침냉각은 액체냉각의 하위 키테고리로서 …\n",
      "http://www.hvacrj.co.kr/news/articleView.html?idxno=22756\n",
      "\n",
      "고성능 컴퓨팅과 전기차 전환을 위한 냉각 혁명…미국 액침 냉각 ...\n",
      "2025년 1월 2일 · 액침 냉각은 사용되는 절연 유체에 따라 단상 (Single Phase) 방식과 2상 (Two-Phase) 방식이 있다. 액침 냉각에 사용되는 냉각액은 전기 비전도성과 높은 열전도성을 가져야 …\n",
      "https://dream.kotra.or.kr/user/extra/kotranews/bbs/linkView/jsp/Page.do?dataIdx=223927\n",
      "\n",
      "액침냉각 (immersion cooling)의 정의, 종류 및 원리 : 네이버 블로그\n",
      "2009년 3월 22일 · 단상 \"액침냉각\" 기술 은 구조가 단순해 설치 비용을 절감할 수 있고, 플루이드 (비전도성 유기체/액체) 증발 손실이 없어 경제성과 효율성이 다른 방식 보다 높으며 단상 …\n",
      "https://blog.naver.com/PostView.naver?blogId=jgrp&logNo=223571220020\u001b[0m\n",
      "Thought:\u001b[32;1m\u001b[1;3mThought: 액침 냉각 기술 종류를 비교하는 표를 작성하기 위해 웹 검색 결과를 분석했습니다. 주로 단상 액침 냉각과 2상 액침 냉각으로 구분되며, 각 방식의 원리, 장점, 단점을 비교하여 표를 만들 수 있습니다.\n",
      "\n",
      "Final Answer:## 액침 냉각 기술 종류 비교표\n",
      "\n",
      "| 구분 | 단상 액침 냉각 (Single-Phase Immersion Cooling) | 2상 액침 냉각 (Two-Phase Immersion Cooling) |\n",
      "|---|---|---|\n",
      "| **원리** | 냉각액이 액체 상태를 유지하며 순환, 대류 및 전도를 통해 열을 흡수하고 외부 냉각 시스템으로 열을 방출 | 냉각액이 액체에서 기체로 상변화하며, 증발 잠열을 이용하여 열을 흡수하고 응축 과정을 통해 열을 방출 |\n",
      "| **장점** | - 시스템 구조 단순, 설치 비용 저렴<br/>- 냉각액 증발 손실 적음, 경제성 및 효율성 높음<br/>- 작동 및 유지보수 용이 | - 열 전달 효율 매우 높음<br/>- 더 높은 냉각 성능 제공 가능<br/>- 고밀도 발열 환경에 적합 |\n",
      "| **단점** | - 2상 방식에 비해 열 전달 효율 낮음<br/>- 냉각 성능이 상대적으로 제한적 | - 시스템 복잡, 설치 및 유지보수 비용 높음<br/>- 냉각액 증발 및 누출 가능성 존재<br/>- 단상 방식에 비해 시스템 복잡성 증가 |\n",
      "| **적용 분야** | - 일반적인 데이터 센터<br/>- 중간 정도의 발열량을 가진 전자 장비 | - 고성능 컴퓨팅 (HPC) 시스템<br/>- AI, 머신러닝 서버<br/>- 높은 발열량을 가진 전자 장비 |\n",
      "| **냉각액** | - 유전율이 높은 액체 (오일, 합성유 등) | - 유전율이 높은 특수 냉매 (불소계 냉매 등) |\n",
      "\n",
      "**참고:**\n",
      "\n",
      "* **단상 액침 냉각:**  액체가 순환하면서 열을 흡수하여 냉각하는 방식으로, 시스템이 비교적 간단하고 비용 효율적입니다. 하지만 2상 방식에 비해 열 전달 효율은 낮습니다.\n",
      "* **2상 액침 냉각:** 액체가 증발하면서 열을 흡수하는 방식입니다. 상변화(액체 → 기체)를 이용하므로 열 전달 효율이 매우 높지만, 시스템이 복잡하고 비용이 많이 들 수 있습니다.\n",
      "\n",
      "위 표는 일반적인 특징을 비교한 것이며, 실제 액침 냉각 시스템의 성능은 냉각액 종류, 시스템 설계, 운영 조건 등 다양한 요소에 따라 달라질 수 있습니다.\u001b[0m\n",
      "\n",
      "\u001b[1m> Finished chain.\u001b[0m\n",
      "## 액침 냉각 기술 종류 비교표\n",
      "\n",
      "| 구분 | 단상 액침 냉각 (Single-Phase Immersion Cooling) | 2상 액침 냉각 (Two-Phase Immersion Cooling) |\n",
      "|---|---|---|\n",
      "| **원리** | 냉각액이 액체 상태를 유지하며 순환, 대류 및 전도를 통해 열을 흡수하고 외부 냉각 시스템으로 열을 방출 | 냉각액이 액체에서 기체로 상변화하며, 증발 잠열을 이용하여 열을 흡수하고 응축 과정을 통해 열을 방출 |\n",
      "| **장점** | - 시스템 구조 단순, 설치 비용 저렴<br/>- 냉각액 증발 손실 적음, 경제성 및 효율성 높음<br/>- 작동 및 유지보수 용이 | - 열 전달 효율 매우 높음<br/>- 더 높은 냉각 성능 제공 가능<br/>- 고밀도 발열 환경에 적합 |\n",
      "| **단점** | - 2상 방식에 비해 열 전달 효율 낮음<br/>- 냉각 성능이 상대적으로 제한적 | - 시스템 복잡, 설치 및 유지보수 비용 높음<br/>- 냉각액 증발 및 누출 가능성 존재<br/>- 단상 방식에 비해 시스템 복잡성 증가 |\n",
      "| **적용 분야** | - 일반적인 데이터 센터<br/>- 중간 정도의 발열량을 가진 전자 장비 | - 고성능 컴퓨팅 (HPC) 시스템<br/>- AI, 머신러닝 서버<br/>- 높은 발열량을 가진 전자 장비 |\n",
      "| **냉각액** | - 유전율이 높은 액체 (오일, 합성유 등) | - 유전율이 높은 특수 냉매 (불소계 냉매 등) |\n",
      "\n",
      "**참고:**\n",
      "\n",
      "* **단상 액침 냉각:**  액체가 순환하면서 열을 흡수하여 냉각하는 방식으로, 시스템이 비교적 간단하고 비용 효율적입니다. 하지만 2상 방식에 비해 열 전달 효율은 낮습니다.\n",
      "* **2상 액침 냉각:** 액체가 증발하면서 열을 흡수하는 방식입니다. 상변화(액체 → 기체)를 이용하므로 열 전달 효율이 매우 높지만, 시스템이 복잡하고 비용이 많이 들 수 있습니다.\n",
      "\n",
      "위 표는 일반적인 특징을 비교한 것이며, 실제 액침 냉각 시스템의 성능은 냉각액 종류, 시스템 설계, 운영 조건 등 다양한 요소에 따라 달라질 수 있습니다.\n"
     ]
    }
   ],
   "source": [
    "response = agent.run(\"액침 냉각 기술의 종류를 표로 비교해 줘\")\n",
    "print(response)"
   ]
  },
  {
   "cell_type": "code",
   "execution_count": 55,
   "id": "bb5cbd17",
   "metadata": {},
   "outputs": [
    {
     "name": "stdout",
     "output_type": "stream",
     "text": [
      "\n",
      "\n",
      "\u001b[1m> Entering new AgentExecutor chain...\u001b[0m\n",
      "\u001b[32;1m\u001b[1;3mThought: HBM3와 HBM3e의 차이점을 표로 정리하기 위해 웹 검색을 통해 관련 정보를 찾아보겠습니다.\n",
      "Action: web_search\n",
      "Action Input: \"HBM3 vs HBM3e 차이점\"\u001b[0mhttps://science3m.tistory.com/802\n",
      "https://m.blog.naver.com/techref/223398700515\n",
      "https://onlymynote.tistory.com/entry/HBM3E%EC%99%80-HBM3%EA%B0%80-AI-%EB%B0%98%EB%8F%84%EC%B2%B4%EC%97%90-%EC%82%AC%EC%9A%A9%EB%90%98%EB%8A%94-%EC%9D%B4%EC%9C%A0-%EB%B0%8F-%EC%B0%A8%EC%9D%B4%EC%A0%90\n",
      "https://todaystarissue.com/%eb%b0%98%eb%8f%84%ec%b2%b4-hbm-%eb%9c%bb-%eb%b0%8f-%ec%a0%84%eb%a7%9d-hbm3-hbm4-hbm3e-%ec%b0%a8%ec%9d%b4-%eb%b9%84%ea%b5%90/\n",
      "https://m.blog.naver.com/seok2good/223481453573\n",
      "https://blog.naver.com/PostView.naver?blogId=elppp&logNo=223230385906\n",
      "https://m.blog.naver.com/sinstar0823/223458043692\n",
      "https://www.a-ha.io/questions/416580bc307e3246a592940582d0b1a6\n",
      "https://gunsoultv.com/%eb%8f%88%eb%b2%84%eb%8a%94-%eb%b0%a9%eb%b2%95/hbm3e-vs-hbm3-%ec%b0%a8%ec%84%b8%eb%8c%80-%eb%a9%94%eb%aa%a8%eb%a6%ac-%ea%b8%b0%ec%88%a0%ec%9d%98-%ec%a7%84%ed%99%94-%eb%ac%b4%ec%97%87%ec%9d%b4-%eb%8b%ac%eb%9d%bc%ec%a1%8c%ec%9d%84%ea%b9%8c/\n",
      "https://goraekun.tistory.com/entry/HBM-%EB%B0%98%EB%8F%84%EC%B2%B4%EB%9E%80-%EB%AC%B4%EC%97%87%EC%9D%B8%EA%B0%80-SK-%ED%95%98%EC%9D%B4%EB%8B%89%EC%8A%A4%EC%99%80-%EC%82%BC%EC%84%B1%EC%A0%84%EC%9E%90-HBM%EC%B0%A8%EC%9D%B4%EC%A0%90\n",
      "\n",
      "Observation: \u001b[36;1m\u001b[1;3mHBM3E 와 HBM3의 차이점 - 3분 과학\n",
      "2024년 4월 30일 · 다음은 hbm3와 hbm3e의 주요 차이점입니다. 대역폭 : HBM3E는 HBM3보다 더 높은 대역폭을 제공하여, 데이터 처리량을 증가시키고 전송 속도를 향상시킵니다. 이를 통해 더 많은 데이터를 빠르게 전송할 수 있습니다.\n",
      "https://science3m.tistory.com/802\n",
      "\n",
      "HBM 반도체 뜻 HBM3 HBM3E 차이 고대역폭 메모리 …\n",
      "2024년 3월 28일 · HBM3E는 용량과 속도 면에서 HBM3을 뛰어넘는 개선된 버전입니다. 삼성전자가 개발한 36GB 용량의 HBM3E 12단 적층 D램은 업계에서 가장 큰 용량을 자랑하며, 초당 1,280GB의 대역폭을 제공합니다. 이는 HBM3 …\n",
      "https://m.blog.naver.com/techref/223398700515\n",
      "\n",
      "HBM3E와 HBM3가 AI 반도체에 사용되는 이유 및 차이점\n",
      "2024년 8월 6일 · hbm3e는 기존 hbm보다 더 높은 성능을 제공한다. HBM3E는 8Gbps의 전송 속도를 제공하는 반면, HBM3는 5.6~6.4Gbps의 속도로 실행된다.\n",
      "https://onlymynote.tistory.com/entry/HBM3E%EC%99%80-HBM3%EA%B0%80-AI-%EB%B0%98%EB%8F%84%EC%B2%B4%EC%97%90-%EC%82%AC%EC%9A%A9%EB%90%98%EB%8A%94-%EC%9D%B4%EC%9C%A0-%EB%B0%8F-%EC%B0%A8%EC%9D%B4%EC%A0%90\n",
      "\n",
      "반도체 HBM 뜻 및 전망 (+HBM3 HBM4 HBM3E 차이 비교)\n",
      "2024년 12월 3일 · HBM3, HBM4, HMB3E는 고대역폭 메모리의 연속된 세대로, 성능과 기술적인 특징에서 차이가 있습니다. 우선 HBM3는 최대 512GB/s의 대역폭을 제공하며, HBM3E는 HBM3의 개선된 버젼으로 더 높은 성능을 …\n",
      "https://todaystarissue.com/%eb%b0%98%eb%8f%84%ec%b2%b4-hbm-%eb%9c%bb-%eb%b0%8f-%ec%a0%84%eb%a7%9d-hbm3-hbm4-hbm3e-%ec%b0%a8%ec%9d%b4-%eb%b9%84%ea%b5%90/\n",
      "\n",
      "HBM4, HBM3, HBM3E 차이 - 네이버 블로그\n",
      "2024년 6월 16일 · hbm은 720마이크로 미터의 높이를 가지고 12단이면 1단 60마이크로 미터 . 16단으로 쌓게 되면 45마이크로미터 공간 밖에 없음. 신규로 지정한 775 마이크로 미터는 1단에 …\n",
      "https://m.blog.naver.com/seok2good/223481453573\n",
      "\n",
      "HBM3 vs. HBM3e, 뤼튼 : 네이버 블로그\n",
      "HBM3 VS. HBM3E의 차이점. HBM3(High Bandwidth Memory 3)과 HBM3E(High Bandwidth Memory 3E)은 둘 다 고성능 메모리 기술로, 데이터 처리량과 대역폭을 향상시키는 목적으로 …\n",
      "https://blog.naver.com/PostView.naver?blogId=elppp&logNo=223230385906\n",
      "\n",
      "고대역폭 메모리 [ HBM ], [ HBM3,HBM3E,HBM4 ] - 네이버 블로그\n",
      ": GPU의 병렬 연산 성능을 극대화하기 위해 HBM은 높은 대역폭을 제공하여. : HBM은 여러 DRAM 칩을 수직으로 쌓아 병렬 데이터 전송을 가능하게 하여. : HBM은 높은 데이터 전송 속도와 낮은 …\n",
      "https://m.blog.naver.com/sinstar0823/223458043692\n",
      "\n",
      "HBM3와 HBM3E의 차이가 무엇인가요 - 아하\n",
      "HBM3E는 HBM3의 후속 세대로 더 높은 대역폭과 더 많은 용량을 제공하여 더욱 빠른 데이터 처리 속도를 지원합니다. 따라서 HBM3E는 HBM3보다 더 복잡하고 고가의 제품이며 차세대 AI …\n",
      "https://www.a-ha.io/questions/416580bc307e3246a592940582d0b1a6\n",
      "\n",
      "HBM3E vs HBM3 차세대 메모리 기술의 진화, 무엇이 …\n",
      "2024년 6월 20일 · hbm3e와 이전 세대 간의 차이점은 무엇인가요? hbm3e는 이전 세대인 hbm3에 비해 몇 가지 중요한 개선 사항을 가지고 있습니다. 주요 차이점은 다음과 같습니다. 속도: hbm3e는 핀당 처리 속도가 최고 9.2gbps로, hbm3 대비 …\n",
      "https://gunsoultv.com/%eb%8f%88%eb%b2%84%eb%8a%94-%eb%b0%a9%eb%b2%95/hbm3e-vs-hbm3-%ec%b0%a8%ec%84%b8%eb%8c%80-%eb%a9%94%eb%aa%a8%eb%a6%ac-%ea%b8%b0%ec%88%a0%ec%9d%98-%ec%a7%84%ed%99%94-%eb%ac%b4%ec%97%87%ec%9d%b4-%eb%8b%ac%eb%9d%bc%ec%a1%8c%ec%9d%84%ea%b9%8c/\n",
      "\n",
      "HBM 반도체란 무엇인가 (SK 하이닉스와 삼성전자 HBM차이점)\n",
      "2024년 10월 1일 · 근본적인 차이는 메모리 소자(Cell) 특성의 차이가 가장 큰데 보통 HBM3는 D1z 제품을 HBM3E는 D1a 제품을 적층 하여 만들게 됩니다. D1z, D1a의 차이는 DRAM에서 …\n",
      "https://goraekun.tistory.com/entry/HBM-%EB%B0%98%EB%8F%84%EC%B2%B4%EB%9E%80-%EB%AC%B4%EC%97%87%EC%9D%B8%EA%B0%80-SK-%ED%95%98%EC%9D%B4%EB%8B%89%EC%8A%A4%EC%99%80-%EC%82%BC%EC%84%B1%EC%A0%84%EC%9E%90-HBM%EC%B0%A8%EC%9D%B4%EC%A0%90\u001b[0m\n",
      "Thought:\u001b[32;1m\u001b[1;3mThought: HBM3와 HBM3e의 차이점을 표로 정리하여 제공하겠습니다. 웹 검색 결과를 바탕으로 주요 차이점을 추출하여 표를 만들겠습니다.\n",
      "Final Answer:\n",
      "## HBM3 vs HBM3E 차이점\n",
      "\n",
      "| 특징 | HBM3 | HBM3E |\n",
      "|---|---|---|\n",
      "| **대역폭** | 최대 512GB/s | 최대 1280GB/s 이상 |\n",
      "| **전송 속도** | 5.6 ~ 6.4Gbps | 8 ~ 9.2Gbps |\n",
      "| **용량** | - | 더 큰 용량 제공 (예: 36GB HBM3E 12단) |\n",
      "| **세대** | HBM3의 이전 세대 | HBM3의 후속 세대, 개선 버전 |\n",
      "| **복잡성 및 가격** | 상대적으로 덜 복잡하고 저렴 | 더 복잡하고 고가 |\n",
      "| **DRAM 소자** | D1z | D1a |\n",
      "| **핀당 처리 속도** | - | 최대 9.2Gbps |\n",
      "| **주요 특징** | 고대역폭 메모리 | HBM3 대비 향상된 대역폭, 속도, 용량 |\u001b[0m\n",
      "\n",
      "\u001b[1m> Finished chain.\u001b[0m\n",
      "## HBM3 vs HBM3E 차이점\n",
      "\n",
      "| 특징 | HBM3 | HBM3E |\n",
      "|---|---|---|\n",
      "| **대역폭** | 최대 512GB/s | 최대 1280GB/s 이상 |\n",
      "| **전송 속도** | 5.6 ~ 6.4Gbps | 8 ~ 9.2Gbps |\n",
      "| **용량** | - | 더 큰 용량 제공 (예: 36GB HBM3E 12단) |\n",
      "| **세대** | HBM3의 이전 세대 | HBM3의 후속 세대, 개선 버전 |\n",
      "| **복잡성 및 가격** | 상대적으로 덜 복잡하고 저렴 | 더 복잡하고 고가 |\n",
      "| **DRAM 소자** | D1z | D1a |\n",
      "| **핀당 처리 속도** | - | 최대 9.2Gbps |\n",
      "| **주요 특징** | 고대역폭 메모리 | HBM3 대비 향상된 대역폭, 속도, 용량 |\n"
     ]
    }
   ],
   "source": [
    "response = agent.run(\"hmb3와 hbm3e의 차이점을 표로 출력해 줘\")\n",
    "print(response)"
   ]
  },
  {
   "cell_type": "code",
   "execution_count": 56,
   "id": "316e703d",
   "metadata": {},
   "outputs": [
    {
     "name": "stdout",
     "output_type": "stream",
     "text": [
      "\n",
      "\n",
      "\u001b[1m> Entering new AgentExecutor chain...\u001b[0m\n",
      "\u001b[32;1m\u001b[1;3mThought: HBM3E의 주요 기술을 표로 요약하기 위해 웹 검색을 통해 관련 정보를 찾아보겠습니다. \"HBM3E 기술\" 또는 \"HBM3E 주요 특징\"과 같은 검색어를 사용하면 유용한 정보를 얻을 수 있을 것입니다.\n",
      "Action: web_search\n",
      "Action Input: HBM3E 기술\u001b[0mhttps://m.blog.naver.com/techref/223398700515\n",
      "https://m.blog.naver.com/jkhan012/223386755360\n",
      "https://news.skhynix.co.kr/presscenter/hbm3e-production\n",
      "https://news.skhynix.co.kr/post/hbm_interview_2024\n",
      "https://blosodeuk.com/hbm3e-%ec%b0%a8%ec%84%b8%eb%8c%80-%eb%a9%94%eb%aa%a8%eb%a6%ac-%ea%b8%b0%ec%88%a0%ec%9d%98-%ec%84%a0%eb%91%90%ec%a3%bc%ec%9e%90%eb%a1%9c-%ec%a3%bc%eb%aa%a9%eb%b0%9b%eb%8a%94-%ec%9d%b4%ec%9c%a0/\n",
      "https://biz.chosun.com/it-science/ict/2024/11/05/MHTLRD5THJG4JA5JZ7OIPNRFNA/\n",
      "https://news.skhynix.co.kr/post/skhynix-hbm3e-interview\n",
      "https://dodongtakk.tistory.com/entry/SK%ED%95%98%EC%9D%B4%EB%8B%89%EC%8A%A4%EC%9D%98-%ED%98%81%EC%8B%A0%EC%A0%81%EC%9D%B8-%EA%B8%B0%EC%88%A0-16%EB%8B%A8-HBM3E\n",
      "https://hereandtherejjun.tistory.com/218\n",
      "https://zdnet.co.kr/view/?no=20240214092520\n",
      "\n",
      "Observation: \u001b[36;1m\u001b[1;3mHBM 반도체 뜻 HBM3 HBM3E 차이 고대역폭 메모리 특징 - 네이버 …\n",
      "2024년 3월 28일 · HBM3E는 용량과 속도 면에서 HBM3을 뛰어넘는 개선된 버전입니다. 삼성전자가 개발한 36GB 용량의 HBM3E 12단 적층 D램은 업계에서 가장 큰 용량을 자랑하며, 초당 …\n",
      "https://m.blog.naver.com/techref/223398700515\n",
      "\n",
      "HBM3E, 알아야 할 모든 것 - HBM은 패키징 기술 : …\n",
      "2024년 3월 18일 · HBM3E는 HBM2E, HBM2 또는 HBM (Gen 1)과 어떻게 다릅니까? HBM3E 메모리란? 2022년 1월에 출시된 HBM3는 고성능 2.5D/3D 메모리 아키텍처인 최신 세대의 고대역폭 메모리 (HBM)입니다. 모든 이전 …\n",
      "https://m.blog.naver.com/jkhan012/223386755360\n",
      "\n",
      "SK하이닉스, 초고성능 AI 메모리 ‘HBM3E’ 세계 최초로 …\n",
      "2024년 3월 19일 · SK하이닉스는 초고성능 AI용 메모리 신제품인 HBM3E * 를 세계 최초로 양산해 3월 말부터 제품 공급을 시작한다고 19일 밝혔다. 이는 회사가 지난해 8월 HBM3E 개발을 알린 지 7개월 만에 이룬 성과다. * HBM(High Bandwidth …\n",
      "https://news.skhynix.co.kr/presscenter/hbm3e-production\n",
      "\n",
      "SK하이닉스 HBM 기술개발 주역 박명재 부사장, “HBM 성공신화 ...\n",
      "2024년 6월 27일 · HBM은 1세대 (HBM)-2세대 (HBM2)-3세대 (HBM2E)-4세대 (HBM3)-5세대 (HBM3E) 순으로 개발됨. HBM3E는 HBM3의 확장 (Extended) 버전 HBM이 본격적으로 세상에 …\n",
      "https://news.skhynix.co.kr/post/hbm_interview_2024\n",
      "\n",
      "HBM3E 차세대 메모리 기술의 선두주자로 주목받는 이유 - Blosodeuk\n",
      "HBM3E는 ...\n",
      "https://blosodeuk.com/hbm3e-%ec%b0%a8%ec%84%b8%eb%8c%80-%eb%a9%94%eb%aa%a8%eb%a6%ac-%ea%b8%b0%ec%88%a0%ec%9d%98-%ec%84%a0%eb%91%90%ec%a3%bc%ec%9e%90%eb%a1%9c-%ec%a3%bc%eb%aa%a9%eb%b0%9b%eb%8a%94-%ec%9d%b4%ec%9c%a0/\n",
      "\n",
      "SK하이닉스 “HBM3E 16단,수율 문제 없다… 20단까지 적층 가능”\n",
      "2024년 11월 5일 · “개발 단계에서 확보한 5세대 고대역폭메모리 (HBM3E) 16단의 테스트 (검증) 수율이 12단의 양산 수율과 비교해 동등한 수준인 것으로 확인됐습니다. SK하이닉스의 핵심 …\n",
      "https://biz.chosun.com/it-science/ict/2024/11/05/MHTLRD5THJG4JA5JZ7OIPNRFNA/\n",
      "\n",
      "“글로벌 No.1 AI 메모리 기업, SK하이닉스!” 세계 최고 …\n",
      "2023년 9월 19일 · HBM3E는 핀당 처리 속도 최고 9.2Gbps, 초당 최고 1.15TB (테라바이트)를 넘는 데이터 처리 속도를 기록하며 HBM 제품 최초로 TB의 벽을 넘어섰다. 이는 FHD (Full-HD)급 영화 (5GB) 230편 이상 분량의 데이터를 1초 …\n",
      "https://news.skhynix.co.kr/post/skhynix-hbm3e-interview\n",
      "\n",
      "SK하이닉스의 혁신적인 기술, 16단 HBM3E\n",
      "2024년 11월 26일 · SK하이닉스는 16단 HBM3E 개발을 통해 AI 시대의 핵심 메모리 기술을 선도하고 있어요. 이 기술은 더 강력한 AI 시스템 구축에 기여하며, 앞으로도 더 혁신적인 …\n",
      "https://dodongtakk.tistory.com/entry/SK%ED%95%98%EC%9D%B4%EB%8B%89%EC%8A%A4%EC%9D%98-%ED%98%81%EC%8B%A0%EC%A0%81%EC%9D%B8-%EA%B8%B0%EC%88%A0-16%EB%8B%A8-HBM3E\n",
      "\n",
      "SK하이닉스 HBM3E 16단: 초고속 메모리 기술의 새로운 기준\n",
      "2025년 1월 25일 · SK하이닉스는 메모리 기술의 새로운 이정표를 세우며 HBM3E 16단 적층 제품을 세계 최초로 선보였습니다. 이 기술은 고성능 컴퓨팅 (HPC)과 인공지능 (AI) 산업의 핵심적인 …\n",
      "https://hereandtherejjun.tistory.com/218\n",
      "\n",
      "SK하이닉스, 16단 HBM3E 기술 첫 공개…1등 자신감\n",
      "2024년 2월 14일 · SK하이닉스가 이달 20일 국제고체회로학회 (ISSCC) 2024 컨퍼런스에서 16단으로 쌓아올린 HBM3E 칩 기술을 세계 최초로 공개한다. 고대역폭메모리 (HBM) 시장에서 점유율 1위인 SK하이닉스는 선단 기술을 …\n",
      "https://zdnet.co.kr/view/?no=20240214092520\u001b[0m\n",
      "Thought:\u001b[32;1m\u001b[1;3mThought: HBM3E의 주요 기술을 표로 요약하기 위해 웹 검색 결과를 분석했습니다. 검색 결과에서 HBM3E의 주요 특징들을 추출하여 표 형태로 정리하겠습니다.\n",
      "Final Answer:| 특징 | 설명 |\n",
      "|---|---|\n",
      "| **향상된 성능** | HBM3 대비 속도 및 용량 개선 |\n",
      "| **높은 대역폭** | 초당 1.15TB 이상의 데이터 처리 속도 |\n",
      "| **대용량** | 최대 36GB (12단 적층 DRAM), 16단 및 20단 적층 가능 |\n",
      "| **높은 속도** | 핀당 최대 9.2Gbps 속도 |\n",
      "| **적용 분야** | 고성능 컴퓨팅 (HPC) 및 인공지능 (AI) |\n",
      "| **적층 기술** | 첨단 적층 기술 (12단, 16단, 20단 가능) |\n",
      "| **TB 벽 돌파** | HBM 최초로 초당 1TB 데이터 처리 속도 돌파 |\n",
      "| **양산 시점** | SK하이닉스, 2024년 3월 세계 최초 양산 시작 |\u001b[0m\n",
      "\n",
      "\u001b[1m> Finished chain.\u001b[0m\n",
      "| 특징 | 설명 |\n",
      "|---|---|\n",
      "| **향상된 성능** | HBM3 대비 속도 및 용량 개선 |\n",
      "| **높은 대역폭** | 초당 1.15TB 이상의 데이터 처리 속도 |\n",
      "| **대용량** | 최대 36GB (12단 적층 DRAM), 16단 및 20단 적층 가능 |\n",
      "| **높은 속도** | 핀당 최대 9.2Gbps 속도 |\n",
      "| **적용 분야** | 고성능 컴퓨팅 (HPC) 및 인공지능 (AI) |\n",
      "| **적층 기술** | 첨단 적층 기술 (12단, 16단, 20단 가능) |\n",
      "| **TB 벽 돌파** | HBM 최초로 초당 1TB 데이터 처리 속도 돌파 |\n",
      "| **양산 시점** | SK하이닉스, 2024년 3월 세계 최초 양산 시작 |\n"
     ]
    }
   ],
   "source": [
    "response = agent.run(\"HBM3E의 주요 기술을 표로 요약해 줘\")\n",
    "print(response)"
   ]
  },
  {
   "cell_type": "code",
   "execution_count": 58,
   "id": "7d772d26",
   "metadata": {},
   "outputs": [
    {
     "name": "stdout",
     "output_type": "stream",
     "text": [
      "\n",
      "\n",
      "\u001b[1m> Entering new AgentExecutor chain...\u001b[0m\n",
      "\u001b[32;1m\u001b[1;3mThought: 딥시크에 사용된 주요 기술을 알아보기 위해 웹 검색을 해야겠다. \"딥시크 기술 스택\" 또는 \"DeepSeek 기술\"과 같은 검색어로 검색하면 관련 정보를 찾을 수 있을 것이다. 정보 출처를 묻고 있으므로, 검색 결과에서 신뢰할 만한 출처를 찾아야 한다.\n",
      "Action: web_search\n",
      "Action Input: 딥시크 기술 스택\u001b[0mhttps://heesight.com/entry/%EB%94%A5%EC%8B%9C%ED%81%AC-Deepseek-AI-%EB%94%94%EC%8A%A4%ED%8B%B8%EB%A0%88%EC%9D%B4%EC%85%98AI-Distillation%EA%B3%BC-OpenAI%EC%9D%98-%EB%AF%B8%EB%9E%98\n",
      "https://nomad-lee.tistory.com/entry/%EB%94%A5%EC%8B%9C%ED%81%AC%EB%9E%80-DeepSeek-AI-%EB%9C%BB-%EB%AA%A8%EB%8D%B8-%ED%8A%B9%EC%A7%95-%EB%B0%8F-%EA%B8%B0%EC%88%A0-%EC%B4%9D%EC%A0%95%EB%A6%AC\n",
      "https://plusai.tistory.com/entry/%EB%94%A5%EC%8B%9C%ED%81%AC-DeepSeek-%EB%AA%A8%EB%8D%B8-%EC%A2%85%EB%A5%98%EC%99%80-%EC%84%B1%EB%8A%A5-%ED%8A%B9%EC%A7%95-V3-R1-R1-Distill\n",
      "https://midoong1004.tistory.com/entry/%EB%94%A5%EC%8B%9C%ED%81%ACDeepSeek%EB%9E%80-%EC%B5%9C%EC%8B%A0-AI-%ED%8A%B8%EB%A0%8C%EB%93%9C%EC%99%80-%ED%99%9C%EC%9A%A9%EB%B2%95-%EC%99%84%EB%B2%BD-%EC%A0%95%EB%A6%AC\n",
      "https://oduki-b.tistory.com/entry/%EC%A7%80%EA%B8%88-%EC%95%88-%EB%B3%B4%EB%A9%B4-%EC%86%90%ED%95%B4-%EB%94%A5%EC%8B%9C%ED%81%ACDeepSeek%EC%9D%98-%EB%AA%A8%EB%93%A0-%EA%B2%83\n",
      "https://somuk.tistory.com/entry/%EB%94%A5%EC%8B%9C%ED%81%ACDeepSeek-%EA%B0%84%EB%8B%A8-%EC%A0%95%EB%A6%AC\n",
      "https://aistorie.com/%eb%94%a5%ec%8b%9c%ed%81%acdeepseek-%ec%82%ac%ec%9a%a9-%eb%b0%a9%eb%b2%95-%ec%b4%9d%ec%a0%95%eb%a6%ac/\n",
      "https://idea5561.tistory.com/entry/%EB%94%A5%EC%8B%9C%ED%81%ACDeepSeek-%EC%99%84%EB%B2%BD-%EA%B0%80%EC%9D%B4%EB%93%9C-AI-%EA%B8%B0%EC%88%A0%EB%A1%9C-%EB%B9%84%EC%A6%88%EB%8B%88%EC%8A%A4%EB%A5%BC-%ED%98%81%EC%8B%A0%ED%95%98%EB%8A%94-%EA%B0%80%EC%9E%A5-%ED%9A%A8%EA%B3%BC%EC%A0%81%EC%9D%B8-%EB%B0%A9%EB%B2%95\n",
      "https://www.bbc.com/korean/articles/clykdp2dyvvo\n",
      "https://news.mt.co.kr/mtview.php?no=2025013111133095336\n",
      "\n",
      "Observation: \u001b[36;1m\u001b[1;3m딥시크 (Deepseek) - AI 디스틸레이션(AI Distillation)과 OpenAI의 미래\n",
      "6일 전 · 그렇다면 DeepSeek이 이러한 성과를 가능하게 한 비결은 무엇일까요? 핵심 기술 중 하나로 **AI 디스틸레이션(AI Distillation)**이 주목받고 있습니다. 최근 AI 시장에서 비용 효율성과 성능을 …\n",
      "https://heesight.com/entry/%EB%94%A5%EC%8B%9C%ED%81%AC-Deepseek-AI-%EB%94%94%EC%8A%A4%ED%8B%B8%EB%A0%88%EC%9D%B4%EC%85%98AI-Distillation%EA%B3%BC-OpenAI%EC%9D%98-%EB%AF%B8%EB%9E%98\n",
      "\n",
      "딥시크란? DeepSeek AI 뜻 | 모델 특징 및 기술 총정리\n",
      "4일 전 · 1. 딥시크(DeepSeek)란?딥시크(DeepSeek, 深度求索)는 중국의 인공지능(AI) 연구 기업이자 오픈 소스 대형 언어 모델(LLM) 개발사입니다. 딥시크는 2023년 중국 헤지펀드 High-Flyer의 투자로 독립적인 AI 연구소로 출범했으며, …\n",
      "https://nomad-lee.tistory.com/entry/%EB%94%A5%EC%8B%9C%ED%81%AC%EB%9E%80-DeepSeek-AI-%EB%9C%BB-%EB%AA%A8%EB%8D%B8-%ED%8A%B9%EC%A7%95-%EB%B0%8F-%EA%B8%B0%EC%88%A0-%EC%B4%9D%EC%A0%95%EB%A6%AC\n",
      "\n",
      "딥시크(DeepSeek) 모델 종류와 성능 특징 | V3 R1 R1-Distill\n",
      "2025년 1월 29일 · 2023년에 설립된 중국의 AI 스타트업, 딥시크(DeepSeek)가 AI 기술 분야에서 빠르게 주목받고 있습니다. 딥시크의 모델 종류와 성능 특징 알아봅니다. 딥시크-V3, R1, R1 …\n",
      "https://plusai.tistory.com/entry/%EB%94%A5%EC%8B%9C%ED%81%AC-DeepSeek-%EB%AA%A8%EB%8D%B8-%EC%A2%85%EB%A5%98%EC%99%80-%EC%84%B1%EB%8A%A5-%ED%8A%B9%EC%A7%95-V3-R1-R1-Distill\n",
      "\n",
      "딥시크(DeepSeek)란? 최신 AI 트렌드와 활용법 완벽 정리!\n",
      "6일 전 · 딥시크(DeepSeek)는 중국의 인공지능(AI) 스타트업으로, 오픈소스 대형 언어 모델을 개발하여 주목받고 있습니다. 2023년 5월에 설립된 이 회사는 저비용으로 고성능 AI 모델을 개발하는 데 성공하였으며, 최근에는 AI 어시스턴트 …\n",
      "https://midoong1004.tistory.com/entry/%EB%94%A5%EC%8B%9C%ED%81%ACDeepSeek%EB%9E%80-%EC%B5%9C%EC%8B%A0-AI-%ED%8A%B8%EB%A0%8C%EB%93%9C%EC%99%80-%ED%99%9C%EC%9A%A9%EB%B2%95-%EC%99%84%EB%B2%BD-%EC%A0%95%EB%A6%AC\n",
      "\n",
      "지금 안 보면 손해! 딥시크(DeepSeek)의 모든 것\n",
      "5일 전 · 딥시크 (DeepSeek)는 고급 인공지능 (AI) 기술을 기반으로 데이터 분석, 예측 및 최적화를 수행하는 혁신적인 솔루션이에요. 머신러닝과 딥러닝 알고리즘을 결합해 방대한 데이터를 빠르게 처리하고 유의미한 패턴을 발견할 수 있도록 …\n",
      "https://oduki-b.tistory.com/entry/%EC%A7%80%EA%B8%88-%EC%95%88-%EB%B3%B4%EB%A9%B4-%EC%86%90%ED%95%B4-%EB%94%A5%EC%8B%9C%ED%81%ACDeepSeek%EC%9D%98-%EB%AA%A8%EB%93%A0-%EA%B2%83\n",
      "\n",
      "딥시크(DeepSeek) 간단 정리\n",
      "2025년 1월 31일 · DeepSeek은 효율적인 연산 자원 활용과 비용 절감 기술을 통해 기존 대형 AI 모델 개발 방식과 차별화된 전략을 펼치고 있다. 이를 통해 고성능 AI 모델을 낮은 비용으로 개발하는 …\n",
      "https://somuk.tistory.com/entry/%EB%94%A5%EC%8B%9C%ED%81%ACDeepSeek-%EA%B0%84%EB%8B%A8-%EC%A0%95%EB%A6%AC\n",
      "\n",
      "딥시크 (DeepSeek) 사용 방법 총정리 - AI 스토리\n",
      "6일 전 · 딥시크는 중국의 AI 스타트업이 개발한 최첨단 인공지능 언어 모델입니다. 2025년 1월에 공개된 DeepSeek-R1 모델은 저비용 고효율을 자랑하며 ChatGPT와 같은 기존 AI 챗봇들과 …\n",
      "https://aistorie.com/%eb%94%a5%ec%8b%9c%ed%81%acdeepseek-%ec%82%ac%ec%9a%a9-%eb%b0%a9%eb%b2%95-%ec%b4%9d%ec%a0%95%eb%a6%ac/\n",
      "\n",
      "딥시크(DeepSeek) 완벽 가이드: AI 기술로 비즈니스를 혁신하는 가장 ...\n",
      "딥시크는 AI 기술을 기반으로 기업의 데이터를 분석하고, 이를 실질적인 인사이트로 변환해 비즈니스 전반에서 효율성을 높이는 데 초점을 맞춘 AI 플랫폼 입니다. 데이터 기반의 혁신적 접근 으로 …\n",
      "https://idea5561.tistory.com/entry/%EB%94%A5%EC%8B%9C%ED%81%ACDeepSeek-%EC%99%84%EB%B2%BD-%EA%B0%80%EC%9D%B4%EB%93%9C-AI-%EA%B8%B0%EC%88%A0%EB%A1%9C-%EB%B9%84%EC%A6%88%EB%8B%88%EC%8A%A4%EB%A5%BC-%ED%98%81%EC%8B%A0%ED%95%98%EB%8A%94-%EA%B0%80%EC%9E%A5-%ED%9A%A8%EA%B3%BC%EC%A0%81%EC%9D%B8-%EB%B0%A9%EB%B2%95\n",
      "\n",
      "세계를 놀라게 한 중국 AI 챗봇 '딥시크'... 그 파장은? - BBC\n",
      "2025년 1월 28일 · 중국에서 개발된 인공지능(AI) 모델 딥시크(DeepSeek)가 애플 앱스토어 다운로드 순위 1위를 차지했다. 이에 투자자들은 놀라움을 숨기지 못했고, 일부 ...\n",
      "https://www.bbc.com/korean/articles/clykdp2dyvvo\n",
      "\n",
      "딥시크 AI, 왜 그렇게 저렴한가 했더니… '이 기술' 때문 - 머니 ...\n",
      "2025년 1월 31일 · 딥시크가 공개한 기술보고서에 따르면, 딥시크-r1의 파라미터(매개변수)는 6710억개에 이르지만, 작업 시엔 이 중 340억개만 선별적으로 활성화하도록 설계됐다. 모든 …\n",
      "https://news.mt.co.kr/mtview.php?no=2025013111133095336\u001b[0m\n",
      "Thought:\u001b[32;1m\u001b[1;3mThought: 딥시크에 쓰인 주요 기술을 정리하고 정보의 출처를 제공해야 한다. 웹 검색 결과에서 딥시크의 기술 스택에 대한 정보를 찾았다. 주요 기술과 출처를 정리해야겠다.\n",
      "Final Answer:\n",
      "## 딥시크 주요 기술 및 정보 출처\n",
      "\n",
      "딥시크는 중국의 AI 스타트업으로, **AI 디스틸레이션**, **선별적 파라미터 활성화**, **효율적인 연산 자원 활용 및 비용 절감 기술** 등을 주요 기술로 사용하여 고성능 AI 모델을 저비용으로 개발하는 데 집중하고 있습니다. 또한, **머신러닝 및 딥러닝 알고리즘**을 활용하여 데이터 분석, 예측 및 최적화 솔루션을 제공합니다.\n",
      "\n",
      "**주요 기술:**\n",
      "\n",
      "1.  **AI 디스틸레이션 (AI Distillation):** 딥시크의 핵심 기술 중 하나로, 모델의 효율성과 성능을 높이는 데 기여합니다. (출처: heesight.com)\n",
      "2.  **선별적 파라미터 활성화:** 딥시크-r1 모델은 6710억 개의 파라미터 중 작업 시 340억 개만 선택적으로 활성화하여 연산 비용을 절감합니다. (출처: news.mt.co.kr)\n",
      "3.  **효율적인 연산 자원 활용 및 비용 절감 기술:** 딥시크는 기존 대형 AI 모델 개발 방식과 차별화된 전략으로 효율적인 자원 활용과 비용 절감을 추구합니다. (출처: somuk.tistory.com)\n",
      "4.  **머신러닝 및 딥러닝 알고리즘:** 딥시크는 이러한 알고리즘을 기반으로 데이터 분석, 예측 및 최적화를 수행합니다. (출처: oduki-b.tistory.com)\n",
      "\n",
      "**정보 출처:**\n",
      "\n",
      "*   heesight.com: [https://heesight.com/entry/%EB%94%A5%EC%8B%9C%ED%81%AC-Deepseek-AI-%EB%94%94%EC%8A%A4%ED%8B%B8%EB%A0%88%EC%9D%B4%EC%85%98AI-Distillation%EA%B3%BC-OpenAI%EC%9D%98-%EB%AF%B8%EB%9E%98](https://heesight.com/entry/%EB%94%A5%EC%8B%9C%ED%81%AC-Deepseek-AI-%EB%94%94%EC%8A%A4%ED%8B%B8%EB%A0%88%EC%9D%B4%EC%85%98AI-Distillation%EA%B3%BC-OpenAI%EC%9D%98-%EB%AF%B8%EB%9E%98)\n",
      "*   news.mt.co.kr: [https://news.mt.co.kr/mtview.php?no=2025013111133095336](https://news.mt.co.kr/mtview.php?no=2025013111133095336)\n",
      "*   somuk.tistory.com: [https://somuk.tistory.com/entry/%EB%94%A5%EC%8B%9C%ED%81%ACDeepSeek-%EA%B0%84%EB%8B%A8-%EC%A0%95%EB%A6%AC](https://somuk.tistory.com/entry/%EB%94%A5%EC%8B%9C%ED%81%ACDeepSeek-%EA%B0%84%EB%8B%A8-%EC%A0%95%EB%A6%AC)\n",
      "*   oduki-b.tistory.com: [https://oduki-b.tistory.com/entry/%EC%A7%80%EA%B8%88-%EC%95%88-%EB%B3%B4%EB%A9%B4-%EC%86%90%ED%95%B4-%EB%94%A5%EC%8B%9C%ED%81%ACDeepSeek%EC%9D%98-%EB%AA%A8%EB%93%A0-%EA%B2%83](https://oduki-b.tistory.com/entry/%EC%A7%80%EA%B8%88-%EC%95%88-%EB%B3%B4%EB%A9%B4-%EC%86%90%ED%95%B4-%EB%94%A5%EC%8B%9C%ED%81%ACDeepSeek%EC%9D%98-%EB%AA%A8%EB%93%A0-%EA%B2%83)\u001b[0m\n",
      "\n",
      "\u001b[1m> Finished chain.\u001b[0m\n",
      "## 딥시크 주요 기술 및 정보 출처\n",
      "\n",
      "딥시크는 중국의 AI 스타트업으로, **AI 디스틸레이션**, **선별적 파라미터 활성화**, **효율적인 연산 자원 활용 및 비용 절감 기술** 등을 주요 기술로 사용하여 고성능 AI 모델을 저비용으로 개발하는 데 집중하고 있습니다. 또한, **머신러닝 및 딥러닝 알고리즘**을 활용하여 데이터 분석, 예측 및 최적화 솔루션을 제공합니다.\n",
      "\n",
      "**주요 기술:**\n",
      "\n",
      "1.  **AI 디스틸레이션 (AI Distillation):** 딥시크의 핵심 기술 중 하나로, 모델의 효율성과 성능을 높이는 데 기여합니다. (출처: heesight.com)\n",
      "2.  **선별적 파라미터 활성화:** 딥시크-r1 모델은 6710억 개의 파라미터 중 작업 시 340억 개만 선택적으로 활성화하여 연산 비용을 절감합니다. (출처: news.mt.co.kr)\n",
      "3.  **효율적인 연산 자원 활용 및 비용 절감 기술:** 딥시크는 기존 대형 AI 모델 개발 방식과 차별화된 전략으로 효율적인 자원 활용과 비용 절감을 추구합니다. (출처: somuk.tistory.com)\n",
      "4.  **머신러닝 및 딥러닝 알고리즘:** 딥시크는 이러한 알고리즘을 기반으로 데이터 분석, 예측 및 최적화를 수행합니다. (출처: oduki-b.tistory.com)\n",
      "\n",
      "**정보 출처:**\n",
      "\n",
      "*   heesight.com: [https://heesight.com/entry/%EB%94%A5%EC%8B%9C%ED%81%AC-Deepseek-AI-%EB%94%94%EC%8A%A4%ED%8B%B8%EB%A0%88%EC%9D%B4%EC%85%98AI-Distillation%EA%B3%BC-OpenAI%EC%9D%98-%EB%AF%B8%EB%9E%98](https://heesight.com/entry/%EB%94%A5%EC%8B%9C%ED%81%AC-Deepseek-AI-%EB%94%94%EC%8A%A4%ED%8B%B8%EB%A0%88%EC%9D%B4%EC%85%98AI-Distillation%EA%B3%BC-OpenAI%EC%9D%98-%EB%AF%B8%EB%9E%98)\n",
      "*   news.mt.co.kr: [https://news.mt.co.kr/mtview.php?no=2025013111133095336](https://news.mt.co.kr/mtview.php?no=2025013111133095336)\n",
      "*   somuk.tistory.com: [https://somuk.tistory.com/entry/%EB%94%A5%EC%8B%9C%ED%81%ACDeepSeek-%EA%B0%84%EB%8B%A8-%EC%A0%95%EB%A6%AC](https://somuk.tistory.com/entry/%EB%94%A5%EC%8B%9C%ED%81%ACDeepSeek-%EA%B0%84%EB%8B%A8-%EC%A0%95%EB%A6%AC)\n",
      "*   oduki-b.tistory.com: [https://oduki-b.tistory.com/entry/%EC%A7%80%EA%B8%88-%EC%95%88-%EB%B3%B4%EB%A9%B4-%EC%86%90%ED%95%B4-%EB%94%A5%EC%8B%9C%ED%81%ACDeepSeek%EC%9D%98-%EB%AA%A8%EB%93%A0-%EA%B2%83](https://oduki-b.tistory.com/entry/%EC%A7%80%EA%B8%88-%EC%95%88-%EB%B3%B4%EB%A9%B4-%EC%86%90%ED%95%B4-%EB%94%A5%EC%8B%9C%ED%81%ACDeepSeek%EC%9D%98-%EB%AA%A8%EB%93%A0-%EA%B2%83)\n"
     ]
    }
   ],
   "source": [
    "response = agent.run(\"딥시크에 쓰인 주요 기술을 정리하고 정보의 출처도 알려줘\")\n",
    "print(response)"
   ]
  },
  {
   "cell_type": "code",
   "execution_count": 12,
   "id": "cc46a598",
   "metadata": {},
   "outputs": [],
   "source": [
    "from langchain.tools import tool\n",
    "from bs4 import BeautifulSoup\n",
    "import requests\n",
    "import time\n",
    "import re\n",
    "\n",
    "query = \"hbm3e\"\n",
    "headers = {'User-Agent': 'Mozilla/5.0 (X11; Linux x86_64) AppleWebKit/537.36'}\n",
    "search_url = f\"https://www.bing.com/search?q={query}\"\n",
    "response = requests.get(search_url, headers=headers)\n",
    "time.sleep(10)\n",
    "soup = BeautifulSoup(response.text, 'html.parser')"
   ]
  },
  {
   "cell_type": "code",
   "execution_count": 14,
   "id": "324acd72",
   "metadata": {},
   "outputs": [
    {
     "data": {
      "text/plain": [
       "[<a h=\"ID=SERP,5125.2\" href=\"https://m.blog.naver.com/techref/223398700515\" target=\"_blank\">HBM 반도체 뜻 HBM3 <strong>HBM3E</strong> 차이 고대역폭 메모리 특징 - 네이버 …</a>,\n",
       " <a h=\"ID=SERP,5144.2\" href=\"https://news.skhynix.co.kr/presscenter/hbm3e-production\" target=\"_blank\">SK하이닉스, 초고성능 AI 메모리 ‘<strong>HBM3E</strong>’ 세계 최초로 본격 ...</a>,\n",
       " <a h=\"ID=SERP,5163.2\" href=\"https://m.blog.naver.com/jkhan012/223386755360\" target=\"_blank\"><strong>HBM3E</strong>, 알아야 할 모든 것 - HBM은 패키징 기술 - 네이버 블로그</a>,\n",
       " <a h=\"ID=SERP,5182.2\" href=\"https://biz.newdaily.co.kr/site/data/html/2025/01/31/2025013100117.html\" target=\"_blank\">입 다문 삼성, <strong>HBM3E</strong> 엔비디아 퀄테스트 통과 사실일까</a>,\n",
       " <a h=\"ID=SERP,5198.2\" href=\"https://product.skhynix.com/products/dram/hbm/hbm3e.go\" target=\"_blank\"><strong>HBM3E</strong> | SK hynix</a>,\n",
       " <a h=\"ID=SERP,5217.2\" href=\"https://news.skhynix.co.kr/post/skhynix-hbm3e-interview\" target=\"_blank\">“글로벌 No.1 AI 메모리 기업, SK하이닉스!” 세계 최고 성능 AI용 ...</a>,\n",
       " <a h=\"ID=SERP,5236.2\" href=\"https://news.skhynix.co.kr/presscenter/12hi-hbm3e-production\" target=\"_blank\">SK하이닉스, 세계 최초 ‘12단 적층 <strong>HBM3E</strong>’ 양산 돌입</a>,\n",
       " <a h=\"ID=SERP,5254.2\" href=\"https://semiconductor.samsung.com/kr/news-events/tech-blog/the-perfect-harmony-created-by-samsung-hbm-powering-the-ai-era/\" target=\"_blank\">[인터뷰] AI 시대 삼성전자 HBM이 만들어 내는 완벽한 하모니</a>,\n",
       " <a h=\"ID=SERP,5271.2\" href=\"https://www.chosun.com/economy/tech_it/2024/08/07/BTLWDEIC25G3ZOF7MIHKXGJKAM/\" target=\"_blank\">로이터 \"삼성전자 <strong>HBM3E</strong>, 엔비디아 퀄 테스트 통과\" - 조선일보</a>,\n",
       " <a h=\"ID=SERP,5287.2\" href=\"https://www.micron.com/products/memory/hbm/hbm3e\" target=\"_blank\"><strong>HBM3E</strong> - Micron Technology, Inc.</a>,\n",
       " <a h=\"ID=SERP,5075.1\" href=\"http://go.microsoft.com/fwlink/?LinkID=286759\" id=\"sb_adinfo\" target=\"_blank\">광고 정보</a>,\n",
       " <a h=\"ID=SERP,5076.1\" href=\"https://support.microsoft.com/topic/82d20721-2d6f-4012-a13d-d1910ccf203f\" id=\"sb_help\" target=\"_blank\">도움말</a>]"
      ]
     },
     "execution_count": 14,
     "metadata": {},
     "output_type": "execute_result"
    }
   ],
   "source": [
    "soup.find_all('a', target='_blank')\n"
   ]
  },
  {
   "cell_type": "code",
   "execution_count": 117,
   "id": "20895b1a",
   "metadata": {},
   "outputs": [],
   "source": [
    "k = soup.find_all('a', target='_blank')"
   ]
  },
  {
   "cell_type": "code",
   "execution_count": 118,
   "id": "444e48bc",
   "metadata": {},
   "outputs": [
    {
     "data": {
      "text/plain": [
       "'https://news.skhynix.co.kr/presscenter/hbm3e-production'"
      ]
     },
     "execution_count": 118,
     "metadata": {},
     "output_type": "execute_result"
    }
   ],
   "source": [
    "k[3]['href']"
   ]
  },
  {
   "cell_type": "code",
   "execution_count": 110,
   "id": "1b03833a",
   "metadata": {},
   "outputs": [
    {
     "data": {
      "text/plain": [
       "'http'"
      ]
     },
     "execution_count": 110,
     "metadata": {},
     "output_type": "execute_result"
    }
   ],
   "source": [
    "k[3]['href'][0:4]"
   ]
  },
  {
   "cell_type": "code",
   "execution_count": 120,
   "id": "bcf208a5",
   "metadata": {},
   "outputs": [
    {
     "name": "stdout",
     "output_type": "stream",
     "text": [
      "/chat?q=hbm3e&sendquery=1&form=HECODX\n",
      "/search?shm=cr&form=DEEPSH\n",
      "https://m.blog.naver.com/techref/223398700515\n",
      "https://news.skhynix.co.kr/presscenter/hbm3e-production\n",
      "https://m.blog.naver.com/jkhan012/223386755360\n",
      "/news/search?q=hbm3e&qpvt=hbm3e&FORM=EWRE\n",
      "https://news.skhynix.co.kr/post/skhynix-hbm3e-interview\n",
      "https://product.skhynix.com/products/dram/hbm/hbm3e.go\n",
      "https://news.skhynix.co.kr/presscenter/12hi-hbm3e-production\n",
      "https://biz.chosun.com/it-science/ict/2024/09/26/ORBIYF37CBF7VIBXNBUMSBF554/\n",
      "https://www.yna.co.kr/view/AKR20240227044800003\n",
      "https://biz.newdaily.co.kr/site/data/html/2025/01/31/2025013100117.html\n",
      "https://www.yna.co.kr/view/AKR20240926038800003\n",
      "http://go.microsoft.com/fwlink/?LinkID=286759\n",
      "https://support.microsoft.com/topic/82d20721-2d6f-4012-a13d-d1910ccf203f\n"
     ]
    }
   ],
   "source": [
    "news = []\n",
    "for i in k:\n",
    "    print(i['href'])\n",
    "    if i['href'][0:4] == 'http':\n",
    "        news.append(i)"
   ]
  },
  {
   "cell_type": "code",
   "execution_count": 127,
   "id": "1c989eb8",
   "metadata": {},
   "outputs": [
    {
     "data": {
      "text/plain": [
       "[<a h=\"ID=SERP,5195.2\" href=\"https://m.blog.naver.com/techref/223398700515\" target=\"_blank\">HBM 반도체 뜻 HBM3 HBM3E 차이 고대역폭 메모리 …</a>,\n",
       " <a h=\"ID=SERP,5220.2\" href=\"https://news.skhynix.co.kr/presscenter/hbm3e-production\" target=\"_blank\">SK하이닉스, 초고성능 AI 메모리 ‘HBM3E’ 세계 최초로 …</a>,\n",
       " <a h=\"ID=SERP,5245.2\" href=\"https://m.blog.naver.com/jkhan012/223386755360\" target=\"_blank\">HBM3E, 알아야 할 모든 것 - HBM은 패키징 기술 : …</a>,\n",
       " <a h=\"ID=SERP,5271.2\" href=\"https://news.skhynix.co.kr/post/skhynix-hbm3e-interview\" target=\"_blank\">“글로벌 No.1 AI 메모리 기업, SK하이닉스!” 세계 최고 성능 AI용 ...</a>,\n",
       " <a h=\"ID=SERP,5295.2\" href=\"https://product.skhynix.com/products/dram/hbm/hbm3e.go\" target=\"_blank\">HBM3E | SK hynix</a>,\n",
       " <a h=\"ID=SERP,5320.2\" href=\"https://news.skhynix.co.kr/presscenter/12hi-hbm3e-production\" target=\"_blank\">SK하이닉스, 세계 최초 ‘12단 적층 HBM3E’ 양산 돌입</a>,\n",
       " <a h=\"ID=SERP,5343.2\" href=\"https://biz.chosun.com/it-science/ict/2024/09/26/ORBIYF37CBF7VIBXNBUMSBF554/\" target=\"_blank\">SK하이닉스, 업계 첫 ‘12단 적층 HBM3E’ 양산 돌입… 연내 ...</a>,\n",
       " <a h=\"ID=SERP,5369.2\" href=\"https://www.yna.co.kr/view/AKR20240227044800003\" target=\"_blank\">삼성전자, 업계 최초로 12단 쌓은 HBM3E 개발 …</a>,\n",
       " <a h=\"ID=SERP,5393.2\" href=\"https://biz.newdaily.co.kr/site/data/html/2025/01/31/2025013100117.html\" target=\"_blank\">입 다문 삼성, HBM3E 엔비디아 퀄테스트 통과 사실일까</a>,\n",
       " <a h=\"ID=SERP,5419.2\" href=\"https://www.yna.co.kr/view/AKR20240926038800003\" target=\"_blank\">SK하이닉스, HBM3E 12단도 앞서 나간다…세계 최초 …</a>]"
      ]
     },
     "execution_count": 127,
     "metadata": {},
     "output_type": "execute_result"
    }
   ],
   "source": [
    "news[:-2]"
   ]
  },
  {
   "cell_type": "code",
   "execution_count": 172,
   "id": "e0acddef",
   "metadata": {},
   "outputs": [
    {
     "data": {
      "text/plain": [
       "'HBM 반도체 뜻 HBM3 HBM3E 차이 고대역폭 메모리 …'"
      ]
     },
     "execution_count": 172,
     "metadata": {},
     "output_type": "execute_result"
    }
   ],
   "source": [
    "news[0].contents[0]"
   ]
  },
  {
   "cell_type": "code",
   "execution_count": 173,
   "id": "cfd03c5d",
   "metadata": {},
   "outputs": [
    {
     "data": {
      "text/plain": [
       "'https://m.blog.naver.com/techref/223398700515'"
      ]
     },
     "execution_count": 173,
     "metadata": {},
     "output_type": "execute_result"
    }
   ],
   "source": [
    "news[0]['href']"
   ]
  },
  {
   "cell_type": "code",
   "execution_count": 176,
   "id": "294e5cd3",
   "metadata": {},
   "outputs": [
    {
     "data": {
      "text/plain": [
       "'2024년 3월 28일\\xa0· HBM3E는 용량과 속도 면에서 HBM3을 뛰어넘는 개선된 버전입니다. 삼성전자가 개발한 36GB 용량의 HBM3E 12단 적층 D램은 업계에서 가장 큰 용량을 자랑하며, 초당 1,280GB의 대역폭을 제공합니다.'"
      ]
     },
     "execution_count": 176,
     "metadata": {},
     "output_type": "execute_result"
    }
   ],
   "source": [
    "description[0].contents[0]"
   ]
  },
  {
   "cell_type": "code",
   "execution_count": 181,
   "id": "c7ffcd4c",
   "metadata": {},
   "outputs": [
    {
     "data": {
      "text/plain": [
       "10"
      ]
     },
     "execution_count": 181,
     "metadata": {},
     "output_type": "execute_result"
    }
   ],
   "source": [
    "len(description)"
   ]
  },
  {
   "cell_type": "code",
   "execution_count": 15,
   "id": "ecc31e36",
   "metadata": {},
   "outputs": [],
   "source": [
    "from langchain.tools import tool\n",
    "from bs4 import BeautifulSoup\n",
    "import requests\n",
    "import time\n",
    "import re\n",
    "\n",
    "query = \"hbm3e\"\n",
    "headers = {'User-Agent': 'Mozilla/5.0 (X11; Linux x86_64) AppleWebKit/537.36'}\n",
    "search_url = f\"https://www.bing.com/search?q={query}\"\n",
    "response = requests.get(search_url, headers=headers)\n",
    "time.sleep(10)\n",
    "soup = BeautifulSoup(response.text, 'html.parser')"
   ]
  },
  {
   "cell_type": "code",
   "execution_count": null,
   "id": "882b84cd",
   "metadata": {},
   "outputs": [],
   "source": []
  },
  {
   "cell_type": "code",
   "execution_count": 16,
   "id": "7e9cb135",
   "metadata": {},
   "outputs": [],
   "source": [
    "k = soup.find_all('a', target='_blank')\n",
    "news = []\n",
    "for i in k:\n",
    "    if i['href'][0:4] == 'http':\n",
    "        news.append(i)\n",
    "\n",
    "description = soup.find_all('p',class_=re.compile(\"^b_lineclamp\"))"
   ]
  },
  {
   "cell_type": "code",
   "execution_count": 17,
   "id": "05bb6f87",
   "metadata": {},
   "outputs": [],
   "source": [
    "search_results = []\n",
    "for index,content in enumerate(description):\n",
    "    #print(news[index].contents[0])\n",
    "    print(news[index]['href'])\n",
    "    #print(content.contents[0])\n",
    "    search_results.append({\n",
    "                'title': news[index].contents[0],\n",
    "                'link': news[index]['href'],\n",
    "                'description': content.contents[0]})"
   ]
  },
  {
   "cell_type": "code",
   "execution_count": 18,
   "id": "7f501add",
   "metadata": {},
   "outputs": [
    {
     "data": {
      "text/plain": [
       "0"
      ]
     },
     "execution_count": 18,
     "metadata": {},
     "output_type": "execute_result"
    }
   ],
   "source": [
    "len(search_results)"
   ]
  },
  {
   "cell_type": "code",
   "execution_count": 219,
   "id": "d5819a7b",
   "metadata": {},
   "outputs": [
    {
     "data": {
      "text/plain": [
       "{'title': 'HBM 반도체 뜻 HBM3 HBM3E 차이 고대역폭 메모리 …',\n",
       " 'link': 'https://m.blog.naver.com/techref/223398700515',\n",
       " 'description': '2024년 3월 28일\\xa0· 바로 hbm3e입니다. hbm3e는 용량과 속도 면에서 hbm3을 뛰어넘는 개선된 버전입니다. 삼성전자가 개발한 36gb 용량의 hbm3e 12단 적층 d램은 업계에서 가장 큰 용량을 자랑하며, 초당 1,280gb의 대역폭을 제공합니다. …'}"
      ]
     },
     "execution_count": 219,
     "metadata": {},
     "output_type": "execute_result"
    }
   ],
   "source": [
    "search_results[0]"
   ]
  },
  {
   "cell_type": "code",
   "execution_count": 220,
   "id": "f0f8289b",
   "metadata": {},
   "outputs": [
    {
     "data": {
      "text/plain": [
       "'HBM 반도체 뜻 HBM3 HBM3E 차이 고대역폭 메모리 …'"
      ]
     },
     "execution_count": 220,
     "metadata": {},
     "output_type": "execute_result"
    }
   ],
   "source": [
    "search_results[0]['title']"
   ]
  },
  {
   "cell_type": "code",
   "execution_count": 222,
   "id": "1d0b8c6e",
   "metadata": {},
   "outputs": [],
   "source": [
    "# 검색 결과에서 링크와 요약 추출\n",
    "results = []\n",
    "for news in search_results:\n",
    "    \n",
    "    results.append(f\"{news['title']}\\n{news['description']}\\n{news['link']}\")"
   ]
  },
  {
   "cell_type": "code",
   "execution_count": 225,
   "id": "b8f965db",
   "metadata": {},
   "outputs": [
    {
     "name": "stdout",
     "output_type": "stream",
     "text": [
      "HBM 반도체 뜻 HBM3 HBM3E 차이 고대역폭 메모리 …\n",
      "2024년 3월 28일 · 바로 hbm3e입니다. hbm3e는 용량과 속도 면에서 hbm3을 뛰어넘는 개선된 버전입니다. 삼성전자가 개발한 36gb 용량의 hbm3e 12단 적층 d램은 업계에서 가장 큰 용량을 자랑하며, 초당 1,280gb의 대역폭을 제공합니다. …\n",
      "https://m.blog.naver.com/techref/223398700515\n"
     ]
    }
   ],
   "source": [
    "print(results[0])"
   ]
  },
  {
   "cell_type": "code",
   "execution_count": 226,
   "id": "e31c6112",
   "metadata": {},
   "outputs": [
    {
     "name": "stdout",
     "output_type": "stream",
     "text": [
      "HBM 반도체 뜻 HBM3 HBM3E 차이 고대역폭 메모리 …\n",
      "2024년 3월 28일 · 바로 hbm3e입니다. hbm3e는 용량과 속도 면에서 hbm3을 뛰어넘는 개선된 버전입니다. 삼성전자가 개발한 36gb 용량의 hbm3e 12단 적층 d램은 업계에서 가장 큰 용량을 자랑하며, 초당 1,280gb의 대역폭을 제공합니다. …\n",
      "https://m.blog.naver.com/techref/223398700515\n",
      "\n",
      "SK하이닉스, 초고성능 AI 메모리 ‘HBM3E’ 세계 최초로 …\n",
      "2024년 3월 19일 · sk하이닉스가 hbm 5세대 hbm3e d램에서도 ai 메모리 선도 기업의 위상을 공고히 한다. SK하이닉스는 초고성능 AI용 메모리 신제품인 HBM3E*를 세계 최초로 양산해 3월 말부터 제품 공급을 시작한다고 19일 밝혔다.\n",
      "https://news.skhynix.co.kr/presscenter/hbm3e-production\n",
      "\n",
      "HBM3E, 알아야 할 모든 것 - HBM은 패키징 기술\n",
      "2024년 3월 18일 · hbm3e는 hbm2e, hbm2 또는 hbm(gen 1)과 어떻게 다릅니까? HBM3는 HBM 표준의 세 번째 주요 세대입니다. 세대가 거듭될수록 데이터 속도, 3D 스택 높이, DRAM 칩 밀도가 증가하는 추세를 보이고 있습니다.\n",
      "https://m.blog.naver.com/jkhan012/223386755360\n",
      "\n",
      "“글로벌 No.1 AI 메모리 기업, SK하이닉스!” 세계 최고 성능 AI용 ...\n",
      "2023년 9월 19일 · SK하이닉스는 HBM3E를 개발하여 AI 서버 운용에 필수적인 대규모 데이터 처리를 위한 초고성능 반도체를 선보였다. HBM3E는 속도, 용량, 발열제어 등 모든 측면에서 현존 …\n",
      "https://news.skhynix.co.kr/post/skhynix-hbm3e-interview\n",
      "\n",
      "HBM3E | SK hynix\n",
      "SK hynix launched HBM3E to solidify it’s unrivaled leadership in AI memory market following its success with HBM3. The extended version of HBM3 helps accelerate business turnaround …\n",
      "https://product.skhynix.com/products/dram/hbm/hbm3e.go\n",
      "\n",
      "SK하이닉스, 세계 최초 ‘12단 적층 HBM3E’ 양산 돌입\n",
      "2024년 9월 26일 · sk하이닉스가 현존 hbm 최대 용량인 36gb(기가바이트)를 구현한 hbm3e 12단 신제품을 세계 최초로 양산하기 시작했다고 26일 밝혔다.\n",
      "https://news.skhynix.co.kr/presscenter/12hi-hbm3e-production\n",
      "\n",
      "삼성전자, 업계 최초 36GB HBM3E 12H D램 개발\n",
      "6일 전 · 삼성전자가 업계 최초로 36gb(기가바이트) hbm3e(5세대 hbm) 12h(high, 12단 적층) d램 개발에 성공하고 고용량 hbm 시장 선점에 나선다.\n",
      "https://semiconductor.samsung.com/kr/news-events/news/samsung-develops-industry-first-36gb-hbm3e-12h-dram/\n",
      "\n",
      "HBM3E - Micron Technology, Inc.\n",
      "Micron’s HBM3E delivers pin speed greater than 9.2Gbps at an industry-leading bandwidth of more than 1.2 TB/s per placement. Micron’s HBM3E offers 24GB capacity using an 8-high stack …\n",
      "https://www.micron.com/products/memory/hbm/hbm3e\n",
      "\n",
      "SK하이닉스, 업계 첫 ‘12단 적층 HBM3E’ 양산 돌입… 연내 ...\n",
      "2024년 9월 26일 · 회사는 hbm3e 12단 제품이 ai 메모리에 필수적인 속도와 용량, 안정성 등 모든 부문에서 업계 최고 수준을 충족시켰다고 설명했다.\n",
      "https://biz.chosun.com/it-science/ict/2024/09/26/ORBIYF37CBF7VIBXNBUMSBF554/\n",
      "\n",
      "로이터 \"삼성전자 HBM3E, 엔비디아 퀄 테스트 통과\"\n",
      "3일 전 · 로이터 삼성전자 hbm3e, 엔비디아 퀄 테스트 통과 삼성전자의 5세대 고대역폭메모리hbm hbm3e가 엔비디아의 품질 테스트를 통과했다는 보도가 나왔다. 7일 로이터통신은 삼성전자의 hbm3e 8단이 최근 엔비디아 테스트를 …\n",
      "https://www.chosun.com/economy/tech_it/2024/08/07/BTLWDEIC25G3ZOF7MIHKXGJKAM/\n"
     ]
    }
   ],
   "source": [
    "print(\"\\n\\n\".join(results))"
   ]
  },
  {
   "cell_type": "code",
   "execution_count": 29,
   "id": "a09080e2",
   "metadata": {},
   "outputs": [
    {
     "name": "stdout",
     "output_type": "stream",
     "text": [
      "\n",
      "\n",
      "\u001b[1m> Entering new AgentExecutor chain...\u001b[0m\n",
      "\u001b[32;1m\u001b[1;3mThought: HBM3E 기술에 대한 정보를 웹 검색을 통해 찾아보겠습니다.\n",
      "Action: web_search\n",
      "Action Input: HBM3E 기술\u001b[0m\n",
      "Observation: \u001b[36;1m\u001b[1;3m\u001b[0m\n",
      "Thought:\u001b[32;1m\u001b[1;3mThought: HBM3E 기술에 대한 정보를 웹 검색을 통해 찾아보겠습니다.\n",
      "Action: web_search\n",
      "Action Input: HBM3E 기술\u001b[0m\n",
      "Observation: \u001b[36;1m\u001b[1;3m\u001b[0m\n",
      "Thought:\u001b[32;1m\u001b[1;3mThought: HBM3E 기술에 대한 정보를 웹 검색을 통해 찾아보겠습니다.\n",
      "Action: web_search\n",
      "Action Input: HBM3E 기술\u001b[0m\n",
      "Observation: \u001b[36;1m\u001b[1;3m\u001b[0m\n",
      "Thought:\u001b[32;1m\u001b[1;3mThought: HBM3E 기술에 대한 정보를 웹 검색을 통해 찾아보겠습니다.\n",
      "Action: web_search\n",
      "Action Input: HBM3E 기술\u001b[0m\n",
      "Observation: \u001b[36;1m\u001b[1;3m\u001b[0m\n",
      "Thought:\u001b[32;1m\u001b[1;3mThought: HBM3E 기술에 대한 정보를 웹 검색을 통해 찾아보겠습니다.\n",
      "Action: web_search\n",
      "Action Input: HBM3E 기술\u001b[0m\n",
      "Observation: \u001b[36;1m\u001b[1;3m\u001b[0m\n",
      "Thought:\u001b[32;1m\u001b[1;3mThought: HBM3E 기술에 대한 정보를 웹 검색을 통해 찾아보겠습니다.\n",
      "Action: web_search\n",
      "Action Input: HBM3E 기술\u001b[0m\n",
      "Observation: \u001b[36;1m\u001b[1;3m\u001b[0m\n",
      "Thought:\u001b[32;1m\u001b[1;3mThought: HBM3E 기술에 대한 정보를 웹 검색을 통해 찾아보겠습니다.\n",
      "Action: web_search\n",
      "Action Input: HBM3E 기술\u001b[0m\n",
      "Observation: \u001b[36;1m\u001b[1;3m\u001b[0m\n",
      "Thought:\u001b[32;1m\u001b[1;3mThought: HBM3E 기술에 대한 정보를 웹 검색을 통해 찾아보겠습니다.\n",
      "Action: web_search\n",
      "Action Input: HBM3E 기술\u001b[0m\n",
      "Observation: \u001b[36;1m\u001b[1;3m\u001b[0m\n",
      "Thought:\u001b[32;1m\u001b[1;3mThought: HBM3E 기술에 대한 정보를 웹 검색을 통해 찾아보겠습니다.\n",
      "Action: web_search\n",
      "Action Input: HBM3E 기술\u001b[0m\n",
      "Observation: \u001b[36;1m\u001b[1;3m\u001b[0m\n",
      "Thought:\u001b[32;1m\u001b[1;3mThought: HBM3E 기술에 대한 정보를 웹 검색을 통해 찾아보겠습니다.\n",
      "Action: web_search\n",
      "Action Input: HBM3E 기술\u001b[0m\n",
      "Observation: \u001b[36;1m\u001b[1;3m\u001b[0m\n",
      "Thought:\u001b[32;1m\u001b[1;3mThought: HBM3E 기술에 대한 정보를 웹 검색을 통해 찾아보겠습니다.\n",
      "Action: web_search\n",
      "Action Input: HBM3E 기술\u001b[0m\n",
      "Observation: \u001b[36;1m\u001b[1;3m\u001b[0m\n",
      "Thought:\u001b[32;1m\u001b[1;3mThought: HBM3E 기술에 대한 정보를 웹 검색을 통해 찾아보겠습니다.\n",
      "Action: web_search\n",
      "Action Input: HBM3E 기술\u001b[0m\n",
      "Observation: \u001b[36;1m\u001b[1;3m\u001b[0m\n",
      "Thought:\u001b[32;1m\u001b[1;3mThought: HBM3E 기술에 대한 정보를 웹 검색을 통해 찾아보겠습니다.\n",
      "Action: web_search\n",
      "Action Input: HBM3E 기술\u001b[0m\n",
      "Observation: \u001b[36;1m\u001b[1;3m\u001b[0m\n",
      "Thought:\u001b[32;1m\u001b[1;3mThought: HBM3E 기술에 대한 정보를 웹 검색을 통해 찾아보겠습니다.\n",
      "Action: web_search\n",
      "Action Input: HBM3E 기술\u001b[0m\n",
      "Observation: \u001b[36;1m\u001b[1;3m\u001b[0m\n",
      "Thought:\u001b[32;1m\u001b[1;3mThought: HBM3E 기술에 대한 정보를 웹 검색을 통해 찾아보겠습니다.\n",
      "Action: web_search\n",
      "Action Input: HBM3E 기술\u001b[0m\n",
      "Observation: \u001b[36;1m\u001b[1;3m\u001b[0m\n",
      "Thought:\u001b[32;1m\u001b[1;3m\u001b[0m\n",
      "\n",
      "\u001b[1m> Finished chain.\u001b[0m\n",
      "Agent stopped due to iteration limit or time limit.\n"
     ]
    }
   ],
   "source": [
    "response = agent.run(\"HBM3E에 대한 기술을 조사해 줘\")\n",
    "print(response)"
   ]
  },
  {
   "cell_type": "code",
   "execution_count": 31,
   "id": "0a71d91f",
   "metadata": {},
   "outputs": [],
   "source": [
    "from selenium import webdriver\n",
    "from selenium.webdriver.chrome.service import Service\n",
    "from webdriver_manager.chrome import ChromeDriverManager\n",
    "from bs4 import BeautifulSoup as bs\n",
    "from selenium.webdriver.chrome.options import Options\n",
    "from webdriver_manager.core.os_manager import ChromeType\n",
    "from selenium.webdriver.common.by import By"
   ]
  },
  {
   "cell_type": "code",
   "execution_count": 33,
   "id": "9843c4e9",
   "metadata": {},
   "outputs": [],
   "source": [
    "def get_driver():\n",
    "\n",
    "\n",
    "    options = Options()\n",
    "    #options.add_argument('--headless')\n",
    "    options.add_argument('--no-sandbox')\n",
    "    options.add_argument('--disable-dev-shm-usage')\n",
    "    options.add_argument('--disable-gpu')\n",
    "\n",
    "    options.add_argument('user-agent=Mozilla/5.0 (Windows NT 10.0; Win64; x64) AppleWebKit/537.36 (KHTML,   #like Gecko) Chrome/58.0.3029.110 Safari/537.3')\n",
    "\n",
    "    return webdriver.Chrome(\n",
    "                service=Service(\n",
    "                    ChromeDriverManager(chrome_type=ChromeType.CHROMIUM).install()\n",
    "            ),\n",
    "            options=options,\n",
    "        )"
   ]
  },
  {
   "cell_type": "code",
   "execution_count": null,
   "id": "655e1ac2",
   "metadata": {},
   "outputs": [],
   "source": [
    "    # 검색 결과에서 링크와 요약 추출\n",
    "    results = []\n",
    "    for g in soup.find_all('div', class_='tF2Cxc'):\n",
    "        link = g.find('a')['href']\n",
    "        title = g.find('h3').text\n",
    "        snippet = g.find('div', class_='VwiC3b').text\n",
    "        results.append(f\"{title}\\n{snippet}\\n{link}\")"
   ]
  },
  {
   "cell_type": "code",
   "execution_count": 60,
   "id": "f34a676d",
   "metadata": {},
   "outputs": [],
   "source": [
    "def cupang_crwal():\n",
    "\n",
    "    driver = get_driver()\n",
    "\n",
    "    #url = 'https://www.coupang.com/vp/products/7335597976?itemId=18741704367&vendorItemId=85873964906&  q=%ED%9E%98%EB%82%B4%EB%B0%94+%EC%B4%88%EC%BD%94+%EC%8A%A4%EB%8B%88%EC%BB%A4%EC%A6%88&itemsCount=36&  searchId=0c5c84d537bc41d1885266961d853179&rank=2&isAddedCart=:'\n",
    "\n",
    "    query = 'HBM3E의 최신 기술'\n",
    "    num_results = 100\n",
    "\n",
    "    #https://www.bing.com/search?q=hbm3\n",
    "\n",
    "    #url = f\"https://www.google.com/search?q={query}&num={num_results}\"\n",
    "    url = f\"https://www.bing.com/search?q={query}\"\n",
    "\n",
    "    # 쿠팡 상품 페이지 열기\n",
    "    driver.get(url)\n",
    "\n",
    "    # 페이지 로딩 대기(5초)\n",
    "    time.sleep(5)\n",
    "\n",
    "    #results = driver.find_elements(By.CLASS_NAME, \"sdp-review__article__list__review__content\")\n",
    "    results = driver.find_elements(By.CLASS_NAME, 'tF2Cxc')\n",
    "    \n",
    "\n",
    "\n",
    "    print(results)"
   ]
  },
  {
   "cell_type": "code",
   "execution_count": 61,
   "id": "e8c415d0",
   "metadata": {},
   "outputs": [
    {
     "name": "stdout",
     "output_type": "stream",
     "text": [
      "[]\n"
     ]
    }
   ],
   "source": [
    "cupang_crwal()"
   ]
  },
  {
   "cell_type": "code",
   "execution_count": null,
   "id": "2b0686e3",
   "metadata": {},
   "outputs": [],
   "source": [
    "\n",
    "\n",
    "    # 페이지 로딩 대기(5초)\n",
    "    time.sleep(5) \n",
    "\n",
    "    results = driver.find_elements(By.CLASS_NAME, \"sdp-review__article__list__review__content\")\n",
    "\n",
    "    \n",
    "    st.write(results[0].text)\n",
    "\n",
    "    count = len(results) #review 개수 확인\n",
    "\n",
    "    #if count >=5:\n",
    "    st.info(f'{count}의 Review가 성공적으로 검색되었습니다.')\n",
    "\n",
    "    #else:\n",
    "    #    st.error(f\"{count}개 Review가 검색되어 소스코드 수정 필요합니다.(5개 미만)\")\n",
    "    #    st.stop()\n",
    "\n",
    "    reviews = []\n",
    "\n",
    "    for i in range(count):\n",
    "        reviews.append(results[i].text)\n",
    "    \n",
    "    return reviews"
   ]
  },
  {
   "cell_type": "code",
   "execution_count": 88,
   "id": "977d149b",
   "metadata": {},
   "outputs": [],
   "source": [
    "X = graph.invoke({\"messages\": (\"user\", '안녕')})"
   ]
  },
  {
   "cell_type": "code",
   "execution_count": 89,
   "id": "22868a80",
   "metadata": {},
   "outputs": [
    {
     "data": {
      "text/plain": [
       "{'messages': [HumanMessage(content='안녕', additional_kwargs={}, response_metadata={}, id='8872671c-26af-427c-9a47-0ff4869e0bd6')]}"
      ]
     },
     "execution_count": 89,
     "metadata": {},
     "output_type": "execute_result"
    }
   ],
   "source": [
    "X"
   ]
  },
  {
   "cell_type": "code",
   "execution_count": null,
   "id": "abaf2802",
   "metadata": {},
   "outputs": [
    {
     "name": "stdout",
     "output_type": "stream",
     "text": [
      "대화 종료.\n"
     ]
    }
   ],
   "source": [
    "#stream 사용하기\n",
    "while True:\n",
    "    user_input = input(\"User: \")\n",
    "    if user_input.lower() in [\"quit\", \"exit\", \"q\"]:\n",
    "        print(\"대화 종료.\")\n",
    "        break\n",
    "    for event in graph.stream({\"messages\": (\"user\", user_input)}):\n",
    "        for value in event.values():\n",
    "            print(\"Assistant:\", value[\"messages\"][-1].content)"
   ]
  },
  {
   "cell_type": "code",
   "execution_count": null,
   "id": "0156d0b5",
   "metadata": {},
   "outputs": [
    {
     "name": "stdout",
     "output_type": "stream",
     "text": [
      "User:  안녕\n",
      "{'chatbot': {'messages': [AIMessage(content='안녕하세요! 무엇을 도와드릴까요? 😊\\n', additional_kwargs={}, response_metadata={'prompt_feedback': {'block_reason': 0, 'safety_ratings': []}, 'finish_reason': 'STOP', 'safety_ratings': [{'category': 'HARM_CATEGORY_HATE_SPEECH', 'probability': 'NEGLIGIBLE', 'blocked': False}, {'category': 'HARM_CATEGORY_DANGEROUS_CONTENT', 'probability': 'NEGLIGIBLE', 'blocked': False}, {'category': 'HARM_CATEGORY_HARASSMENT', 'probability': 'NEGLIGIBLE', 'blocked': False}, {'category': 'HARM_CATEGORY_SEXUALLY_EXPLICIT', 'probability': 'NEGLIGIBLE', 'blocked': False}]}, id='run-a650c268-10e2-4abf-8ebf-544fff26caa3-0', usage_metadata={'input_tokens': 3, 'output_tokens': 16, 'total_tokens': 19})]}}\n",
      "{'messages': [AIMessage(content='안녕하세요! 무엇을 도와드릴까요? 😊\\n', additional_kwargs={}, response_metadata={'prompt_feedback': {'block_reason': 0, 'safety_ratings': []}, 'finish_reason': 'STOP', 'safety_ratings': [{'category': 'HARM_CATEGORY_HATE_SPEECH', 'probability': 'NEGLIGIBLE', 'blocked': False}, {'category': 'HARM_CATEGORY_DANGEROUS_CONTENT', 'probability': 'NEGLIGIBLE', 'blocked': False}, {'category': 'HARM_CATEGORY_HARASSMENT', 'probability': 'NEGLIGIBLE', 'blocked': False}, {'category': 'HARM_CATEGORY_SEXUALLY_EXPLICIT', 'probability': 'NEGLIGIBLE', 'blocked': False}]}, id='run-a650c268-10e2-4abf-8ebf-544fff26caa3-0', usage_metadata={'input_tokens': 3, 'output_tokens': 16, 'total_tokens': 19})]}\n",
      "[AIMessage(content='안녕하세요! 무엇을 도와드릴까요? 😊\\n', additional_kwargs={}, response_metadata={'prompt_feedback': {'block_reason': 0, 'safety_ratings': []}, 'finish_reason': 'STOP', 'safety_ratings': [{'category': 'HARM_CATEGORY_HATE_SPEECH', 'probability': 'NEGLIGIBLE', 'blocked': False}, {'category': 'HARM_CATEGORY_DANGEROUS_CONTENT', 'probability': 'NEGLIGIBLE', 'blocked': False}, {'category': 'HARM_CATEGORY_HARASSMENT', 'probability': 'NEGLIGIBLE', 'blocked': False}, {'category': 'HARM_CATEGORY_SEXUALLY_EXPLICIT', 'probability': 'NEGLIGIBLE', 'blocked': False}]}, id='run-a650c268-10e2-4abf-8ebf-544fff26caa3-0', usage_metadata={'input_tokens': 3, 'output_tokens': 16, 'total_tokens': 19})]\n",
      "content='안녕하세요! 무엇을 도와드릴까요? 😊\\n' additional_kwargs={} response_metadata={'prompt_feedback': {'block_reason': 0, 'safety_ratings': []}, 'finish_reason': 'STOP', 'safety_ratings': [{'category': 'HARM_CATEGORY_HATE_SPEECH', 'probability': 'NEGLIGIBLE', 'blocked': False}, {'category': 'HARM_CATEGORY_DANGEROUS_CONTENT', 'probability': 'NEGLIGIBLE', 'blocked': False}, {'category': 'HARM_CATEGORY_HARASSMENT', 'probability': 'NEGLIGIBLE', 'blocked': False}, {'category': 'HARM_CATEGORY_SEXUALLY_EXPLICIT', 'probability': 'NEGLIGIBLE', 'blocked': False}]} id='run-a650c268-10e2-4abf-8ebf-544fff26caa3-0' usage_metadata={'input_tokens': 3, 'output_tokens': 16, 'total_tokens': 19}\n",
      "안녕하세요! 무엇을 도와드릴까요? 😊\n",
      "\n",
      "<class 'list'>\n",
      "<class 'langgraph.pregel.io.AddableUpdatesDict'>\n",
      "User:  exit\n",
      "대화 종료.\n"
     ]
    }
   ],
   "source": [
    "#stream 사용하기\n",
    "while True:\n",
    "    user_input = input(\"User: \")\n",
    "    print(\"User: \", user_input)\n",
    "    if user_input.lower() in [\"quit\", \"exit\", \"q\"]:\n",
    "        print(\"대화 종료.\")\n",
    "        break\n",
    "    for event in graph.stream({\"messages\": (\"user\", user_input)}):\n",
    "        print(event)\n",
    "        print(event['chatbot'])\n",
    "        print(event['chatbot']['messages'])\n",
    "        print(event['chatbot']['messages'][0])\n",
    "        print(event['chatbot']['messages'][0].content)\n",
    "        print(type(event['chatbot']['messages']))\n",
    "        print(type(event))"
   ]
  },
  {
   "cell_type": "code",
   "execution_count": null,
   "id": "cb2ad375",
   "metadata": {},
   "outputs": [
    {
     "name": "stdout",
     "output_type": "stream",
     "text": [
      "User:  안녕\n",
      "AI:  안녕하세요! 무엇을 도와드릴까요? 😊\n",
      "\n",
      "User:  너는 이름이 뭐야?\n",
      "AI:  저는 인공지능 모델이기 때문에 이름이 없습니다. 필요하시다면 편하게 저를 '챗봇'이라고 불러주세요. 무엇을 도와드릴까요?\n",
      "\n",
      "User:  \n",
      "AI:  Okay, I'm ready! How can I help you today? \n",
      "\n",
      "To give you the best response, please tell me what you need. For example, are you looking for:\n",
      "\n",
      "* **Information?** (e.g., \"Tell me about the history of the internet.\")\n",
      "* **Creative writing?** (e.g., \"Write a short story about a talking cat.\")\n",
      "* **Help with a task?** (e.g., \"Summarize this article for me.\")\n",
      "* **Code generation?** (e.g., \"Write a Python function to calculate the factorial of a number.\")\n",
      "* **A conversation?** (e.g., \"How was your day?\")\n",
      "* **Something else entirely?**\n",
      "\n",
      "The more specific you are, the better I can assist you. Let me know!\n",
      "\n",
      "User:  HMB3에 대해서 알려줘\n",
      "AI:  HMB (β-Hydroxy β-Methylbutyrate)는 류신이라는 아미노산의 대사 산물입니다. 류신은 단백질을 구성하는 필수 아미노산 중 하나이며, 근육 성장과 회복에 중요한 역할을 합니다. HMB는 류신이 체내에서 분해될 때 생성되는 물질로, 다음과 같은 주요 기능과 특징을 가지고 있습니다.\n",
      "\n",
      "**HMB의 주요 기능 및 특징:**\n",
      "\n",
      "1. **근육 단백질 합성 촉진:**\n",
      "   - HMB는 근육 단백질 합성을 촉진하여 근육 성장과 유지를 돕습니다. 특히 운동을 통해 근육에 자극을 가했을 때 더욱 효과적입니다.\n",
      "   - 근육 손상을 줄이고 회복을 빠르게 하는 데 기여합니다.\n",
      "\n",
      "2. **근육 손실 방지:**\n",
      "   - HMB는 근육 단백질 분해를 억제하여 근육 손실을 방지하는 효과가 있습니다. 이는 노화, 질병, 또는 강도 높은 운동으로 인한 근육 손실을 예방하는 데 도움이 될 수 있습니다.\n",
      "   - 특히 칼로리 제한 다이어트 시 근육 손실을 최소화하는 데 유용합니다.\n",
      "\n",
      "3. **운동 능력 향상:**\n",
      "   - HMB는 근력과 근지구력을 향상시키는 데 도움을 줄 수 있습니다. 운동 중 피로를 줄이고 운동 후 회복을 촉진하여 운동 능력을 전반적으로 향상시킬 수 있습니다.\n",
      "   - 고강도 운동이나 장시간 운동 시 효과적일 수 있습니다.\n",
      "\n",
      "4. **안전성:**\n",
      "   - HMB는 일반적으로 안전한 것으로 알려져 있으며, 특별한 부작용이 보고된 바는 거의 없습니다.\n",
      "   - 하지만 과다 섭취 시 소화 불량 등의 문제가 발생할 수 있으므로 권장 섭취량을 지키는 것이 중요합니다.\n",
      "\n",
      "**HMB 섭취 방법:**\n",
      "\n",
      "- HMB는 주로 보충제 형태로 섭취합니다. 캡슐, 분말, 액상 등 다양한 형태로 판매되고 있습니다.\n",
      "- 일반적으로 하루 3g 정도를 섭취하는 것이 권장됩니다. 운동 전후 또는 식사와 함께 섭취하는 것이 좋습니다.\n",
      "- 개인의 운동량, 체중, 건강 상태에 따라 섭취량을 조절할 수 있습니다. 전문가와 상담하여 적절한 섭취량을 결정하는 것이 좋습니다.\n",
      "\n",
      "**HMB 섭취 시 고려 사항:**\n",
      "\n",
      "- HMB는 운동과 함께 섭취할 때 가장 효과적입니다. 규칙적인 운동과 균형 잡힌 식단을 병행하는 것이 중요합니다.\n",
      "- HMB는 모든 사람에게 동일한 효과를 나타내지 않을 수 있습니다. 개인의 체질, 운동 수준, 식습관 등에 따라 효과가 다를 수 있습니다.\n",
      "- 임산부, 수유부, 특정 질환을 가진 사람은 HMB 섭취 전 전문가와 상담하는 것이 좋습니다.\n",
      "\n",
      "**HMB3에 대한 추가 정보:**\n",
      "\n",
      "- HMB3는 HMB의 한 종류로, HMB-Ca (칼슘염) 또는 HMB-FA (유리산) 형태로 존재할 수 있습니다.\n",
      "- HMB-FA는 HMB-Ca보다 흡수율이 더 높다고 알려져 있지만, 연구 결과에 따라 차이가 있을 수 있습니다.\n",
      "- HMB3라는 용어는 특정 제품이나 브랜드에서 사용될 수 있으며, HMB의 효과와 관련된 마케팅 용어로 사용될 수 있습니다.\n",
      "\n",
      "**결론:**\n",
      "\n",
      "HMB는 근육 성장, 근육 손실 방지, 운동 능력 향상에 도움을 줄 수 있는 유용한 보충제입니다. 하지만 HMB만으로는 드라마틱한 효과를 기대하기 어려우며, 규칙적인 운동과 균형 잡힌 식단이 함께 이루어져야 합니다. HMB 섭취를 고려하고 있다면 전문가와 상담하여 자신에게 맞는 섭취량과 방법을 결정하는 것이 좋습니다.\n",
      "\n",
      "더 궁금한 점이 있으시면 언제든지 질문해주세요.\n",
      "\n",
      "User:  \n",
      "AI:  Okay, I'm ready! How can I help you today? \n",
      "\n",
      "To give you the best response, please tell me what you need. For example, are you looking for:\n",
      "\n",
      "* **Information?** (e.g., \"Tell me about the history of the internet.\")\n",
      "* **Creative writing?** (e.g., \"Write a short story about a talking cat.\")\n",
      "* **Help with a task?** (e.g., \"Summarize this article for me.\")\n",
      "* **Code generation?** (e.g., \"Write a Python function to calculate the factorial of a number.\")\n",
      "* **A conversation?** (e.g., \"How was your day?\")\n",
      "* **Something else entirely?**\n",
      "\n",
      "The more specific you are, the better I can assist you. Let me know!\n",
      "\n",
      "User:  exit\n",
      "대화 종료.\n"
     ]
    }
   ],
   "source": [
    "#stream 사용하기\n",
    "while True:\n",
    "    user_input = input(\"User: \")\n",
    "    print(\"User: \", user_input)\n",
    "    if user_input.lower() in [\"quit\", \"exit\", \"q\"]:\n",
    "        print(\"대화 종료.\")\n",
    "        break\n",
    "    for event in graph.stream({\"messages\": (\"user\", user_input)}):\n",
    "        #print(event)\n",
    "        #print(event['chatbot'])\n",
    "        #print(event['chatbot']['messages'])\n",
    "        #print(event['chatbot']['messages'][0])\n",
    "        print(\"AI: \",event['chatbot']['messages'][0].content)\n",
    "        #print(type(event['chatbot']['messages']))\n",
    "        #print(type(event))"
   ]
  },
  {
   "cell_type": "code",
   "execution_count": 58,
   "id": "794cea11",
   "metadata": {},
   "outputs": [
    {
     "name": "stdout",
     "output_type": "stream",
     "text": [
      "User:  안녕\n",
      "AI:  dict_keys(['messages'])\n",
      "AI:  [HumanMessage(content='안녕', additional_kwargs={}, response_metadata={}, id='66b5c46d-2f9e-4f5a-9372-17e62241c6a6'), AIMessage(content='안녕하세요! 무엇을 도와드릴까요? 😊\\n', additional_kwargs={}, response_metadata={'prompt_feedback': {'block_reason': 0, 'safety_ratings': []}, 'finish_reason': 'STOP', 'safety_ratings': [{'category': 'HARM_CATEGORY_HATE_SPEECH', 'probability': 'NEGLIGIBLE', 'blocked': False}, {'category': 'HARM_CATEGORY_DANGEROUS_CONTENT', 'probability': 'NEGLIGIBLE', 'blocked': False}, {'category': 'HARM_CATEGORY_HARASSMENT', 'probability': 'NEGLIGIBLE', 'blocked': False}, {'category': 'HARM_CATEGORY_SEXUALLY_EXPLICIT', 'probability': 'NEGLIGIBLE', 'blocked': False}]}, id='run-554fe161-94c4-4c2f-8f16-bb36207c8a17-0', usage_metadata={'input_tokens': 3, 'output_tokens': 16, 'total_tokens': 19})]\n",
      "AI:  2\n",
      "AI:  content='안녕하세요! 무엇을 도와드릴까요? 😊\\n' additional_kwargs={} response_metadata={'prompt_feedback': {'block_reason': 0, 'safety_ratings': []}, 'finish_reason': 'STOP', 'safety_ratings': [{'category': 'HARM_CATEGORY_HATE_SPEECH', 'probability': 'NEGLIGIBLE', 'blocked': False}, {'category': 'HARM_CATEGORY_DANGEROUS_CONTENT', 'probability': 'NEGLIGIBLE', 'blocked': False}, {'category': 'HARM_CATEGORY_HARASSMENT', 'probability': 'NEGLIGIBLE', 'blocked': False}, {'category': 'HARM_CATEGORY_SEXUALLY_EXPLICIT', 'probability': 'NEGLIGIBLE', 'blocked': False}]} id='run-554fe161-94c4-4c2f-8f16-bb36207c8a17-0' usage_metadata={'input_tokens': 3, 'output_tokens': 16, 'total_tokens': 19}\n",
      "AI:  <class 'langchain_core.messages.ai.AIMessage'>\n",
      "AI:  안녕하세요! 무엇을 도와드릴까요? 😊\n",
      "\n",
      "User:  exit\n",
      "대화 종료.\n"
     ]
    }
   ],
   "source": [
    "# invoke 사용하기\n",
    "while True:\n",
    "    user_input = input(\"User: \")\n",
    "    print(\"User: \", user_input)\n",
    "    if user_input.lower() in [\"quit\", \"exit\", \"q\"]:\n",
    "        print(\"대화 종료.\")\n",
    "        break\n",
    "    ai = graph.invoke({\"messages\": (\"user\", user_input)})\n",
    "    print(\"AI: \",ai.keys())\n",
    "    print(\"AI: \",ai['messages'])\n",
    "    print(\"AI: \",len(ai['messages']))\n",
    "    print(\"AI: \",ai['messages'][-1])\n",
    "    print(\"AI: \",type(ai['messages'][-1]))\n",
    "    print(\"AI: \",ai['messages'][-1].content)\n"
   ]
  },
  {
   "cell_type": "code",
   "execution_count": 33,
   "id": "4117ab13",
   "metadata": {},
   "outputs": [],
   "source": [
    "x = {'messages':('ai','안녕')}"
   ]
  },
  {
   "cell_type": "code",
   "execution_count": 34,
   "id": "d48e3bb4",
   "metadata": {},
   "outputs": [
    {
     "data": {
      "text/plain": [
       "{'messages': ('ai', '안녕')}"
      ]
     },
     "execution_count": 34,
     "metadata": {},
     "output_type": "execute_result"
    }
   ],
   "source": [
    "x"
   ]
  },
  {
   "cell_type": "code",
   "execution_count": 35,
   "id": "3a2b4a09",
   "metadata": {},
   "outputs": [
    {
     "data": {
      "text/plain": [
       "('ai', '안녕')"
      ]
     },
     "execution_count": 35,
     "metadata": {},
     "output_type": "execute_result"
    }
   ],
   "source": [
    "x['messages']"
   ]
  },
  {
   "cell_type": "code",
   "execution_count": 36,
   "id": "e21279fd",
   "metadata": {},
   "outputs": [
    {
     "data": {
      "text/plain": [
       "tuple"
      ]
     },
     "execution_count": 36,
     "metadata": {},
     "output_type": "execute_result"
    }
   ],
   "source": [
    "type(x['messages'])"
   ]
  },
  {
   "cell_type": "code",
   "execution_count": 37,
   "id": "4d74c27a",
   "metadata": {},
   "outputs": [],
   "source": [
    "ai = graph.invoke(x)"
   ]
  },
  {
   "cell_type": "code",
   "execution_count": 38,
   "id": "ccaae4ff",
   "metadata": {},
   "outputs": [
    {
     "data": {
      "text/plain": [
       "{'messages': [AIMessage(content='안녕', additional_kwargs={}, response_metadata={}, id='4fd7cadd-d8cd-4a0a-9a02-63ba895e7cad'),\n",
       "  AIMessage(content='! 무엇을 도와드릴까요?\\n', additional_kwargs={}, response_metadata={'prompt_feedback': {'block_reason': 0, 'safety_ratings': []}, 'finish_reason': 'STOP', 'safety_ratings': [{'category': 'HARM_CATEGORY_HATE_SPEECH', 'probability': 'NEGLIGIBLE', 'blocked': False}, {'category': 'HARM_CATEGORY_DANGEROUS_CONTENT', 'probability': 'NEGLIGIBLE', 'blocked': False}, {'category': 'HARM_CATEGORY_HARASSMENT', 'probability': 'NEGLIGIBLE', 'blocked': False}, {'category': 'HARM_CATEGORY_SEXUALLY_EXPLICIT', 'probability': 'NEGLIGIBLE', 'blocked': False}]}, id='run-68a91687-cba4-4a4d-9390-5b1712d19e0c-0', usage_metadata={'input_tokens': 76, 'output_tokens': 12, 'total_tokens': 88})]}"
      ]
     },
     "execution_count": 38,
     "metadata": {},
     "output_type": "execute_result"
    }
   ],
   "source": [
    "ai"
   ]
  },
  {
   "cell_type": "code",
   "execution_count": 21,
   "id": "010b2013",
   "metadata": {},
   "outputs": [
    {
     "name": "stdout",
     "output_type": "stream",
     "text": [
      "User:  중국의 AI 기술 수준에 대해서 자세히 알려줘\n",
      "AI:  중국의 인공지능(AI) 기술 수준은 현재 매우 빠르게 발전하고 있으며, 일부 분야에서는 세계적인 선두 그룹에 속한다고 평가받고 있습니다. 중국 정부의 적극적인 지원과 막대한 투자, 그리고 풍부한 데이터 자원을 바탕으로 AI 기술 전반에 걸쳐 상당한 성과를 거두고 있습니다. \n",
      "\n",
      "**중국 AI 기술의 주요 특징 및 강점:**\n",
      "\n",
      "1. **정부 주도의 강력한 지원:**\n",
      "   - 중국 정부는 AI를 국가 전략 산업으로 지정하고, '차세대 인공지능 발전 계획' 등 다양한 정책을 통해 AI 기술 개발을 적극적으로 지원하고 있습니다.\n",
      "   - 막대한 연구 개발 자금 지원, 인재 양성 프로그램, 산업 육성 정책 등을 통해 AI 생태계 전반을 강화하고 있습니다.\n",
      "   - 이러한 정부 주도의 강력한 지원은 중국 AI 기술 발전의 가장 큰 원동력 중 하나입니다.\n",
      "\n",
      "2. **풍부한 데이터 자원:**\n",
      "   - 중국은 세계 최대 규모의 인터넷 사용자 기반을 보유하고 있으며, 이로 인해 AI 학습에 필요한 방대한 양의 데이터를 확보하고 있습니다.\n",
      "   - 이러한 데이터는 AI 모델의 성능 향상에 결정적인 역할을 하며, 중국 AI 기술의 경쟁력을 높이는 데 기여하고 있습니다.\n",
      "   - 특히, 얼굴 인식, 음성 인식 등 데이터 기반 기술 분야에서 중국은 세계적인 수준의 기술력을 보유하고 있습니다.\n",
      "\n",
      "3. **활발한 연구 개발 활동:**\n",
      "   - 중국은 AI 분야에서 활발한 연구 개발 활동을 펼치고 있으며, 다양한 대학, 연구소, 기업에서 혁신적인 기술 개발에 매진하고 있습니다.\n",
      "   - 특히, 딥러닝, 자연어 처리, 컴퓨터 비전 등 핵심 AI 기술 분야에서 세계적인 수준의 연구 성과를 발표하고 있습니다.\n",
      "   - 또한, AI 칩, 로봇, 자율주행차 등 AI 응용 분야에서도 빠르게 기술력을 향상시키고 있습니다.\n",
      "\n",
      "4. **강력한 AI 기업 생태계:**\n",
      "   - 중국은 바이두, 알리바바, 텐센트, 화웨이 등 세계적인 AI 기업들을 보유하고 있으며, 이들 기업은 AI 기술 개발과 상용화를 주도하고 있습니다.\n",
      "   - 이들 기업은 막대한 자본력과 기술력을 바탕으로 AI 기술 개발에 적극적으로 투자하고 있으며, 다양한 산업 분야에서 AI 기술을 적용하고 있습니다.\n",
      "   - 또한, 수많은 스타트업들이 AI 분야에서 혁신적인 기술과 서비스를 개발하며 중국 AI 생태계를 더욱 풍성하게 만들고 있습니다.\n",
      "\n",
      "**중국 AI 기술의 주요 분야별 수준:**\n",
      "\n",
      "* **얼굴 인식:** 세계 최고 수준의 기술력을 보유하고 있으며, 공공 안전, 금융, 교통 등 다양한 분야에서 활용되고 있습니다.\n",
      "* **음성 인식:** 중국어 음성 인식 분야에서 세계적인 수준의 기술력을 보유하고 있으며, 스마트 스피커, 음성 비서 등 다양한 제품에 적용되고 있습니다.\n",
      "* **자연어 처리:** 중국어 자연어 처리 분야에서 상당한 기술력을 보유하고 있으며, 챗봇, 번역 서비스 등 다양한 분야에서 활용되고 있습니다.\n",
      "* **컴퓨터 비전:** 이미지 인식, 객체 감지 등 컴퓨터 비전 분야에서 빠르게 기술력을 향상시키고 있으며, 자율주행차, 로봇 등 다양한 분야에 적용되고 있습니다.\n",
      "* **AI 칩:** AI 연산에 특화된 AI 칩 개발에 적극적으로 투자하고 있으며, 일부 분야에서는 세계적인 수준의 기술력을 확보하고 있습니다.\n",
      "* **로봇:** 산업용 로봇, 서비스 로봇 등 다양한 분야에서 로봇 기술을 개발하고 있으며, 특히 물류, 의료 분야에서 로봇 활용이 증가하고 있습니다.\n",
      "* **자율주행차:** 자율주행차 기술 개발에 적극적으로 투자하고 있으며, 일부 지역에서는 자율주행 택시 시범 서비스를 운영하고 있습니다.\n",
      "\n",
      "**중국 AI 기술의 한계 및 과제:**\n",
      "\n",
      "* **원천 기술 부족:** 일부 핵심 기술 분야에서는 여전히 해외 기술에 의존하고 있으며, 원천 기술 확보가 과제로 남아 있습니다.\n",
      "* **데이터 편향 및 윤리 문제:** AI 학습에 사용되는 데이터의 편향성으로 인해 AI 모델의 공정성 문제가 제기되고 있으며, AI 윤리 문제에 대한 논의가 필요합니다.\n",
      "* **미중 기술 패권 경쟁:** 미국과의 기술 패권 경쟁 심화로 인해 AI 기술 개발에 어려움을 겪을 수 있으며, 기술 자립을 위한 노력이 필요합니다.\n",
      "\n",
      "**결론:**\n",
      "\n",
      "중국의 AI 기술은 정부의 강력한 지원, 풍부한 데이터 자원, 활발한 연구 개발 활동, 강력한 AI 기업 생태계를 바탕으로 빠르게 발전하고 있으며, 일부 분야에서는 세계적인 선두 그룹에 속한다고 평가할 수 있습니다. 하지만 원천 기술 부족, 데이터 편향 및 윤리 문제, 미중 기술 패권 경쟁 등 해결해야 할 과제도 남아 있습니다. 앞으로 중국 AI 기술의 발전은 세계 기술 시장에 큰 영향을 미칠 것으로 예상됩니다.\n",
      "\n",
      "더 궁금한 점이 있으시면 언제든지 질문해주세요.\n",
      "\n",
      "User:  안녕\n",
      "AI:  안녕하세요! 무엇을 도와드릴까요? 😊\n",
      "\n",
      "User:  q\n",
      "대화 종료.\n"
     ]
    }
   ],
   "source": [
    "# invoke 사용하기\n",
    "# Full State 형태로 하기\n",
    "#invoke {\"messages\":[HumanMessage(content='안녕', additional_kwargs={}, response_metadata={}, id='model-0')]\n",
    "while True:\n",
    "    user_input = input(\"User: \")\n",
    "    print(\"User: \", user_input)\n",
    "    if user_input.lower() in [\"quit\", \"exit\", \"q\"]:\n",
    "        print(\"대화 종료.\")\n",
    "        break\n",
    "    ai = graph.invoke({\"messages\": [HumanMessage(content=user_input)]})\n",
    "    #ai = graph.invoke({\"messages\": [HumanMessage(content=user_input,id='human-0')]})\n",
    "    print(\"AI: \",ai['messages'][-1].content)"
   ]
  },
  {
   "cell_type": "code",
   "execution_count": null,
   "id": "87c63ece",
   "metadata": {},
   "outputs": [
    {
     "name": "stdout",
     "output_type": "stream",
     "text": [
      "User:  안녕\n",
      "AI:  안녕\n",
      "User:  넌 누구니?\n",
      "AI:  넌 누구니?\n",
      "User:  잘가\n",
      "AI:  잘가\n",
      "User:  q\n",
      "대화 종료.\n"
     ]
    }
   ],
   "source": [
    "# invoke 사용하기\n",
    "# 간단하기 사용하기기\n",
    "while True:\n",
    "    user_input = input(\"User: \")\n",
    "    print(\"User: \", user_input)\n",
    "    if user_input.lower() in [\"quit\", \"exit\", \"q\"]:\n",
    "        print(\"대화 종료.\")\n",
    "        break\n",
    "    ai = graph.invoke({\"messages\": (\"user\", user_input)})\n",
    "    print(\"AI: \",ai['messages'][-1].content)"
   ]
  },
  {
   "cell_type": "markdown",
   "id": "f22c5d4a-3134-413c-81fe-dd9752fbeb66",
   "metadata": {},
   "source": [
    "## Part 2: Tool을 사용하는 Chatbot => Agent 만들기\n",
    "\n",
    "우리 챗봇이 “기억에서” 대답할 수 없는 질문을 처리하기 위해, 웹 검색 도구를 통합할 것입니다. 우리의 챗봇은 검색 도구를 사용하여 관련 정보를 찾아 더 나은 응답을 제공할 수 있습니다.\n",
    "\n",
    "#### Requirements\n",
    "\n",
    "Tavily 패키지를 설치하고 API 키를 설정해야합니다.\n",
    "\n",
    "먼저, [Tavily 검색 엔진](https://python.langchain.com/v0.2/docs/integrations/tools/tavily_search/)을 사용하기 위한 요구 사항을 설치하고, [TAVILY_API_KEY](https://tavily.com/)를 설정하세요.\n"
   ]
  },
  {
   "cell_type": "code",
   "execution_count": 13,
   "id": "7451151f-41fc-4af0-9359-024ae51b7225",
   "metadata": {},
   "outputs": [
    {
     "name": "stdout",
     "output_type": "stream",
     "text": [
      "Defaulting to user installation because normal site-packages is not writeable\n",
      "Collecting tavily-python\n",
      "  Using cached tavily_python-0.5.0-py3-none-any.whl.metadata (11 kB)\n",
      "Requirement already satisfied: requests in c:\\users\\choiw\\appdata\\roaming\\python\\python310\\site-packages (from tavily-python) (2.32.3)\n",
      "Requirement already satisfied: tiktoken>=0.5.1 in c:\\users\\choiw\\appdata\\roaming\\python\\python310\\site-packages (from tavily-python) (0.7.0)\n",
      "Requirement already satisfied: httpx in c:\\users\\choiw\\appdata\\roaming\\python\\python310\\site-packages (from tavily-python) (0.27.2)\n",
      "Requirement already satisfied: regex>=2022.1.18 in c:\\users\\choiw\\appdata\\roaming\\python\\python310\\site-packages (from tiktoken>=0.5.1->tavily-python) (2024.9.11)\n",
      "Requirement already satisfied: charset-normalizer<4,>=2 in c:\\users\\choiw\\appdata\\roaming\\python\\python310\\site-packages (from requests->tavily-python) (3.3.2)\n",
      "Requirement already satisfied: idna<4,>=2.5 in c:\\users\\choiw\\appdata\\roaming\\python\\python310\\site-packages (from requests->tavily-python) (3.10)\n",
      "Requirement already satisfied: urllib3<3,>=1.21.1 in c:\\users\\choiw\\appdata\\roaming\\python\\python310\\site-packages (from requests->tavily-python) (2.2.3)\n",
      "Requirement already satisfied: certifi>=2017.4.17 in c:\\users\\choiw\\appdata\\roaming\\python\\python310\\site-packages (from requests->tavily-python) (2024.8.30)\n",
      "Requirement already satisfied: anyio in c:\\users\\choiw\\appdata\\roaming\\python\\python310\\site-packages (from httpx->tavily-python) (4.4.0)\n",
      "Requirement already satisfied: httpcore==1.* in c:\\users\\choiw\\appdata\\roaming\\python\\python310\\site-packages (from httpx->tavily-python) (1.0.5)\n",
      "Requirement already satisfied: sniffio in c:\\users\\choiw\\appdata\\roaming\\python\\python310\\site-packages (from httpx->tavily-python) (1.3.1)\n",
      "Requirement already satisfied: h11<0.15,>=0.13 in c:\\users\\choiw\\appdata\\roaming\\python\\python310\\site-packages (from httpcore==1.*->httpx->tavily-python) (0.14.0)\n",
      "Requirement already satisfied: exceptiongroup>=1.0.2 in c:\\programdata\\anaconda3\\envs\\py31012\\lib\\site-packages (from anyio->httpx->tavily-python) (1.2.2)\n",
      "Requirement already satisfied: typing-extensions>=4.1 in c:\\users\\choiw\\appdata\\roaming\\python\\python310\\site-packages (from anyio->httpx->tavily-python) (4.12.2)\n",
      "Using cached tavily_python-0.5.0-py3-none-any.whl (14 kB)\n",
      "Installing collected packages: tavily-python\n",
      "Successfully installed tavily-python-0.5.0\n"
     ]
    }
   ],
   "source": [
    "#!pip install -U tavily-python"
   ]
  },
  {
   "cell_type": "code",
   "execution_count": 14,
   "id": "0c52923c-5665-4f8c-a1ba-9799e369c49e",
   "metadata": {},
   "outputs": [
    {
     "ename": "NameError",
     "evalue": "name '_set_env' is not defined",
     "output_type": "error",
     "traceback": [
      "\u001b[1;31m---------------------------------------------------------------------------\u001b[0m",
      "\u001b[1;31mNameError\u001b[0m                                 Traceback (most recent call last)",
      "Cell \u001b[1;32mIn[14], line 1\u001b[0m\n\u001b[1;32m----> 1\u001b[0m \u001b[43m_set_env\u001b[49m(\u001b[38;5;124m\"\u001b[39m\u001b[38;5;124mTAVILY_API_KEY\u001b[39m\u001b[38;5;124m\"\u001b[39m)\n",
      "\u001b[1;31mNameError\u001b[0m: name '_set_env' is not defined"
     ]
    }
   ],
   "source": [
    "_set_env(\"TAVILY_API_KEY\")"
   ]
  },
  {
   "cell_type": "code",
   "execution_count": 25,
   "id": "35c8978e-c07d-4dd0-a97b-0ce3a723eea5",
   "metadata": {},
   "outputs": [
    {
     "data": {
      "text/plain": [
       "[{'url': 'https://s-core.co.kr/insight/view/langchain의-새로운-라이브러리-langgraph-훑어보기/',\n",
       "  'content': 'LangGraph는 이름과 같이 작업을 그래프 형태로 모델링 하여 각 작업의 단계를 노드(Node)와 간선(Edge)으로 관리하고\\xa0분기, 루프, 상태 관리 등을 통해 복잡한 작업 흐름을 체계적으로 처리할 수 있다. 이를 통해 더 복잡한 데이터 업데이트 패턴을 적용할 수 있다. (두 째 인수는 선택적(설정 값)으로 추가될 수 있다) 노드는 사용자 정의에 따라 여러 가지 기능을 수행할 수 있다. (아래 예와 같이 START 노드를 이용해 첫 시작 노드를 간선으로 연결하거나,\\xa0set_entry _point\\xa0메소드를 통해 시작 노드를 지정할 수 있다) END 노드는 정의된 워크플로우가 종료됨을 의미한다. 이를 통해 정의된 그래프를 한 눈에 시각화 할 수 있다. 이 구조를 이용해 여러 에이전트가 협력하여 작업을 수행하거나, 조건에 따라 작업 흐름이 달라지거나 반복되어야 하는 복잡한 워크플로우를 구축하는데 유용한 도구가 될 수 있다.'},\n",
       " {'url': 'https://wikidocs.net/261580',\n",
       "  'content': '노드 (Node) - LangGraph 가이드북 - 에이전트 RAG with 랭그래프 LangGraph 가이드북 - 에이전트 RAG with 랭그래프 Part 0. 랭그래프 LangGraph 기초 1-1. 랭그래프 LangGraph 소개 1-1-1.LangGraph의 개념과 특징 1-1-2. LangGraph 환경 설정 및 기본 사용법 1-2-1. LangGraph 설치 및 환경 구성 1-2-2. 노드 (Node) 1-3-4. 그래프 연결 및 실행 1-4. 조건부 라우팅 구현 1-4-1. 조건부 엣지 정의 방법 1-4-3. 상태 저장 및 복원 예제 1-6. LangGraph 가이드북 - 에이전트 RA… 랭그래프 LangGraph 기초 노드 (Node) 노드 (Node) LangGraph의 노드(Node) 이해하기 graph.add_node(\"increment\", increment) 2. 그래프에 노드 추가: graph.add_node(\"increment\", increment) 상태 처리: 노드는 현재 상태를 받아 필요한 작업을 수행합니다. Report a comment. Do you want to report this comment? Report a comment is available for the following situations:'},\n",
       " {'url': 'https://book.loudai.net/llms/agentic-llm/agentic-llm/langgraph-multi-agent-basic',\n",
       "  'content': 'LangChain은 여러 도구를 사용해 작업을 실행할 수 있는 AI 코딩 에이전트를 구축할 수 있지만, 여러 단계에 걸쳐 여러 체인이나 액터를 조정할 수는 없습니다. 에이전트 워크플로를 순환 그래프 구조로 취급하며, 각 노드는 함수 또는 Langchain 실행 가능한 객체를 나타내고 에지는 노드 간의 연결입니다. 공유 상태와 서로 다른 LLM 및 도구를 가진 여러 에이전트가 협업하여 하나의 작업을 해결할 수 있습니다. Multi-modal Agents: LangGraph는 비전 지원 Web Navigator 같은 멀티모달 에이전트를 구축할 수 있습니다. 사용자 피드백에 따라 교육 방법을 조정할 수 있는 가상 AI 강사는 판도를 바꿀 수 있습니다. 소프트웨어 UX: AI 에이전트를 통해 소프트웨어의 사용자 경험을 개선할 수 있습니다. 에이전트는 주변 정보를 처리하고 필요에 따라 작업을 실행할 수 있습니다. LangGraph는 순환적이고 상태 저장적인 멀티액터 에이전트 시스템을 구축할 수 있도록 해주는 LangChain의 확장입니다.'},\n",
       " {'url': 'https://gunho-0715.tistory.com/22',\n",
       "  'content': 'LangGraph(AI Agent) 강의 1일차-노드,스테이트, 툴킷 등 기본구조 LangGraph(AI Agent) 강의 1일차-노드,스테이트, 툴킷 등 기본구조 This will be a tool tools = [add, multiply, divide] return {\"messages\": [llm_with_tools.invoke([sys_msg] + state[\"messages\"])]} from langgraph.prebuilt import tools_condition def tool_calling_llm(state: MessagesState): return {\"messages\": [llm_with_tools.invoke(state[\"messages\"])]} builder.add_node(\"tool_calling_llm\", tool_calling_llm) builder.add_node(\"tools\", ToolNode([multiply])) builder.add_edge(START, \"tool_calling_llm\") \"tool_calling_llm\", # If the latest message (result) from assistant is a tool call -> tools_condition routes to tools # If the latest message (result) from assistant is a not a tool call -> tools_condition routes to END builder.add_edge(\"tools\", END) ================================== Ai Message ================================== Tool Calls: ================================= Tool Message ================================= ================================== Ai Message ================================== Tool Calls: ================================= Tool Message ================================= ================================== Ai Message ================================== Tool Calls: ================================= Tool Message ================================= ================================== Ai Message =================================='},\n",
       " {'url': 'https://chanp5660.github.io/blog/2024/LangGraph/',\n",
       "  'content': 'LangGraph는 대형 언어 모델(LLM)을 활용하여 상태를 유지하고, 여러 에이전트를 포함한 복잡한 애플리케이션을 쉽게 만들 수 있도록 도와주는 강력한 라이브러리입니다. 쉽게 말해, 복잡한 작업을 수행하는 여러 에이전트를 관리하고, 상태를 유지하며, 작업 흐름을 제어할 수 있는 도구입니다. 에이전트가 계획한 다음 작업을\\xa0승인하거나\\xa0편집하기 위해 그래프 실행을 중단할 수 있습니다. LangGraph를 사용하면 여러 LLM [[AI 에이전트에이전트]]가 협력하여 작업을 수행해야 하는 복잡한 시스템을 쉽게 구축할 수 있습니다. 예시: 문서 생성, 검토, 번역, 요약 등 여러 단계를 거치는 프로세스를 관리할 수 있습니다. 동적으로 변화하는 조건에 따라 다른 작업을 수행해야 할 때, 순환 및 분기 기능을 활용할 수 있습니다. 에이전트의 작업을 검토하고 승인하는 과정이 필요한 경우에 인간 개입 기능을 사용할 수 있습니다. 순환과 분기, 상태 관리, 인간 개입, 스트리밍 지원 등 다양한 기능을 제공하여 개발자들이 더욱 효율적으로 작업할 수 있습니다.'}]"
      ]
     },
     "execution_count": 25,
     "metadata": {},
     "output_type": "execute_result"
    }
   ],
   "source": [
    "from langchain_community.tools.tavily_search import TavilySearchResults\n",
    "\n",
    "tool = TavilySearchResults(max_results=5)        #searching 결과 return 개수 설정정\n",
    "tools = [tool]\n",
    "tool.invoke(\"LangGraph에서 ‘노드’란 무엇인가요?\")"
   ]
  },
  {
   "cell_type": "code",
   "execution_count": 23,
   "id": "585808e2",
   "metadata": {},
   "outputs": [
    {
     "data": {
      "text/plain": [
       "[{'url': 'https://www.micron.com/content/dam/micron/global/public/documents/products/product-flyer/hbm3e-product-brief.pdf',\n",
       "  'content': 'High bandwidth memory (HBM) is at the forefront of these innovations. • Advanced packaging with chip on wafer on substrate (CoWoS), system in package (SiP) technology for proximity to processor, delivering both high bandwidth (pin speed) and power (lower voltage)  Micron is introducing the next generation of HBM3 memory with HBM3E. Micron HBM3E has an industry best data rate of >9.2 Gb/s and 24GB capacity in an 8-high cube, resulting in >1.2 TB/s bandwidth with 2.5X performance/watt compared to the previous generation HBM2E. All this is made possible with the most advanced 1β process node from Micron along with innovations in CMOS and packaging technologies.'},\n",
       " {'url': 'https://www.rambus.com/blogs/hbm3-everything-you-need-to-know/',\n",
       "  'content': 'HBM3 is the latest generation of High Bandwidth Memory (HBM), a high-performance 2.5D/3D memory architecture. Operating at 6.4 Gigabits per Second (Gb/s), HBM3 can deliver a bandwidth of 819 Gigabytes per Second (GB/s).'},\n",
       " {'url': 'https://news.skhynix.com/sk-hynix-develops-worlds-best-performing-hbm3e/',\n",
       "  'content': 'Media Contact\\nSK hynix Inc.\\nGlobal Public Relations\\nTechnical Leader\\nKanga Kong\\nE-Mail: global_newsroom@skhynix.com\\nTechnical Leader\\nJoori Roh\\nE-Mail: global_newsroom@skhynix.com\\nRelated Posts\\nNVIDIA GTC 2024: SK hynix Presents the Future of AI Memory Solutions\\nSK hynix Unveils Highest-Performing SSD for AI PCs at NVIDIA GTC 2024\\nSK hynix Begins Volume Production of Industry’s “We look forward to continuing our collaboration with HBM3E to deliver the next generation of AI computing.”\\nSungsoo Ryu, Head of DRAM Product Planning at SK hynix, said that the company, through the development of HBM3E, has strengthened its market leadership by further enhancing the completeness of HBM product lineup, which is in the spotlight amid the development of AI technology. SK hynix Develops World’s Best Performing HBM3E, Provides Samples to Customer for Performance Evaluation\\nNews Highlights\\nSeoul, August 21, 2023\\nSK hynix Inc. (or “the company”, www.skhynix.com) announced today that it successfully developed HBM3E1, the next-generation of the highest-specification DRAM for AI applications currently available, and said a customer’s evaluation of samples is underway.\\n1HBM (High Bandwidth Memory): With its experience as the supplier of the industry’s largest volume of HBM products and the mass-production readiness level, SK hynix plans to mass produce HBM3E from the first half of next year and solidify its unrivaled leadership in AI memory market.\\n The company said that the successful development of HBM3E, the extended version of HBM3 which delivers the world’s best specifications, comes on top of its experience as the industry’s sole mass provider of HBM3.'},\n",
       " {'url': 'https://www.tomshardware.com/pc-components/ram/micron-puts-stackable-24gb-hbm3e-chips-into-volume-production-for-nvidias-next-gen-h200-ai-gpu',\n",
       "  'content': \"Compared to regular HBM3, HBM3E boosts bandwidth from 1TB/s to up to 1.2TB/s, a modest but noticeable jump in performance. HBM3E also increases max capacity per chip to 36GB, though Micron's HBM3E\"},\n",
       " {'url': 'https://www.electronicdesign.com/technologies/embedded/article/21271627/electronic-design-hbm3e-equipped-grace-hopper-superchip-targets-generative-ai',\n",
       "  'content': 'The HMB3e memory operates at 10 TB/s of combined bandwidth, which means the GH200 platform sees performance boosts with 3X more memory bandwidth and runs models 3.5X larger than the previous version.'}]"
      ]
     },
     "execution_count": 23,
     "metadata": {},
     "output_type": "execute_result"
    }
   ],
   "source": [
    "tool.invoke(\"HMB3E MPGA\")"
   ]
  },
  {
   "cell_type": "markdown",
   "id": "7f503f02-d23d-42e8-9b5d-eb2681b242f4",
   "metadata": {},
   "source": [
    "결과는 우리의 챗봇이 질문에 답하기 위해 사용할 수 있는 페이지 요약입니다.\n",
    "\n",
    "다음으로, 그래프 정의를 시작하겠습니다. 다음 내용은 **1부와 동일**하지만, LLM에 `bind_tools`를 추가했습니다. 이를 통해 LLM은 검색 엔진을 사용하려고 할 때 올바른 JSON 형식을 알 수 있습니다."
   ]
  },
  {
   "cell_type": "markdown",
   "id": "5d29b667",
   "metadata": {},
   "source": [
    "#Tool 이해하기\n",
    "- https://wikidocs.net/262582\n",
    "- https://sean-j.tistory.com/entry/LangGrpah-Tool-Binding"
   ]
  },
  {
   "cell_type": "code",
   "execution_count": null,
   "id": "ec75adb8",
   "metadata": {},
   "outputs": [],
   "source": [
    "# pip install langchain_experimental -> conda로는 intall 불가"
   ]
  },
  {
   "cell_type": "code",
   "execution_count": 26,
   "id": "d37264cb",
   "metadata": {},
   "outputs": [],
   "source": [
    "from langchain_experimental.tools import PythonREPLTool\n",
    "\n",
    "# 파이썬 코드를 실행하는 도구를 생성합니다.\n",
    "python_tool = PythonREPLTool()\n"
   ]
  },
  {
   "cell_type": "code",
   "execution_count": 27,
   "id": "6ac5c6e3",
   "metadata": {},
   "outputs": [
    {
     "name": "stderr",
     "output_type": "stream",
     "text": [
      "Python REPL can execute arbitrary code. Use with caution.\n"
     ]
    },
    {
     "name": "stdout",
     "output_type": "stream",
     "text": [
      "7\n",
      "\n"
     ]
    }
   ],
   "source": [
    "print(python_tool.invoke(\"print(2+5)\"))"
   ]
  },
  {
   "cell_type": "code",
   "execution_count": 28,
   "id": "840509f0",
   "metadata": {},
   "outputs": [
    {
     "ename": "OpenAIError",
     "evalue": "The api_key client option must be set either by passing api_key to the client or by setting the OPENAI_API_KEY environment variable",
     "output_type": "error",
     "traceback": [
      "\u001b[1;31m---------------------------------------------------------------------------\u001b[0m",
      "\u001b[1;31mOpenAIError\u001b[0m                               Traceback (most recent call last)",
      "Cell \u001b[1;32mIn[28], line 28\u001b[0m\n\u001b[0;32m     17\u001b[0m prompt \u001b[38;5;241m=\u001b[39m ChatPromptTemplate\u001b[38;5;241m.\u001b[39mfrom_messages(\n\u001b[0;32m     18\u001b[0m     [\n\u001b[0;32m     19\u001b[0m         (\n\u001b[1;32m   (...)\u001b[0m\n\u001b[0;32m     25\u001b[0m     ]\n\u001b[0;32m     26\u001b[0m )\n\u001b[0;32m     27\u001b[0m \u001b[38;5;66;03m# LLM 모델 생성\u001b[39;00m\n\u001b[1;32m---> 28\u001b[0m llm \u001b[38;5;241m=\u001b[39m \u001b[43mChatOpenAI\u001b[49m\u001b[43m(\u001b[49m\u001b[43mmodel\u001b[49m\u001b[38;5;241;43m=\u001b[39;49m\u001b[38;5;124;43m\"\u001b[39;49m\u001b[38;5;124;43mgpt-4o\u001b[39;49m\u001b[38;5;124;43m\"\u001b[39;49m\u001b[43m,\u001b[49m\u001b[43m \u001b[49m\u001b[43mtemperature\u001b[49m\u001b[38;5;241;43m=\u001b[39;49m\u001b[38;5;241;43m0\u001b[39;49m\u001b[43m)\u001b[49m\n\u001b[0;32m     30\u001b[0m \u001b[38;5;66;03m# 프롬프트와 LLM 모델을 사용하여 체인 생성\u001b[39;00m\n\u001b[0;32m     31\u001b[0m chain \u001b[38;5;241m=\u001b[39m prompt \u001b[38;5;241m|\u001b[39m llm \u001b[38;5;241m|\u001b[39m StrOutputParser() \u001b[38;5;241m|\u001b[39m RunnableLambda(print_and_execute)\n",
      "File \u001b[1;32mc:\\ProgramData\\anaconda3\\envs\\py31012\\lib\\site-packages\\langchain_core\\load\\serializable.py:125\u001b[0m, in \u001b[0;36mSerializable.__init__\u001b[1;34m(self, *args, **kwargs)\u001b[0m\n\u001b[0;32m    123\u001b[0m \u001b[38;5;28;01mdef\u001b[39;00m \u001b[38;5;21m__init__\u001b[39m(\u001b[38;5;28mself\u001b[39m, \u001b[38;5;241m*\u001b[39margs: Any, \u001b[38;5;241m*\u001b[39m\u001b[38;5;241m*\u001b[39mkwargs: Any) \u001b[38;5;241m-\u001b[39m\u001b[38;5;241m>\u001b[39m \u001b[38;5;28;01mNone\u001b[39;00m:\n\u001b[0;32m    124\u001b[0m \u001b[38;5;250m    \u001b[39m\u001b[38;5;124;03m\"\"\"\"\"\"\u001b[39;00m\n\u001b[1;32m--> 125\u001b[0m     \u001b[38;5;28msuper\u001b[39m()\u001b[38;5;241m.\u001b[39m\u001b[38;5;21m__init__\u001b[39m(\u001b[38;5;241m*\u001b[39margs, \u001b[38;5;241m*\u001b[39m\u001b[38;5;241m*\u001b[39mkwargs)\n",
      "    \u001b[1;31m[... skipping hidden 1 frame]\u001b[0m\n",
      "File \u001b[1;32mc:\\ProgramData\\anaconda3\\envs\\py31012\\lib\\site-packages\\langchain_openai\\chat_models\\base.py:578\u001b[0m, in \u001b[0;36mBaseChatOpenAI.validate_environment\u001b[1;34m(self)\u001b[0m\n\u001b[0;32m    576\u001b[0m         \u001b[38;5;28mself\u001b[39m\u001b[38;5;241m.\u001b[39mhttp_client \u001b[38;5;241m=\u001b[39m httpx\u001b[38;5;241m.\u001b[39mClient(proxy\u001b[38;5;241m=\u001b[39m\u001b[38;5;28mself\u001b[39m\u001b[38;5;241m.\u001b[39mopenai_proxy)\n\u001b[0;32m    577\u001b[0m     sync_specific \u001b[38;5;241m=\u001b[39m {\u001b[38;5;124m\"\u001b[39m\u001b[38;5;124mhttp_client\u001b[39m\u001b[38;5;124m\"\u001b[39m: \u001b[38;5;28mself\u001b[39m\u001b[38;5;241m.\u001b[39mhttp_client}\n\u001b[1;32m--> 578\u001b[0m     \u001b[38;5;28mself\u001b[39m\u001b[38;5;241m.\u001b[39mroot_client \u001b[38;5;241m=\u001b[39m openai\u001b[38;5;241m.\u001b[39mOpenAI(\u001b[38;5;241m*\u001b[39m\u001b[38;5;241m*\u001b[39mclient_params, \u001b[38;5;241m*\u001b[39m\u001b[38;5;241m*\u001b[39msync_specific)  \u001b[38;5;66;03m# type: ignore[arg-type]\u001b[39;00m\n\u001b[0;32m    579\u001b[0m     \u001b[38;5;28mself\u001b[39m\u001b[38;5;241m.\u001b[39mclient \u001b[38;5;241m=\u001b[39m \u001b[38;5;28mself\u001b[39m\u001b[38;5;241m.\u001b[39mroot_client\u001b[38;5;241m.\u001b[39mchat\u001b[38;5;241m.\u001b[39mcompletions\n\u001b[0;32m    580\u001b[0m \u001b[38;5;28;01mif\u001b[39;00m \u001b[38;5;129;01mnot\u001b[39;00m \u001b[38;5;28mself\u001b[39m\u001b[38;5;241m.\u001b[39masync_client:\n",
      "File \u001b[1;32mc:\\ProgramData\\anaconda3\\envs\\py31012\\lib\\site-packages\\openai\\_client.py:110\u001b[0m, in \u001b[0;36mOpenAI.__init__\u001b[1;34m(self, api_key, organization, project, base_url, websocket_base_url, timeout, max_retries, default_headers, default_query, http_client, _strict_response_validation)\u001b[0m\n\u001b[0;32m    108\u001b[0m     api_key \u001b[38;5;241m=\u001b[39m os\u001b[38;5;241m.\u001b[39menviron\u001b[38;5;241m.\u001b[39mget(\u001b[38;5;124m\"\u001b[39m\u001b[38;5;124mOPENAI_API_KEY\u001b[39m\u001b[38;5;124m\"\u001b[39m)\n\u001b[0;32m    109\u001b[0m \u001b[38;5;28;01mif\u001b[39;00m api_key \u001b[38;5;129;01mis\u001b[39;00m \u001b[38;5;28;01mNone\u001b[39;00m:\n\u001b[1;32m--> 110\u001b[0m     \u001b[38;5;28;01mraise\u001b[39;00m OpenAIError(\n\u001b[0;32m    111\u001b[0m         \u001b[38;5;124m\"\u001b[39m\u001b[38;5;124mThe api_key client option must be set either by passing api_key to the client or by setting the OPENAI_API_KEY environment variable\u001b[39m\u001b[38;5;124m\"\u001b[39m\n\u001b[0;32m    112\u001b[0m     )\n\u001b[0;32m    113\u001b[0m \u001b[38;5;28mself\u001b[39m\u001b[38;5;241m.\u001b[39mapi_key \u001b[38;5;241m=\u001b[39m api_key\n\u001b[0;32m    115\u001b[0m \u001b[38;5;28;01mif\u001b[39;00m organization \u001b[38;5;129;01mis\u001b[39;00m \u001b[38;5;28;01mNone\u001b[39;00m:\n",
      "\u001b[1;31mOpenAIError\u001b[0m: The api_key client option must be set either by passing api_key to the client or by setting the OPENAI_API_KEY environment variable"
     ]
    }
   ],
   "source": [
    "#open ai case\n",
    "from langchain_openai import ChatOpenAI\n",
    "from langchain_core.prompts import ChatPromptTemplate\n",
    "from langchain_core.output_parsers import StrOutputParser\n",
    "from langchain_core.runnables import RunnableLambda\n",
    "\n",
    "\n",
    "# 파이썬 코드를 실행하고 중간 과정을 출력하고 도구 실행 결과를 반환하는 함수\n",
    "def print_and_execute(code, debug=True):\n",
    "    if debug:\n",
    "        print(\"CODE:\")\n",
    "        print(code)\n",
    "    return python_tool.invoke(code)\n",
    "\n",
    "\n",
    "# 파이썬 코드를 작성하도록 요청하는 프롬프트\n",
    "prompt = ChatPromptTemplate.from_messages(\n",
    "    [\n",
    "        (\n",
    "            \"system\",\n",
    "            \"You are Raymond Hetting, an expert python programmer, well versed in meta-programming and elegant, concise and short but well documented code. You follow the PEP8 style guide. \"\n",
    "            \"Return only the code, no intro, no explanation, no chatty, no markdown, no code block, no nothing. Just the code.\",\n",
    "        ),\n",
    "        (\"human\", \"{input}\"),\n",
    "    ]\n",
    ")\n",
    "# LLM 모델 생성\n",
    "llm = ChatOpenAI(model=\"gpt-4o\", temperature=0)\n",
    "\n",
    "# 프롬프트와 LLM 모델을 사용하여 체인 생성\n",
    "chain = prompt | llm | StrOutputParser() | RunnableLambda(print_and_execute)\n"
   ]
  },
  {
   "cell_type": "code",
   "execution_count": 29,
   "id": "84198ba5",
   "metadata": {},
   "outputs": [],
   "source": [
    "#gemini case\n",
    "from langchain_google_genai import ChatGoogleGenerativeAI\n",
    "from langchain_core.prompts import ChatPromptTemplate\n",
    "from langchain_core.output_parsers import StrOutputParser\n",
    "from langchain_core.runnables import RunnableLambda\n",
    "\n",
    "\n",
    "# 파이썬 코드를 실행하고 중간 과정을 출력하고 도구 실행 결과를 반환하는 함수\n",
    "def print_and_execute(code, debug=True):\n",
    "    if debug:\n",
    "        print(\"CODE:\")\n",
    "        print(code)\n",
    "    return python_tool.invoke(code)\n",
    "\n",
    "\n",
    "# 파이썬 코드를 작성하도록 요청하는 프롬프트\n",
    "prompt = ChatPromptTemplate.from_messages(\n",
    "    [\n",
    "        (\n",
    "            \"system\",\n",
    "            \"You are Raymond Hetting, an expert python programmer, well versed in meta-programming and elegant, concise and short but well documented code. You follow the PEP8 style guide. \"\n",
    "            \"Return only the code, no intro, no explanation, no chatty, no markdown, no code block, no nothing. Just the code.\",\n",
    "        ),\n",
    "        (\"human\", \"{input}\"),\n",
    "    ]\n",
    ")\n",
    "# LLM 모델 생성\n",
    "llm = ChatGoogleGenerativeAI(model=\"gemini-2.0-flash-exp\", temperature=0)\n",
    "\n",
    "# 프롬프트와 LLM 모델을 사용하여 체인 생성\n",
    "chain = prompt | llm | StrOutputParser() | RunnableLambda(print_and_execute)\n"
   ]
  },
  {
   "cell_type": "code",
   "execution_count": 30,
   "id": "840d292c",
   "metadata": {},
   "outputs": [
    {
     "name": "stdout",
     "output_type": "stream",
     "text": [
      "CODE:\n",
      "```python\n",
      "import random\n",
      "\n",
      "def generate_lotto_numbers(num_sets=1, numbers_per_set=6, min_number=1, max_number=45):\n",
      "    \"\"\"Generates sets of unique lotto numbers.\n",
      "\n",
      "    Args:\n",
      "        num_sets (int): The number of lotto number sets to generate.\n",
      "        numbers_per_set (int): The number of unique numbers in each set.\n",
      "        min_number (int): The minimum possible number.\n",
      "        max_number (int): The maximum possible number.\n",
      "\n",
      "    Returns:\n",
      "        list: A list of lists, where each inner list is a set of lotto numbers.\n",
      "    \"\"\"\n",
      "    return [sorted(random.sample(range(min_number, max_number + 1), numbers_per_set))\n",
      "            for _ in range(num_sets)]\n",
      "\n",
      "if __name__ == '__main__':\n",
      "    lotto_numbers = generate_lotto_numbers(5)\n",
      "    for numbers in lotto_numbers:\n",
      "        print(numbers)\n",
      "```\n",
      "\n",
      "\n"
     ]
    }
   ],
   "source": [
    "# 결과 출력\n",
    "print(chain.invoke(\"로또 번호 생성기를 출력하는 코드를 작성하세요.\"))"
   ]
  },
  {
   "cell_type": "code",
   "execution_count": 11,
   "id": "db73e2b0",
   "metadata": {},
   "outputs": [
    {
     "name": "stdout",
     "output_type": "stream",
     "text": [
      "[13, 20, 26, 33, 38, 44]\n",
      "[8, 11, 14, 18, 33, 43]\n",
      "[5, 9, 12, 16, 18, 34]\n",
      "[13, 20, 23, 25, 28, 44]\n",
      "[6, 9, 37, 39, 40, 44]\n"
     ]
    }
   ],
   "source": [
    "import random\n",
    "\n",
    "def generate_lotto_numbers(num_sets=1, numbers_per_set=6, min_number=1, max_number=45):\n",
    "    \"\"\"Generates sets of unique lotto numbers.\n",
    "\n",
    "    Args:\n",
    "        num_sets (int): The number of lotto number sets to generate.\n",
    "        numbers_per_set (int): The number of unique numbers in each set.\n",
    "        min_number (int): The minimum possible number.\n",
    "        max_number (int): The maximum possible number.\n",
    "\n",
    "    Returns:\n",
    "        list: A list of lists, where each inner list is a set of lotto numbers.\n",
    "    \"\"\"\n",
    "    return [sorted(random.sample(range(min_number, max_number + 1), numbers_per_set))\n",
    "            for _ in range(num_sets)]\n",
    "\n",
    "if __name__ == '__main__':\n",
    "    lotto_numbers = generate_lotto_numbers(5)\n",
    "    for numbers in lotto_numbers:\n",
    "        print(numbers)"
   ]
  },
  {
   "cell_type": "code",
   "execution_count": null,
   "id": "bcc440d7",
   "metadata": {},
   "outputs": [],
   "source": [
    "# llm.bind_tools 이해하기\n"
   ]
  },
  {
   "cell_type": "code",
   "execution_count": 14,
   "id": "dc5af88b-47d2-43bf-9a2c-6c07506b1732",
   "metadata": {},
   "outputs": [],
   "source": [
    "#anthropic\n",
    "from typing import Annotated\n",
    "\n",
    "from langchain_anthropic import ChatAnthropic\n",
    "from typing_extensions import TypedDict\n",
    "\n",
    "from langgraph.graph import StateGraph\n",
    "from langgraph.graph.message import add_messages\n",
    "\n",
    "\n",
    "class State(TypedDict):\n",
    "    messages: Annotated[list, add_messages]\n",
    "\n",
    "\n",
    "graph_builder = StateGraph(State)\n",
    "\n",
    "\n",
    "llm = ChatAnthropic(model=\"claude-3-haiku-20240307\")\n",
    "# Modification: tell the LLM which tools it can call\n",
    "llm_with_tools = llm.bind_tools(tools)\n",
    "\n",
    "\n",
    "def chatbot(state: State):\n",
    "    return {\"messages\": [llm_with_tools.invoke(state[\"messages\"])]}\n",
    "\n",
    "\n",
    "graph_builder.add_node(\"chatbot\", chatbot)"
   ]
  },
  {
   "cell_type": "markdown",
   "id": "0981bf25",
   "metadata": {},
   "source": [
    "# Class __call__ 이해하기(class를 함수처럼 사용하기기)\n",
    "- 파이썬에서 __call__ 메서드는 클래스 인스턴스를 함수처럼 호출 가능하게 만드는 특수 메서드입니다. \n",
    "- 이 메서드를 구현하면 객체를 괄호 ()로 호출할 때 자동으로 실행되며, 상태 유지나 함수형 동작을 구현하는 데 유용합니다.\n",
    "\n",
    "- 기본 기능과 사용법\n",
    "- __call__ 메서드를 클래스에 정의하면 해당 클래스의 인스턴스를 함수처럼 호출할 수 있습니다. 호출 시 인스턴스() 형식으로 사용하며, 내부적으로 인스턴스.__call__()이 실행됩니다"
   ]
  },
  {
   "cell_type": "code",
   "execution_count": 27,
   "id": "eb320963",
   "metadata": {},
   "outputs": [],
   "source": [
    "class Counter:\n",
    "    def __init__(self):\n",
    "        self.count = 0\n",
    "\n",
    "    def __call__(self):\n",
    "        self.count += 1\n",
    "        return self.count\n",
    "\n",
    "counter = Counter()"
   ]
  },
  {
   "cell_type": "code",
   "execution_count": 28,
   "id": "d141914c",
   "metadata": {},
   "outputs": [
    {
     "name": "stdout",
     "output_type": "stream",
     "text": [
      "1\n"
     ]
    }
   ],
   "source": [
    "print(counter())  # 1 [2][6]"
   ]
  },
  {
   "cell_type": "code",
   "execution_count": 29,
   "id": "f2963f08",
   "metadata": {},
   "outputs": [
    {
     "name": "stdout",
     "output_type": "stream",
     "text": [
      "2\n"
     ]
    }
   ],
   "source": [
    "print(counter())  # 2 [2][6]"
   ]
  },
  {
   "cell_type": "code",
   "execution_count": 30,
   "id": "6d797117",
   "metadata": {},
   "outputs": [
    {
     "name": "stdout",
     "output_type": "stream",
     "text": [
      "3\n"
     ]
    }
   ],
   "source": [
    "print(counter())  # 2 [2][6]"
   ]
  },
  {
   "cell_type": "code",
   "execution_count": 31,
   "id": "b94da110",
   "metadata": {},
   "outputs": [],
   "source": [
    "class Printname:\n",
    "\n",
    "    def __call__(self,name):\n",
    "        return f\"안녕하세요! {name}님\""
   ]
  },
  {
   "cell_type": "code",
   "execution_count": 32,
   "id": "d73effa2",
   "metadata": {},
   "outputs": [],
   "source": [
    "printname = Printname() #instance 생성 '__init__' 실행됨"
   ]
  },
  {
   "cell_type": "code",
   "execution_count": 34,
   "id": "9a404149",
   "metadata": {},
   "outputs": [
    {
     "name": "stdout",
     "output_type": "stream",
     "text": [
      "안녕하세요! 재일님\n"
     ]
    }
   ],
   "source": [
    "print(printname('재일'))  # instance 실행 '__call__' 실행됨"
   ]
  },
  {
   "cell_type": "code",
   "execution_count": 36,
   "id": "22915fb4",
   "metadata": {},
   "outputs": [
    {
     "name": "stdout",
     "output_type": "stream",
     "text": [
      "안녕하세요! 하진님\n"
     ]
    }
   ],
   "source": [
    "print(printname(name='하진'))  # instance 실행 '__call__' 실행됨"
   ]
  },
  {
   "cell_type": "markdown",
   "id": "d1e84cfc-b1b2-48e3-8550-152a408c3926",
   "metadata": {},
   "source": [
    "다음으로, 호출된 도구를 실제로 실행하는 함수를 만들어야 합니다. 이를 위해 새 노드에 도구를 추가하겠습니다.\n",
    "\n",
    "아래에, 상태에서 가장 최근의 메시지를 확인하고, 메시지에 `tool_calls`가 포함되어 있으면 도구를 호출하는 `BasicToolNode`를 구현하세요. 이 노드는 Anthropic, OpenAI, Google Gemini 등 여러 LLM 제공자에서 사용할 수 있는 LLM의 `tool_calling` 지원에 의존합니다.\n",
    "\n",
    "나중에 LangGraph의 사전 구축된 [ToolNode](https://langchain-ai.github.io/langgraph/reference/prebuilt/#toolnode)로 대체하여 사용 될 수 있습니다."
   ]
  },
  {
   "cell_type": "code",
   "execution_count": 52,
   "id": "4a96e666",
   "metadata": {},
   "outputs": [],
   "source": [
    "from langchain_community.tools.tavily_search import TavilySearchResults\n",
    "\n",
    "tool = TavilySearchResults(max_results=5)        #searching 결과 return 개수 설정\n",
    "tools = [tool]"
   ]
  },
  {
   "cell_type": "code",
   "execution_count": 33,
   "id": "ebac10bf",
   "metadata": {},
   "outputs": [
    {
     "name": "stdout",
     "output_type": "stream",
     "text": [
      "api_wrapper=TavilySearchAPIWrapper(tavily_api_key=SecretStr('**********'))\n",
      "tavily_search_results_json\n"
     ]
    }
   ],
   "source": [
    "for tool in tools:\n",
    "    print(tool)\n",
    "    print(tool.name)"
   ]
  },
  {
   "cell_type": "markdown",
   "id": "bf737fa1",
   "metadata": {},
   "source": [
    "- dictionary.get(key, default_value) 기능\n",
    "- key : 검색할 키입니다. 딕셔너리에서 이 키에 해당하는 값을 찾습니다.\n",
    "- default_value (선택적) : 키가 딕셔너리에 없을 때 반환할 기본값입니다. 이 값은 선택 사항으로, 제공하지 않으면 기본값으로 None이 사용됩니다."
   ]
  },
  {
   "cell_type": "code",
   "execution_count": 34,
   "id": "93d22a0d",
   "metadata": {},
   "outputs": [
    {
     "name": "stdout",
     "output_type": "stream",
     "text": [
      "1\n"
     ]
    }
   ],
   "source": [
    "# 딕셔너리 정의\n",
    "my_dict = {'apple': 1, 'banana': 2, 'cherry': 3}\n",
    "\n",
    "# 'apple' 키의 값을 가져옴\n",
    "value = my_dict.get('apple','없습니다.')\n",
    "print(value)\n"
   ]
  },
  {
   "cell_type": "code",
   "execution_count": 35,
   "id": "fa2b6914",
   "metadata": {},
   "outputs": [
    {
     "name": "stdout",
     "output_type": "stream",
     "text": [
      "값이 없습니다.\n"
     ]
    }
   ],
   "source": [
    "# 'kkk' 키의 값을 가져오려 했으나 없어서 defalut_value 반환\n",
    "value = my_dict.get('kkk','값이 없습니다.')\n",
    "print(value)"
   ]
  },
  {
   "cell_type": "code",
   "execution_count": 36,
   "id": "638ae6f5",
   "metadata": {},
   "outputs": [
    {
     "data": {
      "text/plain": [
       "TavilySearchResults(api_wrapper=TavilySearchAPIWrapper(tavily_api_key=SecretStr('**********')))"
      ]
     },
     "execution_count": 36,
     "metadata": {},
     "output_type": "execute_result"
    }
   ],
   "source": [
    "tool"
   ]
  },
  {
   "cell_type": "code",
   "execution_count": 37,
   "id": "f9197175",
   "metadata": {},
   "outputs": [],
   "source": [
    "tools_by_name = {}\n",
    "tools_by_name[tool.name]=tool"
   ]
  },
  {
   "cell_type": "code",
   "execution_count": 38,
   "id": "ab6e7c5e",
   "metadata": {},
   "outputs": [
    {
     "data": {
      "text/plain": [
       "[{'url': 'https://fooddd.tistory.com/5',\n",
       "  'content': '부산은 한국의 대표적인 해안도시로서 다양한 맛과 특색 있는 음식을 즐길 수 있는 곳입니다. 아래는 부산의 대표적인 음식 10가지를 소개합니다: 1. **회 (Raw Fish)**: 부산은 한국에서 가장 유명한 회를 즐길 수 있는 곳 중 하나입니다. 해운대나 광안리 해수욕장 등에서 싱싱한 해산물을 맛볼 수'},\n",
       " {'url': 'https://hyugajung.com/부산-먹거리-추천-10가지/',\n",
       "  'content': '부산 여행에서 놓치면 후회할 맛있는 음식들을 소개해 드리겠습니다. 부산의 대표 음식인 돼지국밥부터 시작하여 씨앗호떡, 자갈치 시장의 신선한 해산물, 그리고 시원한 밀면까지, 다채로운 부산의 맛을 경험해 보세요. 부산의 특색 있는 디저트인 어묵과 단팥빵도 꼭 맛보시길 바랍니다.'},\n",
       " {'url': 'https://m.blog.naver.com/korail77/222393372499',\n",
       "  'content': '부산의 대표 음식인 밀면과 돼지국밥도 안 먹으면 섭섭하지요. 전국을 강타한 씨앗호떡과 부산어묵, 유부주머니 등 주전부리도 곳곳에 넘쳐납니다. ... 싱싱한 해산물을 한가득 넣고 맑게 끓여낸 해물탕은 부산사람들이 즐겨 먹는 음식 가운데 하나다. 바다를'},\n",
       " {'url': 'https://sand-cake.com/entry/부산-먹거리-추천-부산에서-꼭-맛봐야-할-음식들',\n",
       "  'content': '부산은 해양 도시로서 신선한 해산물부터 특색 있는 길거리 음식까지 다양한 먹거리가 가득한 곳입니다. 부산 여행을 계획 중이신 분들이라면 놓치지 말아야 할 맛집과 대표 음식들을 소개해드리겠습니다. 1. 부산의 대표 음식, 밀면 부산을 대표하는 음식 중 하나인 밀면은여름철 시원하게 즐길 수'},\n",
       " {'url': 'https://soft-gyul.tistory.com/entry/부산에서-꼭-먹어봐야-할-음식-10가지',\n",
       "  'content': \"부산의 무더운 여름날, 밀면 한 그릇은 더위를 식혀주기에 충분합니다. 유명한 밀면집으로는 '초량밀면'과 '국제밀면'이 있습니다. 돼지국밥 부산의 또 다른 대표 음식인 돼지국밥은 진한 돼지뼈 육수에 부드러운 돼지고기와 밥을 넣어 끓인 음식입니다.\"}]"
      ]
     },
     "execution_count": 38,
     "metadata": {},
     "output_type": "execute_result"
    }
   ],
   "source": [
    "tools_by_name[tool.name].invoke('부산의 대표 음식')"
   ]
  },
  {
   "cell_type": "code",
   "execution_count": 39,
   "id": "e3c6c707",
   "metadata": {},
   "outputs": [
    {
     "data": {
      "text/plain": [
       "[{'url': 'https://hyugajung.com/부산-먹거리-추천-10가지/',\n",
       "  'content': '부산 여행에서 놓치면 후회할 맛있는 음식들을 소개해 드리겠습니다. 부산의 대표 음식인 돼지국밥부터 시작하여 씨앗호떡, 자갈치 시장의 신선한 해산물, 그리고 시원한 밀면까지, 다채로운 부산의 맛을 경험해 보세요. 부산의 특색 있는 디저트인 어묵과 단팥빵도 꼭 맛보시길 바랍니다.'},\n",
       " {'url': 'https://reverty.net/부산-대표음식-10가지-소개-그-중-동래파전-국밥-밀면/',\n",
       "  'content': '부산 대표음식 10가지 소개 그 중 동래파전, 국밥, 밀면, 죽라면 만드는법 소개. 부산은 한국의 일반적인 해안도시로서 여러가지 맛과 특색 있는 음식을 즐길 수 있는 곳입니다. 아래는 부산의 일반적인 음식 10가지를 소개합니다. 1.'},\n",
       " {'url': 'https://m.blog.naver.com/korail77/222393372499',\n",
       "  'content': '부산의 대표 음식인 밀면과 돼지국밥도 안 먹으면 섭섭하지요. 전국을 강타한 씨앗호떡과 부산어묵, 유부주머니 등 주전부리도 곳곳에 넘쳐납니다. ... 싱싱한 해산물을 한가득 넣고 맑게 끓여낸 해물탕은 부산사람들이 즐겨 먹는 음식 가운데 하나다. 바다를'},\n",
       " {'url': 'https://triple.guide/articles/7339098a-ebca-4dc0-8e7b-10aedd085999',\n",
       "  'content': '이런 독특한 음식문화 때문에 돼지국밥, 밀면, 냉채 족발 등 부산에서만 맛볼 수 있는 음식들이 많다. 부산 부산(남포동) 부산 부산 부산(서면) 부산(남포동) 부산(해운대) 부산(남포동) 부산 부산 부산(서면) 부산 곰장어는 기장식과 자갈치식 두 가지 방식으로 먹는다. 부산(남포동) 부산 부산 부산(해운대) 부산 부산 부산 명물 횟집 부산(남포동) 부산 얇게 썬 족발에 해파리 채와 오이, 당근을 올리고 겨자소스를 부어 먹는 부산 대표 음식이다. 부산 부평 족발 골목에 족발 음식점이 모여 있다. 원조 부산 족발 부산(남포동) 부산(서면) 부산(해운대) 부산 부산 부산 일본식 복국은 복어 이외의 다른 재료를 넣지 않는 반면, 한국식 복국은 콩나물, 미나리, 무 등을 넣어 시원한 맛이 더 강하다. 부산(해운대) 부산 부산(해운대) 부산(해운대) 부산(남포동) 부산(남포동) 부산(해운대) 부산(해운대) 부산 라발스 호텔 부산 부산(영도・송도) 부산(해운대) 파라다이스 호텔 부산 부산(해운대) 부산(남포동) 트리플 맞춤 일정 추천 받으러 가기'},\n",
       " {'url': 'https://fooddd.tistory.com/5',\n",
       "  'content': '5.\\xa0**소스\\xa0만들기\\xa0(선택사항)**:\\xa0간장에\\xa0식초와\\xa0고추장을\\xa0섞어\\xa0간장소스를\\xa0만들어\\xa0찍어\\xa0먹을\\xa0수\\xa0있습니다. 이렇게\\xa0간단하게\\xa0부산을\\xa0대표하는\\xa0음식\\xa0중\\xa0하나인\\xa0동래파전을\\xa0만들\\xa0수\\xa0있습니다. 필요시\\xa0김치를\\xa0넣어\\xa0깊은\\xa0맛을\\xa0더해줄\\xa0수\\xa0있습니다. 이렇게\\xa0간단하게\\xa0부산을\\xa0대표하는\\xa0음식\\xa0중\\xa0하나인\\xa0국밥을\\xa0만들\\xa0수\\xa0있습니다. 4.\\xa0**양념장\\xa0만들기**:\\xa0고추장\\xa02큰술,\\xa0고추가루\\xa01큰술,\\xa0다진\\xa0파\\xa01큰술,\\xa0다진\\xa0마늘\\xa01작은술,\\xa0다진\\xa0대파\\xa01큰술,\\xa0다진\\xa0생강\\xa01작은술,\\xa0간장\\xa01큰술,\\xa0설탕\\xa01큰술을\\xa0넣고\\xa0골고루\\xa0섞어줍니다. 6.\\xa0**안주\\xa0소스\\xa0만들기\\xa0(선택사항)**:\\xa0다양한\\xa0안주를\\xa0곁들여\\xa0먹을\\xa0수\\xa0있습니다. 이렇게\\xa0부산을\\xa0대표하는\\xa0음식\\xa0중\\xa0하나인\\xa0밀면을\\xa0만들\\xa0수\\xa0있습니다. 2.\\xa0**양념장\\xa0만들기**:\\xa0다진\\xa0마늘,\\xa0다진\\xa0생강,\\xa0고춧가루를\\xa0골고루\\xa0섞은\\xa0후\\xa0적당한\\xa0양을\\xa0라면\\xa0육수에\\xa0넣어\\xa0양념장을\\xa0만듭니다. 이렇게\\xa0간단하게\\xa0부산을\\xa0대표하는\\xa0음식\\xa0중\\xa0하나인\\xa0죽라면을\\xa0만들\\xa0수\\xa0있습니다.'}]"
      ]
     },
     "execution_count": 39,
     "metadata": {},
     "output_type": "execute_result"
    }
   ],
   "source": [
    "tools_by_name['tavily_search_results_json'].invoke('부산의 대표 음식')"
   ]
  },
  {
   "cell_type": "code",
   "execution_count": 56,
   "id": "aaf92624",
   "metadata": {},
   "outputs": [],
   "source": [
    "from typing import Annotated\n",
    "\n",
    "from typing_extensions import TypedDict\n",
    "\n",
    "from langgraph.graph import StateGraph\n",
    "from langgraph.graph.message import add_messages\n",
    "\n",
    "#step 1. State 정의하기\n",
    "class State(TypedDict):\n",
    "    # Messages have the type \"list\". The `add_messages` function\n",
    "    # in the annotation defines how this state key should be updated\n",
    "    # (in this case, it appends messages to the list, rather than overwriting them)\n",
    "    messages: Annotated[list, add_messages]    #state는 messages라는 list이고 reduer는 add_messages langgraph 함수 사용\n",
    "\n",
    "\n",
    "graph_builder = StateGraph(State)"
   ]
  },
  {
   "cell_type": "code",
   "execution_count": 57,
   "id": "bc3420ed",
   "metadata": {},
   "outputs": [
    {
     "name": "stderr",
     "output_type": "stream",
     "text": [
      "Key 'title' is not supported in schema, ignoring\n",
      "Key 'title' is not supported in schema, ignoring\n"
     ]
    },
    {
     "data": {
      "text/plain": [
       "<langgraph.graph.state.StateGraph at 0x20379476b00>"
      ]
     },
     "execution_count": 57,
     "metadata": {},
     "output_type": "execute_result"
    }
   ],
   "source": [
    "#gemini\n",
    "from typing import Annotated\n",
    "\n",
    "from langchain_google_genai import ChatGoogleGenerativeAI\n",
    "from typing_extensions import TypedDict\n",
    "\n",
    "from langgraph.graph import StateGraph\n",
    "from langgraph.graph.message import add_messages\n",
    "\n",
    "\n",
    "class State(TypedDict):\n",
    "    messages: Annotated[list, add_messages]\n",
    "\n",
    "\n",
    "graph_builder = StateGraph(State)\n",
    "\n",
    "\n",
    "llm = ChatGoogleGenerativeAI(model=\"gemini-2.0-flash-exp\", temperature=0)\n",
    "# Modification: tell the LLM which tools it can call\n",
    "llm_with_tools = llm.bind_tools(tools)\n",
    "\n",
    "\n",
    "def chatbot(state: State):\n",
    "    return {\"messages\": [llm_with_tools.invoke(state[\"messages\"])]}\n",
    "\n",
    "\n",
    "graph_builder.add_node(\"chatbot\", chatbot)"
   ]
  },
  {
   "cell_type": "code",
   "execution_count": 43,
   "id": "822cabec",
   "metadata": {},
   "outputs": [
    {
     "data": {
      "text/plain": [
       "'{\"age\": 40, \"name\": \"mike\"}'"
      ]
     },
     "execution_count": 43,
     "metadata": {},
     "output_type": "execute_result"
    }
   ],
   "source": [
    "#json.dumps 예시\n",
    "import json\n",
    "dict_a = {'age':40,'name':'mike'}\n",
    "\n",
    "content = json.dumps(dict_a)\n",
    "content"
   ]
  },
  {
   "cell_type": "markdown",
   "id": "cc9e9786",
   "metadata": {},
   "source": [
    "### def __init__(self, tools: list) -> None: \n",
    "- instance가 선언될 때 실행되고 list를 입력 받아 tools로 내부에서 사용한다.\n",
    "- instance.tools_by_name이라는 dict을 만들고 tool 각각의 instance[tool.name]이 키가 되는 tool을 정의한다.\n",
    "- 즉 instance.tools_by_name[tool.name].invoke()를 하면 각 tool에 invoke를 할 수 있다."
   ]
  },
  {
   "cell_type": "markdown",
   "id": "cf409d42",
   "metadata": {},
   "source": [
    "### def __call__(self, inputs: dict):\n",
    "- instance가 실행될 때 실행되고 dict을 받아 inputs으로 내부에서 사용한다.\n",
    "- inputs(dict)['messages'] 값을 받아서 없으면 messages = [] 입력\n",
    "- inputs(dict)['meassges'] 값이 있으면 message에 messages의 마지막 값 입력\n",
    "- outputs 리스트 생성\n",
    "- meesage.tool_calls가 있으면 instance.tools_by_name[tool.name].invoke() 실행.\n",
    "- 이때 tool.name은 tool_call['name']이 되고 invoke 내용은 tool_call['args']가 된다.\n",
    "- 즉 tool_node를 llm이 call하면 마지막 mesaages(message)를 분석해서 llm이 요청한 tool과 요청 내용을 output에 append\n",
    "- 생성된 outputs(list)를 {'messgaes':outputs}로 return"
   ]
  },
  {
   "cell_type": "code",
   "execution_count": 58,
   "id": "12f1fc14-cd91-4cd4-9f2e-1d007f8beafc",
   "metadata": {},
   "outputs": [
    {
     "data": {
      "text/plain": [
       "<langgraph.graph.state.StateGraph at 0x20379476b00>"
      ]
     },
     "execution_count": 58,
     "metadata": {},
     "output_type": "execute_result"
    }
   ],
   "source": [
    "#step2. node 정의하기\n",
    "import json\n",
    "\n",
    "from langchain_core.messages import ToolMessage\n",
    "\n",
    "\n",
    "class BasicToolNode:\n",
    "    \"\"\"A node that runs the tools requested in the last AIMessage.\"\"\"\n",
    "\n",
    "    def __init__(self, tools: list) -> None:       #instance 선언시 tools(type:list)를 받는다.\n",
    "        #self.tools_by_name = {tool.name: tool for tool in tools} \n",
    "        self.tools_by_name = {}                    #instance.tools_by_name의 dict을 만든다.\n",
    "        for tool in tools:                         #tools에 각 요소를 tool로 받아서\n",
    "            self.tools_by_name[tool.name] = tool   #각 tool.name을 키로 각각의 tool로 dict을 정의한다.\n",
    "\n",
    "\n",
    "    def __call__(self, inputs: dict):              #instance 실행시 input(type:dict)를 받는다.\n",
    "        if messages := inputs.get(\"messages\", []): #input['messages'] 값을 받아서 messages에 입력하고 if문 실행\n",
    "            message = messages[-1]                 #input['messages'] 값을 받아서 없으면 messges에 빈 list 입력 후\n",
    "        else:                                      #else 구문 실행\n",
    "            raise ValueError(\"No message found in input\")\n",
    "        outputs = []                               #outputs라는 list 생성\n",
    "        for tool_call in message.tool_calls:       #message.tool_calls의 요소를 tool_call로 받아서\n",
    "            tool_result = self.tools_by_name[tool_call[\"name\"]].invoke(  \n",
    "                tool_call[\"args\"]\n",
    "            )\n",
    "            #tool_result = instance.tools_by_name['tool_name'].invoke('tool_call['args]')를 실행한다.\n",
    "            outputs.append(\n",
    "                ToolMessage(\n",
    "                    content=json.dumps(tool_result),\n",
    "                    #json.dumps(dict) => dict인 tool_result를 json 형태로 변경함\n",
    "                    name=tool_call[\"name\"],\n",
    "                    tool_call_id=tool_call[\"id\"],\n",
    "                )\n",
    "            )\n",
    "        return {\"messages\": outputs}\n",
    "\n",
    "\n",
    "tool_node = BasicToolNode(tools=[tool])\n",
    "graph_builder.add_node(\"tools\", tool_node)"
   ]
  },
  {
   "cell_type": "markdown",
   "id": "b049afc4-7757-40ba-8e00-589d378e816d",
   "metadata": {},
   "source": [
    "도구 노드를 추가한 후, 이제 `conditional_edges`를 정의할 수 있습니다.\n",
    "\n",
    "아래에서는 챗봇의 출력에서 `tool_calls`를 확인하는 `route_tools`라는 라우터 함수를 정의하세요. 이 함수를 그래프에 제공하려면 `add_conditional_edges`를 호출하여 `chatbot` 노드가 완료될 때마다 이 함수를 확인하여 다음으로 어디로 이동할지 결정하도록 그래프에 알려주세요.\n",
    "\n",
    "조건부는 `tool_calls`가 있으면 `tools`로, 없으면 \"`__end__`\"로 라우팅됩니다.\n",
    "\n",
    "나중에 이를 더 간결하게 하기 위해 사전 구축된 [tools_condition](https://langchain-ai.github.io/langgraph/reference/prebuilt/#tools_condition)으로 대체할 예정이지만, 처음에는 직접 구현하여 더 명확하게 이해할 수 있습니다.\n"
   ]
  },
  {
   "cell_type": "code",
   "execution_count": 59,
   "id": "d662df94-66ac-4c6c-92f0-4c93620f1c74",
   "metadata": {},
   "outputs": [],
   "source": [
    "from typing import Literal\n",
    "\n",
    "# state(State type)을 받아서 state['messages']가 있다면 ai_message = messages[-1]로 설정\n",
    "# hasattr(ai_message, \"tool_calls\") -> ai_message.tool_calls가 있다면\n",
    "# len(ai_message.tool_calls) -> ai_message.tool_calls(list)의 길이가 0보다 크다면 tools로 return\n",
    "# 아니면 '__end__'로 return\n",
    "def route_tools(\n",
    "    state: State,\n",
    ") -> Literal[\"tools\", \"__end__\"]:\n",
    "    \"\"\"\n",
    "    Use in the conditional_edge to route to the ToolNode if the last message\n",
    "    has tool calls. Otherwise, route to the end.\n",
    "    \"\"\"\n",
    "    if isinstance(state, list):\n",
    "        ai_message = state[-1]\n",
    "    elif messages := state.get(\"messages\", []):\n",
    "        ai_message = messages[-1]\n",
    "    else:\n",
    "        raise ValueError(f\"No messages found in input state to tool_edge: {state}\")\n",
    "    if hasattr(ai_message, \"tool_calls\") and len(ai_message.tool_calls) > 0:\n",
    "        return \"tools\"\n",
    "    return \"__end__\"\n",
    "\n",
    "\n",
    "# The `tools_condition` function returns \"tools\" if the chatbot asks to use a tool, and \"__end__\" if\n",
    "# it is fine directly responding. This conditional routing defines the main agent loop.\n",
    "graph_builder.add_conditional_edges(\n",
    "    \"chatbot\",\n",
    "    route_tools,\n",
    "    {\"tools\": \"tools\", \"__end__\": \"__end__\"},\n",
    ")\n",
    "# Any time a tool is called, we return to the chatbot to decide the next step\n",
    "graph_builder.add_edge(\"tools\", \"chatbot\")\n",
    "graph_builder.set_entry_point(\"chatbot\")\n",
    "graph = graph_builder.compile()"
   ]
  },
  {
   "cell_type": "markdown",
   "id": "a2aa67c2-dd1b-4bf2-8c64-eea44296d15f",
   "metadata": {},
   "source": [
    "조건부 에지는 단일 노드에서 시작됩니다. 이는 그래프에 \"`chatbot`\" 노드가 실행될 때마다, 도구를 호출하면 'tools'로 가고, 직접 응답하면 루프를 종료하도록 지시합니다.\n",
    "\n",
    "사전 구축된 `tools_condition`과 마찬가지로, 우리 함수는 도구 호출이 없을 경우 \"`__end__`\" 문자열을 반환합니다. 그래프가 `__end__`로 전환되면 더 이상 완료해야 할 작업이 없으므로 실행이 중지됩니다. 조건이 `__end__`를 반환할 수 있기 때문에, 이번에는 명시적으로 `finish_point`를 설정할 필요가 없습니다. 우리의 그래프에는 이미 종료할 방법이 있습니다.\n",
    "\n",
    "이제 우리가 구축한 그래프를 시각화해 봅시다. 다음 함수는 이 튜토리얼에서는 중요하지 않은 추가 종속성이 필요합니다.\n"
   ]
  },
  {
   "cell_type": "code",
   "execution_count": 60,
   "id": "8b49509c-9d97-457c-a76a-c495fb30ccbc",
   "metadata": {},
   "outputs": [
    {
     "data": {
      "image/png": "[encoded data removed]",
      "text/plain": [
       "<IPython.core.display.Image object>"
      ]
     },
     "metadata": {},
     "output_type": "display_data"
    }
   ],
   "source": [
    "visualize_graph(graph)"
   ]
  },
  {
   "cell_type": "markdown",
   "id": "c59593ef-5073-4279-931e-828dae971f23",
   "metadata": {},
   "source": [
    "Now we can ask the bot questions outside its training data."
   ]
  },
  {
   "cell_type": "code",
   "execution_count": 18,
   "id": "051dc374-67cc-4371-9dd1-221e07593148",
   "metadata": {},
   "outputs": [
    {
     "name": "stdout",
     "output_type": "stream",
     "text": [
      "User:  미국 대선 언제야\n"
     ]
    },
    {
     "name": "stdout",
     "output_type": "stream",
     "text": [
      "Assistant: [{'id': 'toolu_015UiDo3NKESgU9fKhXB2jDP', 'input': {'query': '미국 대선 일정'}, 'name': 'tavily_search_results_json', 'type': 'tool_use'}]\n",
      "Assistant: [{\"url\": \"https://namu.wiki/w/2024\\ub144 \\ubbf8\\uad6d \\ub300\\ud1b5\\ub839 \\uc120\\uac70\", \"content\": \"\\uac1c\\uc694 [\\ud3b8\\uc9d1] 2024\\ub144 11\\uc6d4 5\\uc77c \\uc5d0 \\uc2dc\\ud589 \\uc608\\uc815\\uc778 \\ubbf8\\uad6d \\ub300\\ud1b5\\ub839 \\uc120\\uac70. \\ubbf8\\uad6d \\uc758 60\\ubc88\\uc9f8 \\ub300\\ud1b5\\ub839 \\uc120\\uac70\\uc774\\uace0 \\uc81c47\\ub300 \\ub300\\ud1b5\\ub839 \\uc744 \\uc120\\ucd9c\\ud558\\uac70\\ub098 46\\ub300 \\ub300\\ud1b5\\ub839 \\uc870 \\ubc14\\uc774\\ub4e0 \\uc774 \\uc7ac\\uc120 \\uc5d0 \\ub3c4\\uc804\\ud558\\ub294 \\uc120\\uac70\\ub2e4. \\uc0c1\\ub300\\ub294 \\uc9c1\\uc804 45\\ub300 \\ub300\\ud1b5\\ub839 \\ub3c4\\ub110\\ub4dc \\ud2b8\\ub7fc\\ud504 \\ub85c, 1912\\ub144 \\ubbf8\\uad6d \\ub300\\ud1b5\\ub839 \\uc120\\uac70 \\uc774\\ud6c4 112\\ub144\\ub9cc\\uc5d0 \\uc804 ...\"}, {\"url\": \"https://www.bbc.com/korean/international-65186660\", \"content\": \"\\ub354 \\ubcf4\\uae30\\n\\ubbf8 \\uc911\\uac04\\uc120\\uac70: \\ubbfc\\uc8fc\\ub2f9\\uc758 \\uc0c1\\uc6d0 \\uc2b9\\ub9ac\\uac00 \\uc911\\uc694\\ud55c \\uc774\\uc720\\n\\ub3c4\\ub110\\ub4dc \\ud2b8\\ub7fc\\ud504\\uc758 2024\\ub144 \\ub300\\uc120 \\uc6b4\\ub3d9, \\uc774\\ubc88\\uc740 \\ub2e4\\ub974\\ub2e4?\\n\\ub3c4\\ub110\\ub4dc \\ud2b8\\ub7fc\\ud504: 2024\\ub144 \\ub300\\uc120\\uc774 \\ub354 \\uc5b4\\ub824\\uc6b4 6\\uac00\\uc9c0 \\uc774\\uc720\\n\\uc8fc\\uc694 \\ub274\\uc2a4\\n\\ubd81\\ud55c \\ud3ec\\ud0c4, NLL \\ubd81\\ucabd 7\\u339e\\uae4c\\uc9c0 \\ub0a0\\uc544\\uc654\\ub2e4\\u2026\\ubd81\\ud55c\\uc758 \\uc758\\ub3c4\\ub294?\\n\\ube44\\ud589\\uc911 \\ubb38\\uc774 \\ub72f\\uaca8\\uc838 \\ub098\\uac00\\ub2e4\\ub2c8...'\\ud574\\ub2f9 \\uadf8\\ub807\\ub2e4\\uba74, \\ubc14\\uc774\\ub4e0\\uc774 \\ubd88\\ucd9c\\ub9c8\\ub97c \\uacb0\\uc815\\ud55c\\ub2e4\\uba74 \\uc5b4\\ub5bb\\uac8c \\ub420\\uae4c?\\n\\uc774\\ubbf8 2024\\ub144 \\ub300\\uc120 \\ucd9c\\ub9c8\\ub97c \\uc120\\uc5b8\\ud55c \\ub450 \\uba85\\uc758 \\uc720\\ub825 \\ud6c4\\ubcf4\\uc640, \\ucd9c\\ub9c8 \\uac00\\ub2a5\\uc131\\uc774 \\uc788\\ub294 \\ub2e4\\ub978 \\ud6c4\\ubcf4\\ub97c \\uc544\\ub798\\uc640 \\uac19\\uc774 \\uc815\\ub9ac\\ud588\\ub2e4.\\n\\uc0ac\\uc9c4 \\ucd9c\\ucc98, Getty Images\\n\\uba54\\ub9ac\\uc564 \\uc70c\\ub9ac\\uc5c4\\uc2a8\\n\\uc790\\uae30\\uacc4\\ubc1c \\uc804\\ubb38\\uac00 \\uba54\\ub9ac\\uc564 \\uc70c\\ub9ac\\uc5c4\\uc2a8\\uc740 \\ubbfc\\uc8fc\\ub2f9\\uc6d0 \\ucd5c\\ucd08\\ub85c 2024\\ub144 \\ub300\\uc120 \\ucd9c\\ub9c8\\ub97c \\uc120\\uc5b8\\ud588\\uace0 3\\uc6d4\\ubd80\\ud130 \\uacf5\\uc2dd \\uc120\\uac70\\uc6b4\\ub3d9\\uc744 \\uc2dc\\uc791\\ud588\\ub2e4.\\n \\uae30\\uc885, \\uc6b4\\ud56d \\uc77c\\uc2dc \\uc911\\ub2e8'\\n\\uc0ac\\ub78c\\ub4e4\\uc758 \\uc0c8\\ud574 \\uacb0\\uc2ec\\uc744 \\uae30\\ud68c\\ub85c \\uc0bc\\ub294 \\uae30\\uc5c5\\ub4e4\\n\\uc774 \\uc2dc\\uac04 \\uc774\\uc288\\n\\uc77c\\ubcf8 \\uc774\\uc2dc\\uce74\\uc640\\ud604 \\ub300\\uc9c0\\uc9c4 \\ud53c\\ud574 \\uaddc\\ubaa8\\ub294?\\n2024\\ub144 \\ubd81\\ud55c\\uc758 \\ubbf8\\ub798\\ub294?...'7\\ucc28 \\uc0ac\\uc9c4 \\ucd9c\\ucc98, Getty Images\\n\\uac1c\\ube48 \\ub274\\uc12c\\n\\ud574\\ub9ac\\uc2a4 \\ubd80\\ud1b5\\ub839\\uc774 \\ud55c\\ub54c \\ubc14\\uc774\\ub4e0 \\ub300\\ud1b5\\ub839\\uc758 \\ub4a4\\ub97c \\uc774\\uc744 \\uc720\\ub825\\ud55c \\ud6c4\\ubcf4\\uc600\\ub2e4\\uba74, \\ud604\\uc7ac \\uac00\\uc7a5 \\uc720\\ub825\\ud558\\uac8c \\uac70\\ub860\\ub418\\ub294 \\ub300\\uc120 \\ud6c4\\ubcf4\\ub294 \\ub610 \\ub2e4\\ub978 \\uce98\\ub9ac\\ud3ec\\ub2c8\\uc544 \\uc815\\uce58\\uac00 \\uac1c\\ube48 \\ub274\\uc12c \\uc8fc\\uc9c0\\uc0ac\\ub2e4.\\n \\uc0ac\\uc9c4 \\ucd9c\\ucc98, Getty Images\\n\\ubc84\\ub2c8 \\uc0cc\\ub354\\uc2a4\\n\\ubc14\\uc774\\ub4e0\\uc758 \\ub098\\uc774\\uac00 \\uc720\\uad8c\\uc790\\uc5d0\\uac8c \\ud070 \\uac78\\ub9bc\\ub3cc\\uc774\\ub77c\\uba74, 81\\uc138\\uc758 \\ubc84\\ub2c8 \\uc0cc\\ub354\\uc2a4 \\ubc84\\ubaac\\ud2b8\\uc8fc \\uc0c1\\uc6d0\\uc758\\uc6d0\\uc758 \\ud6c4\\ubcf4 \\uc9c0\\uba85\\uc744 \\uc774\\ud574\\ud558\\uc9c0 \\ubabb\\ud558\\ub294 \\uc0ac\\ub78c\\ub3c4 \\ub9ce\\uc744 \\uac83\\uc774\\ub2e4.\\n\"}]\n",
      "Assistant: 요약하면, 미국의 차기 대선은 2024년 11월 5일에 예정되어 있습니다. 이번 선거는 미국 역사상 60번째 대선이 될 것입니다. 현재 도널드 트럼프 전 대통령과 조 바이든 현 대통령이 주요 후보로 거론되고 있습니다. 이번 선거에는 많은 중요한 이슈들이 걸려 있어, 결과에 따라 미국 정치 지형이 크게 변할 수 있을 것으로 보입니다.\n"
     ]
    },
    {
     "name": "stdout",
     "output_type": "stream",
     "text": [
      "User:  q\n"
     ]
    },
    {
     "name": "stdout",
     "output_type": "stream",
     "text": [
      "대화 종료!\n"
     ]
    },
    {
     "name": "stdout",
     "output_type": "stream",
     "text": [
      "User:  q\n"
     ]
    },
    {
     "name": "stdout",
     "output_type": "stream",
     "text": [
      "Goodbye!\n"
     ]
    }
   ],
   "source": [
    "from langchain_core.messages import BaseMessage\n",
    "\n",
    "while True:\n",
    "    user_input = input(\"User: \")\n",
    "    if user_input.lower() in [\"quit\", \"exit\", \"q\"]:\n",
    "        print(\"대화 종료!\")\n",
    "        break\n",
    "    for event in graph.stream({\"messages\": [(\"user\", user_input)]}):\n",
    "        for value in event.values():\n",
    "            if isinstance(value[\"messages\"][-1], BaseMessage):\n",
    "                print(\"Assistant:\", value[\"messages\"][-1].content)"
   ]
  },
  {
   "cell_type": "code",
   "execution_count": 61,
   "id": "46f85b3e",
   "metadata": {},
   "outputs": [
    {
     "name": "stdout",
     "output_type": "stream",
     "text": [
      "User: 안녕\n",
      "Assistant: 안녕하세요! 무엇을 도와드릴까요?\n",
      "\n",
      "User: 오늘 한국의 주요 뉴스를 요약해 줘\n",
      "Assistant: \n",
      "Assistant: [{\"url\": \"https://www.yna.co.kr/theme/headlines-history\", \"content\": \"\\uc8fc\\uc694\\ub274\\uc2a4 | \\uc5f0\\ud569\\ub274\\uc2a4 \\uc5f0\\ud569\\ub274\\uc2a4 \\ubcf8\\ubb38 \\ubc14\\ub85c\\uac00\\uae30 \\uba54\\ub274 \\ubc14\\ub85c\\uac00\\uae30 \\uad6d\\uac00\\uae30\\uac04\\ub274\\uc2a4 \\ud1b5\\uc2e0\\uc0ac \\uc5f0\\ud569\\ub274\\uc2a4 \\uacbd\\uc81c \\ub274\\uc2a4 \\uac80\\uc0c9\\uc5b4 \\uc785\\ub825 \\uc591\\uc2dd \\ub300\\ud1b5\\ub839\\uc2e4 \\\"\\u7f8e '\\uc6b0\\ud06c\\ub77c\\uc804 \\uc7a5\\uac70\\ub9ac\\ubbf8\\uc0ac\\uc77c \\ud5c8\\uc6a9' \\ud55c\\uad6d\\uc5d0 \\uc0ac\\uc804\\ud1b5\\ubcf4\\\" \\uccb4\\uc721\\ud68c \\ub178\\uc870, IOC\\uc5d0 '\\ube44\\uc704 \\ud610\\uc758' \\uc774\\uae30\\ud765 \\ud68c\\uc7a5 '\\uc8fc\\uc2dc' \\ucd09\\uad6c \\uc11c\\ud55c \\u7f8e \\uc5f0\\ubc29\\ud1b5\\uc2e0\\uc704\\uc6d0\\uc7a5\\uc5d0 \\ube45\\ud14c\\ud06c \\uaddc\\uc81c\\ub860\\uc790\\u2026\\ud55c\\uad6d\\uc5d0 \\ub07c\\uce60 \\uc601\\ud5a5\\uc740 \\ub300\\ud1b5\\ub839\\uc2e4 \\\"\\ud55c\\uc911\\uad00\\uacc4 \\ud56d\\uc0c1 \\uc2e0\\uacbd\\u2026\\uace0\\uc704\\uae09 \\ud611\\uc758\\u00b7\\uc18c\\ud1b5 \\uac00\\uc7a5 \\uc911\\uc694\\\" \\uc774\\ubcd1\\ucca0 \\uc0bc\\uc131 \\ucc3d\\uc5c5\\ud68c\\uc7a5 37\\uc8fc\\uae30\\u2026\\ubc94\\uc0bc\\uc131\\u5bb6 \\uc6a9\\uc778\\uc11c \\ucd94\\ub3c4\\uc2dd #\\ud2b8\\ub7fc\\ud504 #\\ud2b8\\ub7fc\\ud504 #\\ud2b8\\ub7fc\\ud504 \\uc62c\\ud574 \\uc218\\ub2a5 \\uc774\\uc758 \\uc2e0\\uccad \\ucd1d 342\\uac74\\u2026\\uad6d\\uc5b4 '\\uc5b8\\uc5b4\\uc640\\ub9e4\\uccb4' 44\\ubc88 \\ucd5c\\ub2e4 \\ud2f0\\uba54\\ud504 \\uc0ac\\ud0dc \\ucc45\\uc784 \\uad6c\\uc601\\ubc30 \\ub4f1 \\ub300\\ud45c 3\\uba85 \\uad6c\\uc18d\\uc601\\uc7a5 \\ubc95\\uc6d0 \\ub610 \\uae30\\uac01 \\\"\\u7f8e \\uc911\\ub3d9\\ud2b9\\uc0ac, 19\\uc77c \\ub808\\ubc14\\ub17c\\uc11c \\uc774-\\ud5e4\\uc988\\ubcfc\\ub77c \\ud734\\uc804 \\ub17c\\uc758\\\" #\\ud2b8\\ub7fc\\ud504 #\\ud2b8\\ub7fc\\ud504 \\uc720\\ud29c\\ube0c \\ucc44\\ub110 \\uc5f0\\ud569\\ub274\\uc2a4 \\uc720\\ud29c\\ube0c\\ucc44\\ub110 \\ud1b5\\ud1b5\\uceec\\uccd0 \\uc720\\ud29c\\ube0c\\ucc44\\ub110 \\ud1b5\\ud1b5\\ud14c\\ud06c \\uc720\\ud29c\\ube0c\\ucc44\\ub110 \\ud1b5\\ud1b5\\ub9ac\\ube59 \\uc720\\ud29c\\ube0c\\ucc44\\ub110 \\ucf54\\ub9ac\\uc544\\ub098\\uc6b0 \\uc720\\ud29c\\ube0c\\ucc44\\ub110 K-VIBE SNS \\uc5f0\\ud569\\ub274\\uc2a4 \\ud398\\uc774\\uc2a4\\ubd81 \\uc5f0\\ud569\\ub274\\uc2a4 \\ud2b8\\uc704\\ud130 \\uc5f0\\ud569\\ub274\\uc2a4 \\uc778\\uc2a4\\ud0c0\\uadf8\\ub7a8 \\ub300\\ud1b5\\ub839\\uc2e4/\\ucd1d\\ub9ac\\uc2e4 \\uacbd\\uc81c \\uacbd\\uc81c/\\uc815\\ucc45 \\ub274\\uc2a4+ \\uc5f0\\ud569\\ub274\\uc2a4 \\uc11c\\uc6b8\\uc2dc \\uc885\\ub85c\\uad6c \\uc728\\uace1\\ub85c 2\\uae38 25\\ub4f1\\ub85d\\ubc88\\ud638 \\ubb38\\ud654, \\ub09800009\\ub4f1\\ub85d\\uc77c\\uc790 1980.12.29\\ubc1c\\ud589\\uc77c\\uc790 1980.12.29Tel. 02-398-3114\"}, {\"url\": \"https://news.sbs.co.kr/news/endPage.do?news_id=N1007966169\", \"content\": \"SBS \\ub274\\uc2a4 SBS \\ub274\\uc2a4 - \\ube0c\\ub79c\\ub4dc \\ub9ac\\uc2a4\\ud2b8 SBS \\ub274\\uc2a4 \\uacf5\\uc2dd \\ud398\\uc774\\uc2a4\\ubd81 SBS \\ub274\\uc2a4 \\uacf5\\uc2dd \\ud2b8\\uc704\\ud130 _|_SBS SBS \\ub274\\uc2a4 SBS \\ub274\\uc2a4 SBS \\ub274\\uc2a4 - \\ube0c\\ub79c\\ub4dc \\ub9ac\\uc2a4\\ud2b8 SBS \\ub274\\uc2a4 \\uacf5\\uc2dd \\ud398\\uc774\\uc2a4\\ubd81 SBS \\ub274\\uc2a4 \\uacf5\\uc2dd \\ud2b8\\uc704\\ud130 SBS \\ub274\\uc2a4 - \\ud035\\uba54\\ub274 \\ub9ac\\uc2a4\\ud2b8 _|_SBS SBS \\ub2e8\\ub3c5\\ubcf4\\ub3c4 SBS \\ub274\\uc2a4 \\uc0c1\\ub2e8 \\uba54\\ub274 SBS \\ub274\\uc2a4 - \\uc139\\uc158 \\uce74\\ud14c\\uace0\\ub9ac \\uc724 \\ub300\\ud1b5\\ub839\\uc758 \\ub0b4\\ub780 \\ud610\\uc758 \\ud615\\uc0ac\\uc7ac\\ud310\\ub3c4 \\uc774\\ub974\\uba74 \\uc624\\ub298(31\\uc77c) \\uc7ac\\ud310\\ubd80\\uc5d0 \\ubc30\\ub2f9\\ub3fc \\ub450 \\uc7ac\\ud310\\uc774 \\ud568\\uaed8 \\uc9c4\\ud589\\ub420 \\uac83\\uc73c\\ub85c \\ubcf4\\uc785\\ub2c8\\ub2e4. \\ud76c\\uc0dd\\uc790 \\uac00\\uc6b4\\ub370\\ub294 \\ud53c\\uaca8\\uc2a4\\ucf00\\uc774\\ud305 \\uc720\\ub9dd\\uc8fc\\uc778 \\ud55c\\uad6d\\uacc4 \\uc120\\uc218\\ub4e4\\uacfc \\uac00\\uc871\\ub3c4 \\ud3ec\\ud568\\ub41c \\uac83\\uc73c\\ub85c \\ud655\\uc778\\ub410\\uc2b5\\ub2c8\\ub2e4. \\ub2eb\\uae30 SBS \\ub2e8\\ub3c5\\ubcf4\\ub3c4 SBS \\uc18c\\uac1c\\ub9ac\\uc2a4\\ud2b8 SBS PR SBS IR SBS \\ubc29\\uc1a1\\ud3b8\\uc131\\uaddc\\uc57d SBS \\uc81c\\uc791\\ud611\\ucc2c SBS \\ubc29\\uc1a1\\uae30\\uc220 SBS \\ubb38\\ud654\\uc0ac\\uc5c5 SBS Family\\ub9ac\\uc2a4\\ud2b8 SBS Star SBS \\ucf58\\ud150\\uce20\\ud5c8\\ube0c SBS Plus SBS Sports SBS Golf SBS Biz SBS \\uc778\\ud130\\ub0b4\\uc154\\ub110 SBS A&T SBS \\ubb38\\ud654\\uc7ac\\ub2e8 SBS \\uae30\\uc220\\uc778\\ud611\\ud68c SBS \\uc544\\ub098\\uc6b4\\uc11c SBS \\uc815\\ubcf4 SBS\"}, {\"url\": \"https://news.sbs.co.kr/news/endPage.do?news_id=N1007952062\", \"content\": \"SBS \\ub274\\uc2a4 SBS \\ub274\\uc2a4 - \\ube0c\\ub79c\\ub4dc \\ub9ac\\uc2a4\\ud2b8 SBS \\ub274\\uc2a4 \\uacf5\\uc2dd \\ud398\\uc774\\uc2a4\\ubd81 SBS \\ub274\\uc2a4 \\uacf5\\uc2dd \\ud2b8\\uc704\\ud130 _|_SBS SBS \\ub274\\uc2a4 SBS \\ub274\\uc2a4 SBS \\ub274\\uc2a4 - \\ube0c\\ub79c\\ub4dc \\ub9ac\\uc2a4\\ud2b8 SBS \\ub274\\uc2a4 \\uacf5\\uc2dd \\ud398\\uc774\\uc2a4\\ubd81 SBS \\ub274\\uc2a4 \\uacf5\\uc2dd \\ud2b8\\uc704\\ud130 SBS \\ub274\\uc2a4 - \\ud035\\uba54\\ub274 \\ub9ac\\uc2a4\\ud2b8 _|_SBS SBS \\ub2e8\\ub3c5\\ubcf4\\ub3c4 \\uc2a4\\ube0c\\uc2a4\\ub274\\uc2a4 \\uba54\\ub274 \\ub9ac\\uc2a4\\ud2b8 SBS \\ub274\\uc2a4 \\uc0c1\\ub2e8 \\uba54\\ub274 SBS \\ub274\\uc2a4 - \\uc139\\uc158 \\uce74\\ud14c\\uace0\\ub9ac SBS \\ub274\\uc2a4 Seoul 4. \\uccb4\\ucf54 \\uc2e0\\uaddc \\uc6d0\\uc804 \\uac74\\uc124 \\uc218\\uc8fc \\uacfc\\uc815\\uc5d0 \\ucd5c\\ub300 \\uac78\\ub9bc\\ub3cc\\ub85c \\uc5ec\\uaca8\\uc84c\\ub358 \\ubbf8\\uad6d \\uc6d0\\uc804 \\uc5c5\\uccb4\\uc640\\uc758 \\uc9c0\\uc801 \\uc7ac\\uc0b0\\uad8c \\ubd84\\uc7c1\\uc774 \\ud0c0\\uacb0\\ub410\\uc2b5\\ub2c8\\ub2e4. \\ub2eb\\uae30 \\ub2e4\\uc2dc\\ubcf4\\uae30 \\uba54\\ub274 \\ub9ac\\uc2a4\\ud2b8 SBS \\ub2e8\\ub3c5\\ubcf4\\ub3c4 SBS \\uc18c\\uac1c\\ub9ac\\uc2a4\\ud2b8 SBS PR SBS IR SBS \\ubc29\\uc1a1\\ud3b8\\uc131\\uaddc\\uc57d SBS \\uc81c\\uc791\\ud611\\ucc2c SBS \\ubc29\\uc1a1\\uae30\\uc220 SBS \\ubb38\\ud654\\uc0ac\\uc5c5 SBS Family\\ub9ac\\uc2a4\\ud2b8 SBS Star SBS \\ucf58\\ud150\\uce20\\ud5c8\\ube0c SBS Plus SBS Sports SBS Golf SBS Biz SBS \\uc778\\ud130\\ub0b4\\uc154\\ub110 SBS A&T SBS \\ubb38\\ud654\\uc7ac\\ub2e8 SBS \\uae30\\uc220\\uc778\\ud611\\ud68c SBS \\uc544\\ub098\\uc6b4\\uc11c SBS \\uc815\\ubcf4 SBS\"}, {\"url\": \"https://www.yna.co.kr/news\", \"content\": \"\\ud569\\ucc9c \\uae30\\uacc4 \\uc81c\\uc791\\uc5c5\\uccb4 \\ucc3d\\uace0\\uc11c \\ubd88\\u20262\\ucc9c700\\ub9cc\\uc6d0 \\uc7ac\\uc0b0 \\ud53c\\ud574(\\ud569\\ucc9c=\\uc5f0\\ud569\\ub274\\uc2a4) \\uc815\\uc885\\ud638 \\uae30\\uc790 = 19\\uc77c 0\\uc2dc 7\\ubd84\\uaed8 \\uacbd\\ub0a8 \\ud569\\ucc9c\\uad70 \\ub300\\uc591\\uba74 \\ud55c \\uae30\\uacc4 \\uc81c\\uc791\\uc5c5\\uccb4 \\ucc3d\\uace0\\uc5d0\\uc11c \\ubd88\\uc774 \\ub0ac\\ub2e4. \\uc804\\ubd81 \\uace0\\ucc3d \\uc5fc\\uc18c \\ucd95\\uc0ac\\uc5d0 \\ubd88\\u2026600\\uc5ec\\ub9c8\\ub9ac \\ud3d0\\uc0ac(\\uace0\\ucc3d=\\uc5f0\\ud569\\ub274\\uc2a4) \\ucd5c\\uc601\\uc218 \\uae30\\uc790 = 19\\uc77c \\uc624\\uc804 3\\uc2dc 39\\ubd84\\uaed8 \\uace0\\ucc3d\\uad70 \\uc544\\uc0b0\\uba74 \\ud55c \\ub18d\\uc7a5 \\ub0b4 \\ucd95\\uc0ac\\uc5d0\\uc11c \\ubd88\\uc774 \\ub098 40\\uc5ec\\ubd84 \\ub9cc\\uc5d0 \\uc9c4\\ud654\\ub410\\ub2e4. \\ubd80\\ucc9c \\uc544\\ud30c\\ud2b8 \\ud654\\uc7ac\\ub85c \\uc8fc\\ubbfc\\ub4e4 \\uc5f0\\uae30\\ud761\\uc785\\u2026\\ud55c\\ub54c \\uacbd\\ubcf4\\ub839 \\ubc1c\\ub839(\\ubd80\\ucc9c=\\uc5f0\\ud569\\ub274\\uc2a4) \\ud64d\\ud604\\uae30 \\uae30\\uc790 = 19\\uc77c \\uc624\\uc804 4\\uc2dc 1\\ubd84\\uaed8 \\uacbd\\uae30\\ub3c4 \\ubd80\\ucc9c\\uc2dc \\uc911\\ub3d9 23\\uce35\\uc9dc\\ub9ac \\uc544\\ud30c\\ud2b8\\uc5d0\\uc11c \\ubd88\\uc774 \\ub0ac\\ub2e4. \\ud14c\\uc2ac\\ub77c \\uc8fc\\uac00, '\\ud2b8\\ub7fc\\ud504 2\\uae30 \\uc790\\uc728\\uc8fc\\ud589 \\uaddc\\uc81c \\uc644\\ud654 \\uc804\\ub9dd'\\uc5d0 5.6%\\u2191(\\uc885\\ud569)\\uc2dc\\uac00\\ucd1d\\uc561 1\\uc8701\\ucc9c\\uc5b5\\ub2ec\\ub7ec \\uadfc\\uc811\\u2026\\\"FSD \\ub4f1 \\uc2b9\\uc778\\u00b7\\ud655\\ub300 \\uae30\\ub300\\\" (\\uc0cc\\ud504\\ub780\\uc2dc\\uc2a4\\ucf54\\u00b7\\ub85c\\uc2a4\\uc564\\uc824\\ub808\\uc2a4=\\uc5f0\\ud569\\ub274\\uc2a4) \\uae40\\ud0dc\\uc885 \\uc784\\ubbf8\\ub098 \\ud2b9\\ud30c\\uc6d0 = \\ubbf8\\uad6d \\uc804\\uae30\\ucc28 \\uc5c5\\uccb4 \\ud14c\\uc2ac\\ub77c \\uc8fc\\uac00\\uac00 18\\uc77c(\\ud604\\uc9c0\\uc2dc\\uac04) \\ud2b8... \\ub2a6\\uc740 \\ubc24 \\ud751\\uc11d\\ub3d9 \\uace0\\uc2dc\\uc6d0 \\uac74\\ubb3c\\uc11c \\ubd88\\u202632\\uba85 \\ub300\\ud53c(\\uc11c\\uc6b8=\\uc5f0\\ud569\\ub274\\uc2a4) \\uae40\\uc900\\ud0dc \\uae30\\uc790 = 18\\uc77c \\uc624\\ud6c4 10\\uc2dc 43\\ubd84\\uaed8 \\uc11c\\uc6b8 \\ub3d9\\uc791\\uad6c \\ud751\\uc11d\\ub3d9\\uc758 \\uc9c0\\ud558 1\\uce35\\u00b7\\uc9c0\\uc0c1 4\\uce35 \\uaddc\\ubaa8 \\uace0\\uc2dc\\uc6d0 \\uac74\\ubb3c 2\\uce35\\uc5d0\\uc11c \\ubd88\\uc774 \\ub0ac\\ub2e4.\"}, {\"url\": \"https://news.sbs.co.kr/news/newsflash.do\", \"content\": \"SBS \\ub274\\uc2a4\\nSBS \\ub274\\uc2a4\\nSBS \\ub274\\uc2a4\\n\\ucd5c\\uc2e0\\n\\\"\\uc870\\uc2ec \\uc880 \\ud558\\uc2dc\\uc9c0, 1\\uc5b5 \\ub118\\ub294 \\uc2dc\\uacc4\\uc608\\uc694\\\"\\u2026\\ub2f9\\ud669\\ud574 \\uc218\\ub9ac\\ube44 \\uc92c\\ub294\\ub370\\nPC\\ubc29 \\uc606\\uc790\\ub9ac \\uc0ac\\ub78c\\uc5d0\\uac8c, \\uc790\\uc2e0\\uc758 \\uc5b5\\ub300 \\uc2dc\\uacc4\\ub97c \\ub5a8\\uc5b4\\ud2b8\\ub838\\ub2e4\\uba70 \\uc218\\ub9ac\\ube44\\ub97c \\ubc1b\\uc544 \\uac04 \\ub0a8\\uc131\\uc774 \\uc788\\ub2e4\\ub294 \\uc81c\\ubcf4\\uac00 \\ub4e4\\uc5b4\\uc654\\uc2b5\\ub2c8\\ub2e4. SBS\\n2023.12.30 07:24\\n4\\uce35\\uc9dc\\ub9ac \\ub2e4\\uc138\\ub300\\uc8fc\\ud0dd \\uc625\\uc0c1\\uc5d0\\uc11c \\ubd88\\u2026\\\"\\ub2f4\\ubc30\\uaf41\\ucd08 \\uc758\\uc2ec\\\"\\n\\uc5b4\\uc81c \\uc624\\ud6c4 \\uacbd\\ubd81 \\uad6c\\ubbf8\\uc2dc\\uc758 \\ud55c \\ub2e4\\uc138\\ub300 \\uc8fc\\ud0dd 1\\uce35\\uc5d0\\uc11c \\ubd88\\uc774 \\ub098\\uc11c 50\\ub300 \\ub0a8\\uc131 \\ud55c \\uba85\\uc774 \\uc228\\uc84c\\uc2b5\\ub2c8\\ub2e4. SBS\\n2023.12.30 07:18\\n\\uc758\\uc6d0 18\\uba85 \\ub204\\uc801 \\ub9e4\\uc218 600\\uc5b5\\ub300\\u202690%\\ub294 \\uae40\\ub0a8\\uad6d\\n\\uad6d\\ubbfc\\uad8c\\uc775\\uc704\\uc6d0\\ud68c\\uac00 \\ud604\\uc9c1 \\uad6d\\ud68c\\uc758\\uc6d0\\ub4e4\\uc758 \\uac00\\uc0c1\\uc790\\uc0b0 \\uac70\\ub798\\ub97c \\uc870\\uc0ac\\ud588\\ub354\\ub2c8 \\uc804\\uccb4\\uc758 90%\\uac00 \\uae40\\ub0a8\\uad6d \\uc758\\uc6d0\\uc774 \\ud55c \\uac70\\ub798\\uc600\\ub358 \\uac78\\ub85c \\ub4dc\\ub7ec\\ub0ac\\uc2b5\\ub2c8\\ub2e4. SBS\\n2023.12.30 07:14\\n'\\ud55c\\ub3d9\\ud6c8 \\ube44\\ub300\\uc704' \\uccab \\ud68c\\uc758\\u2026\\\"\\uc6d0\\uce59 \\uc9c0\\ud0a4\\uba70 \\ucd1d\\uc120 \\uc2b9\\ub9ac\\\"\\n\\uad6d\\ubbfc\\uc758\\ud798 \\ud55c\\ub3d9\\ud6c8 \\ube44\\ub300\\uc704\\uac00 \\uc5b4\\uc81c \\uccab \\ud68c\\uc758\\ub97c \\uc5f4\\uace0 \\uba85\\ubd84\\uacfc \\uc6d0\\uce59\\uc744 \\uc9c0\\ud0a4\\uba70 \\ucd1d\\uc120\\uc5d0\\uc11c \\uc774\\uae30\\uaca0\\ub2e4\\uace0 \\ub2e4\\uc9d0\\ud588\\uc2b5\\ub2c8\\ub2e4. SBS\\n2023.12.30 07:12\\n\\uc774\\uc7ac\\uba85-\\uc774\\ub099\\uc5f0 \\uc624\\ub298 \\uc624\\uc804 \\ud68c\\ub3d9\\u2026\\uc2e0\\ub2f9 '\\ubd84\\uc218\\ub839'\\n\\uc774\\uc7ac\\uba85 \\ubbfc\\uc8fc\\ub2f9 \\ub300\\ud45c\\uc640 \\uc774\\ub099\\uc5f0 \\uc804 \\ub300\\ud45c\\uac00 \\uc624\\ub298 \\uc624\\uc804 \\ub9cc\\ub098\\uae30\\ub85c \\ud588\\uc2b5\\ub2c8\\ub2e4.\"}]\n",
      "Assistant: 오늘 한국의 주요 뉴스는 다음과 같습니다:\n",
      "\n",
      "* **대통령실:** 미국이 우크라이나 전쟁에 장거리 미사일 지원을 허용한 것을 한국에 사전 통보했다고 밝혔습니다. 또한, 한중 관계를 항상 신경 쓰고 있으며 고위급 협의와 소통이 가장 중요하다고 강조했습니다.\n",
      "* **체육회 노조:** 국제올림픽위원회(IOC)에 이기흥 대한체육회장의 비위 혐의에 대한 '주시'를 촉구하는 서한을 보냈습니다.\n",
      "* **미국 연방통신위원회:** 빅테크 규제론자가 위원장으로 임명되면서 한국에 미칠 영향에 대한 관심이 높아지고 있습니다.\n",
      "* **삼성:** 이병철 삼성 창업회장의 37주기를 맞아 범삼성가가 용인에서 추도식을 거행했습니다.\n",
      "* **수능:** 올해 수능 이의 신청은 총 342건으로, 국어 '언어와 매체' 44번 문항이 가장 많았습니다.\n",
      "* **티메프 사태:** 티메프 사태의 책임자인 구영배 등 대표 3명에 대한 구속영장이 법원에서 또 기각되었습니다.\n",
      "* **미국 중동 특사:** 미국 중동 특사가 19일 레바논에서 이스라엘-헤즈볼라 휴전 논의를 할 예정입니다.\n",
      "* **윤 대통령:** 윤 대통령의 내란 혐의 형사 재판이 이르면 오늘 재판부에 배당되어 두 재판이 함께 진행될 것으로 보입니다.\n",
      "* **체코 원전:** 체코 신규 원전 건설 수주 과정에서 미국 원전 업체와의 지적 재산권 분쟁이 타결되었습니다.\n",
      "* **화재:** 합천 기계 제작업체 창고, 전북 고창 염소 축사, 부천 아파트, 흑석동 고시원 건물 등에서 화재가 발생했습니다.\n",
      "* **테슬라 주가:** 트럼프 2기 자율주행 규제 완화 전망에 테슬라 주가가 5.6% 상승했습니다.\n",
      "* **김남국 의원:** 국민권익위원회 조사 결과, 현직 국회의원들의 가상자산 거래 중 90%가 김남국 의원의 거래였던 것으로 드러났습니다.\n",
      "* **한동훈 비대위:** 국민의힘 한동훈 비대위가 첫 회의를 열고 총선 승리를 다짐했습니다.\n",
      "* **이재명-이낙연 회동:** 이재명 민주당 대표와 이낙연 전 대표가 오늘 오전 회동을 가질 예정입니다.\n",
      "\n",
      "이 외에도 다양한 뉴스가 보도되고 있습니다. 더 자세한 내용은 각 언론사의 웹사이트를 참고하시면 됩니다.\n",
      "\n",
      "User: 오늘 날짜를 알려줘\n",
      "Assistant: 죄송하지만, 오늘 날짜를 알려드릴 수 없습니다. 하지만 검색을 통해 오늘 날짜를 찾아볼 수 있습니다. 검색해 보시겠습니까?\n",
      "\n",
      "User: ㅇㅇ\n",
      "Assistant: I'm sorry, I'm not sure what you mean by \"ㅇㅇ\". Can you please provide more context or a different query?\n",
      "\n",
      "User: 중국의 최신 AI 소식을 알려줘\n",
      "Assistant: \n",
      "Assistant: [{\"url\": \"https://www.mk.co.kr/news/business/11228272\", \"content\": \"2023\\ub144 \\uc124\\ub9bd\\ub41c \\uc911\\uad6d\\uc758 \\uc778\\uacf5\\uc9c0\\ub2a5 (AI) \\uc2a4\\ud0c0\\ud2b8\\uc5c5 '\\ub525\\uc2dc\\ud06c (deepseek)'\\uac00 \\uc9c0\\ub09c 20\\uc77c \\ub0b4\\ub193\\uc740 AI\\ubaa8\\ub378 \\ub525\\uc2dc\\ud06c R1\\uc774 \\uc804\\uc138\\uacc4\\ub97c \\ub4a4\\ud754\\ub4e4\\uace0 \\uc788\\ub2e4. \\uc9c0\\ub09c 2022\\ub144 \\ucc57GPT \\ucd9c\\uc2dc \\ub54c\\uc640 \\ub9de\\uba39\\ub294 \\ucda9\\uaca9\\uc774\\ub780 \\ud3c9\\uac00\\ub3c4 \\ub098\\uc628\\ub2e4. \\uc911\\uad6d\\uae30\\uc5c5\\uc774 \\uae30\\uc874\\uc758 10\\ubd84\\uc758 1 \\ube44\\uc6a9\\uc73c\\ub85c \\uac1c\\ubc1c\\ud55c AI\\ubaa8\\ub378\\uc774 \\uc624\\ud508AI\\uc758 \\ucd5c\\uc2e0 \\ubaa8\\ub378 (o1)\\ubcf4\\ub2e4 \\ub354 \\ub6f0\\uc5b4\\ub09c \\uc131\\uacfc\\ub97c \\uae30\\ub85d\\ud588\\ub2e4\"}, {\"url\": \"https://www.yna.co.kr/view/AKR20250114115200009\", \"content\": \"AI \\uad00\\ub828 \\uae30\\uc5c5\\ub4e4\\uc758 \\uc591\\uc801 \\uc131\\uc7a5\\ub3c4 \\ub450\\ub4dc\\ub7ec\\uc9c4\\ub2e4. \\uc911\\uad6d \\uacf5\\uc5c5\\uc815\\ubcf4\\ud654\\ubd80\\uc758 \\uc7a5\\uc708\\ubc0d \\ubd80\\ubd80\\uc7a5\\uc740 \\uc9c0\\ub09c\\ud574 11\\uc6d4 \\ub9d0 \\uc911\\uad6d \\uc800\\uc7a5\\uc131 \\uc6b0\\uc804\\uc5d0\\uc11c \\uc5f4\\ub9b0 '2024 \\uc138\\uacc4 \\uc778\\ud130\\ub137 \\uc815\\uc0c1\\ud68c\\uc758'\\uc5d0\\uc11c \\\"\\uc911\\uad6d\\uc758 AI \\uc0b0\\uc5c5\\uc740 \\uae09\\uc18d\\ud788 \\ubc1c\\uc804\\ud558\\uace0 \\uc788\\ub2e4\\\"\\uba74\\uc11c \\\"\\uc911\\uad6d \\ub0b4 AI \\uad00\\ub828 \\uae30\\uc5c5\\uc774 4\\ucc9c500\\uac1c\\ub97c \\ub118\\uc5b4\\uc130\\ub2e4\\\"\\uace0 \\ubc1d\\ud614\\ub2e4.\"}, {\"url\": \"https://www.chosun.com/economy/tech_it/2024/10/26/OA4KQLTCFVEUJI26Q4T76GDGXY/\", \"content\": \"\\uc9c0\\ub09c\\ud574 AI \\ub17c\\ubb38 \\uc218\\ub294 \\uc911\\uad6d\\uacfc\\ud559\\uc6d0\\uacfc \\uce6d\\ud654\\ub300\\uac00 \\uc138\\uacc4 1, 2\\uc704\\ub97c \\ucc28\\uc9c0\\ud588\\ub2e4. \\uc911\\uad6d \\ub0b4 AI \\uad00\\ub828 \\uae30\\uc5c5\\uc740 \\uc62c\\ud574 \\uc0c1\\ubc18\\uae30\\uc5d0\\ub9cc 23\\ub9cc7000\\uacf3\\uc774 \\ub298\\uc5b4 \\ucd1d 167\\ub9cc\\uacf3\\uc73c\\ub85c \\uc9d1\\uacc4\\ub410\\ub2e4. \\uc911\\uad6d \\uc815\\ubd80\\ub294 \\uc9c0\\ub09c 5\\uc6d4 AI \\ubd84\\uc57c '3\\uac1c\\ub144 \\ud589\\ub3d9 \\uacc4\\ud68d'\\ub3c4 \\ubc1d\\ud614\\ub2e4.\"}, {\"url\": \"https://www.yna.co.kr/view/AKR20241203065600009\", \"content\": \"\\uc911\\uad6d \\uc815\\ubd80\\uc758 \\uc801\\uadf9\\uc801\\uc778 \\uc9c0\\uc6d0 \\uc18d\\uc5d0 \\uc911\\uad6d\\uc758 AI \\uc0b0\\uc5c5\\uc774 \\ub9d0 \\uadf8\\ub300\\ub85c '\\uad74\\uae30'\\ud558\\ub294 \\ud615\\uad6d\\uc774\\ub2e4. \\ud1f4\\uc784\\uc744 \\uc55e\\ub454 \\uc870 \\ubc14\\uc774\\ub4e0 \\ud589\\uc815\\ubd80\\ub294 2\\uc77c (\\ud604\\uc9c0\\uc2dc\\uac04) AI\\ub97c \\uac1c\\ubc1c\\ud558\\ub294\\ub370 \\ud544\\uc694\\ud55c \\ud575\\uc2ec\\ubd80\\ud488\\uc778 \\uace0\\ub300\\uc5ed\\ud3ed\\uba54\\ubaa8\\ub9ac (HBM)\\uc758 \\ub300\\uc911\\uad6d \\uc218\\ucd9c\\uc744 \\ud1b5\\uc81c\\ud55c\\ub2e4\\uace0 \\ubc1c\\ud45c\\ud588\\ub2e4.\"}, {\"url\": \"https://news.sbs.co.kr/news/endPage.do?news_id=N1007963873\", \"content\": \"\\uc911\\uad6d \\uc778\\uacf5\\uc9c0\\ub2a5 \\uc2a4\\ud0c0\\ud2b8\\uc5c5 \\ub525\\uc2dc\\ud06c\\uac00 \\ub0b4\\ub193\\uc740 AI \\ubaa8\\ub378 R1\\uc785\\ub2c8\\ub2e4. \\ub300\\ud654\\ucc3d\\uc5d0 \\ubb34\\uc5c7\\uc744 \\ud560 \\uc218 \\uc788\\ub290\\ub0d0\\uace0 \\ubb3b\\uc790, \\uc77c\\ubc18\\uc801\\uc778 \\uc9c8\\ubb38 \\ub2f5\\ubcc0\\ubd80\\ud130, \\ubc88\\uc5ed\\uacfc \\uae00\\uc4f0\\uae30, \\uc218\\ud559\"}]\n",
      "Assistant: 최근 중국 AI 관련 소식은 다음과 같습니다:\n",
      "\n",
      "*   **딥시크 R1 모델:** 중국 AI 스타트업 딥시크에서 개발한 R1 모델이 기존 모델보다 뛰어난 성능을 보여주며 주목받고 있습니다. 이 모델은 기존 모델 개발 비용의 1/10 수준으로 개발되었으며, 오픈AI의 최신 모델보다 더 나은 성능을 기록했다고 합니다.\n",
      "*   **AI 기업 성장:** 중국 내 AI 관련 기업 수가 4,500개를 넘어섰으며, 올해 상반기에만 23만 7천 곳이 증가하여 총 167만 곳으로 집계되었습니다.\n",
      "*   **AI 논문:** 중국과학원과 칭화대가 AI 논문 수에서 세계 1, 2위를 차지했습니다.\n",
      "*   **정부 지원:** 중국 정부는 AI 분야에 대한 적극적인 지원을 하고 있으며, '3개년 행동 계획'을 발표했습니다.\n",
      "*   **미국 수출 통제:** 미국은 AI 개발에 필요한 핵심 부품인 고대역폭메모리(HBM)의 대중국 수출을 통제하고 있습니다.\n",
      "\n",
      "이러한 소식들을 통해 중국 AI 산업이 빠르게 성장하고 있으며, 기술 경쟁력을 강화하고 있음을 알 수 있습니다.\n",
      "\n",
      "User: explane about the deepseek R1 AI\n",
      "Assistant: \n",
      "Assistant: [{\"url\": \"https://builtin.com/artificial-intelligence/deepseek-r1\", \"content\": \"DeepSeek-R1 is an AI model developed by Chinese artificial intelligence startup DeepSeek. DeepSeek-R1, or R1, is an open source language model made by Chinese AI startup DeepSeek that can perform the same text-based tasks as other advanced models, but at a lower cost. DeepSeek-R1 is one of several highly advanced AI models to come out of China, joining those developed by labs like Alibaba and Moonshot AI. R1 is the latest of several AI models DeepSeek has made public. All told, analysts at Jeffries have reportedly estimated that DeepSeek spent $5.6 million to train R1 \\u2014 a drop in the bucket compared to the hundreds of millions, or even billions, of dollars many U.S. companies pour into their AI models.\"}, {\"url\": \"https://www.ibm.com/think/news/deepseek-r1-ai\", \"content\": \"DeepSeek's reasoning AI shows power of small models, efficiently trained | IBM DeepSeek's reasoning AI shows power of small models, efficiently trained A so-called \\\"reasoning model,\\\"\\u00a0DeepSeek-R1\\u00a0is a digital assistant that performs as well as OpenAI\\u2019s o1\\u00a0on certain AI benchmarks for math and coding tasks, was trained with far fewer chips and\\u00a0is approximately\\u00a096% cheaper\\u00a0to use, according to the company. In the case of IBM\\u2019s series of open-sourced Granite models (developed with a MoE architecture), enterprises are able to achieve frontier model performance at a fraction of the cost because they can adapt a large pre-trained model for their specific applications or use cases, effectively creating smaller, fit-for-purpose models.\"}, {\"url\": \"https://techcommunity.microsoft.com/discussions/marketplace-forum/deepseek-r1---now-available-on-azure-ai-foundry-and-github/4372176\", \"content\": \"Microsoft Learn more: DeepSeek R1 is now available on Azure AI Foundry and GitHub | Microsoft Azure Blog Microsoft 365 Microsoft 365 About Microsoft \\\"}},\\\"cachedText({\\\\\\\"lastModified\\\\\\\":\\\\\\\"1737115705000\\\\\\\",\\\\\\\"locale\\\\\\\":\\\\\\\"en-US\\\\\\\",\\\\\\\"namespaces\\\\\\\":[\\\\\\\"components/community/NavbarDropdownToggle\\\\\\\"]})\\\":[{\\\"__ref\\\":\\\"CachedAsset:text:en_US-components/community/NavbarDropdownToggle-1737115705000\\\"}],\\\"cachedText({\\\\\\\"lastModified\\\\\\\":\\\\\\\"1737115705000\\\\\\\",\\\\\\\"locale\\\\\\\":\\\\\\\"en-US\\\\\\\",\\\\\\\"namespaces\\\\\\\":[\\\\\\\"shared/client/components/common/QueryHandler\\\\\\\"]})\\\":[{\\\"__ref\\\":\\\"CachedAsset:text:en_US-shared/client/components/common/QueryHandler-1737115705000\\\"}],\\\"cachedText({\\\\\\\"lastModified\\\\\\\":\\\\\\\"1737115705000\\\\\\\",\\\\\\\"locale\\\\\\\":\\\\\\\"en-US\\\\\\\",\\\\\\\"namespaces\\\\\\\":[\\\\\\\"components/messages/EscalatedMessageBanner\\\\\\\"]})\\\":[{\\\"__ref\\\":\\\"CachedAsset:text:en_US-components/messages/EscalatedMessageBanner-1737115705000\\\"}],\\\"cachedText({\\\\\\\"lastModified\\\\\\\":\\\\\\\"1737115705000\\\\\\\",\\\\\\\"locale\\\\\\\":\\\\\\\"en-US\\\\\\\",\\\\\\\"namespaces\\\\\\\":[\\\\\\\"components/users/UserLink\\\\\\\"]})\\\":[{\\\"__ref\\\":\\\"CachedAsset:text:en_US-components/users/UserLink-1737115705000\\\"}],\\\"cachedText({\\\\\\\"lastModified\\\\\\\":\\\\\\\"1737115705000\\\\\\\",\\\\\\\"locale\\\\\\\":\\\\\\\"en-US\\\\\\\",\\\\\\\"namespaces\\\\\\\":[\\\\\\\"shared/client/components/users/UserRank\\\\\\\"]})\\\":[{\\\"__ref\\\":\\\"CachedAsset:text:en_US-shared/client/components/users/UserRank-1737115705000\\\"}],\\\"cachedText({\\\\\\\"lastModified\\\\\\\":\\\\\\\"1737115705000\\\\\\\",\\\\\\\"locale\\\\\\\":\\\\\\\"en-US\\\\\\\",\\\\\\\"namespaces\\\\\\\":[\\\\\\\"components/messages/MessageTime\\\\\\\"]})\\\":[{\\\"__ref\\\":\\\"CachedAsset:text:en_US-components/messages/MessageTime-1737115705000\\\"}],\\\"cachedText({\\\\\\\"lastModified\\\\\\\":\\\\\\\"1737115705000\\\\\\\",\\\\\\\"locale\\\\\\\":\\\\\\\"en-US\\\\\\\",\\\\\\\"namespaces\\\\\\\":[\\\\\\\"components/messages/MessageSubject\\\\\\\"]})\\\":[{\\\"__ref\\\":\\\"CachedAsset:text:en_US-components/messages/MessageSubject-1737115705000\\\"}],\\\"cachedText({\\\\\\\"lastModified\\\\\\\":\\\\\\\"1737115705000\\\\\\\",\\\\\\\"locale\\\\\\\":\\\\\\\"en-US\\\\\\\",\\\\\\\"namespaces\\\\\\\":[\\\\\\\"components/messages/MessageBody\\\\\\\"]})\\\":[{\\\"__ref\\\":\\\"CachedAsset:text:en_US-components/messages/MessageBody-1737115705000\\\"}],\\\"cachedText({\\\\\\\"lastModified\\\\\\\":\\\\\\\"1737115705000\\\\\\\",\\\\\\\"locale\\\\\\\":\\\\\\\"en-US\\\\\\\",\\\\\\\"namespaces\\\\\\\":[\\\\\\\"components/messages/MessageCustomFields\\\\\\\"]})\\\":[{\\\"__ref\\\":\\\"CachedAsset:text:en_US-components/messages/MessageCustomFields-1737115705000\\\"}],\\\"cachedText({\\\\\\\"lastModified\\\\\\\":\\\\\\\"1737115705000\\\\\\\",\\\\\\\"locale\\\\\\\":\\\\\\\"en-US\\\\\\\",\\\\\\\"namespaces\\\\\\\":[\\\\\\\"components/messages/MessageReplyButton\\\\\\\"]})\\\":[{\\\"__ref\\\":\\\"CachedAsset:text:en_US-components/messages/MessageReplyButton-1737115705000\\\"}],\\\"cachedText({\\\\\\\"lastModified\\\\\\\":\\\\\\\"1737115705000\\\\\\\",\\\\\\\"locale\\\\\\\":\\\\\\\"en-US\\\\\\\",\\\\\\\"namespaces\\\\\\\":[\\\\\\\"shared/client/components/users/UserAvatar\\\\\\\"]})\\\":[{\\\"__ref\\\":\\\"CachedAsset:text:en_US-shared/client/components/users/UserAvatar-1737115705000\\\"}],\\\"cachedText({\\\\\\\"lastModified\\\\\\\":\\\\\\\"1737115705000\\\\\\\",\\\\\\\"locale\\\\\\\":\\\\\\\"en-US\\\\\\\",\\\\\\\"namespaces\\\\\\\":[\\\\\\\"shared/client/components/ranks/UserRankLabel\\\\\\\"]})\\\":[{\\\"__ref\\\":\\\"CachedAsset:text:en_US-shared/client/components/ranks/UserRankLabel-1737115705000\\\"}],\\\"cachedText({\\\\\\\"lastModified\\\\\\\":\\\\\\\"1737115705000\\\\\\\",\\\\\\\"locale\\\\\\\":\\\\\\\"en-US\\\\\\\",\\\\\\\"namespaces\\\\\\\":[\\\\\\\"components/tags/TagView/TagViewChip\\\\\\\"]})\\\":[{\\\"__ref\\\":\\\"CachedAsset:text:en_US-components/tags/TagView/TagViewChip-1737115705000\\\"}]},\\\"CachedAsset:pages-1738147488342\\\":{\\\"__typename\\\":\\\"CachedAsset\\\",\\\"id\\\":\\\"pages-1738147488342\\\",\\\"value\\\":[{\\\"lastUpdatedTime\\\":1738147488342,\\\"localOverride\\\":null,\\\"page\\\":{\\\"id\\\":\\\"BlogViewAllPostsPage\\\",\\\"type\\\":\\\"BLOG\\\",\\\"urlPath\\\":\\\"/category/:categoryId/blog/:boardId/all-posts/(/:after|/:before)?\\\",\\\"__typename\\\":\\\"PageDescriptor\\\"},\\\"__typename\\\":\\\"PageResource\\\"},{\\\"lastUpdatedTime\\\":1738147488342,\\\"localOverride\\\":null,\\\"page\\\":{\\\"id\\\":\\\"CasePortalPage\\\",\\\"type\\\":\\\"CASE_PORTAL\\\",\\\"urlPath\\\":\\\"/caseportal\\\",\\\"__typename\\\":\\\"PageDescriptor\\\"},\\\"__typename\\\":\\\"PageResource\\\"},{\\\"lastUpdatedTime\\\":1738147488342,\\\"localOverride\\\":null,\\\"page\\\":{\\\"id\\\":\\\"CreateGroupHubPage\\\",\\\"type\\\":\\\"GROUP_HUB\\\",\\\"urlPath\\\":\\\"/groups/create\\\",\\\"__typename\\\":\\\"PageDescriptor\\\"},\\\"__typename\\\":\\\"PageResource\\\"},{\\\"lastUpdatedTime\\\":1738147488342,\\\"localOverride\\\":null,\\\"page\\\":{\\\"id\\\":\\\"CaseViewPage\\\",\\\"type\\\":\\\"CASE_DETAILS\\\",\\\"urlPath\\\":\\\"/case/:caseId/:caseNumber\\\",\\\"__typename\\\":\\\"PageDescriptor\\\"},\\\"__typename\\\":\\\"PageResource\\\"},{\\\"lastUpdatedTime\\\":1738147488342,\\\"localOverride\\\":null,\\\"page\\\":{\\\"id\\\":\\\"InboxPage\\\",\\\"type\\\":\\\"COMMUNITY\\\",\\\"urlPath\\\":\\\"/inbox\\\",\\\"__typename\\\":\\\"PageDescriptor\\\"},\\\"__typename\\\":\\\"PageResource\\\"},{\\\"lastUpdatedTime\\\":1738147488342,\\\"localOverride\\\":null,\\\"page\\\":{\\\"id\\\":\\\"HelpFAQPage\\\",\\\"type\\\":\\\"COMMUNITY\\\",\\\"urlPath\\\":\\\"/help\\\",\\\"__typename\\\":\\\"PageDescriptor\\\"},\\\"__typename\\\":\\\"PageResource\\\"},{\\\"lastUpdatedTime\\\":1738147488342,\\\"localOverride\\\":null,\\\"page\\\":{\\\"id\\\":\\\"IdeaMessagePage\\\",\\\"type\\\":\\\"IDEA_POST\\\",\\\"urlPath\\\":\\\"/idea/:boardId/:messageSubject/:messageId\\\",\\\"__typename\\\":\\\"PageDescriptor\\\"},\\\"__typename\\\":\\\"PageResource\\\"},{\\\"lastUpdatedTime\\\":1738147488342,\\\"localOverride\\\":null,\\\"page\\\":{\\\"id\\\":\\\"IdeaViewAllIdeasPage\\\",\\\"type\\\":\\\"IDEA\\\",\\\"urlPath\\\":\\\"/category/:categoryId/ideas/:boardId/all-ideas/(/:after|/:before)?\\\",\\\"__typename\\\":\\\"PageDescriptor\\\"},\\\"__typename\\\":\\\"PageResource\\\"},{\\\"lastUpdatedTime\\\":1738147488342,\\\"localOverride\\\":null,\\\"page\\\":{\\\"id\\\":\\\"LoginPage\\\",\\\"type\\\":\\\"USER\\\",\\\"urlPath\\\":\\\"/signin\\\",\\\"__typename\\\":\\\"PageDescriptor\\\"},\\\"__typename\\\":\\\"PageResource\\\"},{\\\"lastUpdatedTime\\\":1738147488342,\\\"localOverride\\\":null,\\\"page\\\":{\\\"id\\\":\\\"BlogPostPage\\\",\\\"type\\\":\\\"BLOG\\\",\\\"urlPath\\\":\\\"/category/:categoryId/blogs/:boardId/create\\\",\\\"__typename\\\":\\\"PageDescriptor\\\"},\\\"__typename\\\":\\\"PageResource\\\"},{\\\"lastUpdatedTime\\\":1738147488342,\\\"localOverride\\\":null,\\\"page\\\":{\\\"id\\\":\\\"UserBlogPermissions.Page\\\",\\\"type\\\":\\\"COMMUNITY\\\",\\\"urlPath\\\":\\\"/c/user-blog-permissions/page\\\",\\\"__typename\\\":\\\"PageDescriptor\\\"},\\\"__typename\\\":\\\"PageResource\\\"},{\\\"lastUpdatedTime\\\":1738147488342,\\\"localOverride\\\":null,\\\"page\\\":{\\\"id\\\":\\\"ThemeEditorPage\\\",\\\"type\\\":\\\"COMMUNITY\\\",\\\"urlPath\\\":\\\"/designer/themes\\\",\\\"__typename\\\":\\\"PageDescriptor\\\"},\\\"__typename\\\":\\\"PageResource\\\"},{\\\"lastUpdatedTime\\\":1738147488342,\\\"localOverride\\\":null,\\\"page\\\":{\\\"id\\\":\\\"TkbViewAllArticlesPage\\\",\\\"type\\\":\\\"TKB\\\",\\\"urlPath\\\":\\\"/category/:categoryId/kb/:boardId/all-articles/(/:after|/:before)?\\\",\\\"__typename\\\":\\\"PageDescriptor\\\"},\\\"__typename\\\":\\\"PageResource\\\"},{\\\"lastUpdatedTime\\\":1730142000000,\\\"localOverride\\\":null,\\\"page\\\":{\\\"id\\\":\\\"AllEvents\\\",\\\"type\\\":\\\"CUSTOM\\\",\\\"urlPath\\\":\\\"/Events\\\",\\\"__typename\\\":\\\"PageDescriptor\\\"},\\\"__typename\\\":\\\"PageResource\\\"},{\\\"lastUpdatedTime\\\":1738147488342,\\\"localOverride\\\":null,\\\"page\\\":{\\\"id\\\":\\\"OccasionEditPage\\\",\\\"type\\\":\\\"EVENT\\\",\\\"urlPath\\\":\\\"/event/:boardId/:messageSubject/:messageId/edit\\\",\\\"__typename\\\":\\\"PageDescriptor\\\"},\\\"__typename\\\":\\\"PageResource\\\"},{\\\"lastUpdatedTime\\\":1738147488342,\\\"localOverride\\\":null,\\\"page\\\":{\\\"id\\\":\\\"OAuthAuthorizationAllowPage\\\",\\\"type\\\":\\\"USER\\\",\\\"urlPath\\\":\\\"/auth/authorize/allow\\\",\\\"__typename\\\":\\\"PageDescriptor\\\"},\\\"__typename\\\":\\\"PageResource\\\"},{\\\"lastUpdatedTime\\\":1738147488342,\\\"localOverride\\\":null,\\\"page\\\":{\\\"id\\\":\\\"PageEditorPage\\\",\\\"type\\\":\\\"COMMUNITY\\\",\\\"urlPath\\\":\\\"/designer/pages\\\",\\\"__typename\\\":\\\"PageDescriptor\\\"},\\\"__typename\\\":\\\"PageResource\\\"},{\\\"lastUpdatedTime\\\":1738147488342,\\\"localOverride\\\":null,\\\"page\\\":{\\\"id\\\":\\\"PostPage\\\",\\\"type\\\":\\\"COMMUNITY\\\",\\\"urlPath\\\":\\\"/category/:categoryId/:boardId/create\\\",\\\"__typename\\\":\\\"PageDescriptor\\\"},\\\"__typename\\\":\\\"PageResource\\\"},{\\\"lastUpdatedTime\\\":1738147488342,\\\"localOverride\\\":null,\\\"page\\\":{\\\"id\\\":\\\"ForumBoardPage\\\",\\\"type\\\":\\\"FORUM\\\",\\\"urlPath\\\":\\\"/category/:categoryId/discussions/:boardId\\\",\\\"__typename\\\":\\\"PageDescriptor\\\"},\\\"__typename\\\":\\\"PageResource\\\"},{\\\"lastUpdatedTime\\\":1738147488342,\\\"localOverride\\\":null,\\\"page\\\":{\\\"id\\\":\\\"TkbBoardPage\\\",\\\"type\\\":\\\"TKB\\\",\\\"urlPath\\\":\\\"/category/:categoryId/kb/:boardId\\\",\\\"__typename\\\":\\\"PageDescriptor\\\"},\\\"__typename\\\":\\\"PageResource\\\"},{\\\"lastUpdatedTime\\\":1738147488342,\\\"localOverride\\\":null,\\\"page\\\":{\\\"id\\\":\\\"EventPostPage\\\",\\\"type\\\":\\\"EVENT\\\",\\\"urlPath\\\":\\\"/category/:categoryId/events/:boardId/create\\\",\\\"__typename\\\":\\\"PageDescriptor\\\"},\\\"__typename\\\":\\\"PageResource\\\"},{\\\"lastUpdatedTime\\\":1738147488342,\\\"localOverride\\\":null,\\\"page\\\":{\\\"id\\\":\\\"UserBadgesPage\\\",\\\"type\\\":\\\"COMMUNITY\\\",\\\"urlPath\\\":\\\"/users/:login/:userId/badges\\\",\\\"__typename\\\":\\\"PageDescriptor\\\"},\\\"__typename\\\":\\\"PageResource\\\"},{\\\"lastUpdatedTime\\\":1738147488342,\\\"localOverride\\\":null,\\\"page\\\":{\\\"id\\\":\\\"GroupHubMembershipAction\\\",\\\"type\\\":\\\"GROUP_HUB\\\",\\\"urlPath\\\":\\\"/membership/join/:nodeId/:membershipType\\\",\\\"__typename\\\":\\\"PageDescriptor\\\"},\\\"__typename\\\":\\\"PageResource\\\"},{\\\"lastUpdatedTime\\\":1738147488342,\\\"localOverride\\\":null,\\\"page\\\":{\\\"id\\\":\\\"IdeaReplyPage\\\",\\\"type\\\":\\\"IDEA_REPLY\\\",\\\"urlPath\\\":\\\"/idea/:boardId/:messageSubject/:messageId/comments/:replyId\\\",\\\"__typename\\\":\\\"PageDescriptor\\\"},\\\"__typename\\\":\\\"PageResource\\\"},{\\\"lastUpdatedTime\\\":1738147488342,\\\"localOverride\\\":null,\\\"page\\\":{\\\"id\\\":\\\"UserSettingsPage\\\",\\\"type\\\":\\\"USER\\\",\\\"urlPath\\\":\\\"/mysettings/:userSettingsTab\\\",\\\"__typename\\\":\\\"PageDescriptor\\\"},\\\"__typename\\\":\\\"PageResource\\\"},{\\\"lastUpdatedTime\\\":1738147488342,\\\"localOverride\\\":null,\\\"page\\\":{\\\"id\\\":\\\"GroupHubsPage\\\",\\\"type\\\":\\\"GROUP_HUB\\\",\\\"urlPath\\\":\\\"/groups\\\",\\\"__typename\\\":\\\"PageDescriptor\\\"},\\\"__typename\\\":\\\"PageResource\\\"},{\\\"lastUpdatedTime\\\":1738147488342,\\\"localOverride\\\":null,\\\"page\\\":{\\\"id\\\":\\\"ForumPostPage\\\",\\\"type\\\":\\\"FORUM\\\",\\\"urlPath\\\":\\\"/category/:categoryId/discussions/:boardId/create\\\",\\\"__typename\\\":\\\"PageDescriptor\\\"},\\\"__typename\\\":\\\"PageResource\\\"},{\\\"lastUpdatedTime\\\":1738147488342,\\\"localOverride\\\":null,\\\"page\\\":{\\\"id\\\":\\\"OccasionRsvpActionPage\\\",\\\"type\\\":\\\"OCCASION\\\",\\\"urlPath\\\":\\\"/event/:boardId/:messageSubject/:messageId/rsvp/:responseType\\\",\\\"__typename\\\":\\\"PageDescriptor\\\"},\\\"__typename\\\":\\\"PageResource\\\"},{\\\"lastUpdatedTime\\\":1738147488342,\\\"localOverride\\\":null,\\\"page\\\":{\\\"id\\\":\\\"VerifyUserEmailPage\\\",\\\"type\\\":\\\"USER\\\",\\\"urlPath\\\":\\\"/verifyemail/:userId/:verifyEmailToken\\\",\\\"__typename\\\":\\\"PageDescriptor\\\"},\\\"__typename\\\":\\\"PageResource\\\"},{\\\"lastUpdatedTime\\\":1738147488342,\\\"localOverride\\\":null,\\\"page\\\":{\\\"id\\\":\\\"AllOccasionsPage\\\",\\\"type\\\":\\\"OCCASION\\\",\\\"urlPath\\\":\\\"/category/:categoryId/events/:boardId/all-events/(/:after|/:before)?\\\",\\\"__typename\\\":\\\"PageDescriptor\\\"},\\\"__typename\\\":\\\"PageResource\\\"},{\\\"lastUpdatedTime\\\":1738147488342,\\\"localOverride\\\":null,\\\"page\\\":{\\\"id\\\":\\\"EventBoardPage\\\",\\\"type\\\":\\\"EVENT\\\",\\\"urlPath\\\":\\\"/category/:categoryId/events/:boardId\\\",\\\"__typename\\\":\\\"PageDescriptor\\\"},\\\"__typename\\\":\\\"PageResource\\\"},{\\\"lastUpdatedTime\\\":1738147488342,\\\"localOverride\\\":null,\\\"page\\\":{\\\"id\\\":\\\"TkbReplyPage\\\",\\\"type\\\":\\\"TKB_REPLY\\\",\\\"urlPath\\\":\\\"/kb/:boardId/:messageSubject/:messageId/comments/:replyId\\\",\\\"__typename\\\":\\\"PageDescriptor\\\"},\\\"__typename\\\":\\\"PageResource\\\"},{\\\"lastUpdatedTime\\\":1738147488342,\\\"localOverride\\\":null,\\\"page\\\":{\\\"id\\\":\\\"IdeaBoardPage\\\",\\\"type\\\":\\\"IDEA\\\",\\\"urlPath\\\":\\\"/category/:categoryId/ideas/:boardId\\\",\\\"__typename\\\":\\\"PageDescriptor\\\"},\\\"__typename\\\":\\\"PageResource\\\"},{\\\"lastUpdatedTime\\\":1738147488342,\\\"localOverride\\\":null,\\\"page\\\":{\\\"id\\\":\\\"CommunityGuideLinesPage\\\",\\\"type\\\":\\\"COMMUNITY\\\",\\\"urlPath\\\":\\\"/communityguidelines\\\",\\\"__typename\\\":\\\"PageDescriptor\\\"},\\\"__typename\\\":\\\"PageResource\\\"},{\\\"lastUpdatedTime\\\":1738147488342,\\\"localOverride\\\":null,\\\"page\\\":{\\\"id\\\":\\\"CaseCreatePage\\\",\\\"type\\\":\\\"SALESFORCE_CASE_CREATION\\\",\\\"urlPath\\\":\\\"/caseportal/create\\\",\\\"__typename\\\":\\\"PageDescriptor\\\"},\\\"__typename\\\":\\\"PageResource\\\"},{\\\"lastUpdatedTime\\\":1738147488342,\\\"localOverride\\\":null,\\\"page\\\":{\\\"id\\\":\\\"TkbEditPage\\\",\\\"type\\\":\\\"TKB\\\",\\\"urlPath\\\":\\\"/kb/:boardId/:messageSubject/:messageId/edit\\\",\\\"__typename\\\":\\\"PageDescriptor\\\"},\\\"__typename\\\":\\\"PageResource\\\"},{\\\"lastUpdatedTime\\\":1738147488342,\\\"localOverride\\\":null,\\\"page\\\":{\\\"id\\\":\\\"ForgotPasswordPage\\\",\\\"type\\\":\\\"USER\\\",\\\"urlPath\\\":\\\"/forgotpassword\\\",\\\"__typename\\\":\\\"PageDescriptor\\\"},\\\"__typename\\\":\\\"PageResource\\\"},{\\\"lastUpdatedTime\\\":1738147488342,\\\"localOverride\\\":null,\\\"page\\\":{\\\"id\\\":\\\"IdeaEditPage\\\",\\\"type\\\":\\\"IDEA\\\",\\\"urlPath\\\":\\\"/idea/:boardId/:messageSubject/:messageId/edit\\\",\\\"__typename\\\":\\\"PageDescriptor\\\"},\\\"__typename\\\":\\\"PageResource\\\"},{\\\"lastUpdatedTime\\\":1738147488342,\\\"localOverride\\\":null,\\\"page\\\":{\\\"id\\\":\\\"TagPage\\\",\\\"type\\\":\\\"COMMUNITY\\\",\\\"urlPath\\\":\\\"/tag/:tagName\\\",\\\"__typename\\\":\\\"PageDescriptor\\\"},\\\"__typename\\\":\\\"PageResource\\\"},{\\\"lastUpdatedTime\\\":1738147488342,\\\"localOverride\\\":null,\\\"page\\\":{\\\"id\\\":\\\"BlogBoardPage\\\",\\\"type\\\":\\\"BLOG\\\",\\\"urlPath\\\":\\\"/category/:categoryId/blog/:boardId\\\",\\\"__typename\\\":\\\"PageDescriptor\\\"},\\\"__typename\\\":\\\"PageResource\\\"},{\\\"lastUpdatedTime\\\":1738147488342,\\\"localOverride\\\":null,\\\"page\\\":{\\\"id\\\":\\\"OccasionMessagePage\\\",\\\"type\\\":\\\"OCCASION_TOPIC\\\",\\\"urlPath\\\":\\\"/event/:boardId/:messageSubject/:messageId\\\",\\\"__typename\\\":\\\"PageDescriptor\\\"},\\\"__typename\\\":\\\"PageResource\\\"},{\\\"lastUpdatedTime\\\":1738147488342,\\\"localOverride\\\":null,\\\"page\\\":{\\\"id\\\":\\\"ManageContentPage\\\",\\\"type\\\":\\\"COMMUNITY\\\",\\\"urlPath\\\":\\\"/managecontent\\\",\\\"__typename\\\":\\\"PageDescriptor\\\"},\\\"__typename\\\":\\\"PageResource\\\"},{\\\"lastUpdatedTime\\\":173[...]cies\\\",\\\"canReadNode\\\":{\\\"__typename\\\":\\\"PolicyResult\\\",\\\"failureReason\\\":null}}},\\\"Category:category:PublicSector\\\":{\\\"__typename\\\":\\\"Category\\\",\\\"id\\\":\\\"category:PublicSector\\\",\\\"categoryPolicies\\\":{\\\"__typename\\\":\\\"CategoryPolicies\\\",\\\"canReadNode\\\":{\\\"__typename\\\":\\\"PolicyResult\\\",\\\"failureReason\\\":null}}},\\\"Category:category:microsoft365\\\":{\\\"__typename\\\":\\\"Category\\\",\\\"id\\\":\\\"category:microsoft365\\\",\\\"categoryPolicies\\\":{\\\"__typename\\\":\\\"CategoryPolicies\\\",\\\"canReadNode\\\":{\\\"__typename\\\":\\\"PolicyResult\\\",\\\"failureReason\\\":null}}},\\\"Category:category:IoT\\\":{\\\"__typename\\\":\\\"Category\\\",\\\"id\\\":\\\"category:IoT\\\",\\\"categoryPolicies\\\":{\\\"__typename\\\":\\\"CategoryPolicies\\\",\\\"canReadNode\\\":{\\\"__typename\\\":\\\"PolicyResult\\\",\\\"failureReason\\\":null}}},\\\"Category:category:HealthcareAndLifeSciences\\\":{\\\"__typename\\\":\\\"Category\\\",\\\"id\\\":\\\"category:HealthcareAndLifeSciences\\\",\\\"categoryPolicies\\\":{\\\"__typename\\\":\\\"CategoryPolicies\\\",\\\"canReadNode\\\":{\\\"__typename\\\":\\\"PolicyResult\\\",\\\"failureReason\\\":null}}},\\\"Category:category:SMB\\\":{\\\"__typename\\\":\\\"Category\\\",\\\"id\\\":\\\"category:SMB\\\",\\\"categoryPolicies\\\":{\\\"__typename\\\":\\\"CategoryPolicies\\\",\\\"canReadNode\\\":{\\\"__typename\\\":\\\"PolicyResult\\\",\\\"failureReason\\\":null}}},\\\"Category:category:ITOpsTalk\\\":{\\\"__typename\\\":\\\"Category\\\",\\\"id\\\":\\\"category:ITOpsTalk\\\",\\\"categoryPolicies\\\":{\\\"__typename\\\":\\\"CategoryPolicies\\\",\\\"canReadNode\\\":{\\\"__typename\\\":\\\"PolicyResult\\\",\\\"failureReason\\\":null}}},\\\"Category:category:microsoft-endpoint-manager\\\":{\\\"__typename\\\":\\\"Category\\\",\\\"id\\\":\\\"category:microsoft-endpoint-manager\\\",\\\"categoryPolicies\\\":{\\\"__typename\\\":\\\"CategoryPolicies\\\",\\\"canReadNode\\\":{\\\"__typename\\\":\\\"PolicyResult\\\",\\\"failureReason\\\":null}}},\\\"Category:category:MicrosoftLearn\\\":{\\\"__typename\\\":\\\"Category\\\",\\\"id\\\":\\\"category:MicrosoftLearn\\\",\\\"categoryPolicies\\\":{\\\"__typename\\\":\\\"CategoryPolicies\\\",\\\"canReadNode\\\":{\\\"__typename\\\":\\\"PolicyResult\\\",\\\"failureReason\\\":null}}},\\\"Blog:board:MicrosoftLearnBlog\\\":{\\\"__typename\\\":\\\"Blog\\\",\\\"id\\\":\\\"board:MicrosoftLearnBlog\\\",\\\"blogPolicies\\\":{\\\"__typename\\\":\\\"BlogPolicies\\\",\\\"canReadNode\\\":{\\\"__typename\\\":\\\"PolicyResult\\\",\\\"failureReason\\\":null}},\\\"boardPolicies\\\":{\\\"__typename\\\":\\\"BoardPolicies\\\",\\\"canReadNode\\\":{\\\"__typename\\\":\\\"PolicyResult\\\",\\\"failureReason\\\":null}}},\\\"Category:category:AI\\\":{\\\"__typename\\\":\\\"Category\\\",\\\"id\\\":\\\"category:AI\\\",\\\"categoryPolicies\\\":{\\\"__typename\\\":\\\"CategoryPolicies\\\",\\\"canReadNode\\\":{\\\"__typename\\\":\\\"PolicyResult\\\",\\\"failureReason\\\":null}}},\\\"Category:category:MicrosoftMechanics\\\":{\\\"__typename\\\":\\\"Category\\\",\\\"id\\\":\\\"category:MicrosoftMechanics\\\",\\\"categoryPolicies\\\":{\\\"__typename\\\":\\\"CategoryPolicies\\\",\\\"canReadNode\\\":{\\\"__typename\\\":\\\"PolicyResult\\\",\\\"failureReason\\\":null}}},\\\"Category:category:StartupsatMicrosoft\\\":{\\\"__typename\\\":\\\"Category\\\",\\\"id\\\":\\\"category:StartupsatMicrosoft\\\",\\\"categoryPolicies\\\":{\\\"__typename\\\":\\\"CategoryPolicies\\\",\\\"canReadNode\\\":{\\\"__typename\\\":\\\"PolicyResult\\\",\\\"failureReason\\\":null}}},\\\"Category:category:Windows\\\":{\\\"__typename\\\":\\\"Category\\\",\\\"id\\\":\\\"category:Windows\\\",\\\"categoryPolicies\\\":{\\\"__typename\\\":\\\"CategoryPolicies\\\",\\\"canReadNode\\\":{\\\"__typename\\\":\\\"PolicyResult\\\",\\\"failureReason\\\":null}}},\\\"Category:category:microsoft-security\\\":{\\\"__typename\\\":\\\"Category\\\",\\\"id\\\":\\\"category:microsoft-security\\\",\\\"categoryPolicies\\\":{\\\"__typename\\\":\\\"CategoryPolicies\\\",\\\"canReadNode\\\":{\\\"__typename\\\":\\\"PolicyResult\\\",\\\"failureReason\\\":null}}},\\\"CachedAsset:text:en_US-components/community/Navbar-1737115705000\\\":{\\\"__typename\\\":\\\"CachedAsset\\\",\\\"id\\\":\\\"text:en_US-components/community/Navbar-1737115705000\\\",\\\"value\\\":{\\\"community\\\":\\\"Community Home\\\",\\\"inbox\\\":\\\"Inbox\\\",\\\"manageContent\\\":\\\"Manage Content\\\",\\\"tos\\\":\\\"Terms of Service\\\",\\\"forgotPassword\\\":\\\"Forgot Password\\\",\\\"themeEditor\\\":\\\"Theme Editor\\\",\\\"edit\\\":\\\"Edit Navigation Bar\\\",\\\"skipContent\\\":\\\"Skip to content\\\",\\\"gxcuf89792\\\":\\\"Tech Community\\\",\\\"external-1\\\":\\\"Events\\\",\\\"s-m-b\\\":\\\"Small and Medium Businesses\\\",\\\"windows-server\\\":\\\"Windows Server\\\",\\\"education-sector\\\":\\\"Education Sector\\\",\\\"driving-adoption\\\":\\\"Driving Adoption\\\",\\\"microsoft-learn\\\":\\\"Microsoft Learn\\\",\\\"s-q-l-server\\\":\\\"SQL Server\\\",\\\"partner-community\\\":\\\"Microsoft Partner Community\\\",\\\"microsoft365\\\":\\\"Microsoft 365\\\",\\\"external-9\\\":\\\".NET\\\",\\\"external-8\\\":\\\"Teams\\\",\\\"external-7\\\":\\\"Github\\\",\\\"products-services\\\":\\\"Products\\\",\\\"external-6\\\":\\\"Power Platform\\\",\\\"communities-1\\\":\\\"Topics\\\",\\\"external-5\\\":\\\"Microsoft Security\\\",\\\"planner\\\":\\\"Planner\\\",\\\"external-4\\\":\\\"Microsoft 365\\\",\\\"external-3\\\":\\\"Dynamics 365\\\",\\\"azure\\\":\\\"Azure\\\",\\\"healthcare-and-life-sciences\\\":\\\"Healthcare and Life Sciences\\\",\\\"external-2\\\":\\\"Azure\\\",\\\"microsoft-mechanics\\\":\\\"Microsoft Mechanics\\\",\\\"microsoft-learn-1\\\":\\\"Community\\\",\\\"external-10\\\":\\\"Learning Room Directory\\\",\\\"microsoft-learn-blog\\\":\\\"Blog\\\",\\\"windows\\\":\\\"Windows\\\",\\\"i-t-ops-talk\\\":\\\"ITOps Talk\\\",\\\"external-link-1\\\":\\\"View All\\\",\\\"microsoft-securityand-compliance\\\":\\\"Microsoft Security\\\",\\\"public-sector\\\":\\\"Public Sector\\\",\\\"community-info-center\\\":\\\"Lounge\\\",\\\"external-link-2\\\":\\\"View All\\\",\\\"microsoft-teams\\\":\\\"Microsoft Teams\\\",\\\"external\\\":\\\"Blogs\\\",\\\"microsoft-endpoint-manager\\\":\\\"Microsoft Intune and Configuration Manager\\\",\\\"startupsat-microsoft\\\":\\\"Startups at Microsoft\\\",\\\"exchange\\\":\\\"Exchange\\\",\\\"a-i\\\":\\\"AI and Machine Learning\\\",\\\"io-t\\\":\\\"Internet of Things (IoT)\\\",\\\"outlook\\\":\\\"Outlook\\\",\\\"external-link\\\":\\\"Community Hubs\\\",\\\"communities\\\":\\\"Products\\\"},\\\"localOverride\\\":false},\\\"CachedAsset:text:en_US-components/community/NavbarHamburgerDropdown-1737115705000\\\":{\\\"__typename\\\":\\\"CachedAsset\\\",\\\"id\\\":\\\"text:en_US-components/community/NavbarHamburgerDropdown-1737115705000\\\",\\\"value\\\":{\\\"hamburgerLabel\\\":\\\"Side Menu\\\"},\\\"localOverride\\\":false},\\\"CachedAsset:text:en_US-components/community/BrandLogo-1737115705000\\\":{\\\"__typename\\\":\\\"CachedAsset\\\",\\\"id\\\":\\\"text:en_US-components/community/BrandLogo-1737115705000\\\",\\\"value\\\":{\\\"logoAlt\\\":\\\"Khoros\\\",\\\"themeLogoAlt\\\":\\\"Brand Logo\\\"},\\\"localOverride\\\":false},\\\"CachedAsset:text:en_US-components/community/NavbarTextLinks-1737115705000\\\":{\\\"__typename\\\":\\\"CachedAsset\\\",\\\"id\\\":\\\"text:en_US-components/community/NavbarTextLinks-1737115705000\\\",\\\"value\\\":{\\\"more\\\":\\\"More\\\"},\\\"localOverride\\\":false},\\\"CachedAsset:text:en_US-components/authentication/AuthenticationLink-1737115705000\\\":{\\\"__typename\\\":\\\"CachedAsset\\\",\\\"id\\\":\\\"text:en_US-components/authentication/AuthenticationLink-1737115705000\\\",\\\"value\\\":{\\\"title.login\\\":\\\"Sign In\\\",\\\"title.registration\\\":\\\"Register\\\",\\\"title.forgotPassword\\\":\\\"Forgot Password\\\",\\\"title.multiAuthLogin\\\":\\\"Sign In\\\"},\\\"localOverride\\\":false},\\\"CachedAsset:text:en_US-components/nodes/NodeLink-1737115705000\\\":{\\\"__typename\\\":\\\"CachedAsset\\\",\\\"id\\\":\\\"text:en_US-components/nodes/NodeLink-1737115705000\\\",\\\"value\\\":{\\\"place\\\":\\\"Place {name}\\\"},\\\"localOverride\\\":false},\\\"CachedAsset:text:en_US-components/customComponent/CustomComponent-1737115705000\\\":{\\\"__typename\\\":\\\"CachedAsset\\\",\\\"id\\\":\\\"text:en_US-components/customComponent/CustomComponent-1737115705000\\\",\\\"value\\\":{\\\"errorMessage\\\":\\\"Error rendering component id: {customComponentId}\\\",\\\"bannerTitle\\\":\\\"Video provider requires cookies to play the video. Accept to continue or {url} it directly on the provider's site.\\\",\\\"buttonTitle\\\":\\\"Accept\\\",\\\"urlText\\\":\\\"watch\\\"},\\\"localOverride\\\":false},\\\"CachedAsset:text:en_US-components/messages/MessageCustomFields-1737115705000\\\":{\\\"__typename\\\":\\\"CachedAsset\\\",\\\"id\\\":\\\"text:en_US-components/messages/MessageCustomFields-1737115705000\\\",\\\"value\\\":{\\\"CustomField.default.label\\\":\\\"Value of {name}\\\"},\\\"localOverride\\\":false},\\\"CachedAsset:text:en_US-components/messages/MessageReplyButton-1737115705000\\\":{\\\"__typename\\\":\\\"CachedAsset\\\",\\\"id\\\":\\\"text:en_US-components/messages/MessageReplyButton-1737115705000\\\",\\\"value\\\":{\\\"repliesCount\\\":\\\"{count}\\\",\\\"title\\\":\\\"Reply\\\",\\\"title@board:BLOG@message:root\\\":\\\"Comment\\\",\\\"title@board:TKB@message:root\\\":\\\"Comment\\\",\\\"title@board:IDEA@message:root\\\":\\\"Comment\\\",\\\"title@board:OCCASION@message:root\\\":\\\"Comment\\\"},\\\"localOverride\\\":false},\\\"CachedAsset:text:en_US-shared/client/components/users/UserAvatar-1737115705000\\\":{\\\"__typename\\\":\\\"CachedAsset\\\",\\\"id\\\":\\\"text:en_US-shared/client/components/users/UserAvatar-1737115705000\\\",\\\"value\\\":{\\\"altText\\\":\\\"{login}'s avatar\\\",\\\"altTextGeneric\\\":\\\"User's avatar\\\"},\\\"localOverride\\\":false},\\\"CachedAsset:text:en_US-shared/client/components/ranks/UserRankLabel-1737115705000\\\":{\\\"__typename\\\":\\\"CachedAsset\\\",\\\"id\\\":\\\"text:en_US-shared/client/components/ranks/UserRankLabel-1737115705000\\\",\\\"value\\\":{\\\"altTitle\\\":\\\"Icon for {rankName} rank\\\"},\\\"localOverride\\\":false},\\\"CachedAsset:text:en_US-components/tags/TagView/TagViewChip-1737115705000\\\":{\\\"__typename\\\":\\\"CachedAsset\\\",\\\"id\\\":\\\"text:en_US-components/tags/TagView/TagViewChip-1737115705000\\\",\\\"value\\\":{\\\"tagLabelName\\\":\\\"Tag name {tagName}\\\"},\\\"localOverride\\\":false}}}},\\\"page\\\":\\\"/forums/ForumMessagePage/ForumMessagePage\\\",\\\"query\\\":{\\\"boardId\\\":\\\"marketplace-forum\\\",\\\"messageSubject\\\":\\\"deepseek-r1---now-available-on-azure-ai-foundry-and-github\\\",\\\"messageId\\\":\\\"4372176\\\"},\\\"buildId\\\":\\\"fgNKhcnISUB1E49u99qsx\\\",\\\"runtimeConfig\\\":{\\\"buildInformationVisible\\\":false,\\\"logLevelApp\\\":\\\"info\\\",\\\"logLevelMetrics\\\":\\\"info\\\",\\\"openTelemetryClientEnabled\\\":false,\\\"openTelemetryConfigName\\\":\\\"o365\\\",\\\"openTelemetryServiceVersion\\\":\\\"24.11.0\\\",\\\"openTelemetryUniverse\\\":\\\"prod\\\",\\\"openTelemetryCollector\\\":\\\"http://localhost:4318\\\",\\\"openTelemetryRouteChangeAllowedTime\\\":\\\"5000\\\",\\\"apolloDevToolsEnabled\\\":false},\\\"isFallback\\\":false,\\\"isExperimentalCompile\\\":false,\\\"dynamicIds\\\":[\\\"./components/community/Navbar/NavbarWidget.tsx\\\",\\\"./components/community/Breadcrumb/BreadcrumbWidget.tsx\\\",\\\"./components/customComponent/CustomComponent/CustomComponent.tsx\\\",\\\"./components/messages/TopicWithThreadedReplyListWidget/TopicWithThreadedReplyListWidget.tsx\\\",\\\"./components/external/components/ExternalComponent.tsx\\\",\\\"./components/messages/MessageView/MessageViewStandard/MessageViewStandard.tsx\\\",\\\"../shared/client/components/common/List/UnwrappedList/UnwrappedList.tsx\\\",\\\"./components/tags/TagView/TagView.tsx\\\",\\\"./components/tags/TagView/TagViewChip/TagViewChip.tsx\\\"],\\\"appGip\\\":true,\\\"scriptLoader\\\":[{\\\"id\\\":\\\"analytics\\\",\\\"src\\\":\\\"https://techcommunity.microsoft.com/t5/s/gxcuf89792/pagescripts/1729284608000/analytics.js?page.id=ForumMessagePage&entity.id=board%3Amarketplace-forum&entity.id=message%3A4372176\\\",\\\"strategy\\\":\\\"afterInteractive\\\"}]}\"}, {\"url\": \"https://azure.microsoft.com/en-us/blog/deepseek-r1-is-now-available-on-azure-ai-foundry-and-github/\", \"content\": \"DeepSeek R1 is now available on Azure AI Foundry and GitHub | Microsoft Azure Blog Azure Azure Azure Azure AI Services Azure AI Foundry Azure AI Content Safety Azure AI Services Azure AI Foundry Azure AI Search Azure AI Azure AI Infrastructure Azure AI Responsible AI with Azure Azure AI Infrastructure Azure Azure AI Azure AI Foundry As part of Azure AI Foundry, DeepSeek R1 is accessible on a trusted, scalable, and enterprise-ready platform, enabling businesses to seamlessly integrate advanced AI while meeting SLAs, security, and responsible AI commitments\\u2014all backed by Microsoft\\u2019s reliability and innovation. Azure AI Foundry By Microsoft Azure Azure AI solutions What is Azure?\"}, {\"url\": \"https://aws.amazon.com/blogs/machine-learning/deepseek-r1-model-now-available-in-amazon-bedrock-marketplace-and-amazon-sagemaker-jumpstart/\", \"content\": \"DeepSeek-R1 model now available in Amazon Bedrock Marketplace and Amazon SageMaker JumpStart | AWS Machine Learning Blog Today, we are announcing that DeepSeek AI\\u2019s first-generation frontier model, DeepSeek-R1, is available through Amazon SageMaker JumpStart and Amazon Bedrock Marketplace to deploy for inference. You can deploy DeepSeek-R1 model either through SageMaker JumpStart or Bedrock Marketplace. This allows you to apply guardrails to evaluate user inputs and model responses deployed on Amazon Bedrock Marketplace and SageMaker JumpStart. The following code example demonstrates how to perform inference using a deployed DeepSeek-R1 model through Amazon Bedrock using the invoke_model and ApplyGuardrail API. In this post, we explored how you can access and deploy the DeepSeek-R1 model using Bedrock Marketplace and SageMaker JumpStart.\"}]\n",
      "Assistant: DeepSeek R1 is an open-source language model developed by the Chinese AI company DeepSeek. Here's a breakdown of what makes it notable:\n",
      "\n",
      "**Key Features and Characteristics:**\n",
      "\n",
      "*   **Cost-Effective:** DeepSeek R1 is designed to perform comparably to other advanced language models but at a significantly lower cost. It was reportedly trained for $5.6 million, which is much less than the hundreds of millions or billions spent on training some other models.\n",
      "*   **Reasoning Capabilities:** It's considered a \"reasoning model,\" meaning it's designed to handle tasks that require logical thought, such as math and coding.\n",
      "*   **Performance:** DeepSeek claims that R1 performs as well as OpenAI's models on certain AI benchmarks for math and coding tasks.\n",
      "*   **Efficient Training:** The model was trained using fewer chips than many comparable models, contributing to its lower cost.\n",
      "*   **Open Source:** DeepSeek R1 is open source, making it accessible for developers and researchers to use and build upon.\n",
      "\n",
      "**Availability:**\n",
      "\n",
      "*   **Azure AI Foundry:** DeepSeek R1 is available on Microsoft's Azure AI Foundry, a platform that provides a trusted and scalable environment for businesses to integrate advanced AI.\n",
      "*   **GitHub:** The model is also available on GitHub, allowing for broader access and community contributions.\n",
      "*   **Amazon Bedrock and SageMaker:** It's also accessible through Amazon Bedrock Marketplace and Amazon SageMaker JumpStart.\n",
      "\n",
      "**Significance:**\n",
      "\n",
      "*   **Democratization of AI:** DeepSeek R1's lower cost and open-source nature could make advanced AI more accessible to a wider range of users and organizations.\n",
      "*   **Competition:** It represents a significant advancement in AI coming out of China, joining other models developed by companies like Alibaba and Moonshot AI.\n",
      "*   **Efficient AI:** The model demonstrates that high performance can be achieved with more efficient training methods and smaller models.\n",
      "\n",
      "In summary, DeepSeek R1 is a powerful and cost-effective open-source language model that is making waves in the AI community due to its performance, efficiency, and accessibility.\n",
      "\n",
      "User: q\n",
      "대화 종료!\n"
     ]
    }
   ],
   "source": [
    "from langchain_core.messages import BaseMessage\n",
    "\n",
    "while True:\n",
    "    user_input = input(\"User: \")\n",
    "    print(\"User:\", user_input)\n",
    "    if user_input.lower() in [\"quit\", \"exit\", \"q\"]:\n",
    "        print(\"대화 종료!\")\n",
    "        break\n",
    "    for event in graph.stream({\"messages\": [(\"user\", user_input)]}):\n",
    "        for value in event.values():\n",
    "            if isinstance(value[\"messages\"][-1], BaseMessage):\n",
    "                print(\"Assistant:\", value[\"messages\"][-1].content)"
   ]
  },
  {
   "cell_type": "markdown",
   "id": "8b5e9a9d-db89-43e3-96c7-2a7c0fe631c1",
   "metadata": {},
   "source": [
    "## All in one!"
   ]
  },
  {
   "cell_type": "code",
   "execution_count": null,
   "id": "8755d551-160e-4f8f-afac-0e4e07ca79ff",
   "metadata": {},
   "outputs": [],
   "source": [
    "from typing import Annotated\n",
    "\n",
    "from langchain_anthropic import ChatAnthropic\n",
    "from langchain_community.tools.tavily_search import TavilySearchResults\n",
    "from langchain_core.messages import BaseMessage\n",
    "from typing_extensions import TypedDict\n",
    "\n",
    "from langgraph.graph import StateGraph\n",
    "from langgraph.graph.message import add_messages\n",
    "from langgraph.prebuilt import ToolNode, tools_condition\n",
    "\n",
    "\n",
    "class State(TypedDict):\n",
    "    messages: Annotated[list, add_messages]\n",
    "\n",
    "\n",
    "graph_builder = StateGraph(State)\n",
    "\n",
    "\n",
    "tool = TavilySearchResults(max_results=2)\n",
    "tools = [tool]\n",
    "llm = ChatAnthropic(model=\"claude-3-haiku-20240307\")\n",
    "llm_with_tools = llm.bind_tools(tools)\n",
    "\n",
    "\n",
    "def chatbot(state: State):\n",
    "    return {\"messages\": [llm_with_tools.invoke(state[\"messages\"])]}\n",
    "\n",
    "\n",
    "graph_builder.add_node(\"chatbot\", chatbot)\n",
    "\n",
    "tool_node = ToolNode(tools=[tool])\n",
    "graph_builder.add_node(\"tools\", tool_node)\n",
    "\n",
    "graph_builder.add_conditional_edges(\n",
    "    \"chatbot\",\n",
    "    tools_condition,\n",
    ")\n",
    "# Any time a tool is called, we return to the chatbot to decide the next step\n",
    "graph_builder.add_edge(\"tools\", \"chatbot\")\n",
    "graph_builder.set_entry_point(\"chatbot\")\n",
    "graph = graph_builder.compile()"
   ]
  },
  {
   "cell_type": "code",
   "execution_count": 85,
   "id": "670b9ef7",
   "metadata": {},
   "outputs": [
    {
     "name": "stderr",
     "output_type": "stream",
     "text": [
      "Key 'title' is not supported in schema, ignoring\n",
      "Key 'title' is not supported in schema, ignoring\n"
     ]
    }
   ],
   "source": [
    "#gemini\n",
    "from typing import Annotated\n",
    "\n",
    "#gemini chatbot setting\n",
    "from langchain_google_genai import ChatGoogleGenerativeAI\n",
    "\n",
    "from langchain_community.tools.tavily_search import TavilySearchResults\n",
    "from langchain_core.messages import BaseMessage\n",
    "from typing_extensions import TypedDict\n",
    "\n",
    "from langgraph.graph import StateGraph\n",
    "from langgraph.graph.message import add_messages\n",
    "from langgraph.prebuilt import ToolNode, tools_condition\n",
    "\n",
    "\n",
    "class State(TypedDict):\n",
    "    messages: Annotated[list, add_messages]\n",
    "\n",
    "\n",
    "graph_builder = StateGraph(State)\n",
    "\n",
    "\n",
    "tool = TavilySearchResults(max_results=5)\n",
    "tools = [tool]\n",
    "llm = ChatGoogleGenerativeAI(model=\"gemini-2.0-flash-exp\", temperature=0)\n",
    "llm_with_tools = llm.bind_tools(tools)\n",
    "\n",
    "\n",
    "def chatbot(state: State):\n",
    "    return {\"messages\": [llm_with_tools.invoke(state[\"messages\"])]}\n",
    "\n",
    "\n",
    "graph_builder.add_node(\"chatbot\", chatbot)\n",
    "\n",
    "tool_node = ToolNode(tools=[tool])\n",
    "graph_builder.add_node(\"tools\", tool_node)\n",
    "\n",
    "graph_builder.add_conditional_edges(\n",
    "    \"chatbot\",\n",
    "    tools_condition,\n",
    ")\n",
    "# Any time a tool is called, we return to the chatbot to decide the next step\n",
    "graph_builder.add_edge(\"tools\", \"chatbot\")\n",
    "graph_builder.set_entry_point(\"chatbot\")\n",
    "graph = graph_builder.compile()"
   ]
  },
  {
   "cell_type": "markdown",
   "id": "ae45f2aa-396f-4f3f-848b-7750611617f8",
   "metadata": {},
   "source": [
    "## Part 3: 메모리 추가하기\n",
    "\n",
    "우리의 챗봇은 이제 도구를 사용하여 사용자 질문에 답할 수 있지만, 이전 상호작용의 맥락을 기억하지 못합니다. 이는 일관성 있는 여러 턴의 대화를 하는 데 한계를 가져옵니다.\n",
    "\n",
    "LangGraph는 **지속적인 체크포인트 저장**을 통해 이 문제를 해결합니다. 그래프를 컴파일할 때 `checkpointer`를 제공하고, 그래프를 호출할 때 `thread_id`를 제공하면, LangGraph는 각 단계 후 상태를 자동으로 저장합니다. 동일한 `thread_id`를 사용하여 그래프를 다시 호출하면, 그래프는 저장된 상태를 로드하여 챗봇이 이전 상태에서 계속 작업할 수 있게 합니다.\n",
    "\n",
    "나중에 **체크포인트 저장**이 단순한 대화 메모리보다 _훨씬_ 더 강력하다는 것을 알게 될 것입니다. 이는 언제든지 복잡한 상태를 저장하고 복구하여 오류 복구, 인간-상호작용 워크플로우, 시간 여행 상호작용 등을 가능하게 합니다. 하지만 너무 앞서 나가기 전에, 체크포인트를 추가하여 여러 턴의 대화를 가능하게 해 봅시다.\n",
    "\n",
    "시작하려면, `SqliteSaver` 체크포인터를 생성하세요."
   ]
  },
  {
   "cell_type": "code",
   "execution_count": 64,
   "id": "0c31f0b2",
   "metadata": {},
   "outputs": [],
   "source": [
    "# pip install langgraph-checkpoint-sqlite"
   ]
  },
  {
   "cell_type": "code",
   "execution_count": 65,
   "id": "6baafdf6-6803-4305-9381-9dc970468a4d",
   "metadata": {},
   "outputs": [],
   "source": [
    "from langgraph.checkpoint.sqlite import SqliteSaver\n",
    "\n",
    "# In memory:\n",
    "memory = SqliteSaver.from_conn_string(\":memory:\")\n",
    "\n",
    "# To disk:\n",
    "# memory = SqliteSaver.from_conn_string(\"checkpoints.sqlite\")"
   ]
  },
  {
   "cell_type": "markdown",
   "id": "08d3d11a-1b42-4cbb-8e11-2a4294263d90",
   "metadata": {},
   "source": [
    "우리는 Sqlite DB 경로로 `:memory`를 지정했습니다. 이는 튜토리얼을 위해 편리한데, 모든 것을 메모리에 저장합니다. 실제 응용 프로그램에서는 이를 변경하여 자체 DB에 연결하거나 다른 체크포인터 클래스를 사용하는 것이 좋습니다.\n",
    "\n",
    "다음으로 그래프를 정의하세요. 이미 `BasicToolNode`를 직접 구축했으므로, LangGraph의 사전 구축된 `ToolNode`와 `tools_condition`으로 이를 교체할 것입니다. 이들은 병렬 API 실행과 같은 유용한 기능을 제공합니다. 그 외의 내용은 모두 2부에서 복사해온 것입니다."
   ]
  },
  {
   "cell_type": "code",
   "execution_count": 21,
   "id": "e6a51f1e-00de-4701-8931-de8cf19294ae",
   "metadata": {},
   "outputs": [],
   "source": [
    "from typing import Annotated\n",
    "\n",
    "from langchain_anthropic import ChatAnthropic\n",
    "from langchain_community.tools.tavily_search import TavilySearchResults\n",
    "from langchain_core.messages import BaseMessage\n",
    "from typing_extensions import TypedDict\n",
    "\n",
    "from langgraph.graph import StateGraph\n",
    "from langgraph.graph.message import add_messages\n",
    "from langgraph.prebuilt import ToolNode, tools_condition\n",
    "\n",
    "\n",
    "class State(TypedDict):\n",
    "    messages: Annotated[list, add_messages]\n",
    "\n",
    "\n",
    "graph_builder = StateGraph(State)\n",
    "\n",
    "\n",
    "tool = TavilySearchResults(max_results=2)\n",
    "tools = [tool]\n",
    "llm = ChatAnthropic(model=\"claude-3-haiku-20240307\")\n",
    "llm_with_tools = llm.bind_tools(tools)\n",
    "\n",
    "\n",
    "def chatbot(state: State):\n",
    "    return {\"messages\": [llm_with_tools.invoke(state[\"messages\"])]}\n",
    "\n",
    "\n",
    "graph_builder.add_node(\"chatbot\", chatbot)\n",
    "\n",
    "tool_node = ToolNode(tools=[tool])\n",
    "graph_builder.add_node(\"tools\", tool_node)\n",
    "\n",
    "graph_builder.add_conditional_edges(\n",
    "    \"chatbot\",\n",
    "    tools_condition,\n",
    ")\n",
    "# Any time a tool is called, we return to the chatbot to decide the next step\n",
    "graph_builder.add_edge(\"tools\", \"chatbot\")\n",
    "graph_builder.set_entry_point(\"chatbot\")"
   ]
  },
  {
   "cell_type": "code",
   "execution_count": 86,
   "id": "eb488b16",
   "metadata": {},
   "outputs": [
    {
     "name": "stderr",
     "output_type": "stream",
     "text": [
      "Key 'title' is not supported in schema, ignoring\n",
      "Key 'title' is not supported in schema, ignoring\n"
     ]
    },
    {
     "data": {
      "text/plain": [
       "<langgraph.graph.state.StateGraph at 0x20379d3ee90>"
      ]
     },
     "execution_count": 86,
     "metadata": {},
     "output_type": "execute_result"
    }
   ],
   "source": [
    "#gemini\n",
    "from typing import Annotated\n",
    "\n",
    "#gemini chatbot setting\n",
    "from langchain_google_genai import ChatGoogleGenerativeAI\n",
    "\n",
    "from langchain_community.tools.tavily_search import TavilySearchResults\n",
    "from langchain_core.messages import BaseMessage\n",
    "from typing_extensions import TypedDict\n",
    "\n",
    "from langgraph.graph import StateGraph\n",
    "from langgraph.graph.message import add_messages\n",
    "from langgraph.prebuilt import ToolNode, tools_condition\n",
    "\n",
    "\n",
    "class State(TypedDict):\n",
    "    messages: Annotated[list, add_messages]\n",
    "\n",
    "\n",
    "graph_builder = StateGraph(State)\n",
    "\n",
    "\n",
    "tool = TavilySearchResults(max_results=2)\n",
    "tools = [tool]\n",
    "llm = ChatGoogleGenerativeAI(model=\"gemini-2.0-flash-exp\", temperature=0)\n",
    "llm_with_tools = llm.bind_tools(tools)\n",
    "\n",
    "\n",
    "def chatbot(state: State):\n",
    "    return {\"messages\": [llm_with_tools.invoke(state[\"messages\"])]}\n",
    "\n",
    "\n",
    "graph_builder.add_node(\"chatbot\", chatbot)\n",
    "\n",
    "tool_node = ToolNode(tools=[tool])\n",
    "graph_builder.add_node(\"tools\", tool_node)\n",
    "\n",
    "graph_builder.add_conditional_edges(\n",
    "    \"chatbot\",\n",
    "    tools_condition,\n",
    ")\n",
    "# Any time a tool is called, we return to the chatbot to decide the next step\n",
    "graph_builder.add_edge(\"tools\", \"chatbot\")\n",
    "graph_builder.set_entry_point(\"chatbot\")"
   ]
  },
  {
   "cell_type": "code",
   "execution_count": 87,
   "id": "dbcfde0f",
   "metadata": {},
   "outputs": [],
   "source": [
    "graph = graph_builder.compile()"
   ]
  },
  {
   "cell_type": "markdown",
   "id": "8a292dfe-764f-4561-90aa-71317d679d3e",
   "metadata": {},
   "source": [
    "Finally, compile the graph with the provided checkpointer."
   ]
  },
  {
   "cell_type": "code",
   "execution_count": 90,
   "id": "a06548bf-81fa-4436-b4c1-f68601fb4187",
   "metadata": {},
   "outputs": [],
   "source": [
    "graph = graph_builder.compile(checkpointer=memory)"
   ]
  },
  {
   "cell_type": "markdown",
   "id": "df01805c-4458-4474-b13b-59ecfe228f12",
   "metadata": {},
   "source": [
    "Notice the connectivity of the graph hasn't changed since Part 2. All we are doing is checkpointing the `State` as the graph works through each node."
   ]
  },
  {
   "cell_type": "code",
   "execution_count": 91,
   "id": "761d15fb-d5e2-4d50-a630-126d77e77294",
   "metadata": {},
   "outputs": [
    {
     "data": {
      "image/png": "[encoded data removed]",
      "text/plain": [
       "<IPython.core.display.Image object>"
      ]
     },
     "metadata": {},
     "output_type": "display_data"
    }
   ],
   "source": [
    "visualize_graph(graph)"
   ]
  },
  {
   "cell_type": "code",
   "execution_count": 92,
   "id": "be7b5abb-04ef-4d53-83d1-d4d3139cc43a",
   "metadata": {},
   "outputs": [],
   "source": [
    "config = {\"configurable\": {\"thread_id\": \"1\"}}"
   ]
  },
  {
   "cell_type": "code",
   "execution_count": 94,
   "id": "76e4645f",
   "metadata": {},
   "outputs": [
    {
     "name": "stdout",
     "output_type": "stream",
     "text": [
      "User:  안녕\n"
     ]
    },
    {
     "ename": "AttributeError",
     "evalue": "'_GeneratorContextManager' object has no attribute 'get_next_version'",
     "output_type": "error",
     "traceback": [
      "\u001b[1;31m---------------------------------------------------------------------------\u001b[0m",
      "\u001b[1;31mAttributeError\u001b[0m                            Traceback (most recent call last)",
      "Cell \u001b[1;32mIn[94], line 10\u001b[0m\n\u001b[0;32m      8\u001b[0m     \u001b[38;5;28mprint\u001b[39m(\u001b[38;5;124m\"\u001b[39m\u001b[38;5;124m대화 종료.\u001b[39m\u001b[38;5;124m\"\u001b[39m)\n\u001b[0;32m      9\u001b[0m     \u001b[38;5;28;01mbreak\u001b[39;00m\n\u001b[1;32m---> 10\u001b[0m ai \u001b[38;5;241m=\u001b[39m \u001b[43mgraph\u001b[49m\u001b[38;5;241;43m.\u001b[39;49m\u001b[43minvoke\u001b[49m\u001b[43m(\u001b[49m\u001b[43m{\u001b[49m\u001b[38;5;124;43m\"\u001b[39;49m\u001b[38;5;124;43mmessages\u001b[39;49m\u001b[38;5;124;43m\"\u001b[39;49m\u001b[43m:\u001b[49m\u001b[43m \u001b[49m\u001b[43m[\u001b[49m\u001b[43mHumanMessage\u001b[49m\u001b[43m(\u001b[49m\u001b[43mcontent\u001b[49m\u001b[38;5;241;43m=\u001b[39;49m\u001b[43muser_input\u001b[49m\u001b[43m)\u001b[49m\u001b[43m]\u001b[49m\u001b[43m}\u001b[49m\u001b[43m,\u001b[49m\u001b[43mconfig\u001b[49m\u001b[38;5;241;43m=\u001b[39;49m\u001b[43mconfig\u001b[49m\u001b[43m)\u001b[49m\n\u001b[0;32m     11\u001b[0m \u001b[38;5;66;03m#ai = graph.invoke({\"messages\": [HumanMessage(content=user_input,id='human-0')]})\u001b[39;00m\n\u001b[0;32m     12\u001b[0m \u001b[38;5;28mprint\u001b[39m(\u001b[38;5;124m\"\u001b[39m\u001b[38;5;124mAI: \u001b[39m\u001b[38;5;124m\"\u001b[39m,ai[\u001b[38;5;124m'\u001b[39m\u001b[38;5;124mmessages\u001b[39m\u001b[38;5;124m'\u001b[39m][\u001b[38;5;241m-\u001b[39m\u001b[38;5;241m1\u001b[39m]\u001b[38;5;241m.\u001b[39mcontent)\n",
      "File \u001b[1;32mc:\\ProgramData\\anaconda3\\envs\\py31012\\lib\\site-packages\\langgraph\\pregel\\__init__.py:1961\u001b[0m, in \u001b[0;36mPregel.invoke\u001b[1;34m(self, input, config, stream_mode, output_keys, interrupt_before, interrupt_after, debug, **kwargs)\u001b[0m\n\u001b[0;32m   1959\u001b[0m \u001b[38;5;28;01melse\u001b[39;00m:\n\u001b[0;32m   1960\u001b[0m     chunks \u001b[38;5;241m=\u001b[39m []\n\u001b[1;32m-> 1961\u001b[0m \u001b[38;5;28;01mfor\u001b[39;00m chunk \u001b[38;5;129;01min\u001b[39;00m \u001b[38;5;28mself\u001b[39m\u001b[38;5;241m.\u001b[39mstream(\n\u001b[0;32m   1962\u001b[0m     \u001b[38;5;28minput\u001b[39m,\n\u001b[0;32m   1963\u001b[0m     config,\n\u001b[0;32m   1964\u001b[0m     stream_mode\u001b[38;5;241m=\u001b[39mstream_mode,\n\u001b[0;32m   1965\u001b[0m     output_keys\u001b[38;5;241m=\u001b[39moutput_keys,\n\u001b[0;32m   1966\u001b[0m     interrupt_before\u001b[38;5;241m=\u001b[39minterrupt_before,\n\u001b[0;32m   1967\u001b[0m     interrupt_after\u001b[38;5;241m=\u001b[39minterrupt_after,\n\u001b[0;32m   1968\u001b[0m     debug\u001b[38;5;241m=\u001b[39mdebug,\n\u001b[0;32m   1969\u001b[0m     \u001b[38;5;241m*\u001b[39m\u001b[38;5;241m*\u001b[39mkwargs,\n\u001b[0;32m   1970\u001b[0m ):\n\u001b[0;32m   1971\u001b[0m     \u001b[38;5;28;01mif\u001b[39;00m stream_mode \u001b[38;5;241m==\u001b[39m \u001b[38;5;124m\"\u001b[39m\u001b[38;5;124mvalues\u001b[39m\u001b[38;5;124m\"\u001b[39m:\n\u001b[0;32m   1972\u001b[0m         latest \u001b[38;5;241m=\u001b[39m chunk\n",
      "File \u001b[1;32mc:\\ProgramData\\anaconda3\\envs\\py31012\\lib\\site-packages\\langgraph\\pregel\\__init__.py:1614\u001b[0m, in \u001b[0;36mPregel.stream\u001b[1;34m(self, input, config, stream_mode, output_keys, interrupt_before, interrupt_after, debug, subgraphs)\u001b[0m\n\u001b[0;32m   1610\u001b[0m \u001b[38;5;28;01mif\u001b[39;00m \u001b[38;5;124m\"\u001b[39m\u001b[38;5;124mcustom\u001b[39m\u001b[38;5;124m\"\u001b[39m \u001b[38;5;129;01min\u001b[39;00m stream_modes:\n\u001b[0;32m   1611\u001b[0m     config[CONF][CONFIG_KEY_STREAM_WRITER] \u001b[38;5;241m=\u001b[39m \u001b[38;5;28;01mlambda\u001b[39;00m c: stream\u001b[38;5;241m.\u001b[39mput(\n\u001b[0;32m   1612\u001b[0m         ((), \u001b[38;5;124m\"\u001b[39m\u001b[38;5;124mcustom\u001b[39m\u001b[38;5;124m\"\u001b[39m, c)\n\u001b[0;32m   1613\u001b[0m     )\n\u001b[1;32m-> 1614\u001b[0m \u001b[38;5;28;01mwith\u001b[39;00m \u001b[43mSyncPregelLoop\u001b[49m\u001b[43m(\u001b[49m\n\u001b[0;32m   1615\u001b[0m \u001b[43m    \u001b[49m\u001b[38;5;28;43minput\u001b[39;49m\u001b[43m,\u001b[49m\n\u001b[0;32m   1616\u001b[0m \u001b[43m    \u001b[49m\u001b[43mstream\u001b[49m\u001b[38;5;241;43m=\u001b[39;49m\u001b[43mStreamProtocol\u001b[49m\u001b[43m(\u001b[49m\u001b[43mstream\u001b[49m\u001b[38;5;241;43m.\u001b[39;49m\u001b[43mput\u001b[49m\u001b[43m,\u001b[49m\u001b[43m \u001b[49m\u001b[43mstream_modes\u001b[49m\u001b[43m)\u001b[49m\u001b[43m,\u001b[49m\n\u001b[0;32m   1617\u001b[0m \u001b[43m    \u001b[49m\u001b[43mconfig\u001b[49m\u001b[38;5;241;43m=\u001b[39;49m\u001b[43mconfig\u001b[49m\u001b[43m,\u001b[49m\n\u001b[0;32m   1618\u001b[0m \u001b[43m    \u001b[49m\u001b[43mstore\u001b[49m\u001b[38;5;241;43m=\u001b[39;49m\u001b[43mstore\u001b[49m\u001b[43m,\u001b[49m\n\u001b[0;32m   1619\u001b[0m \u001b[43m    \u001b[49m\u001b[43mcheckpointer\u001b[49m\u001b[38;5;241;43m=\u001b[39;49m\u001b[43mcheckpointer\u001b[49m\u001b[43m,\u001b[49m\n\u001b[0;32m   1620\u001b[0m \u001b[43m    \u001b[49m\u001b[43mnodes\u001b[49m\u001b[38;5;241;43m=\u001b[39;49m\u001b[38;5;28;43mself\u001b[39;49m\u001b[38;5;241;43m.\u001b[39;49m\u001b[43mnodes\u001b[49m\u001b[43m,\u001b[49m\n\u001b[0;32m   1621\u001b[0m \u001b[43m    \u001b[49m\u001b[43mspecs\u001b[49m\u001b[38;5;241;43m=\u001b[39;49m\u001b[38;5;28;43mself\u001b[39;49m\u001b[38;5;241;43m.\u001b[39;49m\u001b[43mchannels\u001b[49m\u001b[43m,\u001b[49m\n\u001b[0;32m   1622\u001b[0m \u001b[43m    \u001b[49m\u001b[43moutput_keys\u001b[49m\u001b[38;5;241;43m=\u001b[39;49m\u001b[43moutput_keys\u001b[49m\u001b[43m,\u001b[49m\n\u001b[0;32m   1623\u001b[0m \u001b[43m    \u001b[49m\u001b[43mstream_keys\u001b[49m\u001b[38;5;241;43m=\u001b[39;49m\u001b[38;5;28;43mself\u001b[39;49m\u001b[38;5;241;43m.\u001b[39;49m\u001b[43mstream_channels_asis\u001b[49m\u001b[43m,\u001b[49m\n\u001b[0;32m   1624\u001b[0m \u001b[43m    \u001b[49m\u001b[43minterrupt_before\u001b[49m\u001b[38;5;241;43m=\u001b[39;49m\u001b[43minterrupt_before_\u001b[49m\u001b[43m,\u001b[49m\n\u001b[0;32m   1625\u001b[0m \u001b[43m    \u001b[49m\u001b[43minterrupt_after\u001b[49m\u001b[38;5;241;43m=\u001b[39;49m\u001b[43minterrupt_after_\u001b[49m\u001b[43m,\u001b[49m\n\u001b[0;32m   1626\u001b[0m \u001b[43m    \u001b[49m\u001b[43mmanager\u001b[49m\u001b[38;5;241;43m=\u001b[39;49m\u001b[43mrun_manager\u001b[49m\u001b[43m,\u001b[49m\n\u001b[0;32m   1627\u001b[0m \u001b[43m    \u001b[49m\u001b[43mdebug\u001b[49m\u001b[38;5;241;43m=\u001b[39;49m\u001b[43mdebug\u001b[49m\u001b[43m,\u001b[49m\n\u001b[0;32m   1628\u001b[0m \u001b[43m\u001b[49m\u001b[43m)\u001b[49m \u001b[38;5;28;01mas\u001b[39;00m loop:\n\u001b[0;32m   1629\u001b[0m     \u001b[38;5;66;03m# create runner\u001b[39;00m\n\u001b[0;32m   1630\u001b[0m     runner \u001b[38;5;241m=\u001b[39m PregelRunner(\n\u001b[0;32m   1631\u001b[0m         submit\u001b[38;5;241m=\u001b[39mloop\u001b[38;5;241m.\u001b[39msubmit,\n\u001b[0;32m   1632\u001b[0m         put_writes\u001b[38;5;241m=\u001b[39mloop\u001b[38;5;241m.\u001b[39mput_writes,\n\u001b[0;32m   1633\u001b[0m         schedule_task\u001b[38;5;241m=\u001b[39mloop\u001b[38;5;241m.\u001b[39maccept_push,\n\u001b[0;32m   1634\u001b[0m         node_finished\u001b[38;5;241m=\u001b[39mconfig[CONF]\u001b[38;5;241m.\u001b[39mget(CONFIG_KEY_NODE_FINISHED),\n\u001b[0;32m   1635\u001b[0m     )\n\u001b[0;32m   1636\u001b[0m     \u001b[38;5;66;03m# enable subgraph streaming\u001b[39;00m\n",
      "File \u001b[1;32mc:\\ProgramData\\anaconda3\\envs\\py31012\\lib\\site-packages\\langgraph\\pregel\\loop.py:843\u001b[0m, in \u001b[0;36mSyncPregelLoop.__init__\u001b[1;34m(self, input, stream, config, store, checkpointer, nodes, specs, manager, interrupt_after, interrupt_before, output_keys, stream_keys, debug)\u001b[0m\n\u001b[0;32m    841\u001b[0m \u001b[38;5;28mself\u001b[39m\u001b[38;5;241m.\u001b[39mstack \u001b[38;5;241m=\u001b[39m ExitStack()\n\u001b[0;32m    842\u001b[0m \u001b[38;5;28;01mif\u001b[39;00m checkpointer:\n\u001b[1;32m--> 843\u001b[0m     \u001b[38;5;28mself\u001b[39m\u001b[38;5;241m.\u001b[39mcheckpointer_get_next_version \u001b[38;5;241m=\u001b[39m \u001b[43mcheckpointer\u001b[49m\u001b[38;5;241;43m.\u001b[39;49m\u001b[43mget_next_version\u001b[49m\n\u001b[0;32m    844\u001b[0m     \u001b[38;5;28mself\u001b[39m\u001b[38;5;241m.\u001b[39mcheckpointer_put_writes \u001b[38;5;241m=\u001b[39m checkpointer\u001b[38;5;241m.\u001b[39mput_writes\n\u001b[0;32m    845\u001b[0m     \u001b[38;5;28mself\u001b[39m\u001b[38;5;241m.\u001b[39mcheckpointer_put_writes_accepts_task_path \u001b[38;5;241m=\u001b[39m (\n\u001b[0;32m    846\u001b[0m         signature(checkpointer\u001b[38;5;241m.\u001b[39mput_writes)\u001b[38;5;241m.\u001b[39mparameters\u001b[38;5;241m.\u001b[39mget(\u001b[38;5;124m\"\u001b[39m\u001b[38;5;124mtask_path\u001b[39m\u001b[38;5;124m\"\u001b[39m)\n\u001b[0;32m    847\u001b[0m         \u001b[38;5;129;01mis\u001b[39;00m \u001b[38;5;129;01mnot\u001b[39;00m \u001b[38;5;28;01mNone\u001b[39;00m\n\u001b[0;32m    848\u001b[0m     )\n",
      "\u001b[1;31mAttributeError\u001b[0m: '_GeneratorContextManager' object has no attribute 'get_next_version'"
     ]
    }
   ],
   "source": [
    "# invoke 사용하기\n",
    "# Full State 형태로 하기\n",
    "#invoke {\"messages\":[HumanMessage(content='안녕', additional_kwargs={}, response_metadata={}, id='model-0')]\n",
    "while True:\n",
    "    user_input = input(\"User: \")\n",
    "    print(\"User: \", user_input)\n",
    "    if user_input.lower() in [\"quit\", \"exit\", \"q\"]:\n",
    "        print(\"대화 종료.\")\n",
    "        break\n",
    "    ai = graph.invoke({\"messages\": [HumanMessage(content=user_input)]},config=config)\n",
    "    #ai = graph.invoke({\"messages\": [HumanMessage(content=user_input,id='human-0')]})\n",
    "    print(\"AI: \",ai['messages'][-1].content)"
   ]
  },
  {
   "cell_type": "code",
   "execution_count": 72,
   "id": "dba1b168-f8e0-496d-9bd6-37198fb4776e",
   "metadata": {},
   "outputs": [],
   "source": [
    "user_input = \"안녕 나는 Liam이야.\"\n",
    "\n",
    "# The config is the **second positional argument** to stream() or invoke()!\n",
    "events = graph.stream(\n",
    "    {\"messages\": [(\"user\", user_input)]}, config, stream_mode=\"values\"\n",
    ")\n"
   ]
  },
  {
   "cell_type": "code",
   "execution_count": 75,
   "id": "16413b2d",
   "metadata": {},
   "outputs": [],
   "source": [
    "for event in events:\n",
    "    event[\"messages\"]"
   ]
  },
  {
   "cell_type": "code",
   "execution_count": null,
   "id": "8746d7fa",
   "metadata": {},
   "outputs": [],
   "source": []
  },
  {
   "cell_type": "markdown",
   "id": "33c6b470-5082-4c3e-b732-34de47c88735",
   "metadata": {},
   "source": [
    "**참고:** 설정(config)은 그래프를 호출할 때 **두 번째 위치 인자**로 제공되었습니다. 중요한 점은 그래프 입력(`{'messages': []}`) 내에 포함되지 않는다는 것입니다.\n",
    "\n",
    "이름을 기억하는지 확인해봅시다.\n"
   ]
  },
  {
   "cell_type": "code",
   "execution_count": 79,
   "id": "f5447778-53d7-47f3-801b-f47bcf2185a0",
   "metadata": {},
   "outputs": [
    {
     "ename": "AttributeError",
     "evalue": "'_GeneratorContextManager' object has no attribute 'get_next_version'",
     "output_type": "error",
     "traceback": [
      "\u001b[1;31m---------------------------------------------------------------------------\u001b[0m",
      "\u001b[1;31mAttributeError\u001b[0m                            Traceback (most recent call last)",
      "Cell \u001b[1;32mIn[79], line 7\u001b[0m\n\u001b[0;32m      3\u001b[0m \u001b[38;5;66;03m# The config is the **second positional argument** to stream() or invoke()!\u001b[39;00m\n\u001b[0;32m      4\u001b[0m events \u001b[38;5;241m=\u001b[39m graph\u001b[38;5;241m.\u001b[39mstream(\n\u001b[0;32m      5\u001b[0m     {\u001b[38;5;124m\"\u001b[39m\u001b[38;5;124mmessages\u001b[39m\u001b[38;5;124m\"\u001b[39m: [(\u001b[38;5;124m\"\u001b[39m\u001b[38;5;124muser\u001b[39m\u001b[38;5;124m\"\u001b[39m, user_input)]}, config, stream_mode\u001b[38;5;241m=\u001b[39m\u001b[38;5;124m\"\u001b[39m\u001b[38;5;124mvalues\u001b[39m\u001b[38;5;124m\"\u001b[39m\n\u001b[0;32m      6\u001b[0m )\n\u001b[1;32m----> 7\u001b[0m \u001b[38;5;28;01mfor\u001b[39;00m event \u001b[38;5;129;01min\u001b[39;00m events:\n\u001b[0;32m      8\u001b[0m     \u001b[38;5;28mprint\u001b[39m(event[\u001b[38;5;124m\"\u001b[39m\u001b[38;5;124mmessages\u001b[39m\u001b[38;5;124m\"\u001b[39m])\n",
      "File \u001b[1;32mc:\\ProgramData\\anaconda3\\envs\\py31012\\lib\\site-packages\\langgraph\\pregel\\__init__.py:1614\u001b[0m, in \u001b[0;36mPregel.stream\u001b[1;34m(self, input, config, stream_mode, output_keys, interrupt_before, interrupt_after, debug, subgraphs)\u001b[0m\n\u001b[0;32m   1610\u001b[0m \u001b[38;5;28;01mif\u001b[39;00m \u001b[38;5;124m\"\u001b[39m\u001b[38;5;124mcustom\u001b[39m\u001b[38;5;124m\"\u001b[39m \u001b[38;5;129;01min\u001b[39;00m stream_modes:\n\u001b[0;32m   1611\u001b[0m     config[CONF][CONFIG_KEY_STREAM_WRITER] \u001b[38;5;241m=\u001b[39m \u001b[38;5;28;01mlambda\u001b[39;00m c: stream\u001b[38;5;241m.\u001b[39mput(\n\u001b[0;32m   1612\u001b[0m         ((), \u001b[38;5;124m\"\u001b[39m\u001b[38;5;124mcustom\u001b[39m\u001b[38;5;124m\"\u001b[39m, c)\n\u001b[0;32m   1613\u001b[0m     )\n\u001b[1;32m-> 1614\u001b[0m \u001b[38;5;28;01mwith\u001b[39;00m \u001b[43mSyncPregelLoop\u001b[49m\u001b[43m(\u001b[49m\n\u001b[0;32m   1615\u001b[0m \u001b[43m    \u001b[49m\u001b[38;5;28;43minput\u001b[39;49m\u001b[43m,\u001b[49m\n\u001b[0;32m   1616\u001b[0m \u001b[43m    \u001b[49m\u001b[43mstream\u001b[49m\u001b[38;5;241;43m=\u001b[39;49m\u001b[43mStreamProtocol\u001b[49m\u001b[43m(\u001b[49m\u001b[43mstream\u001b[49m\u001b[38;5;241;43m.\u001b[39;49m\u001b[43mput\u001b[49m\u001b[43m,\u001b[49m\u001b[43m \u001b[49m\u001b[43mstream_modes\u001b[49m\u001b[43m)\u001b[49m\u001b[43m,\u001b[49m\n\u001b[0;32m   1617\u001b[0m \u001b[43m    \u001b[49m\u001b[43mconfig\u001b[49m\u001b[38;5;241;43m=\u001b[39;49m\u001b[43mconfig\u001b[49m\u001b[43m,\u001b[49m\n\u001b[0;32m   1618\u001b[0m \u001b[43m    \u001b[49m\u001b[43mstore\u001b[49m\u001b[38;5;241;43m=\u001b[39;49m\u001b[43mstore\u001b[49m\u001b[43m,\u001b[49m\n\u001b[0;32m   1619\u001b[0m \u001b[43m    \u001b[49m\u001b[43mcheckpointer\u001b[49m\u001b[38;5;241;43m=\u001b[39;49m\u001b[43mcheckpointer\u001b[49m\u001b[43m,\u001b[49m\n\u001b[0;32m   1620\u001b[0m \u001b[43m    \u001b[49m\u001b[43mnodes\u001b[49m\u001b[38;5;241;43m=\u001b[39;49m\u001b[38;5;28;43mself\u001b[39;49m\u001b[38;5;241;43m.\u001b[39;49m\u001b[43mnodes\u001b[49m\u001b[43m,\u001b[49m\n\u001b[0;32m   1621\u001b[0m \u001b[43m    \u001b[49m\u001b[43mspecs\u001b[49m\u001b[38;5;241;43m=\u001b[39;49m\u001b[38;5;28;43mself\u001b[39;49m\u001b[38;5;241;43m.\u001b[39;49m\u001b[43mchannels\u001b[49m\u001b[43m,\u001b[49m\n\u001b[0;32m   1622\u001b[0m \u001b[43m    \u001b[49m\u001b[43moutput_keys\u001b[49m\u001b[38;5;241;43m=\u001b[39;49m\u001b[43moutput_keys\u001b[49m\u001b[43m,\u001b[49m\n\u001b[0;32m   1623\u001b[0m \u001b[43m    \u001b[49m\u001b[43mstream_keys\u001b[49m\u001b[38;5;241;43m=\u001b[39;49m\u001b[38;5;28;43mself\u001b[39;49m\u001b[38;5;241;43m.\u001b[39;49m\u001b[43mstream_channels_asis\u001b[49m\u001b[43m,\u001b[49m\n\u001b[0;32m   1624\u001b[0m \u001b[43m    \u001b[49m\u001b[43minterrupt_before\u001b[49m\u001b[38;5;241;43m=\u001b[39;49m\u001b[43minterrupt_before_\u001b[49m\u001b[43m,\u001b[49m\n\u001b[0;32m   1625\u001b[0m \u001b[43m    \u001b[49m\u001b[43minterrupt_after\u001b[49m\u001b[38;5;241;43m=\u001b[39;49m\u001b[43minterrupt_after_\u001b[49m\u001b[43m,\u001b[49m\n\u001b[0;32m   1626\u001b[0m \u001b[43m    \u001b[49m\u001b[43mmanager\u001b[49m\u001b[38;5;241;43m=\u001b[39;49m\u001b[43mrun_manager\u001b[49m\u001b[43m,\u001b[49m\n\u001b[0;32m   1627\u001b[0m \u001b[43m    \u001b[49m\u001b[43mdebug\u001b[49m\u001b[38;5;241;43m=\u001b[39;49m\u001b[43mdebug\u001b[49m\u001b[43m,\u001b[49m\n\u001b[0;32m   1628\u001b[0m \u001b[43m\u001b[49m\u001b[43m)\u001b[49m \u001b[38;5;28;01mas\u001b[39;00m loop:\n\u001b[0;32m   1629\u001b[0m     \u001b[38;5;66;03m# create runner\u001b[39;00m\n\u001b[0;32m   1630\u001b[0m     runner \u001b[38;5;241m=\u001b[39m PregelRunner(\n\u001b[0;32m   1631\u001b[0m         submit\u001b[38;5;241m=\u001b[39mloop\u001b[38;5;241m.\u001b[39msubmit,\n\u001b[0;32m   1632\u001b[0m         put_writes\u001b[38;5;241m=\u001b[39mloop\u001b[38;5;241m.\u001b[39mput_writes,\n\u001b[0;32m   1633\u001b[0m         schedule_task\u001b[38;5;241m=\u001b[39mloop\u001b[38;5;241m.\u001b[39maccept_push,\n\u001b[0;32m   1634\u001b[0m         node_finished\u001b[38;5;241m=\u001b[39mconfig[CONF]\u001b[38;5;241m.\u001b[39mget(CONFIG_KEY_NODE_FINISHED),\n\u001b[0;32m   1635\u001b[0m     )\n\u001b[0;32m   1636\u001b[0m     \u001b[38;5;66;03m# enable subgraph streaming\u001b[39;00m\n",
      "File \u001b[1;32mc:\\ProgramData\\anaconda3\\envs\\py31012\\lib\\site-packages\\langgraph\\pregel\\loop.py:843\u001b[0m, in \u001b[0;36mSyncPregelLoop.__init__\u001b[1;34m(self, input, stream, config, store, checkpointer, nodes, specs, manager, interrupt_after, interrupt_before, output_keys, stream_keys, debug)\u001b[0m\n\u001b[0;32m    841\u001b[0m \u001b[38;5;28mself\u001b[39m\u001b[38;5;241m.\u001b[39mstack \u001b[38;5;241m=\u001b[39m ExitStack()\n\u001b[0;32m    842\u001b[0m \u001b[38;5;28;01mif\u001b[39;00m checkpointer:\n\u001b[1;32m--> 843\u001b[0m     \u001b[38;5;28mself\u001b[39m\u001b[38;5;241m.\u001b[39mcheckpointer_get_next_version \u001b[38;5;241m=\u001b[39m \u001b[43mcheckpointer\u001b[49m\u001b[38;5;241;43m.\u001b[39;49m\u001b[43mget_next_version\u001b[49m\n\u001b[0;32m    844\u001b[0m     \u001b[38;5;28mself\u001b[39m\u001b[38;5;241m.\u001b[39mcheckpointer_put_writes \u001b[38;5;241m=\u001b[39m checkpointer\u001b[38;5;241m.\u001b[39mput_writes\n\u001b[0;32m    845\u001b[0m     \u001b[38;5;28mself\u001b[39m\u001b[38;5;241m.\u001b[39mcheckpointer_put_writes_accepts_task_path \u001b[38;5;241m=\u001b[39m (\n\u001b[0;32m    846\u001b[0m         signature(checkpointer\u001b[38;5;241m.\u001b[39mput_writes)\u001b[38;5;241m.\u001b[39mparameters\u001b[38;5;241m.\u001b[39mget(\u001b[38;5;124m\"\u001b[39m\u001b[38;5;124mtask_path\u001b[39m\u001b[38;5;124m\"\u001b[39m)\n\u001b[0;32m    847\u001b[0m         \u001b[38;5;129;01mis\u001b[39;00m \u001b[38;5;129;01mnot\u001b[39;00m \u001b[38;5;28;01mNone\u001b[39;00m\n\u001b[0;32m    848\u001b[0m     )\n",
      "\u001b[1;31mAttributeError\u001b[0m: '_GeneratorContextManager' object has no attribute 'get_next_version'"
     ]
    }
   ],
   "source": [
    "user_input = \"내 이름 기억해?\"\n",
    "\n",
    "# The config is the **second positional argument** to stream() or invoke()!\n",
    "events = graph.stream(\n",
    "    {\"messages\": [(\"user\", user_input)]}, config, stream_mode=\"values\"\n",
    ")\n",
    "for event in events:\n",
    "    print(event[\"messages\"])"
   ]
  },
  {
   "cell_type": "markdown",
   "id": "33be4cd8-f96f-4949-9d1f-48054502e5d0",
   "metadata": {},
   "source": [
    "**참고**: 메모리 관리를 위해 외부 리스트를 사용하지 않는다는 점에 유의하세요. 이는 모두 체크포인터에 의해 처리됩니다."
   ]
  },
  {
   "cell_type": "code",
   "execution_count": 27,
   "id": "4527cf9a-b191-4bde-858a-e33a74a48c55",
   "metadata": {},
   "outputs": [
    {
     "name": "stdout",
     "output_type": "stream",
     "text": [
      "================================\u001b[1m Human Message \u001b[0m=================================\n",
      "\n",
      "내 이름 기억해?\n",
      "==================================\u001b[1m Ai Message \u001b[0m==================================\n",
      "\n",
      "[{'id': 'toolu_01N3aSPfj8jGx8jGwh3kQPJS', 'input': {'query': '내 이름 기억해'}, 'name': 'tavily_search_results_json', 'type': 'tool_use'}]\n",
      "Tool Calls:\n",
      "  tavily_search_results_json (toolu_01N3aSPfj8jGx8jGwh3kQPJS)\n",
      " Call ID: toolu_01N3aSPfj8jGx8jGwh3kQPJS\n",
      "  Args:\n",
      "    query: 내 이름 기억해\n",
      "=================================\u001b[1m Tool Message \u001b[0m=================================\n",
      "Name: tavily_search_results_json\n",
      "\n",
      "[{\"url\": \"https://hinative.com/questions/16690237\", \"content\": \"\\ub0b4 \\uc774\\ub984\\uc744 \\uae30\\uc5b5\\ud574 (nae i-reum-eur gi-eog-hae ) Definition of \\ub0b4 \\uc774\\ub984\\uc744 \\uae30\\uc5b5\\ud574 Remember my name. Sign up; Sign in; Question Updated on 28 Jun 2020 jinah_07. 28 Jun 2020. English (US) Japanese Korean Simplified Chinese (China) Question about Korean. What does ...\"}, {\"url\": \"https://m.blog.naver.com/hasajon/223080615372\", \"content\": \"\\uc544\\ub2c8\\uba74, \\ub0b4 \\uc774\\ub984 \\ubc1c\\uc74c\\uacfc \\ube44\\uc2b7\\ud55c \\uc601\\uc5b4 \\ub2c9\\ub124\\uc784\\uc744 \\ucc3e\\uc744 \\uc218\\ub3c4 \\uc788\\uaca0\\uc2b5\\ub2c8\\ub2e4. \\uc608\\ub97c \\ub4e4\\uba74 '\\ucca0\\uc218'\\ub294 'Charles'\\ub85c, \\uc120\\ud76c\\ub294 'Sonny'\\ub85c, \\uc774\\uc0ad\\uc740 'Issac'\\uc774 \\ub420 \\uc218 \\uc788\\uaca0\\uc2b5\\ub2c8\\ub2e4. ... \\uadf8\\ub9ac\\uace0 \\uc0c1\\ub300\\ubc29\\uc774 \\ub0b4 \\uc9c4\\uc9dc \\uc774\\ub984\\ub3c4 \\ub354 \\uc798 \\uae30\\uc5b5\\ud574 \\uc904 \\uc218 \\uc788\\uc9c0 \\uc54a\\uc744\\uae4c\\uc694? ...\"}]\n",
      "==================================\u001b[1m Ai Message \u001b[0m==================================\n",
      "\n",
      "결과를 보면 내 이름을 기억하는 것이 중요하다는 것을 알 수 있습니다. 이를 위해서는 상대방의 이름을 듣고 기억하는 것이 중요하고, 상대방이 나의 이름을 기억할 수 있도록 도와주는 것도 중요할 것 같습니다. 상호간의 이해와 존중이 이름을 기억하는데 도움이 될 것 같습니다.\n"
     ]
    }
   ],
   "source": [
    "# The only difference is we change the `thread_id` here to \"2\" instead of \"1\"\n",
    "events = graph.stream(\n",
    "    {\"messages\": [(\"user\", user_input)]},\n",
    "    {\"configurable\": {\"thread_id\": \"2\"}},\n",
    "    stream_mode=\"values\",\n",
    ")\n",
    "for event in events:\n",
    "    event[\"messages\"][-1].pretty_print()"
   ]
  },
  {
   "cell_type": "markdown",
   "id": "5eeccbf0-ed74-4838-a7e9-31910d82b0b2",
   "metadata": {},
   "source": [
    "**공지**: 앞선 강의에서 다뤘든 대화의 내용은 thread 별로 분리되어있습니다.\n",
    "\n",
    "지금까지 우리는 두 개의 다른 스레드에서 몇 가지 체크포인트를 만들었습니다. 그렇다면 체크포인트에 무엇이 들어갈까요? 주어진 설정(config)에 대한 그래프의 `state`를 언제든지 검사하려면, `get_state(config)`를 호출하세요."
   ]
  },
  {
   "cell_type": "code",
   "execution_count": 29,
   "id": "0be77c25-1423-4f2d-9b2d-28530cc761a4",
   "metadata": {},
   "outputs": [
    {
     "data": {
      "text/plain": [
       "StateSnapshot(values={'messages': [HumanMessage(content='안녕 나는 Liam이야.', id='262865f3-01b8-45af-ad67-c48baef60a56'), AIMessage(content='반갑습니다 Liam! 저도 반가워요. 오늘 기분이 어떠신가요? 무엇을 하고 싶으신가요? 제가 도움이 되는 방법이 있다면 알려주세요.', response_metadata={'id': 'msg_018yywsXBpcJSb5GsioJSKtn', 'model': 'claude-3-haiku-20240307', 'stop_reason': 'end_turn', 'stop_sequence': None, 'usage': {'input_tokens': 381, 'output_tokens': 81}}, id='run-2d505fd2-9201-4b3d-9e37-15e4e47cfa09-0', usage_metadata={'input_tokens': 381, 'output_tokens': 81, 'total_tokens': 462}), HumanMessage(content='내 이름 기억해?', id='4cf69daf-e79a-4c2f-8adc-f50122477e06'), AIMessage(content='네, 당신의 이름이 Liam이라는 것을 잘 기억하고 있습니다. 처음 대화할 때 Liam이라고 소개해주셨죠. 저는 사용자분의 이름을 빠르게 기억하고 있으며, 이후 대화에서도 계속해서 사용자 이름을 활용할 것입니다. 이렇게 개인적인 대화를 나누게 되어 기쁩니다.', response_metadata={'id': 'msg_01EwuzNX457iGZB1Zp4Q7Cco', 'model': 'claude-3-haiku-20240307', 'stop_reason': 'end_turn', 'stop_sequence': None, 'usage': {'input_tokens': 475, 'output_tokens': 153}}, id='run-1b9cbd49-5e41-49c0-a8b8-9e7859aab486-0', usage_metadata={'input_tokens': 475, 'output_tokens': 153, 'total_tokens': 628})]}, next=(), config={'configurable': {'thread_id': '1', 'thread_ts': '1ef2f919-3d83-684a-8004-e2f30973a6a4'}}, metadata={'source': 'loop', 'step': 4, 'writes': {'chatbot': {'messages': [AIMessage(content='네, 당신의 이름이 Liam이라는 것을 잘 기억하고 있습니다. 처음 대화할 때 Liam이라고 소개해주셨죠. 저는 사용자분의 이름을 빠르게 기억하고 있으며, 이후 대화에서도 계속해서 사용자 이름을 활용할 것입니다. 이렇게 개인적인 대화를 나누게 되어 기쁩니다.', response_metadata={'id': 'msg_01EwuzNX457iGZB1Zp4Q7Cco', 'model': 'claude-3-haiku-20240307', 'stop_reason': 'end_turn', 'stop_sequence': None, 'usage': {'input_tokens': 475, 'output_tokens': 153}}, id='run-1b9cbd49-5e41-49c0-a8b8-9e7859aab486-0', usage_metadata={'input_tokens': 475, 'output_tokens': 153, 'total_tokens': 628})]}}}, created_at='2024-06-21T05:46:16.895849+00:00', parent_config={'configurable': {'thread_id': '1', 'thread_ts': '1ef2f919-2db8-6b18-8003-3b161d3ccbba'}})"
      ]
     },
     "execution_count": 29,
     "metadata": {},
     "output_type": "execute_result"
    }
   ],
   "source": [
    "snapshot = graph.get_state(config)\n",
    "snapshot"
   ]
  },
  {
   "cell_type": "code",
   "execution_count": 30,
   "id": "c106bd09-f155-4e15-9120-c60c834106e5",
   "metadata": {},
   "outputs": [
    {
     "data": {
      "text/plain": [
       "()"
      ]
     },
     "execution_count": 30,
     "metadata": {},
     "output_type": "execute_result"
    }
   ],
   "source": [
    "snapshot.next  # (그래프가 이번 턴에 종료되었기 때문에, next는 비어 있습니다. 그래프 호출 중에 상태를 가져오면, next는 다음에 실행될 노드를 나타냅니다)"
   ]
  },
  {
   "cell_type": "markdown",
   "id": "627f4998-6780-4cce-8f3c-9a5580888e3a",
   "metadata": {},
   "source": [
    "위의 스냅샷에는 현재 상태 값, 해당 구성(config), 그리고 처리할 `next` 노드가 포함되어 있습니다. 우리의 경우, 그래프는 `__end__` 상태에 도달했기 때문에 `next`는 비어 있습니다."
   ]
  },
  {
   "cell_type": "markdown",
   "id": "306e73b3-0946-423b-b48c-9702d1bedf91",
   "metadata": {},
   "source": [
    "## All-in-one Again!"
   ]
  },
  {
   "cell_type": "code",
   "execution_count": null,
   "id": "9c50a794-3ae5-484c-8edd-50e0d54da982",
   "metadata": {},
   "outputs": [],
   "source": [
    "from typing import Annotated\n",
    "\n",
    "from langchain_anthropic import ChatAnthropic\n",
    "from langchain_community.tools.tavily_search import TavilySearchResults\n",
    "from langchain_core.messages import BaseMessage\n",
    "from typing_extensions import TypedDict\n",
    "\n",
    "from langgraph.checkpoint.sqlite import SqliteSaver\n",
    "from langgraph.graph import StateGraph\n",
    "from langgraph.graph.message import add_messages\n",
    "from langgraph.prebuilt import ToolNode\n",
    "\n",
    "\n",
    "class State(TypedDict):\n",
    "    messages: Annotated[list, add_messages]\n",
    "\n",
    "\n",
    "graph_builder = StateGraph(State)\n",
    "\n",
    "\n",
    "tool = TavilySearchResults(max_results=2)\n",
    "tools = [tool]\n",
    "llm = ChatAnthropic(model=\"claude-3-haiku-20240307\")\n",
    "llm_with_tools = llm.bind_tools(tools)\n",
    "\n",
    "\n",
    "def chatbot(state: State):\n",
    "    return {\"messages\": [llm_with_tools.invoke(state[\"messages\"])]}\n",
    "\n",
    "\n",
    "graph_builder.add_node(\"chatbot\", chatbot)\n",
    "\n",
    "tool_node = ToolNode(tools=[tool])\n",
    "graph_builder.add_node(\"tools\", tool_node)\n",
    "\n",
    "graph_builder.add_conditional_edges(\n",
    "    \"chatbot\",\n",
    "    tools_condition,\n",
    ")\n",
    "graph_builder.add_edge(\"tools\", \"chatbot\")\n",
    "graph_builder.set_entry_point(\"chatbot\")\n",
    "graph = graph_builder.compile(checkpointer=memory)"
   ]
  },
  {
   "cell_type": "code",
   "execution_count": 95,
   "id": "2c6a9a40",
   "metadata": {},
   "outputs": [
    {
     "name": "stderr",
     "output_type": "stream",
     "text": [
      "Key 'title' is not supported in schema, ignoring\n",
      "Key 'title' is not supported in schema, ignoring\n"
     ]
    }
   ],
   "source": [
    "#gemini\n",
    "from typing import Annotated\n",
    "\n",
    "#gemini chatbot setting\n",
    "from langchain_google_genai import ChatGoogleGenerativeAI\n",
    "from langchain_community.tools.tavily_search import TavilySearchResults\n",
    "from langchain_core.messages import BaseMessage\n",
    "from typing_extensions import TypedDict\n",
    "\n",
    "from langgraph.checkpoint.sqlite import SqliteSaver\n",
    "from langgraph.graph import StateGraph\n",
    "from langgraph.graph.message import add_messages\n",
    "from langgraph.prebuilt import ToolNode\n",
    "\n",
    "\n",
    "class State(TypedDict):\n",
    "    messages: Annotated[list, add_messages]\n",
    "\n",
    "\n",
    "graph_builder = StateGraph(State)\n",
    "\n",
    "\n",
    "tool = TavilySearchResults(max_results=2)\n",
    "tools = [tool]\n",
    "llm = ChatGoogleGenerativeAI(model=\"gemini-2.0-flash-exp\", temperature=0)\n",
    "llm_with_tools = llm.bind_tools(tools)\n",
    "\n",
    "\n",
    "def chatbot(state: State):\n",
    "    return {\"messages\": [llm_with_tools.invoke(state[\"messages\"])]}\n",
    "\n",
    "\n",
    "graph_builder.add_node(\"chatbot\", chatbot)\n",
    "\n",
    "tool_node = ToolNode(tools=[tool])\n",
    "graph_builder.add_node(\"tools\", tool_node)\n",
    "\n",
    "graph_builder.add_conditional_edges(\n",
    "    \"chatbot\",\n",
    "    tools_condition,\n",
    ")\n",
    "graph_builder.add_edge(\"tools\", \"chatbot\")\n",
    "graph_builder.set_entry_point(\"chatbot\")\n",
    "graph = graph_builder.compile(checkpointer=memory)"
   ]
  }
 ],
 "metadata": {
  "kernelspec": {
   "display_name": "py31012",
   "language": "python",
   "name": "python3"
  },
  "language_info": {
   "codemirror_mode": {
    "name": "ipython",
    "version": 3
   },
   "file_extension": ".py",
   "mimetype": "text/x-python",
   "name": "python",
   "nbconvert_exporter": "python",
   "pygments_lexer": "ipython3",
   "version": "3.10.12"
  }
 },
 "nbformat": 4,
 "nbformat_minor": 5
}
