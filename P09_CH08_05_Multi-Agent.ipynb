{
 "cells": [
  {
   "cell_type": "markdown",
   "id": "39fd1948-b5c3-48c4-b10e-2ae7e8c83334",
   "metadata": {},
   "source": [
    "# Basic Multi-agent Collaboration\n",
    "\n",
    "하나의 에이전트는 일반적으로 단일 도메인 내에서 몇 가지 도구를 사용하여 효과적으로 작업할 수 있지만, `gpt-4`와 같은 강력한 모델을 사용하더라도 많은 도구를 사용하는 데에는 덜 효과적일 수 있습니다.\n",
    "\n",
    "복잡한 작업에 접근하는 한 가지 방법은 \"분할 정복\" 접근법을 사용하는 것입니다. 즉, 각 작업이나 도메인에 대해 전문화된 에이전트를 생성하고 작업을 적절한 \"전문가\"에게 라우팅하는 것입니다.\n",
    "\n",
    "이 노트북은 Wu 외 여러 저자의 논문 [AutoGen: Enabling Next-Gen LLM Applications via Multi-Agent Conversation](https://arxiv.org/abs/2308.08155)에서 영감을 받아 LangGraph를 사용하여 이를 구현하는 방법을 보여줍니다.\n",
    "\n",
    "결과 그래프는 다음과 같은 다이어그램과 유사하게 보일 것입니다:\n",
    "\n",
    "<img src=\"./img/simple_multi_agent_diagram.png\" alt=\"multi_agent diagram\" width=\"640\"/>\n",
    "\n"
   ]
  },
  {
   "cell_type": "code",
   "execution_count": 1,
   "id": "0d7b6dcc-c985-46e2-8457-7e6b0298b950",
   "metadata": {
    "scrolled": true
   },
   "outputs": [
    {
     "name": "stdout",
     "output_type": "stream",
     "text": [
      "Requirement already satisfied: langchain in /Users/user/miniconda3/envs/fc-ai-signature/lib/python3.11/site-packages (0.2.5)\n",
      "Requirement already satisfied: langchain_openai in /Users/user/miniconda3/envs/fc-ai-signature/lib/python3.11/site-packages (0.1.8)\n",
      "Requirement already satisfied: pandas in /Users/user/miniconda3/envs/fc-ai-signature/lib/python3.11/site-packages (2.2.2)\n",
      "Requirement already satisfied: langchain_experimental in /Users/user/miniconda3/envs/fc-ai-signature/lib/python3.11/site-packages (0.0.61)\n",
      "Requirement already satisfied: matplotlib in /Users/user/miniconda3/envs/fc-ai-signature/lib/python3.11/site-packages (3.9.0)\n",
      "Requirement already satisfied: langgraph in /Users/user/miniconda3/envs/fc-ai-signature/lib/python3.11/site-packages (0.0.69)\n",
      "Requirement already satisfied: langchain_core in /Users/user/miniconda3/envs/fc-ai-signature/lib/python3.11/site-packages (0.2.9)\n",
      "Requirement already satisfied: PyYAML>=5.3 in /Users/user/miniconda3/envs/fc-ai-signature/lib/python3.11/site-packages (from langchain) (6.0.1)\n",
      "Requirement already satisfied: SQLAlchemy<3,>=1.4 in /Users/user/miniconda3/envs/fc-ai-signature/lib/python3.11/site-packages (from langchain) (2.0.30)\n",
      "Requirement already satisfied: aiohttp<4.0.0,>=3.8.3 in /Users/user/miniconda3/envs/fc-ai-signature/lib/python3.11/site-packages (from langchain) (3.9.5)\n",
      "Requirement already satisfied: langchain-text-splitters<0.3.0,>=0.2.0 in /Users/user/miniconda3/envs/fc-ai-signature/lib/python3.11/site-packages (from langchain) (0.2.1)\n",
      "Requirement already satisfied: langsmith<0.2.0,>=0.1.17 in /Users/user/miniconda3/envs/fc-ai-signature/lib/python3.11/site-packages (from langchain) (0.1.75)\n",
      "Requirement already satisfied: numpy<2,>=1 in /Users/user/miniconda3/envs/fc-ai-signature/lib/python3.11/site-packages (from langchain) (1.26.4)\n",
      "Requirement already satisfied: pydantic<3,>=1 in /Users/user/miniconda3/envs/fc-ai-signature/lib/python3.11/site-packages (from langchain) (2.7.1)\n",
      "Requirement already satisfied: requests<3,>=2 in /Users/user/miniconda3/envs/fc-ai-signature/lib/python3.11/site-packages (from langchain) (2.32.2)\n",
      "Requirement already satisfied: tenacity<9.0.0,>=8.1.0 in /Users/user/miniconda3/envs/fc-ai-signature/lib/python3.11/site-packages (from langchain) (8.3.0)\n",
      "Requirement already satisfied: openai<2.0.0,>=1.26.0 in /Users/user/miniconda3/envs/fc-ai-signature/lib/python3.11/site-packages (from langchain_openai) (1.30.3)\n",
      "Requirement already satisfied: tiktoken<1,>=0.7 in /Users/user/miniconda3/envs/fc-ai-signature/lib/python3.11/site-packages (from langchain_openai) (0.7.0)\n",
      "Requirement already satisfied: python-dateutil>=2.8.2 in /Users/user/miniconda3/envs/fc-ai-signature/lib/python3.11/site-packages (from pandas) (2.9.0.post0)\n",
      "Requirement already satisfied: pytz>=2020.1 in /Users/user/miniconda3/envs/fc-ai-signature/lib/python3.11/site-packages (from pandas) (2024.1)\n",
      "Requirement already satisfied: tzdata>=2022.7 in /Users/user/miniconda3/envs/fc-ai-signature/lib/python3.11/site-packages (from pandas) (2024.1)\n",
      "Requirement already satisfied: langchain-community<0.3.0,>=0.2.5 in /Users/user/miniconda3/envs/fc-ai-signature/lib/python3.11/site-packages (from langchain_experimental) (0.2.5)\n",
      "Requirement already satisfied: contourpy>=1.0.1 in /Users/user/miniconda3/envs/fc-ai-signature/lib/python3.11/site-packages (from matplotlib) (1.2.1)\n",
      "Requirement already satisfied: cycler>=0.10 in /Users/user/miniconda3/envs/fc-ai-signature/lib/python3.11/site-packages (from matplotlib) (0.12.1)\n",
      "Requirement already satisfied: fonttools>=4.22.0 in /Users/user/miniconda3/envs/fc-ai-signature/lib/python3.11/site-packages (from matplotlib) (4.52.1)\n",
      "Requirement already satisfied: kiwisolver>=1.3.1 in /Users/user/miniconda3/envs/fc-ai-signature/lib/python3.11/site-packages (from matplotlib) (1.4.5)\n",
      "Requirement already satisfied: packaging>=20.0 in /Users/user/miniconda3/envs/fc-ai-signature/lib/python3.11/site-packages (from matplotlib) (23.2)\n",
      "Requirement already satisfied: pillow>=8 in /Users/user/miniconda3/envs/fc-ai-signature/lib/python3.11/site-packages (from matplotlib) (10.3.0)\n",
      "Requirement already satisfied: pyparsing>=2.3.1 in /Users/user/miniconda3/envs/fc-ai-signature/lib/python3.11/site-packages (from matplotlib) (3.1.2)\n",
      "Requirement already satisfied: jsonpatch<2.0,>=1.33 in /Users/user/miniconda3/envs/fc-ai-signature/lib/python3.11/site-packages (from langchain_core) (1.33)\n",
      "Requirement already satisfied: aiosignal>=1.1.2 in /Users/user/miniconda3/envs/fc-ai-signature/lib/python3.11/site-packages (from aiohttp<4.0.0,>=3.8.3->langchain) (1.3.1)\n",
      "Requirement already satisfied: attrs>=17.3.0 in /Users/user/miniconda3/envs/fc-ai-signature/lib/python3.11/site-packages (from aiohttp<4.0.0,>=3.8.3->langchain) (23.2.0)\n",
      "Requirement already satisfied: frozenlist>=1.1.1 in /Users/user/miniconda3/envs/fc-ai-signature/lib/python3.11/site-packages (from aiohttp<4.0.0,>=3.8.3->langchain) (1.4.1)\n",
      "Requirement already satisfied: multidict<7.0,>=4.5 in /Users/user/miniconda3/envs/fc-ai-signature/lib/python3.11/site-packages (from aiohttp<4.0.0,>=3.8.3->langchain) (6.0.5)\n",
      "Requirement already satisfied: yarl<2.0,>=1.0 in /Users/user/miniconda3/envs/fc-ai-signature/lib/python3.11/site-packages (from aiohttp<4.0.0,>=3.8.3->langchain) (1.9.4)\n",
      "Requirement already satisfied: jsonpointer>=1.9 in /Users/user/miniconda3/envs/fc-ai-signature/lib/python3.11/site-packages (from jsonpatch<2.0,>=1.33->langchain_core) (2.4)\n",
      "Requirement already satisfied: dataclasses-json<0.7,>=0.5.7 in /Users/user/miniconda3/envs/fc-ai-signature/lib/python3.11/site-packages (from langchain-community<0.3.0,>=0.2.5->langchain_experimental) (0.6.6)\n",
      "Requirement already satisfied: orjson<4.0.0,>=3.9.14 in /Users/user/miniconda3/envs/fc-ai-signature/lib/python3.11/site-packages (from langsmith<0.2.0,>=0.1.17->langchain) (3.10.3)\n",
      "Requirement already satisfied: anyio<5,>=3.5.0 in /Users/user/miniconda3/envs/fc-ai-signature/lib/python3.11/site-packages (from openai<2.0.0,>=1.26.0->langchain_openai) (4.3.0)\n",
      "Requirement already satisfied: distro<2,>=1.7.0 in /Users/user/miniconda3/envs/fc-ai-signature/lib/python3.11/site-packages (from openai<2.0.0,>=1.26.0->langchain_openai) (1.9.0)\n",
      "Requirement already satisfied: httpx<1,>=0.23.0 in /Users/user/miniconda3/envs/fc-ai-signature/lib/python3.11/site-packages (from openai<2.0.0,>=1.26.0->langchain_openai) (0.27.0)\n",
      "Requirement already satisfied: sniffio in /Users/user/miniconda3/envs/fc-ai-signature/lib/python3.11/site-packages (from openai<2.0.0,>=1.26.0->langchain_openai) (1.3.1)\n",
      "Requirement already satisfied: tqdm>4 in /Users/user/miniconda3/envs/fc-ai-signature/lib/python3.11/site-packages (from openai<2.0.0,>=1.26.0->langchain_openai) (4.66.4)\n",
      "Requirement already satisfied: typing-extensions<5,>=4.7 in /Users/user/miniconda3/envs/fc-ai-signature/lib/python3.11/site-packages (from openai<2.0.0,>=1.26.0->langchain_openai) (4.11.0)\n",
      "Requirement already satisfied: annotated-types>=0.4.0 in /Users/user/miniconda3/envs/fc-ai-signature/lib/python3.11/site-packages (from pydantic<3,>=1->langchain) (0.7.0)\n",
      "Requirement already satisfied: pydantic-core==2.18.2 in /Users/user/miniconda3/envs/fc-ai-signature/lib/python3.11/site-packages (from pydantic<3,>=1->langchain) (2.18.2)\n",
      "Requirement already satisfied: six>=1.5 in /Users/user/miniconda3/envs/fc-ai-signature/lib/python3.11/site-packages (from python-dateutil>=2.8.2->pandas) (1.16.0)\n",
      "Requirement already satisfied: charset-normalizer<4,>=2 in /Users/user/miniconda3/envs/fc-ai-signature/lib/python3.11/site-packages (from requests<3,>=2->langchain) (3.3.2)\n",
      "Requirement already satisfied: idna<4,>=2.5 in /Users/user/miniconda3/envs/fc-ai-signature/lib/python3.11/site-packages (from requests<3,>=2->langchain) (3.7)\n",
      "Requirement already satisfied: urllib3<3,>=1.21.1 in /Users/user/miniconda3/envs/fc-ai-signature/lib/python3.11/site-packages (from requests<3,>=2->langchain) (2.2.1)\n",
      "Requirement already satisfied: certifi>=2017.4.17 in /Users/user/miniconda3/envs/fc-ai-signature/lib/python3.11/site-packages (from requests<3,>=2->langchain) (2024.2.2)\n",
      "Requirement already satisfied: regex>=2022.1.18 in /Users/user/miniconda3/envs/fc-ai-signature/lib/python3.11/site-packages (from tiktoken<1,>=0.7->langchain_openai) (2024.5.15)\n",
      "Requirement already satisfied: marshmallow<4.0.0,>=3.18.0 in /Users/user/miniconda3/envs/fc-ai-signature/lib/python3.11/site-packages (from dataclasses-json<0.7,>=0.5.7->langchain-community<0.3.0,>=0.2.5->langchain_experimental) (3.21.3)\n",
      "Requirement already satisfied: typing-inspect<1,>=0.4.0 in /Users/user/miniconda3/envs/fc-ai-signature/lib/python3.11/site-packages (from dataclasses-json<0.7,>=0.5.7->langchain-community<0.3.0,>=0.2.5->langchain_experimental) (0.9.0)\n",
      "Requirement already satisfied: httpcore==1.* in /Users/user/miniconda3/envs/fc-ai-signature/lib/python3.11/site-packages (from httpx<1,>=0.23.0->openai<2.0.0,>=1.26.0->langchain_openai) (1.0.5)\n",
      "Requirement already satisfied: h11<0.15,>=0.13 in /Users/user/miniconda3/envs/fc-ai-signature/lib/python3.11/site-packages (from httpcore==1.*->httpx<1,>=0.23.0->openai<2.0.0,>=1.26.0->langchain_openai) (0.14.0)\n",
      "Requirement already satisfied: mypy-extensions>=0.3.0 in /Users/user/miniconda3/envs/fc-ai-signature/lib/python3.11/site-packages (from typing-inspect<1,>=0.4.0->dataclasses-json<0.7,>=0.5.7->langchain-community<0.3.0,>=0.2.5->langchain_experimental) (1.0.0)\n"
     ]
    }
   ],
   "source": [
    "!pip install -U langchain langchain_openai pandas langchain_experimental matplotlib langgraph langchain_core"
   ]
  },
  {
   "cell_type": "code",
   "execution_count": 2,
   "id": "743c19df-6da9-4d1e-b2d2-ea40080b9fdc",
   "metadata": {},
   "outputs": [],
   "source": [
    "import getpass\n",
    "import os\n",
    "\n",
    "\n",
    "def _set_env(var: str):\n",
    "    if not os.environ.get(var):\n",
    "        os.environ[var] = getpass.getpass(f\"{var}: \")\n",
    "\n",
    "\n",
    "_set_env(\"OPENAI_API_KEY\")\n",
    "_set_env(\"TAVILY_API_KEY\")"
   ]
  },
  {
   "cell_type": "code",
   "execution_count": 3,
   "id": "ed97f180-8faa-49de-a300-b68c211549ee",
   "metadata": {},
   "outputs": [],
   "source": [
    "# Helper\n",
    "def visualize_graph(graph):\n",
    "    from IPython.display import Image, display\n",
    "    try:\n",
    "        display(Image(graph.get_graph(xray=True).draw_mermaid_png()))\n",
    "    except Exception:\n",
    "        # This requires some extra dependencies and is optional\n",
    "        pass"
   ]
  },
  {
   "cell_type": "markdown",
   "id": "5e4344a7-21df-4d54-90d2-9d19b3416ffb",
   "metadata": {},
   "source": [
    "## Agent 만들기"
   ]
  },
  {
   "cell_type": "code",
   "execution_count": 4,
   "id": "4325a10e-38dc-4a98-9004-e1525eaba377",
   "metadata": {},
   "outputs": [],
   "source": [
    "from langchain_core.messages import (\n",
    "    BaseMessage,\n",
    "    HumanMessage,\n",
    "    ToolMessage,\n",
    ")\n",
    "from langchain_core.prompts import ChatPromptTemplate, MessagesPlaceholder\n",
    "\n",
    "from langgraph.graph import END, StateGraph\n",
    "\n",
    "\n",
    "def create_agent(llm, tools, system_message: str):\n",
    "    \"\"\"Create an agent.\"\"\"\n",
    "    prompt = ChatPromptTemplate.from_messages(\n",
    "        [\n",
    "            (\n",
    "                \"system\",\n",
    "                \"You are a helpful AI assistant, collaborating with other assistants.\"\n",
    "                \" Use the provided tools to progress towards answering the question.\"\n",
    "                \" If you are unable to fully answer, that's OK, another assistant with different tools \"\n",
    "                \" will help where you left off. Execute what you can to make progress.\"\n",
    "                \" If you or any of the other assistants have the final answer or deliverable,\"\n",
    "                \" prefix your response with FINAL ANSWER so the team knows to stop.\"\n",
    "                \" You have access to the following tools: {tool_names}.\\n{system_message}\",\n",
    "            ),\n",
    "            MessagesPlaceholder(variable_name=\"messages\"),\n",
    "        ]\n",
    "    )\n",
    "    prompt = prompt.partial(system_message=system_message)\n",
    "    prompt = prompt.partial(tool_names=\", \".join([tool.name for tool in tools]))\n",
    "    return prompt | llm.bind_tools(tools)"
   ]
  },
  {
   "cell_type": "markdown",
   "id": "b4b40de2-5dd4-4d5b-882e-577210723ff4",
   "metadata": {},
   "source": [
    "## Tool 정의하기\n"
   ]
  },
  {
   "cell_type": "code",
   "execution_count": 5,
   "id": "ca076f3b-a729-4ca9-8f91-05c2ba58d610",
   "metadata": {},
   "outputs": [],
   "source": [
    "from typing import Annotated\n",
    "\n",
    "from langchain_community.tools.tavily_search import TavilySearchResults\n",
    "from langchain_core.tools import tool\n",
    "from langchain_experimental.utilities import PythonREPL\n",
    "\n",
    "tavily_tool = TavilySearchResults(max_results=5)\n",
    "\n",
    "# Warning: This executes code locally, which can be unsafe when not sandboxed\n",
    "\n",
    "repl = PythonREPL()\n",
    "\n",
    "\n",
    "# 영어로 서술하는게 많은 경우 성능이 더 좋음\n",
    "@tool\n",
    "def python_repl(\n",
    "    code: Annotated[str, \"The python code to execute to generate your chart.\"],\n",
    "):\n",
    "    \"\"\"Use this to execute python code. If you want to see the output of a value,\n",
    "    you should print it out with `print(...)`. This is visible to the user.\"\"\"\n",
    "    try:\n",
    "        result = repl.run(code)\n",
    "    except BaseException as e:\n",
    "        return f\"Failed to execute. Error: {repr(e)}\"\n",
    "    result_str = f\"Successfully executed:\\n```python\\n{code}\\n```\\nStdout: {result}\"\n",
    "    return (\n",
    "        result_str + \"\\n\\nIf you have completed all tasks, respond with FINAL ANSWER.\"\n",
    "    )"
   ]
  },
  {
   "cell_type": "markdown",
   "id": "f1b54c0c-0b09-408b-abc5-86308929afb6",
   "metadata": {},
   "source": [
    "## Graph 만들기\n",
    "\n",
    "이제 도구를 정의하고 몇 가지 헬퍼 함수를 만들었으므로, 아래에서 개별 에이전트를 생성하고 이들이 LangGraph를 사용하여 서로 어떻게 소통할지 지정하겠습니다."
   ]
  },
  {
   "cell_type": "markdown",
   "id": "0c6a8c3c-86a0-46aa-b970-ab070fb787d9",
   "metadata": {},
   "source": [
    "### State 정의하기\n"
   ]
  },
  {
   "cell_type": "code",
   "execution_count": 6,
   "id": "290c91d4-f6f4-443c-8181-233d39102974",
   "metadata": {},
   "outputs": [],
   "source": [
    "import operator\n",
    "from typing import Annotated, Sequence, TypedDict\n",
    "\n",
    "from langchain_openai import ChatOpenAI\n",
    "\n",
    "\n",
    "# This defines the object that is passed between each node\n",
    "# in the graph. We will create different nodes for each agent and tool\n",
    "class AgentState(TypedDict):\n",
    "    messages: Annotated[Sequence[BaseMessage], operator.add]\n",
    "    sender: str"
   ]
  },
  {
   "cell_type": "markdown",
   "id": "911a283e-ea04-40c1-b792-f9e5f7d81203",
   "metadata": {},
   "source": [
    "### Agent Nodes 정의하기"
   ]
  },
  {
   "cell_type": "code",
   "execution_count": 7,
   "id": "71b790ca-9cef-4b22-b469-4b1d5d8424d6",
   "metadata": {},
   "outputs": [],
   "source": [
    "import functools\n",
    "\n",
    "from langchain_core.messages import AIMessage\n",
    "\n",
    "\n",
    "# Helper function to create a node for a given agent\n",
    "def agent_node(state, agent, name):\n",
    "    result = agent.invoke(state)\n",
    "    # We convert the agent output into a format that is suitable to append to the global state\n",
    "    if isinstance(result, ToolMessage):\n",
    "        pass\n",
    "    else:\n",
    "        result = AIMessage(**result.dict(exclude={\"type\", \"name\"}), name=name)\n",
    "    return {\n",
    "        \"messages\": [result],\n",
    "        # Since we have a strict workflow, we can\n",
    "        # track the sender so we know who to pass to next.\n",
    "        \"sender\": name,\n",
    "    }\n",
    "\n",
    "\n",
    "llm = ChatOpenAI(model=\"gpt-4o\")\n",
    "\n",
    "# Research agent and node\n",
    "research_agent = create_agent(\n",
    "    llm,\n",
    "    [tavily_tool],\n",
    "    system_message=\"You should provide accurate data for the chart_generator to use.\",\n",
    ")\n",
    "research_node = functools.partial(agent_node, agent=research_agent, name=\"Researcher\")\n",
    "\n",
    "# chart_generator\n",
    "chart_agent = create_agent(\n",
    "    llm,\n",
    "    [python_repl],\n",
    "    system_message=\"Any charts you display will be visible by the user.\",\n",
    ")\n",
    "chart_node = functools.partial(agent_node, agent=chart_agent, name=\"chart_generator\")"
   ]
  },
  {
   "cell_type": "markdown",
   "id": "71c7f1b2-24a3-4340-bcb2-feb22e344fb6",
   "metadata": {},
   "source": [
    "### Tool Node 정의하기"
   ]
  },
  {
   "cell_type": "code",
   "execution_count": 8,
   "id": "d9a79c76-5c7c-42f6-91cf-635bc8305804",
   "metadata": {},
   "outputs": [],
   "source": [
    "from langgraph.prebuilt import ToolNode\n",
    "\n",
    "tools = [tavily_tool, python_repl]\n",
    "tool_node = ToolNode(tools)"
   ]
  },
  {
   "cell_type": "markdown",
   "id": "bcb30498-dbc4-4b20-980f-da08ebc9da56",
   "metadata": {},
   "source": [
    "### Edge Logic 정의하기"
   ]
  },
  {
   "cell_type": "code",
   "execution_count": 9,
   "id": "4f4b4d37-e8a3-4abb-8d42-eaea26016f35",
   "metadata": {},
   "outputs": [],
   "source": [
    "# Either agent can decide to end\n",
    "from typing import Literal\n",
    "\n",
    "\n",
    "def router(state) -> Literal[\"call_tool\", \"__end__\", \"continue\"]:\n",
    "    # This is the router\n",
    "    messages = state[\"messages\"]\n",
    "    last_message = messages[-1]\n",
    "    if last_message.tool_calls:\n",
    "        # The previous agent is invoking a tool\n",
    "        return \"call_tool\"\n",
    "    if \"FINAL ANSWER\" in last_message.content:\n",
    "        # Any agent decided the work is done\n",
    "        return \"__end__\"\n",
    "    return \"continue\""
   ]
  },
  {
   "cell_type": "markdown",
   "id": "e9359c34-e191-43a2-a3d4-f2dea636dfd2",
   "metadata": {},
   "source": [
    "### Graph 정의하기"
   ]
  },
  {
   "cell_type": "code",
   "execution_count": 10,
   "id": "4dce3901-6ad5-4df5-8528-6e865cf96cb0",
   "metadata": {},
   "outputs": [],
   "source": [
    "workflow = StateGraph(AgentState)\n",
    "\n",
    "workflow.add_node(\"Researcher\", research_node)\n",
    "workflow.add_node(\"chart_generator\", chart_node)\n",
    "workflow.add_node(\"call_tool\", tool_node)\n",
    "\n",
    "workflow.add_conditional_edges(\n",
    "    \"Researcher\",\n",
    "    router,\n",
    "    {\"continue\": \"chart_generator\", \"call_tool\": \"call_tool\", \"__end__\": END},\n",
    ")\n",
    "workflow.add_conditional_edges(\n",
    "    \"chart_generator\",\n",
    "    router,\n",
    "    {\"continue\": \"Researcher\", \"call_tool\": \"call_tool\", \"__end__\": END},\n",
    ")\n",
    "\n",
    "workflow.add_conditional_edges(\n",
    "    \"call_tool\",\n",
    "    # Each agent node updates the 'sender' field\n",
    "    # the tool calling node does not, meaning\n",
    "    # this edge will route back to the original agent\n",
    "    # who invoked the tool\n",
    "    lambda x: x[\"sender\"],\n",
    "    {\n",
    "        \"Researcher\": \"Researcher\",\n",
    "        \"chart_generator\": \"chart_generator\",\n",
    "    },\n",
    ")\n",
    "workflow.set_entry_point(\"Researcher\")\n",
    "graph = workflow.compile()"
   ]
  },
  {
   "cell_type": "code",
   "execution_count": 11,
   "id": "97f8e0eb",
   "metadata": {},
   "outputs": [
    {
     "data": {
      "image/jpeg": "[encoded data removed]",
      "text/plain": [
       "<IPython.core.display.Image object>"
      ]
     },
     "metadata": {},
     "output_type": "display_data"
    }
   ],
   "source": [
    "visualize_graph(graph)"
   ]
  },
  {
   "cell_type": "markdown",
   "id": "8c9447e7-9ab6-43eb-8ae6-9b52f8ba8425",
   "metadata": {},
   "source": [
    "## Invoke"
   ]
  },
  {
   "cell_type": "code",
   "execution_count": 12,
   "id": "176a99b0-b457-45cf-8901-90facaa852da",
   "metadata": {},
   "outputs": [
    {
     "name": "stdout",
     "output_type": "stream",
     "text": [
      "{'Researcher': {'messages': [AIMessage(content='', additional_kwargs={'tool_calls': [{'id': 'call_efDR2NlcQsDGkmK9wQ7BjjYe', 'function': {'arguments': '{\\n  \"query\": \"South Korea GDP last 5 years\"\\n}', 'name': 'tavily_search_results_json'}, 'type': 'function'}]}, response_metadata={'token_usage': {'completion_tokens': 25, 'prompt_tokens': 217, 'total_tokens': 242}, 'model_name': 'gpt-4o', 'system_fingerprint': 'fp_3e7d703517', 'finish_reason': 'tool_calls', 'logprobs': None}, name='Researcher', id='run-0244eca5-5dbf-4876-92b2-1ff127b54797-0', tool_calls=[{'name': 'tavily_search_results_json', 'args': {'query': 'South Korea GDP last 5 years'}, 'id': 'call_efDR2NlcQsDGkmK9wQ7BjjYe'}], usage_metadata={'input_tokens': 217, 'output_tokens': 25, 'total_tokens': 242})], 'sender': 'Researcher'}}\n",
      "----\n",
      "{'call_tool': {'messages': [ToolMessage(content='[{\"url\": \"https://www.macrotrends.net/global-metrics/countries/KOR/south-korea/gdp-gross-domestic-product\", \"content\": \"South Korea gdp for 2022 was $1,673.92B, a 7.95% decline from 2021. South Korea gdp for 2021 was $1,818.43B, a 10.59% increase from 2020. South Korea gdp for 2020 was $1,644.31B, a 0.43% decline from 2019. South Korea gdp for 2019 was $1,651.42B, a 4.29% decline from 2018. GDP at purchaser\\'s prices is the sum of gross value added by all ...\"}, {\"url\": \"https://data.worldbank.org/indicator/NY.GDP.MKTP.KD.ZG?locations=KR\", \"content\": \"GDP growth (annual %) - Korea, Rep. World Bank national accounts data, and OECD National Accounts data files. License : CC BY-4.0. Line Bar Map. Label. 1961 - 2022.\"}, {\"url\": \"https://www.statista.com/statistics/263579/gross-domestic-product-gdp-in-south-korea/\", \"content\": \"Industry Overview\\\\nDigital & Trend reports\\\\nOverview and forecasts on trending topics\\\\nIndustry & Market reports\\\\nIndustry and market insights and forecasts\\\\nCompanies & Products reports\\\\nKey figures and rankings about companies and products\\\\nConsumer & Brand reports\\\\nConsumer and brand insights and preferences in various industries\\\\nPolitics & Society reports\\\\nDetailed information about political and social topics\\\\nCountry & Region reports\\\\nAll key figures about countries and regions\\\\nMarket forecast and expert KPIs for 1000+ markets in 190+ countries & territories\\\\nInsights on consumer attitudes and behavior worldwide\\\\nBusiness information on 100m+ public and private companies\\\\nExplore Company Insights\\\\nDetailed information for 39,000+ online stores and marketplaces\\\\nDirectly accessible data for 170 industries from 150+ countries\\\\nand over 1\\\\u00a0Mio. facts.\\\\n Statistics on\\\\n\\\\\"\\\\nEconomic Outlook South Korea\\\\n\\\\\"\\\\nOther statistics that may interest you Economic Outlook South Korea\\\\nKey economic indicators\\\\nManufacturing\\\\nServices\\\\nRetail\\\\nFurther related statistics\\\\nFurther Content: You might find this interesting as well\\\\nStatistics\\\\nTopics Other statistics on the topicSouth Korea\\\\nInternational\\\\nGDP growth forecast: Asia, U.S., UK and Germany 2010-2025\\\\nInternational\\\\nDistribution of gross domestic product (GDP) across economic sectors South Korea 2022\\\\nInternational\\\\nInflation rate in South Korea 2028\\\\nInternational\\\\nGross domestic product (GDP) growth in South Korea 1954-2028\\\\nYou only have access to basic statistics.\\\\n Transforming data into design:\\\\nStatista Content & Design\\\\nStrategy and business building for the data-driven economy:\\\\nGross domestic product (GDP) in South Korea 2028\\\\nSouth Korea: Gross domestic product (GDP) in current prices from 1987 to 2028\\\\n(in billion U.S. dollars)\\\\n Additional Information\\\\nShow sources information\\\\nShow publisher information\\\\nUse Ask Statista Research Service\\\\nOctober 2023\\\\nSouth Korea\\\\n1987 to 2022\\\\n* Estimate.\"}, {\"url\": \"https://tradingeconomics.com/south-korea/gdp\", \"content\": \"The Gross Domestic Product (GDP) in South Korea was worth 1673.92 billion US dollars in 2022, according to official data from the World Bank. The GDP value of South Korea represents 0.72 percent of the world economy. This page provides - South Korea GDP - actual values, historical data, forecast, chart, statistics, economic calendar and news.\"}, {\"url\": \"https://www.macrotrends.net/global-metrics/countries/KOR/south-korea/gdp-growth-rate\", \"content\": \"South Korea gdp growth rate for 2022 was 2.61%, a 1.69% decline from 2021. South Korea gdp growth rate for 2021 was 4.30%, a 5.01% increase from 2020. South Korea gdp growth rate for 2020 was -0.71%, a 2.95% decline from 2019. South Korea gdp growth rate for 2019 was 2.24%, a 0.66% decline from 2018. Download Historical Data. Save as Image.\"}]', name='tavily_search_results_json', tool_call_id='call_efDR2NlcQsDGkmK9wQ7BjjYe')]}}\n",
      "----\n",
      "{'Researcher': {'messages': [AIMessage(content=\"Here are the GDP values for South Korea for the last five years:\\n\\n- **2022**: $1,673.92 billion\\n- **2021**: $1,818.43 billion\\n- **2020**: $1,644.31 billion\\n- **2019**: $1,651.42 billion\\n- **2018**: $1,725.36 billion\\n\\nI will now proceed to write the code to generate the line graph using these values.\\n```python\\nimport matplotlib.pyplot as plt\\n\\n# Data for South Korea's GDP over the last 5 years\\nyears = [2018, 2019, 2020, 2021, 2022]\\ngdp_values = [1725.36, 1651.42, 1644.31, 1818.43, 1673.92]\\n\\n# Create a line graph\\nplt.figure(figsize=(10, 5))\\nplt.plot(years, gdp_values, marker='o', linestyle='-', color='b')\\n\\n# Add title and labels\\nplt.title('South Korea GDP Over the Last 5 Years')\\nplt.xlabel('Year')\\nplt.ylabel('GDP in Billion USD')\\n\\n# Show the graph\\nplt.grid(True)\\nplt.show()\\n```\", response_metadata={'token_usage': {'completion_tokens': 262, 'prompt_tokens': 1197, 'total_tokens': 1459}, 'model_name': 'gpt-4o', 'system_fingerprint': 'fp_5e6c71d4a8', 'finish_reason': 'stop', 'logprobs': None}, name='Researcher', id='run-db7283fc-0751-4f6f-a286-3640b72bbcbb-0', usage_metadata={'input_tokens': 1197, 'output_tokens': 262, 'total_tokens': 1459})], 'sender': 'Researcher'}}\n",
      "----\n"
     ]
    },
    {
     "name": "stderr",
     "output_type": "stream",
     "text": [
      "Python REPL can execute arbitrary code. Use with caution.\n"
     ]
    },
    {
     "name": "stdout",
     "output_type": "stream",
     "text": [
      "{'chart_generator': {'messages': [AIMessage(content='', additional_kwargs={'tool_calls': [{'id': 'call_8wVxZeJ3wTKUGEOxUW7ZdQP9', 'function': {'arguments': '{\"code\":\"import matplotlib.pyplot as plt\\\\n\\\\n# Data for South Korea\\'s GDP over the last 5 years\\\\nyears = [2018, 2019, 2020, 2021, 2022]\\\\ngdp_values = [1725.36, 1651.42, 1644.31, 1818.43, 1673.92]\\\\n\\\\n# Create a line graph\\\\nplt.figure(figsize=(10, 5))\\\\nplt.plot(years, gdp_values, marker=\\'o\\', linestyle=\\'-\\', color=\\'b\\')\\\\n\\\\n# Add title and labels\\\\nplt.title(\\'South Korea GDP Over the Last 5 Years\\')\\\\nplt.xlabel(\\'Year\\')\\\\nplt.ylabel(\\'GDP in Billion USD\\')\\\\n\\\\n# Show the graph\\\\nplt.grid(True)\\\\nplt.show()\"}', 'name': 'python_repl'}, 'type': 'function'}]}, response_metadata={'token_usage': {'completion_tokens': 186, 'prompt_tokens': 1455, 'total_tokens': 1641}, 'model_name': 'gpt-4o', 'system_fingerprint': 'fp_3e7d703517', 'finish_reason': 'tool_calls', 'logprobs': None}, name='chart_generator', id='run-1741a7ab-9127-469b-a60d-82fc198a449a-0', tool_calls=[{'name': 'python_repl', 'args': {'code': \"import matplotlib.pyplot as plt\\n\\n# Data for South Korea's GDP over the last 5 years\\nyears = [2018, 2019, 2020, 2021, 2022]\\ngdp_values = [1725.36, 1651.42, 1644.31, 1818.43, 1673.92]\\n\\n# Create a line graph\\nplt.figure(figsize=(10, 5))\\nplt.plot(years, gdp_values, marker='o', linestyle='-', color='b')\\n\\n# Add title and labels\\nplt.title('South Korea GDP Over the Last 5 Years')\\nplt.xlabel('Year')\\nplt.ylabel('GDP in Billion USD')\\n\\n# Show the graph\\nplt.grid(True)\\nplt.show()\"}, 'id': 'call_8wVxZeJ3wTKUGEOxUW7ZdQP9'}], usage_metadata={'input_tokens': 1455, 'output_tokens': 186, 'total_tokens': 1641})], 'sender': 'chart_generator'}}\n",
      "----\n"
     ]
    },
    {
     "data": {
      "image/png": "[encoded data removed]",
      "text/plain": [
       "<Figure size 1000x500 with 1 Axes>"
      ]
     },
     "metadata": {},
     "output_type": "display_data"
    },
    {
     "name": "stdout",
     "output_type": "stream",
     "text": [
      "{'call_tool': {'messages': [ToolMessage(content=\"Successfully executed:\\n```python\\nimport matplotlib.pyplot as plt\\n\\n# Data for South Korea's GDP over the last 5 years\\nyears = [2018, 2019, 2020, 2021, 2022]\\ngdp_values = [1725.36, 1651.42, 1644.31, 1818.43, 1673.92]\\n\\n# Create a line graph\\nplt.figure(figsize=(10, 5))\\nplt.plot(years, gdp_values, marker='o', linestyle='-', color='b')\\n\\n# Add title and labels\\nplt.title('South Korea GDP Over the Last 5 Years')\\nplt.xlabel('Year')\\nplt.ylabel('GDP in Billion USD')\\n\\n# Show the graph\\nplt.grid(True)\\nplt.show()\\n```\\nStdout: \\n\\nIf you have completed all tasks, respond with FINAL ANSWER.\", name='python_repl', tool_call_id='call_8wVxZeJ3wTKUGEOxUW7ZdQP9')]}}\n",
      "----\n",
      "{'chart_generator': {'messages': [AIMessage(content=\"Here is the line graph showing South Korea's GDP over the last 5 years:\\n\\n![South Korea GDP Over the Last 5 Years](sandbox:/mnt/data/chart.png)\\n\\nThe GDP values used in this graph are:\\n\\n- **2018**: $1,725.36 billion\\n- **2019**: $1,651.42 billion\\n- **2020**: $1,644.31 billion\\n- **2021**: $1,818.43 billion\\n- **2022**: $1,673.92 billion\\n\\nFINAL ANSWER\", response_metadata={'token_usage': {'completion_tokens': 118, 'prompt_tokens': 1833, 'total_tokens': 1951}, 'model_name': 'gpt-4o', 'system_fingerprint': 'fp_3e7d703517', 'finish_reason': 'stop', 'logprobs': None}, name='chart_generator', id='run-035fd8db-6ecb-47c4-a8f6-6b608ce16353-0', usage_metadata={'input_tokens': 1833, 'output_tokens': 118, 'total_tokens': 1951})], 'sender': 'chart_generator'}}\n",
      "----\n"
     ]
    }
   ],
   "source": [
    "events = graph.stream(\n",
    "    {\n",
    "        \"messages\": [\n",
    "            HumanMessage(\n",
    "                content=\n",
    "                \"지난 5년 동안 한국의 GDP를 가져와서, 코드를 작성해서 선그래프를 그린 후 완료하세요.\"\n",
    "            )\n",
    "        ],\n",
    "    },\n",
    "    # Maximum number of steps to take in the graph\n",
    "    {\"recursion_limit\": 150},\n",
    ")\n",
    "for s in events:\n",
    "    print(s)\n",
    "    print(\"----\")"
   ]
  },
  {
   "cell_type": "code",
   "execution_count": null,
   "id": "010fc36e-4116-4758-bcac-b02c7dcd405d",
   "metadata": {},
   "outputs": [],
   "source": []
  },
  {
   "cell_type": "code",
   "execution_count": null,
   "id": "48181e8f-da5e-4dc5-bcf0-6f5241495855",
   "metadata": {},
   "outputs": [],
   "source": []
  }
 ],
 "metadata": {
  "kernelspec": {
   "display_name": "Python 3 (ipykernel)",
   "language": "python",
   "name": "python3"
  },
  "language_info": {
   "codemirror_mode": {
    "name": "ipython",
    "version": 3
   },
   "file_extension": ".py",
   "mimetype": "text/x-python",
   "name": "python",
   "nbconvert_exporter": "python",
   "pygments_lexer": "ipython3",
   "version": "3.11.9"
  }
 },
 "nbformat": 4,
 "nbformat_minor": 5
}
