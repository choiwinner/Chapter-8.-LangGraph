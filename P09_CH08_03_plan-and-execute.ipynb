{
 "cells": [
  {
   "cell_type": "markdown",
   "id": "79b5811c-1074-495f-9722-8325b5e717d3",
   "metadata": {},
   "source": [
    "# Plan-and-Execute\n",
    "\n",
    "이 노트북은 \"계획 및 실행(plan-and-execute)\" 스타일의 에이전트를 만드는 방법을 보여줍니다. 이는 [Plan-and-Solve](https://arxiv.org/abs/2305.04091) 논문과 [Baby-AGI](https://github.com/yoheinakajima/babyagi) 프로젝트에서 큰 영감을 받았습니다.\n",
    "\n",
    "핵심 아이디어는 먼저 여러 단계의 계획을 세운 다음, 그 계획을 하나씩 실행하는 것입니다. 특정 작업을 완료한 후에는 계획을 다시 검토하고 적절하게 수정할 수 있습니다.\n",
    "\n",
    "일반적인 계산 그래프는 다음과 같습니다:\n",
    "\n",
    "<img src=\"./img/plan-and-execute.png\" alt=\"plan-and-execute diagram\" width=\"640\"/>\n",
    "\n",
    "이는 보통의 [ReAct](https://arxiv.org/abs/2210.03629) 스타일 에이전트와 비교됩니다. ReAct 스타일 에이전트는 한 번에 한 단계씩 생각합니다. \"계획 및 실행\" 스타일 에이전트의 장점은 다음과 같습니다:\n",
    "\n",
    "1. 명시적인 장기 계획 수립 (이는 매우 강력한 LLM에서도 어려움을 겪을 수 있습니다)\n",
    "2. 실행 단계에서는 더 작고 약한 모델을 사용할 수 있으며, 계획 단계에서는 더 크고 나은 모델을 사용\n",
    "\n",
    "다음의 단계별 설명은 LangGraph에서 이를 구현하는 방법을 보여줍니다."
   ]
  },
  {
   "cell_type": "markdown",
   "id": "a44a72d6-7e0c-4478-9d20-4c09000420a8",
   "metadata": {},
   "source": [
    "## Setup"
   ]
  },
  {
   "cell_type": "code",
   "execution_count": null,
   "id": "b451b58a-89bd-424f-8c06-0d9fe325e01b",
   "metadata": {},
   "outputs": [],
   "source": [
    "!pip install --quiet -U langgraph langchain-community langchain-openai tavily-python"
   ]
  },
  {
   "cell_type": "code",
   "execution_count": null,
   "id": "ce438281-08d5-4804-afe7-e4089f7b016b",
   "metadata": {},
   "outputs": [],
   "source": [
    "import getpass\n",
    "import os\n",
    "\n",
    "\n",
    "def _set_env(var: str):\n",
    "    if not os.environ.get(var):\n",
    "        os.environ[var] = getpass.getpass(f\"{var}: \")\n",
    "\n",
    "\n",
    "_set_env(\"OPENAI_API_KEY\")\n",
    "_set_env(\"TAVILY_API_KEY\")"
   ]
  },
  {
   "cell_type": "code",
   "execution_count": 1,
   "id": "4152fe30",
   "metadata": {},
   "outputs": [],
   "source": [
    "#gemini setting\n",
    "import google.generativeai as genai\n",
    "\n",
    "#os_key Setting\n",
    "\n",
    "from dotenv import load_dotenv\n",
    "import os\n",
    "# .env 파일 로드(api key load) \n",
    "#GOOGLE_API_KEY \n",
    "#LANGCHAIN_API_KEY \n",
    "#TAVILY_API_KEY \n",
    "#HUGGINGFACEHUB_API_TOKEN \n",
    "#COHERE_API_KEY \n",
    "\n",
    "load_dotenv()\n",
    "\n",
    "# GOOGLE_API_KEY 환경 변수 값 가져오기\n",
    "google_api_key = os.getenv('GOOGLE_API_KEY')\n",
    "\n",
    "# genai.configure로 GOOGLE API KEY Setting하기기\n",
    "genai.configure(api_key=google_api_key)"
   ]
  },
  {
   "cell_type": "markdown",
   "id": "6c5fb09a-0311-44c2-b243-d0e80de78902",
   "metadata": {},
   "source": [
    "## 도구 정의하기\n",
    "\n",
    "먼저 우리가 사용하고자 하는 도구를 정의하겠습니다. 이 간단한 예시에서는 Tavily를 통해 내장된 검색 도구를 사용할 것입니다. 하지만 자신만의 도구를 만드는 것도 매우 간단합니다. 여기에 대한 자세한 내용은 [여기](https://python.langchain.com/v0.2/docs/how_to/custom_tools)에서 확인하세요."
   ]
  },
  {
   "cell_type": "code",
   "execution_count": 2,
   "id": "25b9ec62-0675-4715-811c-9b32c635b22f",
   "metadata": {},
   "outputs": [],
   "source": [
    "from langchain_community.tools.tavily_search import TavilySearchResults\n",
    "tools = [TavilySearchResults(max_results=3)]"
   ]
  },
  {
   "cell_type": "markdown",
   "id": "3dcda478-fa80-4e3e-bb35-0f622fe73a31",
   "metadata": {},
   "source": [
    "## 실행 에이전트 정의하기\n",
    "\n",
    "이제 우리가 사용하고자 하는 실행 에이전트를 만들어 작업을 수행할 것입니다. 이 예시에서는 각 작업에 대해 동일한 실행 에이전트를 사용할 예정이지만, 반드시 이렇게 해야 하는 것은 아닙니다."
   ]
  },
  {
   "cell_type": "code",
   "execution_count": 65,
   "id": "72d233ca-1dbf-4b43-b680-b3bf39e3691f",
   "metadata": {},
   "outputs": [
    {
     "name": "stdout",
     "output_type": "stream",
     "text": [
      "================================\u001b[1m System Message \u001b[0m================================\n",
      "\n",
      "You are a helpful assistant.\n",
      "\n",
      "=============================\u001b[1m Messages Placeholder \u001b[0m=============================\n",
      "\n",
      "\u001b[33;1m\u001b[1;3m{{messages}}\u001b[0m\n"
     ]
    }
   ],
   "source": [
    "from langchain import hub\n",
    "from langchain_openai import ChatOpenAI\n",
    "\n",
    "from langgraph.prebuilt import create_react_agent\n",
    "\n",
    "# Get the prompt to use - you can modify this!\n",
    "prompt = hub.pull(\"wfh/react-agent-executor\")\n",
    "prompt.pretty_print()\n"
   ]
  },
  {
   "cell_type": "code",
   "execution_count": 3,
   "id": "885bae60",
   "metadata": {},
   "outputs": [
    {
     "name": "stdout",
     "output_type": "stream",
     "text": [
      "================================\u001b[1m System Message \u001b[0m================================\n",
      "\n",
      "You are a helpful assistant.\n",
      "\n",
      "=============================\u001b[1m Messages Placeholder \u001b[0m=============================\n",
      "\n",
      "\u001b[33;1m\u001b[1;3m{{messages}}\u001b[0m\n"
     ]
    }
   ],
   "source": [
    "#gemini\n",
    "from langchain import hub\n",
    "#gemini chatbot setting\n",
    "from langchain_google_genai import ChatGoogleGenerativeAI\n",
    "\n",
    "\n",
    "from langgraph.prebuilt import create_react_agent\n",
    "\n",
    "# Get the prompt to use - you can modify this!\n",
    "prompt = hub.pull(\"wfh/react-agent-executor\")\n",
    "prompt.pretty_print()"
   ]
  },
  {
   "cell_type": "markdown",
   "id": "a3649839-d309-433e-a6df-a406af426d82",
   "metadata": {},
   "source": [
    "### System prompt 패치하기"
   ]
  },
  {
   "cell_type": "code",
   "execution_count": 10,
   "id": "2c0ec012",
   "metadata": {},
   "outputs": [
    {
     "data": {
      "text/plain": [
       "langchain_core.prompts.chat.ChatPromptTemplate"
      ]
     },
     "execution_count": 10,
     "metadata": {},
     "output_type": "execute_result"
    }
   ],
   "source": [
    "#prompt 내용 확인하기\n",
    "type(prompt)"
   ]
  },
  {
   "cell_type": "code",
   "execution_count": 13,
   "id": "14b23ec1",
   "metadata": {},
   "outputs": [
    {
     "data": {
      "text/plain": [
       "ChatPromptTemplate(input_variables=['{messages}'], input_types={'{messages}': list[typing.Annotated[typing.Union[typing.Annotated[langchain_core.messages.ai.AIMessage, Tag(tag='ai')], typing.Annotated[langchain_core.messages.human.HumanMessage, Tag(tag='human')], typing.Annotated[langchain_core.messages.chat.ChatMessage, Tag(tag='chat')], typing.Annotated[langchain_core.messages.system.SystemMessage, Tag(tag='system')], typing.Annotated[langchain_core.messages.function.FunctionMessage, Tag(tag='function')], typing.Annotated[langchain_core.messages.tool.ToolMessage, Tag(tag='tool')], typing.Annotated[langchain_core.messages.ai.AIMessageChunk, Tag(tag='AIMessageChunk')], typing.Annotated[langchain_core.messages.human.HumanMessageChunk, Tag(tag='HumanMessageChunk')], typing.Annotated[langchain_core.messages.chat.ChatMessageChunk, Tag(tag='ChatMessageChunk')], typing.Annotated[langchain_core.messages.system.SystemMessageChunk, Tag(tag='SystemMessageChunk')], typing.Annotated[langchain_core.messages.function.FunctionMessageChunk, Tag(tag='FunctionMessageChunk')], typing.Annotated[langchain_core.messages.tool.ToolMessageChunk, Tag(tag='ToolMessageChunk')]], FieldInfo(annotation=NoneType, required=True, discriminator=Discriminator(discriminator=<function _get_type at 0x000002C5C18EC790>, custom_error_type=None, custom_error_message=None, custom_error_context=None))]]}, partial_variables={}, metadata={'lc_hub_owner': 'wfh', 'lc_hub_repo': 'react-agent-executor', 'lc_hub_commit_hash': 'bccfbbc5de8559d19d44c8ea2229bb6d06c99e402ea29b8694b294a31730a7a5'}, messages=[SystemMessagePromptTemplate(prompt=PromptTemplate(input_variables=[], input_types={}, partial_variables={}, template='너는 도움이 되는 AI 어시스턴트이다'), additional_kwargs={}), MessagesPlaceholder(variable_name='{messages}')])"
      ]
     },
     "execution_count": 13,
     "metadata": {},
     "output_type": "execute_result"
    }
   ],
   "source": [
    "prompt"
   ]
  },
  {
   "cell_type": "code",
   "execution_count": 20,
   "id": "53218cfb",
   "metadata": {},
   "outputs": [
    {
     "name": "stdout",
     "output_type": "stream",
     "text": [
      "{'attribute': 'Hello, world!'}\n"
     ]
    }
   ],
   "source": [
    "# 파이썬에서 객체의 모든 속성 확인 방법\n",
    "class Example:\n",
    "    def __init__(self):\n",
    "        self.attribute = \"Hello, world!\"\n",
    "\n",
    "# 객체 생성\n",
    "obj = Example()\n",
    "\n",
    "# 객체의 모든 속성을 딕셔너리 형태로 출력\n",
    "print(obj.__dict__)"
   ]
  },
  {
   "cell_type": "code",
   "execution_count": 18,
   "id": "524d9449",
   "metadata": {},
   "outputs": [
    {
     "data": {
      "text/plain": [
       "{'name': None,\n",
       " 'input_variables': ['{messages}'],\n",
       " 'optional_variables': [],\n",
       " 'input_types': {'{messages}': list[typing.Annotated[typing.Union[typing.Annotated[langchain_core.messages.ai.AIMessage, Tag(tag='ai')], typing.Annotated[langchain_core.messages.human.HumanMessage, Tag(tag='human')], typing.Annotated[langchain_core.messages.chat.ChatMessage, Tag(tag='chat')], typing.Annotated[langchain_core.messages.system.SystemMessage, Tag(tag='system')], typing.Annotated[langchain_core.messages.function.FunctionMessage, Tag(tag='function')], typing.Annotated[langchain_core.messages.tool.ToolMessage, Tag(tag='tool')], typing.Annotated[langchain_core.messages.ai.AIMessageChunk, Tag(tag='AIMessageChunk')], typing.Annotated[langchain_core.messages.human.HumanMessageChunk, Tag(tag='HumanMessageChunk')], typing.Annotated[langchain_core.messages.chat.ChatMessageChunk, Tag(tag='ChatMessageChunk')], typing.Annotated[langchain_core.messages.system.SystemMessageChunk, Tag(tag='SystemMessageChunk')], typing.Annotated[langchain_core.messages.function.FunctionMessageChunk, Tag(tag='FunctionMessageChunk')], typing.Annotated[langchain_core.messages.tool.ToolMessageChunk, Tag(tag='ToolMessageChunk')]], FieldInfo(annotation=NoneType, required=True, discriminator=Discriminator(discriminator=<function _get_type at 0x000002C5C18EC790>, custom_error_type=None, custom_error_message=None, custom_error_context=None))]]},\n",
       " 'output_parser': None,\n",
       " 'partial_variables': {},\n",
       " 'metadata': {'lc_hub_owner': 'wfh',\n",
       "  'lc_hub_repo': 'react-agent-executor',\n",
       "  'lc_hub_commit_hash': 'bccfbbc5de8559d19d44c8ea2229bb6d06c99e402ea29b8694b294a31730a7a5'},\n",
       " 'tags': None,\n",
       " 'messages': [SystemMessagePromptTemplate(prompt=PromptTemplate(input_variables=[], input_types={}, partial_variables={}, template='너는 도움이 되는 AI 어시스턴트이다'), additional_kwargs={}),\n",
       "  MessagesPlaceholder(variable_name='{messages}')],\n",
       " 'validate_template': False,\n",
       " '_serialized': {'lc': 1,\n",
       "  'type': 'constructor',\n",
       "  'id': ['langchain', 'prompts', 'chat', 'ChatPromptTemplate'],\n",
       "  'kwargs': {'input_variables': ['{messages}'],\n",
       "   'metadata': {'lc_hub_owner': 'wfh',\n",
       "    'lc_hub_repo': 'react-agent-executor',\n",
       "    'lc_hub_commit_hash': 'bccfbbc5de8559d19d44c8ea2229bb6d06c99e402ea29b8694b294a31730a7a5'},\n",
       "   'messages': [{'lc': 1,\n",
       "     'type': 'constructor',\n",
       "     'id': ['langchain', 'prompts', 'chat', 'SystemMessagePromptTemplate'],\n",
       "     'kwargs': {'prompt': {'lc': 1,\n",
       "       'type': 'constructor',\n",
       "       'id': ['langchain', 'prompts', 'prompt', 'PromptTemplate'],\n",
       "       'kwargs': {'input_variables': [],\n",
       "        'template': '너는 도움이 되는 AI 어시스턴트이다',\n",
       "        'template_format': 'f-string'},\n",
       "       'name': 'PromptTemplate'}}},\n",
       "    {'lc': 1,\n",
       "     'type': 'constructor',\n",
       "     'id': ['langchain', 'prompts', 'chat', 'MessagesPlaceholder'],\n",
       "     'kwargs': {'variable_name': '{messages}'}}]},\n",
       "  'name': 'ChatPromptTemplate'}}"
      ]
     },
     "execution_count": 18,
     "metadata": {},
     "output_type": "execute_result"
    }
   ],
   "source": [
    "prompt.__dict__"
   ]
  },
  {
   "cell_type": "code",
   "execution_count": 27,
   "id": "48f62bc6",
   "metadata": {},
   "outputs": [
    {
     "name": "stdout",
     "output_type": "stream",
     "text": [
      "[SystemMessagePromptTemplate(prompt=PromptTemplate(input_variables=[], input_types={}, partial_variables={}, template='너는 도움이 되는 AI 어시스턴트이다'), additional_kwargs={}), MessagesPlaceholder(variable_name='{messages}')]\n"
     ]
    }
   ],
   "source": [
    "print(prompt.messages)"
   ]
  },
  {
   "cell_type": "code",
   "execution_count": 28,
   "id": "a1027266",
   "metadata": {},
   "outputs": [
    {
     "data": {
      "text/plain": [
       "list"
      ]
     },
     "execution_count": 28,
     "metadata": {},
     "output_type": "execute_result"
    }
   ],
   "source": [
    "type(prompt.messages)"
   ]
  },
  {
   "cell_type": "code",
   "execution_count": 29,
   "id": "7ad0c96c",
   "metadata": {},
   "outputs": [
    {
     "data": {
      "text/plain": [
       "2"
      ]
     },
     "execution_count": 29,
     "metadata": {},
     "output_type": "execute_result"
    }
   ],
   "source": [
    "len(prompt.messages)"
   ]
  },
  {
   "cell_type": "code",
   "execution_count": 30,
   "id": "40761401",
   "metadata": {},
   "outputs": [
    {
     "data": {
      "text/plain": [
       "SystemMessagePromptTemplate(prompt=PromptTemplate(input_variables=[], input_types={}, partial_variables={}, template='너는 도움이 되는 AI 어시스턴트이다'), additional_kwargs={})"
      ]
     },
     "execution_count": 30,
     "metadata": {},
     "output_type": "execute_result"
    }
   ],
   "source": [
    "prompt.messages[0]"
   ]
  },
  {
   "cell_type": "code",
   "execution_count": 31,
   "id": "fce9ab10",
   "metadata": {},
   "outputs": [
    {
     "data": {
      "text/plain": [
       "langchain_core.prompts.chat.SystemMessagePromptTemplate"
      ]
     },
     "execution_count": 31,
     "metadata": {},
     "output_type": "execute_result"
    }
   ],
   "source": [
    "type(prompt.messages[0])"
   ]
  },
  {
   "cell_type": "code",
   "execution_count": 32,
   "id": "ef2f2e83",
   "metadata": {},
   "outputs": [
    {
     "data": {
      "text/plain": [
       "{'prompt': PromptTemplate(input_variables=[], input_types={}, partial_variables={}, template='너는 도움이 되는 AI 어시스턴트이다'),\n",
       " 'additional_kwargs': {}}"
      ]
     },
     "execution_count": 32,
     "metadata": {},
     "output_type": "execute_result"
    }
   ],
   "source": [
    "prompt.messages[0].__dict__"
   ]
  },
  {
   "cell_type": "code",
   "execution_count": 35,
   "id": "e6a32d98",
   "metadata": {},
   "outputs": [
    {
     "data": {
      "text/plain": [
       "PromptTemplate(input_variables=[], input_types={}, partial_variables={}, template='너는 도움이 되는 AI 어시스턴트이다')"
      ]
     },
     "execution_count": 35,
     "metadata": {},
     "output_type": "execute_result"
    }
   ],
   "source": [
    "prompt.messages[0].prompt"
   ]
  },
  {
   "cell_type": "code",
   "execution_count": 36,
   "id": "a589e5df",
   "metadata": {},
   "outputs": [
    {
     "data": {
      "text/plain": [
       "langchain_core.prompts.prompt.PromptTemplate"
      ]
     },
     "execution_count": 36,
     "metadata": {},
     "output_type": "execute_result"
    }
   ],
   "source": [
    "type(prompt.messages[0].prompt)"
   ]
  },
  {
   "cell_type": "code",
   "execution_count": 37,
   "id": "0c9123f5",
   "metadata": {},
   "outputs": [
    {
     "data": {
      "text/plain": [
       "{'name': None,\n",
       " 'input_variables': [],\n",
       " 'optional_variables': [],\n",
       " 'input_types': {},\n",
       " 'output_parser': None,\n",
       " 'partial_variables': {},\n",
       " 'metadata': None,\n",
       " 'tags': None,\n",
       " 'template': '너는 도움이 되는 AI 어시스턴트이다',\n",
       " 'template_format': 'f-string',\n",
       " 'validate_template': False}"
      ]
     },
     "execution_count": 37,
     "metadata": {},
     "output_type": "execute_result"
    }
   ],
   "source": [
    "prompt.messages[0].prompt.__dict__"
   ]
  },
  {
   "cell_type": "code",
   "execution_count": 38,
   "id": "f9248afa",
   "metadata": {},
   "outputs": [
    {
     "data": {
      "text/plain": [
       "'너는 도움이 되는 AI 어시스턴트이다'"
      ]
     },
     "execution_count": 38,
     "metadata": {},
     "output_type": "execute_result"
    }
   ],
   "source": [
    "prompt.messages[0].prompt.template"
   ]
  },
  {
   "cell_type": "code",
   "execution_count": 4,
   "id": "0aae791c-4895-4556-b491-c1e8fa30214f",
   "metadata": {},
   "outputs": [],
   "source": [
    "\n",
    "prompt.messages[0].prompt.template = \"너는 도움이 되는 AI 어시스턴트이다\""
   ]
  },
  {
   "cell_type": "code",
   "execution_count": 5,
   "id": "41938798-a76a-43c3-bdd9-d131a05f8f33",
   "metadata": {},
   "outputs": [
    {
     "name": "stdout",
     "output_type": "stream",
     "text": [
      "================================\u001b[1m System Message \u001b[0m================================\n",
      "\n",
      "너는 도움이 되는 AI 어시스턴트이다\n",
      "\n",
      "=============================\u001b[1m Messages Placeholder \u001b[0m=============================\n",
      "\n",
      "\u001b[33;1m\u001b[1;3m{{messages}}\u001b[0m\n"
     ]
    }
   ],
   "source": [
    "prompt.pretty_print()"
   ]
  },
  {
   "cell_type": "code",
   "execution_count": 6,
   "id": "aabc2c99-5b35-451f-9f9f-978ec91680ac",
   "metadata": {},
   "outputs": [],
   "source": [
    "# Choose the LLM that will drive the agent\n",
    "llm = ChatOpenAI(model=\"gpt-4o\")\n",
    "agent_executor = create_react_agent(llm, tools, messages_modifier=prompt)"
   ]
  },
  {
   "cell_type": "code",
   "execution_count": 6,
   "id": "357d8230",
   "metadata": {},
   "outputs": [
    {
     "name": "stderr",
     "output_type": "stream",
     "text": [
      "C:\\Users\\choiw\\AppData\\Local\\Temp\\ipykernel_35156\\2710740790.py:3: LangGraphDeprecationWarning: Parameter 'messages_modifier' in function 'create_react_agent' is deprecated as of version 0.1.9 and will be removed in version 0.3.0. Use 'state_modifier' parameter instead.\n",
      "  agent_executor = create_react_agent(llm, tools, messages_modifier=prompt)\n",
      "Key 'title' is not supported in schema, ignoring\n",
      "Key 'title' is not supported in schema, ignoring\n"
     ]
    }
   ],
   "source": [
    "# Choose the LLM that will drive the agent(gemini)\n",
    "llm = ChatGoogleGenerativeAI(model=\"gemini-2.0-flash-exp\", temperature=0)\n",
    "agent_executor = create_react_agent(llm, tools, messages_modifier=prompt)"
   ]
  },
  {
   "cell_type": "code",
   "execution_count": 7,
   "id": "746e697a-dec4-4342-a814-9b3456828169",
   "metadata": {},
   "outputs": [
    {
     "data": {
      "text/plain": [
       "{'messages': [HumanMessage(content='나스닥 시장 분위기 알려줘', id='9249aef0-8c4c-46f4-a8dc-a64579fa374f'),\n",
       "  AIMessage(content='', additional_kwargs={'tool_calls': [{'id': 'call_y84Ghri2tski8p4ZtekAZGW1', 'function': {'arguments': '{\"query\":\"current NASDAQ market sentiment\"}', 'name': 'tavily_search_results_json'}, 'type': 'function'}]}, response_metadata={'token_usage': {'completion_tokens': 22, 'prompt_tokens': 99, 'total_tokens': 121}, 'model_name': 'gpt-4o', 'system_fingerprint': 'fp_3e7d703517', 'finish_reason': 'tool_calls', 'logprobs': None}, id='run-57feea9f-905d-4a58-95c7-575ef3be64c8-0', tool_calls=[{'name': 'tavily_search_results_json', 'args': {'query': 'current NASDAQ market sentiment'}, 'id': 'call_y84Ghri2tski8p4ZtekAZGW1'}], usage_metadata={'input_tokens': 99, 'output_tokens': 22, 'total_tokens': 121}),\n",
       "  ToolMessage(content='[{\"url\": \"https://www.nasdaq.com/market-activity\", \"content\": \"Find the latest stock market trends and activity today. Compare key indexes, including Nasdaq Composite, Nasdaq-100, Dow Jones Industrial & more.\"}, {\"url\": \"https://www.cnn.com/markets/fear-and-greed\", \"content\": \"The Fear & Greed Index uses a bearish options ratio as a signal for Fear.\\\\nVIX and its 50-day moving average\\\\nVIX\\\\n50-day moving average\\\\nThe most well-known measure of market sentiment is the CBOE Volatility Index, or VIX. Learn more about the index\\\\n7 fear & greed indicators\\\\nS&P 500 and its 125-day moving average\\\\nS&P 500\\\\n125-day moving average\\\\nIt\\\\u2019s useful to look at stock market levels compared to where they\\\\u2019ve been over the past few months. The Fear & Greed Index uses decreasing trading volume as a signal for Fear.\\\\n5-day average put/call ratio\\\\nOptions are contracts that give investors the right to buy or sell stocks, indexes or other financial securities at an agreed upon price and date. CNN values your feedback\\\\nMarkets\\\\nFear & Greed Index\\\\nLatest Market News\\\\nFear & Greed Index\\\\nWhat emotion is driving the market now? How to use Fear & Greed Index?\\\\nThe Fear & Greed Index is used to gauge the mood of the market.\"}, {\"url\": \"https://www.nasdaq.com/market-activity/index/ndx\", \"content\": \"Find the latest information on NASDAQ-100 (NDX), including data, charts, related news, and more from Nasdaq.com\"}]', name='tavily_search_results_json', id='db9acf2d-efd2-41eb-b8e5-723212d02de8', tool_call_id='call_y84Ghri2tski8p4ZtekAZGW1'),\n",
       "  AIMessage(content='현재 나스닥 시장 분위기에 대해 알아보려면 다음의 자원을 참고할 수 있습니다:\\n\\n1. [나스닥 시장 활동](https://www.nasdaq.com/market-activity): 최신 주식 시장 동향과 활동을 비교할 수 있습니다. 나스닥 종합 지수, 나스닥-100, 다우 존스 산업 지수 등을 비교할 수 있습니다.\\n\\n2. [CNN Fear & Greed Index](https://www.cnn.com/markets/fear-and-greed): 시장 감정을 측정하는 다양한 지표를 제공하며, 현재 시장에서 어떤 감정이 지배적인지 파악할 수 있습니다. CBOE 변동성 지수(VIX)를 포함한 여러 지표를 통해 시장의 두려움과 탐욕을 분석합니다.\\n\\n3. [NASDAQ-100 (NDX)](https://www.nasdaq.com/market-activity/index/ndx): 나스닥-100 지수에 대한 최신 정보, 데이터, 차트 및 관련 뉴스를 제공합니다.\\n\\n이 링크들을 통해 현재 나스닥 시장의 분위기와 관련된 구체적인 정보를 얻을 수 있습니다.', response_metadata={'token_usage': {'completion_tokens': 241, 'prompt_tokens': 485, 'total_tokens': 726}, 'model_name': 'gpt-4o', 'system_fingerprint': 'fp_3e7d703517', 'finish_reason': 'stop', 'logprobs': None}, id='run-6c7d437f-79d1-4e00-a4ee-3a4fbe8023e4-0', usage_metadata={'input_tokens': 485, 'output_tokens': 241, 'total_tokens': 726})]}"
      ]
     },
     "execution_count": 7,
     "metadata": {},
     "output_type": "execute_result"
    }
   ],
   "source": [
    "agent_executor.invoke({\"messages\": [(\"user\", \"나스닥 시장 분위기 알려줘\")]})"
   ]
  },
  {
   "cell_type": "code",
   "execution_count": 7,
   "id": "372b9017",
   "metadata": {},
   "outputs": [
    {
     "data": {
      "text/plain": [
       "{'messages': [HumanMessage(content='나스닥 시장 분위기 알려줘', additional_kwargs={}, response_metadata={}, id='09517568-f5ca-4f7f-8814-54f89f3d084c'),\n",
       "  AIMessage(content='', additional_kwargs={'function_call': {'name': 'tavily_search_results_json', 'arguments': '{\"query\": \"\\\\ub098\\\\uc2a4\\\\ub2e5 \\\\uc2dc\\\\uc7a5 \\\\ubd84\\\\uc704\\\\uae30\"}'}}, response_metadata={'prompt_feedback': {'block_reason': 0, 'safety_ratings': []}, 'finish_reason': 'STOP', 'safety_ratings': [{'category': 'HARM_CATEGORY_HATE_SPEECH', 'probability': 'NEGLIGIBLE', 'blocked': False}, {'category': 'HARM_CATEGORY_DANGEROUS_CONTENT', 'probability': 'NEGLIGIBLE', 'blocked': False}, {'category': 'HARM_CATEGORY_HARASSMENT', 'probability': 'NEGLIGIBLE', 'blocked': False}, {'category': 'HARM_CATEGORY_SEXUALLY_EXPLICIT', 'probability': 'NEGLIGIBLE', 'blocked': False}]}, id='run-3c8e2fc2-a369-4d67-8be7-d0040cf67272-0', tool_calls=[{'name': 'tavily_search_results_json', 'args': {'query': '나스닥 시장 분위기'}, 'id': '193f716d-0b0e-459f-9a64-3639a2b5984d', 'type': 'tool_call'}], usage_metadata={'input_tokens': 99, 'output_tokens': 17, 'total_tokens': 116}),\n",
       "  ToolMessage(content='[{\"url\": \"https://www.yna.co.kr/view/AKR20250118010400009\", \"content\": \"s&p500 지수는 이번 주 2.91%의 상승률을 기록해 작년 11월 초 이후 최대치를 기록했다. 나스닥 지수도 2.45%로 12월 초 이후 최대 상승률을 찍었다. 우량주를 둘러싼 호의적 시장 분위기에 힘입어 다우지수의 주간 상승률은 3.69%나 됐다. 11월 초 이후 최대다.\"}, {\"url\": \"https://www.chosun.com/economy/2022/02/21/KJ6UA7EAVRBVJEXIUAAC7WFW7Y/\", \"content\": \"나스닥에 2년 만에 나타난 폭락의 징조 방현철 박사의 월스트리트 데스크로스 나온 나스닥...대세 하락이나, 저가 매수 기회냐 지난 주 월가 증시에서 대형주 중심의 다우지수는 한 주간 1.9% 하락해 18일 3만4079.18에 마감했습니다. ... 시장 금리를 갖고 미 연준의\"}, {\"url\": \"https://www.hankyung.com/article/2024111998566\", \"content\": \"나스닥·s&p500 오르고 다우 내리고…테슬라는 5%대 \\'급등\\' [뉴욕증시 브리핑], 진영기 기자, 증권 본문 바로가기 한경코리아마켓\"}]', name='tavily_search_results_json', id='f69099b6-b6de-4038-80e8-1b893ddb395d', tool_call_id='193f716d-0b0e-459f-9a64-3639a2b5984d', artifact={'query': '나스닥 시장 분위기', 'follow_up_questions': None, 'answer': None, 'images': [], 'results': [{'title': '뉴욕증시, 믿어 본다 트럼프…나스닥 1.51%↑ 마감 | 연합뉴스', 'url': 'https://www.yna.co.kr/view/AKR20250118010400009', 'content': 's&p500 지수는 이번 주 2.91%의 상승률을 기록해 작년 11월 초 이후 최대치를 기록했다. 나스닥 지수도 2.45%로 12월 초 이후 최대 상승률을 찍었다. 우량주를 둘러싼 호의적 시장 분위기에 힘입어 다우지수의 주간 상승률은 3.69%나 됐다. 11월 초 이후 최대다.', 'score': 0.6279746, 'raw_content': None}, {'title': '나스닥에 2년 만에 나타난 폭락의 징조 - 조선일보', 'url': 'https://www.chosun.com/economy/2022/02/21/KJ6UA7EAVRBVJEXIUAAC7WFW7Y/', 'content': '나스닥에 2년 만에 나타난 폭락의 징조 방현철 박사의 월스트리트 데스크로스 나온 나스닥...대세 하락이나, 저가 매수 기회냐 지난 주 월가 증시에서 대형주 중심의 다우지수는 한 주간 1.9% 하락해 18일 3만4079.18에 마감했습니다. ... 시장 금리를 갖고 미 연준의', 'score': 0.30068445, 'raw_content': None}, {'title': '나스닥·S&P500 오르고 다우 내리고…테슬라는 5%대 급등 | 한국경제', 'url': 'https://www.hankyung.com/article/2024111998566', 'content': \"나스닥·s&p500 오르고 다우 내리고…테슬라는 5%대 '급등' [뉴욕증시 브리핑], 진영기 기자, 증권 본문 바로가기 한경코리아마켓\", 'score': 0.24374636, 'raw_content': None}], 'response_time': 1.73}),\n",
       "  AIMessage(content='최근 나스닥 지수는 상승세를 보이고 있으며, 특히 12월 초 이후 최대 상승률을 기록했습니다. S&P500 지수와 다우 지수도 상승세를 보이고 있습니다. 하지만 2년 전에는 나스닥에 폭락 징조가 나타나기도 했습니다. 전반적으로 시장 분위기는 우호적인 것으로 보입니다.\\n', additional_kwargs={}, response_metadata={'prompt_feedback': {'block_reason': 0, 'safety_ratings': []}, 'finish_reason': 'STOP', 'safety_ratings': [{'category': 'HARM_CATEGORY_HATE_SPEECH', 'probability': 'NEGLIGIBLE', 'blocked': False}, {'category': 'HARM_CATEGORY_DANGEROUS_CONTENT', 'probability': 'NEGLIGIBLE', 'blocked': False}, {'category': 'HARM_CATEGORY_HARASSMENT', 'probability': 'NEGLIGIBLE', 'blocked': False}, {'category': 'HARM_CATEGORY_SEXUALLY_EXPLICIT', 'probability': 'NEGLIGIBLE', 'blocked': False}]}, id='run-b41aba26-efd1-4b28-9999-6acad3d1feb2-0', usage_metadata={'input_tokens': 569, 'output_tokens': 99, 'total_tokens': 668})]}"
      ]
     },
     "execution_count": 7,
     "metadata": {},
     "output_type": "execute_result"
    }
   ],
   "source": [
    "agent_executor.invoke({\"messages\": [(\"user\", \"나스닥 시장 분위기 알려줘\")]})"
   ]
  },
  {
   "cell_type": "code",
   "execution_count": 9,
   "id": "84ac2b4e",
   "metadata": {},
   "outputs": [
    {
     "data": {
      "text/plain": [
       "{'messages': [HumanMessage(content='나스닥의 최신 정보를 알려줘', additional_kwargs={}, response_metadata={}, id='f870c3f3-5050-4b3d-8db7-66b506ebc000'),\n",
       "  AIMessage(content='', additional_kwargs={'function_call': {'name': 'tavily_search_results_json', 'arguments': '{\"query\": \"\\\\ub098\\\\uc2a4\\\\ub2e5 \\\\ucd5c\\\\uc2e0 \\\\uc815\\\\ubcf4\"}'}}, response_metadata={'prompt_feedback': {'block_reason': 0, 'safety_ratings': []}, 'finish_reason': 'STOP', 'safety_ratings': [{'category': 'HARM_CATEGORY_HATE_SPEECH', 'probability': 'NEGLIGIBLE', 'blocked': False}, {'category': 'HARM_CATEGORY_DANGEROUS_CONTENT', 'probability': 'NEGLIGIBLE', 'blocked': False}, {'category': 'HARM_CATEGORY_HARASSMENT', 'probability': 'NEGLIGIBLE', 'blocked': False}, {'category': 'HARM_CATEGORY_SEXUALLY_EXPLICIT', 'probability': 'NEGLIGIBLE', 'blocked': False}]}, id='run-b27f31bc-299f-4dcb-a4a3-7b992430ce16-0', tool_calls=[{'name': 'tavily_search_results_json', 'args': {'query': '나스닥 최신 정보'}, 'id': '29c950a3-c6d9-4f43-b482-8c6d2334240e', 'type': 'tool_call'}], usage_metadata={'input_tokens': 99, 'output_tokens': 15, 'total_tokens': 114}),\n",
       "  ToolMessage(content='[{\"url\": \"https://www.google.com/finance/quote/NDX:INDEXNASDAQ?hl=ko\", \"content\": \"최근 나스닥 100(NDX)의 가치, 이전 실적, 차트를 비롯한 금융 정보를 확인하여 충분한 정보를 바탕으로 주식 거래와 투자를 결정하세요.\"}, {\"url\": \"https://www.google.com/finance/quote/.IXIC:INDEXNASDAQ?hl=ko\", \"content\": \"최근 나스닥 종합주가지수(.ixic)의 가치, 이전 실적, 차트를 비롯한 금융 정보를 확인하여 충분한 정보를 바탕으로 주식 거래와 투자를 결정하세요.\"}, {\"url\": \"https://www.nasdaq.com/\", \"content\": \"Nasdaq: Stock Market, Data Updates, Reports & News Nasdaq+ *   Nasdaq-100 Nasdaq U.S. Data Markets -> *   Nasdaq-100 Index Options *   Nasdaq-100 Index Nasdaq MarketSite ESG at Nasdaq Nasdaq+ About Nasdaq+ -> ### Advance With Technology Nasdaq Financial Technology provides mission-critical capital markets and regulatory technology solutions to the financial services industry. ### Advance With Technology Nasdaq Financial Technology provides mission-critical capital markets and regulatory technology solutions to the financial services industry. Nasdaq MarketSIte Add symbols now or see the quotes that matter to you, anywhere on Nasdaq.com. Add instruments now or see the quotes that matter to you, anywhere on Nasdaq.com. You\\'ll now be able to see real-time price and activity for your symbols on the My Quotes of Nasdaq.com.\"}]', name='tavily_search_results_json', id='f6313943-2f26-4889-865b-f265c6255c08', tool_call_id='29c950a3-c6d9-4f43-b482-8c6d2334240e', artifact={'query': '나스닥 최신 정보', 'follow_up_questions': None, 'answer': None, 'images': [], 'results': [{'title': '나스닥 100 가격, 실시간 시세, 뉴스 - Google Finance', 'url': 'https://www.google.com/finance/quote/NDX:INDEXNASDAQ?hl=ko', 'content': '최근 나스닥 100(NDX)의 가치, 이전 실적, 차트를 비롯한 금융 정보를 확인하여 충분한 정보를 바탕으로 주식 거래와 투자를 결정하세요.', 'score': 0.64236575, 'raw_content': None}, {'title': '나스닥 종합주가지수 가격, 실시간 시세, 뉴스 - Google Finance', 'url': 'https://www.google.com/finance/quote/.IXIC:INDEXNASDAQ?hl=ko', 'content': '최근 나스닥 종합주가지수(.ixic)의 가치, 이전 실적, 차트를 비롯한 금융 정보를 확인하여 충분한 정보를 바탕으로 주식 거래와 투자를 결정하세요.', 'score': 0.6304352, 'raw_content': None}, {'title': 'Nasdaq: Stock Market, Data Updates, Reports & News', 'url': 'https://www.nasdaq.com/', 'content': \"Nasdaq: Stock Market, Data Updates, Reports & News Nasdaq+ *   Nasdaq-100 Nasdaq U.S. Data Markets -> *   Nasdaq-100 Index Options *   Nasdaq-100 Index Nasdaq MarketSite ESG at Nasdaq Nasdaq+ About Nasdaq+ -> ### Advance With Technology Nasdaq Financial Technology provides mission-critical capital markets and regulatory technology solutions to the financial services industry. ### Advance With Technology Nasdaq Financial Technology provides mission-critical capital markets and regulatory technology solutions to the financial services industry. Nasdaq MarketSIte Add symbols now or see the quotes that matter to you, anywhere on Nasdaq.com. Add instruments now or see the quotes that matter to you, anywhere on Nasdaq.com. You'll now be able to see real-time price and activity for your symbols on the My Quotes of Nasdaq.com.\", 'score': 0.56719416, 'raw_content': None}], 'response_time': 1.57}),\n",
       "  AIMessage(content='최근 나스닥 100(NDX) 및 나스닥 종합주가지수(.ixic)의 가치, 이전 실적, 차트를 비롯한 금융 정보를 확인하여 충분한 정보를 바탕으로 주식 거래와 투자를 결정할 수 있습니다. 또한, 나스닥 웹사이트에서 실시간 가격 및 활동을 확인할 수 있습니다.\\n', additional_kwargs={}, response_metadata={'prompt_feedback': {'block_reason': 0, 'safety_ratings': []}, 'finish_reason': 'STOP', 'safety_ratings': [{'category': 'HARM_CATEGORY_HATE_SPEECH', 'probability': 'NEGLIGIBLE', 'blocked': False}, {'category': 'HARM_CATEGORY_DANGEROUS_CONTENT', 'probability': 'NEGLIGIBLE', 'blocked': False}, {'category': 'HARM_CATEGORY_HARASSMENT', 'probability': 'NEGLIGIBLE', 'blocked': False}, {'category': 'HARM_CATEGORY_SEXUALLY_EXPLICIT', 'probability': 'NEGLIGIBLE', 'blocked': False}]}, id='run-b8b34c2e-e16e-4851-a853-acffda428d9a-0', usage_metadata={'input_tokens': 506, 'output_tokens': 94, 'total_tokens': 600})]}"
      ]
     },
     "execution_count": 9,
     "metadata": {},
     "output_type": "execute_result"
    }
   ],
   "source": [
    "agent_executor.invoke({\"messages\": [(\"user\", \"나스닥의 최신 정보를 알려줘\")]})"
   ]
  },
  {
   "cell_type": "markdown",
   "id": "5cf66804-44b2-4904-b1a7-17ad70b551f5",
   "metadata": {},
   "source": [
    "## State(상태) 정의하기\n",
    "\n",
    "- 이제 이 에이전트가 추적할 상태를 정의하는 것부터 시작하겠습니다.\n",
    "- 우선, 현재 계획을 추적해야 합니다. 이를 문자열 목록으로 나타내겠습니다.\n",
    "- 다음으로, 이전에 실행된 단계를 추적해야 합니다. 이를 튜플 목록으로 나타내겠습니다 (이 튜플에는 단계와 그 결과가 포함됩니다).\n",
    "- 마지막으로, 최종 응답과 원래 입력을 나타내는 상태도 필요합니다."
   ]
  },
  {
   "cell_type": "code",
   "execution_count": 98,
   "id": "06e6caef",
   "metadata": {},
   "outputs": [
    {
     "name": "stdout",
     "output_type": "stream",
     "text": [
      "content='## 오늘의 주요 뉴스 (2024년 5월 16일)\\n\\n**1. 제목: \"尹대통령, \\'채상병 특검법\\' 재의요구…정국 급랭 불가피\"**\\n\\n* **요약:** 윤석열 대통령이 \\'채상병 특검법\\'에 대해 재의요구권(거부권)을 행사했습니다. 이에 따라 여야 간 강경 대치가 예상되며, 정국 경색이 불가피할 것으로 보입니다. 더불어민주당은 강력 반발하며 재의결을 추진할 계획입니다.\\n* **태그:** #채상병특검법 #윤석열대통령 #재의요구 #거부권 #정국경색 #여야대치 #더불어민주당\\n\\n**2. 제목: \"美 CPI 둔화에도 금리인하 기대 후퇴…韓 경제 영향은?\"**\\n\\n* **요약:** 미국의 4월 소비자물가지수(CPI) 상승률이 둔화되었지만, 여전히 높은 수준을 유지하며 연준의 금리 인하 기대감이 후퇴했습니다. 이는 한국 경제에도 영향을 미칠 수 있으며, 환율 변동성 확대 및 자본 유출 가능성에 대한 우려가 제기됩니다.\\n* **태그:** #미국CPI #금리인하 #연준 #환율 #자본유출 #한국경제 #인플레이션\\n\\n**3. 제목: \"전국 의대 교수들, \\'주 1회 휴진\\' 결정…의료 공백 우려 심화\"**\\n\\n* **요약:** 전국 의과대학 교수들이 정부의 의대 증원 정책에 반발하며 주 1회 휴진을 결정했습니다. 이는 의료 공백을 더욱 심화시킬 수 있다는 우려를 낳고 있으며, 환자들의 불편과 불안감이 커지고 있습니다. 정부와 의료계 간의 갈등 해결이 시급한 상황입니다.\\n* **태그:** #의대증원 #의대교수 #휴진 #의료공백 #의료계갈등 #정부정책 #환자불편\\n\\n**4. 제목: \"카카오, \\'먹통 사태\\' 재발 방지 대책 발표…데이터센터 투자 확대\"**\\n\\n* **요약:** 카카오가 지난해 발생한 \\'먹통 사태\\' 재발 방지를 위한 대책을 발표했습니다. 데이터센터 투자 확대, 재해 복구 시스템 강화, 서비스 안정성 개선 등을 주요 내용으로 담고 있습니다. 카카오의 서비스 안정성 확보 노력이 주목됩니다.\\n* **태그:** #카카오 #먹통사태 #데이터센터 #재해복구 #서비스안정성 #재발방지 #IT\\n\\n**5. 제목: \"프로야구, \\'역대급\\' 흥행 돌풍…관중 수 100만 명 돌파\"**\\n\\n* **요약:** 프로야구가 개막 한 달여 만에 관중 수 100만 명을 돌파하며 역대급 흥행 돌풍을 일으키고 있습니다. 각 구단의 치열한 순위 경쟁과 스타 선수들의 활약이 팬들의 관심을 끌고 있으며, 야구 열기가 뜨겁게 달아오르고 있습니다.\\n* **태그:** #프로야구 #흥행 #관중수 #스포츠 #야구열기 #KBO\\n\\n**참고:** 위 뉴스는 2024년 5월 16일 주요 뉴스를 기반으로 작성되었으며, 시간 경과에 따라 내용이 변경될 수 있습니다. 더 자세한 내용은 각 언론사의 기사를 참고하시기 바랍니다.\\n' additional_kwargs={} response_metadata={'prompt_feedback': {'block_reason': 0, 'safety_ratings': []}, 'finish_reason': 'STOP', 'safety_ratings': [{'category': 'HARM_CATEGORY_HATE_SPEECH', 'probability': 'NEGLIGIBLE', 'blocked': False}, {'category': 'HARM_CATEGORY_DANGEROUS_CONTENT', 'probability': 'NEGLIGIBLE', 'blocked': False}, {'category': 'HARM_CATEGORY_HARASSMENT', 'probability': 'NEGLIGIBLE', 'blocked': False}, {'category': 'HARM_CATEGORY_SEXUALLY_EXPLICIT', 'probability': 'NEGLIGIBLE', 'blocked': False}]} id='run-ef3c20c4-ab33-4137-8ccc-986245d34d45-0' usage_metadata={'input_tokens': 23, 'output_tokens': 905, 'total_tokens': 928}\n"
     ]
    }
   ],
   "source": [
    "# 예시: ChatGoogleGenerativeAI 라이브러리에서 with_structured_output 사용하기\n",
    "\n",
    "# 1. 라이브러리 임포트 (실제 모듈 이름은 설치된 패키지에 따라 달라질 수 있습니다)\n",
    "from langchain_google_genai import ChatGoogleGenerativeAI\n",
    "\n",
    "# 2. ChatGoogleGenerativeAI 인스턴스 생성\n",
    "ai = ChatGoogleGenerativeAI(model=\"gemini-2.0-flash-exp\", temperature=0)\n",
    "\n",
    "json_schema = {\n",
    "    \"properties\": {\n",
    "        \"field1\": {\"type\": \"string\"},\n",
    "        \"field2\": {\"type\": \"integer\"}\n",
    "    },\n",
    "    \"required\": [\"field1\", \"field2\"]\n",
    "}\n",
    "\n",
    "response = ai.generate_content(\n",
    "    \"Your prompt here\",\n",
    "    generation_config=GenerationConfig(\n",
    "        response_mime_type=\"application/json\",\n",
    "        response_schema=json_schema\n",
    "    )\n",
    ")\n"
   ]
  },
  {
   "cell_type": "code",
   "execution_count": 39,
   "id": "8eeeaeea-8f10-4fbe-8e24-4e1a2381a009",
   "metadata": {},
   "outputs": [],
   "source": [
    "import operator\n",
    "from typing import Annotated, List, Tuple, TypedDict\n",
    "\n",
    "\n",
    "class PlanExecute(TypedDict):\n",
    "    input: str\n",
    "    plan: List[str]\n",
    "    past_steps: Annotated[List[Tuple], operator.add]\n",
    "    response: str"
   ]
  },
  {
   "cell_type": "markdown",
   "id": "1dbd770a-9941-40a9-977e-4d55359eee21",
   "metadata": {},
   "source": [
    "## 계획 단계\n",
    "\n",
    "이제 계획 단계를 만드는 것에 대해 생각해 봅시다. 이는 함수 호출을 사용하여 계획을 수립할 것입니다."
   ]
  },
  {
   "cell_type": "code",
   "execution_count": 167,
   "id": "4a88626d-6dfd-4488-87f0-a9a0dd6da44c",
   "metadata": {},
   "outputs": [],
   "source": [
    "#open AI\n",
    "from pydantic import BaseModel,Field\n",
    "\n",
    "class Plan(BaseModel):\n",
    "    \"\"\"Plan to follow in future\"\"\"\n",
    "\n",
    "    steps: List[str] = Field(\n",
    "        description=\"다음의 단계들을 따라가세요. 정렬된 순서로 나열되어야 합니다.\"\n",
    "    )"
   ]
  },
  {
   "cell_type": "code",
   "execution_count": 203,
   "id": "bcd782a8",
   "metadata": {},
   "outputs": [],
   "source": [
    "from langchain_core.pydantic_v1 import BaseModel, Field\n",
    "\n",
    "class Plan(BaseModel):\n",
    "    \"\"\"\n",
    "    이 함수는 주어진 작업에 대한 실행 계획을 생성합니다.\n",
    "    \n",
    "    Args:\n",
    "    steps: list[str] = Field(\n",
    "        description=\"실행해야 할 단계별 계획 목록\",\n",
    "        examples=[[\"사용자 요청 분석\", \"필요한 데이터 수집\", \"결과 종합\"]]\n",
    "    )\n",
    "    \"\"\"\n",
    "\n",
    "    steps: list[str] = Field(\n",
    "        description=\"실행해야 할 단계별 계획 목록\",\n",
    "        examples=[[\"사용자 요청 분석\", \"필요한 데이터 수집\", \"결과 종합\"]]\n",
    "    )"
   ]
  },
  {
   "cell_type": "code",
   "execution_count": 66,
   "id": "ec7b1867-1ea3-4df3-9a98-992a1c32ec49",
   "metadata": {},
   "outputs": [
    {
     "ename": "OpenAIError",
     "evalue": "The api_key client option must be set either by passing api_key to the client or by setting the OPENAI_API_KEY environment variable",
     "output_type": "error",
     "traceback": [
      "\u001b[1;31m---------------------------------------------------------------------------\u001b[0m",
      "\u001b[1;31mOpenAIError\u001b[0m                               Traceback (most recent call last)",
      "Cell \u001b[1;32mIn[66], line 15\u001b[0m\n\u001b[0;32m      2\u001b[0m \u001b[38;5;28;01mfrom\u001b[39;00m \u001b[38;5;21;01mlangchain_core\u001b[39;00m\u001b[38;5;21;01m.\u001b[39;00m\u001b[38;5;21;01mprompts\u001b[39;00m \u001b[38;5;28;01mimport\u001b[39;00m ChatPromptTemplate\n\u001b[0;32m      4\u001b[0m planner_prompt \u001b[38;5;241m=\u001b[39m ChatPromptTemplate\u001b[38;5;241m.\u001b[39mfrom_messages(\n\u001b[0;32m      5\u001b[0m     [\n\u001b[0;32m      6\u001b[0m         (\n\u001b[1;32m   (...)\u001b[0m\n\u001b[0;32m     13\u001b[0m     ]\n\u001b[0;32m     14\u001b[0m )\n\u001b[1;32m---> 15\u001b[0m planner \u001b[38;5;241m=\u001b[39m planner_prompt \u001b[38;5;241m|\u001b[39m \u001b[43mChatOpenAI\u001b[49m\u001b[43m(\u001b[49m\n\u001b[0;32m     16\u001b[0m \u001b[43m    \u001b[49m\u001b[43mmodel\u001b[49m\u001b[38;5;241;43m=\u001b[39;49m\u001b[38;5;124;43m\"\u001b[39;49m\u001b[38;5;124;43mgpt-4o\u001b[39;49m\u001b[38;5;124;43m\"\u001b[39;49m\u001b[43m,\u001b[49m\u001b[43m \u001b[49m\u001b[43mtemperature\u001b[49m\u001b[38;5;241;43m=\u001b[39;49m\u001b[38;5;241;43m0\u001b[39;49m\n\u001b[0;32m     17\u001b[0m \u001b[43m)\u001b[49m\u001b[38;5;241m.\u001b[39mwith_structured_output(Plan)\n",
      "File \u001b[1;32mc:\\ProgramData\\anaconda3\\envs\\py31012\\lib\\site-packages\\langchain_core\\load\\serializable.py:125\u001b[0m, in \u001b[0;36mSerializable.__init__\u001b[1;34m(self, *args, **kwargs)\u001b[0m\n\u001b[0;32m    123\u001b[0m \u001b[38;5;28;01mdef\u001b[39;00m \u001b[38;5;21m__init__\u001b[39m(\u001b[38;5;28mself\u001b[39m, \u001b[38;5;241m*\u001b[39margs: Any, \u001b[38;5;241m*\u001b[39m\u001b[38;5;241m*\u001b[39mkwargs: Any) \u001b[38;5;241m-\u001b[39m\u001b[38;5;241m>\u001b[39m \u001b[38;5;28;01mNone\u001b[39;00m:\n\u001b[0;32m    124\u001b[0m \u001b[38;5;250m    \u001b[39m\u001b[38;5;124;03m\"\"\"\"\"\"\u001b[39;00m\n\u001b[1;32m--> 125\u001b[0m     \u001b[38;5;28msuper\u001b[39m()\u001b[38;5;241m.\u001b[39m\u001b[38;5;21m__init__\u001b[39m(\u001b[38;5;241m*\u001b[39margs, \u001b[38;5;241m*\u001b[39m\u001b[38;5;241m*\u001b[39mkwargs)\n",
      "    \u001b[1;31m[... skipping hidden 1 frame]\u001b[0m\n",
      "File \u001b[1;32mc:\\ProgramData\\anaconda3\\envs\\py31012\\lib\\site-packages\\langchain_openai\\chat_models\\base.py:578\u001b[0m, in \u001b[0;36mBaseChatOpenAI.validate_environment\u001b[1;34m(self)\u001b[0m\n\u001b[0;32m    576\u001b[0m         \u001b[38;5;28mself\u001b[39m\u001b[38;5;241m.\u001b[39mhttp_client \u001b[38;5;241m=\u001b[39m httpx\u001b[38;5;241m.\u001b[39mClient(proxy\u001b[38;5;241m=\u001b[39m\u001b[38;5;28mself\u001b[39m\u001b[38;5;241m.\u001b[39mopenai_proxy)\n\u001b[0;32m    577\u001b[0m     sync_specific \u001b[38;5;241m=\u001b[39m {\u001b[38;5;124m\"\u001b[39m\u001b[38;5;124mhttp_client\u001b[39m\u001b[38;5;124m\"\u001b[39m: \u001b[38;5;28mself\u001b[39m\u001b[38;5;241m.\u001b[39mhttp_client}\n\u001b[1;32m--> 578\u001b[0m     \u001b[38;5;28mself\u001b[39m\u001b[38;5;241m.\u001b[39mroot_client \u001b[38;5;241m=\u001b[39m openai\u001b[38;5;241m.\u001b[39mOpenAI(\u001b[38;5;241m*\u001b[39m\u001b[38;5;241m*\u001b[39mclient_params, \u001b[38;5;241m*\u001b[39m\u001b[38;5;241m*\u001b[39msync_specific)  \u001b[38;5;66;03m# type: ignore[arg-type]\u001b[39;00m\n\u001b[0;32m    579\u001b[0m     \u001b[38;5;28mself\u001b[39m\u001b[38;5;241m.\u001b[39mclient \u001b[38;5;241m=\u001b[39m \u001b[38;5;28mself\u001b[39m\u001b[38;5;241m.\u001b[39mroot_client\u001b[38;5;241m.\u001b[39mchat\u001b[38;5;241m.\u001b[39mcompletions\n\u001b[0;32m    580\u001b[0m \u001b[38;5;28;01mif\u001b[39;00m \u001b[38;5;129;01mnot\u001b[39;00m \u001b[38;5;28mself\u001b[39m\u001b[38;5;241m.\u001b[39masync_client:\n",
      "File \u001b[1;32mc:\\ProgramData\\anaconda3\\envs\\py31012\\lib\\site-packages\\openai\\_client.py:110\u001b[0m, in \u001b[0;36mOpenAI.__init__\u001b[1;34m(self, api_key, organization, project, base_url, websocket_base_url, timeout, max_retries, default_headers, default_query, http_client, _strict_response_validation)\u001b[0m\n\u001b[0;32m    108\u001b[0m     api_key \u001b[38;5;241m=\u001b[39m os\u001b[38;5;241m.\u001b[39menviron\u001b[38;5;241m.\u001b[39mget(\u001b[38;5;124m\"\u001b[39m\u001b[38;5;124mOPENAI_API_KEY\u001b[39m\u001b[38;5;124m\"\u001b[39m)\n\u001b[0;32m    109\u001b[0m \u001b[38;5;28;01mif\u001b[39;00m api_key \u001b[38;5;129;01mis\u001b[39;00m \u001b[38;5;28;01mNone\u001b[39;00m:\n\u001b[1;32m--> 110\u001b[0m     \u001b[38;5;28;01mraise\u001b[39;00m OpenAIError(\n\u001b[0;32m    111\u001b[0m         \u001b[38;5;124m\"\u001b[39m\u001b[38;5;124mThe api_key client option must be set either by passing api_key to the client or by setting the OPENAI_API_KEY environment variable\u001b[39m\u001b[38;5;124m\"\u001b[39m\n\u001b[0;32m    112\u001b[0m     )\n\u001b[0;32m    113\u001b[0m \u001b[38;5;28mself\u001b[39m\u001b[38;5;241m.\u001b[39mapi_key \u001b[38;5;241m=\u001b[39m api_key\n\u001b[0;32m    115\u001b[0m \u001b[38;5;28;01mif\u001b[39;00m organization \u001b[38;5;129;01mis\u001b[39;00m \u001b[38;5;28;01mNone\u001b[39;00m:\n",
      "\u001b[1;31mOpenAIError\u001b[0m: The api_key client option must be set either by passing api_key to the client or by setting the OPENAI_API_KEY environment variable"
     ]
    }
   ],
   "source": [
    "#openAI\n",
    "from langchain_core.prompts import ChatPromptTemplate\n",
    "\n",
    "planner_prompt = ChatPromptTemplate.from_messages(\n",
    "    [\n",
    "        (\n",
    "            \"system\",\n",
    "            \"\"\"주어진 목표에 대해, 간단한 단계별 계획을 세우세요. \\\n",
    "이 계획은 개별 작업을 포함해야 하며, 올바르게 실행하면 정확한 답을 도출할 수 있습니다. 불필요한 단계를 추가하지 마세요. \\\n",
    "최종 단계의 결과는 최종 답이어야 합니다. 각 단계가 필요한 모든 정보를 포함하도록 하고, 단계를 건너뛰지 마세요.\"\"\",\n",
    "        ),\n",
    "        (\"placeholder\", \"{messages}\"),\n",
    "    ]\n",
    ")\n",
    "planner = planner_prompt | ChatOpenAI(\n",
    "    model=\"gpt-4o\", temperature=0\n",
    ").with_structured_output(Plan)"
   ]
  },
  {
   "cell_type": "code",
   "execution_count": 204,
   "id": "d981f0a4",
   "metadata": {},
   "outputs": [
    {
     "name": "stderr",
     "output_type": "stream",
     "text": [
      "Key 'title' is not supported in schema, ignoring\n",
      "Key 'title' is not supported in schema, ignoring\n"
     ]
    }
   ],
   "source": [
    "#Gemini\n",
    "from langchain_core.prompts import ChatPromptTemplate\n",
    "\n",
    "from langchain_google_genai import ChatGoogleGenerativeAI\n",
    "\n",
    "model = ChatGoogleGenerativeAI(model=\"gemini-2.0-flash-exp\", temperature=0)\n",
    "\n",
    "#model = ChatGoogleGenerativeAI(\n",
    "#    model=\"gemini-1.5-pro-latest\",\n",
    "#    temperature=0,\n",
    "#    convert_system_message_to_human=True\n",
    "#)\n",
    "\n",
    "planner_prompt = ChatPromptTemplate.from_messages(\n",
    "    [\n",
    "        (\n",
    "            \"system\",\n",
    "            \"\"\"주어진 목표에 대해, 간단한 단계별 계획을 세우세요. \\\n",
    "이 계획은 개별 작업을 포함해야 하며, 올바르게 실행하면 정확한 답을 도출할 수 있습니다. 불필요한 단계를 추가하지 마세요. \\\n",
    "최종 단계의 결과는 최종 답이어야 합니다. 각 단계가 필요한 모든 정보를 포함하도록 하고, 단계를 건너뛰지 마세요.\"\"\",\n",
    "        ),\n",
    "        (\"placeholder\", \"{messages}\"),\n",
    "    ]\n",
    ")\n",
    "planner = planner_prompt | model.with_structured_output(Plan)"
   ]
  },
  {
   "cell_type": "code",
   "execution_count": 207,
   "id": "67ce37b7-e089-479b-bcb8-c3f5d9874613",
   "metadata": {},
   "outputs": [],
   "source": [
    "reponse = planner.invoke(\n",
    "    {\n",
    "        \"messages\": [\"24년 호주 오픈 우승자의 고향은 어디인가요?\"]\n",
    "    }\n",
    ")"
   ]
  },
  {
   "cell_type": "code",
   "execution_count": 208,
   "id": "742d2c75",
   "metadata": {},
   "outputs": [
    {
     "data": {
      "text/plain": [
       "Plan(steps=['2024년 호주 오픈 우승자를 찾습니다.', '우승자의 고향을 찾습니다.', '우승자의 고향을 반환합니다.'])"
      ]
     },
     "execution_count": 208,
     "metadata": {},
     "output_type": "execute_result"
    }
   ],
   "source": [
    "reponse"
   ]
  },
  {
   "cell_type": "markdown",
   "id": "7b127006",
   "metadata": {},
   "source": [
    "#여기부터 시작"
   ]
  },
  {
   "cell_type": "markdown",
   "id": "6e09ad9d-6f90-4bdc-bb43-b1ce94517c29",
   "metadata": {},
   "source": [
    "## 재계획 단계\n",
    "\n",
    "이제, 이전 단계의 결과를 바탕으로 계획을 다시 세우는 단계를 만들어 봅시다."
   ]
  },
  {
   "cell_type": "code",
   "execution_count": 13,
   "id": "ec2d12cc-016a-44d1-aa08-4c5ce1e8fe2a",
   "metadata": {},
   "outputs": [],
   "source": [
    "from typing import Union\n",
    "\n",
    "\n",
    "class Response(BaseModel):\n",
    "    \"\"\"Response to user.\"\"\"\n",
    "\n",
    "    response: str\n",
    "\n",
    "\n",
    "class Act(BaseModel):\n",
    "    \"\"\"Action to perform.\"\"\"\n",
    "\n",
    "    action: Union[Response, Plan] = Field(\n",
    "        description=\"수행할 작업. 사용자가 응답을 원하면 Response를 사용하세요. 답을 얻기 위해 도구를 추가로 사용해야 하면 Plan을 사용하세요.\"\n",
    "    )\n",
    "\n",
    "\n",
    "replanner_prompt = ChatPromptTemplate.from_template(\n",
    "    \"\"\"주어진 목표에 대해, 간단한 단계별 계획을 세우세요.\n",
    "이 계획은 개별 작업을 포함해야 하며, 올바르게 실행하면 정확한 답을 도출할 수 있습니다. 불필요한 단계를 추가하지 마세요.\n",
    "최종 단계의 결과는 최종 답이어야 합니다. 각 단계가 필요한 모든 정보를 포함하도록 하고, 단계를 건너뛰지 마세요.\n",
    "\n",
    "당신의 목표는 다음과 같았습니다:\n",
    "{input}\n",
    "\n",
    "당신의 원래 계획은 다음과 같았습니다:\n",
    "{plan}\n",
    "\n",
    "현재까지 완료한 단계는 다음과 같습니다:\n",
    "{past_steps}\n",
    "\n",
    "계획을 적절히 업데이트하세요. 더 이상 필요한 단계가 없고 사용자에게 답변할 수 있다면 그렇게 응답하세요. 그렇지 않으면, 계획을 작성하세요. 아직 해야 할 단계만 계획에 추가하세요. 이미 완료된 단계를 계획의 일부로 반환하지 마세요.\"\"\"\n",
    ")\n",
    "\n",
    "\n",
    "replanner = replanner_prompt | ChatOpenAI(\n",
    "    model=\"gpt-4o\", temperature=0\n",
    ").with_structured_output(Act)"
   ]
  },
  {
   "cell_type": "markdown",
   "id": "859abd13-6ba0-45ad-b341-e652dd5f755b",
   "metadata": {},
   "source": [
    "## Graph 만들기"
   ]
  },
  {
   "cell_type": "code",
   "execution_count": 14,
   "id": "6c8e0dad-bcea-4c9a-8922-0d820892e2d0",
   "metadata": {},
   "outputs": [],
   "source": [
    "from typing import Literal\n",
    "\n",
    "\n",
    "async def execute_step(state: PlanExecute):\n",
    "    plan = state[\"plan\"]\n",
    "    plan_str = \"\\n\".join(f\"{i+1}. {step}\" for i, step in enumerate(plan))\n",
    "    task = plan[0]\n",
    "    task_formatted = f\"\"\"For the following plan:\n",
    "{plan_str}\\n\\nYou are tasked with executing step {1}, {task}.\"\"\"\n",
    "    agent_response = await agent_executor.ainvoke(\n",
    "        {\"messages\": [(\"user\", task_formatted)]}\n",
    "    )\n",
    "    return {\n",
    "        \"past_steps\": [task, agent_response[\"messages\"][-1].content],\n",
    "    }\n",
    "\n",
    "\n",
    "async def plan_step(state: PlanExecute):\n",
    "    plan = await planner.ainvoke({\"messages\": [(\"user\", state[\"input\"])]})\n",
    "    return {\"plan\": plan.steps}\n",
    "\n",
    "\n",
    "async def replan_step(state: PlanExecute):\n",
    "    output = await replanner.ainvoke(state)\n",
    "    if isinstance(output.action, Response):\n",
    "        return {\"response\": output.action.response}\n",
    "    else:\n",
    "        return {\"plan\": output.action.steps}\n",
    "\n",
    "\n",
    "def should_end(state: PlanExecute) -> Literal[\"agent\", \"__end__\"]:\n",
    "    if \"response\" in state and state[\"response\"]:\n",
    "        return \"__end__\"\n",
    "    else:\n",
    "        return \"agent\""
   ]
  },
  {
   "cell_type": "code",
   "execution_count": 15,
   "id": "e954cea0-5ccc-46c2-a27b-f5b7185b597d",
   "metadata": {},
   "outputs": [],
   "source": [
    "from langgraph.graph import StateGraph\n",
    "\n",
    "workflow = StateGraph(PlanExecute)\n",
    "\n",
    "# Add the plan node\n",
    "workflow.add_node(\"planner\", plan_step)\n",
    "\n",
    "# Add the execution step\n",
    "workflow.add_node(\"agent\", execute_step)\n",
    "\n",
    "# Add a replan node\n",
    "workflow.add_node(\"replan\", replan_step)\n",
    "\n",
    "workflow.set_entry_point(\"planner\")\n",
    "\n",
    "# From plan we go to agent\n",
    "workflow.add_edge(\"planner\", \"agent\")\n",
    "\n",
    "# From agent, we replan\n",
    "workflow.add_edge(\"agent\", \"replan\")\n",
    "\n",
    "workflow.add_conditional_edges(\n",
    "    \"replan\",\n",
    "    # Next, we pass in the function that will determine which node is called next.\n",
    "    should_end,\n",
    ")\n",
    "\n",
    "# Finally, we compile it!\n",
    "# This compiles it into a LangChain Runnable,\n",
    "# meaning you can use it as you would any other runnable\n",
    "app = workflow.compile()"
   ]
  },
  {
   "cell_type": "code",
   "execution_count": 16,
   "id": "7363e528",
   "metadata": {},
   "outputs": [
    {
     "data": {
      "image/jpeg": "[encoded data removed]",
      "text/plain": [
       "<IPython.core.display.Image object>"
      ]
     },
     "metadata": {},
     "output_type": "display_data"
    }
   ],
   "source": [
    "from IPython.display import Image, display\n",
    "\n",
    "display(Image(app.get_graph(xray=True).draw_mermaid_png()))"
   ]
  },
  {
   "cell_type": "code",
   "execution_count": 17,
   "id": "b8ac1f67-e87a-427c-b4f7-44351295b788",
   "metadata": {},
   "outputs": [
    {
     "name": "stdout",
     "output_type": "stream",
     "text": [
      "{'plan': ['2024년 호주 오픈 우승자가 누구인지 확인한다.', '해당 우승자의 고향이 어디인지 확인한다.', '우승자의 고향에서 발생한 최근 사건을 조사한다.']}\n",
      "{'past_steps': ['2024년 호주 오픈 우승자가 누구인지 확인한다.', '2024년 호주 오픈 우승자는 이탈리아의 야닉 시너(Jannik Sinner)입니다.']}\n",
      "{'plan': ['야닉 시너의 고향이 어디인지 확인한다.', '야닉 시너의 고향에서 발생한 최근 사건을 조사한다.']}\n",
      "{'past_steps': ['야닉 시너의 고향이 어디인지 확인한다.', \"Jannik Sinner's birthplace is Innichen, Italy.\"]}\n",
      "{'plan': ['야닉 시너의 고향인 Innichen, Italy에서 발생한 최근 사건을 조사한다.']}\n",
      "{'past_steps': ['야닉 시너의 고향인 Innichen, Italy에서 발생한 최근 사건을 조사한다.', '최근 Innichen, Italy에서 발생한 사건 중 하나는 프리스타일 스키 대회에서 Sixtine Cousin과 Terence Tchiknavorian이 깜짝 우승을 차지한 것입니다. 이 경기는 2023년 세계컵의 마지막 스키 크로스 레이스에서 이루어졌습니다. \\n\\n자세한 내용은 [Eurosport 기사](https://www.eurosport.com/freestyle-skiing/sixtine-cousin-and-terence-tchiknavorian-upset-odds-to-claim-innichen-victories-in-final-world-cup-r_sto9933529/story.shtml)에서 확인할 수 있습니다.']}\n",
      "{'response': '최근 Innichen, Italy에서 발생한 사건 중 하나는 프리스타일 스키 대회에서 Sixtine Cousin과 Terence Tchiknavorian이 깜짝 우승을 차지한 것입니다. 이 경기는 2023년 세계컵의 마지막 스키 크로스 레이스에서 이루어졌습니다. \\n\\n자세한 내용은 [Eurosport 기사](https://www.eurosport.com/freestyle-skiing/sixtine-cousin-and-terence-tchiknavorian-upset-odds-to-claim-innichen-victories-in-final-world-cup-r_sto9933529/story.shtml)에서 확인할 수 있습니다.'}\n"
     ]
    }
   ],
   "source": [
    "config = {\"recursion_limit\": 50}\n",
    "inputs = {\"input\": \"2024년 호주 오픈 우승자의 고향에서 발생한 최근 사건은 무엇인가요?\"}\n",
    "async for event in app.astream(inputs, config=config):\n",
    "    for k, v in event.items():\n",
    "        if k != \"__end__\":\n",
    "            print(v)"
   ]
  },
  {
   "cell_type": "code",
   "execution_count": null,
   "id": "64e67284-ecfd-47a7-adb7-f66353acbdb8",
   "metadata": {},
   "outputs": [],
   "source": []
  }
 ],
 "metadata": {
  "kernelspec": {
   "display_name": "py31012",
   "language": "python",
   "name": "python3"
  },
  "language_info": {
   "codemirror_mode": {
    "name": "ipython",
    "version": 3
   },
   "file_extension": ".py",
   "mimetype": "text/x-python",
   "name": "python",
   "nbconvert_exporter": "python",
   "pygments_lexer": "ipython3",
   "version": "3.10.12"
  }
 },
 "nbformat": 4,
 "nbformat_minor": 5
}
