{
 "cells": [
  {
   "cell_type": "markdown",
   "id": "4a1aae78-88a6-4133-b905-7e46c8e3772f",
   "metadata": {},
   "source": [
    "# Agent"
   ]
  },
  {
   "cell_type": "code",
   "execution_count": null,
   "id": "6f11d631-8679-4f28-822f-cdf1f2ddc21c",
   "metadata": {
    "scrolled": true
   },
   "outputs": [],
   "source": [
    "!pip install -U langchain_anthropic"
   ]
  },
  {
   "cell_type": "code",
   "execution_count": 3,
   "id": "705d4020-6ee8-44cc-b1a5-8c34e7172fc7",
   "metadata": {},
   "outputs": [],
   "source": [
    "import getpass\n",
    "import os\n",
    "\n",
    "def _set_env(var: str):\n",
    "    if not os.environ.get(var):\n",
    "        os.environ[var] = getpass.getpass(f\"{var}: \")\n",
    "\n",
    "_set_env(\"ANTHROPIC_API_KEY\")"
   ]
  },
  {
   "cell_type": "code",
   "execution_count": 4,
   "id": "95d79059-9dd3-42dc-bdce-2f972cdc7452",
   "metadata": {},
   "outputs": [],
   "source": [
    "# Helper\n",
    "def visualize_graph(graph):\n",
    "    from IPython.display import Image, display\n",
    "    try:\n",
    "        display(Image(graph.get_graph(xray=True).draw_mermaid_png()))\n",
    "    except Exception:\n",
    "        # This requires some extra dependencies and is optional\n",
    "        pass"
   ]
  },
  {
   "cell_type": "markdown",
   "id": "ef7bcad1-1274-4b7c-a2e9-365180ef3a31",
   "metadata": {},
   "source": [
    "## Part 1: 기본 챗봇"
   ]
  },
  {
   "cell_type": "code",
   "execution_count": 5,
   "id": "e58df974-7579-4f25-9d91-66389b94eba2",
   "metadata": {},
   "outputs": [],
   "source": [
    "from typing import Annotated\n",
    "\n",
    "from typing_extensions import TypedDict\n",
    "\n",
    "from langgraph.graph import StateGraph\n",
    "from langgraph.graph.message import add_messages\n",
    "\n",
    "\n",
    "class State(TypedDict):\n",
    "    # Messages have the type \"list\". The `add_messages` function\n",
    "    # in the annotation defines how this state key should be updated\n",
    "    # (in this case, it appends messages to the list, rather than overwriting them)\n",
    "    messages: Annotated[list, add_messages]\n",
    "\n",
    "\n",
    "graph_builder = StateGraph(State)"
   ]
  },
  {
   "cell_type": "markdown",
   "id": "4137feed-746e-4c72-a34a-f7a699ad5dcf",
   "metadata": {},
   "source": [
    "우리는 `State`를 단일 키 `messages`를 가진 `TypedDict`로 정의했습니다. `messages` 키는 [`add_messages`](https://langchain-ai.github.io/langgraph/reference/graphs/?h=add+messages#add_messages) 함수로 주석이 달려 있으며, 이는 LangGraph에게 새로운 메시지를 기존 리스트에 덮어쓰지 않고 추가하도록 지시합니다.\n",
    "\n",
    "따라서 이제 우리의 그래프는 두 가지를 알고 있습니다:\n",
    "\n",
    "1. 우리가 정의하는 모든 `node`는 현재의 `State`를 입력으로 받고, 그 상태를 업데이트하는 값을 반환합니다.\n",
    "2. `messages`는 현재 리스트에 직접 덮어쓰는 것이 아니라 추가됩니다. 이는 `Annotated` 문법의 사전 정의된 [`add_messages`](https://langchain-ai.github.io/langgraph/reference/graphs/?h=add+messages#add_messages) 함수를 통해 전달됩니다.\n",
    "\n",
    "다음으로, \"`chatbot`\" 노드를 추가합니다.\n"
   ]
  },
  {
   "cell_type": "code",
   "execution_count": 6,
   "id": "bc8c9137-8261-42ea-8e83-3590981d23e2",
   "metadata": {},
   "outputs": [],
   "source": [
    "from langchain_anthropic import ChatAnthropic\n",
    "\n",
    "llm = ChatAnthropic(model=\"claude-3-haiku-20240307\")\n",
    "\n",
    "\n",
    "def chatbot(state: State):\n",
    "    return {\"messages\": [llm.invoke(state[\"messages\"])]}\n",
    "\n",
    "\n",
    "# The first argument is the unique node name\n",
    "# The second argument is the function or object that will be called whenever\n",
    "# the node is used.\n",
    "graph_builder.add_node(\"chatbot\", chatbot)"
   ]
  },
  {
   "cell_type": "markdown",
   "id": "b6c1dcd9-fb86-4649-81b4-ff6ce20a2e46",
   "metadata": {},
   "source": [
    "\n",
    "`chatbot` 노드 함수가 현재 `State`를 입력으로 받아 업데이트된 `messages` 리스트를 반환합니다.\n",
    "\n",
    "우리의 `State`에 있는 `add_messages` 함수는 LLM의 응답 메시지를 현재 상태에 이미 있는 메시지에 추가할 것입니다.\n",
    "\n",
    "다음으로, `entry` 지점을 추가합니다. 이는 우리가 그래프를 실행할 때마다 **어디서 작업을 시작해야 하는지**를 그래프에 알려줍니다.\n"
   ]
  },
  {
   "cell_type": "code",
   "execution_count": 7,
   "id": "e331e10d-ebcf-4144-9bd3-999b4d656dd3",
   "metadata": {},
   "outputs": [],
   "source": [
    "graph_builder.set_entry_point(\"chatbot\") # == graph_builder.add_edge(START, \"chatbot\")"
   ]
  },
  {
   "cell_type": "markdown",
   "id": "0499c318-d1e6-46fa-a652-8f9e65313355",
   "metadata": {},
   "source": [
    "마찬가지로, 종료가 되는`finish` 노드를 지정합니다."
   ]
  },
  {
   "cell_type": "code",
   "execution_count": 8,
   "id": "075f0929-3591-4852-b2d3-eaadde40662d",
   "metadata": {},
   "outputs": [],
   "source": [
    "graph_builder.set_finish_point(\"chatbot\")  # == graph_builder.add_edge(\"chatbot\", END)"
   ]
  },
  {
   "cell_type": "code",
   "execution_count": 9,
   "id": "0bb67a01-cf5c-4625-8c07-6e8c0af50fca",
   "metadata": {},
   "outputs": [],
   "source": [
    "graph = graph_builder.compile()"
   ]
  },
  {
   "cell_type": "code",
   "execution_count": 10,
   "id": "32e4f36e-72ce-4ade-bd7e-94880e0d456b",
   "metadata": {},
   "outputs": [
    {
     "data": {
      "image/jpeg": "[encoded data removed]",
      "text/plain": [
       "<IPython.core.display.Image object>"
      ]
     },
     "metadata": {},
     "output_type": "display_data"
    }
   ],
   "source": [
    "visualize_graph(graph)"
   ]
  },
  {
   "cell_type": "markdown",
   "id": "a98097a3-a126-4081-b21e-697ec1185fff",
   "metadata": {},
   "source": [
    "대화 시작"
   ]
  },
  {
   "cell_type": "code",
   "execution_count": 11,
   "id": "7afb4c9a-7404-4e92-9945-36f372015f08",
   "metadata": {},
   "outputs": [
    {
     "name": "stdin",
     "output_type": "stream",
     "text": [
      "User:  안녕\n"
     ]
    },
    {
     "name": "stdout",
     "output_type": "stream",
     "text": [
      "Assistant: 안녕하세요! 오늘 하루 좋은 하루 보내셨나요? 무엇이든 도와드릴 일이 있다면 말씀해주세요.\n"
     ]
    },
    {
     "name": "stdin",
     "output_type": "stream",
     "text": [
      "User:  만나서 반가워\n"
     ]
    },
    {
     "name": "stdout",
     "output_type": "stream",
     "text": [
      "Assistant: 네, 저도 만나서 정말 반가워요! 오늘 날씨가 참 좋아서 기분이 좋습니다. 오늘 하루 어떤 계획들이 있으신지 궁금해요. 혹시 좋은 이야기들도 있나요? 제가 들어보고 싶은데요.\n"
     ]
    },
    {
     "name": "stdin",
     "output_type": "stream",
     "text": [
      "User:  q\n"
     ]
    },
    {
     "name": "stdout",
     "output_type": "stream",
     "text": [
      "대화 종료.\n"
     ]
    }
   ],
   "source": [
    "while True:\n",
    "    user_input = input(\"User: \")\n",
    "    if user_input.lower() in [\"quit\", \"exit\", \"q\"]:\n",
    "        print(\"대화 종료.\")\n",
    "        break\n",
    "    for event in graph.stream({\"messages\": (\"user\", user_input)}):\n",
    "        for value in event.values():\n",
    "            print(\"Assistant:\", value[\"messages\"][-1].content)"
   ]
  },
  {
   "cell_type": "markdown",
   "id": "f22c5d4a-3134-413c-81fe-dd9752fbeb66",
   "metadata": {},
   "source": [
    "## Part 2: Tool을 사용하는 Chatbot => Agent 만들기\n",
    "\n",
    "우리 챗봇이 “기억에서” 대답할 수 없는 질문을 처리하기 위해, 웹 검색 도구를 통합할 것입니다. 우리의 챗봇은 검색 도구를 사용하여 관련 정보를 찾아 더 나은 응답을 제공할 수 있습니다.\n",
    "\n",
    "#### Requirements\n",
    "\n",
    "Tavily 패키지를 설치하고 API 키를 설정해야합니다.\n",
    "\n",
    "먼저, [Tavily 검색 엔진](https://python.langchain.com/v0.2/docs/integrations/tools/tavily_search/)을 사용하기 위한 요구 사항을 설치하고, [TAVILY_API_KEY](https://tavily.com/)를 설정하세요.\n"
   ]
  },
  {
   "cell_type": "code",
   "execution_count": null,
   "id": "7451151f-41fc-4af0-9359-024ae51b7225",
   "metadata": {},
   "outputs": [],
   "source": [
    "!pip install -U tavily-python"
   ]
  },
  {
   "cell_type": "code",
   "execution_count": 12,
   "id": "0c52923c-5665-4f8c-a1ba-9799e369c49e",
   "metadata": {},
   "outputs": [],
   "source": [
    "_set_env(\"TAVILY_API_KEY\")"
   ]
  },
  {
   "cell_type": "code",
   "execution_count": 13,
   "id": "35c8978e-c07d-4dd0-a97b-0ce3a723eea5",
   "metadata": {},
   "outputs": [
    {
     "data": {
      "text/plain": [
       "[{'url': 'https://langchain-ai.github.io/langgraph/concepts/',\n",
       "  'content': \"LangGraph introduces two key ideas to state management: state schemas and reducers. The state schema defines the type of the object that is given to each of the graph's Node. Reducers define how to apply Node outputs to the current State. For example, you might use a reducer to merge a new dialogue response into a conversation history, or ...\"},\n",
       " {'url': 'https://langchain-ai.github.io/langgraph/',\n",
       "  'content': 'With LangGraph, you can build complex, stateful agents without getting bogged down in manual state and interrupt management. Just define your nodes, edges, and state schema - and let the graph take care of the rest. Tutorials¶ Consult the Tutorials to learn more about building with LangGraph, including advanced use cases. How-To Guides¶'}]"
      ]
     },
     "execution_count": 13,
     "metadata": {},
     "output_type": "execute_result"
    }
   ],
   "source": [
    "from langchain_community.tools.tavily_search import TavilySearchResults\n",
    "\n",
    "tool = TavilySearchResults(max_results=2)\n",
    "tools = [tool]\n",
    "tool.invoke(\"LangGraph에서 ‘노드’란 무엇인가요?\")"
   ]
  },
  {
   "cell_type": "markdown",
   "id": "7f503f02-d23d-42e8-9b5d-eb2681b242f4",
   "metadata": {},
   "source": [
    "결과는 우리의 챗봇이 질문에 답하기 위해 사용할 수 있는 페이지 요약입니다.\n",
    "\n",
    "다음으로, 그래프 정의를 시작하겠습니다. 다음 내용은 **1부와 동일**하지만, LLM에 `bind_tools`를 추가했습니다. 이를 통해 LLM은 검색 엔진을 사용하려고 할 때 올바른 JSON 형식을 알 수 있습니다."
   ]
  },
  {
   "cell_type": "code",
   "execution_count": 14,
   "id": "dc5af88b-47d2-43bf-9a2c-6c07506b1732",
   "metadata": {},
   "outputs": [],
   "source": [
    "from typing import Annotated\n",
    "\n",
    "from langchain_anthropic import ChatAnthropic\n",
    "from typing_extensions import TypedDict\n",
    "\n",
    "from langgraph.graph import StateGraph\n",
    "from langgraph.graph.message import add_messages\n",
    "\n",
    "\n",
    "class State(TypedDict):\n",
    "    messages: Annotated[list, add_messages]\n",
    "\n",
    "\n",
    "graph_builder = StateGraph(State)\n",
    "\n",
    "\n",
    "llm = ChatAnthropic(model=\"claude-3-haiku-20240307\")\n",
    "# Modification: tell the LLM which tools it can call\n",
    "llm_with_tools = llm.bind_tools(tools)\n",
    "\n",
    "\n",
    "def chatbot(state: State):\n",
    "    return {\"messages\": [llm_with_tools.invoke(state[\"messages\"])]}\n",
    "\n",
    "\n",
    "graph_builder.add_node(\"chatbot\", chatbot)"
   ]
  },
  {
   "cell_type": "markdown",
   "id": "d1e84cfc-b1b2-48e3-8550-152a408c3926",
   "metadata": {},
   "source": [
    "다음으로, 호출된 도구를 실제로 실행하는 함수를 만들어야 합니다. 이를 위해 새 노드에 도구를 추가하겠습니다.\n",
    "\n",
    "아래에, 상태에서 가장 최근의 메시지를 확인하고, 메시지에 `tool_calls`가 포함되어 있으면 도구를 호출하는 `BasicToolNode`를 구현하세요. 이 노드는 Anthropic, OpenAI, Google Gemini 등 여러 LLM 제공자에서 사용할 수 있는 LLM의 `tool_calling` 지원에 의존합니다.\n",
    "\n",
    "나중에 LangGraph의 사전 구축된 [ToolNode](https://langchain-ai.github.io/langgraph/reference/prebuilt/#toolnode)로 대체하여 사용 될 수 있습니다."
   ]
  },
  {
   "cell_type": "code",
   "execution_count": 15,
   "id": "12f1fc14-cd91-4cd4-9f2e-1d007f8beafc",
   "metadata": {},
   "outputs": [],
   "source": [
    "import json\n",
    "\n",
    "from langchain_core.messages import ToolMessage\n",
    "\n",
    "\n",
    "class BasicToolNode:\n",
    "    \"\"\"A node that runs the tools requested in the last AIMessage.\"\"\"\n",
    "\n",
    "    def __init__(self, tools: list) -> None:\n",
    "        self.tools_by_name = {tool.name: tool for tool in tools}\n",
    "\n",
    "    def __call__(self, inputs: dict):\n",
    "        if messages := inputs.get(\"messages\", []):\n",
    "            message = messages[-1]\n",
    "        else:\n",
    "            raise ValueError(\"No message found in input\")\n",
    "        outputs = []\n",
    "        for tool_call in message.tool_calls:\n",
    "            tool_result = self.tools_by_name[tool_call[\"name\"]].invoke(\n",
    "                tool_call[\"args\"]\n",
    "            )\n",
    "            outputs.append(\n",
    "                ToolMessage(\n",
    "                    content=json.dumps(tool_result),\n",
    "                    name=tool_call[\"name\"],\n",
    "                    tool_call_id=tool_call[\"id\"],\n",
    "                )\n",
    "            )\n",
    "        return {\"messages\": outputs}\n",
    "\n",
    "\n",
    "tool_node = BasicToolNode(tools=[tool])\n",
    "graph_builder.add_node(\"tools\", tool_node)"
   ]
  },
  {
   "cell_type": "markdown",
   "id": "b049afc4-7757-40ba-8e00-589d378e816d",
   "metadata": {},
   "source": [
    "도구 노드를 추가한 후, 이제 `conditional_edges`를 정의할 수 있습니다.\n",
    "\n",
    "아래에서는 챗봇의 출력에서 `tool_calls`를 확인하는 `route_tools`라는 라우터 함수를 정의하세요. 이 함수를 그래프에 제공하려면 `add_conditional_edges`를 호출하여 `chatbot` 노드가 완료될 때마다 이 함수를 확인하여 다음으로 어디로 이동할지 결정하도록 그래프에 알려주세요.\n",
    "\n",
    "조건부는 `tool_calls`가 있으면 `tools`로, 없으면 \"`__end__`\"로 라우팅됩니다.\n",
    "\n",
    "나중에 이를 더 간결하게 하기 위해 사전 구축된 [tools_condition](https://langchain-ai.github.io/langgraph/reference/prebuilt/#tools_condition)으로 대체할 예정이지만, 처음에는 직접 구현하여 더 명확하게 이해할 수 있습니다.\n"
   ]
  },
  {
   "cell_type": "code",
   "execution_count": 16,
   "id": "d662df94-66ac-4c6c-92f0-4c93620f1c74",
   "metadata": {},
   "outputs": [],
   "source": [
    "from typing import Literal\n",
    "\n",
    "\n",
    "def route_tools(\n",
    "    state: State,\n",
    ") -> Literal[\"tools\", \"__end__\"]:\n",
    "    \"\"\"\n",
    "    Use in the conditional_edge to route to the ToolNode if the last message\n",
    "    has tool calls. Otherwise, route to the end.\n",
    "    \"\"\"\n",
    "    if isinstance(state, list):\n",
    "        ai_message = state[-1]\n",
    "    elif messages := state.get(\"messages\", []):\n",
    "        ai_message = messages[-1]\n",
    "    else:\n",
    "        raise ValueError(f\"No messages found in input state to tool_edge: {state}\")\n",
    "    if hasattr(ai_message, \"tool_calls\") and len(ai_message.tool_calls) > 0:\n",
    "        return \"tools\"\n",
    "    return \"__end__\"\n",
    "\n",
    "\n",
    "# The `tools_condition` function returns \"tools\" if the chatbot asks to use a tool, and \"__end__\" if\n",
    "# it is fine directly responding. This conditional routing defines the main agent loop.\n",
    "graph_builder.add_conditional_edges(\n",
    "    \"chatbot\",\n",
    "    route_tools,\n",
    "    {\"tools\": \"tools\", \"__end__\": \"__end__\"},\n",
    ")\n",
    "# Any time a tool is called, we return to the chatbot to decide the next step\n",
    "graph_builder.add_edge(\"tools\", \"chatbot\")\n",
    "graph_builder.set_entry_point(\"chatbot\")\n",
    "graph = graph_builder.compile()"
   ]
  },
  {
   "cell_type": "markdown",
   "id": "a2aa67c2-dd1b-4bf2-8c64-eea44296d15f",
   "metadata": {},
   "source": [
    "조건부 에지는 단일 노드에서 시작됩니다. 이는 그래프에 \"`chatbot`\" 노드가 실행될 때마다, 도구를 호출하면 'tools'로 가고, 직접 응답하면 루프를 종료하도록 지시합니다.\n",
    "\n",
    "사전 구축된 `tools_condition`과 마찬가지로, 우리 함수는 도구 호출이 없을 경우 \"`__end__`\" 문자열을 반환합니다. 그래프가 `__end__`로 전환되면 더 이상 완료해야 할 작업이 없으므로 실행이 중지됩니다. 조건이 `__end__`를 반환할 수 있기 때문에, 이번에는 명시적으로 `finish_point`를 설정할 필요가 없습니다. 우리의 그래프에는 이미 종료할 방법이 있습니다.\n",
    "\n",
    "이제 우리가 구축한 그래프를 시각화해 봅시다. 다음 함수는 이 튜토리얼에서는 중요하지 않은 추가 종속성이 필요합니다.\n"
   ]
  },
  {
   "cell_type": "code",
   "execution_count": 17,
   "id": "8b49509c-9d97-457c-a76a-c495fb30ccbc",
   "metadata": {},
   "outputs": [
    {
     "data": {
      "image/jpeg": "[encoded data removed]",
      "text/plain": [
       "<IPython.core.display.Image object>"
      ]
     },
     "metadata": {},
     "output_type": "display_data"
    }
   ],
   "source": [
    "visualize_graph(graph)"
   ]
  },
  {
   "cell_type": "markdown",
   "id": "c59593ef-5073-4279-931e-828dae971f23",
   "metadata": {},
   "source": [
    "Now we can ask the bot questions outside its training data."
   ]
  },
  {
   "cell_type": "code",
   "execution_count": 18,
   "id": "051dc374-67cc-4371-9dd1-221e07593148",
   "metadata": {},
   "outputs": [
    {
     "name": "stdin",
     "output_type": "stream",
     "text": [
      "User:  미국 대선 언제야\n"
     ]
    },
    {
     "name": "stdout",
     "output_type": "stream",
     "text": [
      "Assistant: [{'id': 'toolu_015UiDo3NKESgU9fKhXB2jDP', 'input': {'query': '미국 대선 일정'}, 'name': 'tavily_search_results_json', 'type': 'tool_use'}]\n",
      "Assistant: [{\"url\": \"https://namu.wiki/w/2024\\ub144 \\ubbf8\\uad6d \\ub300\\ud1b5\\ub839 \\uc120\\uac70\", \"content\": \"\\uac1c\\uc694 [\\ud3b8\\uc9d1] 2024\\ub144 11\\uc6d4 5\\uc77c \\uc5d0 \\uc2dc\\ud589 \\uc608\\uc815\\uc778 \\ubbf8\\uad6d \\ub300\\ud1b5\\ub839 \\uc120\\uac70. \\ubbf8\\uad6d \\uc758 60\\ubc88\\uc9f8 \\ub300\\ud1b5\\ub839 \\uc120\\uac70\\uc774\\uace0 \\uc81c47\\ub300 \\ub300\\ud1b5\\ub839 \\uc744 \\uc120\\ucd9c\\ud558\\uac70\\ub098 46\\ub300 \\ub300\\ud1b5\\ub839 \\uc870 \\ubc14\\uc774\\ub4e0 \\uc774 \\uc7ac\\uc120 \\uc5d0 \\ub3c4\\uc804\\ud558\\ub294 \\uc120\\uac70\\ub2e4. \\uc0c1\\ub300\\ub294 \\uc9c1\\uc804 45\\ub300 \\ub300\\ud1b5\\ub839 \\ub3c4\\ub110\\ub4dc \\ud2b8\\ub7fc\\ud504 \\ub85c, 1912\\ub144 \\ubbf8\\uad6d \\ub300\\ud1b5\\ub839 \\uc120\\uac70 \\uc774\\ud6c4 112\\ub144\\ub9cc\\uc5d0 \\uc804 ...\"}, {\"url\": \"https://www.bbc.com/korean/international-65186660\", \"content\": \"\\ub354 \\ubcf4\\uae30\\n\\ubbf8 \\uc911\\uac04\\uc120\\uac70: \\ubbfc\\uc8fc\\ub2f9\\uc758 \\uc0c1\\uc6d0 \\uc2b9\\ub9ac\\uac00 \\uc911\\uc694\\ud55c \\uc774\\uc720\\n\\ub3c4\\ub110\\ub4dc \\ud2b8\\ub7fc\\ud504\\uc758 2024\\ub144 \\ub300\\uc120 \\uc6b4\\ub3d9, \\uc774\\ubc88\\uc740 \\ub2e4\\ub974\\ub2e4?\\n\\ub3c4\\ub110\\ub4dc \\ud2b8\\ub7fc\\ud504: 2024\\ub144 \\ub300\\uc120\\uc774 \\ub354 \\uc5b4\\ub824\\uc6b4 6\\uac00\\uc9c0 \\uc774\\uc720\\n\\uc8fc\\uc694 \\ub274\\uc2a4\\n\\ubd81\\ud55c \\ud3ec\\ud0c4, NLL \\ubd81\\ucabd 7\\u339e\\uae4c\\uc9c0 \\ub0a0\\uc544\\uc654\\ub2e4\\u2026\\ubd81\\ud55c\\uc758 \\uc758\\ub3c4\\ub294?\\n\\ube44\\ud589\\uc911 \\ubb38\\uc774 \\ub72f\\uaca8\\uc838 \\ub098\\uac00\\ub2e4\\ub2c8...'\\ud574\\ub2f9 \\uadf8\\ub807\\ub2e4\\uba74, \\ubc14\\uc774\\ub4e0\\uc774 \\ubd88\\ucd9c\\ub9c8\\ub97c \\uacb0\\uc815\\ud55c\\ub2e4\\uba74 \\uc5b4\\ub5bb\\uac8c \\ub420\\uae4c?\\n\\uc774\\ubbf8 2024\\ub144 \\ub300\\uc120 \\ucd9c\\ub9c8\\ub97c \\uc120\\uc5b8\\ud55c \\ub450 \\uba85\\uc758 \\uc720\\ub825 \\ud6c4\\ubcf4\\uc640, \\ucd9c\\ub9c8 \\uac00\\ub2a5\\uc131\\uc774 \\uc788\\ub294 \\ub2e4\\ub978 \\ud6c4\\ubcf4\\ub97c \\uc544\\ub798\\uc640 \\uac19\\uc774 \\uc815\\ub9ac\\ud588\\ub2e4.\\n\\uc0ac\\uc9c4 \\ucd9c\\ucc98, Getty Images\\n\\uba54\\ub9ac\\uc564 \\uc70c\\ub9ac\\uc5c4\\uc2a8\\n\\uc790\\uae30\\uacc4\\ubc1c \\uc804\\ubb38\\uac00 \\uba54\\ub9ac\\uc564 \\uc70c\\ub9ac\\uc5c4\\uc2a8\\uc740 \\ubbfc\\uc8fc\\ub2f9\\uc6d0 \\ucd5c\\ucd08\\ub85c 2024\\ub144 \\ub300\\uc120 \\ucd9c\\ub9c8\\ub97c \\uc120\\uc5b8\\ud588\\uace0 3\\uc6d4\\ubd80\\ud130 \\uacf5\\uc2dd \\uc120\\uac70\\uc6b4\\ub3d9\\uc744 \\uc2dc\\uc791\\ud588\\ub2e4.\\n \\uae30\\uc885, \\uc6b4\\ud56d \\uc77c\\uc2dc \\uc911\\ub2e8'\\n\\uc0ac\\ub78c\\ub4e4\\uc758 \\uc0c8\\ud574 \\uacb0\\uc2ec\\uc744 \\uae30\\ud68c\\ub85c \\uc0bc\\ub294 \\uae30\\uc5c5\\ub4e4\\n\\uc774 \\uc2dc\\uac04 \\uc774\\uc288\\n\\uc77c\\ubcf8 \\uc774\\uc2dc\\uce74\\uc640\\ud604 \\ub300\\uc9c0\\uc9c4 \\ud53c\\ud574 \\uaddc\\ubaa8\\ub294?\\n2024\\ub144 \\ubd81\\ud55c\\uc758 \\ubbf8\\ub798\\ub294?...'7\\ucc28 \\uc0ac\\uc9c4 \\ucd9c\\ucc98, Getty Images\\n\\uac1c\\ube48 \\ub274\\uc12c\\n\\ud574\\ub9ac\\uc2a4 \\ubd80\\ud1b5\\ub839\\uc774 \\ud55c\\ub54c \\ubc14\\uc774\\ub4e0 \\ub300\\ud1b5\\ub839\\uc758 \\ub4a4\\ub97c \\uc774\\uc744 \\uc720\\ub825\\ud55c \\ud6c4\\ubcf4\\uc600\\ub2e4\\uba74, \\ud604\\uc7ac \\uac00\\uc7a5 \\uc720\\ub825\\ud558\\uac8c \\uac70\\ub860\\ub418\\ub294 \\ub300\\uc120 \\ud6c4\\ubcf4\\ub294 \\ub610 \\ub2e4\\ub978 \\uce98\\ub9ac\\ud3ec\\ub2c8\\uc544 \\uc815\\uce58\\uac00 \\uac1c\\ube48 \\ub274\\uc12c \\uc8fc\\uc9c0\\uc0ac\\ub2e4.\\n \\uc0ac\\uc9c4 \\ucd9c\\ucc98, Getty Images\\n\\ubc84\\ub2c8 \\uc0cc\\ub354\\uc2a4\\n\\ubc14\\uc774\\ub4e0\\uc758 \\ub098\\uc774\\uac00 \\uc720\\uad8c\\uc790\\uc5d0\\uac8c \\ud070 \\uac78\\ub9bc\\ub3cc\\uc774\\ub77c\\uba74, 81\\uc138\\uc758 \\ubc84\\ub2c8 \\uc0cc\\ub354\\uc2a4 \\ubc84\\ubaac\\ud2b8\\uc8fc \\uc0c1\\uc6d0\\uc758\\uc6d0\\uc758 \\ud6c4\\ubcf4 \\uc9c0\\uba85\\uc744 \\uc774\\ud574\\ud558\\uc9c0 \\ubabb\\ud558\\ub294 \\uc0ac\\ub78c\\ub3c4 \\ub9ce\\uc744 \\uac83\\uc774\\ub2e4.\\n\"}]\n",
      "Assistant: 요약하면, 미국의 차기 대선은 2024년 11월 5일에 예정되어 있습니다. 이번 선거는 미국 역사상 60번째 대선이 될 것입니다. 현재 도널드 트럼프 전 대통령과 조 바이든 현 대통령이 주요 후보로 거론되고 있습니다. 이번 선거에는 많은 중요한 이슈들이 걸려 있어, 결과에 따라 미국 정치 지형이 크게 변할 수 있을 것으로 보입니다.\n"
     ]
    },
    {
     "name": "stdin",
     "output_type": "stream",
     "text": [
      "User:  q\n"
     ]
    },
    {
     "name": "stdout",
     "output_type": "stream",
     "text": [
      "대화 종료!\n"
     ]
    },
    {
     "name": "stdout",
     "output_type": "stream",
     "text": [
      "User:  q\n"
     ]
    },
    {
     "name": "stdout",
     "output_type": "stream",
     "text": [
      "Goodbye!\n"
     ]
    }
   ],
   "source": [
    "from langchain_core.messages import BaseMessage\n",
    "\n",
    "while True:\n",
    "    user_input = input(\"User: \")\n",
    "    if user_input.lower() in [\"quit\", \"exit\", \"q\"]:\n",
    "        print(\"대화 종료!\")\n",
    "        break\n",
    "    for event in graph.stream({\"messages\": [(\"user\", user_input)]}):\n",
    "        for value in event.values():\n",
    "            if isinstance(value[\"messages\"][-1], BaseMessage):\n",
    "                print(\"Assistant:\", value[\"messages\"][-1].content)"
   ]
  },
  {
   "cell_type": "markdown",
   "id": "8b5e9a9d-db89-43e3-96c7-2a7c0fe631c1",
   "metadata": {},
   "source": [
    "## All in one!"
   ]
  },
  {
   "cell_type": "code",
   "execution_count": null,
   "id": "8755d551-160e-4f8f-afac-0e4e07ca79ff",
   "metadata": {},
   "outputs": [],
   "source": [
    "from typing import Annotated\n",
    "\n",
    "from langchain_anthropic import ChatAnthropic\n",
    "from langchain_community.tools.tavily_search import TavilySearchResults\n",
    "from langchain_core.messages import BaseMessage\n",
    "from typing_extensions import TypedDict\n",
    "\n",
    "from langgraph.graph import StateGraph\n",
    "from langgraph.graph.message import add_messages\n",
    "from langgraph.prebuilt import ToolNode, tools_condition\n",
    "\n",
    "\n",
    "class State(TypedDict):\n",
    "    messages: Annotated[list, add_messages]\n",
    "\n",
    "\n",
    "graph_builder = StateGraph(State)\n",
    "\n",
    "\n",
    "tool = TavilySearchResults(max_results=2)\n",
    "tools = [tool]\n",
    "llm = ChatAnthropic(model=\"claude-3-haiku-20240307\")\n",
    "llm_with_tools = llm.bind_tools(tools)\n",
    "\n",
    "\n",
    "def chatbot(state: State):\n",
    "    return {\"messages\": [llm_with_tools.invoke(state[\"messages\"])]}\n",
    "\n",
    "\n",
    "graph_builder.add_node(\"chatbot\", chatbot)\n",
    "\n",
    "tool_node = ToolNode(tools=[tool])\n",
    "graph_builder.add_node(\"tools\", tool_node)\n",
    "\n",
    "graph_builder.add_conditional_edges(\n",
    "    \"chatbot\",\n",
    "    tools_condition,\n",
    ")\n",
    "# Any time a tool is called, we return to the chatbot to decide the next step\n",
    "graph_builder.add_edge(\"tools\", \"chatbot\")\n",
    "graph_builder.set_entry_point(\"chatbot\")\n",
    "graph = graph_builder.compile()"
   ]
  },
  {
   "cell_type": "markdown",
   "id": "ae45f2aa-396f-4f3f-848b-7750611617f8",
   "metadata": {},
   "source": [
    "## Part 3: 메모리 추가하기\n",
    "\n",
    "우리의 챗봇은 이제 도구를 사용하여 사용자 질문에 답할 수 있지만, 이전 상호작용의 맥락을 기억하지 못합니다. 이는 일관성 있는 여러 턴의 대화를 하는 데 한계를 가져옵니다.\n",
    "\n",
    "LangGraph는 **지속적인 체크포인트 저장**을 통해 이 문제를 해결합니다. 그래프를 컴파일할 때 `checkpointer`를 제공하고, 그래프를 호출할 때 `thread_id`를 제공하면, LangGraph는 각 단계 후 상태를 자동으로 저장합니다. 동일한 `thread_id`를 사용하여 그래프를 다시 호출하면, 그래프는 저장된 상태를 로드하여 챗봇이 이전 상태에서 계속 작업할 수 있게 합니다.\n",
    "\n",
    "나중에 **체크포인트 저장**이 단순한 대화 메모리보다 _훨씬_ 더 강력하다는 것을 알게 될 것입니다. 이는 언제든지 복잡한 상태를 저장하고 복구하여 오류 복구, 인간-상호작용 워크플로우, 시간 여행 상호작용 등을 가능하게 합니다. 하지만 너무 앞서 나가기 전에, 체크포인트를 추가하여 여러 턴의 대화를 가능하게 해 봅시다.\n",
    "\n",
    "시작하려면, `SqliteSaver` 체크포인터를 생성하세요."
   ]
  },
  {
   "cell_type": "code",
   "execution_count": 19,
   "id": "6baafdf6-6803-4305-9381-9dc970468a4d",
   "metadata": {},
   "outputs": [],
   "source": [
    "from langgraph.checkpoint.sqlite import SqliteSaver\n",
    "\n",
    "# In memory:\n",
    "memory = SqliteSaver.from_conn_string(\":memory:\")\n",
    "\n",
    "# To disk:\n",
    "# memory = SqliteSaver.from_conn_string(\"checkpoints.sqlite\")"
   ]
  },
  {
   "cell_type": "markdown",
   "id": "08d3d11a-1b42-4cbb-8e11-2a4294263d90",
   "metadata": {},
   "source": [
    "우리는 Sqlite DB 경로로 `:memory`를 지정했습니다. 이는 튜토리얼을 위해 편리한데, 모든 것을 메모리에 저장합니다. 실제 응용 프로그램에서는 이를 변경하여 자체 DB에 연결하거나 다른 체크포인터 클래스를 사용하는 것이 좋습니다.\n",
    "\n",
    "다음으로 그래프를 정의하세요. 이미 `BasicToolNode`를 직접 구축했으므로, LangGraph의 사전 구축된 `ToolNode`와 `tools_condition`으로 이를 교체할 것입니다. 이들은 병렬 API 실행과 같은 유용한 기능을 제공합니다. 그 외의 내용은 모두 2부에서 복사해온 것입니다."
   ]
  },
  {
   "cell_type": "code",
   "execution_count": 21,
   "id": "e6a51f1e-00de-4701-8931-de8cf19294ae",
   "metadata": {},
   "outputs": [],
   "source": [
    "from typing import Annotated\n",
    "\n",
    "from langchain_anthropic import ChatAnthropic\n",
    "from langchain_community.tools.tavily_search import TavilySearchResults\n",
    "from langchain_core.messages import BaseMessage\n",
    "from typing_extensions import TypedDict\n",
    "\n",
    "from langgraph.graph import StateGraph\n",
    "from langgraph.graph.message import add_messages\n",
    "from langgraph.prebuilt import ToolNode, tools_condition\n",
    "\n",
    "\n",
    "class State(TypedDict):\n",
    "    messages: Annotated[list, add_messages]\n",
    "\n",
    "\n",
    "graph_builder = StateGraph(State)\n",
    "\n",
    "\n",
    "tool = TavilySearchResults(max_results=2)\n",
    "tools = [tool]\n",
    "llm = ChatAnthropic(model=\"claude-3-haiku-20240307\")\n",
    "llm_with_tools = llm.bind_tools(tools)\n",
    "\n",
    "\n",
    "def chatbot(state: State):\n",
    "    return {\"messages\": [llm_with_tools.invoke(state[\"messages\"])]}\n",
    "\n",
    "\n",
    "graph_builder.add_node(\"chatbot\", chatbot)\n",
    "\n",
    "tool_node = ToolNode(tools=[tool])\n",
    "graph_builder.add_node(\"tools\", tool_node)\n",
    "\n",
    "graph_builder.add_conditional_edges(\n",
    "    \"chatbot\",\n",
    "    tools_condition,\n",
    ")\n",
    "# Any time a tool is called, we return to the chatbot to decide the next step\n",
    "graph_builder.add_edge(\"tools\", \"chatbot\")\n",
    "graph_builder.set_entry_point(\"chatbot\")"
   ]
  },
  {
   "cell_type": "markdown",
   "id": "8a292dfe-764f-4561-90aa-71317d679d3e",
   "metadata": {},
   "source": [
    "Finally, compile the graph with the provided checkpointer."
   ]
  },
  {
   "cell_type": "code",
   "execution_count": 22,
   "id": "a06548bf-81fa-4436-b4c1-f68601fb4187",
   "metadata": {},
   "outputs": [],
   "source": [
    "graph = graph_builder.compile(checkpointer=memory)"
   ]
  },
  {
   "cell_type": "markdown",
   "id": "df01805c-4458-4474-b13b-59ecfe228f12",
   "metadata": {},
   "source": [
    "Notice the connectivity of the graph hasn't changed since Part 2. All we are doing is checkpointing the `State` as the graph works through each node."
   ]
  },
  {
   "cell_type": "code",
   "execution_count": 23,
   "id": "761d15fb-d5e2-4d50-a630-126d77e77294",
   "metadata": {},
   "outputs": [
    {
     "data": {
      "image/jpeg": "[encoded data removed]",
      "text/plain": [
       "<IPython.core.display.Image object>"
      ]
     },
     "metadata": {},
     "output_type": "display_data"
    }
   ],
   "source": [
    "visualize_graph(graph)"
   ]
  },
  {
   "cell_type": "code",
   "execution_count": 24,
   "id": "be7b5abb-04ef-4d53-83d1-d4d3139cc43a",
   "metadata": {},
   "outputs": [],
   "source": [
    "config = {\"configurable\": {\"thread_id\": \"1\"}}"
   ]
  },
  {
   "cell_type": "code",
   "execution_count": 25,
   "id": "dba1b168-f8e0-496d-9bd6-37198fb4776e",
   "metadata": {},
   "outputs": [
    {
     "name": "stdout",
     "output_type": "stream",
     "text": [
      "================================\u001b[1m Human Message \u001b[0m=================================\n",
      "\n",
      "안녕 나는 Liam이야.\n",
      "==================================\u001b[1m Ai Message \u001b[0m==================================\n",
      "\n",
      "반갑습니다 Liam! 저도 반가워요. 오늘 기분이 어떠신가요? 무엇을 하고 싶으신가요? 제가 도움이 되는 방법이 있다면 알려주세요.\n"
     ]
    }
   ],
   "source": [
    "user_input = \"안녕 나는 Liam이야.\"\n",
    "\n",
    "# The config is the **second positional argument** to stream() or invoke()!\n",
    "events = graph.stream(\n",
    "    {\"messages\": [(\"user\", user_input)]}, config, stream_mode=\"values\"\n",
    ")\n",
    "for event in events:\n",
    "    event[\"messages\"][-1].pretty_print()"
   ]
  },
  {
   "cell_type": "markdown",
   "id": "33c6b470-5082-4c3e-b732-34de47c88735",
   "metadata": {},
   "source": [
    "**참고:** 설정(config)은 그래프를 호출할 때 **두 번째 위치 인자**로 제공되었습니다. 중요한 점은 그래프 입력(`{'messages': []}`) 내에 포함되지 않는다는 것입니다.\n",
    "\n",
    "이름을 기억하는지 확인해봅시다.\n"
   ]
  },
  {
   "cell_type": "code",
   "execution_count": 26,
   "id": "f5447778-53d7-47f3-801b-f47bcf2185a0",
   "metadata": {},
   "outputs": [
    {
     "name": "stdout",
     "output_type": "stream",
     "text": [
      "================================\u001b[1m Human Message \u001b[0m=================================\n",
      "\n",
      "내 이름 기억해?\n",
      "==================================\u001b[1m Ai Message \u001b[0m==================================\n",
      "\n",
      "네, 당신의 이름이 Liam이라는 것을 잘 기억하고 있습니다. 처음 대화할 때 Liam이라고 소개해주셨죠. 저는 사용자분의 이름을 빠르게 기억하고 있으며, 이후 대화에서도 계속해서 사용자 이름을 활용할 것입니다. 이렇게 개인적인 대화를 나누게 되어 기쁩니다.\n"
     ]
    }
   ],
   "source": [
    "user_input = \"내 이름 기억해?\"\n",
    "\n",
    "# The config is the **second positional argument** to stream() or invoke()!\n",
    "events = graph.stream(\n",
    "    {\"messages\": [(\"user\", user_input)]}, config, stream_mode=\"values\"\n",
    ")\n",
    "for event in events:\n",
    "    event[\"messages\"][-1].pretty_print()"
   ]
  },
  {
   "cell_type": "markdown",
   "id": "33be4cd8-f96f-4949-9d1f-48054502e5d0",
   "metadata": {},
   "source": [
    "**참고**: 메모리 관리를 위해 외부 리스트를 사용하지 않는다는 점에 유의하세요. 이는 모두 체크포인터에 의해 처리됩니다."
   ]
  },
  {
   "cell_type": "code",
   "execution_count": 27,
   "id": "4527cf9a-b191-4bde-858a-e33a74a48c55",
   "metadata": {},
   "outputs": [
    {
     "name": "stdout",
     "output_type": "stream",
     "text": [
      "================================\u001b[1m Human Message \u001b[0m=================================\n",
      "\n",
      "내 이름 기억해?\n",
      "==================================\u001b[1m Ai Message \u001b[0m==================================\n",
      "\n",
      "[{'id': 'toolu_01N3aSPfj8jGx8jGwh3kQPJS', 'input': {'query': '내 이름 기억해'}, 'name': 'tavily_search_results_json', 'type': 'tool_use'}]\n",
      "Tool Calls:\n",
      "  tavily_search_results_json (toolu_01N3aSPfj8jGx8jGwh3kQPJS)\n",
      " Call ID: toolu_01N3aSPfj8jGx8jGwh3kQPJS\n",
      "  Args:\n",
      "    query: 내 이름 기억해\n",
      "=================================\u001b[1m Tool Message \u001b[0m=================================\n",
      "Name: tavily_search_results_json\n",
      "\n",
      "[{\"url\": \"https://hinative.com/questions/16690237\", \"content\": \"\\ub0b4 \\uc774\\ub984\\uc744 \\uae30\\uc5b5\\ud574 (nae i-reum-eur gi-eog-hae ) Definition of \\ub0b4 \\uc774\\ub984\\uc744 \\uae30\\uc5b5\\ud574 Remember my name. Sign up; Sign in; Question Updated on 28 Jun 2020 jinah_07. 28 Jun 2020. English (US) Japanese Korean Simplified Chinese (China) Question about Korean. What does ...\"}, {\"url\": \"https://m.blog.naver.com/hasajon/223080615372\", \"content\": \"\\uc544\\ub2c8\\uba74, \\ub0b4 \\uc774\\ub984 \\ubc1c\\uc74c\\uacfc \\ube44\\uc2b7\\ud55c \\uc601\\uc5b4 \\ub2c9\\ub124\\uc784\\uc744 \\ucc3e\\uc744 \\uc218\\ub3c4 \\uc788\\uaca0\\uc2b5\\ub2c8\\ub2e4. \\uc608\\ub97c \\ub4e4\\uba74 '\\ucca0\\uc218'\\ub294 'Charles'\\ub85c, \\uc120\\ud76c\\ub294 'Sonny'\\ub85c, \\uc774\\uc0ad\\uc740 'Issac'\\uc774 \\ub420 \\uc218 \\uc788\\uaca0\\uc2b5\\ub2c8\\ub2e4. ... \\uadf8\\ub9ac\\uace0 \\uc0c1\\ub300\\ubc29\\uc774 \\ub0b4 \\uc9c4\\uc9dc \\uc774\\ub984\\ub3c4 \\ub354 \\uc798 \\uae30\\uc5b5\\ud574 \\uc904 \\uc218 \\uc788\\uc9c0 \\uc54a\\uc744\\uae4c\\uc694? ...\"}]\n",
      "==================================\u001b[1m Ai Message \u001b[0m==================================\n",
      "\n",
      "결과를 보면 내 이름을 기억하는 것이 중요하다는 것을 알 수 있습니다. 이를 위해서는 상대방의 이름을 듣고 기억하는 것이 중요하고, 상대방이 나의 이름을 기억할 수 있도록 도와주는 것도 중요할 것 같습니다. 상호간의 이해와 존중이 이름을 기억하는데 도움이 될 것 같습니다.\n"
     ]
    }
   ],
   "source": [
    "# The only difference is we change the `thread_id` here to \"2\" instead of \"1\"\n",
    "events = graph.stream(\n",
    "    {\"messages\": [(\"user\", user_input)]},\n",
    "    {\"configurable\": {\"thread_id\": \"2\"}},\n",
    "    stream_mode=\"values\",\n",
    ")\n",
    "for event in events:\n",
    "    event[\"messages\"][-1].pretty_print()"
   ]
  },
  {
   "cell_type": "markdown",
   "id": "5eeccbf0-ed74-4838-a7e9-31910d82b0b2",
   "metadata": {},
   "source": [
    "**공지**: 앞선 강의에서 다뤘든 대화의 내용은 thread 별로 분리되어있습니다.\n",
    "\n",
    "지금까지 우리는 두 개의 다른 스레드에서 몇 가지 체크포인트를 만들었습니다. 그렇다면 체크포인트에 무엇이 들어갈까요? 주어진 설정(config)에 대한 그래프의 `state`를 언제든지 검사하려면, `get_state(config)`를 호출하세요."
   ]
  },
  {
   "cell_type": "code",
   "execution_count": 29,
   "id": "0be77c25-1423-4f2d-9b2d-28530cc761a4",
   "metadata": {},
   "outputs": [
    {
     "data": {
      "text/plain": [
       "StateSnapshot(values={'messages': [HumanMessage(content='안녕 나는 Liam이야.', id='262865f3-01b8-45af-ad67-c48baef60a56'), AIMessage(content='반갑습니다 Liam! 저도 반가워요. 오늘 기분이 어떠신가요? 무엇을 하고 싶으신가요? 제가 도움이 되는 방법이 있다면 알려주세요.', response_metadata={'id': 'msg_018yywsXBpcJSb5GsioJSKtn', 'model': 'claude-3-haiku-20240307', 'stop_reason': 'end_turn', 'stop_sequence': None, 'usage': {'input_tokens': 381, 'output_tokens': 81}}, id='run-2d505fd2-9201-4b3d-9e37-15e4e47cfa09-0', usage_metadata={'input_tokens': 381, 'output_tokens': 81, 'total_tokens': 462}), HumanMessage(content='내 이름 기억해?', id='4cf69daf-e79a-4c2f-8adc-f50122477e06'), AIMessage(content='네, 당신의 이름이 Liam이라는 것을 잘 기억하고 있습니다. 처음 대화할 때 Liam이라고 소개해주셨죠. 저는 사용자분의 이름을 빠르게 기억하고 있으며, 이후 대화에서도 계속해서 사용자 이름을 활용할 것입니다. 이렇게 개인적인 대화를 나누게 되어 기쁩니다.', response_metadata={'id': 'msg_01EwuzNX457iGZB1Zp4Q7Cco', 'model': 'claude-3-haiku-20240307', 'stop_reason': 'end_turn', 'stop_sequence': None, 'usage': {'input_tokens': 475, 'output_tokens': 153}}, id='run-1b9cbd49-5e41-49c0-a8b8-9e7859aab486-0', usage_metadata={'input_tokens': 475, 'output_tokens': 153, 'total_tokens': 628})]}, next=(), config={'configurable': {'thread_id': '1', 'thread_ts': '1ef2f919-3d83-684a-8004-e2f30973a6a4'}}, metadata={'source': 'loop', 'step': 4, 'writes': {'chatbot': {'messages': [AIMessage(content='네, 당신의 이름이 Liam이라는 것을 잘 기억하고 있습니다. 처음 대화할 때 Liam이라고 소개해주셨죠. 저는 사용자분의 이름을 빠르게 기억하고 있으며, 이후 대화에서도 계속해서 사용자 이름을 활용할 것입니다. 이렇게 개인적인 대화를 나누게 되어 기쁩니다.', response_metadata={'id': 'msg_01EwuzNX457iGZB1Zp4Q7Cco', 'model': 'claude-3-haiku-20240307', 'stop_reason': 'end_turn', 'stop_sequence': None, 'usage': {'input_tokens': 475, 'output_tokens': 153}}, id='run-1b9cbd49-5e41-49c0-a8b8-9e7859aab486-0', usage_metadata={'input_tokens': 475, 'output_tokens': 153, 'total_tokens': 628})]}}}, created_at='2024-06-21T05:46:16.895849+00:00', parent_config={'configurable': {'thread_id': '1', 'thread_ts': '1ef2f919-2db8-6b18-8003-3b161d3ccbba'}})"
      ]
     },
     "execution_count": 29,
     "metadata": {},
     "output_type": "execute_result"
    }
   ],
   "source": [
    "snapshot = graph.get_state(config)\n",
    "snapshot"
   ]
  },
  {
   "cell_type": "code",
   "execution_count": 30,
   "id": "c106bd09-f155-4e15-9120-c60c834106e5",
   "metadata": {},
   "outputs": [
    {
     "data": {
      "text/plain": [
       "()"
      ]
     },
     "execution_count": 30,
     "metadata": {},
     "output_type": "execute_result"
    }
   ],
   "source": [
    "snapshot.next  # (그래프가 이번 턴에 종료되었기 때문에, next는 비어 있습니다. 그래프 호출 중에 상태를 가져오면, next는 다음에 실행될 노드를 나타냅니다)"
   ]
  },
  {
   "cell_type": "markdown",
   "id": "627f4998-6780-4cce-8f3c-9a5580888e3a",
   "metadata": {},
   "source": [
    "위의 스냅샷에는 현재 상태 값, 해당 구성(config), 그리고 처리할 `next` 노드가 포함되어 있습니다. 우리의 경우, 그래프는 `__end__` 상태에 도달했기 때문에 `next`는 비어 있습니다."
   ]
  },
  {
   "cell_type": "markdown",
   "id": "306e73b3-0946-423b-b48c-9702d1bedf91",
   "metadata": {},
   "source": [
    "## All-in-one Again!"
   ]
  },
  {
   "cell_type": "code",
   "execution_count": null,
   "id": "9c50a794-3ae5-484c-8edd-50e0d54da982",
   "metadata": {},
   "outputs": [],
   "source": [
    "from typing import Annotated\n",
    "\n",
    "from langchain_anthropic import ChatAnthropic\n",
    "from langchain_community.tools.tavily_search import TavilySearchResults\n",
    "from langchain_core.messages import BaseMessage\n",
    "from typing_extensions import TypedDict\n",
    "\n",
    "from langgraph.checkpoint.sqlite import SqliteSaver\n",
    "from langgraph.graph import StateGraph\n",
    "from langgraph.graph.message import add_messages\n",
    "from langgraph.prebuilt import ToolNode\n",
    "\n",
    "\n",
    "class State(TypedDict):\n",
    "    messages: Annotated[list, add_messages]\n",
    "\n",
    "\n",
    "graph_builder = StateGraph(State)\n",
    "\n",
    "\n",
    "tool = TavilySearchResults(max_results=2)\n",
    "tools = [tool]\n",
    "llm = ChatAnthropic(model=\"claude-3-haiku-20240307\")\n",
    "llm_with_tools = llm.bind_tools(tools)\n",
    "\n",
    "\n",
    "def chatbot(state: State):\n",
    "    return {\"messages\": [llm_with_tools.invoke(state[\"messages\"])]}\n",
    "\n",
    "\n",
    "graph_builder.add_node(\"chatbot\", chatbot)\n",
    "\n",
    "tool_node = ToolNode(tools=[tool])\n",
    "graph_builder.add_node(\"tools\", tool_node)\n",
    "\n",
    "graph_builder.add_conditional_edges(\n",
    "    \"chatbot\",\n",
    "    tools_condition,\n",
    ")\n",
    "graph_builder.add_edge(\"tools\", \"chatbot\")\n",
    "graph_builder.set_entry_point(\"chatbot\")\n",
    "graph = graph_builder.compile(checkpointer=memory)"
   ]
  }
 ],
 "metadata": {
  "kernelspec": {
   "display_name": "Python 3 (ipykernel)",
   "language": "python",
   "name": "python3"
  },
  "language_info": {
   "codemirror_mode": {
    "name": "ipython",
    "version": 3
   },
   "file_extension": ".py",
   "mimetype": "text/x-python",
   "name": "python",
   "nbconvert_exporter": "python",
   "pygments_lexer": "ipython3",
   "version": "3.11.9"
  }
 },
 "nbformat": 4,
 "nbformat_minor": 5
}
