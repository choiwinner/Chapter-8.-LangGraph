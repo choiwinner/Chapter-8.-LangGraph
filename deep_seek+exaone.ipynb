{
 "cells": [
  {
   "cell_type": "markdown",
   "metadata": {},
   "source": [
    "참고 자료 : https://www.youtube.com/watch?v=cAx5ItHRWkM"
   ]
  },
  {
   "cell_type": "code",
   "execution_count": 1,
   "metadata": {},
   "outputs": [],
   "source": [
    "#pip install langchain-core langgraph langchain-core langchain-ollama ollama"
   ]
  },
  {
   "cell_type": "code",
   "execution_count": 3,
   "metadata": {},
   "outputs": [],
   "source": [
    "from langchain_ollama import ChatOllama"
   ]
  },
  {
   "cell_type": "code",
   "execution_count": 4,
   "metadata": {},
   "outputs": [
    {
     "name": "stdout",
     "output_type": "stream",
     "text": [
      "모델 이름: exaone3.5:7.8b\n",
      "크기: 4.8GB\n",
      "수정 시간: 2025-02-18 23:47:40.783777+09:00\n",
      "---\n",
      "모델 이름: exaone3.5:latest\n",
      "크기: 4.8GB\n",
      "수정 시간: 2025-02-18 23:19:47.751310+09:00\n",
      "---\n",
      "모델 이름: phi4:14b\n",
      "크기: 9.1GB\n",
      "수정 시간: 2025-02-16 11:49:18.580419+09:00\n",
      "---\n",
      "모델 이름: qwen2.5:14b\n",
      "크기: 9.0GB\n",
      "수정 시간: 2025-02-15 23:30:19.603893+09:00\n",
      "---\n",
      "모델 이름: deepseek-r1:8b\n",
      "크기: 4.9GB\n",
      "수정 시간: 2025-02-15 21:29:18.533056+09:00\n",
      "---\n",
      "모델 이름: deepseek-r1:14b\n",
      "크기: 9.0GB\n",
      "수정 시간: 2025-02-15 18:13:42.882544+09:00\n",
      "---\n"
     ]
    }
   ],
   "source": [
    "import ollama\n",
    "# 모델 목록 가져오기\n",
    "models = ollama.list()\n",
    "# 모델 정보 출력\n",
    "for model in models['models']:\n",
    "    print(f\"모델 이름: {model['model']}\")\n",
    "    print(f\"크기: {round(model['size']/1000/1000/1000,1)}GB\")\n",
    "    print(f\"수정 시간: {model['modified_at']}\")\n",
    "    print(\"---\")"
   ]
  },
  {
   "cell_type": "code",
   "execution_count": null,
   "metadata": {},
   "outputs": [],
   "source": [
    "deepseek = ChatOllama(model='deepseek-r1:14b',temperature=0)\n",
    "exaone = ChatOllama(model='exaone3.5:7.8b',temperature=0)"
   ]
  },
  {
   "cell_type": "code",
   "execution_count": 15,
   "metadata": {},
   "outputs": [
    {
     "name": "stdout",
     "output_type": "stream",
     "text": [
      "<think>\n",
      "To determine which number is larger between 9.11 and 9.9, I will start by comparing their whole number parts.\n",
      "\n",
      "Both numbers have the same whole number part, which is 9.\n",
      "\n",
      "Next, I'll compare the decimal parts of each number. \n",
      "\n",
      "For 9.11, the decimal part is 0.11, and for 9.9, it's 0.9. \n",
      "\n",
      "Since 0.9 is greater than 0.11, the decimal part of 9.9 is larger.\n",
      "\n",
      "Therefore, 9.9 is the bigger number.\n",
      "</think>\n",
      "\n",
      "To determine which number is larger between **9.11** and **9.9**, let's compare them step by step.\n",
      "\n",
      "### Step 1: Compare the Whole Number Part\n",
      "Both numbers have the same whole number part:\n",
      "- **9** in 9.11\n",
      "- **9** in 9.9\n",
      "\n",
      "Since they are equal, we proceed to compare the decimal parts.\n",
      "\n",
      "### Step 2: Compare the Decimal Parts\n",
      "- For **9.11**, the decimal part is **0.11**\n",
      "- For **9.9**, the decimal part is **0.9**\n",
      "\n",
      "To make it easier, let's write both decimals with the same number of digits:\n",
      "- **0.11** (for 9.11)\n",
      "- **0.90** (since 0.9 is equivalent to 0.90)\n",
      "\n",
      "Now compare these decimals:\n",
      "- **0.11** vs. **0.90**\n",
      "\n",
      "Clearly, **0.90** is greater than **0.11**.\n",
      "\n",
      "### Conclusion\n",
      "Since the decimal part of **9.9** (which is **0.90**) is larger than that of **9.11** (**0.11**), we can conclude that:\n",
      "\n",
      "\\[\n",
      "\\boxed{9.9}\n",
      "\\]"
     ]
    }
   ],
   "source": [
    "#Chatgpt처럼 typing 하듯이 출력하기기\n",
    "answer = [ ]\n",
    "for chunk in deepseek.stream(\"which is bigger between 9.11 and 9.9?\"):\n",
    "    answer.append(chunk.content)\n",
    "    print(chunk.content, end='',flush=True) "
   ]
  },
  {
   "cell_type": "code",
   "execution_count": 18,
   "metadata": {},
   "outputs": [
    {
     "name": "stdout",
     "output_type": "stream",
     "text": [
      "hello world python\n"
     ]
    }
   ],
   "source": [
    "words = ['hello', 'world', 'python']\n",
    "sentence = ' '.join(words)\n",
    "print(sentence)  # 출력: \"hello world python\""
   ]
  },
  {
   "cell_type": "code",
   "execution_count": 16,
   "metadata": {},
   "outputs": [],
   "source": [
    "answer_md2 = ''.join([i for i in answer])"
   ]
  },
  {
   "cell_type": "code",
   "execution_count": 22,
   "metadata": {},
   "outputs": [
    {
     "data": {
      "text/plain": [
       "\"<think>\\nTo determine which number is larger between 9.11 and 9.9, I will start by comparing their whole number parts.\\n\\nBoth numbers have the same whole number part, which is 9.\\n\\nNext, I'll compare the decimal parts of each number. \\n\\nFor 9.11, the decimal part is 0.11, and for 9.9, it's 0.9. \\n\\nSince 0.9 is greater than 0.11, the decimal part of 9.9 is larger.\\n\\nTherefore, 9.9 is the bigger number.\\n</think>\\n\\nTo determine which number is larger between **9.11** and **9.9**, let's compare them step by step.\\n\\n### Step 1: Compare the Whole Number Part\\nBoth numbers have the same whole number part:\\n- **9** in 9.11\\n- **9** in 9.9\\n\\nSince they are equal, we proceed to compare the decimal parts.\\n\\n### Step 2: Compare the Decimal Parts\\n- For **9.11**, the decimal part is **0.11**\\n- For **9.9**, the decimal part is **0.9**\\n\\nTo make it easier, let's write both decimals with the same number of digits:\\n- **0.11** (for 9.11)\\n- **0.90** (since 0.9 is equivalent to 0.90)\\n\\nNow compare these decimals:\\n- **0.11** vs. **0.90**\\n\\nClearly, **0.90** is greater than **0.11**.\\n\\n### Conclusion\\nSince the decimal part of **9.9** (which is **0.90**) is larger than that of **9.11** (**0.11**), we can conclude that:\\n\\n\\\\[\\n\\\\boxed{9.9}\\n\\\\]\""
      ]
     },
     "execution_count": 22,
     "metadata": {},
     "output_type": "execute_result"
    }
   ],
   "source": [
    "answer_md2"
   ]
  },
  {
   "cell_type": "code",
   "execution_count": 19,
   "metadata": {},
   "outputs": [],
   "source": [
    "k = []\n",
    "for i in answer:\n",
    "    k.append(i)"
   ]
  },
  {
   "cell_type": "code",
   "execution_count": 20,
   "metadata": {},
   "outputs": [],
   "source": [
    "answer_md = ''.join(k)"
   ]
  },
  {
   "cell_type": "code",
   "execution_count": 21,
   "metadata": {},
   "outputs": [
    {
     "data": {
      "text/plain": [
       "\"<think>\\nTo determine which number is larger between 9.11 and 9.9, I will start by comparing their whole number parts.\\n\\nBoth numbers have the same whole number part, which is 9.\\n\\nNext, I'll compare the decimal parts of each number. \\n\\nFor 9.11, the decimal part is 0.11, and for 9.9, it's 0.9. \\n\\nSince 0.9 is greater than 0.11, the decimal part of 9.9 is larger.\\n\\nTherefore, 9.9 is the bigger number.\\n</think>\\n\\nTo determine which number is larger between **9.11** and **9.9**, let's compare them step by step.\\n\\n### Step 1: Compare the Whole Number Part\\nBoth numbers have the same whole number part:\\n- **9** in 9.11\\n- **9** in 9.9\\n\\nSince they are equal, we proceed to compare the decimal parts.\\n\\n### Step 2: Compare the Decimal Parts\\n- For **9.11**, the decimal part is **0.11**\\n- For **9.9**, the decimal part is **0.9**\\n\\nTo make it easier, let's write both decimals with the same number of digits:\\n- **0.11** (for 9.11)\\n- **0.90** (since 0.9 is equivalent to 0.90)\\n\\nNow compare these decimals:\\n- **0.11** vs. **0.90**\\n\\nClearly, **0.90** is greater than **0.11**.\\n\\n### Conclusion\\nSince the decimal part of **9.9** (which is **0.90**) is larger than that of **9.11** (**0.11**), we can conclude that:\\n\\n\\\\[\\n\\\\boxed{9.9}\\n\\\\]\""
      ]
     },
     "execution_count": 21,
     "metadata": {},
     "output_type": "execute_result"
    }
   ],
   "source": [
    "answer_md"
   ]
  },
  {
   "cell_type": "code",
   "execution_count": 23,
   "metadata": {},
   "outputs": [
    {
     "data": {
      "text/markdown": [
       "<think>\n",
       "To determine which number is larger between 9.11 and 9.9, I will start by comparing their whole number parts.\n",
       "\n",
       "Both numbers have the same whole number part, which is 9.\n",
       "\n",
       "Next, I'll compare the decimal parts of each number. \n",
       "\n",
       "For 9.11, the decimal part is 0.11, and for 9.9, it's 0.9. \n",
       "\n",
       "Since 0.9 is greater than 0.11, the decimal part of 9.9 is larger.\n",
       "\n",
       "Therefore, 9.9 is the bigger number.\n",
       "</think>\n",
       "\n",
       "To determine which number is larger between **9.11** and **9.9**, let's compare them step by step.\n",
       "\n",
       "### Step 1: Compare the Whole Number Part\n",
       "Both numbers have the same whole number part:\n",
       "- **9** in 9.11\n",
       "- **9** in 9.9\n",
       "\n",
       "Since they are equal, we proceed to compare the decimal parts.\n",
       "\n",
       "### Step 2: Compare the Decimal Parts\n",
       "- For **9.11**, the decimal part is **0.11**\n",
       "- For **9.9**, the decimal part is **0.9**\n",
       "\n",
       "To make it easier, let's write both decimals with the same number of digits:\n",
       "- **0.11** (for 9.11)\n",
       "- **0.90** (since 0.9 is equivalent to 0.90)\n",
       "\n",
       "Now compare these decimals:\n",
       "- **0.11** vs. **0.90**\n",
       "\n",
       "Clearly, **0.90** is greater than **0.11**.\n",
       "\n",
       "### Conclusion\n",
       "Since the decimal part of **9.9** (which is **0.90**) is larger than that of **9.11** (**0.11**), we can conclude that:\n",
       "\n",
       "\\[\n",
       "\\boxed{9.9}\n",
       "\\]"
      ],
      "text/plain": [
       "<IPython.core.display.Markdown object>"
      ]
     },
     "execution_count": 23,
     "metadata": {},
     "output_type": "execute_result"
    }
   ],
   "source": [
    "from IPython.display import Markdown\n",
    "Markdown(answer_md)"
   ]
  },
  {
   "cell_type": "code",
   "execution_count": 24,
   "metadata": {},
   "outputs": [
    {
     "data": {
      "text/markdown": [
       "<think>\n",
       "To determine which number is larger between 9.11 and 9.9, I will start by comparing their whole number parts.\n",
       "\n",
       "Both numbers have the same whole number part, which is 9.\n",
       "\n",
       "Next, I'll compare the decimal parts of each number. \n",
       "\n",
       "For 9.11, the decimal part is 0.11, and for 9.9, it's 0.9. \n",
       "\n",
       "Since 0.9 is greater than 0.11, the decimal part of 9.9 is larger.\n",
       "\n",
       "Therefore, 9.9 is the bigger number.\n",
       "</think>\n",
       "\n",
       "To determine which number is larger between **9.11** and **9.9**, let's compare them step by step.\n",
       "\n",
       "### Step 1: Compare the Whole Number Part\n",
       "Both numbers have the same whole number part:\n",
       "- **9** in 9.11\n",
       "- **9** in 9.9\n",
       "\n",
       "Since they are equal, we proceed to compare the decimal parts.\n",
       "\n",
       "### Step 2: Compare the Decimal Parts\n",
       "- For **9.11**, the decimal part is **0.11**\n",
       "- For **9.9**, the decimal part is **0.9**\n",
       "\n",
       "To make it easier, let's write both decimals with the same number of digits:\n",
       "- **0.11** (for 9.11)\n",
       "- **0.90** (since 0.9 is equivalent to 0.90)\n",
       "\n",
       "Now compare these decimals:\n",
       "- **0.11** vs. **0.90**\n",
       "\n",
       "Clearly, **0.90** is greater than **0.11**.\n",
       "\n",
       "### Conclusion\n",
       "Since the decimal part of **9.9** (which is **0.90**) is larger than that of **9.11** (**0.11**), we can conclude that:\n",
       "\n",
       "\\[\n",
       "\\boxed{9.9}\n",
       "\\]"
      ],
      "text/plain": [
       "<IPython.core.display.Markdown object>"
      ]
     },
     "execution_count": 24,
     "metadata": {},
     "output_type": "execute_result"
    }
   ],
   "source": [
    "Markdown(answer_md2)"
   ]
  },
  {
   "cell_type": "code",
   "execution_count": 96,
   "metadata": {},
   "outputs": [],
   "source": [
    "from langgraph.graph import START,END,StateGraph\n",
    "from typing_extensions import TypedDict,List\n",
    "from langchain_core.prompts.chat import ChatPromptTemplate"
   ]
  },
  {
   "cell_type": "code",
   "execution_count": 43,
   "metadata": {},
   "outputs": [],
   "source": [
    "class State(TypedDict):\n",
    "    question: str\n",
    "    answer: str"
   ]
  },
  {
   "cell_type": "code",
   "execution_count": 78,
   "metadata": {},
   "outputs": [],
   "source": [
    "transfer_prompt_ko2en = ChatPromptTemplate([\n",
    "    (\n",
    "\n",
    "        \"system\",\n",
    "        \"\"\"당신은 사용자의 Query를 영어로 번역하는 전문가 AI입니다.\n",
    "        규칙 1: Query의 답변은 하지 않습니다.\n",
    "        규칙 2: Query 번역 결과만 출력합니다.\n",
    "        \"\"\"\n",
    "    ),\n",
    "    (\n",
    "        \"human\",\n",
    "        \"\"\"\n",
    "        Query: {question}\n",
    "        \"\"\"\n",
    "    )\n",
    "])"
   ]
  },
  {
   "cell_type": "code",
   "execution_count": 79,
   "metadata": {},
   "outputs": [],
   "source": [
    "question = \"langchain을 효과적으로 사용할 수 있는 tool을 알려줘\"\n",
    "\n",
    "reply = transfer_prompt_ko2en.invoke({'question':question})"
   ]
  },
  {
   "cell_type": "code",
   "execution_count": 80,
   "metadata": {},
   "outputs": [],
   "source": [
    "answer = exaone.invoke(reply)"
   ]
  },
  {
   "cell_type": "code",
   "execution_count": 81,
   "metadata": {},
   "outputs": [
    {
     "data": {
      "text/plain": [
       "'Query: Tell me about tools that can effectively utilize langchain.'"
      ]
     },
     "execution_count": 81,
     "metadata": {},
     "output_type": "execute_result"
    }
   ],
   "source": [
    "answer.content"
   ]
  },
  {
   "cell_type": "code",
   "execution_count": 85,
   "metadata": {},
   "outputs": [],
   "source": [
    "transfer_prompt_en2ko = ChatPromptTemplate([\n",
    "    (\n",
    "\n",
    "        \"system\",\n",
    "        \"\"\"당신은 사용자의 Query를 한국어로 번역하는 전문가 AI입니다.\n",
    "        규칙 1: Query의 답변은 하지 않습니다.\n",
    "        규칙 2: Query 번역 결과만 출력합니다.\n",
    "        \"\"\"\n",
    "    ),\n",
    "    (\n",
    "        \"human\",\n",
    "        \"\"\"\n",
    "        Query: {question}\n",
    "        \"\"\"\n",
    "    )\n",
    "])"
   ]
  },
  {
   "cell_type": "code",
   "execution_count": 86,
   "metadata": {},
   "outputs": [],
   "source": [
    "question = \"Tell me about tools that can effectively utilize langchain.\"\n",
    "\n",
    "reply = transfer_prompt_en2ko.invoke({'question':question})"
   ]
  },
  {
   "cell_type": "code",
   "execution_count": 87,
   "metadata": {},
   "outputs": [],
   "source": [
    "answer = exaone.invoke(reply)"
   ]
  },
  {
   "cell_type": "code",
   "execution_count": 88,
   "metadata": {},
   "outputs": [
    {
     "data": {
      "text/plain": [
       "'한국어 번역:\\nlangchain을 효과적으로 활용할 수 있는 도구들에 대해 말씀해 주세요.'"
      ]
     },
     "execution_count": 88,
     "metadata": {},
     "output_type": "execute_result"
    }
   ],
   "source": [
    "answer.content"
   ]
  },
  {
   "cell_type": "code",
   "execution_count": 91,
   "metadata": {},
   "outputs": [],
   "source": [
    "def transfer_en2ko(state:State):\n",
    "    question_co = state['question'] # state['question'] -> question_co \n",
    "    messages = transfer_prompt_ko2en.invoke({'question':question_co}) #영어로 번역 후 question_en\n",
    "    question_en = exaone.invoke(messages)                             #영어로 번역 후 question_en\n",
    "    print(question_en.content)                                        #영어 question 출력\n",
    "    return {'question': question_en.content}                          #state['quesion']=question_en"
   ]
  },
  {
   "cell_type": "code",
   "execution_count": 100,
   "metadata": {},
   "outputs": [],
   "source": [
    "def think_answer(state:State):\n",
    "    query = state['question'] #state['question'] -> query\n",
    "    response = deepseek.invoke(query) #query -> response\n",
    "    print(response.content)\n",
    "    return {'answer': response.content}"
   ]
  },
  {
   "cell_type": "code",
   "execution_count": 93,
   "metadata": {},
   "outputs": [],
   "source": [
    "def transfer_ko2en(state:State):\n",
    "    answer_en = state['answer'] # state['answer'] -> question_en \n",
    "    messages = transfer_prompt_en2ko.invoke({'question':answer_en}) \n",
    "    answer_ko = exaone.invoke(messages)                             #한국어어로 번역 후 answer_ko\n",
    "    print(answer_ko.content)                                        #영어 answer_ko 출력\n",
    "    return {'answer': answer_ko.content}                            #state['answer']=answer_ko"
   ]
  },
  {
   "cell_type": "code",
   "execution_count": 103,
   "metadata": {},
   "outputs": [],
   "source": [
    "# 그래프 생성\n",
    "builder = StateGraph(State)"
   ]
  },
  {
   "cell_type": "code",
   "execution_count": 104,
   "metadata": {},
   "outputs": [
    {
     "data": {
      "text/plain": [
       "<langgraph.graph.state.StateGraph at 0x14e6375d000>"
      ]
     },
     "execution_count": 104,
     "metadata": {},
     "output_type": "execute_result"
    }
   ],
   "source": [
    "#step3. node 추가하기\n",
    "builder.add_node(\"transfer_en2ko\", transfer_en2ko)\n",
    "builder.add_node(\"think_answer\", think_answer)\n",
    "builder.add_node(\"transfer_ko2en\", transfer_ko2en)"
   ]
  },
  {
   "cell_type": "code",
   "execution_count": 105,
   "metadata": {},
   "outputs": [
    {
     "data": {
      "text/plain": [
       "<langgraph.graph.state.StateGraph at 0x14e6375d000>"
      ]
     },
     "execution_count": 105,
     "metadata": {},
     "output_type": "execute_result"
    }
   ],
   "source": [
    "#step4. edge 정의하기\n",
    "builder.add_edge(START, \"transfer_en2ko\")\n",
    "builder.add_edge(\"transfer_en2ko\", \"think_answer\")\n",
    "builder.add_edge(\"think_answer\", \"transfer_ko2en\")\n",
    "builder.add_edge(\"transfer_ko2en\",END)"
   ]
  },
  {
   "cell_type": "code",
   "execution_count": 106,
   "metadata": {},
   "outputs": [],
   "source": [
    "#step5. graph compile하기\n",
    "graph = builder.compile()"
   ]
  },
  {
   "cell_type": "code",
   "execution_count": 107,
   "metadata": {},
   "outputs": [],
   "source": [
    "# Helper\n",
    "def visualize_graph(graph):\n",
    "    from IPython.display import Image, display\n",
    "    try:\n",
    "        display(Image(graph.get_graph(xray=True).draw_mermaid_png()))\n",
    "    except Exception:\n",
    "        # This requires some extra dependencies and is optional\n",
    "        pass"
   ]
  },
  {
   "cell_type": "code",
   "execution_count": 111,
   "metadata": {},
   "outputs": [
    {
     "data": {
      "image/png": "[encoded data removed]",
      "text/plain": [
       "<IPython.core.display.Image object>"
      ]
     },
     "metadata": {},
     "output_type": "display_data"
    }
   ],
   "source": [
    "visualize_graph(graph)"
   ]
  },
  {
   "cell_type": "code",
   "execution_count": 112,
   "metadata": {},
   "outputs": [
    {
     "name": "stdout",
     "output_type": "stream",
     "text": [
      "Which one is larger between 9.11 and 9.9?\n",
      "<think>\n",
      "First, I need to compare the two numbers: 9.11 and 9.9.\n",
      "\n",
      "To make an accurate comparison, it's helpful to have the same number of decimal places for both numbers. I can write 9.9 as 9.90 so that both numbers have two decimal places.\n",
      "\n",
      "Next, I'll compare each digit starting from the left. Both numbers have a 9 in the units place and a 9 in the tenths place.\n",
      "\n",
      "Moving to the hundredths place, 9.11 has a 1, while 9.90 has a 0.\n",
      "\n",
      "Since 1 is greater than 0, 9.11 is larger than 9.9.\n",
      "</think>\n",
      "\n",
      "**Solution:**\n",
      "\n",
      "To determine which number is larger between **9.11** and **9.9**, let's compare them step by step.\n",
      "\n",
      "1. **Equalize the Decimal Places:**\n",
      "   \n",
      "   To make an accurate comparison, it's helpful to have both numbers with the same number of decimal places.\n",
      "   \n",
      "   - **9.11** remains as is.\n",
      "   - **9.9** can be written as **9.90** (adding a zero in the hundredths place).\n",
      "\n",
      "2. **Compare Digit by Digit:**\n",
      "   \n",
      "   Now, compare each corresponding digit from left to right.\n",
      "   \n",
      "   | Place Value | 9.11 | 9.90 |\n",
      "   |-------------|------|------|\n",
      "   | Units       | 9    | 9    |\n",
      "   | Tenths      | 1    | 9    |\n",
      "   | Hundredths  | 1    | 0    |\n",
      "\n",
      "3. **Analysis:**\n",
      "   \n",
      "   - **Units Place:** Both numbers have **9** in the units place.\n",
      "   - **Tenths Place:** **9.11** has a **1**, while **9.90** has a **9**. Since **9 > 1**, **9.90** is greater than **9.11** up to this point.\n",
      "   \n",
      "   However, for a more precise comparison:\n",
      "   \n",
      "   - **Hundredths Place:** If we consider the hundredths place after noting that both numbers are equal in tenths (if any), but since **9.90** has a higher digit in the tenths place, it is already larger.\n",
      "\n",
      "4. **Conclusion:**\n",
      "   \n",
      "   Since **9.90** (which is equivalent to **9.9**) is greater than **9.11**, we can conclude that:\n",
      "\n",
      "\\boxed{9.9}\n",
      "**Korean Translation:**\n",
      "\n",
      "**해답:**\n",
      "\n",
      "두 수 **9.11**과 **9.9** 중 더 큰 수를 결정하기 위해 단계별로 비교해 보겠습니다.\n",
      "\n",
      "1. **소수점 자리 맞추기:**\n",
      "\n",
      "   정확한 비교를 위해 두 수 모두 동일한 소수점 자리수를 가져야 합니다.\n",
      "   \n",
      "   - **9.11**은 그대로 유지합니다.\n",
      "   - **9.9**는 **9.90** (십분의 자리에 0을 추가하여)으로 표현합니다.\n",
      "\n",
      "2. **자리수별로 비교하기:**\n",
      "\n",
      "   이제 왼쪽에서 오른쪽으로 각 자리수를 비교합니다.\n",
      "   \n",
      "   | 자리값 | 9.11 | 9.90 |\n",
      "   |--------|------|------|\n",
      "   | 일의 자리 | 9    | 9    |\n",
      "   | 십분의 자리 | 1    | 9    |\n",
      "   | 백분의 자리 | 1    | 0    |\n",
      "\n",
      "3. **분석:**\n",
      "\n",
      "   - **일의 자리:** 두 수 모두 **9**를 일의 자리에 가지고 있습니다.\n",
      "   - **십분의 자리:** **9.11**은 **1**을, **9.90**은 **9**를 가지고 있습니다. 따라서 **9 > 1**이므로 **9.90**이 **9.11**보다 큽니다.\n",
      "   \n",
      "   백분의 자리까지 고려할 필요는 없지만, 십분의 자리에서 이미 **9.90**이 더 큽니다.\n",
      "\n",
      "4. **결론:**\n",
      "\n",
      "   **9.90** (이것은 **9.9**와 동일함)이 **9.11**보다 크므로 결론은 다음과 같습니다:\n",
      "\n",
      "\\boxed{9.9}\n"
     ]
    }
   ],
   "source": [
    "response =graph.invoke({'question':\"9.11과 9.9 중에 무엇이 더 큰가요?\"})"
   ]
  },
  {
   "cell_type": "code",
   "execution_count": 117,
   "metadata": {},
   "outputs": [
    {
     "data": {
      "text/markdown": [
       "**Korean Translation:**\n",
       "\n",
       "**해답:**\n",
       "\n",
       "두 수 **9.11**과 **9.9** 중 더 큰 수를 결정하기 위해 단계별로 비교해 보겠습니다.\n",
       "\n",
       "1. **소수점 자리 맞추기:**\n",
       "\n",
       "   정확한 비교를 위해 두 수 모두 동일한 소수점 자리수를 가져야 합니다.\n",
       "   \n",
       "   - **9.11**은 그대로 유지합니다.\n",
       "   - **9.9**는 **9.90** (십분의 자리에 0을 추가하여)으로 표현합니다.\n",
       "\n",
       "2. **자리수별로 비교하기:**\n",
       "\n",
       "   이제 왼쪽에서 오른쪽으로 각 자리수를 비교합니다.\n",
       "   \n",
       "   | 자리값 | 9.11 | 9.90 |\n",
       "   |--------|------|------|\n",
       "   | 일의 자리 | 9    | 9    |\n",
       "   | 십분의 자리 | 1    | 9    |\n",
       "   | 백분의 자리 | 1    | 0    |\n",
       "\n",
       "3. **분석:**\n",
       "\n",
       "   - **일의 자리:** 두 수 모두 **9**를 일의 자리에 가지고 있습니다.\n",
       "   - **십분의 자리:** **9.11**은 **1**을, **9.90**은 **9**를 가지고 있습니다. 따라서 **9 > 1**이므로 **9.90**이 **9.11**보다 큽니다.\n",
       "   \n",
       "   백분의 자리까지 고려할 필요는 없지만, 십분의 자리에서 이미 **9.90**이 더 큽니다.\n",
       "\n",
       "4. **결론:**\n",
       "\n",
       "   **9.90** (이것은 **9.9**와 동일함)이 **9.11**보다 크므로 결론은 다음과 같습니다:\n",
       "\n",
       "\\boxed{9.9}"
      ],
      "text/plain": [
       "<IPython.core.display.Markdown object>"
      ]
     },
     "execution_count": 117,
     "metadata": {},
     "output_type": "execute_result"
    }
   ],
   "source": [
    "Markdown(response['answer'])"
   ]
  },
  {
   "cell_type": "code",
   "execution_count": 118,
   "metadata": {},
   "outputs": [
    {
     "name": "stdout",
     "output_type": "stream",
     "text": [
      "Ten Major Tourist Destinations in South Korea:\n",
      "1. Seoul Fortress Walls (서울 성곽)\n",
      "2. Gyeongbokgung Palace (경복궁)\n",
      "3. Jeju Island (제주도)\n",
      "4. Busan Beaches (부산 해변)\n",
      "5. DMZ Tour (DMZ 투어)\n",
      "6. Andong Hahoe Village (안동 하회마을)\n",
      "7. Seonyudo Island (선유도 섬) - specifically in Jeollabuk-do province\n",
      "8. Namsan Tower (남산 타워)\n",
      "9. Ganghwado Island (강화도)\n",
      "10. Daecheong County Hot Springs (대령 온천군)\n",
      "<think>\n",
      "Okay, I need to provide a detailed and organized answer about the ten major tourist destinations in South Korea based on the given list. Let me go through each one and think about what information would be useful for someone planning a trip.\n",
      "\n",
      "1. **Seoul Fortress Walls (서울 성곽):** I remember these are historical walls that surround parts of Seoul. They were built during the Joseon Dynasty, so they have a lot of history. It's probably a good spot for walking and taking in views of the city. I should mention their historical significance and maybe some famous gates like Bukchon Gate.\n",
      "\n",
      "2. **Gyeongbokgung Palace (경복궁):** One of the main palaces in Seoul, right? It's a must-visit place. The changing of the guard ceremony is something unique to mention. Also, there are museums nearby, so it's a comprehensive spot for history buffs.\n",
      "\n",
      "3. **Jeju Island (제주도):** Known as Korea's Hawaii because of its beaches and relaxed vibe. I should highlight the natural attractions like Halla Mountain, Manjanggul Cave, and the Teddy Bear Museum as something quirky. Also, mention that Jeju is a UNESCO World Heritage site.\n",
      "\n",
      "4. **Busan Beaches (부산 해변):** Busan has some great beaches, Haeundae being the most famous. It's popular for summer vacations. Maybe also talk about the nearby Gukje Market and other attractions like Jagalchi Fish Market.\n",
      "\n",
      "5. **DMZ Tour (DMZ 투어):** This is a significant site because of its historical context related to the Korean War. I should explain what DMZ is, the tours available, and maybe some safety tips since it's near the border.\n",
      "\n",
      "6. **Andong Hahoe Village (안동 하회마을):** A traditional village known for its yangge dance. It's a cultural site with thatched roof houses and historical significance. Might be good to mention nearby attractions like Wolfram School.\n",
      "\n",
      "7. **Seonyudo Island (선유도 섬):** Located in Jeollabuk-do, it's an artistic community. The Seonyudo Biennale is a big event. It’s small but offers beautiful natural scenery and unique art installations.\n",
      "\n",
      "8. **Namsan Tower (남산 타워):** Offers great views of Seoul, especially at night with the city lights. The surrounding Namsangol Hanok Village would be worth mentioning as a cultural spot nearby.\n",
      "\n",
      "9. **Ganghwado Island (강화도):** An island known for its fortresses and historical sites. The Turtle Ship Museum is unique, and there are beautiful parks and temples to visit.\n",
      "\n",
      "10. **Daecheong County Hot Springs (대령 온천군):** Famous for natural hot springs with therapeutic benefits. Mention the different types of spas available and maybe when they're most popular, like during autumn.\n",
      "\n",
      "I should structure each point with a brief description, key highlights, and tips. Also, include some general travel tips at the end about transportation and accommodation to make it comprehensive.\n",
      "\n",
      "Wait, did I miss anything? Maybe check if all locations are correctly spelled and in the right provinces. For example, Seonyudo is specifically in Jeollabuk-do, which I included. Also, ensure that each destination has enough information without being too lengthy.\n",
      "\n",
      "I think this covers everything. Now, organizing it into a clear format with sections for each location, key highlights, and tips should make it user-friendly.\n",
      "</think>\n",
      "\n",
      "Certainly! Here's an organized and detailed guide to the top ten tourist destinations in South Korea:\n",
      "\n",
      "---\n",
      "\n",
      "### **1. Seoul Fortress Walls (서울 성곽)**\n",
      "- **Description:** These walls date back to the Joseon Dynasty and encircle parts of Seoul, offering historical insights and scenic walking paths.\n",
      "- **Highlights:** Explore famous gates like Bukchon Gate and enjoy panoramic views of the city.\n",
      "- **Tips:** Visit in autumn for stunning foliage.\n",
      "\n",
      "### **2. Gyeongbokgung Palace (경복궁)**\n",
      "- **Description:** A majestic palace in Seoul, renowned for its historical significance and architectural beauty.\n",
      "- **Highlights:** Attend the changing of the guard ceremony and explore nearby museums.\n",
      "- **Tips:** Plan early to avoid crowds; check timing for cultural events.\n",
      "\n",
      "### **3. Jeju Island (제주도)**\n",
      "- **Description:** Known as Korea's Hawaii, this island is famous for its natural landscapes and relaxed atmosphere.\n",
      "- **Highlights:** Visit Halla Mountain, Manjanggul Cave, and the Teddy Bear Museum.\n",
      "- **Tips:** Explore Gugak Village for cultural experiences.\n",
      "\n",
      "### **4. Busan Beaches (부산 해변)**\n",
      "- **Description:** Home to popular beaches like Haeundae, offering vibrant summer vibes.\n",
      "- **Highlights:** Stroll through Gukje Market and visit Jagalchi Fish Market.\n",
      "- **Tips:** Visit in summer for beach festivals; explore nearby temples.\n",
      "\n",
      "### **5. DMZ Tour (DMZ 투어)**\n",
      "- **Description:** A significant historical site near the Korean border, offering insights into military history.\n",
      "- **Highlights:** Take guided tours and visit the Third Infiltration Tunnel.\n",
      "- **Tips:** Plan in advance due to security protocols; check travel advisories.\n",
      "\n",
      "### **6. Andong Hahoe Village (안동 하회마을)**\n",
      "- **Description:** A traditional village known for its cultural heritage and yangge dance.\n",
      "- **Highlights:** Explore thatched roof houses and visit Wolfram School.\n",
      "- **Tips:** Experience the Baeknyeonsa Festival for a unique cultural immersion.\n",
      "\n",
      "### **7. Seonyudo Island (선유도 섬)**\n",
      "- **Description:** An artistic island in Jeollabuk-do, famous for its creative community.\n",
      "- **Highlights:** Attend the Seonyudo Biennale and enjoy natural scenery.\n",
      "- **Tips:** Visit during autumn for vibrant foliage and art installations.\n",
      "\n",
      "### **8. Namsan Tower (남산 타워)**\n",
      "- **Description:** Offers breathtaking views of Seoul, especially at night.\n",
      "- **Highlights:** Explore the Namsangol Hanok Village nearby.\n",
      "- **Tips:** Visit in the evening for city light views; check ticket discounts.\n",
      "\n",
      "### **9. Ganghwado Island (강화도)**\n",
      "- **Description:** Known for historical fortresses and natural beauty.\n",
      "- **Highlights:** Visit Turtle Ship Museum and explore scenic parks.\n",
      "- **Tips:** Check ferry schedules for island travel; visit during autumn leaf season.\n",
      "\n",
      "### **10. Daecheong County Hot Springs (대령 온천군)**\n",
      "- **Description:** Renowned for therapeutic hot springs in North Gyeongsang Province.\n",
      "- **Highlights:** Enjoy various spa options and local cuisine.\n",
      "- **Tips:** Visit in autumn; try local specialties like Jajiqu.\n",
      "\n",
      "---\n",
      "\n",
      "### General Travel Tips:\n",
      "- **Transportation:** Utilize South Korea's efficient public transport system, including buses and subways. Consider renting a car for island visits.\n",
      "- **Accommodation:** Seoul offers diverse options from luxury hotels to budget-friendly stays. Jeju and Busan have numerous guesthouses and resorts.\n",
      "\n",
      "Enjoy your journey exploring these diverse and fascinating destinations in South Korea!\n",
      "### **한국어 번역 결과**\n",
      "\n",
      "---\n",
      "\n",
      "### **1. 서울 성곽 (Seoul Fortress Walls)**\n",
      "- **설명:** 조선 시대부터 시작된 서울을 둘러싼 성벽으로 역사적 가치와 아름다운 산책 코스를 제공합니다.\n",
      "- **주요 명소:** 북촌동 문 등 유명한 성문들을 방문하고 도시 전경을 감상하세요.\n",
      "- **팁:** 가을에 방문하면 단풍이 아름다워 더욱 멋집니다.\n",
      "\n",
      "### **2. 경복궁 (Gyeongbokgung Palace)**\n",
      "- **설명:** 서울의 주요 고궁 중 하나로 역사적 중요성과 아름다운 건축물로 유명합니다.\n",
      "- **주요 명소:** 수위병 교대식 관람과 인근 박물관 탐방.\n",
      "- **팁:** 사람들이 적은 시간대를 찾아 방문하세요; 문화 행사 일정 확인.\n",
      "\n",
      "### **3. 제주도 (Jeju Island)**\n",
      "- **설명:** 해변과 여유로운 분위기로 한국의 하와이로 알려진 섬입니다.\n",
      "- **주요 명소:** 한라산, 만쟁굴 동굴, 테디 베어 박물관 방문.\n",
      "- **팁:** 구스악 마을에서 문화 체험을 즐겨보세요.\n",
      "\n",
      "### **4. 부산 해변 (Busan Beaches)**\n",
      "- **설명:** 해운대를 비롯한 인기 있는 해변이 있는 도시로 여름 휴가 명소입니다.\n",
      "- **주요 명소:** 구시장과 자갈이치 어류 시장 탐방.\n",
      "- **팁:** 여름에 해변 축제에 참여하고 인근 사찰 방문.\n",
      "\n",
      "### **5. DMZ 투어 (DMZ Tour)**\n",
      "- **설명:** 한국 전쟁 역사와 관련된 중요한 장소로 군사 역사를 살펴볼 수 있습니다.\n",
      "- **주요 명소:** 안내 투어 참여와 제3침투 터널 방문.\n",
      "- **팁:** 보안 규정으로 미리 계획 세우세요; 여행 안내 확인.\n",
      "\n",
      "### **6. 안동 하회마을 (Andong Hahoe Village)**\n",
      "- **설명:** 양게 춤으로 알려진 전통 마을로 문화 유산이 풍부합니다.\n",
      "- **주요 명소:** 초가집들을 둘러보고 월렴사 방문.\n",
      "- **팁:** 백련산사 축제 참여로 독특한 문화 체험.\n",
      "\n",
      "### **7. 선유도 섬 (Seoyudo Island)**\n",
      "- **설명:** 전라북도에 위치한 창조적인 마을로 유명합니다.\n",
      "- **주요 명소:** 선유도 비엔날레 참석과 자연 경관 감상.\n",
      "- **팁:** 가을 단풍과 예술 설치물 방문 시기로 추천.\n",
      "\n",
      "### **8. 남산 타워 (N Seoul Tower)**\n",
      "- **설명:** 서울 전경을 특히 야간에 즐길 수 있는 멋진 전망지입니다.\n",
      "- **주요 명소:** 남산골 한옥마을 탐방.\n",
      "- **팁:** 저녁에 방문하면 도시 불빛이 아름답습니다; 티켓 할인 확인.\n",
      "\n",
      "### **9. 강화도 (Ganghwado Island)**\n",
      "- **설명:** 역사적 요새와 자연 경관으로 알려진 섬입니다.\n",
      "- **주요 명소:** 거북선 박물관 방문과 자연 공원 탐방.\n",
      "- **팁:** 섬 이동을 위한 여객선 일정 확인; 가을 단풍철 방문 권장.\n",
      "\n",
      "### **10. 대령 온천군 (Daecheon Hot Springs)**\n",
      "- **설명:** 치료용 온천으로 유명한 경상북도 북부 지역입니다.\n",
      "- **주요 명소:** 다양한 스파 옵션과 지역 특산품 즐기기.\n",
      "- **팁:** 가을에 방문하고 지자치 특산품 맛보기.\n",
      "\n",
      "---\n",
      "\n",
      "### **여행 일반 팁:**\n",
      "- **교통:** 효율적인 대중교통 시스템을 활용하세요 (버스, 지하철). 섬 방문에는 렌터카를 고려해보세요.\n",
      "- **숙박:** 서울에는 럭셔리 호텔부터 저렴한 숙소까지 다양한 옵션이 있습니다. 제주도와 부산에는 게스트하우스와 리조트가 많습니다.\n",
      "\n",
      "이렇게 다채롭고 흥미로운 한국의 관광지들을 둘러보며 즐거운 여행 되시길 바랍니다!\n"
     ]
    }
   ],
   "source": [
    "response2 =graph.invoke({'question':\"한국의 주요 관광지 중 10곳을 알려줘\"})"
   ]
  },
  {
   "cell_type": "code",
   "execution_count": 119,
   "metadata": {},
   "outputs": [
    {
     "data": {
      "text/markdown": [
       "### **한국어 번역 결과**\n",
       "\n",
       "---\n",
       "\n",
       "### **1. 서울 성곽 (Seoul Fortress Walls)**\n",
       "- **설명:** 조선 시대부터 시작된 서울을 둘러싼 성벽으로 역사적 가치와 아름다운 산책 코스를 제공합니다.\n",
       "- **주요 명소:** 북촌동 문 등 유명한 성문들을 방문하고 도시 전경을 감상하세요.\n",
       "- **팁:** 가을에 방문하면 단풍이 아름다워 더욱 멋집니다.\n",
       "\n",
       "### **2. 경복궁 (Gyeongbokgung Palace)**\n",
       "- **설명:** 서울의 주요 고궁 중 하나로 역사적 중요성과 아름다운 건축물로 유명합니다.\n",
       "- **주요 명소:** 수위병 교대식 관람과 인근 박물관 탐방.\n",
       "- **팁:** 사람들이 적은 시간대를 찾아 방문하세요; 문화 행사 일정 확인.\n",
       "\n",
       "### **3. 제주도 (Jeju Island)**\n",
       "- **설명:** 해변과 여유로운 분위기로 한국의 하와이로 알려진 섬입니다.\n",
       "- **주요 명소:** 한라산, 만쟁굴 동굴, 테디 베어 박물관 방문.\n",
       "- **팁:** 구스악 마을에서 문화 체험을 즐겨보세요.\n",
       "\n",
       "### **4. 부산 해변 (Busan Beaches)**\n",
       "- **설명:** 해운대를 비롯한 인기 있는 해변이 있는 도시로 여름 휴가 명소입니다.\n",
       "- **주요 명소:** 구시장과 자갈이치 어류 시장 탐방.\n",
       "- **팁:** 여름에 해변 축제에 참여하고 인근 사찰 방문.\n",
       "\n",
       "### **5. DMZ 투어 (DMZ Tour)**\n",
       "- **설명:** 한국 전쟁 역사와 관련된 중요한 장소로 군사 역사를 살펴볼 수 있습니다.\n",
       "- **주요 명소:** 안내 투어 참여와 제3침투 터널 방문.\n",
       "- **팁:** 보안 규정으로 미리 계획 세우세요; 여행 안내 확인.\n",
       "\n",
       "### **6. 안동 하회마을 (Andong Hahoe Village)**\n",
       "- **설명:** 양게 춤으로 알려진 전통 마을로 문화 유산이 풍부합니다.\n",
       "- **주요 명소:** 초가집들을 둘러보고 월렴사 방문.\n",
       "- **팁:** 백련산사 축제 참여로 독특한 문화 체험.\n",
       "\n",
       "### **7. 선유도 섬 (Seoyudo Island)**\n",
       "- **설명:** 전라북도에 위치한 창조적인 마을로 유명합니다.\n",
       "- **주요 명소:** 선유도 비엔날레 참석과 자연 경관 감상.\n",
       "- **팁:** 가을 단풍과 예술 설치물 방문 시기로 추천.\n",
       "\n",
       "### **8. 남산 타워 (N Seoul Tower)**\n",
       "- **설명:** 서울 전경을 특히 야간에 즐길 수 있는 멋진 전망지입니다.\n",
       "- **주요 명소:** 남산골 한옥마을 탐방.\n",
       "- **팁:** 저녁에 방문하면 도시 불빛이 아름답습니다; 티켓 할인 확인.\n",
       "\n",
       "### **9. 강화도 (Ganghwado Island)**\n",
       "- **설명:** 역사적 요새와 자연 경관으로 알려진 섬입니다.\n",
       "- **주요 명소:** 거북선 박물관 방문과 자연 공원 탐방.\n",
       "- **팁:** 섬 이동을 위한 여객선 일정 확인; 가을 단풍철 방문 권장.\n",
       "\n",
       "### **10. 대령 온천군 (Daecheon Hot Springs)**\n",
       "- **설명:** 치료용 온천으로 유명한 경상북도 북부 지역입니다.\n",
       "- **주요 명소:** 다양한 스파 옵션과 지역 특산품 즐기기.\n",
       "- **팁:** 가을에 방문하고 지자치 특산품 맛보기.\n",
       "\n",
       "---\n",
       "\n",
       "### **여행 일반 팁:**\n",
       "- **교통:** 효율적인 대중교통 시스템을 활용하세요 (버스, 지하철). 섬 방문에는 렌터카를 고려해보세요.\n",
       "- **숙박:** 서울에는 럭셔리 호텔부터 저렴한 숙소까지 다양한 옵션이 있습니다. 제주도와 부산에는 게스트하우스와 리조트가 많습니다.\n",
       "\n",
       "이렇게 다채롭고 흥미로운 한국의 관광지들을 둘러보며 즐거운 여행 되시길 바랍니다!"
      ],
      "text/plain": [
       "<IPython.core.display.Markdown object>"
      ]
     },
     "execution_count": 119,
     "metadata": {},
     "output_type": "execute_result"
    }
   ],
   "source": [
    "Markdown(response2['answer'])"
   ]
  }
 ],
 "metadata": {
  "kernelspec": {
   "display_name": "py31012",
   "language": "python",
   "name": "python3"
  },
  "language_info": {
   "codemirror_mode": {
    "name": "ipython",
    "version": 3
   },
   "file_extension": ".py",
   "mimetype": "text/x-python",
   "name": "python",
   "nbconvert_exporter": "python",
   "pygments_lexer": "ipython3",
   "version": "3.10.12"
  }
 },
 "nbformat": 4,
 "nbformat_minor": 2
}
