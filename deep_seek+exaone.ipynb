{
 "cells": [
  {
   "cell_type": "markdown",
   "metadata": {},
   "source": [
    "참고 자료 : https://www.youtube.com/watch?v=cAx5ItHRWkM"
   ]
  },
  {
   "cell_type": "code",
   "execution_count": 1,
   "metadata": {},
   "outputs": [],
   "source": [
    "#pip install langchain-core langgraph langchain-core langchain-ollama ollama"
   ]
  },
  {
   "cell_type": "code",
   "execution_count": 1,
   "metadata": {},
   "outputs": [],
   "source": [
    "from langchain_ollama import ChatOllama"
   ]
  },
  {
   "cell_type": "code",
   "execution_count": 2,
   "metadata": {},
   "outputs": [
    {
     "name": "stdout",
     "output_type": "stream",
     "text": [
      "모델 이름: exaone3.5:7.8b\n",
      "크기: 4.8GB\n",
      "수정 시간: 2025-02-18 23:47:40.783777+09:00\n",
      "---\n",
      "모델 이름: exaone3.5:latest\n",
      "크기: 4.8GB\n",
      "수정 시간: 2025-02-18 23:19:47.751310+09:00\n",
      "---\n",
      "모델 이름: phi4:14b\n",
      "크기: 9.1GB\n",
      "수정 시간: 2025-02-16 11:49:18.580419+09:00\n",
      "---\n",
      "모델 이름: qwen2.5:14b\n",
      "크기: 9.0GB\n",
      "수정 시간: 2025-02-15 23:30:19.603893+09:00\n",
      "---\n",
      "모델 이름: deepseek-r1:8b\n",
      "크기: 4.9GB\n",
      "수정 시간: 2025-02-15 21:29:18.533056+09:00\n",
      "---\n",
      "모델 이름: deepseek-r1:14b\n",
      "크기: 9.0GB\n",
      "수정 시간: 2025-02-15 18:13:42.882544+09:00\n",
      "---\n"
     ]
    }
   ],
   "source": [
    "import ollama\n",
    "# 모델 목록 가져오기\n",
    "models = ollama.list()\n",
    "# 모델 정보 출력\n",
    "for model in models['models']:\n",
    "    print(f\"모델 이름: {model['model']}\")\n",
    "    print(f\"크기: {round(model['size']/1000/1000/1000,1)}GB\")\n",
    "    print(f\"수정 시간: {model['modified_at']}\")\n",
    "    print(\"---\")"
   ]
  },
  {
   "cell_type": "code",
   "execution_count": 3,
   "metadata": {},
   "outputs": [],
   "source": [
    "deepseek = ChatOllama(model='deepseek-r1:14b',temperature=0)\n",
    "exaone = ChatOllama(model='exaone3.5:7.8b',temperature=0)"
   ]
  },
  {
   "cell_type": "code",
   "execution_count": 4,
   "metadata": {},
   "outputs": [],
   "source": [
    "from selenium import webdriver\n",
    "from selenium.webdriver.chrome.service import Service\n",
    "from webdriver_manager.chrome import ChromeDriverManager\n",
    "from bs4 import BeautifulSoup as bs\n",
    "from selenium.webdriver.chrome.options import Options\n",
    "from webdriver_manager.core.os_manager import ChromeType\n",
    "from selenium.webdriver.common.by import By"
   ]
  },
  {
   "cell_type": "code",
   "execution_count": null,
   "metadata": {},
   "outputs": [],
   "source": [
    "from selenium import webdriver\n",
    "from webdriver_manager.chrome import ChromeDriverManager\n",
    "\n",
    "driver = webdriver.Chrome(ChromeDriverManager().install())"
   ]
  },
  {
   "cell_type": "code",
   "execution_count": null,
   "metadata": {},
   "outputs": [],
   "source": [
    "def get_driver():\n",
    "\n",
    "\n",
    "    chrome_options = Options()\n",
    "    chrome_options.add_argument('--headless')\n",
    "    chrome_options.add_argument('--no-sandbox')\n",
    "    chrome_options.add_argument('--disable-dev-shm-usage')\n",
    "    chrome_options.add_argument('--disable-gpu')\n",
    "\n",
    "    chrome_options.add_argument('user-agent=Mozilla/5.0 (Windows NT 10.0; Win64; x64) AppleWebKit/537.36 (KHTML,   #like Gecko) Chrome/58.0.3029.110 Safari/537.3')\n",
    "\n",
    "    # WebDriver 설정\n",
    "    service = Service(ChromeDriverManager().install())\n",
    "    driver = webdriver.Chrome(service=service, options=chrome_options)\n",
    "\n",
    "    return driver"
   ]
  },
  {
   "cell_type": "code",
   "execution_count": null,
   "metadata": {},
   "outputs": [],
   "source": []
  },
  {
   "cell_type": "code",
   "execution_count": 30,
   "metadata": {},
   "outputs": [],
   "source": [
    "import time\n",
    "\n",
    "def google_translate(query: str) -> str:\n",
    "    \"\"\"구글 번역(한국어->영어 번역)\"\"\"\n",
    "\n",
    "    driver = get_driver()\n",
    "\n",
    "    #headers = {'User-Agent': 'Mozilla/5.0 (X11; Linux x86_64) AppleWebKit/537.36'}\n",
    "    search_url = f\"https://translate.google.com/?sl=ko&tl=en&text={query}&op=translate\"\n",
    "\n",
    "    driver.get(search_url)\n",
    "\n",
    "    time.sleep(1)\n",
    "\n",
    "    #results = driver.find_elements(By.XPATH, \"/html/body/c-wiz/div/div[2]/c-wiz/div[2]/c-wiz/div[1]/div[2]/div[2]/c-wiz/div/div[6]/div/div[1]/span[1]/span/span\")\n",
    "\n",
    "    result = driver.find_elements(By.CLASS_NAME, 'ryNqvb')[0].text\n",
    "\n",
    "    #results = driver.find_elements(By.CSS_SELECTOR, \"span.ryNqvb\")\n",
    "\n",
    "    return result"
   ]
  },
  {
   "cell_type": "code",
   "execution_count": 27,
   "metadata": {},
   "outputs": [],
   "source": [
    "a = google_translate('9.11과 9.9 중에 무엇이 더 큰가요?')"
   ]
  },
  {
   "cell_type": "code",
   "execution_count": 28,
   "metadata": {},
   "outputs": [
    {
     "name": "stdout",
     "output_type": "stream",
     "text": [
      "What is bigger between 9.11 and 9.9?\n"
     ]
    }
   ],
   "source": [
    "print(a)"
   ]
  },
  {
   "cell_type": "code",
   "execution_count": 31,
   "metadata": {},
   "outputs": [
    {
     "name": "stdout",
     "output_type": "stream",
     "text": [
      "Tell me how to use Langchain effectively\n"
     ]
    }
   ],
   "source": [
    "b = google_translate('langchain을 효과적으로 사용할 수 있는 방법을 알려줘')\n",
    "print(b)"
   ]
  },
  {
   "cell_type": "code",
   "execution_count": 5,
   "metadata": {},
   "outputs": [
    {
     "name": "stdout",
     "output_type": "stream",
     "text": [
      "<think>\n",
      "First, I'll compare the whole number parts of both numbers. Both 9.11 and 9.9 have a whole number part of 9.\n",
      "\n",
      "Next, I'll look at the decimal parts. For 9.11, the decimal part is 0.11, and for 9.9, it's 0.90.\n",
      "\n",
      "Since 0.90 is greater than 0.11, the decimal part of 9.9 is larger.\n",
      "\n",
      "Therefore, 9.9 is bigger than 9.11.\n",
      "</think>\n",
      "\n",
      "To determine which number is larger between **9.11** and **9.9**, let's compare them step by step.\n",
      "\n",
      "### Step 1: Compare the Whole Number Part\n",
      "Both numbers have the same whole number part:\n",
      "- **9.11** has a whole number of **9**\n",
      "- **9.9** also has a whole number of **9**\n",
      "\n",
      "Since the whole numbers are equal, we move to compare the decimal parts.\n",
      "\n",
      "### Step 2: Compare the Decimal Parts\n",
      "- **9.11** has a decimal part of **0.11**\n",
      "- **9.9** can be written as **9.90**, which has a decimal part of **0.90**\n",
      "\n",
      "Now, compare **0.11** and **0.90**:\n",
      "- **0.90** is greater than **0.11**\n",
      "\n",
      "### Conclusion\n",
      "Since the decimal part of **9.9** (which is **0.90**) is larger than that of **9.11** (**0.11**), we can conclude that:\n",
      "\n",
      "\\[\n",
      "\\boxed{9.9 \\text{ is bigger}}\n",
      "\\]"
     ]
    }
   ],
   "source": [
    "#Chatgpt처럼 typing 하듯이 출력하기기\n",
    "answer = [ ]\n",
    "for chunk in deepseek.stream(\"which is bigger between 9.11 and 9.9?\"):\n",
    "    answer.append(chunk.content)\n",
    "    print(chunk.content, end='',flush=True) "
   ]
  },
  {
   "cell_type": "code",
   "execution_count": 6,
   "metadata": {},
   "outputs": [
    {
     "name": "stdout",
     "output_type": "stream",
     "text": [
      "hello world python\n"
     ]
    }
   ],
   "source": [
    "words = ['hello', 'world', 'python']\n",
    "sentence = ' '.join(words)\n",
    "print(sentence)  # 출력: \"hello world python\""
   ]
  },
  {
   "cell_type": "code",
   "execution_count": 7,
   "metadata": {},
   "outputs": [],
   "source": [
    "answer_md2 = ''.join([i for i in answer])"
   ]
  },
  {
   "cell_type": "code",
   "execution_count": 8,
   "metadata": {},
   "outputs": [
    {
     "data": {
      "text/plain": [
       "\"<think>\\nFirst, I'll compare the whole number parts of both numbers. Both 9.11 and 9.9 have a whole number part of 9.\\n\\nNext, I'll look at the decimal parts. For 9.11, the decimal part is 0.11, and for 9.9, it's 0.90.\\n\\nSince 0.90 is greater than 0.11, the decimal part of 9.9 is larger.\\n\\nTherefore, 9.9 is bigger than 9.11.\\n</think>\\n\\nTo determine which number is larger between **9.11** and **9.9**, let's compare them step by step.\\n\\n### Step 1: Compare the Whole Number Part\\nBoth numbers have the same whole number part:\\n- **9.11** has a whole number of **9**\\n- **9.9** also has a whole number of **9**\\n\\nSince the whole numbers are equal, we move to compare the decimal parts.\\n\\n### Step 2: Compare the Decimal Parts\\n- **9.11** has a decimal part of **0.11**\\n- **9.9** can be written as **9.90**, which has a decimal part of **0.90**\\n\\nNow, compare **0.11** and **0.90**:\\n- **0.90** is greater than **0.11**\\n\\n### Conclusion\\nSince the decimal part of **9.9** (which is **0.90**) is larger than that of **9.11** (**0.11**), we can conclude that:\\n\\n\\\\[\\n\\\\boxed{9.9 \\\\text{ is bigger}}\\n\\\\]\""
      ]
     },
     "execution_count": 8,
     "metadata": {},
     "output_type": "execute_result"
    }
   ],
   "source": [
    "answer_md2"
   ]
  },
  {
   "cell_type": "code",
   "execution_count": 9,
   "metadata": {},
   "outputs": [],
   "source": [
    "k = []\n",
    "for i in answer:\n",
    "    k.append(i)"
   ]
  },
  {
   "cell_type": "code",
   "execution_count": 10,
   "metadata": {},
   "outputs": [],
   "source": [
    "answer_md = ''.join(k)"
   ]
  },
  {
   "cell_type": "code",
   "execution_count": 11,
   "metadata": {},
   "outputs": [
    {
     "data": {
      "text/plain": [
       "\"<think>\\nFirst, I'll compare the whole number parts of both numbers. Both 9.11 and 9.9 have a whole number part of 9.\\n\\nNext, I'll look at the decimal parts. For 9.11, the decimal part is 0.11, and for 9.9, it's 0.90.\\n\\nSince 0.90 is greater than 0.11, the decimal part of 9.9 is larger.\\n\\nTherefore, 9.9 is bigger than 9.11.\\n</think>\\n\\nTo determine which number is larger between **9.11** and **9.9**, let's compare them step by step.\\n\\n### Step 1: Compare the Whole Number Part\\nBoth numbers have the same whole number part:\\n- **9.11** has a whole number of **9**\\n- **9.9** also has a whole number of **9**\\n\\nSince the whole numbers are equal, we move to compare the decimal parts.\\n\\n### Step 2: Compare the Decimal Parts\\n- **9.11** has a decimal part of **0.11**\\n- **9.9** can be written as **9.90**, which has a decimal part of **0.90**\\n\\nNow, compare **0.11** and **0.90**:\\n- **0.90** is greater than **0.11**\\n\\n### Conclusion\\nSince the decimal part of **9.9** (which is **0.90**) is larger than that of **9.11** (**0.11**), we can conclude that:\\n\\n\\\\[\\n\\\\boxed{9.9 \\\\text{ is bigger}}\\n\\\\]\""
      ]
     },
     "execution_count": 11,
     "metadata": {},
     "output_type": "execute_result"
    }
   ],
   "source": [
    "answer_md"
   ]
  },
  {
   "cell_type": "code",
   "execution_count": 33,
   "metadata": {},
   "outputs": [],
   "source": [
    "from IPython.display import Markdown\n",
    "#Markdown(answer_md)"
   ]
  },
  {
   "cell_type": "code",
   "execution_count": 13,
   "metadata": {},
   "outputs": [
    {
     "data": {
      "text/markdown": [
       "<think>\n",
       "First, I'll compare the whole number parts of both numbers. Both 9.11 and 9.9 have a whole number part of 9.\n",
       "\n",
       "Next, I'll look at the decimal parts. For 9.11, the decimal part is 0.11, and for 9.9, it's 0.90.\n",
       "\n",
       "Since 0.90 is greater than 0.11, the decimal part of 9.9 is larger.\n",
       "\n",
       "Therefore, 9.9 is bigger than 9.11.\n",
       "</think>\n",
       "\n",
       "To determine which number is larger between **9.11** and **9.9**, let's compare them step by step.\n",
       "\n",
       "### Step 1: Compare the Whole Number Part\n",
       "Both numbers have the same whole number part:\n",
       "- **9.11** has a whole number of **9**\n",
       "- **9.9** also has a whole number of **9**\n",
       "\n",
       "Since the whole numbers are equal, we move to compare the decimal parts.\n",
       "\n",
       "### Step 2: Compare the Decimal Parts\n",
       "- **9.11** has a decimal part of **0.11**\n",
       "- **9.9** can be written as **9.90**, which has a decimal part of **0.90**\n",
       "\n",
       "Now, compare **0.11** and **0.90**:\n",
       "- **0.90** is greater than **0.11**\n",
       "\n",
       "### Conclusion\n",
       "Since the decimal part of **9.9** (which is **0.90**) is larger than that of **9.11** (**0.11**), we can conclude that:\n",
       "\n",
       "\\[\n",
       "\\boxed{9.9 \\text{ is bigger}}\n",
       "\\]"
      ],
      "text/plain": [
       "<IPython.core.display.Markdown object>"
      ]
     },
     "execution_count": 13,
     "metadata": {},
     "output_type": "execute_result"
    }
   ],
   "source": [
    "Markdown(answer_md2)"
   ]
  },
  {
   "cell_type": "code",
   "execution_count": 34,
   "metadata": {},
   "outputs": [],
   "source": [
    "from langgraph.graph import START,END,StateGraph\n",
    "from typing_extensions import TypedDict,List\n",
    "from langchain_core.prompts.chat import ChatPromptTemplate"
   ]
  },
  {
   "cell_type": "code",
   "execution_count": 35,
   "metadata": {},
   "outputs": [],
   "source": [
    "class State(TypedDict):\n",
    "    question: str\n",
    "    answer: str"
   ]
  },
  {
   "cell_type": "code",
   "execution_count": 36,
   "metadata": {},
   "outputs": [],
   "source": [
    "transfer_prompt_ko2en = ChatPromptTemplate([\n",
    "    (\n",
    "\n",
    "        \"system\",\n",
    "        \"\"\"당신은 한국어 문장을 영어로 번역하는 전문가 AI입니다.\n",
    "        규칙 1: 한국어 문장의 답변은 하지 않습니다.\n",
    "        규칙 2: 한국어 문장 번역 결과만 출력합니다.\n",
    "        \"\"\"\n",
    "    ),\n",
    "    (\n",
    "        \"human\",\n",
    "        \"\"\"\n",
    "        한국어 문장: {question}\n",
    "        \"\"\"\n",
    "    )\n",
    "])"
   ]
  },
  {
   "cell_type": "code",
   "execution_count": 37,
   "metadata": {},
   "outputs": [],
   "source": [
    "transfer_prompt_ko2en = ChatPromptTemplate([\n",
    "    (\n",
    "\n",
    "        \"system\",\n",
    "        \"\"\"당신은 한국어 문장을 영어로 번역하는 전문가 AI입니다.\n",
    "        규칙 1: 한국어 문장의 답변은 하지 않습니다.\n",
    "        규칙 2: 한국어 문장 번역 결과만 출력합니다.\n",
    "        \"\"\"\n",
    "    ),\n",
    "    (\n",
    "        \"human\",\n",
    "        \"\"\"\n",
    "        text: {question}\n",
    "        \"\"\"\n",
    "    )\n",
    "])"
   ]
  },
  {
   "cell_type": "code",
   "execution_count": 118,
   "metadata": {},
   "outputs": [],
   "source": [
    "transfer_prompt_ko2en = ChatPromptTemplate([\n",
    "    \"\"\"\n",
    "    Translate the following Korean text to English:\n",
    "    \n",
    "    {question}\n",
    "        \n",
    "    \"\"\"\n",
    "])"
   ]
  },
  {
   "cell_type": "code",
   "execution_count": 119,
   "metadata": {},
   "outputs": [],
   "source": [
    "question = \"langchain을 효과적으로 사용할 수 있는 tool은 무엇인가?\"\n",
    "\n",
    "reply = transfer_prompt_ko2en.invoke({'question':question})"
   ]
  },
  {
   "cell_type": "code",
   "execution_count": 120,
   "metadata": {},
   "outputs": [],
   "source": [
    "answer = exaone.invoke(reply)"
   ]
  },
  {
   "cell_type": "code",
   "execution_count": 121,
   "metadata": {},
   "outputs": [
    {
     "data": {
      "text/plain": [
       "'What tools are effective for utilizing LangChain? \\n\\n(Note: \"LangChain\" appears to be a proper noun, likely referring to a specific framework or toolset, so it remains unchanged in the translation.)'"
      ]
     },
     "execution_count": 121,
     "metadata": {},
     "output_type": "execute_result"
    }
   ],
   "source": [
    "answer.content"
   ]
  },
  {
   "cell_type": "code",
   "execution_count": 53,
   "metadata": {},
   "outputs": [],
   "source": [
    "transfer_prompt_en2ko = ChatPromptTemplate([\n",
    "    (\n",
    "\n",
    "        \"system\",\n",
    "        \"\"\"당신은 text를 한국어로 번역하는 전문가 AI입니다.\n",
    "        규칙 1: text가 요청이나 질문일 때 요청이나 질문의 답을 하지 않습니다.\n",
    "        규칙 2: 영어 문장 번역 결과만 출력합니다.\n",
    "        \"\"\"\n",
    "    ),\n",
    "    (\n",
    "        \"\"\"\n",
    "        text: {question}\n",
    "        \"\"\"\n",
    "    )\n",
    "])"
   ]
  },
  {
   "cell_type": "code",
   "execution_count": 67,
   "metadata": {},
   "outputs": [],
   "source": [
    "transfer_prompt_en2ko = ChatPromptTemplate([\n",
    "    (\n",
    "\n",
    "        \"system\",\n",
    "        \"\"\"당신은 사용자의 Query를 한국어로 번역하는 전문가 AI입니다.\n",
    "        규칙 1: Query의 답변은 하지 않습니다.\n",
    "        규칙 2: Query 번역 결과만 출력합니다.\n",
    "        \"\"\"\n",
    "    ),\n",
    "    (\n",
    "        \"human\",\n",
    "        \"\"\"\n",
    "        Query: {question}\n",
    "        \"\"\"\n",
    "    )\n",
    "])"
   ]
  },
  {
   "cell_type": "code",
   "execution_count": 68,
   "metadata": {},
   "outputs": [],
   "source": [
    "question = \"Tell me about tools that effectively utilize LangChain.\"\n",
    "\n",
    "reply = transfer_prompt_en2ko.invoke({'question':question})"
   ]
  },
  {
   "cell_type": "code",
   "execution_count": 69,
   "metadata": {},
   "outputs": [],
   "source": [
    "answer = exaone.invoke(reply)"
   ]
  },
  {
   "cell_type": "code",
   "execution_count": 70,
   "metadata": {},
   "outputs": [
    {
     "data": {
      "text/plain": [
       "'LangChain을 효과적으로 활용하는 도구들에 대해 알려주세요.'"
      ]
     },
     "execution_count": 70,
     "metadata": {},
     "output_type": "execute_result"
    }
   ],
   "source": [
    "answer.content"
   ]
  },
  {
   "cell_type": "code",
   "execution_count": 54,
   "metadata": {},
   "outputs": [],
   "source": [
    "def transfer_ko2en(state:State):\n",
    "    question_co = state['question'] # state['question'] -> question_co \n",
    "    messages = transfer_prompt_ko2en.invoke({'question':question_co}) #영어로 번역 후 question_en\n",
    "    question_en = exaone.invoke(messages)                             #영어로 번역 후 question_en\n",
    "    print(question_en.content)                                        #영어 question 출력\n",
    "    return {'question': question_en.content}                          #state['quesion']=question_en"
   ]
  },
  {
   "cell_type": "code",
   "execution_count": 55,
   "metadata": {},
   "outputs": [],
   "source": [
    "def transfer_ko2en2(state:State):\n",
    "    question_co = state['question'] # state['question'] -> question_co \n",
    "    question_en = google_translate(question_co)                             #영어로 번역 후 question_en\n",
    "    print(question_en)                                        #영어 question 출력\n",
    "    return {'question': question_en}                          #stat\n"
   ]
  },
  {
   "cell_type": "code",
   "execution_count": 56,
   "metadata": {},
   "outputs": [],
   "source": [
    "def think_answer(state:State):\n",
    "    query = state['question'] #state['question'] -> query\n",
    "    response = deepseek.invoke(query) #query -> response\n",
    "    print(response.content)\n",
    "    return {'answer': response.content}"
   ]
  },
  {
   "cell_type": "code",
   "execution_count": 71,
   "metadata": {},
   "outputs": [],
   "source": [
    "def transfer_en2ko(state:State):\n",
    "    answer_en = state['answer'] # state['answer'] -> question_en \n",
    "    messages = transfer_prompt_en2ko.invoke({'question':answer_en}) \n",
    "    answer_ko = exaone.invoke(messages)                             #한국어어로 번역 후 answer_ko\n",
    "    print(answer_ko.content)                                        #영어 answer_ko 출력\n",
    "    return {'answer': answer_ko.content}                            #state['answer']=answer_ko"
   ]
  },
  {
   "cell_type": "code",
   "execution_count": 72,
   "metadata": {},
   "outputs": [],
   "source": [
    "# 그래프 생성\n",
    "builder = StateGraph(State)"
   ]
  },
  {
   "cell_type": "code",
   "execution_count": 73,
   "metadata": {},
   "outputs": [
    {
     "data": {
      "text/plain": [
       "<langgraph.graph.state.StateGraph at 0x2055785e230>"
      ]
     },
     "execution_count": 73,
     "metadata": {},
     "output_type": "execute_result"
    }
   ],
   "source": [
    "#step3. node 추가하기\n",
    "builder.add_node(\"transfer_ko2en\", transfer_ko2en2)\n",
    "builder.add_node(\"transfer_en2ko\", transfer_en2ko)\n",
    "builder.add_node(\"think_answer\", think_answer)"
   ]
  },
  {
   "cell_type": "code",
   "execution_count": 74,
   "metadata": {},
   "outputs": [
    {
     "data": {
      "text/plain": [
       "<langgraph.graph.state.StateGraph at 0x2055785e230>"
      ]
     },
     "execution_count": 74,
     "metadata": {},
     "output_type": "execute_result"
    }
   ],
   "source": [
    "#step4. edge 정의하기\n",
    "builder.add_edge(START, \"transfer_ko2en\")\n",
    "builder.add_edge(\"transfer_ko2en\", \"think_answer\")\n",
    "builder.add_edge(\"think_answer\", \"transfer_en2ko\")\n",
    "builder.add_edge(\"transfer_en2ko\",END)"
   ]
  },
  {
   "cell_type": "code",
   "execution_count": 75,
   "metadata": {},
   "outputs": [],
   "source": [
    "#step5. graph compile하기\n",
    "graph = builder.compile()"
   ]
  },
  {
   "cell_type": "code",
   "execution_count": 76,
   "metadata": {},
   "outputs": [],
   "source": [
    "# Helper\n",
    "def visualize_graph(graph):\n",
    "    from IPython.display import Image, display\n",
    "    try:\n",
    "        display(Image(graph.get_graph(xray=True).draw_mermaid_png()))\n",
    "    except Exception:\n",
    "        # This requires some extra dependencies and is optional\n",
    "        pass"
   ]
  },
  {
   "cell_type": "code",
   "execution_count": 77,
   "metadata": {},
   "outputs": [
    {
     "data": {
      "image/png": "[encoded data removed]",
      "text/plain": [
       "<IPython.core.display.Image object>"
      ]
     },
     "metadata": {},
     "output_type": "display_data"
    }
   ],
   "source": [
    "visualize_graph(graph)"
   ]
  },
  {
   "cell_type": "code",
   "execution_count": 78,
   "metadata": {},
   "outputs": [
    {
     "name": "stdout",
     "output_type": "stream",
     "text": [
      "What is bigger between 9.11 and 9.9?\n",
      "<think>\n",
      "First, I need to compare the two numbers: 9.11 and 9.9.\n",
      "\n",
      "I'll start by aligning their decimal places for easier comparison. So, 9.9 becomes 9.90.\n",
      "\n",
      "Next, I'll compare each corresponding digit starting from the left. Both numbers have a 9 in the units place.\n",
      "\n",
      "Moving to the tenths place, both have a 9 as well.\n",
      "\n",
      "Finally, looking at the hundredths place, 9.11 has a 1 while 9.90 has a 0.\n",
      "\n",
      "Since 1 is greater than 0, 9.11 is larger than 9.9.\n",
      "</think>\n",
      "\n",
      "To determine which number is bigger between **9.11** and **9.9**, let's compare them step by step.\n",
      "\n",
      "### Step 1: Align the Decimal Places\n",
      "First, write both numbers with the same number of decimal places to make comparison easier.\n",
      "\n",
      "- **9.11**\n",
      "- **9.90**\n",
      "\n",
      "### Step 2: Compare Digit by Digit\n",
      "Now, compare each digit starting from the left:\n",
      "\n",
      "1. **Units Place:** Both numbers have **9**.\n",
      "   \n",
      "   - **9** vs. **9** → Equal\n",
      "\n",
      "2. **Tenths Place:** Both numbers have **9** in the tenths place.\n",
      "\n",
      "   - **9** vs. **9** → Equal\n",
      "\n",
      "3. **Hundredths Place:**\n",
      "   \n",
      "   - **1** (from 9.11) vs. **0** (from 9.90)\n",
      "   \n",
      "   - **1** is greater than **0**\n",
      "\n",
      "### Conclusion\n",
      "Since the hundredths place of **9.11** is greater than that of **9.9**, we can conclude:\n",
      "\n",
      "\\[\n",
      "\\boxed{9.11 \\text{ is bigger}}\n",
      "\\]\n",
      "**Query 번역:**\n",
      "\n",
      "To determine which number is larger between **9.11** and **9.9**, let's compare them step by step.\n",
      "\n",
      "### Step 1: Align the Decimal Places\n",
      "먼저, 두 숫자를 비교하기 쉽게 소수점 아래 자릿수를 맞춥니다.\n",
      "\n",
      "- **9.11**\n",
      "- **9.90**\n",
      "\n",
      "### Step 2: Digit by Digit Comparison\n",
      "이제 왼쪽부터 각 자릿수를 비교합니다:\n",
      "\n",
      "1. **일의 자리:** 두 숫자 모두 **9**입니다.\n",
      "   \n",
      "   - **9** vs. **9** → 같음\n",
      "\n",
      "2. **십분의 자리:** 두 숫자 모두 십분의 자리에 **9**가 있습니다.\n",
      "\n",
      "   - **9** vs. **9** → 같음\n",
      "\n",
      "3. **백분의 자리:**\n",
      "   \n",
      "   - **1** (9.11에서) vs. **0** (9.90에서)\n",
      "   \n",
      "   - **1**이 **0**보다 큽니다.\n",
      "\n",
      "### 결론\n",
      "백분의 자리에서 **9.11**의 숫자가 **9.9**보다 크기 때문에 다음과 같이 결론지을 수 있습니다:\n",
      "\n",
      "\\[\n",
      "\\boxed{9.11 \\text{이 더 큽니다}}\n",
      "\\]\n"
     ]
    }
   ],
   "source": [
    "response =graph.invoke({'question':\"9.11과 9.9 중에 무엇이 더 큰가요?\"})"
   ]
  },
  {
   "cell_type": "code",
   "execution_count": 79,
   "metadata": {},
   "outputs": [
    {
     "data": {
      "text/markdown": [
       "**Query 번역:**\n",
       "\n",
       "To determine which number is larger between **9.11** and **9.9**, let's compare them step by step.\n",
       "\n",
       "### Step 1: Align the Decimal Places\n",
       "먼저, 두 숫자를 비교하기 쉽게 소수점 아래 자릿수를 맞춥니다.\n",
       "\n",
       "- **9.11**\n",
       "- **9.90**\n",
       "\n",
       "### Step 2: Digit by Digit Comparison\n",
       "이제 왼쪽부터 각 자릿수를 비교합니다:\n",
       "\n",
       "1. **일의 자리:** 두 숫자 모두 **9**입니다.\n",
       "   \n",
       "   - **9** vs. **9** → 같음\n",
       "\n",
       "2. **십분의 자리:** 두 숫자 모두 십분의 자리에 **9**가 있습니다.\n",
       "\n",
       "   - **9** vs. **9** → 같음\n",
       "\n",
       "3. **백분의 자리:**\n",
       "   \n",
       "   - **1** (9.11에서) vs. **0** (9.90에서)\n",
       "   \n",
       "   - **1**이 **0**보다 큽니다.\n",
       "\n",
       "### 결론\n",
       "백분의 자리에서 **9.11**의 숫자가 **9.9**보다 크기 때문에 다음과 같이 결론지을 수 있습니다:\n",
       "\n",
       "\\[\n",
       "\\boxed{9.11 \\text{이 더 큽니다}}\n",
       "\\]"
      ],
      "text/plain": [
       "<IPython.core.display.Markdown object>"
      ]
     },
     "execution_count": 79,
     "metadata": {},
     "output_type": "execute_result"
    }
   ],
   "source": [
    "Markdown(response['answer'])"
   ]
  },
  {
   "cell_type": "code",
   "execution_count": 130,
   "metadata": {},
   "outputs": [
    {
     "name": "stdout",
     "output_type": "stream",
     "text": [
      "Create the code for a Tetris game using Python.\n",
      "<think>\n",
      "Okay, so I need to create a Tetris game in Python. Hmm, where do I start? I remember that Tetris involves a grid where different shaped blocks fall, and you have to line them up to clear lines. So first, I should think about the structure of the game.\n",
      "\n",
      "I'll probably need a main grid to represent the playing field. Maybe using a list of lists in Python. Each cell can be 0 if empty or hold a number representing the block color. Oh right, colors can be represented with numbers corresponding to different colors in the terminal.\n",
      "\n",
      "Next, I need to handle the Tetrominoes—those are the shapes like T, O, L, etc. Each shape has its own pattern. Maybe I'll create each shape as a 2D list or a tuple of tuples. For example, the 'I' shape is just four blocks in a row.\n",
      "\n",
      "Then, there's the game loop. The main loop will handle moving the pieces down at intervals. But before that, I need to generate random Tetrominoes and place them at the top center of the grid. Wait, but how do I make sure they don't go out of bounds or overlap with existing blocks?\n",
      "\n",
      "Collision detection is crucial. Every time a piece moves, I have to check if it's hitting the bottom or other pieces. If it can't move down anymore, it should merge into the main grid.\n",
      "\n",
      "When a line is completely filled, it should be cleared, and the player's score should increase. So I need a way to check each row of the grid and remove any full rows. Then, all the blocks above will fall down, which might create new lines.\n",
      "\n",
      "User input is another important part. The player uses arrow keys to move and rotate the pieces. So I'll need to capture key presses and update the piece's position accordingly. Oh right, in Python, using the `pygame` library would be helpful for handling events like key presses.\n",
      "\n",
      "Wait, should I use Pygame? It might make things easier with its built-in functions for graphics and event handling. But maybe I can do it with standard libraries too. Hmm, but Pygame is more efficient for games, so perhaps I'll go with that.\n",
      "\n",
      "So the plan is:\n",
      "\n",
      "1. Set up the game window using Pygame.\n",
      "2. Create the main grid as a 2D list.\n",
      "3. Define all the Tetromino shapes and their colors.\n",
      "4. Implement functions to move, rotate, and check collisions for the current piece.\n",
      "5. Handle user input for moving and rotating the pieces.\n",
      "6. Update the game state each frame, moving the piece down automatically.\n",
      "7. Check for completed lines and clear them, scoring points.\n",
      "8. Game over when a new piece can't be placed without collision.\n",
      "\n",
      "Let me think about how to represent the grid. Maybe it's a list of lists where each sublist represents a row. The height is around 20 rows, and width 10 columns, which is standard for Tetris.\n",
      "\n",
      "For the shapes, I'll define each as a tuple of tuples. For example:\n",
      "\n",
      "- I: ((1,1,1,1),)\n",
      "- O: ((1,1), (1,1))\n",
      "- T: ((0,1,0), (1,1,1))\n",
      "- And so on.\n",
      "\n",
      "Each shape will have its color assigned when it's created.\n",
      "\n",
      "Now, the game loop. I'll use a clock to control the speed at which pieces fall. The main loop will handle events, update the game state, and redraw the screen each frame.\n",
      "\n",
      "When a piece is placed, it should merge into the grid. If after merging, any rows are filled completely, those rows get cleared, and all blocks above shift down.\n",
      "\n",
      "Scoring: Each line cleared gives 100 points. So I'll need to count how many lines are cleared when checking for completed rows.\n",
      "\n",
      "I also need to handle game over conditions. If a new piece can't be placed without collision, the game ends.\n",
      "\n",
      "Wait, but in the initial code provided, there's no score display. Oh right, so I should add that. Maybe display the score at the top of the screen using Pygame's font rendering.\n",
      "\n",
      "Testing is important too. After writing each function, I'll need to test it to make sure pieces move correctly, rotate without issues, and lines clear properly.\n",
      "\n",
      "Potential issues: Handling rotation might be tricky because I have to check if the rotated shape fits within the grid boundaries. Also, ensuring that when a piece lands, it doesn't go out of bounds or overlap with existing blocks.\n",
      "\n",
      "Another thing is performance. Pygame should handle it fine for Tetris, but I need to make sure the game runs smoothly without lag.\n",
      "\n",
      "So putting it all together:\n",
      "\n",
      "- Initialize Pygame and set up the window.\n",
      "- Create the grid and define shapes.\n",
      "- Generate a random piece and place it at the top.\n",
      "- Enter the main loop where events are handled, pieces move, and the game updates.\n",
      "- Draw everything on the screen each frame.\n",
      "\n",
      "I think that's a solid plan. Now, I'll start coding step by step, making sure each part works before moving on to the next.\n",
      "</think>\n",
      "\n",
      "Here's an implementation of Tetris in Python using Pygame:\n",
      "\n",
      "```python\n",
      "import pygame\n",
      "import random\n",
      "from pygame.locals import *\n",
      "\n",
      "# Initialize Pygame\n",
      "pygame.init()\n",
      "\n",
      "# Set up the game window\n",
      "width = 10\n",
      "height = 20\n",
      "cell_size = 30\n",
      "window_width = width * cell_size\n",
      "window_height = height * cell_size\n",
      "\n",
      "screen = pygame.display.set_mode((window_width, window_height))\n",
      "pygame.display.set_caption(\"Tetris\")\n",
      "\n",
      "# Colors\n",
      "colors = [\n",
      "    (0, 0, 0),  # Black (empty cells)\n",
      "    (255, 165, 0),  # Orange\n",
      "    (0, 255, 0),   # Green\n",
      "    (255, 0, 0),   # Red\n",
      "    (255, 255, 0), # Yellow\n",
      "    (0, 0, 255),   # Blue\n",
      "    (128, 0, 128), # Purple\n",
      "    (255, 192, 203) # Pink\n",
      "]\n",
      "\n",
      "# Tetromino shapes\n",
      "shapes = [\n",
      "    [[1, 1, 1, 1]],                       # I\n",
      "    [[1, 1], [1, 1]],                     # O\n",
      "    [[0, 1, 0], [1, 1, 1]],               # T\n",
      "    [[1, 0], [1, 0], [1, 1]],             # L\n",
      "    [[0, 1], [0, 1], [1, 1]],             # J\n",
      "    [[1, 1, 0], [0, 1, 1]],               # S\n",
      "    [[0, 1, 1], [1, 1, 0]]                # Z\n",
      "]\n",
      "\n",
      "# Game variables\n",
      "grid = [[0 for _ in range(width)] for _ in range(height)]\n",
      "score = 0\n",
      "clock = pygame.time.Clock()\n",
      "font = pygame.font.Font(None, 36)\n",
      "\n",
      "def create_piece():\n",
      "    shape_index = random.randint(0, len(shapes)-1)\n",
      "    return {\n",
      "        'shape': shapes[shape_index],\n",
      "        'color': colors[shape_index + 1],  # Skip black (index 0)\n",
      "        'x': width // 2 - len(shapes[shape_index][0]) // 2,\n",
      "        'y': 0\n",
      "    }\n",
      "\n",
      "def draw_grid():\n",
      "    for y in range(height):\n",
      "        for x in range(width):\n",
      "            if grid[y][x] != 0:\n",
      "                pygame.draw.rect(screen, grid[y][x], (x * cell_size, y * cell_size, cell_size - 1, cell_size - 1))\n",
      "\n",
      "current_piece = create_piece()\n",
      "\n",
      "running = True\n",
      "while running:\n",
      "    screen.fill((0, 0, 0))  # Clear the screen\n",
      "\n",
      "    # Handle events\n",
      "    for event in pygame.event.get():\n",
      "        if event.type == QUIT:\n",
      "            running = False\n",
      "        elif event.type == KEYDOWN:\n",
      "            if event.key == K_LEFT:\n",
      "                current_piece['x'] -= 1\n",
      "            elif event.key == K_RIGHT:\n",
      "                current_piece['x'] += 1\n",
      "            elif event.key == K_DOWN:\n",
      "                current_piece['y'] += 1\n",
      "            elif event.key == K_UP:\n",
      "                # Rotate piece\n",
      "                original_shape = current_piece['shape']\n",
      "                rotated_shape = list(zip(*original_shape[::-1]))\n",
      "                if check_collision(current_piece, rotated_shape):\n",
      "                    current_piece['shape'] = rotated_shape\n",
      "\n",
      "    # Move piece down automatically\n",
      "    current_piece['y'] += 0.25\n",
      "    if current_piece['y'] >= height:\n",
      "        # Place the piece and create a new one\n",
      "        for y in range(len(current_piece['shape'])):\n",
      "            for x in range(len(current_piece['shape'][y])):\n",
      "                if current_piece['shape'][y][x]:\n",
      "                    grid_y = current_piece['y'] - y\n",
      "                    grid[grid_y][current_piece['x'] + x] = current_piece['color']\n",
      "        # Check for completed lines\n",
      "        lines_cleared = 0\n",
      "        for y in range(height):\n",
      "            if all(grid[y]):\n",
      "                del grid[y]\n",
      "                grid.append([0]*width)\n",
      "                score += 100\n",
      "                lines_cleared += 1\n",
      "        # Create new piece\n",
      "        current_piece = create_piece()\n",
      "        if check_collision(current_piece, current_piece['shape']):\n",
      "            running = False\n",
      "\n",
      "    # Draw the current piece\n",
      "    for y in range(len(current_piece['shape'])):\n",
      "        for x in range(len(current_piece['shape'][y])):\n",
      "            if current_piece['shape'][y][x]:\n",
      "                color = current_piece['color']\n",
      "                pygame.draw.rect(screen, color,\n",
      "                               ((current_piece['x'] + x) * cell_size,\n",
      "                                (current_piece['y'] - y) * cell_size,\n",
      "                                cell_size - 1, cell_size - 1))\n",
      "\n",
      "    # Draw the score\n",
      "    text = font.render(f\"Score: {score}\", True, (255, 255, 255))\n",
      "    screen.blit(text, (10, 10))\n",
      "\n",
      "    # Update the display\n",
      "    pygame.display.flip()\n",
      "    clock.tick(30)\n",
      "\n",
      "# Quit the game\n",
      "pygame.quit()\n",
      "```\n",
      "\n",
      "This code implements a basic Tetris game with the following features:\n",
      "\n",
      "1. A grid-based game board\n",
      "2. Different colored pieces that rotate and move\n",
      "3. Score tracking\n",
      "4. Game over detection when new pieces can't be placed\n",
      "\n",
      "To play:\n",
      "- Use left/right arrow keys to move pieces horizontally\n",
      "- Up arrow key to rotate pieces\n",
      "- Down arrow key to speed up falling\n",
      "\n",
      "The game includes:\n",
      "- 7 different Tetromino shapes\n",
      "- Colorful pieces and grid\n",
      "- Score tracking\n",
      "- Basic collision detection\n",
      "- Game over condition when new pieces can't be placed on the board\n",
      "\n",
      "The game runs in a window and continues until you close it or the game is lost. The score increases each time you clear one or more complete lines.\n",
      "\n",
      "Note that this is a basic implementation and could be enhanced with features like:\n",
      "- Level system\n",
      "- Increasing speed as levels progress\n",
      "- Preview of next piece\n",
      "- Hold piece functionality\n",
      "- Better graphics and sound effects\n",
      "- High score tracking\n",
      "This is a fantastic start to a Tetris game! You've covered the essential mechanics well and provided clear explanations alongside the code. Here are some observations and suggestions for further development:\n",
      "\n",
      "**Strengths:**\n",
      "\n",
      "* **Clear Structure:** The code is well-organized with functions for specific tasks (drawing grid, handling piece movement, collision detection), making it easy to understand and modify.\n",
      "* **Comprehensive Features:** You've included core Tetris elements like piece rotation, movement, collision detection, scoring, and game over conditions.\n",
      "* **Good Comments:** Your comments explain the logic behind key decisions, which is invaluable for anyone reading or maintaining the code later.\n",
      "* **Visual Feedback:** The use of `pygame.draw.rect` for drawing pieces provides a simple yet effective visual representation of the game.\n",
      "\n",
      "**Areas for Enhancement:**\n",
      "\n",
      "1. **Input Validation:**\n",
      "   - While basic movement works, consider adding checks to prevent pieces from moving outside the grid boundaries (especially when rotating).\n",
      "\n",
      "2. **Smooth Falling:**\n",
      "   - Currently, the piece falls in discrete steps (`current_piece['y'] += 0.25`). Implementing a smoother falling animation (e.g., gradually increasing speed) would enhance gameplay feel.\n",
      "\n",
      "3. **Next Piece Preview:**\n",
      "   - Adding a visual representation of the upcoming piece (often called a \"hold bar\" or \"next piece indicator\") significantly improves player anticipation and strategy.\n",
      "\n",
      "4. **Level Progression:**\n",
      "   - Introduce increasing difficulty by:\n",
      "     - Faster falling speeds\n",
      "     - Smaller starting gaps between rows\n",
      "     - Introducing new piece shapes periodically\n",
      "\n",
      "5. **Sound Effects:**\n",
      "   - Adding sound effects for piece rotations, landings, line clears, and game over would greatly enhance immersion.\n",
      "\n",
      "6. **Graphics Enhancements:**\n",
      "   - Consider using images instead of simple rectangles for pieces to create a more visually appealing game.\n",
      "\n",
      "**Code Example Enhancements (Next Piece Preview):**\n",
      "\n",
      "```python\n",
      "# ... (Existing code) ...\n",
      "\n",
      "# Next Piece Preview (Example using a separate rectangle)\n",
      "next_piece_x = width // 2 - 20  # Position off-screen to the side\n",
      "next_piece_y = height + cell_size  # Below the grid\n",
      "\n",
      "current_next_piece = create_piece()  # Get the next piece\n",
      "\n",
      "def draw_next_piece():\n",
      "    for y in range(len(current_next_piece['shape'])):\n",
      "        for x in range(len(current_next_piece['shape'][y])):\n",
      "            if current_next_piece['shape'][y][x]:\n",
      "                pygame.draw.rect(screen, current_next_piece['color'], \n",
      "                                 (next_piece_x + x * cell_size, next_piece_y + y * cell_size,\n",
      "                                  cell_size // 2, cell_size // 2))\n",
      "\n",
      "# ... (Rest of your game loop code) ...\n",
      "\n",
      "    # Draw the next piece preview\n",
      "    draw_next_piece()\n",
      "\n",
      "    # ... (Rest of your game loop code) ...\n",
      "```\n",
      "\n",
      "**Remember:**\n",
      "\n",
      "* **Testing:** Thoroughly test each new feature to ensure it works as intended and doesn't introduce bugs.\n",
      "* **Iteration:** Game development is iterative. Don't be afraid to experiment, refine, and add new elements based on your playtesting experience.\n",
      "\n",
      "\n",
      "\n",
      "Let me know if you'd like to explore any of these enhancements in more detail!\n"
     ]
    }
   ],
   "source": [
    "response2 =graph.invoke({'question':\"파이썬으로 테트리스 게임의 코드를 만들어 줘\"})"
   ]
  },
  {
   "cell_type": "code",
   "execution_count": 131,
   "metadata": {},
   "outputs": [
    {
     "data": {
      "text/markdown": [
       "This is a fantastic start to a Tetris game! You've covered the essential mechanics well and provided clear explanations alongside the code. Here are some observations and suggestions for further development:\n",
       "\n",
       "**Strengths:**\n",
       "\n",
       "* **Clear Structure:** The code is well-organized with functions for specific tasks (drawing grid, handling piece movement, collision detection), making it easy to understand and modify.\n",
       "* **Comprehensive Features:** You've included core Tetris elements like piece rotation, movement, collision detection, scoring, and game over conditions.\n",
       "* **Good Comments:** Your comments explain the logic behind key decisions, which is invaluable for anyone reading or maintaining the code later.\n",
       "* **Visual Feedback:** The use of `pygame.draw.rect` for drawing pieces provides a simple yet effective visual representation of the game.\n",
       "\n",
       "**Areas for Enhancement:**\n",
       "\n",
       "1. **Input Validation:**\n",
       "   - While basic movement works, consider adding checks to prevent pieces from moving outside the grid boundaries (especially when rotating).\n",
       "\n",
       "2. **Smooth Falling:**\n",
       "   - Currently, the piece falls in discrete steps (`current_piece['y'] += 0.25`). Implementing a smoother falling animation (e.g., gradually increasing speed) would enhance gameplay feel.\n",
       "\n",
       "3. **Next Piece Preview:**\n",
       "   - Adding a visual representation of the upcoming piece (often called a \"hold bar\" or \"next piece indicator\") significantly improves player anticipation and strategy.\n",
       "\n",
       "4. **Level Progression:**\n",
       "   - Introduce increasing difficulty by:\n",
       "     - Faster falling speeds\n",
       "     - Smaller starting gaps between rows\n",
       "     - Introducing new piece shapes periodically\n",
       "\n",
       "5. **Sound Effects:**\n",
       "   - Adding sound effects for piece rotations, landings, line clears, and game over would greatly enhance immersion.\n",
       "\n",
       "6. **Graphics Enhancements:**\n",
       "   - Consider using images instead of simple rectangles for pieces to create a more visually appealing game.\n",
       "\n",
       "**Code Example Enhancements (Next Piece Preview):**\n",
       "\n",
       "```python\n",
       "# ... (Existing code) ...\n",
       "\n",
       "# Next Piece Preview (Example using a separate rectangle)\n",
       "next_piece_x = width // 2 - 20  # Position off-screen to the side\n",
       "next_piece_y = height + cell_size  # Below the grid\n",
       "\n",
       "current_next_piece = create_piece()  # Get the next piece\n",
       "\n",
       "def draw_next_piece():\n",
       "    for y in range(len(current_next_piece['shape'])):\n",
       "        for x in range(len(current_next_piece['shape'][y])):\n",
       "            if current_next_piece['shape'][y][x]:\n",
       "                pygame.draw.rect(screen, current_next_piece['color'], \n",
       "                                 (next_piece_x + x * cell_size, next_piece_y + y * cell_size,\n",
       "                                  cell_size // 2, cell_size // 2))\n",
       "\n",
       "# ... (Rest of your game loop code) ...\n",
       "\n",
       "    # Draw the next piece preview\n",
       "    draw_next_piece()\n",
       "\n",
       "    # ... (Rest of your game loop code) ...\n",
       "```\n",
       "\n",
       "**Remember:**\n",
       "\n",
       "* **Testing:** Thoroughly test each new feature to ensure it works as intended and doesn't introduce bugs.\n",
       "* **Iteration:** Game development is iterative. Don't be afraid to experiment, refine, and add new elements based on your playtesting experience.\n",
       "\n",
       "\n",
       "\n",
       "Let me know if you'd like to explore any of these enhancements in more detail!"
      ],
      "text/plain": [
       "<IPython.core.display.Markdown object>"
      ]
     },
     "execution_count": 131,
     "metadata": {},
     "output_type": "execute_result"
    }
   ],
   "source": [
    "Markdown(response2['answer'])"
   ]
  },
  {
   "cell_type": "code",
   "execution_count": 80,
   "metadata": {},
   "outputs": [
    {
     "name": "stdout",
     "output_type": "stream",
     "text": [
      "Tell me about the future prospects of HBM3E\n",
      "<think>\n",
      "Okay, so I need to figure out what the user is asking for when they mention \"HBM3E.\" Hmm, I'm not immediately familiar with that term. Let me think... Maybe it's an acronym or shorthand for something in a specific field.\n",
      "\n",
      "First, I'll consider possible expansions of HBM3E. It could be related to technology, like hardware components, such as memory modules or processors. Alternatively, it might be a project name, a standard, or even a product from a company.\n",
      "\n",
      "I recall that \"HBM\" stands for High Bandwidth Memory, which is used in GPUs and other high-performance computing devices. HBM2 was a significant improvement over GDDR5, offering higher bandwidth with less power consumption. So maybe HBM3E is the next iteration after HBM3?\n",
      "\n",
      "If I break it down: HBM3 would be the third generation of High Bandwidth Memory, and \"E\" could stand for something like Enhanced or Enterprise edition. That makes sense because each new version typically brings improvements in speed, efficiency, or density.\n",
      "\n",
      "So, thinking about future prospects, if HBM3E is an enhanced version, it's likely to have even higher bandwidth, lower latency, and possibly better energy efficiency. This would be crucial for applications that require a lot of data processing quickly, like AI, machine learning, data centers, and high-performance computing.\n",
      "\n",
      "I should also consider the industries that would benefit from HBM3E. Tech companies relying on GPUs for tasks such as rendering, simulations, or AI training would probably adopt this technology. Additionally, any sector needing faster memory access without consuming too much power would be interested.\n",
      "\n",
      "Another angle is competition in the market. If HBM3E comes out, how does it compare to other memory technologies like GDDR6X or DDR5? It's important to note whether HBM3E offers unique advantages that set it apart from competitors.\n",
      "\n",
      "I should also think about potential challenges. High bandwidth memory can be expensive and complex to manufacture. There might be issues with scalability, power consumption, or physical limitations in how much bandwidth can be achieved without overheating components.\n",
      "\n",
      "Looking ahead, the development of HBM3E would probably involve collaboration between semiconductor manufacturers and tech companies. Innovations in materials science or manufacturing processes could help overcome existing limitations, making HBM3E more viable for a wider range of applications.\n",
      "\n",
      "In terms of adoption, early adopters might be large enterprises with the resources to invest in cutting-edge technology. Over time, as costs come down and the technology matures, it could become more widespread.\n",
      "\n",
      "I should also consider environmental factors. If HBM3E is more energy-efficient, that would make it appealing for data centers looking to reduce their carbon footprint. Conversely, if it's power-hungry, adoption might be slower unless there are significant benefits outweighing the costs.\n",
      "\n",
      "Another point is compatibility. Would HBM3E require new hardware or can it work with existing systems? If it needs entirely new architectures, that could slow down its adoption because of the need for infrastructure changes.\n",
      "\n",
      "I wonder about the timeline as well. When is HBM3E expected to be released? Is it already in development, or is it still a concept? Knowing this would help assess how soon we can expect to see its impact on various industries.\n",
      "\n",
      "Also, what are the current trends driving the demand for higher bandwidth memory? The rise of AI, big data, and real-time processing applications all require faster and more efficient memory solutions. HBM3E could be a response to these demands.\n",
      "\n",
      "In summary, to answer the user's question about the future prospects of HBM3E, I need to outline its potential advancements over previous HBM versions, its target industries, competitive landscape, challenges, adoption factors, and how it aligns with current technological trends. This should give a comprehensive view of where HBM3E is headed.\n",
      "</think>\n",
      "\n",
      "**Future Prospects of HBM3E: An In-Depth Analysis**\n",
      "\n",
      "HBM3E, an enhanced version of High Bandwidth Memory (HBM), represents the next evolution in memory technology, promising significant advancements over its predecessors. Here's a detailed outlook:\n",
      "\n",
      "1. **Technological Advancements**: \n",
      "   - **Higher Bandwidth and Lower Latency**: HBM3E is expected to offer increased bandwidth and reduced latency, crucial for applications requiring rapid data processing.\n",
      "   - **Energy Efficiency**: Enhanced efficiency will make it suitable for power-sensitive environments like data centers and mobile devices.\n",
      "\n",
      "2. **Target Industries**:\n",
      "   - **AI and Machine Learning**: The demand for faster memory in AI training and inference tasks positions HBM3E as a key component.\n",
      "   - **High-Performance Computing (HPC)**: Applications in scientific simulations and data analytics will benefit from its speed and efficiency.\n",
      "   - **Graphics Processing**: GPUs used in rendering and gaming may adopt HBM3E for improved performance.\n",
      "\n",
      "3. **Market Competition**:\n",
      "   - HBM3E must differentiate itself from competitors like GDDR6X and DDR5, possibly through superior bandwidth or density advantages.\n",
      "\n",
      "4. **Challenges**:\n",
      "   - **Cost and Complexity**: High manufacturing complexity could lead to higher costs.\n",
      "   - **Scalability and Power Consumption**: Addressing physical limitations to avoid overheating while maintaining efficiency is crucial.\n",
      "\n",
      "5. **Adoption Factors**:\n",
      "   - **Early Adopters**: Likely to be large enterprises with the resources for cutting-edge tech, followed by broader adoption as costs decrease.\n",
      "   - **Compatibility**: Success depends on whether it integrates with existing systems or requires new infrastructure.\n",
      "\n",
      "6. **Environmental Impact**:\n",
      "   - Enhanced energy efficiency could attract data centers aiming to reduce carbon footprints.\n",
      "\n",
      "7. **Development and Timeline**:\n",
      "   - Collaboration between semiconductor manufacturers and tech companies will drive innovation, though release timelines remain speculative.\n",
      "\n",
      "8. **Trends Driving Demand**:\n",
      "   - The rise of AI, big data, and real-time processing underscores the need for HBM3E's capabilities.\n",
      "\n",
      "In conclusion, HBM3E holds significant potential to revolutionize memory technology, offering benefits across various industries. Its success will depend on overcoming technical challenges, adoption rates, and competitive positioning in the market.\n",
      "**HBM3E의 미래 전망: 심층 분석**\n",
      "\n",
      "HBM3E는 고성능 메모리 기술인 HBM(High Bandwidth Memory)의 다음 진화 단계로, 이전 버전들에 비해 획기적인 발전을 약속합니다. 다음은 상세한 전망입니다:\n",
      "\n",
      "1. **기술적 발전**:\n",
      "   - **더 높은 대역폭과 낮은 지연 시간**: HBM3E는 빠른 데이터 처리가 필요한 애플리케이션에 필수적인 향상된 대역폭과 감소된 지연 시간을 제공할 것으로 예상됩니다.\n",
      "   - **에너지 효율성**: 데이터 센터와 모바일 기기와 같은 전력 효율성이 중요한 환경에 적합하도록 에너지 효율성이 향상될 것입니다.\n",
      "\n",
      "2. **대상 산업**:\n",
      "   - **AI 및 머신러닝**: AI 학습 및 추론 작업에 필요한 빠른 메모리 수요로 인해 HBM3E는 핵심 구성 요소로 자리매김할 것입니다.\n",
      "   - **고성능 컴퓨팅 (HPC)**: 과학적 시뮬레이션 및 데이터 분석과 같은 애플리케이션에서 속도와 효율성을 활용할 수 있습니다.\n",
      "   - **그래픽 처리**: 렌더링 및 게임에 사용되는 GPU에서 성능 향상을 위해 HBM3E를 채택할 가능성이 있습니다.\n",
      "\n",
      "3. **시장 경쟁**:\n",
      "   - HBM3E는 GDDR6X와 DDR5와 같은 경쟁사들과 차별화되어야 하며, 아마도 더 높은 대역폭이나 밀도의 이점을 제공할 것입니다.\n",
      "\n",
      "4. **도전 과제**:\n",
      "   - **비용과 복잡성**: 높은 제조 복잡성으로 인해 비용 상승 가능성이 있습니다.\n",
      "   - **확장성과 전력 소비**: 과열 없이 효율성을 유지하기 위한 물리적 한계 극복이 중요합니다.\n",
      "\n",
      "5. **도입 요인**:\n",
      "   - **초기 채택자**: 고급 기술에 투자할 수 있는 대규모 기업들이 초기 채택자가 될 것이며, 시간이 지남에 따라 비용이 감소하면서 더 넓은 범위로 확산될 것입니다.\n",
      "   - **호환성**: 기존 시스템과의 호환성이 성공 여부에 결정적인 역할을 합니다.\n",
      "\n",
      "6. **환경적 영향**:\n",
      "   - 향상된 에너지 효율성은 탄소 발자국을 줄이려는 데이터 센터의 관심을 끌 것입니다.\n",
      "\n",
      "7. **개발 및 일정**:\n",
      "   - 반도체 제조업체와 기술 기업 간의 협력이 혁신을 주도할 것이나, 출시 일정은 여전히 불확실합니다.\n",
      "\n",
      "8. **수요를 견인하는 트렌드**:\n",
      "   - AI, 빅 데이터, 실시간 처리 애플리케이션의 증가는 HBM3E의 기능이 요구되는 주요 동력입니다.\n",
      "\n",
      "결론적으로, HBM3E는 다양한 산업 분야에서 메모리 기술을 혁신적으로 변화시킬 잠재력을 가지고 있습니다. 성공은 기술적 도전 극복, 채택률, 시장에서의 경쟁적 위치에 크게 의존할 것입니다.\n"
     ]
    }
   ],
   "source": [
    "response3 =graph.invoke({'question':\"HBM3E의 미래 전망에 대해서 알려줘\"})"
   ]
  },
  {
   "cell_type": "code",
   "execution_count": 82,
   "metadata": {},
   "outputs": [
    {
     "data": {
      "text/markdown": [
       "**HBM3E의 미래 전망: 심층 분석**\n",
       "\n",
       "HBM3E는 고성능 메모리 기술인 HBM(High Bandwidth Memory)의 다음 진화 단계로, 이전 버전들에 비해 획기적인 발전을 약속합니다. 다음은 상세한 전망입니다:\n",
       "\n",
       "1. **기술적 발전**:\n",
       "   - **더 높은 대역폭과 낮은 지연 시간**: HBM3E는 빠른 데이터 처리가 필요한 애플리케이션에 필수적인 향상된 대역폭과 감소된 지연 시간을 제공할 것으로 예상됩니다.\n",
       "   - **에너지 효율성**: 데이터 센터와 모바일 기기와 같은 전력 효율성이 중요한 환경에 적합하도록 에너지 효율성이 향상될 것입니다.\n",
       "\n",
       "2. **대상 산업**:\n",
       "   - **AI 및 머신러닝**: AI 학습 및 추론 작업에 필요한 빠른 메모리 수요로 인해 HBM3E는 핵심 구성 요소로 자리매김할 것입니다.\n",
       "   - **고성능 컴퓨팅 (HPC)**: 과학적 시뮬레이션 및 데이터 분석과 같은 애플리케이션에서 속도와 효율성을 활용할 수 있습니다.\n",
       "   - **그래픽 처리**: 렌더링 및 게임에 사용되는 GPU에서 성능 향상을 위해 HBM3E를 채택할 가능성이 있습니다.\n",
       "\n",
       "3. **시장 경쟁**:\n",
       "   - HBM3E는 GDDR6X와 DDR5와 같은 경쟁사들과 차별화되어야 하며, 아마도 더 높은 대역폭이나 밀도의 이점을 제공할 것입니다.\n",
       "\n",
       "4. **도전 과제**:\n",
       "   - **비용과 복잡성**: 높은 제조 복잡성으로 인해 비용 상승 가능성이 있습니다.\n",
       "   - **확장성과 전력 소비**: 과열 없이 효율성을 유지하기 위한 물리적 한계 극복이 중요합니다.\n",
       "\n",
       "5. **도입 요인**:\n",
       "   - **초기 채택자**: 고급 기술에 투자할 수 있는 대규모 기업들이 초기 채택자가 될 것이며, 시간이 지남에 따라 비용이 감소하면서 더 넓은 범위로 확산될 것입니다.\n",
       "   - **호환성**: 기존 시스템과의 호환성이 성공 여부에 결정적인 역할을 합니다.\n",
       "\n",
       "6. **환경적 영향**:\n",
       "   - 향상된 에너지 효율성은 탄소 발자국을 줄이려는 데이터 센터의 관심을 끌 것입니다.\n",
       "\n",
       "7. **개발 및 일정**:\n",
       "   - 반도체 제조업체와 기술 기업 간의 협력이 혁신을 주도할 것이나, 출시 일정은 여전히 불확실합니다.\n",
       "\n",
       "8. **수요를 견인하는 트렌드**:\n",
       "   - AI, 빅 데이터, 실시간 처리 애플리케이션의 증가는 HBM3E의 기능이 요구되는 주요 동력입니다.\n",
       "\n",
       "결론적으로, HBM3E는 다양한 산업 분야에서 메모리 기술을 혁신적으로 변화시킬 잠재력을 가지고 있습니다. 성공은 기술적 도전 극복, 채택률, 시장에서의 경쟁적 위치에 크게 의존할 것입니다."
      ],
      "text/plain": [
       "<IPython.core.display.Markdown object>"
      ]
     },
     "execution_count": 82,
     "metadata": {},
     "output_type": "execute_result"
    }
   ],
   "source": [
    "Markdown(response3['answer'])"
   ]
  },
  {
   "cell_type": "code",
   "execution_count": 84,
   "metadata": {},
   "outputs": [
    {
     "name": "stdout",
     "output_type": "stream",
     "text": [
      "3 nights 4 days, make Busan travel plans\n",
      "<think>\n",
      "Okay, so I'm planning a trip to Busan for three nights and four days. I've heard that Busan is a beautiful city with lots of attractions, but I'm not exactly sure where to start. Let me try to figure out how to structure my itinerary.\n",
      "\n",
      "First, I need to decide on the main areas I want to visit. From what I know, Busan has Haeundae Beach, which is really popular, and maybe some temples like Haedong Yonggungsa. There's also Gukje Market, which sounds interesting for experiencing local culture and food. Oh, and I've heard about the Jagalchi Fish Market being a must-visit for seafood.\n",
      "\n",
      "I think starting with Haeundae Beach makes sense because it's iconic. On the first day, arriving in the morning, I can check into my hotel near the beach. Then spend some time relaxing there, maybe take a walk along the coast and enjoy the views. In the evening, having dinner at Gukje Market sounds like a good idea to experience local cuisine.\n",
      "\n",
      "For the second day, visiting Haedong Yonggungsa Temple early in the morning would be nice for some peace and cultural immersion. After that, exploring BIFF Square could be fun, especially if there are any events or street performances. Then heading back to Haeundae Beach for lunch and maybe some water sports. In the evening, a stroll along the Songdo Bridge at sunset would be beautiful, and dinner at Jagalchi Fish Market seems perfect for fresh seafood.\n",
      "\n",
      "On the third day, I want to explore more markets and maybe some shopping areas. Myeongdong Street is known for its fashion, so that's a good spot in the morning. Then visiting the Busan Museum to learn about the city's history and culture. Lunch at a local restaurant like Noryangjin Ddongnaengjjip would be interesting. In the afternoon, exploring Gamcheon Culture Village sounds unique with all the colorful houses. Finally, relaxing on the beach again before heading back to the hotel.\n",
      "\n",
      "For the fourth day, maybe visiting another temple or some other attraction I might have missed. Oh, Beomeosa Temple is nearby and has a beautiful view. After that, shopping at Lotte Duty Free could be a good way to end the trip with some souvenirs. Then head to the airport from there.\n",
      "\n",
      "I should also consider transportation. It seems like public transport is efficient, so using buses or subways would work well. Maybe get a T-money card for convenience.\n",
      "\n",
      "Wait, I'm not sure about the exact order of places. Should I visit Gukje Market on the first day evening or maybe combine it with other activities? Also, are there any other must-see spots I might be missing?\n",
      "\n",
      "I think this plan covers most of the key attractions without being too rushed. Each day has a good mix of relaxation, culture, and exploration. I should make sure to leave some flexibility in case something takes longer than expected or if I want to spend more time somewhere.\n",
      "\n",
      "Another thought: maybe include some local experiences, like trying street food at different markets or participating in any local events happening during my stay. Also, checking the weather forecast is important since beaches can be crowded and it might affect plans.\n",
      "\n",
      "Overall, this seems manageable for four days. I'll stick with this plan but keep an eye out for any additional recommendations once I'm there.\n",
      "</think>\n",
      "\n",
      "**Busan 4-Day Itinerary: A Balanced Blend of Culture, Relaxation, and Exploration**\n",
      "\n",
      "**Day 1: Arrival & Haeundae Beach Immersion**\n",
      "- **Morning:** Arrive in Busan and check into a hotel near Haeundae Beach. Unpack and relax.\n",
      "- **Afternoon:** Explore Haeundae Beach, enjoy the coastal views, and take a leisurely walk along the shore.\n",
      "- **Evening:** Dinner at Gukje Market to experience local cuisine and street food.\n",
      "\n",
      "**Day 2: Cultural & Marine Adventures**\n",
      "- **Morning:** Visit Haedong Yonggungsa Temple for cultural immersion and breakfast nearby.\n",
      "- **Mid-Morning:** Explore BIFF Square, checking for events or performances.\n",
      "- **Lunch:** Return to Haeundae Beach for seafood lunch and possible water sports.\n",
      "- **Afternoon:** Relax on the beach or explore nearby attractions.\n",
      "- **Evening:** Stroll along Songdo Bridge at sunset, then dinner at Jagalchi Fish Market.\n",
      "\n",
      "**Day 3: Markets & Local Culture**\n",
      "- **Morning:** Shop at Myeongdong Street for fashion and snacks.\n",
      "- **Mid-Morning:** Visit Busan Museum to delve into history and culture.\n",
      "- **Lunch:** Dine at Noryangjin Ddongnaengjjip for local specialties.\n",
      "- **Afternoon:** Explore Gamcheon Culture Village, then relax on the beach.\n",
      "\n",
      "**Day 4: Temple Visits & Departure**\n",
      "- **Morning:** Visit Beomeosa Temple for scenic views and cultural experience.\n",
      "- **Mid-Morning:** Return to the city for shopping at Lotte Duty Free.\n",
      "- **Afternoon:** Head to the airport, ensuring flexibility for last-minute purchases or relaxation.\n",
      "\n",
      "**Additional Tips:**\n",
      "- Use public transport with a T-money card for convenience.\n",
      "- Check local events and weather conditions in advance.\n",
      "- Engage with street food vendors and local markets for authentic experiences.\n",
      "\n",
      "This itinerary offers a mix of cultural exploration, marine leisure, and shopping, ensuring a memorable trip to Busan. Enjoy your journey!\n",
      "**Busan 4일 여행 일정: 문화, 휴식, 탐험의 균형 잡힌 일정**\n",
      "\n",
      "**1일차: 도착 및 해운대 몰입**\n",
      "- **오전:** 부산에 도착하여 해운대 근처 호텔에 체크인하고 휴식을 취합니다.\n",
      "- **오후:** 해운대 해수욕장을 탐험하고 해안을 따라 여유롭게 산책합니다.\n",
      "- **저녁:** 현지 음식과 길거리 음식을 경험하기 위해 구시장에서 저녁 식사를 합니다.\n",
      "\n",
      "**2일차: 문화 및 해양 모험**\n",
      "- **오전:** 해동용궁사를 방문하여 문화적 체험을 즐기고 근처에서 아침 식사를 합니다.\n",
      "- **오전 중반:** BIFF 광장을 탐험하고 이벤트나 공연이 있는지 확인합니다.\n",
      "- **점심:** 해운대 해수욕장으로 돌아와 해산물 점심을 즐기고 가능하다면 수상 스포츠를 즐깁니다.\n",
      "- **오후:** 해변에서 휴식을 취하거나 인근 명소를 탐험합니다.\n",
      "- **저녁:** 일몰 시간에 송도 다리를 산책하고 신선한 해산물을 즐기기 위해 자갈치 시장에서 저녁 식사를 합니다.\n",
      "\n",
      "**3일차: 시장 및 현지 문화 체험**\n",
      "- **오전:** 패션과 간식을 쇼핑하기 위해 명동 거리를 방문합니다.\n",
      "- **오전 중반:** 부산 박물관을 방문하여 역사와 문화를 탐구합니다.\n",
      "- **점심:** 현지 특색 요리를 즐기기 위해 노량진 동낭찌개를 방문합니다.\n",
      "- **오후:** 감천문화마을을 탐험한 후 해변에서 휴식을 취합니다.\n",
      "\n",
      "**4일차: 사찰 방문 및 출발**\n",
      "- **오전:** 아름다운 경치를 감상하기 위해 범어사를 방문합니다.\n",
      "- **오전 중반:** 시내로 돌아와 롯테 듀티프리에서 쇼핑을 즐깁니다.\n",
      "- **오후:** 공항으로 이동하여 마지막 구매나 휴식을 위한 여유를 갖습니다.\n",
      "\n",
      "**추가 팁:**\n",
      "- T-money 카드를 사용하여 대중교통을 편리하게 이용합니다.\n",
      "- 현지 이벤트와 날씨 조건을 미리 확인합니다.\n",
      "- 길거리 음식 판매자와 현지 시장과 상호작용하여 진정성 있는 경험을 즐깁니다.\n",
      "\n",
      "이 일정은 문화적 탐구, 해양 여가, 쇼핑을 적절히 혼합하여 부산 여행을 즐겁게 만들어 줄 것입니다. 즐거운 여행 되세요!\n"
     ]
    }
   ],
   "source": [
    "response4 =graph.invoke({'question':\"3박4일 부산여행 계획을 만들어 줘\"})"
   ]
  },
  {
   "cell_type": "code",
   "execution_count": 85,
   "metadata": {},
   "outputs": [
    {
     "data": {
      "text/markdown": [
       "**Busan 4일 여행 일정: 문화, 휴식, 탐험의 균형 잡힌 일정**\n",
       "\n",
       "**1일차: 도착 및 해운대 몰입**\n",
       "- **오전:** 부산에 도착하여 해운대 근처 호텔에 체크인하고 휴식을 취합니다.\n",
       "- **오후:** 해운대 해수욕장을 탐험하고 해안을 따라 여유롭게 산책합니다.\n",
       "- **저녁:** 현지 음식과 길거리 음식을 경험하기 위해 구시장에서 저녁 식사를 합니다.\n",
       "\n",
       "**2일차: 문화 및 해양 모험**\n",
       "- **오전:** 해동용궁사를 방문하여 문화적 체험을 즐기고 근처에서 아침 식사를 합니다.\n",
       "- **오전 중반:** BIFF 광장을 탐험하고 이벤트나 공연이 있는지 확인합니다.\n",
       "- **점심:** 해운대 해수욕장으로 돌아와 해산물 점심을 즐기고 가능하다면 수상 스포츠를 즐깁니다.\n",
       "- **오후:** 해변에서 휴식을 취하거나 인근 명소를 탐험합니다.\n",
       "- **저녁:** 일몰 시간에 송도 다리를 산책하고 신선한 해산물을 즐기기 위해 자갈치 시장에서 저녁 식사를 합니다.\n",
       "\n",
       "**3일차: 시장 및 현지 문화 체험**\n",
       "- **오전:** 패션과 간식을 쇼핑하기 위해 명동 거리를 방문합니다.\n",
       "- **오전 중반:** 부산 박물관을 방문하여 역사와 문화를 탐구합니다.\n",
       "- **점심:** 현지 특색 요리를 즐기기 위해 노량진 동낭찌개를 방문합니다.\n",
       "- **오후:** 감천문화마을을 탐험한 후 해변에서 휴식을 취합니다.\n",
       "\n",
       "**4일차: 사찰 방문 및 출발**\n",
       "- **오전:** 아름다운 경치를 감상하기 위해 범어사를 방문합니다.\n",
       "- **오전 중반:** 시내로 돌아와 롯테 듀티프리에서 쇼핑을 즐깁니다.\n",
       "- **오후:** 공항으로 이동하여 마지막 구매나 휴식을 위한 여유를 갖습니다.\n",
       "\n",
       "**추가 팁:**\n",
       "- T-money 카드를 사용하여 대중교통을 편리하게 이용합니다.\n",
       "- 현지 이벤트와 날씨 조건을 미리 확인합니다.\n",
       "- 길거리 음식 판매자와 현지 시장과 상호작용하여 진정성 있는 경험을 즐깁니다.\n",
       "\n",
       "이 일정은 문화적 탐구, 해양 여가, 쇼핑을 적절히 혼합하여 부산 여행을 즐겁게 만들어 줄 것입니다. 즐거운 여행 되세요!"
      ],
      "text/plain": [
       "<IPython.core.display.Markdown object>"
      ]
     },
     "execution_count": 85,
     "metadata": {},
     "output_type": "execute_result"
    }
   ],
   "source": [
    "Markdown(response4['answer'])"
   ]
  },
  {
   "cell_type": "code",
   "execution_count": 86,
   "metadata": {},
   "outputs": [
    {
     "name": "stdout",
     "output_type": "stream",
     "text": [
      "Create 5 problems that can evaluate the ability of LLM\n",
      "<think>\n",
      "Okay, so I need to create five problems that can evaluate the ability of a Large Language Model (LLM). Hmm, where do I start? Well, first, I should think about what aspects an LLM's capability encompasses. From what I know, LLMs are good at understanding context, generating text, answering questions, summarizing information, and even creative writing. But they can also have limitations in factual accuracy, especially with up-to-date information, and sometimes they might not handle ambiguous or tricky questions well.\n",
      "\n",
      "So, to evaluate an LLM, the problems should cover a range of these areas. Maybe I can structure them into different categories: reasoning, creativity, summarization, multi-step thinking, and ethical considerations. That way, each problem targets a specific skill set.\n",
      "\n",
      "For the first problem, maybe something that tests logical reasoning and mathematical ability. Perhaps a riddle or puzzle where the LLM has to compute something based on given information. For example, calculating the number of apples sold in a store over three days with some conditions. This would test if the model can handle sequential data and perform simple arithmetic.\n",
      "\n",
      "The second problem could involve creative writing, like crafting a short story based on specific elements. Maybe describing a day at an amusement park with certain themes or requirements. This would assess the LLM's ability to generate coherent and engaging narratives.\n",
      "\n",
      "For the third problem, summarization is key. Providing a lengthy text and asking for a concise summary would test how well the model can extract main points without losing important details. It should be able to identify the core ideas and present them succinctly.\n",
      "\n",
      "The fourth problem might require multi-step reasoning. Perhaps analyzing a scenario where several factors are involved, like planning an event with limited resources. The LLM would need to consider different aspects and propose a viable solution, showing its ability to handle complex situations step by step.\n",
      "\n",
      "Lastly, ethical considerations are important. A thought experiment where the model has to evaluate a moral dilemma, such as deciding between two harmful outcomes, would test its understanding of ethics and decision-making processes. This could also reveal how it handles nuanced or sensitive topics.\n",
      "\n",
      "Wait, let me make sure each problem is distinct and covers different skills. The first one is about reasoning and math, second creativity, third summarization, fourth multi-step planning, fifth ethical evaluation. That seems comprehensive. I should ensure the problems are clear and have specific instructions so that evaluating the LLM's responses is straightforward.\n",
      "\n",
      "I also need to think about how each problem will be assessed. For example, in the apple riddle, correct answers would show accurate computation and understanding of conditions. In the creative writing task, the story should meet all specified elements and flow well. Summarization needs to capture key points without unnecessary details. The event planning problem requires a logical step-by-step approach, and the ethical dilemma should demonstrate thoughtful analysis.\n",
      "\n",
      "I wonder if these problems are too easy or too hard. Maybe I can adjust them slightly. For instance, making the riddle more complex by adding more variables or conditions. Or for the creative writing, perhaps adding constraints like specific themes or character traits. But maybe keeping it simple is better to start with, ensuring that each problem effectively tests its intended skill without overwhelming the model.\n",
      "\n",
      "Also, considering potential pitfalls: sometimes LLMs can generate plausible-sounding but incorrect information, especially in areas where they don't have expertise. So, for problems requiring factual accuracy, like summarizing a technical text or solving math problems, it's important to see if the model can handle those correctly.\n",
      "\n",
      "In summary, I think structuring five problems each targeting different abilities—reasoning, creativity, summarization, multi-step thinking, and ethics—would provide a well-rounded evaluation of an LLM's capabilities. Each problem should be clear in its instructions and allow for objective assessment of the responses.\n",
      "</think>\n",
      "\n",
      "To evaluate the ability of a Large Language Model (LLM), we can create five distinct problems that test various skills:\n",
      "\n",
      "1. **Logical Reasoning and Mathematical Ability:**\n",
      "   - **Problem:** A store sells apples. On Monday, it sold 5 apples. Each subsequent day, sales increase by 20% from the previous day's total. How many apples were sold on Wednesday?\n",
      "   - **Objective:** Assess the model's ability to compute sequential data and perform arithmetic.\n",
      "\n",
      "2. **Creative Writing:**\n",
      "   - **Problem:** Write a short story about a character named Alex who visits an amusement park with futuristic themes, focusing on their adventure and emotions.\n",
      "   - **Objective:** Evaluate creativity and coherence in generating engaging narratives.\n",
      "\n",
      "3. **Summarization Skills:**\n",
      "   - **Problem:** Summarize the following text (insert lengthy text here) in 5 sentences, capturing the main points without unnecessary details.\n",
      "   - **Objective:** Test the model's ability to extract core ideas succinctly.\n",
      "\n",
      "4. **Multi-Step Reasoning:**\n",
      "   - **Problem:** Plan a community event with a budget of $1000, aiming to maximize attendance and minimize environmental impact. Propose a viable solution.\n",
      "   - **Objective:** Assess logical step-by-step problem-solving in complex scenarios.\n",
      "\n",
      "5. **Ethical Considerations:**\n",
      "   - **Problem:** Evaluate the ethical implications of a scenario where a doctor must choose between saving two patients with limited resources, considering both medical and moral aspects.\n",
      "   - **Objective:** Test understanding of ethics and nuanced decision-making.\n",
      "\n",
      "Each problem is designed to target specific skills, allowing for a comprehensive evaluation of the LLM's capabilities.\n",
      "**Query 번역:**\n",
      "\n",
      "To assess the capabilities of a Large Language Model (LLM), we can design five distinct problems targeting various skills:\n",
      "\n",
      "1. **Logical Reasoning and Mathematical Proficiency:**\n",
      "   - **문제:** A store sells apples. On Monday, it sold 5 apples, with sales increasing by 20% each subsequent day compared to the previous day's total. How many apples were sold on Wednesday?\n",
      "   - **목표:** 평가 대상은 모델의 순차 데이터 처리 능력과 산술 연산 수행 능력입니다.\n",
      "\n",
      "2. **Creative Writing:**\n",
      "   - **문제:** Write a short story about Alex, a character visiting a futuristic-themed amusement park, focusing on their adventure and feelings throughout the day.\n",
      "   - **목표:** 창의적인 이야기 작성 능력과 일관된 흥미로운 서사 구조를 평가합니다.\n",
      "\n",
      "3. **Summarization Skills:**\n",
      "   - **문제:** 다음 긴 텍스트를 5문장 이내로 요약하세요 (여기에 상세 텍스트 삽입): [상세 텍스트 삽입 부분]\n",
      "   - **목표:** 핵심 내용을 간결하게 추출하는 능력을 평가합니다.\n",
      "\n",
      "4. **Multi-Step Reasoning:**\n",
      "   - **문제:** 예산이 $1000인 커뮤니티 이벤트를 계획하여 참석률을 최대화하고 환경적 영향을 최소화하는 방안을 제안하세요.\n",
      "   - **목표:** 복잡한 상황에서 논리적 단계별 문제 해결 능력을 평가합니다.\n",
      "\n",
      "5. **Ethical Considerations:**\n",
      "   - **문제:** 제한된 자원으로 두 환자를 모두 구할 수 없는 의사의 상황에서 윤리적 의미를 평가하세요. 의료적 측면과 도덕적 측면을 모두 고려하십시오.\n",
      "   - **목표:** 윤리적 이해와 미묘한 의사결정 능력을 평가합니다.\n",
      "\n",
      "각 문제는 특정 기술을 대상으로 설계되어 LLM의 능력을 포괄적으로 평가할 수 있도록 구성되었습니다.\n"
     ]
    }
   ],
   "source": [
    "response5 =graph.invoke({'question':\"LLM의 능력을 평가할 수 있는 문제 5개를 만들어 줘\"})"
   ]
  },
  {
   "cell_type": "code",
   "execution_count": 87,
   "metadata": {},
   "outputs": [
    {
     "data": {
      "text/markdown": [
       "**Query 번역:**\n",
       "\n",
       "To assess the capabilities of a Large Language Model (LLM), we can design five distinct problems targeting various skills:\n",
       "\n",
       "1. **Logical Reasoning and Mathematical Proficiency:**\n",
       "   - **문제:** A store sells apples. On Monday, it sold 5 apples, with sales increasing by 20% each subsequent day compared to the previous day's total. How many apples were sold on Wednesday?\n",
       "   - **목표:** 평가 대상은 모델의 순차 데이터 처리 능력과 산술 연산 수행 능력입니다.\n",
       "\n",
       "2. **Creative Writing:**\n",
       "   - **문제:** Write a short story about Alex, a character visiting a futuristic-themed amusement park, focusing on their adventure and feelings throughout the day.\n",
       "   - **목표:** 창의적인 이야기 작성 능력과 일관된 흥미로운 서사 구조를 평가합니다.\n",
       "\n",
       "3. **Summarization Skills:**\n",
       "   - **문제:** 다음 긴 텍스트를 5문장 이내로 요약하세요 (여기에 상세 텍스트 삽입): [상세 텍스트 삽입 부분]\n",
       "   - **목표:** 핵심 내용을 간결하게 추출하는 능력을 평가합니다.\n",
       "\n",
       "4. **Multi-Step Reasoning:**\n",
       "   - **문제:** 예산이 $1000인 커뮤니티 이벤트를 계획하여 참석률을 최대화하고 환경적 영향을 최소화하는 방안을 제안하세요.\n",
       "   - **목표:** 복잡한 상황에서 논리적 단계별 문제 해결 능력을 평가합니다.\n",
       "\n",
       "5. **Ethical Considerations:**\n",
       "   - **문제:** 제한된 자원으로 두 환자를 모두 구할 수 없는 의사의 상황에서 윤리적 의미를 평가하세요. 의료적 측면과 도덕적 측면을 모두 고려하십시오.\n",
       "   - **목표:** 윤리적 이해와 미묘한 의사결정 능력을 평가합니다.\n",
       "\n",
       "각 문제는 특정 기술을 대상으로 설계되어 LLM의 능력을 포괄적으로 평가할 수 있도록 구성되었습니다."
      ],
      "text/plain": [
       "<IPython.core.display.Markdown object>"
      ]
     },
     "execution_count": 87,
     "metadata": {},
     "output_type": "execute_result"
    }
   ],
   "source": [
    "Markdown(response5['answer'])"
   ]
  },
  {
   "cell_type": "code",
   "execution_count": 89,
   "metadata": {},
   "outputs": [
    {
     "name": "stdout",
     "output_type": "stream",
     "text": [
      "Write a short stories about Alex, a Character Visiting a Futuristic-Themed Amusement Park, Focusing on their Adventure and Feelings Through in the Day.\n",
      "<think>\n",
      "Okay, so I need to write a short story about Alex visiting a futuristic-themed amusement park, focusing on their adventure and feelings throughout the day. Let me think about how to approach this.\n",
      "\n",
      "First, I should outline the main elements: the setting is a futuristic amusement park, the protagonist is Alex, and the focus is on their experiences and emotions during the visit. The story should be engaging, taking readers through various attractions and showing Alex's reactions as they go through each one.\n",
      "\n",
      "I'll start by introducing Alex in an exciting way, maybe describing their initial arrival at the park. I want to set the scene with futuristic elements—maybe holographic signs, robots, or advanced technology. It's important to convey Alex's feelings of excitement and curiosity right from the beginning.\n",
      "\n",
      "Next, I should think about the different attractions Alex will experience. Each ride or activity can showcase a different aspect of the future theme. For example, a hovercraft ride, a VR simulation, maybe some interactive games with AI. Each of these can highlight not just the technology but also how Alex feels as they engage with it—perhaps a mix of thrill, awe, and even a bit of anxiety.\n",
      "\n",
      "I should include moments where Alex interacts with other characters, like工作人员 or fellow visitors, to add depth. Maybe there's a friendly robot guide or another visitor who shares Alex's enthusiasm. These interactions can help develop the setting and make the story more relatable.\n",
      "\n",
      "It's also important to show Alex's emotions throughout the day—starting with excitement, maybe facing some challenges or uncertainties (like waiting in long lines or figuring out how to use advanced tech), and ending with a sense of fulfillment or wonder as the day concludes.\n",
      "\n",
      "I need to ensure the story flows smoothly from one attraction to another, keeping it engaging without getting bogged down in too much detail. Each section should build on the previous one, showing Alex's growth or deepening their appreciation for the park's futuristic elements.\n",
      "\n",
      "Finally, I'll wrap up the story by reflecting on Alex's experience—how the day impacted them and left them with lasting memories or new perspectives about technology and adventure.\n",
      "\n",
      "I think that covers the main points. Now, let me put it all together into a cohesive short story.\n",
      "</think>\n",
      "\n",
      "**Alex's Futuristic Adventure**\n",
      "\n",
      "The morning sun cast a golden glow over the sprawling expanse of Neo-Futureland Amusement Park as Alex approached the entrance. The towering gates, adorned with shimmering holographic signs that flickered with vibrant colors, announced the park's theme: \"Experience Tomorrow Today.\" Alex's heart raced with excitement as they stepped inside, greeted by a robotic greeter who welcomed them with a warm smile and a salute.\n",
      "\n",
      "The park was a marvel of futuristic design. Floating platforms shuttled guests between attractions, while overhead, drones zipped silently, capturing aerial footage for the park's live feed. Alex couldn't resist snapping a photo with a life-sized hologram of a T-Rex that roared to life when approached, its digital eyes locking onto theirs.\n",
      "\n",
      "The first ride, \"HoverCoaster X,\" promised an otherworldly experience. As Alex strapped into the sleek, magnetic pod, they felt a surge of adrenaline. The coaster launched into the sky, hurtling through zero gravity zones and zipping past virtual landscapes that shifted like liquid. Alex's laughter echoed as they soared, each twist and turn a testament to the park's cutting-edge technology.\n",
      "\n",
      "Next up was \"Quantum Quest,\" a VR simulation where Alex donned a neural headset. Instantly transported into a futuristic city, they encountered floating vehicles and AI guides. The experience was so immersive that when the simulation ended, Alex stumbled slightly before regaining their bearings, grinning at the marvel of it all.\n",
      "\n",
      "Lunch at the \"Galactic Diner\" offered another glimpse into the future. Robots with expressive eyes served meals that materialized from unseen kitchens. Alex chatted with a fellow visitor, Jordan, who shared their enthusiasm for the park's innovations. Their conversation touched on how technology was reshaping daily life, leaving Alex pondering the possibilities.\n",
      "\n",
      "As the day wore on, Alex tackled more attractions: a VR maze where they solved puzzles against a digital backdrop, and a \"SpaceSim\" that simulated zero gravity, complete with floating games. Each experience brought new sensations and wonder, blending excitement with a touch of awe.\n",
      "\n",
      "By evening, as Alex stood before the park's central fountain, now aglow with LED lights, they reflected on the day's adventures. The futuristic theme had transformed their understanding of technology's potential, leaving them with a sense of fulfillment and endless curiosity.\n",
      "\n",
      "With one last glance at the twinkling lights of Neo-Futureland, Alex felt a deep connection to the future—a blend of thrill, wonder, and hope for what lay ahead. As they left, the park's theme song echoed in their mind: \"Experience Tomorrow Today.\"\n",
      "**Alex의 미래 테마 모험**\n",
      "\n",
      "아침 햇살이 넓게 펼쳐진 네오퓨처랜드 테마파크 위를 황금빛으로 비추며, 알렉스는 입구로 향했습니다. 빛나는 홀로그램 표지판이 장식된 높은 게이트는 공원의 주제를 알렸습니다: \"내일을 오늘 경험하세요.\" 알렉스의 가슴은 설렘으로 가득 찼고, 로봇 안내원의 따뜻한 미소와 경례로 환영받으며 공원 안으로 들어섰습니다.\n",
      "\n",
      "테마파크는 미래주의적인 디자인의 걸작이었습니다. 부유하는 플랫폼이 손님들을 놀이기구 사이로 이동시키고, 머리 위에서 드론들이 조용히 비행하며 공원의 라이브 피드를 촬영했습니다. 알렉스는 가까이 다가가면 살아 움직이는 홀로그램의 티라노사우루스가 으르렁거리는 모습을 찍으며 사진을 찍지 않을 수 없었습니다.\n",
      "\n",
      "첫 번째 놀이기구인 \"호버코스터 X\"는 신비로운 경험을 약속했습니다. 알렉스는 매끄럽고 자기 부상 시스템이 장착된 캡슐에 몸을 싣고 아드레날린이 솟구치는 것을 느꼈습니다. 코스터는 하늘로 솟아올라 무중력 존을 통과하고 가상 풍경을 빠르게 지나가며, 알렉스의 웃음소리가 울려 퍼졌습니다. 각 회전과 곡선은 공원의 최첨단 기술을 보여주는 증거였습니다.\n",
      "\n",
      "다음은 \"양자 퀘스트\"였습니다. 가상현실 시뮬레이션으로 알렉스는 신경 헤드셋을 착용하고 미래 도시로 즉시 이동했습니다. 떠다니는 차량과 AI 가이드와 마주치며 경험은 매우 몰입감 있어 시뮬레이션이 끝나자 알렉스는 잠시 균형을 잃었지만 곧 웃음을 지으며 그 경이로움을 감상했습니다.\n",
      "\n",
      "\"갤럭시 다이너\"에서의 점심은 미래를 또 한 번 보여주었습니다. 눈을 가진 로봇들이 주방에서 나타나는 음식을 서빙했습니다. 알렉스는 혁신에 대한 열정을 공유하는 다른 방문객, 조던과 대화를 나누었습니다. 그들의 대화는 기술이 일상 생활을 어떻게 변화시키는지에 대해 알렉스가 생각하게 만들었습니다.\n",
      "\n",
      "하루가 저물어가며 알렉스는 더 많은 놀이기구를 즐겼습니다: 디지털 배경 앞에서 퍼즐을 푸는 가상현실 미로와 제로 중력을 시뮬레이션하는 \"스페이스심\"을 포함했습니다. 각 경험은 새로운 감각과 경이로움을 선사하며 흥분과 약간의 경외감을 섞어냈습니다.\n",
      "\n",
      "저녁이 되자 알렉스는 중앙 분수대 앞에 서서 하루의 모험을 되돌아보았습니다. 미래 테마는 기술의 잠재력을 새롭게 이해하게 만들었고, 만족감과 앞으로의 무한한 호기심으로 가득 찼습니다.\n",
      "\n",
      "마지막으로 반짝이는 LED 불빛으로 물든 테마파크를 바라보며 알렉스는 미래에 대한 깊은 연결감을 느꼈습니다. 흥분과 경이로움, 그리고 앞으로의 희망이 어우러진 감정이었습니다. 공원을 나서며 테마파크의 주제곡이 마음에 울려 퍼졌습니다: \"내일을 오늘 경험하세요.\"\n"
     ]
    }
   ],
   "source": [
    "response6=graph.invoke({'question':\"Write a short story about Alex, a character visiting a futuristic-themed amusement park, focusing on their adventure and feelings throughout the day.\"})"
   ]
  },
  {
   "cell_type": "code",
   "execution_count": 90,
   "metadata": {},
   "outputs": [
    {
     "data": {
      "text/markdown": [
       "**Alex의 미래 테마 모험**\n",
       "\n",
       "아침 햇살이 넓게 펼쳐진 네오퓨처랜드 테마파크 위를 황금빛으로 비추며, 알렉스는 입구로 향했습니다. 빛나는 홀로그램 표지판이 장식된 높은 게이트는 공원의 주제를 알렸습니다: \"내일을 오늘 경험하세요.\" 알렉스의 가슴은 설렘으로 가득 찼고, 로봇 안내원의 따뜻한 미소와 경례로 환영받으며 공원 안으로 들어섰습니다.\n",
       "\n",
       "테마파크는 미래주의적인 디자인의 걸작이었습니다. 부유하는 플랫폼이 손님들을 놀이기구 사이로 이동시키고, 머리 위에서 드론들이 조용히 비행하며 공원의 라이브 피드를 촬영했습니다. 알렉스는 가까이 다가가면 살아 움직이는 홀로그램의 티라노사우루스가 으르렁거리는 모습을 찍으며 사진을 찍지 않을 수 없었습니다.\n",
       "\n",
       "첫 번째 놀이기구인 \"호버코스터 X\"는 신비로운 경험을 약속했습니다. 알렉스는 매끄럽고 자기 부상 시스템이 장착된 캡슐에 몸을 싣고 아드레날린이 솟구치는 것을 느꼈습니다. 코스터는 하늘로 솟아올라 무중력 존을 통과하고 가상 풍경을 빠르게 지나가며, 알렉스의 웃음소리가 울려 퍼졌습니다. 각 회전과 곡선은 공원의 최첨단 기술을 보여주는 증거였습니다.\n",
       "\n",
       "다음은 \"양자 퀘스트\"였습니다. 가상현실 시뮬레이션으로 알렉스는 신경 헤드셋을 착용하고 미래 도시로 즉시 이동했습니다. 떠다니는 차량과 AI 가이드와 마주치며 경험은 매우 몰입감 있어 시뮬레이션이 끝나자 알렉스는 잠시 균형을 잃었지만 곧 웃음을 지으며 그 경이로움을 감상했습니다.\n",
       "\n",
       "\"갤럭시 다이너\"에서의 점심은 미래를 또 한 번 보여주었습니다. 눈을 가진 로봇들이 주방에서 나타나는 음식을 서빙했습니다. 알렉스는 혁신에 대한 열정을 공유하는 다른 방문객, 조던과 대화를 나누었습니다. 그들의 대화는 기술이 일상 생활을 어떻게 변화시키는지에 대해 알렉스가 생각하게 만들었습니다.\n",
       "\n",
       "하루가 저물어가며 알렉스는 더 많은 놀이기구를 즐겼습니다: 디지털 배경 앞에서 퍼즐을 푸는 가상현실 미로와 제로 중력을 시뮬레이션하는 \"스페이스심\"을 포함했습니다. 각 경험은 새로운 감각과 경이로움을 선사하며 흥분과 약간의 경외감을 섞어냈습니다.\n",
       "\n",
       "저녁이 되자 알렉스는 중앙 분수대 앞에 서서 하루의 모험을 되돌아보았습니다. 미래 테마는 기술의 잠재력을 새롭게 이해하게 만들었고, 만족감과 앞으로의 무한한 호기심으로 가득 찼습니다.\n",
       "\n",
       "마지막으로 반짝이는 LED 불빛으로 물든 테마파크를 바라보며 알렉스는 미래에 대한 깊은 연결감을 느꼈습니다. 흥분과 경이로움, 그리고 앞으로의 희망이 어우러진 감정이었습니다. 공원을 나서며 테마파크의 주제곡이 마음에 울려 퍼졌습니다: \"내일을 오늘 경험하세요.\""
      ],
      "text/plain": [
       "<IPython.core.display.Markdown object>"
      ]
     },
     "execution_count": 90,
     "metadata": {},
     "output_type": "execute_result"
    }
   ],
   "source": [
    "Markdown(response6['answer'])"
   ]
  },
  {
   "cell_type": "code",
   "execution_count": 92,
   "metadata": {},
   "outputs": [
    {
     "name": "stdout",
     "output_type": "stream",
     "text": [
      "Evaluate the ethical meaning in the situation of a doctor who cannot find both patients with limited resources.\n",
      "<think>\n",
      "Okay, so I'm trying to understand this situation where a doctor can't save both patients because there are limited resources. The user wants me to evaluate the ethical meaning here. Hmm, let's break it down.\n",
      "\n",
      "First, I know that doctors take an oath to do no harm and help their patients as much as possible. But when resources are scarce, like maybe only one bed or a single dose of medicine left, what should they do? It feels like a tough call because both patients need help, but the doctor can't save everyone.\n",
      "\n",
      "I remember hearing about something called \"triage\" in emergencies, where medical staff have to prioritize who gets treated first based on urgency and chances of survival. Maybe that's relevant here. But how does triage fit into ethics? It must involve making tough decisions quickly when resources are limited.\n",
      "\n",
      "There's also the idea of fairness or justice. How do you decide who gets the resource? Should it be based on who arrives first, their condition, age, or maybe other factors like being a healthcare worker or having family dependents? Each choice has its own set of ethical issues.\n",
      "\n",
      "I think about different ethical theories here. Utilitarianism would suggest choosing the option that maximizes overall good, so saving the patient with a higher chance of survival. Deontological ethics might focus on duties and rules, like treating each patient equally regardless of outcomes. Then there's virtue ethics, which would look at what a morally good person would do in this situation.\n",
      "\n",
      "Another angle is the principle of double effect. If the doctor can only save one, maybe they have to choose the action that results in the least harm or best outcome overall. But I'm not entirely sure how that applies here.\n",
      "\n",
      "I also wonder about the emotional impact on the doctor. Making such a decision must be incredibly stressful and could lead to guilt if something goes wrong. How does the medical community support doctors in these situations?\n",
      "\n",
      "There's also the legal aspect. Are there laws or guidelines that dictate how resources should be allocated? I think some places have policies, but it might vary.\n",
      "\n",
      "I'm trying to piece together all these elements: triage, ethical theories, emotional effects, legal frameworks, and fairness. It seems like a complex issue with no easy answers. Each decision has consequences, both for the patients and the doctor involved.\n",
      "\n",
      "Maybe the key is to approach this systematically, considering each patient's chances, the resources available, and following established protocols as much as possible. But even then, it's not straightforward because every situation is unique.\n",
      "\n",
      "I should also consider cultural or societal values. Different communities might prioritize different factors when allocating scarce resources. For example, some might value saving the youngest, others might look at contribution to society.\n",
      "\n",
      "In summary, evaluating the ethical meaning involves looking at how doctors balance their duties, apply ethical principles, and make tough decisions under pressure with limited resources. It's a mix of practicality, theory, emotion, and sometimes unavoidable moral dilemmas.\n",
      "</think>\n",
      "\n",
      "The ethical evaluation of a doctor facing the dilemma of allocating scarce resources to two patients involves several key considerations:\n",
      "\n",
      "1. **Triage and Prioritization**: The concept of triage is crucial, where medical staff prioritize treatment based on urgency, chances of survival, and available resources. This approach aims to maximize positive outcomes under stress.\n",
      "\n",
      "2. **Ethical Theories**:\n",
      "   - **Utilitarianism**: Focuses on maximizing overall good by saving the patient with a higher chance of survival.\n",
      "   - **Deontological Ethics**: Emphasizes duties and rules, advocating for equal treatment regardless of outcomes.\n",
      "   - **Virtue Ethics**: Considers what a morally good person would do, focusing on character and compassion.\n",
      "\n",
      "3. **Principle of Double Effect**: This principle guides decisions by choosing actions that result in the least harm or best overall outcome, even if negative consequences occur.\n",
      "\n",
      "4. **Emotional Impact**: The decision-making process is fraught with stress and potential guilt, highlighting the need for support systems to aid doctors in coping with such choices.\n",
      "\n",
      "5. **Legal and Cultural Factors**: Laws, guidelines, and societal values influence resource allocation. Different cultures may prioritize factors like age, contribution to society, or other criteria.\n",
      "\n",
      "6. **Systematic Approach**: Doctors should approach decisions systematically, considering each patient's chances, following protocols, while acknowledging the uniqueness of each situation.\n",
      "\n",
      "In conclusion, the ethical meaning lies in balancing duties, applying theoretical principles, and making tough decisions under pressure, guided by a mix of practicality, emotion, and unavoidable moral dilemmas.\n",
      "의사가 제한된 자원으로 두 환자 모두를 구할 수 없는 상황에서 윤리적 의미를 평가하는 것은 다음과 같은 주요 고려 사항을 포함합니다:\n",
      "\n",
      "1. **트리아지와 우선순위 설정**: 트리아지 원칙은 의료진이 긴급성, 생존 가능성, 그리고 이용 가능한 자원을 기준으로 치료 우선순위를 정하는 것을 강조합니다. 이 접근법은 스트레스 상황에서 긍정적인 결과를 극대화하는 것을 목표로 합니다.\n",
      "\n",
      "2. **윤리 이론**:\n",
      "   - **공리주의**: 최대한 많은 사람에게 이익을 가져다주기 위해 생존 가능성이 더 높은 환자를 구하는 것을 중시합니다.\n",
      "   - **의무론**: 규칙과 의무에 초점을 맞추어 결과와 무관하게 모든 환자에게 동등한 치료를 제공하는 것을 주장합니다.\n",
      "   - **덕 윤리**: 도덕적으로 훌륭한 사람이 어떤 행동을 취할지 고려하며, 인품과 연민을 중시합니다.\n",
      "\n",
      "3. **이중 효과의 원칙**: 부정적인 결과가 발생하더라도 최소한의 해를 끼치거나 최선의 전체적인 결과를 가져오는 행동을 선택하는 원칙입니다.\n",
      "\n",
      "4. **감정적 영향**: 이러한 결정 과정은 스트레스와 잠재적인 죄책감을 동반하므로 의사들이 이러한 선택을 하는 데 도움이 되는 지원 체계가 필요합니다.\n",
      "\n",
      "5. **법률적 및 문화적 요인**: 법률, 지침, 그리고 사회적 가치가 자원 배분에 영향을 미칩니다. 다양한 문화는 나이, 사회적 기여도, 또는 다른 기준을 우선시할 수 있습니다.\n",
      "\n",
      "6. **체계적인 접근법**: 의사들은 각 환자의 생존 가능성, 프로토콜 준수를 고려하면서도 각 상황의 독특함을 인정하는 체계적인 방법으로 결정을 내려야 합니다.\n",
      "\n",
      "결론적으로, 이 윤리적 의미는 의무를 균형 있게 유지하고 이론적 원칙을 적용하며, 압박 속에서 실용성, 감정, 그리고 불가피한 도덕적 딜레마를 포함한 어려운 결정을 내리는 과정에 있습니다.\n"
     ]
    }
   ],
   "source": [
    "response7=graph.invoke({'question':\"제한된 자원으로 두 환자를 모두 구할 수 없는 의사의 상황에서 윤리적 의미를 평가하세요. 의료적 측면과 도덕적 측면을 모두 고려하십시오.\"})"
   ]
  },
  {
   "cell_type": "code",
   "execution_count": 93,
   "metadata": {},
   "outputs": [
    {
     "data": {
      "text/markdown": [
       "의사가 제한된 자원으로 두 환자 모두를 구할 수 없는 상황에서 윤리적 의미를 평가하는 것은 다음과 같은 주요 고려 사항을 포함합니다:\n",
       "\n",
       "1. **트리아지와 우선순위 설정**: 트리아지 원칙은 의료진이 긴급성, 생존 가능성, 그리고 이용 가능한 자원을 기준으로 치료 우선순위를 정하는 것을 강조합니다. 이 접근법은 스트레스 상황에서 긍정적인 결과를 극대화하는 것을 목표로 합니다.\n",
       "\n",
       "2. **윤리 이론**:\n",
       "   - **공리주의**: 최대한 많은 사람에게 이익을 가져다주기 위해 생존 가능성이 더 높은 환자를 구하는 것을 중시합니다.\n",
       "   - **의무론**: 규칙과 의무에 초점을 맞추어 결과와 무관하게 모든 환자에게 동등한 치료를 제공하는 것을 주장합니다.\n",
       "   - **덕 윤리**: 도덕적으로 훌륭한 사람이 어떤 행동을 취할지 고려하며, 인품과 연민을 중시합니다.\n",
       "\n",
       "3. **이중 효과의 원칙**: 부정적인 결과가 발생하더라도 최소한의 해를 끼치거나 최선의 전체적인 결과를 가져오는 행동을 선택하는 원칙입니다.\n",
       "\n",
       "4. **감정적 영향**: 이러한 결정 과정은 스트레스와 잠재적인 죄책감을 동반하므로 의사들이 이러한 선택을 하는 데 도움이 되는 지원 체계가 필요합니다.\n",
       "\n",
       "5. **법률적 및 문화적 요인**: 법률, 지침, 그리고 사회적 가치가 자원 배분에 영향을 미칩니다. 다양한 문화는 나이, 사회적 기여도, 또는 다른 기준을 우선시할 수 있습니다.\n",
       "\n",
       "6. **체계적인 접근법**: 의사들은 각 환자의 생존 가능성, 프로토콜 준수를 고려하면서도 각 상황의 독특함을 인정하는 체계적인 방법으로 결정을 내려야 합니다.\n",
       "\n",
       "결론적으로, 이 윤리적 의미는 의무를 균형 있게 유지하고 이론적 원칙을 적용하며, 압박 속에서 실용성, 감정, 그리고 불가피한 도덕적 딜레마를 포함한 어려운 결정을 내리는 과정에 있습니다."
      ],
      "text/plain": [
       "<IPython.core.display.Markdown object>"
      ]
     },
     "execution_count": 93,
     "metadata": {},
     "output_type": "execute_result"
    }
   ],
   "source": [
    "Markdown(response7['answer'])"
   ]
  }
 ],
 "metadata": {
  "kernelspec": {
   "display_name": "py31012",
   "language": "python",
   "name": "python3"
  },
  "language_info": {
   "codemirror_mode": {
    "name": "ipython",
    "version": 3
   },
   "file_extension": ".py",
   "mimetype": "text/x-python",
   "name": "python",
   "nbconvert_exporter": "python",
   "pygments_lexer": "ipython3",
   "version": "3.10.12"
  }
 },
 "nbformat": 4,
 "nbformat_minor": 2
}
