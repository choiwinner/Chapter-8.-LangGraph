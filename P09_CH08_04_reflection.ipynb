{
 "cells": [
  {
   "cell_type": "markdown",
   "id": "492f050f-3dc3-44fa-8fdc-03362afd5488",
   "metadata": {},
   "source": [
    "# Reflection\n",
    "\n",
    "\n",
    "LLM 에이전트 구축의 맥락에서, 성찰(reflection)은 LLM이 자신의 과거 단계를 관찰하도록 하여(도구나 환경으로부터의 잠재적인 관찰과 함께) 선택된 행동의 질을 평가하는 과정을 말합니다. 이러한 과정은 재계획, 검색 또는 평가와 같은 작업에 사용됩니다.\n",
    "\n",
    "<img src=\"./img/reflection.png\" alt=\"Reflection\" width=\"640\"/>\n",
    "\n",
    "이 노트북은 LangGraph에서 매우 간단한 형태의 성찰을 시연합니다."
   ]
  },
  {
   "cell_type": "markdown",
   "id": "3ef94e7e-c9a5-4eee-a865-acf411b5c235",
   "metadata": {},
   "source": [
    "#### Prerequisites"
   ]
  },
  {
   "cell_type": "code",
   "execution_count": null,
   "id": "8b323f43-328b-4b4b-88b0-6c84dc0a1d60",
   "metadata": {},
   "outputs": [],
   "source": [
    "!pip install -U --quiet  langgraph langchain-fireworks\n",
    "!pip install -U --quiet tavily-python"
   ]
  },
  {
   "cell_type": "code",
   "execution_count": 1,
   "id": "3368f330-cad6-4d35-a291-68fbf4389d98",
   "metadata": {},
   "outputs": [],
   "source": [
    "import getpass\n",
    "import os\n",
    "\n",
    "\n",
    "def _set_env(var: str):\n",
    "    if not os.environ.get(var):\n",
    "        os.environ[var] = getpass.getpass(f\"{var}: \")\n",
    "\n",
    "\n",
    "_set_env(\"OPENAI_API_KEY\")\n",
    "_set_env(\"TAVILY_API_KEY\")"
   ]
  },
  {
   "cell_type": "markdown",
   "id": "f27bcc4a-aaa5-46bd-8163-3e0e90cb66e6",
   "metadata": {},
   "source": [
    "## Generate\n",
    "\n",
    "이 예시에서는 “5단락 에세이” 생성기를 만들 것입니다. \n"
   ]
  },
  {
   "cell_type": "code",
   "execution_count": 2,
   "id": "cc10028f-9cef-4936-9419-cbdf06d24f1e",
   "metadata": {},
   "outputs": [],
   "source": [
    "from langchain_core.messages import AIMessage, BaseMessage, HumanMessage\n",
    "from langchain_core.prompts import ChatPromptTemplate, MessagesPlaceholder\n",
    "from langchain_openai import ChatOpenAI\n",
    "\n",
    "prompt = ChatPromptTemplate.from_messages(\n",
    "    [\n",
    "        (\n",
    "            \"system\",\n",
    "            \"당신은 훌륭한 5단락 에세이를 작성하는 임무를 맡은 에세이 보조자입니다. \"\n",
    "            \"사용자의 요청에 대해 가능한 최고의 에세이를 작성하세요. \"\n",
    "            \"사용자가 비평을 제공하면, 이전 시도의 수정된 버전으로 응답하세요. \"\n",
    "        ),\n",
    "        MessagesPlaceholder(variable_name=\"messages\"),\n",
    "    ]\n",
    ")\n",
    "llm = ChatOpenAI(model=\"gpt-4o\")\n",
    "generate = prompt | llm"
   ]
  },
  {
   "cell_type": "code",
   "execution_count": 3,
   "id": "9bbe25dc-fd1e-4ed5-a3c8-fed830b46d12",
   "metadata": {},
   "outputs": [
    {
     "name": "stdout",
     "output_type": "stream",
     "text": [
      "### AI가 인간의 일자리를 얼마만큼이나 위협할까?\n",
      "\n",
      "인공지능(AI)의 발전은 우리의 삶에 여러 방면에서 긍정적인 변화를 가져왔지만, 동시에 수많은 사람들에게 일자리의 안정성에 대한 불안을 안겨주기도 한다. AI가 인간의 일자리를 얼마나 위협할 것인가는 현재와 미래의 사회적, 경제적 구조를 이해하는 데 중요한 질문이다. 이러한 질문에 대한 답변은 다각적인 분석을 필요로 하며, 기술 발전의 속도, 사회적 적응력, 그리고 정책적 대응에 따라 달라질 수 있다. 본 에세이는 AI가 인간의 일자리에 미치는 영향을 다섯 가지 주요 측면에서 분석한다.\n",
      "\n",
      "첫째, AI의 자동화 능력은 단순하고 반복적인 작업을 대체할 가능성이 높다. 제조업, 물류, 그리고 서비스업에서 이미 많은 일자리가 자동화되고 있다. 예를 들어, 공장에서의 로봇 팔과 자율주행 트럭은 인간 노동자를 대체하고 있으며, 이는 생산성 향상과 비용 절감에 기여한다. 하지만 이러한 변화는 단순 노동자들에게 실직의 위기를 초래할 수 있다. 따라서 사회는 직업 교육과 재훈련 프로그램을 통해 이들의 재취업을 돕는 방안을 마련해야 한다.\n",
      "\n",
      "둘째, 고급 지식 노동자들 역시 AI의 위협에서 자유롭지 않다. 의료 진단, 금융 분석, 법률 자문과 같은 분야에서 AI의 적용이 점차 확대되고 있다. 예를 들어, IBM의 왓슨(Watson)은 복잡한 의료 데이터를 분석하여 의사보다 더 정밀한 진단을 내릴 수 있는 능력을 갖추고 있다. 이는 전문가들의 업무 효율성을 높이는 동시에, 일부 전문직의 수요를 감소시킬 수 있다. 따라서 이러한 변화에 대비해 고급 인적 자원은 AI와 협력하는 새로운 업무 형태를 학습해야 한다.\n",
      "\n",
      "셋째, AI는 새로운 일자리와 산업을 창출할 수 있는 잠재력을 가지고 있다. AI 기술 개발, 유지보수, 그리고 윤리적 문제 해결과 같은 분야에서 새로운 일자리가 생겨날 것이다. AI가 인간의 일자리를 대체하는 동시에, 새로운 기회를 창출할 수 있다는 점은 주목할 만하다. 예를 들어, 데이터 과학자, 머신러닝 엔지니어, AI 윤리 전문가와 같은 직업군이 급속도로 성장하고 있다. 따라서 교육 시스템은 이러한 신흥 분야에 적합한 인재를 양성하는 방향으로 진화해야 한다.\n",
      "\n",
      "넷째, AI의 발전은 경제적 불평등을 심화시킬 가능성이 있다. 기술을 소유하고 통제하는 소수의 기업과 개인은 막대한 부를 축적하게 되지만, 그 외의 사람들은 일자리 상실과 소득 감소로 고통받을 수 있다. 이러한 경제적 격차는 사회적 불안정과 갈등을 초래할 수 있다. 이를 방지하기 위해 정부와 기업은 보다 포괄적이고 공정한 분배 정책을 마련할 필요가 있다.\n",
      "\n",
      "마지막으로, AI의 발전은 인간의 창의성과 감성 지능을 요구하는 직업의 가치를 재조명하게 만들 것이다. 예술, 문화, 교육, 복지와 같은 분야는 인간만이 제공할 수 있는 고유한 가치를 지닌다. AI가 아무리 발전하더라도 이러한 영역에서의 인간 노동은 대체될 수 없다. 따라서 사회는 인간의 고유한 능력을 더욱 중요시하고, 이를 개발하고 보호하는 방향으로 나아가야 한다.\n",
      "\n",
      "결론적으로, AI의 발전은 인간의 일자리에 큰 영향을 미칠 것이 분명하다. 단순 노동부터 전문직까지 다양한 분야에서 AI가 일자리를 대체할 가능성이 존재한다. 그러나 동시에 AI는 새로운 일자리와 기회를 창출할 수 있는 잠재력을 가지고 있다. 따라서 사회는 이러한 변화에 대비해 직업 교육과 재훈련 프로그램을 강화하고, 공정한 분배 정책을 추진하며, 인간의 고유한 능력을 보호하는 방향으로 나아가야 한다. AI와 인간이 공존하는 미래를 위해 우리는 지금부터 준비해야 할 것이다."
     ]
    }
   ],
   "source": [
    "essay = \"\"\n",
    "request = HumanMessage(\n",
    "    content=\"AI가 인간의 일자리를 얼마만큼이나 위협할까에 대한 에세이를 작성하세요.\"\n",
    ")\n",
    "for chunk in generate.stream({\"messages\": [request]}):\n",
    "    print(chunk.content, end=\"\")\n",
    "    essay += chunk.content"
   ]
  },
  {
   "cell_type": "markdown",
   "id": "b0b276e7-c392-4eec-be75-c77bd130379d",
   "metadata": {},
   "source": [
    "### Reflect"
   ]
  },
  {
   "cell_type": "code",
   "execution_count": 4,
   "id": "a705be92-88c0-4f4f-b4c2-cdcd9af8cb2c",
   "metadata": {},
   "outputs": [],
   "source": [
    "reflection_prompt = ChatPromptTemplate.from_messages(\n",
    "    [\n",
    "        (\n",
    "            \"system\",\n",
    "            \"당신은 에세이 제출물을 채점하는 교사입니다. 사용자의 제출물에 대해 비평과 추천 사항을 작성하세요.\"\n",
    "            \"길이, 깊이, 스타일 등과 관련된 상세한 추천 사항을 제공하세요.\"\n",
    "        ),\n",
    "        MessagesPlaceholder(variable_name=\"messages\"),\n",
    "    ]\n",
    ")\n",
    "reflect = reflection_prompt | llm"
   ]
  },
  {
   "cell_type": "code",
   "execution_count": 5,
   "id": "16c5eb2a-8bce-48ab-b87d-9dacb9b64ac6",
   "metadata": {},
   "outputs": [
    {
     "name": "stdout",
     "output_type": "stream",
     "text": [
      "### 비평 및 추천 사항\n",
      "\n",
      "**길이와 깊이:**\n",
      "에세이는 AI가 인간의 일자리에 미치는 영향을 다각도로 분석하고 있으며, 충분한 길이와 깊이를 가지고 있습니다. 다섯 가지 주요 측면을 통해 주제를 포괄적으로 다루고 있어 독자에게 명확한 이해를 제공합니다. 그러나 몇 가지 측면에서 더 구체적인 사례나 통계 데이터를 추가하면 더욱 설득력 있는 에세이가 될 수 있습니다.\n",
      "\n",
      "**구조:**\n",
      "문단 구조가 잘 정리되어 있고, 각 문단이 명확하게 주제를 다루고 있습니다. 서론, 본론, 결론이 명확하게 구분되어 있으며, 논리적인 흐름이 잘 유지되고 있습니다. 다만, 각 문단의 연결이 조금 더 매끄러울 수 있습니다. 예를 들어, 한 문단의 결론이 다음 문단의 시작과 자연스럽게 이어지도록 하면 독자가 읽기 더 편할 것입니다.\n",
      "\n",
      "**스타일:**\n",
      "문체는 학술적이고 객관적인 톤을 유지하고 있어 주제에 잘 맞습니다. 그러나 일부 문장은 다소 길고 복잡하여 읽기 어렵게 느껴질 수 있습니다. 문장을 간결하게 다듬고, 중요한 포인트를 강조하는 것이 좋습니다. 예를 들어, \"따라서 사회는 직업 교육과 재훈련 프로그램을 통해 이들의 재취업을 돕는 방안을 마련해야 한다\"는 문장을 \"사회는 직업 교육과 재훈련 프로그램을 통해 실직자들을 재취업시킬 방안을 마련해야 한다\"로 간단히 바꿀 수 있습니다.\n",
      "\n",
      "**추천 사항:**\n",
      "\n",
      "1. **구체적인 사례 추가:** 각 문단에서 다루는 주제에 대한 구체적인 사례나 통계 데이터를 추가하면 더욱 설득력 있는 에세이가 될 것입니다. 예를 들어, \"제조업, 물류, 그리고 서비스업에서 이미 많은 일자리가 자동화되고 있다\"는 문장에 구체적인 사례(예: 특정 기업의 자동화 사례)를 첨부하면 좋습니다.\n",
      "\n",
      "2. **문단 연결:** 각 문단의 결론과 다음 문단의 시작이 자연스럽게 연결되도록 문장의 연결을 개선해 보세요. 예를 들어, \"따라서 사회는 직업 교육과 재훈련 프로그램을 통해 이들의 재취업을 돕는 방안을 마련해야 한다\" 뒤에 \"이와 같은 변화는 단순 노동자뿐만 아니라 고급 지식 노동자들에게도 영향을 미친다\"와 같은 문장을 추가해 문단 간의 연결성을 높일 수 있습니다.\n",
      "\n",
      "3. **문장 간결화:** 일부 문장을 간결하게 다듬어 독자가 이해하기 쉽게 만드세요. 예를 들어, \"AI가 아무리 발전하더라도 이러한 영역에서의 인간 노동은 대체될 수 없다\"는 문장을 \"AI가 발전해도 이러한 직업은 인간만이 할 수 있다\"로 간단히 바꿀 수 있습니다.\n",
      "\n",
      "4. **통계 및 연구 인용:** AI가 일자리에 미치는 영향을 논의할 때, 최근 연구나 통계 데이터를 인용하면 신뢰성을 높일 수 있습니다. 예를 들어, \"한 연구에 따르면, AI로 인해 2030년까지 몇 백만 개의 일자리가 대체될 것으로 예상된다\"와 같은 구체적인 데이터를 인용해 보세요.\n",
      "\n",
      "5. **결론 강화:** 결론 부분에서 제안된 해결책을 더 구체적으로 제시하고, 이를 통해 얻을 수 있는 긍정적인 결과를 강조하면 독자에게 더 큰 인상을 남길 수 있습니다. 예를 들어, \"직업 교육과 재훈련 프로그램을 강화하면, AI와 인간이 공존하는 미래가 더 밝아질 것이다\"와 같은 문장을 추가할 수 있습니다.\n",
      "\n",
      "이러한 추천 사항을 반영하면, 에세이가 더욱 강력하고 설득력 있는 논증을 제공할 수 있을 것입니다. 훌륭한 작업을 하셨고, 앞으로도 더 나은 글쓰기를 위해 노력하시기 바랍니다."
     ]
    }
   ],
   "source": [
    "reflection = \"\"\n",
    "for chunk in reflect.stream({\"messages\": [request, HumanMessage(content=essay)]}):\n",
    "    print(chunk.content, end=\"\")\n",
    "    reflection += chunk.content"
   ]
  },
  {
   "cell_type": "markdown",
   "id": "6daf926c-1174-4e96-91b9-57c57cfce40d",
   "metadata": {},
   "source": [
    "### 반복\n",
    "\n",
    "그리고… 이게 전부입니다! 고정된 단계 수만큼 반복하거나, LLM(또는 다른 검사)를 사용하여 최종 제품이 충분히 좋은지 결정할 수 있습니다."
   ]
  },
  {
   "cell_type": "code",
   "execution_count": 6,
   "id": "dfbf99a8-3aa0-4e09-936e-8452c35fa84d",
   "metadata": {},
   "outputs": [
    {
     "name": "stdout",
     "output_type": "stream",
     "text": [
      "### AI가 인간의 일자리를 얼마만큼이나 위협할까?\n",
      "\n",
      "인공지능(AI)의 발전은 우리의 삶에 여러 방면에서 긍정적인 변화를 가져왔지만, 동시에 수많은 사람들에게 일자리의 안정성에 대한 불안을 안겨주기도 한다. AI가 인간의 일자리를 얼마나 위협할 것인가는 현재와 미래의 사회적, 경제적 구조를 이해하는 데 중요한 질문이다. 이러한 질문에 대한 답변은 다각적인 분석을 필요로 하며, 기술 발전의 속도, 사회적 적응력, 그리고 정책적 대응에 따라 달라질 수 있다. 본 에세이는 AI가 인간의 일자리에 미치는 영향을 다섯 가지 주요 측면에서 분석한다.\n",
      "\n",
      "첫째, AI의 자동화 능력은 단순하고 반복적인 작업을 대체할 가능성이 높다. 제조업, 물류, 그리고 서비스업에서 이미 많은 일자리가 자동화되고 있다. 예를 들어, 아마존의 물류 창고에서는 로봇이 물품을 이동시키고 정리하는 작업을 수행하고 있으며, 이는 생산성 향상과 비용 절감에 기여한다. 하지만 이러한 변화는 단순 노동자들에게 실직의 위기를 초래할 수 있다. 따라서 사회는 직업 교육과 재훈련 프로그램을 통해 실직자들을 재취업시킬 방안을 마련해야 한다. 이와 같은 변화는 단순 노동자뿐만 아니라 고급 지식 노동자들에게도 영향을 미친다.\n",
      "\n",
      "둘째, 고급 지식 노동자들 역시 AI의 위협에서 자유롭지 않다. 의료 진단, 금융 분석, 법률 자문과 같은 분야에서 AI의 적용이 점차 확대되고 있다. 예를 들어, IBM의 왓슨(Watson)은 복잡한 의료 데이터를 분석하여 의사보다 더 정밀한 진단을 내릴 수 있는 능력을 갖추고 있다. 이는 전문가들의 업무 효율성을 높이는 동시에, 일부 전문직의 수요를 감소시킬 수 있다. 따라서 이러한 변화에 대비해 고급 인적 자원은 AI와 협력하는 새로운 업무 형태를 학습해야 한다. 예를 들어, 금융 분석가들은 AI를 이용해 더욱 정교한 투자 전략을 수립할 수 있는 능력을 길러야 할 것이다.\n",
      "\n",
      "셋째, AI는 새로운 일자리와 산업을 창출할 수 있는 잠재력을 가지고 있다. AI 기술 개발, 유지보수, 그리고 윤리적 문제 해결과 같은 분야에서 새로운 일자리가 생겨날 것이다. AI가 인간의 일자리를 대체하는 동시에, 새로운 기회를 창출할 수 있다는 점은 주목할 만하다. 예를 들어, 데이터 과학자, 머신러닝 엔지니어, AI 윤리 전문가와 같은 직업군이 급속도로 성장하고 있다. 따라서 교육 시스템은 이러한 신흥 분야에 적합한 인재를 양성하는 방향으로 진화해야 한다. 한 연구에 따르면, AI로 인해 2030년까지 약 2천 5백만 개의 새로운 일자리가 생길 것으로 예상된다.\n",
      "\n",
      "넷째, AI의 발전은 경제적 불평등을 심화시킬 가능성이 있다. 기술을 소유하고 통제하는 소수의 기업과 개인은 막대한 부를 축적하게 되지만, 그 외의 사람들은 일자리 상실과 소득 감소로 고통받을 수 있다. 이러한 경제적 격차는 사회적 불안정과 갈등을 초래할 수 있다. 이를 방지하기 위해 정부와 기업은 보다 포괄적이고 공정한 분배 정책을 마련할 필요가 있다. 예를 들어, 기본소득제 도입이나 고소득 기업에 대한 추가 과세를 통해 경제적 불평등을 완화할 수 있다.\n",
      "\n",
      "마지막으로, AI의 발전은 인간의 창의성과 감성 지능을 요구하는 직업의 가치를 재조명하게 만들 것이다. 예술, 문화, 교육, 복지와 같은 분야는 인간만이 제공할 수 있는 고유한 가치를 지닌다. AI가 발전해도 이러한 직업은 인간만이 할 수 있다. 따라서 사회는 인간의 고유한 능력을 더욱 중요시하고, 이를 개발하고 보호하는 방향으로 나아가야 한다. 예를 들어, 교사나 상담사의 역할은 AI로 대체될 수 없기 때문에, 이러한 직업군의 중요성을 재인식하고 그 가치를 높여야 한다.\n",
      "\n",
      "결론적으로, AI의 발전은 인간의 일자리에 큰 영향을 미칠 것이 분명하다. 단순 노동부터 전문직까지 다양한 분야에서 AI가 일자리를 대체할 가능성이 존재한다. 그러나 동시에 AI는 새로운 일자리와 기회를 창출할 수 있는 잠재력을 가지고 있다. 따라서 사회는 이러한 변화에 대비해 직업 교육과 재훈련 프로그램을 강화하고, 공정한 분배 정책을 추진하며, 인간의 고유한 능력을 보호하는 방향으로 나아가야 한다. 직업 교육과 재훈련 프로그램을 강화하면, AI와 인간이 공존하는 미래가 더 밝아질 것이다. AI와 인간이 공존하는 미래를 위해 우리는 지금부터 준비해야 할 것이다."
     ]
    }
   ],
   "source": [
    "for chunk in generate.stream(\n",
    "    {\"messages\": [request, AIMessage(content=essay), HumanMessage(content=reflection)]}\n",
    "):\n",
    "    print(chunk.content, end=\"\")"
   ]
  },
  {
   "cell_type": "markdown",
   "id": "b63a9d93-a14d-4e41-a4bb-a4cd31713f44",
   "metadata": {},
   "source": [
    "## Graph 정의하기"
   ]
  },
  {
   "cell_type": "code",
   "execution_count": 7,
   "id": "9e9a9d7c-5d2e-4194-b745-4511ec20db76",
   "metadata": {},
   "outputs": [],
   "source": [
    "from typing import List, Sequence\n",
    "\n",
    "from langgraph.graph import END, MessageGraph\n",
    "\n",
    "\n",
    "async def generation_node(state: Sequence[BaseMessage]):\n",
    "    return await generate.ainvoke({\"messages\": state})\n",
    "\n",
    "\n",
    "async def reflection_node(messages: Sequence[BaseMessage]) -> List[BaseMessage]:\n",
    "    # Other messages we need to adjust\n",
    "    cls_map = {\"ai\": HumanMessage, \"human\": AIMessage}\n",
    "    # First message is the original user request. We hold it the same for all nodes\n",
    "    translated = [messages[0]] + [\n",
    "        cls_map[msg.type](content=msg.content) for msg in messages[1:]\n",
    "    ]\n",
    "    res = await reflect.ainvoke({\"messages\": translated})\n",
    "    # We treat the output of this as human feedback for the generator\n",
    "    return HumanMessage(content=res.content)\n",
    "\n",
    "\n",
    "builder = MessageGraph()\n",
    "builder.add_node(\"generate\", generation_node)\n",
    "builder.add_node(\"reflect\", reflection_node)\n",
    "builder.set_entry_point(\"generate\")\n",
    "\n",
    "\n",
    "def should_continue(state: List[BaseMessage]):\n",
    "    if len(state) > 6:\n",
    "        # End after 3 iterations\n",
    "        return END\n",
    "    return \"reflect\"\n",
    "\n",
    "\n",
    "builder.add_conditional_edges(\"generate\", should_continue)\n",
    "builder.add_edge(\"reflect\", \"generate\")\n",
    "graph = builder.compile()"
   ]
  },
  {
   "cell_type": "code",
   "execution_count": 8,
   "id": "66478a3f-576c-4305-af1f-ce7943ed16a8",
   "metadata": {},
   "outputs": [
    {
     "data": {
      "image/jpeg": "[encoded data removed]",
      "text/plain": [
       "<IPython.core.display.Image object>"
      ]
     },
     "metadata": {},
     "output_type": "display_data"
    }
   ],
   "source": [
    "from IPython.display import Image, display\n",
    "\n",
    "display(Image(graph.get_graph(xray=True).draw_mermaid_png()))"
   ]
  },
  {
   "cell_type": "code",
   "execution_count": 9,
   "id": "06263a07-8a15-4ec3-b692-1c6cef3b1c1f",
   "metadata": {},
   "outputs": [
    {
     "name": "stdout",
     "output_type": "stream",
     "text": [
      "{'generate': AIMessage(content='### 미국 패권: 세계 무대에서의 주도성\\n\\n미국은 20세기와 21세기 초반을 통틀어 세계 정치, 경제, 군사 분야에서 독보적인 패권 국가로 자리매김했다. 이러한 미국의 주도성은 제2차 세계대전 이후 본격적으로 강화되었으며, 냉전 시기를 거쳐 오늘날까지 지속되고 있다. 이 에세이에서는 미국 패권의 역사적 배경, 경제적 영향, 군사적 주도성, 문화적 확산, 그리고 미래 전망에 대해 논의할 것이다.\\n\\n미국의 패권은 제2차 세계대전 이후부터 본격적으로 시작되었다. 전쟁의 승리자로서 미국은 유럽과 아시아의 재건을 주도했고, 마셜 플랜과 같은 경제 프로그램을 통해 전 세계에 영향력을 행사했다. 냉전 기간 동안 미국은 소련과의 경쟁에서 승리하며 자유 민주주의와 자본주의를 전 세계에 확산시키는 데 성공했다. 이러한 역사적 배경은 미국이 세계 정치의 중심에 서게 된 중요한 이유 중 하나였다.\\n\\n경제적 측면에서 미국은 세계 경제를 주도하는 역할을 해왔다. 미국 달러는 사실상 세계의 기축통화로 자리 잡았으며, 월스트리트는 글로벌 금융의 중심지로서 중요한 역할을 담당하고 있다. 또한, 실리콘밸리를 중심으로 한 기술 혁신은 전 세계 경제에 큰 영향을 미쳤다. 이러한 경제적 주도성은 미국이 국제 무역과 금융 시스템에서 중요한 역할을 지속하는 기반이 되고 있다.\\n\\n군사적인 측면에서도 미국은 독보적인 위치를 차지하고 있다. 세계 최대의 군사 예산을 보유하고 있으며, 전 세계에 군사 기지를 두고 있다. 이는 미국이 국제 안보와 평화 유지의 중심 역할을 맡게 하는 주요 요인이다. 또한, NATO와 같은 군사 동맹을 통해 미국은 전 세계적인 안보 네트워크를 구축하고 있다. 이러한 군사적 주도성은 미국의 패권 유지를 위한 중요한 요소이다.\\n\\n미국의 문화적 영향력 또한 무시할 수 없다. 할리우드 영화, 팝 음악, 패스트푸드 등 미국의 문화는 전 세계적으로 큰 인기를 끌고 있다. 이러한 문화적 확산은 미국의 소프트 파워를 강화시키는 역할을 한다. 미국의 가치와 라이프스타일은 전 세계 젊은이들에게 큰 영향을 미치며, 이는 미국의 글로벌 이미지를 긍정적으로 만드는 데 기여한다.\\n\\n미래에 미국의 패권이 계속될지는 불확실하다. 중국과 같은 신흥 강국들이 빠르게 성장하며 미국의 지위를 위협하고 있다. 또한, 국내 정치의 불안정성과 경제적 불평등 문제는 미국 패권의 지속 가능성에 대한 의문을 제기하고 있다. 그러나 미국의 강력한 경제, 군사력, 그리고 문화적 영향력은 여전히 세계 무대에서 중요한 역할을 할 것이다. 따라서 미국 패권의 미래는 여전히 중요한 논의 주제이다.\\n\\n결론적으로, 미국 패권은 역사적 배경, 경제적 영향, 군사적 주도성, 문화적 확산을 통해 형성되고 유지되어왔다. 비록 미래에 도전 과제가 있겠지만, 미국은 여전히 전 세계에서 중요한 역할을 할 것이다. 이러한 미국의 패권은 앞으로도 국제 관계와 세계 질서에 큰 영향을 미칠 것이다.', response_metadata={'token_usage': {'completion_tokens': 764, 'prompt_tokens': 88, 'total_tokens': 852}, 'model_name': 'gpt-4o', 'system_fingerprint': 'fp_3e7d703517', 'finish_reason': 'stop', 'logprobs': None}, id='run-bffa8230-1809-404f-94bb-347009595ae3-0', usage_metadata={'input_tokens': 88, 'output_tokens': 764, 'total_tokens': 852})}\n",
      "---\n",
      "{'reflect': HumanMessage(content='### 비평 및 추천 사항\\n\\n#### 강점\\n1. **구조적 일관성**: 에세이는 명확한 구조를 가지고 있습니다. 서론, 본론, 결론이 잘 구분되어 있으며, 각 단락은 주제에 맞게 잘 조직되어 있습니다.\\n  \\n2. **주제 선택**: 미국 패권이라는 주제는 매우 중요하고 시의적절한 주제입니다. 역사적 배경, 경제적 영향, 군사적 주도성, 문화적 확산, 미래 전망 등 다양한 측면을 다루어 종합적인 시각을 제공합니다.\\n\\n3. **내용의 깊이**: 각 단락에서 다루는 내용이 적절하고 깊이 있습니다. 예를 들어, 경제적 측면에서는 달러의 기축통화 역할과 실리콘밸리를 언급하며, 군사적 측면에서는 NATO와 군사 기지에 대해 논의하는 등 구체적인 예시를 들어 설명하고 있습니다.\\n\\n#### 개선 사항\\n\\n1. **에세이 길이**: 에세이의 길이는 적절하지만, 조금 더 깊이 있는 분석을 위해 추가적인 내용을 포함할 수 있습니다. 특히, 각 측면에 대한 더 구체적인 사례나 통계 자료를 추가하면 좋겠습니다.\\n\\n2. **비판적 시각**: 현재 에세이는 주로 미국의 강점과 영향력을 강조하고 있습니다. 그러나, 미국 패권에 대한 비판적 시각도 포함하면 균형 잡힌 논의가 될 것입니다. 예를 들어, 미국의 군사적 개입이 가져온 부정적인 결과나 경제적 불균형 문제를 다룰 수 있습니다.\\n\\n3. **문체와 스타일**: 문체는 전반적으로 명확하고 이해하기 쉬우나, 조금 더 학술적이고 전문적인 어휘를 사용하면 에세이의 깊이가 더해질 수 있습니다. 또한, 각 단락 사이에 좀 더 매끄러운 전환 문구를 사용하여 흐름을 더욱 자연스럽게 만들 수 있습니다.\\n\\n4. **미래 전망**: 결론 부분에서 미래 전망에 대한 논의가 조금 더 구체적이면 좋겠습니다. 예를 들어, 중국의 부상과 관련된 구체적인 데이터나 미국 국내 정치 상황에 대한 더 자세한 분석을 포함하면 더욱 풍부한 논의가 될 것입니다.\\n\\n5. **참고 문헌**: 에세이는 주장을 뒷받침하는 구체적인 자료나 참고 문헌이 부족합니다. 신뢰할 수 있는 출처를 인용하여 주장을 강화하면 에세이의 신뢰성과 학술적 가치를 높일 수 있습니다.\\n\\n#### 추천 사항\\n\\n1. **추가 연구 및 자료 인용**: 각 주제에 대해 더 깊이 있는 연구를 수행하고, 신뢰할 수 있는 출처를 인용해 주장을 강화하세요. 예를 들어, 경제적 영향에 대해 논의할 때 IMF나 세계은행의 보고서를 참조할 수 있습니다.\\n\\n2. **비판적 분석**: 미국 패권의 부정적인 측면도 다뤄 균형 잡힌 시각을 제공하세요. 예를 들어, 미국의 군사적 개입이 국제사회에 미친 부정적인 영향이나 경제적 불평등 문제를 논의할 수 있습니다.\\n\\n3. **문체 개선**: 좀 더 학술적이고 전문적인 어휘를 사용하여 문체를 개선하세요. 또한, 각 단락 사이에 매끄러운 전환 문구를 사용해 자연스러운 흐름을 만들어 보세요.\\n\\n4. **미래 전망 강화**: 결론 부분에서 미래 전망에 대한 논의를 구체화하세요. 예를 들어, 중국의 부상과 관련된 구체적인 데이터나 미국의 정책 변화를 예측하는 분석을 포함하면 좋습니다.\\n\\n5. **참고 문헌 포함**: 에세이의 신뢰성을 높이기 위해 신뢰할 수 있는 출처를 인용하고 참고 문헌 목록을 포함하세요. 이는 에세이의 학술적 가치를 높이는 데 도움이 됩니다.\\n\\n이러한 추천 사항을 반영하여 수정하면, 에세이의 깊이와 신뢰성이 크게 향상될 것입니다. 전체적으로 매우 훌륭한 에세이이며, 몇 가지 개선을 통해 더욱 완성도 높은 작품이 될 것이라 믿습니다.')}\n",
      "---\n",
      "{'generate': AIMessage(content=\"### 미국 패권: 세계 무대에서의 주도성과 도전\\n\\n미국은 20세기와 21세기 초반을 통틀어 세계 정치, 경제, 군사 분야에서 독보적인 패권 국가로 자리매김했다. 이러한 미국의 주도성은 제2차 세계대전 이후 본격적으로 강화되었으며, 냉전 시기를 거쳐 오늘날까지 지속되고 있다. 이 에세이에서는 미국 패권의 역사적 배경, 경제적 영향, 군사적 주도성, 문화적 확산, 그리고 미래 전망에 대해 논의할 것이다.\\n\\n미국의 패권은 제2차 세계대전 이후부터 본격적으로 시작되었다. 전쟁의 승리자로서 미국은 유럽과 아시아의 재건을 주도했고, 마셜 플랜과 같은 경제 프로그램을 통해 전 세계에 영향력을 행사했다. 냉전 기간 동안 미국은 소련과의 경쟁에서 승리하며 자유 민주주의와 자본주의를 전 세계에 확산시키는 데 성공했다. 이러한 역사적 배경은 미국이 세계 정치의 중심에 서게 된 중요한 이유 중 하나였다.\\n\\n경제적 측면에서 미국은 세계 경제를 주도하는 역할을 해왔다. 미국 달러는 사실상 세계의 기축통화로 자리 잡았으며, 월스트리트는 글로벌 금융의 중심지로서 중요한 역할을 담당하고 있다. 또한, 실리콘밸리를 중심으로 한 기술 혁신은 전 세계 경제에 큰 영향을 미쳤다. 예를 들어, 애플, 구글, 페이스북과 같은 대기업들은 글로벌 시장에서 큰 영향력을 행사하고 있다. 그러나 이러한 경제적 주도성에는 부작용도 있다. 미국의 경제 불평등 문제는 심각하며, 이는 사회적 갈등을 불러일으키고 있다. 또한, 국제 무역에서 미국의 보호주의 정책은 다른 국가들과의 긴장을 초래하기도 한다.\\n\\n군사적인 측면에서도 미국은 독보적인 위치를 차지하고 있다. 세계 최대의 군사 예산을 보유하고 있으며, 전 세계에 군사 기지를 두고 있다. 이는 미국이 국제 안보와 평화 유지의 중심 역할을 맡게 하는 주요 요인이다. 또한, NATO와 같은 군사 동맹을 통해 미국은 전 세계적인 안보 네트워크를 구축하고 있다. 그러나 미국의 군사적 개입은 종종 논란을 일으킨다. 예를 들어, 이라크와 아프가니스탄 전쟁은 많은 인명 피해와 재정적 부담을 초래했으며, 국제 사회에서 미국의 이미지에 부정적인 영향을 미쳤다.\\n\\n미국의 문화적 영향력 또한 무시할 수 없다. 할리우드 영화, 팝 음악, 패스트푸드 등 미국의 문화는 전 세계적으로 큰 인기를 끌고 있다. 이러한 문화적 확산은 미국의 소프트 파워를 강화시키는 역할을 한다. 미국의 가치와 라이프스타일은 전 세계 젊은이들에게 큰 영향을 미치며, 이는 미국의 글로벌 이미지를 긍정적으로 만드는 데 기여한다. 그러나 문화적 확산이 항상 긍정적인 결과만을 초래하는 것은 아니다. 미국 문화의 확산은 종종 다른 국가들의 문화적 다양성을 침해할 수 있으며, 이는 문화적 제국주의로 비판받기도 한다.\\n\\n미래에 미국의 패권이 계속될지는 불확실하다. 중국과 같은 신흥 강국들이 빠르게 성장하며 미국의 지위를 위협하고 있다. 예를 들어, 중국의 경제 성장률은 지난 몇 년간 미국을 능가해왔으며, 중국의 '일대일로' 정책은 아시아와 유럽에서 큰 영향을 미치고 있다. 또한, 미국 내에서는 정치적 분열과 경제적 불평등 문제가 심화되고 있다. 이러한 문제들은 미국의 패권 유지에 큰 도전 과제가 될 것이다. 그러나, 미국의 강력한 경제, 군사력, 그리고 문화적 영향력은 여전히 세계 무대에서 중요한 역할을 할 것이다. 따라서 미국 패권의 미래는 여전히 중요한 논의 주제이다.\\n\\n결론적으로, 미국 패권은 역사적 배경, 경제적 영향, 군사적 주도성, 문화적 확산을 통해 형성되고 유지되어왔다. 비록 미래에 도전 과제가 있겠지만, 미국은 여전히 전 세계에서 중요한 역할을 할 것이다. 이러한 미국의 패권은 앞으로도 국제 관계와 세계 질서에 큰 영향을 미칠 것이다. 이를 이해하기 위해서는 미국의 강점과 약점을 모두 고려한 균형 잡힌 시각이 필요하다.\", response_metadata={'token_usage': {'completion_tokens': 1009, 'prompt_tokens': 1791, 'total_tokens': 2800}, 'model_name': 'gpt-4o', 'system_fingerprint': 'fp_5e6c71d4a8', 'finish_reason': 'stop', 'logprobs': None}, id='run-7949a0b6-2eb7-477f-927d-b0a3786423cf-0', usage_metadata={'input_tokens': 1791, 'output_tokens': 1009, 'total_tokens': 2800})}\n",
      "---\n",
      "{'reflect': HumanMessage(content='### 비평 및 추천 사항\\n\\n#### 강점\\n1. **구조적 일관성**: 에세이는 여전히 명확한 구조를 가지고 있으며, 서론, 본론, 결론이 잘 구분되어 있습니다. 주제의 흐름이 일관되고 논리적입니다.\\n\\n2. **균형 잡힌 논의**: 이전보다 더 균형 잡힌 시각을 제공하고 있습니다. 경제적 불평등 문제, 군사적 개입의 부작용, 문화적 제국주의 등 비판적인 시각을 포함하여 논의의 폭이 넓어졌습니다.\\n\\n3. **구체적 예시**: 구체적인 예시와 자료를 추가하여 내용을 더욱 풍부하게 만들었습니다. 예를 들어, 애플, 구글, 페이스북과 같은 기업들의 역할, 중국의 경제 성장률과 \\'일대일로\\' 정책 등이 언급되었습니다.\\n\\n#### 개선 사항\\n\\n1. **참고 문헌 및 데이터 인용**: 에세이에서 언급된 구체적인 예시와 데이터를 뒷받침하는 참고 문헌이나 출처를 추가하면 신뢰성이 높아질 것입니다. 예를 들어, 중국의 경제 성장률이나 \\'일대일로\\' 정책에 관한 데이터를 제공하는 출처를 명시하세요.\\n\\n2. **문체와 스타일**: 문체는 전반적으로 명확하고 이해하기 쉽게 유지되고 있습니다. 그러나 좀 더 학술적이고 전문적인 어휘를 사용하면 에세이의 깊이가 더해질 수 있습니다. 예를 들어, \\'경제적 불평등 문제\\' 대신 \\'경제적 격차\\'라는 표현을 사용할 수 있습니다.\\n\\n3. **각 단락의 연결성**: 각 단락 사이에 좀 더 매끄러운 전환 문구를 사용하여 흐름을 더욱 자연스럽게 만들 수 있습니다. 예를 들어, 경제적 주도성에서 군사적 주도성으로 넘어갈 때 \"경제적 주도성 못지않게 중요한 또 다른 측면은 군사적 주도성이다\"와 같은 전환 문구를 사용할 수 있습니다.\\n\\n4. **미래 전망 구체화**: 결론 부분에서 미래 전망에 대한 논의를 조금 더 구체화하는 것이 좋습니다. 예를 들어, 미국의 내재적 문제(정치적 분열, 경제적 불평등)가 미국의 패권 유지에 구체적으로 어떤 영향을 미칠 수 있을지에 대한 심도 있는 분석을 포함하세요.\\n\\n#### 추천 사항\\n\\n1. **참고 문헌 추가**: 각 주제에 대해 더 깊이 있는 연구를 수행하고, 신뢰할 수 있는 출처를 인용해 주장을 강화하세요. 예를 들어, 국제기구나 연구기관의 보고서를 참조할 수 있습니다.\\n\\n2. **문체 개선**: 좀 더 학술적이고 전문적인 어휘를 사용하여 문체를 개선하세요. 또한, 각 단락 사이에 매끄러운 전환 문구를 사용해 자연스러운 흐름을 만들어 보세요.\\n\\n3. **미래 전망 강화**: 결론 부분에서 미래 전망에 대한 논의를 구체화하세요. 예를 들어, 중국의 부상과 관련된 구체적인 데이터나 미국의 정책 변화를 예측하는 분석을 포함하면 좋습니다.\\n\\n4. **데이터와 통계 사용**: 미국의 경제적, 군사적, 문화적 주도성에 대한 논의를 구체적으로 뒷받침할 수 있는 최신 데이터와 통계를 포함하세요. 이는 에세이의 신뢰성을 높이는 데 도움이 됩니다.\\n\\n#### 예시 인용\\n1. **경제적 주도성**: \"미국의 경제적 주도성은 명백하다. 2022년 기준으로 미국의 GDP는 전 세계의 약 24.71%를 차지하고 있으며, 이는 중국의 17.8%를 크게 앞서고 있다 (IMF, 2022).\"\\n  \\n2. **군사적 주도성**: \"미국의 군사 예산은 2023년 기준으로 약 7320억 달러에 달하며, 이는 전 세계 군사 예산의 약 39%를 차지하고 있다 (SIPRI, 2023).\"\\n\\n3. **문화적 영향력**: \"2021년 기준으로 할리우드 영화 산업은 전 세계 박스오피스 수익의 약 60%를 차지하고 있으며, 이는 미국 문화의 글로벌 영향력을 잘 보여준다 (MPAA, 2021).\"\\n\\n이러한 추천 사항을 반영하여 수정하면, 에세이의 깊이와 신뢰성이 크게 향상될 것입니다. 전체적으로 매우 훌륭한 에세이이며, 몇 가지 개선을 통해 더욱 완성도 높은 작품이 될 것이라 믿습니다.')}\n",
      "---\n",
      "{'generate': AIMessage(content=\"### 미국 패권: 세계 무대에서의 주도성과 도전\\n\\n미국은 20세기와 21세기 초반을 통틀어 세계 정치, 경제, 군사 분야에서 독보적인 패권 국가로 자리매김했다. 이러한 미국의 주도성은 제2차 세계대전 이후 본격적으로 강화되었으며, 냉전 시기를 거쳐 오늘날까지 지속되고 있다. 이 에세이에서는 미국 패권의 역사적 배경, 경제적 영향, 군사적 주도성, 문화적 확산, 그리고 미래 전망에 대해 논의할 것이다.\\n\\n미국의 패권은 제2차 세계대전 이후부터 본격적으로 시작되었다. 전쟁의 승리자로서 미국은 유럽과 아시아의 재건을 주도했고, 마셜 플랜과 같은 경제 프로그램을 통해 전 세계에 영향력을 행사했다. 냉전 기간 동안 미국은 소련과의 경쟁에서 승리하며 자유 민주주의와 자본주의를 전 세계에 확산시키는 데 성공했다. 이러한 역사적 배경은 미국이 세계 정치의 중심에 서게 된 중요한 이유 중 하나였다.\\n\\n경제적 측면에서 미국은 세계 경제를 주도하는 역할을 해왔다. 미국 달러는 사실상 세계의 기축통화로 자리 잡았으며, 월스트리트는 글로벌 금융의 중심지로서 중요한 역할을 담당하고 있다. 또한, 실리콘밸리를 중심으로 한 기술 혁신은 전 세계 경제에 큰 영향을 미쳤다. 예를 들어, 애플, 구글, 페이스북과 같은 대기업들은 글로벌 시장에서 큰 영향력을 행사하고 있다. 그러나 이러한 경제적 주도성에는 부작용도 있다. 미국의 경제적 격차 문제는 심각하며, 이는 사회적 갈등을 불러일으키고 있다. 또한, 국제 무역에서 미국의 보호주의 정책은 다른 국가들과의 긴장을 초래하기도 한다.\\n\\n경제적 주도성 못지않게 중요한 또 다른 측면은 군사적 주도성이다. 세계 최대의 군사 예산을 보유하고 있으며, 전 세계에 군사 기지를 두고 있다. 이는 미국이 국제 안보와 평화 유지의 중심 역할을 맡게 하는 주요 요인이다. 또한, NATO와 같은 군사 동맹을 통해 미국은 전 세계적인 안보 네트워크를 구축하고 있다. 그러나 미국의 군사적 개입은 종종 논란을 일으킨다. 예를 들어, 이라크와 아프가니스탄 전쟁은 많은 인명 피해와 재정적 부담을 초래했으며, 국제 사회에서 미국의 이미지에 부정적인 영향을 미쳤다.\\n\\n미국의 문화적 영향력 또한 무시할 수 없다. 할리우드 영화, 팝 음악, 패스트푸드 등 미국의 문화는 전 세계적으로 큰 인기를 끌고 있다. 이러한 문화적 확산은 미국의 소프트 파워를 강화시키는 역할을 한다. 미국의 가치와 라이프스타일은 전 세계 젊은이들에게 큰 영향을 미치며, 이는 미국의 글로벌 이미지를 긍정적으로 만드는 데 기여한다. 그러나 문화적 확산이 항상 긍정적인 결과만을 초래하는 것은 아니다. 미국 문화의 확산은 종종 다른 국가들의 문화적 다양성을 침해할 수 있으며, 이는 문화적 제국주의로 비판받기도 한다.\\n\\n미래에 미국의 패권이 계속될지는 불확실하다. 중국과 같은 신흥 강국들이 빠르게 성장하며 미국의 지위를 위협하고 있다. 예를 들어, 중국의 경제 성장률은 지난 몇 년간 미국을 능가해왔으며, 중국의 '일대일로' 정책은 아시아와 유럽에서 큰 영향을 미치고 있다. 또한, 미국 내에서는 정치적 분열과 경제적 불평등 문제가 심화되고 있다. 이러한 문제들은 미국의 패권 유지에 큰 도전 과제가 될 것이다. 그러나, 미국의 강력한 경제, 군사력, 그리고 문화적 영향력은 여전히 세계 무대에서 중요한 역할을 할 것이다. 따라서 미국 패권의 미래는 여전히 중요한 논의 주제이다.\\n\\n결론적으로, 미국 패권은 역사적 배경, 경제적 영향, 군사적 주도성, 문화적 확산을 통해 형성되고 유지되어왔다. 비록 미래에 도전 과제가 있겠지만, 미국은 여전히 전 세계에서 중요한 역할을 할 것이다. 이러한 미국의 패권은 앞으로도 국제 관계와 세계 질서에 큰 영향을 미칠 것이다. 이를 이해하기 위해서는 미국의 강점과 약점을 모두 고려한 균형 잡힌 시각이 필요하다. \\n\\n### 참고 문헌\\n1. International Monetary Fund (IMF). (2022). World Economic Outlook Database.\\n2. Stockholm International Peace Research Institute (SIPRI). (2023). Military Expenditure Database.\\n3. Motion Picture Association of America (MPAA). (2021). Theatrical Market Statistics.\", response_metadata={'token_usage': {'completion_tokens': 1081, 'prompt_tokens': 3836, 'total_tokens': 4917}, 'model_name': 'gpt-4o', 'system_fingerprint': 'fp_5e6c71d4a8', 'finish_reason': 'stop', 'logprobs': None}, id='run-4f5e245e-153e-4814-be2c-0a0e20a09d78-0', usage_metadata={'input_tokens': 3836, 'output_tokens': 1081, 'total_tokens': 4917})}\n",
      "---\n",
      "{'reflect': HumanMessage(content='### 비평 및 추천 사항\\n\\n#### 강점\\n1. **구조적 일관성**: 에세이는 명확한 구조와 일관된 논리 전개를 가지고 있으며, 서론, 본론, 결론이 잘 구분되어 있습니다.\\n2. **균형 잡힌 논의**: 비판적 시각을 포함하여 미국 패권의 다양한 측면을 균형 있게 다루고 있습니다. 경제적 불평등, 군사적 개입의 부작용, 문화적 제국주의 등 다양한 문제를 언급하여 논의의 깊이를 더했습니다.\\n3. **참고 문헌 추가**: 참고 문헌을 포함하여 신뢰성을 높였습니다. 이는 에세이의 학술적 가치와 신뢰도를 높이는 중요한 요소입니다.\\n4. **구체적 예시**: 구체적인 예시와 자료를 통해 주장을 뒷받침하고 있습니다. 예를 들어, 애플, 구글, 페이스북과 같은 기업들의 역할, 중국의 경제 성장률과 \\'일대일로\\' 정책 등이 언급되었습니다.\\n\\n#### 개선 사항\\n\\n1. **참고 문헌 형식**: 참고 문헌의 형식을 통일하고, 인용된 자료의 정확한 출처와 발행 연도를 명확히 기재하는 것이 좋습니다. 예를 들어, IMF 보고서나 SIPRI 데이터베이스의 정확한 출처를 명시하세요.\\n   \\n2. **문체와 스타일**: 문체는 전반적으로 명확하고 이해하기 쉽게 유지되고 있으나, 더 학술적이고 전문적인 어휘를 사용할 수 있습니다. 예를 들어, \"경제적 격차 문제\" 대신 \"경제적 불평등\"이라는 표현을 사용할 수 있습니다.\\n\\n3. **각 단락의 연결성**: 각 단락 사이에 매끄러운 전환 문구를 사용하여 흐름을 더욱 자연스럽게 만들 수 있습니다. 예를 들어, 경제적 주도성에서 군사적 주도성으로 넘어갈 때 \"경제적 주도성 못지않게 중요한 또 다른 측면은 군사적 주도성이다\"와 같은 전환 문구를 사용할 수 있습니다.\\n\\n4. **미래 전망 구체화**: 결론 부분에서 미래 전망에 대한 논의를 조금 더 구체화하는 것이 좋습니다. 예를 들어, 미국의 내재적 문제(정치적 분열, 경제적 불평등)가 미국의 패권 유지에 구체적으로 어떤 영향을 미칠 수 있을지에 대한 심도 있는 분석을 포함하세요.\\n\\n#### 추천 사항\\n\\n1. **참고 문헌 형식 개선**\\n   - **형식 예시**:\\n     - International Monetary Fund (IMF). (2022). *World Economic Outlook Database*. Retrieved from [IMF Website URL].\\n     - Stockholm International Peace Research Institute (SIPRI). (2023). *Military Expenditure Database*. Retrieved from [SIPRI Website URL].\\n     - Motion Picture Association of America (MPAA). (2021). *Theatrical Market Statistics*. Retrieved from [MPAA Website URL].\\n\\n2. **문체 개선**: 좀 더 학술적이고 전문적인 어휘를 사용하여 문체를 개선하세요. 또한, 각 단락 사이에 매끄러운 전환 문구를 사용해 자연스러운 흐름을 만들어 보세요.\\n\\n3. **데이터와 통계 사용**: 미국의 경제적, 군사적, 문화적 주도성에 대한 논의를 구체적으로 뒷받침할 수 있는 최신 데이터와 통계를 포함하세요. 이는 에세이의 신뢰성을 높이는 데 도움이 됩니다.\\n\\n4. **미래 전망 강화**: 결론 부분에서 미래 전망에 대한 논의를 구체화하세요. 예를 들어, 중국의 부상과 관련된 구체적인 데이터나 미국의 정책 변화를 예측하는 분석을 포함하면 좋습니다.\\n\\n#### 예시 인용\\n1. **경제적 주도성**: \"미국의 경제적 주도성은 명백하다. 2022년 기준으로 미국의 GDP는 전 세계의 약 24.71%를 차지하고 있으며, 이는 중국의 17.8%를 크게 앞서고 있다 (IMF, 2022).\"\\n2. **군사적 주도성**: \"미국의 군사 예산은 2023년 기준으로 약 7320억 달러에 달하며, 이는 전 세계 군사 예산의 약 39%를 차지하고 있다 (SIPRI, 2023).\"\\n3. **문화적 영향력**: \"2021년 기준으로 할리우드 영화 산업은 전 세계 박스오피스 수익의 약 60%를 차지하고 있으며, 이는 미국 문화의 글로벌 영향력을 잘 보여준다 (MPAA, 2021).\"\\n\\n이러한 추천 사항을 반영하여 수정하면, 에세이의 깊이와 신뢰성이 크게 향상될 것입니다. 전체적으로 매우 훌륭한 에세이이며, 몇 가지 개선을 통해 더욱 완성도 높은 작품이 될 것이라 믿습니다.')}\n",
      "---\n",
      "{'generate': AIMessage(content=\"### 미국 패권: 세계 무대에서의 주도성과 도전\\n\\n미국은 20세기와 21세기 초반을 통틀어 세계 정치, 경제, 군사 분야에서 독보적인 패권 국가로 자리매김했다. 이러한 미국의 주도성은 제2차 세계대전 이후 본격적으로 강화되었으며, 냉전 시기를 거쳐 오늘날까지 지속되고 있다. 이 에세이에서는 미국 패권의 역사적 배경, 경제적 영향, 군사적 주도성, 문화적 확산, 그리고 미래 전망에 대해 논의할 것이다.\\n\\n미국의 패권은 제2차 세계대전 이후부터 본격적으로 시작되었다. 전쟁의 승리자로서 미국은 유럽과 아시아의 재건을 주도했고, 마셜 플랜과 같은 경제 프로그램을 통해 전 세계에 영향력을 행사했다. 냉전 기간 동안 미국은 소련과의 경쟁에서 승리하며 자유 민주주의와 자본주의를 전 세계에 확산시키는 데 성공했다. 이러한 역사적 배경은 미국이 세계 정치의 중심에 서게 된 중요한 이유 중 하나였다.\\n\\n경제적 측면에서 미국은 세계 경제를 주도하는 역할을 해왔다. 미국 달러는 사실상 세계의 기축통화로 자리 잡았으며, 월스트리트는 글로벌 금융의 중심지로서 중요한 역할을 담당하고 있다. 또한, 실리콘밸리를 중심으로 한 기술 혁신은 전 세계 경제에 큰 영향을 미쳤다. 예를 들어, 애플, 구글, 페이스북과 같은 대기업들은 글로벌 시장에서 큰 영향력을 행사하고 있다. 그러나 이러한 경제적 주도성에는 부작용도 있다. 미국의 경제적 격차 문제는 심각하며, 이는 사회적 갈등을 불러일으키고 있다. 또한, 국제 무역에서 미국의 보호주의 정책은 다른 국가들과의 긴장을 초래하기도 한다.\\n\\n경제적 주도성 못지않게 중요한 또 다른 측면은 군사적 주도성이다. 세계 최대의 군사 예산을 보유하고 있으며, 전 세계에 군사 기지를 두고 있다. 이는 미국이 국제 안보와 평화 유지의 중심 역할을 맡게 하는 주요 요인이다. 또한, NATO와 같은 군사 동맹을 통해 미국은 전 세계적인 안보 네트워크를 구축하고 있다. 예를 들어, 미국의 군사 예산은 2023년 기준으로 약 7320억 달러에 달하며, 이는 전 세계 군사 예산의 약 39%를 차지하고 있다 (SIPRI, 2023). 그러나 미국의 군사적 개입은 종종 논란을 일으킨다. 이라크와 아프가니스탄 전쟁은 많은 인명 피해와 재정적 부담을 초래했으며, 국제 사회에서 미국의 이미지에 부정적인 영향을 미쳤다.\\n\\n미국의 문화적 영향력 또한 무시할 수 없다. 할리우드 영화, 팝 음악, 패스트푸드 등 미국의 문화는 전 세계적으로 큰 인기를 끌고 있다. 이러한 문화적 확산은 미국의 소프트 파워를 강화시키는 역할을 한다. 예를 들어, 2021년 기준으로 할리우드 영화 산업은 전 세계 박스오피스 수익의 약 60%를 차지하고 있으며, 이는 미국 문화의 글로벌 영향력을 잘 보여준다 (MPAA, 2021). 미국의 가치와 라이프스타일은 전 세계 젊은이들에게 큰 영향을 미치며, 이는 미국의 글로벌 이미지를 긍정적으로 만드는 데 기여한다. 그러나 문화적 확산이 항상 긍정적인 결과만을 초래하는 것은 아니다. 미국 문화의 확산은 종종 다른 국가들의 문화적 다양성을 침해할 수 있으며, 이는 문화적 제국주의로 비판받기도 한다.\\n\\n미래에 미국의 패권이 계속될지는 불확실하다. 중국과 같은 신흥 강국들이 빠르게 성장하며 미국의 지위를 위협하고 있다. 예를 들어, 중국의 경제 성장률은 지난 몇 년간 미국을 능가해왔으며, 중국의 '일대일로' 정책은 아시아와 유럽에서 큰 영향을 미치고 있다 (IMF, 2022). 또한, 미국 내에서는 정치적 분열과 경제적 불평등 문제가 심화되고 있다. 이러한 문제들은 미국의 패권 유지에 큰 도전 과제가 될 것이다. 그러나, 미국의 강력한 경제, 군사력, 그리고 문화적 영향력은 여전히 세계 무대에서 중요한 역할을 할 것이다. 따라서 미국 패권의 미래는 여전히 중요한 논의 주제이다.\\n\\n결론적으로, 미국 패권은 역사적 배경, 경제적 영향, 군사적 주도성, 문화적 확산을 통해 형성되고 유지되어왔다. 비록 미래에 도전 과제가 있겠지만, 미국은 여전히 전 세계에서 중요한 역할을 할 것이다. 이러한 미국의 패권은 앞으로도 국제 관계와 세계 질서에 큰 영향을 미칠 것이다. 이를 이해하기 위해서는 미국의 강점과 약점을 모두 고려한 균형 잡힌 시각이 필요하다.\\n\\n### 참고 문헌\\n1. International Monetary Fund (IMF). (2022). *World Economic Outlook Database*. Retrieved from [IMF Website URL].\\n2. Stockholm International Peace Research Institute (SIPRI). (2023). *Military Expenditure Database*. Retrieved from [SIPRI Website URL].\\n3. Motion Picture Association of America (MPAA). (2021). *Theatrical Market Statistics*. Retrieved from [MPAA Website URL].\", response_metadata={'token_usage': {'completion_tokens': 1220, 'prompt_tokens': 6016, 'total_tokens': 7236}, 'model_name': 'gpt-4o', 'system_fingerprint': 'fp_3e7d703517', 'finish_reason': 'stop', 'logprobs': None}, id='run-2e8827c5-febb-423a-8e5a-2850b51859f4-0', usage_metadata={'input_tokens': 6016, 'output_tokens': 1220, 'total_tokens': 7236})}\n",
      "---\n"
     ]
    }
   ],
   "source": [
    "async for event in graph.astream(\n",
    "    [\n",
    "        HumanMessage(\n",
    "            content=\"미국 패권에 대한 에세이를 작성해줘.\"\n",
    "        )\n",
    "    ],\n",
    "):\n",
    "    print(event)\n",
    "    print(\"---\")"
   ]
  },
  {
   "cell_type": "code",
   "execution_count": 10,
   "id": "394bf0df-fc28-4104-a278-a56c9cb8b10c",
   "metadata": {},
   "outputs": [
    {
     "name": "stdout",
     "output_type": "stream",
     "text": [
      "==================================\u001b[1m Ai Message \u001b[0m==================================\n",
      "\n",
      "### 미국 패권: 세계 무대에서의 주도성과 도전\n",
      "\n",
      "미국은 20세기와 21세기 초반을 통틀어 세계 정치, 경제, 군사 분야에서 독보적인 패권 국가로 자리매김했다. 이러한 미국의 주도성은 제2차 세계대전 이후 본격적으로 강화되었으며, 냉전 시기를 거쳐 오늘날까지 지속되고 있다. 이 에세이에서는 미국 패권의 역사적 배경, 경제적 영향, 군사적 주도성, 문화적 확산, 그리고 미래 전망에 대해 논의할 것이다.\n",
      "\n",
      "미국의 패권은 제2차 세계대전 이후부터 본격적으로 시작되었다. 전쟁의 승리자로서 미국은 유럽과 아시아의 재건을 주도했고, 마셜 플랜과 같은 경제 프로그램을 통해 전 세계에 영향력을 행사했다. 냉전 기간 동안 미국은 소련과의 경쟁에서 승리하며 자유 민주주의와 자본주의를 전 세계에 확산시키는 데 성공했다. 이러한 역사적 배경은 미국이 세계 정치의 중심에 서게 된 중요한 이유 중 하나였다.\n",
      "\n",
      "경제적 측면에서 미국은 세계 경제를 주도하는 역할을 해왔다. 미국 달러는 사실상 세계의 기축통화로 자리 잡았으며, 월스트리트는 글로벌 금융의 중심지로서 중요한 역할을 담당하고 있다. 또한, 실리콘밸리를 중심으로 한 기술 혁신은 전 세계 경제에 큰 영향을 미쳤다. 예를 들어, 애플, 구글, 페이스북과 같은 대기업들은 글로벌 시장에서 큰 영향력을 행사하고 있다. 그러나 이러한 경제적 주도성에는 부작용도 있다. 미국의 경제적 격차 문제는 심각하며, 이는 사회적 갈등을 불러일으키고 있다. 또한, 국제 무역에서 미국의 보호주의 정책은 다른 국가들과의 긴장을 초래하기도 한다.\n",
      "\n",
      "경제적 주도성 못지않게 중요한 또 다른 측면은 군사적 주도성이다. 세계 최대의 군사 예산을 보유하고 있으며, 전 세계에 군사 기지를 두고 있다. 이는 미국이 국제 안보와 평화 유지의 중심 역할을 맡게 하는 주요 요인이다. 또한, NATO와 같은 군사 동맹을 통해 미국은 전 세계적인 안보 네트워크를 구축하고 있다. 예를 들어, 미국의 군사 예산은 2023년 기준으로 약 7320억 달러에 달하며, 이는 전 세계 군사 예산의 약 39%를 차지하고 있다 (SIPRI, 2023). 그러나 미국의 군사적 개입은 종종 논란을 일으킨다. 이라크와 아프가니스탄 전쟁은 많은 인명 피해와 재정적 부담을 초래했으며, 국제 사회에서 미국의 이미지에 부정적인 영향을 미쳤다.\n",
      "\n",
      "미국의 문화적 영향력 또한 무시할 수 없다. 할리우드 영화, 팝 음악, 패스트푸드 등 미국의 문화는 전 세계적으로 큰 인기를 끌고 있다. 이러한 문화적 확산은 미국의 소프트 파워를 강화시키는 역할을 한다. 예를 들어, 2021년 기준으로 할리우드 영화 산업은 전 세계 박스오피스 수익의 약 60%를 차지하고 있으며, 이는 미국 문화의 글로벌 영향력을 잘 보여준다 (MPAA, 2021). 미국의 가치와 라이프스타일은 전 세계 젊은이들에게 큰 영향을 미치며, 이는 미국의 글로벌 이미지를 긍정적으로 만드는 데 기여한다. 그러나 문화적 확산이 항상 긍정적인 결과만을 초래하는 것은 아니다. 미국 문화의 확산은 종종 다른 국가들의 문화적 다양성을 침해할 수 있으며, 이는 문화적 제국주의로 비판받기도 한다.\n",
      "\n",
      "미래에 미국의 패권이 계속될지는 불확실하다. 중국과 같은 신흥 강국들이 빠르게 성장하며 미국의 지위를 위협하고 있다. 예를 들어, 중국의 경제 성장률은 지난 몇 년간 미국을 능가해왔으며, 중국의 '일대일로' 정책은 아시아와 유럽에서 큰 영향을 미치고 있다 (IMF, 2022). 또한, 미국 내에서는 정치적 분열과 경제적 불평등 문제가 심화되고 있다. 이러한 문제들은 미국의 패권 유지에 큰 도전 과제가 될 것이다. 그러나, 미국의 강력한 경제, 군사력, 그리고 문화적 영향력은 여전히 세계 무대에서 중요한 역할을 할 것이다. 따라서 미국 패권의 미래는 여전히 중요한 논의 주제이다.\n",
      "\n",
      "결론적으로, 미국 패권은 역사적 배경, 경제적 영향, 군사적 주도성, 문화적 확산을 통해 형성되고 유지되어왔다. 비록 미래에 도전 과제가 있겠지만, 미국은 여전히 전 세계에서 중요한 역할을 할 것이다. 이러한 미국의 패권은 앞으로도 국제 관계와 세계 질서에 큰 영향을 미칠 것이다. 이를 이해하기 위해서는 미국의 강점과 약점을 모두 고려한 균형 잡힌 시각이 필요하다.\n",
      "\n",
      "### 참고 문헌\n",
      "1. International Monetary Fund (IMF). (2022). *World Economic Outlook Database*. Retrieved from [IMF Website URL].\n",
      "2. Stockholm International Peace Research Institute (SIPRI). (2023). *Military Expenditure Database*. Retrieved from [SIPRI Website URL].\n",
      "3. Motion Picture Association of America (MPAA). (2021). *Theatrical Market Statistics*. Retrieved from [MPAA Website URL].\n"
     ]
    }
   ],
   "source": [
    "ChatPromptTemplate.from_messages([event['generate']]).pretty_print()"
   ]
  },
  {
   "cell_type": "code",
   "execution_count": null,
   "id": "7c0e3efd-7f54-410e-bd31-36185a46b9a8",
   "metadata": {},
   "outputs": [],
   "source": []
  }
 ],
 "metadata": {
  "kernelspec": {
   "display_name": "Python 3 (ipykernel)",
   "language": "python",
   "name": "python3"
  },
  "language_info": {
   "codemirror_mode": {
    "name": "ipython",
    "version": 3
   },
   "file_extension": ".py",
   "mimetype": "text/x-python",
   "name": "python",
   "nbconvert_exporter": "python",
   "pygments_lexer": "ipython3",
   "version": "3.11.9"
  }
 },
 "nbformat": 4,
 "nbformat_minor": 5
}
